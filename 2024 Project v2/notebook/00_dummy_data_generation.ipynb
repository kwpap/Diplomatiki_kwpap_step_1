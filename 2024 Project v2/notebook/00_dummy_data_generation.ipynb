{
 "cells": [
  {
   "cell_type": "code",
   "execution_count": 1,
   "metadata": {},
   "outputs": [],
   "source": [
    "# notebooks/00-data-generation.ipynb\n",
    "\n",
    "import pandas as pd\n",
    "import numpy as np\n",
    "import sympy as sp\n"
   ]
  },
  {
   "cell_type": "code",
   "execution_count": 2,
   "metadata": {},
   "outputs": [
    {
     "name": "stdout",
     "output_type": "stream",
     "text": [
      "Dummy data generated and saved to data/dummy_data/dummy_data.csv\n",
      "Symbolic functions and function pool saved to src/symbolic_functions.py\n"
     ]
    }
   ],
   "source": [
    "# Template\n",
    "# Set the random seed for reproducibility\n",
    "np.random.seed(42)\n",
    "\n",
    "# Define the size of the dummy dataset\n",
    "n_samples = 5\n",
    "\n",
    "# Generate dummy data\n",
    "\n",
    "# Generate dummy data\n",
    "dummy_data = pd.DataFrame({\n",
    "    'id': np.arange(1, n_samples + 1),\n",
    "    'feature1': np.random.normal(loc=0, scale=1, size=n_samples),\n",
    "    'feature2': np.random.uniform(low=0, high=100, size=n_samples),\n",
    "    'feature3': np.random.exponential(scale=1, size=n_samples),\n",
    "    'feature4': np.random.binomial(n=10, p=0.5, size=n_samples),\n",
    "    'category': np.random.choice(['A', 'B', 'C', 'D'], size=n_samples),\n",
    "    'value': np.random.randint(1, 100, size=n_samples),\n",
    "    'boolean': np.random.choice([True, False], size=n_samples),\n",
    "    'date': pd.date_range(start='2023-01-01', periods=n_samples, freq='D')\n",
    "})\n",
    "\n",
    "# Define symbolic variable\n",
    "x = sp.symbols('x')\n",
    "\n",
    "# Define a pool of functions\n",
    "function_pool = [\n",
    "    x**2 + 0.5,\n",
    "    15 * sp.log(x),\n",
    "    sp.sin(x),\n",
    "    sp.exp(x),\n",
    "    x**3 - 2*x + 1\n",
    "]\n",
    "\n",
    "# Assign a random function from the pool to each instance\n",
    "dummy_data['function'] = np.random.choice(function_pool, size=n_samples)\n",
    "\n",
    "# Convert the functions to strings to store in DataFrame\n",
    "#dummy_data['function_str'] = dummy_data['function'].apply(str)\n",
    "\n",
    "# Save the dummy data to the dummy_data folder\n",
    "dummy_data.to_csv('../data/dummy_data/dummy_data.csv', index=False)\n",
    "\n",
    "print(\"Dummy data generated and saved to data/dummy_data/dummy_data.csv\")\n",
    "\n",
    "# Save the symbolic functions and the pool to a file\n",
    "with open('../src/symbolic_functions.py', 'w') as f:\n",
    "    f.write(\"# Symbolic functions for the project\\n\\n\")\n",
    "    f.write(\"import sympy as sp\\n\\n\")\n",
    "    f.write(\"x = sp.symbols('x')\\n\")\n",
    "    f.write(\"function_pool = [\\n\")\n",
    "    for func in function_pool:\n",
    "        f.write(f\"    {sp.srepr(func)},\\n\")\n",
    "    f.write(\"]\\n\")\n",
    "\n",
    "print(\"Symbolic functions and function pool saved to src/symbolic_functions.py\")"
   ]
  },
  {
   "cell_type": "code",
   "execution_count": 3,
   "metadata": {},
   "outputs": [],
   "source": [
    "# Example of reading the data and converting function strings back to symbolic expressions\n",
    "\n",
    "import pandas as pd\n",
    "import sympy as sp\n",
    "\n",
    "# Load the data\n",
    "dummy_data = pd.read_csv('../data/dummy_data/dummy_data.csv')\n",
    "\n",
    "# Convert function strings back to symbolic expressions\n",
    "dummy_data['function_sym'] = dummy_data['function'].apply(sp.sympify)\n",
    "\n",
    "# Example of using the symbolic functions\n",
    "for index, row in dummy_data.iterrows():\n",
    "    function = row['function_sym']\n",
    "    \n",
    "    # Substitute a value into the function\n",
    "    x_val = row['feature1']\n",
    "    function_val = function.subs(sp.symbols('x'), x_val if x_val > 0 else 1)  # Adjust for log and other domain issues\n",
    "   # print(f\"Instance {index + 1}: function({x_val}) = {function_val}\")"
   ]
  }
 ],
 "metadata": {
  "kernelspec": {
   "display_name": "base",
   "language": "python",
   "name": "python3"
  },
  "language_info": {
   "codemirror_mode": {
    "name": "ipython",
    "version": 3
   },
   "file_extension": ".py",
   "mimetype": "text/x-python",
   "name": "python",
   "nbconvert_exporter": "python",
   "pygments_lexer": "ipython3",
   "version": "3.12.4"
  }
 },
 "nbformat": 4,
 "nbformat_minor": 2
}
