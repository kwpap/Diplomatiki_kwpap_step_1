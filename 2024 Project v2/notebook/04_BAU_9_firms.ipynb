{
 "cells": [
  {
   "cell_type": "code",
   "execution_count": 1,
   "metadata": {},
   "outputs": [],
   "source": [
    "from funkwpap import sympy_to_gurobi, Firm, Country, Sector, Regulator, get_emission\n",
    "import sympy as sp, pandas as pd, numpy as np, tqdm, time, sys\n",
    "from gurobipy import Model, LinExpr, QuadExpr, GRB\n",
    "x = sp.symbols('x')\n",
    "y = sp.symbols('y')"
   ]
  },
  {
   "cell_type": "code",
   "execution_count": 2,
   "metadata": {},
   "outputs": [
    {
     "name": "stdout",
     "output_type": "stream",
     "text": [
      "[Firm(id=1, name='firm1', sector_id=1, country_id=1, actual_output=0, emission=0, profit=0), Firm(id=2, name='firm2', sector_id=1, country_id=2, actual_output=0, emission=0, profit=0), Firm(id=3, name='firm3', sector_id=1, country_id=3, actual_output=0, emission=0, profit=0)]\n",
      "[Firm(id=1, name='firm1', sector_id=1, country_id=1, actual_output=0, emission=0, profit=0), Firm(id=4, name='firm4', sector_id=2, country_id=1, actual_output=0, emission=0, profit=0), Firm(id=7, name='firm7', sector_id=3, country_id=1, actual_output=0, emission=0, profit=0)]\n",
      "{1: Firm(id=1, name='firm1', sector_id=1, country_id=1, actual_output=0, emission=0, profit=0), 2: Firm(id=2, name='firm2', sector_id=1, country_id=2, actual_output=0, emission=0, profit=0), 3: Firm(id=3, name='firm3', sector_id=1, country_id=3, actual_output=0, emission=0, profit=0), 4: Firm(id=4, name='firm4', sector_id=2, country_id=1, actual_output=0, emission=0, profit=0), 5: Firm(id=5, name='firm5', sector_id=2, country_id=2, actual_output=0, emission=0, profit=0), 6: Firm(id=6, name='firm6', sector_id=2, country_id=3, actual_output=0, emission=0, profit=0), 7: Firm(id=7, name='firm7', sector_id=3, country_id=1, actual_output=0, emission=0, profit=0), 8: Firm(id=8, name='firm8', sector_id=3, country_id=2, actual_output=0, emission=0, profit=0), 9: Firm(id=9, name='firm9', sector_id=3, country_id=3, actual_output=0, emission=0, profit=0)}\n",
      "firm1 cement DE\n",
      "firm2 cement FI\n",
      "firm3 cement GR\n",
      "firm4 steel DE\n",
      "firm5 steel FI\n",
      "firm6 steel GR\n",
      "firm7 paper DE\n",
      "firm8 paper FI\n",
      "firm9 paper GR\n"
     ]
    }
   ],
   "source": [
    "\n",
    "# Create Sectors and Countries\n",
    "Regulator1 = Regulator('EU', permit_price= 2, emission_cap= 100)\n",
    "sector1 = Sector('cement', price_demand_function= 100 - 0.1*x, free_emission_multiplier= 0.1, regulator= Regulator1)\n",
    "sector2 = Sector('steel', price_demand_function=150 - 0.1*x, free_emission_multiplier= 0.05, regulator= Regulator1)\n",
    "sector3 = Sector('paper', price_demand_function= 200 - 0.02*x**1.5, free_emission_multiplier= 0.1, regulator= Regulator1)\n",
    "country1 = Country('DE', 1, regulator= Regulator1)\n",
    "country2 = Country('FI', 0.5, regulator= Regulator1)\n",
    "country3 = Country('GR', size= 0.1, regulator= Regulator1)\n",
    "\n",
    "# Create Firms using objects\n",
    "firm1 = Firm('firm1', 1, 1, x*0, 0.1*sp.exp('x') + 100/y**2, 0, 0, 0, regulator= Regulator1)\n",
    "firm2 = Firm('firm2', 1, 2, x*0, 5*x**3.2 + 40/y**2, 0, 0, 0, regulator= Regulator1)\n",
    "firm3 = Firm('firm3', 1, 3, x*0, x**5.2 + 30/y**2, 0, 0, 0, regulator= Regulator1)\n",
    "firm4 = Firm('firm4', 2, 1, x*0, x**3.3 + 20/y**2, 0, 0, 0, regulator= Regulator1)\n",
    "firm5 = Firm('firm5', 2, 2, x*0, x**2.3 + 20/y**2, 0, 0, 0, regulator= Regulator1)\n",
    "firm6 = Firm('firm6', 2, 3, x*0, x**3.2 + 15/y**2, 0, 0, 0, regulator= Regulator1)\n",
    "firm7 = Firm('firm7', 3, 1, x*0, x**4.1 + 40/y**2, 0, 0, 0, regulator= Regulator1)\n",
    "firm8 = Firm('firm8', 3, 2, x*0, x**5.1 + 50/y**2, 0, 0, 0, regulator= Regulator1)\n",
    "firm9 = Firm('firm9', 3, 3, x*0, x**5 + 60/y**2, 0, 0, 0, regulator= Regulator1)\n",
    "\n",
    "\n",
    "print(sector1.firms)  # List of firms in sector1\n",
    "print(country1.firms)  # List of firms in country1\n",
    "print(Regulator1.firm_registry)  # Dictionary of all firms\n",
    "\n",
    "for firm in Regulator1.firm_registry.values():\n",
    "    print(firm.name, firm.sector.name, firm.country.name)\n"
   ]
  },
  {
   "cell_type": "code",
   "execution_count": 3,
   "metadata": {},
   "outputs": [],
   "source": [
    "#Regulator1.optimize_them_all(precision = 0.1, print_diff = True, BAU = True)"
   ]
  },
  {
   "cell_type": "code",
   "execution_count": 4,
   "metadata": {},
   "outputs": [
    {
     "name": "stdout",
     "output_type": "stream",
     "text": [
      "firm1 cement DE 0 0 0\n",
      "firm2 cement FI 0 0 0\n",
      "firm3 cement GR 0 0 0\n",
      "firm4 steel DE 0 0 0\n",
      "firm5 steel FI 0 0 0\n",
      "firm6 steel GR 0 0 0\n",
      "firm7 paper DE 0 0 0\n",
      "firm8 paper FI 0 0 0\n",
      "firm9 paper GR 0 0 0\n"
     ]
    }
   ],
   "source": [
    "for firm in Regulator1.firm_registry.values():\n",
    "    print(firm.name, firm.sector.name, firm.country.name, firm.actual_output, firm.emission, firm.profit)"
   ]
  },
  {
   "cell_type": "code",
   "execution_count": 5,
   "metadata": {},
   "outputs": [
    {
     "name": "stdout",
     "output_type": "stream",
     "text": [
      "Set parameter Username\n",
      "Academic license - for non-commercial use only - expires 2025-08-14\n",
      "Max diff: 0.00851714"
     ]
    }
   ],
   "source": [
    "Regulator1.BAU_calculator(print_diff = True)"
   ]
  },
  {
   "cell_type": "code",
   "execution_count": 6,
   "metadata": {},
   "outputs": [
    {
     "name": "stdout",
     "output_type": "stream",
     "text": [
      "Firm name, Sector, Country, Actual output, Emission, Profit, BAU profit, BAU emission\n",
      "firm1 cement DE 257.32525385607016 0.0 6273.590765913685 6273.590765913685 257.32525385607016\n",
      "firm2 cement FI 257.32525385607016 0.0 6273.590765913685 6273.590765913685 257.32525385607016\n",
      "firm3 cement GR 241.54945043799546 0.0 5888.976612559498 5888.976612559498 241.54945043799546\n",
      "firm4 steel DE 376.13222749306016 0.0 13977.198356291676 13977.198356291676 376.13222749306016\n",
      "firm5 steel FI 376.13222749306016 0.0 13977.198356291676 13977.198356291676 376.13222749306016\n",
      "firm6 steel GR 376.13222749306016 0.0 13977.198356291676 13977.198356291676 376.13222749306016\n",
      "firm7 paper DE 118.62743152590413 0.0 7795.966308369689 7795.966308369689 118.62743152590413\n",
      "firm8 paper FI 118.57196583476036 0.0 7792.244313831019 7792.244313831019 118.57196583476036\n",
      "firm9 paper GR 118.6398990833682 0.0 7796.460152420055 7796.460152420055 118.6398990833682\n"
     ]
    }
   ],
   "source": [
    "print(\"Firm name, Sector, Country, Actual output, Emission, Profit, BAU profit, BAU emission\")\n",
    "for firm in Regulator1.firm_registry.values():\n",
    "    print(firm.name, firm.sector.name, firm.country.name, firm.actual_output, firm.emission, firm.profit, firm.BAU_profit, firm.BAU_emission)"
   ]
  },
  {
   "cell_type": "code",
   "execution_count": 7,
   "metadata": {},
   "outputs": [
    {
     "name": "stderr",
     "output_type": "stream",
     "text": [
      "  0%|          | 0/19 [00:00<?, ?it/s]"
     ]
    },
    {
     "name": "stdout",
     "output_type": "stream",
     "text": [
      "Max diff: 0.056425830644941200000It doesn't converge initially for cap = 117.91768089859731\n",
      "Max diff: 0.032782722983It doesn't converge initially for cap = 117.91768089859731\n",
      "Max diff: 0.084905260962It doesn't converge initially for cap = 117.91768089859731\n",
      "Max diff: 0.164902079951It doesn't converge initially for cap = 117.91768089859731\n",
      "Permit price: 179.625204"
     ]
    },
    {
     "name": "stderr",
     "output_type": "stream",
     "text": [
      "  5%|▌         | 1/19 [21:16<6:22:56, 1276.49s/it]"
     ]
    },
    {
     "name": "stdout",
     "output_type": "stream",
     "text": [
      "Permit price: 179.62520360015333 and total emission: 117.1198307716158 and emission cap 117.91768089859731\n",
      "Max diff: 0.056425830644941200000It doesn't converge initially for cap = 235.83536179719462\n",
      "Max diff: 0.031811122983It doesn't converge initially for cap = 235.83536179719462\n",
      "Max diff: 0.302280967237It doesn't converge initially for cap = 235.83536179719462\n",
      "Max diff: 0.321518743195It doesn't converge initially for cap = 235.83536179719462\n",
      "Max diff: 0.028169281173It doesn't converge initially for cap = 235.83536179719462\n",
      "Max diff: 0.063078700163It doesn't converge initially for cap = 235.83536179719462\n",
      "Max diff: 0.014870609658It doesn't converge initially for cap = 235.83536179719462\n",
      "Max diff: 0.025081154910It doesn't converge initially for cap = 235.83536179719462\n",
      "Max diff: 0.0952045"
     ]
    },
    {
     "name": "stderr",
     "output_type": "stream",
     "text": [
      " 11%|█         | 2/19 [1:01:55<9:15:27, 1960.43s/it]"
     ]
    },
    {
     "name": "stdout",
     "output_type": "stream",
     "text": [
      "Permit price: 144.6096575818956 and total emission: 233.2274326548658 and emission cap 235.83536179719462\n",
      "Max diff: 0.056425830644941200000It doesn't converge initially for cap = 353.7530426957919\n",
      "Max diff: 0.070463115322It doesn't converge initially for cap = 353.7530426957919\n",
      "Max diff: 0.033314322983It doesn't converge initially for cap = 353.7530426957919\n",
      "Max diff: 0.015855967237It doesn't converge initially for cap = 353.7530426957919\n",
      "Max diff: 0.129158605216It doesn't converge initially for cap = 353.7530426957919\n",
      "Permit price: 131.421984"
     ]
    },
    {
     "name": "stderr",
     "output_type": "stream",
     "text": [
      " 16%|█▌        | 3/19 [1:28:30<7:58:19, 1793.69s/it]"
     ]
    },
    {
     "name": "stdout",
     "output_type": "stream",
     "text": [
      "Permit price: 131.42198440618813 and total emission: 350.1397043422015 and emission cap 353.7530426957919\n",
      "Max diff: 0.056425830644941200000It doesn't converge initially for cap = 471.67072359438924\n",
      "Max diff: 0.012274615322It doesn't converge initially for cap = 471.67072359438924\n",
      "Max diff: 0.071396467237It doesn't converge initially for cap = 471.67072359438924\n",
      "Max diff: 0.087570091279It doesn't converge initially for cap = 471.67072359438924\n",
      "Max diff: 0.065270953301It doesn't converge initially for cap = 471.67072359438924\n",
      "Max diff: 0.007655870069"
     ]
    },
    {
     "name": "stderr",
     "output_type": "stream",
     "text": [
      " 21%|██        | 4/19 [1:55:24<7:10:39, 1722.61s/it]"
     ]
    },
    {
     "name": "stdout",
     "output_type": "stream",
     "text": [
      "Permit price: 117.32481652870774 and total emission: 471.1826448540957 and emission cap 471.67072359438924\n",
      "Max diff: 0.056425830644941200000It doesn't converge initially for cap = 589.5884044929866\n",
      "Max diff: 0.075568895322It doesn't converge initially for cap = 589.5884044929866\n",
      "Max diff: 44.6615647661It doesn't converge initially for cap = 589.5884044929866\n",
      "Max diff: 108.061236It doesn't converge with a=0.1\n",
      "Max diff: 0.388042563407It doesn't converge initially for cap = 589.5884044929866\n",
      "Max diff: 0.941153201385It doesn't converge initially for cap = 589.5884044929866\n",
      "Max diff: 91.5867341It doesn't converge with a=0.1\n",
      "Max diff: 0.122959410880It doesn't converge initially for cap = 589.5884044929866\n",
      "Max diff: 0.166368956133It doesn't converge initially for cap = 589.5884044929866\n",
      "Max diff: 0.0885071"
     ]
    },
    {
     "name": "stderr",
     "output_type": "stream",
     "text": [
      " 26%|██▋       | 5/19 [2:45:32<8:30:05, 2186.10s/it]"
     ]
    },
    {
     "name": "stdout",
     "output_type": "stream",
     "text": [
      "Permit price: 106.4108801074326 and total emission: 578.6868131037679 and emission cap 589.5884044929866\n",
      "Max diff: 0.056425830644941200000It doesn't converge initially for cap = 707.5060853915838\n",
      "Max diff: 0.147534895322It doesn't converge initially for cap = 707.5060853915838\n",
      "Max diff: 44.5957325661It doesn't converge initially for cap = 707.5060853915838\n",
      "Max diff: 5.40020002It doesn't converge with a=0.1\n",
      "Max diff: 0.362211063407It doesn't converge initially for cap = 707.5060853915838\n",
      "Max diff: 0.087134044417It doesn't converge initially for cap = 707.5060853915838\n",
      "Permit price: 98.680175"
     ]
    },
    {
     "name": "stderr",
     "output_type": "stream",
     "text": [
      " 32%|███▏      | 6/19 [3:19:40<7:43:30, 2139.27s/it]"
     ]
    },
    {
     "name": "stdout",
     "output_type": "stream",
     "text": [
      "Permit price: 98.68017514236271 and total emission: 698.7039053657261 and emission cap 707.5060853915838\n",
      "Max diff: 0.056425830644941200000It doesn't converge initially for cap = 825.4237662901812\n",
      "Max diff: 0.202177895322It doesn't converge initially for cap = 825.4237662901812\n",
      "Max diff: 44.6473837661It doesn't converge initially for cap = 825.4237662901812\n",
      "Max diff: 0.11771251491It doesn't converge initially for cap = 825.4237662901812\n",
      "Max diff: 0.43387179576It doesn't converge initially for cap = 825.4237662901812\n",
      "Max diff: 82.3677103It doesn't converge with a=0.1\n",
      "Max diff: 0.22300275534It doesn't converge initially for cap = 825.4237662901812\n",
      "Max diff: 0.20676712502It doesn't converge initially for cap = 825.4237662901812\n",
      "Max diff: 0.00000016744"
     ]
    },
    {
     "name": "stderr",
     "output_type": "stream",
     "text": [
      " 37%|███▋      | 7/19 [4:05:40<7:48:26, 2342.23s/it]"
     ]
    },
    {
     "name": "stdout",
     "output_type": "stream",
     "text": [
      "Permit price: 87.31149137020111 and total emission: 796.4396945974443 and emission cap 825.4237662901812\n",
      "Max diff: 0.056425830644941200000It doesn't converge initially for cap = 943.3414471887785\n",
      "Max diff: 0.459177895322It doesn't converge initially for cap = 943.3414471887785\n",
      "Max diff: 44.5101195661It doesn't converge initially for cap = 943.3414471887785\n",
      "Max diff: 36.9971428It doesn't converge with a=0.1\n",
      "Max diff: 0.02895051491It doesn't converge initially for cap = 943.3414471887785\n",
      "Max diff: 0.11578379576It doesn't converge initially for cap = 943.3414471887785\n",
      "Max diff: 82.1780596It doesn't converge with a=0.1\n",
      "Max diff: 0.03255255534It doesn't converge initially for cap = 943.3414471887785\n",
      "Max diff: 0.14947957555It doesn't converge initially for cap = 943.3414471887785\n",
      "Max diff: 0.05603016544It doesn't converge initially for cap = 943.3414471887785\n",
      "Max diff: 0.14927726039It doesn't converge initially for cap = 943.3414471887785\n",
      "Max diff: 0.03798180786It doesn't converge initially for cap = 943.3414471887785\n",
      "Max diff: 32.3484214"
     ]
    },
    {
     "name": "stderr",
     "output_type": "stream",
     "text": [
      " 42%|████▏     | 8/19 [5:16:47<9:01:42, 2954.75s/it]"
     ]
    },
    {
     "name": "stdout",
     "output_type": "stream",
     "text": [
      "It doesn't converge with a=0.1\n",
      "Permit price: 80.03553375601768 and total emission: 1023.1287960488727 and emission cap 943.3414471887785\n",
      "Max diff: 0.056425830644941200000It doesn't converge initially for cap = 1061.2591280873758\n",
      "Max diff: 44.53222876612It doesn't converge initially for cap = 1061.2591280873758\n",
      "Max diff: 110.260596It doesn't converge with a=0.1\n",
      "Max diff: 0.03457451491It doesn't converge initially for cap = 1061.2591280873758\n",
      "Max diff: 0.01781479576It doesn't converge initially for cap = 1061.2591280873758\n",
      "Max diff: 114.837966It doesn't converge with a=0.1\n",
      "Max diff: 0.03510898566It doesn't converge initially for cap = 1061.2591280873758\n",
      "Max diff: 0.03055593313It doesn't converge initially for cap = 1061.2591280873758\n",
      "Max diff: 0.09726294"
     ]
    },
    {
     "name": "stderr",
     "output_type": "stream",
     "text": [
      " 47%|████▋     | 9/19 [6:05:47<8:11:43, 2950.31s/it]"
     ]
    },
    {
     "name": "stdout",
     "output_type": "stream",
     "text": [
      "Permit price: 75.48806024715304 and total emission: 1059.3527553466865 and emission cap 1061.2591280873758\n",
      "Max diff: 0.056425830644941200000It doesn't converge initially for cap = 1179.1768089859731\n",
      "Max diff: 0.034961895322It doesn't converge initially for cap = 1179.1768089859731\n",
      "Max diff: 44.5307905661It doesn't converge initially for cap = 1179.1768089859731\n",
      "Max diff: 0.18971151491It doesn't converge initially for cap = 1179.1768089859731\n",
      "Max diff: 0.09725589576It doesn't converge initially for cap = 1179.1768089859731\n",
      "Max diff: 0.07755953619It doesn't converge initially for cap = 1179.1768089859731\n",
      "Max diff: 0.22778781597It doesn't converge initially for cap = 1179.1768089859731\n",
      "Max diff: 0.13124802608It doesn't converge initially for cap = 1179.1768089859731\n",
      "Max diff: 77.3286247It doesn't converge with a=0.1\n",
      "Max diff: 0.08621242103It doesn't converge initially for cap = 1179.1768089859731\n",
      "Permit price: 67.757355"
     ]
    },
    {
     "name": "stderr",
     "output_type": "stream",
     "text": [
      " 53%|█████▎    | 10/19 [7:14:32<8:16:56, 3312.97s/it]"
     ]
    },
    {
     "name": "stdout",
     "output_type": "stream",
     "text": [
      "Permit price: 67.75735528208315 and total emission: 1172.368977560063 and emission cap 1179.1768089859731\n",
      "Max diff: 0.056425830644941200000It doesn't converge initially for cap = 1297.0944898845705\n",
      "Max diff: 0.142081895322It doesn't converge initially for cap = 1297.0944898845705\n",
      "Max diff: 44.5242477661It doesn't converge initially for cap = 1297.0944898845705\n",
      "Max diff: 28.7053405It doesn't converge with a=0.1\n",
      "Max diff: 0.11311251491It doesn't converge initially for cap = 1297.0944898845705\n",
      "Max diff: 0.08348089576It doesn't converge initially for cap = 1297.0944898845705\n",
      "Max diff: 0.03797383619It doesn't converge initially for cap = 1297.0944898845705\n",
      "Max diff: 0.03451585640It doesn't converge initially for cap = 1297.0944898845705\n",
      "Max diff: 0.02867086650It doesn't converge initially for cap = 1297.0944898845705\n",
      "Max diff: 0.05210487156It doesn't converge initially for cap = 1297.0944898845705\n",
      "Permit price: 59.571903"
     ]
    },
    {
     "name": "stderr",
     "output_type": "stream",
     "text": [
      " 58%|█████▊    | 11/19 [8:21:11<7:49:41, 3522.74s/it]"
     ]
    },
    {
     "name": "stdout",
     "output_type": "stream",
     "text": [
      "Permit price: 59.5719029661268 and total emission: 1294.696250339474 and emission cap 1297.0944898845705\n",
      "Max diff: 0.056425830644941200000It doesn't converge initially for cap = 1415.0121707831677\n",
      "Max diff: 0.196042895322It doesn't converge initially for cap = 1415.0121707831677\n",
      "Max diff: 0.14187397661It doesn't converge initially for cap = 1415.0121707831677\n",
      "Max diff: 0.38674353830It doesn't converge initially for cap = 1415.0121707831677\n",
      "Max diff: 135.470156It doesn't converge with a=0.1\n",
      "Max diff: 125.610954746It doesn't converge initially for cap = 1415.0121707831677\n",
      "Max diff: 141.222091It doesn't converge with a=0.1\n",
      "Max diff: 0.20004855703It doesn't converge initially for cap = 1415.0121707831677\n",
      "Max diff: 0.03734643724It doesn't converge initially for cap = 1415.0121707831677\n",
      "Max diff: 0.06202312714It doesn't converge initially for cap = 1415.0121707831677\n",
      "Max diff: 0.04289122209It doesn't converge initially for cap = 1415.0121707831677\n",
      "Max diff: 0.04863876956It doesn't converge initially for cap = 1415.0121707831677\n",
      "Max diff: 139.847777"
     ]
    },
    {
     "name": "stderr",
     "output_type": "stream",
     "text": [
      " 63%|██████▎   | 12/19 [9:55:18<8:06:22, 4168.98s/it]"
     ]
    },
    {
     "name": "stdout",
     "output_type": "stream",
     "text": [
      "It doesn't converge with a=0.1\n",
      "Permit price: 50.93170329928398 and total emission: 1527.892681546799 and emission cap 1415.0121707831677\n",
      "Max diff: 0.056425830644941200000It doesn't converge initially for cap = 1532.929851681765\n",
      "Max diff: 0.355337895322It doesn't converge initially for cap = 1532.929851681765\n",
      "Max diff: 0.20820995661It doesn't converge initially for cap = 1532.929851681765\n",
      "Max diff: 0.13128953830It doesn't converge initially for cap = 1532.929851681765\n",
      "Max diff: 39.8744079It doesn't converge with a=0.1\n",
      "Max diff: 0.06979199788It doesn't converge initially for cap = 1532.929851681765\n",
      "Max diff: 0.36473677767It doesn't converge initially for cap = 1532.929851681765\n",
      "Max diff: 0.16189936756It doesn't converge initially for cap = 1532.929851681765\n",
      "Max diff: 0.05185546251It doesn't converge initially for cap = 1532.929851681765\n",
      "Max diff: 0.28422800998It doesn't converge initially for cap = 1532.929851681765\n",
      "Max diff: 131.538425"
     ]
    },
    {
     "name": "stderr",
     "output_type": "stream",
     "text": [
      " 68%|██████▊   | 13/19 [11:14:25<7:14:25, 4344.20s/it]"
     ]
    },
    {
     "name": "stdout",
     "output_type": "stream",
     "text": [
      "It doesn't converge with a=0.1\n",
      "Permit price: 43.655745685100555 and total emission: 1401.9069984835562 and emission cap 1532.929851681765\n",
      "Max diff: 0.056425830644941200000It doesn't converge initially for cap = 1650.8475325803624\n",
      "Max diff: 0.404864895322It doesn't converge initially for cap = 1650.8475325803624\n",
      "Max diff: 0.15520495661It doesn't converge initially for cap = 1650.8475325803624\n",
      "Max diff: 0.18953353830It doesn't converge initially for cap = 1650.8475325803624\n",
      "Max diff: 129.305142It doesn't converge with a=0.1\n",
      "Max diff: 0.11435899788It doesn't converge initially for cap = 1650.8475325803624\n",
      "Max diff: 0.16842087767It doesn't converge initially for cap = 1650.8475325803624\n",
      "Max diff: 0.09599098777It doesn't converge initially for cap = 1650.8475325803624\n",
      "Max diff: 0.06414289283It doesn't converge initially for cap = 1650.8475325803624\n",
      "Permit price: 36.834535"
     ]
    },
    {
     "name": "stderr",
     "output_type": "stream",
     "text": [
      " 74%|███████▎  | 14/19 [12:18:52<5:50:00, 4200.12s/it]"
     ]
    },
    {
     "name": "stdout",
     "output_type": "stream",
     "text": [
      "Permit price: 36.834535421803594 and total emission: 1640.993257630456 and emission cap 1650.8475325803624\n",
      "Max diff: 0.056425830644941200000It doesn't converge initially for cap = 1768.7652134789598\n",
      "Max diff: 0.516605895322It doesn't converge initially for cap = 1768.7652134789598\n",
      "Max diff: 0.11868597661It doesn't converge initially for cap = 1768.7652134789598\n",
      "Max diff: 0.03467051915It doesn't converge initially for cap = 1768.7652134789598\n",
      "Max diff: 0.17745189083It doesn't converge initially for cap = 1768.7652134789598\n",
      "Max diff: 0.07935189"
     ]
    },
    {
     "name": "stderr",
     "output_type": "stream",
     "text": [
      " 79%|███████▉  | 15/19 [20:48:09<13:29:39, 12144.89s/it]"
     ]
    },
    {
     "name": "stdout",
     "output_type": "stream",
     "text": [
      "Permit price: 29.103830456733704 and total emission: 1763.6628748801145 and emission cap 1768.7652134789598\n",
      "Max diff: 0.056425830644941200000It doesn't converge initially for cap = 1886.682894377557\n",
      "Max diff: 0.270462895322It doesn't converge initially for cap = 1886.682894377557\n",
      "Max diff: 0.05803951915It doesn't converge initially for cap = 1886.682894377557\n",
      "Max diff: 0.24044959894It doesn't converge initially for cap = 1886.682894377557\n",
      "Max diff: 0.05088373631It doesn't converge initially for cap = 1886.682894377557\n",
      "Max diff: 0.08041837"
     ]
    },
    {
     "name": "stderr",
     "output_type": "stream",
     "text": [
      " 84%|████████▍ | 16/19 [21:35:35<7:47:17, 9345.78s/it]  "
     ]
    },
    {
     "name": "stdout",
     "output_type": "stream",
     "text": [
      "Permit price: 20.91837814077735 and total emission: 1883.9974179203507 and emission cap 1886.682894377557\n",
      "Max diff: 0.056425830644941200000It doesn't converge initially for cap = 2004.6005752761541\n",
      "Max diff: 0.186188895322It doesn't converge initially for cap = 2004.6005752761541\n",
      "Max diff: 0.66341095661It doesn't converge initially for cap = 2004.6005752761541\n",
      "Max diff: 0.32821951915It doesn't converge initially for cap = 2004.6005752761541\n",
      "Max diff: 0.03383342926It doesn't converge initially for cap = 2004.6005752761541\n",
      "Permit price: 14.097168"
     ]
    },
    {
     "name": "stderr",
     "output_type": "stream",
     "text": [
      " 89%|████████▉ | 17/19 [23:32:30<4:48:09, 8644.89s/it]"
     ]
    },
    {
     "name": "stdout",
     "output_type": "stream",
     "text": [
      "Permit price: 14.097167877480388 and total emission: 1989.9284735033727 and emission cap 2004.6005752761541\n",
      "Max diff: 0.056425830644941200000It doesn't converge initially for cap = 2122.5182561747515\n",
      "Max diff: 0.204743895322It doesn't converge initially for cap = 2122.5182561747515\n",
      "Max diff: 0.16386195661It doesn't converge initially for cap = 2122.5182561747515\n",
      "Max diff: 0.13232351915It doesn't converge initially for cap = 2122.5182561747515\n",
      "Max diff: 0.0514903958It doesn't converge initially for cap = 2122.5182561747515\n",
      "Max diff: 0.0516757979It doesn't converge initially for cap = 2122.5182561747515\n",
      "Max diff: 0.2573536463It doesn't converge initially for cap = 2122.5182561747515\n",
      "Permit price: 6.821210"
     ]
    },
    {
     "name": "stderr",
     "output_type": "stream",
     "text": [
      " 95%|█████████▍| 18/19 [24:36:41<2:00:04, 7204.61s/it]"
     ]
    },
    {
     "name": "stdout",
     "output_type": "stream",
     "text": [
      "Permit price: 6.821210263296962 and total emission: 2103.308148119261 and emission cap 2122.5182561747515\n",
      "Max diff: 0.056425830644941200000It doesn't converge initially for cap = 2240.435937073349\n",
      "Max diff: 0.121945895322It doesn't converge initially for cap = 2240.435937073349\n",
      "Max diff: 0.08654695661It doesn't converge initially for cap = 2240.435937073349\n",
      "Max diff: 0.12628151915It doesn't converge initially for cap = 2240.435937073349\n",
      "Max diff: 0.1360903958It doesn't converge initially for cap = 2240.435937073349\n",
      "Max diff: 0.0351688989It doesn't converge initially for cap = 2240.435937073349\n",
      "Permit price: 0.454747"
     ]
    },
    {
     "name": "stderr",
     "output_type": "stream",
     "text": [
      "100%|██████████| 19/19 [29:40:12<00:00, 5621.73s/it]  "
     ]
    },
    {
     "name": "stdout",
     "output_type": "stream",
     "text": [
      "Permit price: 0.4547473508864641 and total emission: 2219.1686175647137 and emission cap 2240.435937073349\n"
     ]
    },
    {
     "name": "stderr",
     "output_type": "stream",
     "text": [
      "\n"
     ]
    }
   ],
   "source": [
    "# Create a plot for the permit price with respect to the emission cap 10 samples between 0 and 200\n",
    "BAU_percentage = np.linspace(0, 1, 20)\n",
    "BAU_emissions = Regulator1.BAU_emissions\n",
    "caps = [BAU_emissions*i for i in BAU_percentage]\n",
    "# Read the data from the csv file, if it exists, if not, just create a new one\n",
    "try:\n",
    "    df = pd.read_csv('permit_price_to_Percentage_of_BAU_v0_0.csv')\n",
    "    percentages = list(df['Percentage of BAU'])\n",
    "    caps2 = list(df['Emission Cap'])\n",
    "    permit_prices = list(df['Permit Price'])\n",
    "    outputs = list(df['Outputs'])\n",
    "    emissions = list(df['Emissions'])\n",
    "    profits = list(df['Profits'])\n",
    "except:\n",
    "    percentages = []\n",
    "    caps2 = []\n",
    "    permit_prices = []\n",
    "    outputs = []\n",
    "    emissions = []\n",
    "    profits = []\n",
    "# Loop through all the emission caps and calculate the permit price\n",
    "\n",
    "for i in tqdm.tqdm([i for i in caps if i not in caps2]):\n",
    "    Regulator1.emission_cap = i  \n",
    "    Regulator1.find_optimal_permit_price_to_meet_the_emission_cap_requirements(precision= 0.01, x_high = 1000000000000)\n",
    "    caps2.append(i)\n",
    "    percentages.append(Regulator1.emission_cap/BAU_emissions)\n",
    "    permit_prices.append(Regulator1.permit_price)\n",
    "    outputs.append(tuple([firm.actual_output for firm in Regulator1.firm_registry.values()]))\n",
    "    emissions.append(tuple([firm.emission for firm in Regulator1.firm_registry.values()]))\n",
    "    profits.append(tuple([firm.profit for firm in Regulator1.firm_registry.values()]))\n",
    "    # save all the data in a csv file\n",
    "    df = pd.DataFrame({'Percentage of BAU': percentages, 'Emission Cap': caps2, 'Permit Price': permit_prices, 'Outputs': outputs, 'Emissions': emissions, 'Profits': profits})\n",
    "    df.to_csv('permit_price_to_Percentage_of_BAU_v0_0.csv', index=False)\n",
    "\n",
    "\n"
   ]
  }
 ],
 "metadata": {
  "kernelspec": {
   "display_name": "base",
   "language": "python",
   "name": "python3"
  },
  "language_info": {
   "codemirror_mode": {
    "name": "ipython",
    "version": 3
   },
   "file_extension": ".py",
   "mimetype": "text/x-python",
   "name": "python",
   "nbconvert_exporter": "python",
   "pygments_lexer": "ipython3",
   "version": "3.12.4"
  }
 },
 "nbformat": 4,
 "nbformat_minor": 2
}
