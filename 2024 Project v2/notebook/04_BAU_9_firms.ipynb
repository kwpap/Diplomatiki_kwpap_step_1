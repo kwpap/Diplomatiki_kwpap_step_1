{
 "cells": [
  {
   "cell_type": "code",
   "execution_count": 1,
   "metadata": {},
   "outputs": [],
   "source": [
    "from funkwpap import sympy_to_gurobi, Firm, Country, Sector, Regulator, get_emission\n",
    "import sympy as sp, pandas as pd, numpy as np, tqdm, time, sys\n",
    "from gurobipy import Model, LinExpr, QuadExpr, GRB\n",
    "x = sp.symbols('x')\n",
    "y = sp.symbols('y')"
   ]
  },
  {
   "cell_type": "code",
   "execution_count": 2,
   "metadata": {},
   "outputs": [
    {
     "name": "stdout",
     "output_type": "stream",
     "text": [
      "[Firm(id=1, name='firm1', sector_id=1, country_id=1, actual_output=0, emission=0, profit=0), Firm(id=2, name='firm2', sector_id=1, country_id=2, actual_output=0, emission=0, profit=0), Firm(id=3, name='firm3', sector_id=1, country_id=3, actual_output=0, emission=0, profit=0)]\n",
      "[Firm(id=1, name='firm1', sector_id=1, country_id=1, actual_output=0, emission=0, profit=0), Firm(id=4, name='firm4', sector_id=2, country_id=1, actual_output=0, emission=0, profit=0), Firm(id=7, name='firm7', sector_id=3, country_id=1, actual_output=0, emission=0, profit=0)]\n",
      "{1: Firm(id=1, name='firm1', sector_id=1, country_id=1, actual_output=0, emission=0, profit=0), 2: Firm(id=2, name='firm2', sector_id=1, country_id=2, actual_output=0, emission=0, profit=0), 3: Firm(id=3, name='firm3', sector_id=1, country_id=3, actual_output=0, emission=0, profit=0), 4: Firm(id=4, name='firm4', sector_id=2, country_id=1, actual_output=0, emission=0, profit=0), 5: Firm(id=5, name='firm5', sector_id=2, country_id=2, actual_output=0, emission=0, profit=0), 6: Firm(id=6, name='firm6', sector_id=2, country_id=3, actual_output=0, emission=0, profit=0), 7: Firm(id=7, name='firm7', sector_id=3, country_id=1, actual_output=0, emission=0, profit=0), 8: Firm(id=8, name='firm8', sector_id=3, country_id=2, actual_output=0, emission=0, profit=0), 9: Firm(id=9, name='firm9', sector_id=3, country_id=3, actual_output=0, emission=0, profit=0)}\n",
      "firm1 cement DE\n",
      "firm2 cement FI\n",
      "firm3 cement GR\n",
      "firm4 steel DE\n",
      "firm5 steel FI\n",
      "firm6 steel GR\n",
      "firm7 paper DE\n",
      "firm8 paper FI\n",
      "firm9 paper GR\n"
     ]
    }
   ],
   "source": [
    "\n",
    "# Create Sectors and Countries\n",
    "Regulator1 = Regulator('EU', permit_price= 2, emission_cap= 100)\n",
    "sector1 = Sector('cement', price_demand_function= 100 - 0.1*x, free_emission_multiplier= 0.1, regulator= Regulator1)\n",
    "sector2 = Sector('steel', price_demand_function=150 - 0.1*x, free_emission_multiplier= 0.05, regulator= Regulator1)\n",
    "sector3 = Sector('paper', price_demand_function= 200 - 0.02*x**1.5, free_emission_multiplier= 0.1, regulator= Regulator1)\n",
    "country1 = Country('DE', 1, regulator= Regulator1)\n",
    "country2 = Country('FI', 0.5, regulator= Regulator1)\n",
    "country3 = Country('GR', size= 0.1, regulator= Regulator1)\n",
    "\n",
    "# Create Firms using objects\n",
    "firm1 = Firm('firm1', 1, 1, x*0, 0.1*sp.exp('x') + 100/y**2, 0, 0, 0, regulator= Regulator1)\n",
    "firm2 = Firm('firm2', 1, 2, x*0, 5*x**3.2 + 40/y**2, 0, 0, 0, regulator= Regulator1)\n",
    "firm3 = Firm('firm3', 1, 3, x*0, x**5.2 + 30/y**2, 0, 0, 0, regulator= Regulator1)\n",
    "firm4 = Firm('firm4', 2, 1, x*0, x**3.3 + 20/y**2, 0, 0, 0, regulator= Regulator1)\n",
    "firm5 = Firm('firm5', 2, 2, x*0, x**2.3 + 20/y**2, 0, 0, 0, regulator= Regulator1)\n",
    "firm6 = Firm('firm6', 2, 3, x*0, x**3.2 + 15/y**2, 0, 0, 0, regulator= Regulator1)\n",
    "firm7 = Firm('firm7', 3, 1, x*0, x**4.1 + 40/y**2, 0, 0, 0, regulator= Regulator1)\n",
    "firm8 = Firm('firm8', 3, 2, x*0, x**5.1 + 50/y**2, 0, 0, 0, regulator= Regulator1)\n",
    "firm9 = Firm('firm9', 3, 3, x*0, x**5 + 60/y**2, 0, 0, 0, regulator= Regulator1)\n",
    "\n",
    "\n",
    "print(sector1.firms)  # List of firms in sector1\n",
    "print(country1.firms)  # List of firms in country1\n",
    "print(Regulator1.firm_registry)  # Dictionary of all firms\n",
    "\n",
    "for firm in Regulator1.firm_registry.values():\n",
    "    print(firm.name, firm.sector.name, firm.country.name)\n"
   ]
  },
  {
   "cell_type": "code",
   "execution_count": 3,
   "metadata": {},
   "outputs": [],
   "source": [
    "#Regulator1.optimize_them_all(precision = 0.1, print_diff = True, BAU = True)"
   ]
  },
  {
   "cell_type": "code",
   "execution_count": 4,
   "metadata": {},
   "outputs": [
    {
     "name": "stdout",
     "output_type": "stream",
     "text": [
      "firm1 cement DE 0 0 0\n",
      "firm2 cement FI 0 0 0\n",
      "firm3 cement GR 0 0 0\n",
      "firm4 steel DE 0 0 0\n",
      "firm5 steel FI 0 0 0\n",
      "firm6 steel GR 0 0 0\n",
      "firm7 paper DE 0 0 0\n",
      "firm8 paper FI 0 0 0\n",
      "firm9 paper GR 0 0 0\n"
     ]
    }
   ],
   "source": [
    "for firm in Regulator1.firm_registry.values():\n",
    "    print(firm.name, firm.sector.name, firm.country.name, firm.actual_output, firm.emission, firm.profit)"
   ]
  },
  {
   "cell_type": "code",
   "execution_count": 5,
   "metadata": {},
   "outputs": [
    {
     "name": "stdout",
     "output_type": "stream",
     "text": [
      "Set parameter Username\n",
      "Academic license - for non-commercial use only - expires 2025-08-14\n",
      "Max diff: 0.01, permit price = 2.0, cap = 100, second_stage = False, a = 1.0000"
     ]
    }
   ],
   "source": [
    "Regulator1.BAU_calculator(print_diff = True)"
   ]
  },
  {
   "cell_type": "code",
   "execution_count": 6,
   "metadata": {},
   "outputs": [
    {
     "name": "stdout",
     "output_type": "stream",
     "text": [
      "Firm name, Sector, Country, Actual output, Emission, Profit, BAU profit, BAU emission\n",
      "firm1 cement DE 257.32525385607016 0.0 6273.59076591368 6273.59076591368 257.32525385607016\n",
      "firm2 cement FI 257.32525385607016 0.0 6273.59076591368 6273.59076591368 257.32525385607016\n",
      "firm3 cement GR 241.54945043799546 0.0 5888.97661255950 5888.97661255950 241.54945043799546\n",
      "firm4 steel DE 376.13222749306016 0.0 13977.1983562917 13977.1983562917 376.13222749306016\n",
      "firm5 steel FI 376.13222749306016 0.0 13977.1983562917 13977.1983562917 376.13222749306016\n",
      "firm6 steel GR 376.13222749306016 0.0 13977.1983562917 13977.1983562917 376.13222749306016\n",
      "firm7 paper DE 118.62743152590413 0.0 7800.22830116322 7800.22830116322 118.62743152590413\n",
      "firm8 paper FI 118.57196583476036 0.0 7796.62338066782 7796.62338066782 118.57196583476036\n",
      "firm9 paper GR 118.6398990833682 0.0 7800.69946375400 7800.69946375400 118.6398990833682\n"
     ]
    }
   ],
   "source": [
    "print(\"Firm name, Sector, Country, Actual output, Emission, Profit, BAU profit, BAU emission\")\n",
    "for firm in Regulator1.firm_registry.values():\n",
    "    print(firm.name, firm.sector.name, firm.country.name, firm.actual_output, firm.emission, firm.profit, firm.BAU_profit, firm.BAU_emission)"
   ]
  },
  {
   "cell_type": "code",
   "execution_count": 7,
   "metadata": {},
   "outputs": [
    {
     "name": "stderr",
     "output_type": "stream",
     "text": [
      "0it [00:00, ?it/s]\n"
     ]
    }
   ],
   "source": [
    "# Create a plot for the permit price with respect to the emission cap 10 samples between 0 and 200\n",
    "BAU_percentage = np.linspace(0, 1, 20)\n",
    "BAU_emissions = Regulator1.BAU_emissions\n",
    "caps = [BAU_emissions*i for i in BAU_percentage]\n",
    "# Read the data from the csv file, if it exists, if not, just create a new one\n",
    "try:\n",
    "    df = pd.read_csv('permit_price_to_Percentage_of_BAU_v0_0.csv')\n",
    "    percentages = list(df['Percentage of BAU'])\n",
    "    caps2 = list(df['Emission Cap'])\n",
    "    permit_prices = list(df['Permit Price'])\n",
    "    outputs = list(df['Outputs'])\n",
    "    emissions = list(df['Emissions'])\n",
    "    profits = list(df['Profits'])\n",
    "except:\n",
    "    percentages = []\n",
    "    caps2 = []\n",
    "    permit_prices = []\n",
    "    outputs = []\n",
    "    emissions = []\n",
    "    profits = []\n",
    "# Loop through all the emission caps and calculate the permit price\n",
    "\n",
    "# Find all the caps that are not calculated yet (meaning that they are more than 0.5 different than a value of the caps2)\n",
    "for i in caps[:]:  # Iterate over a copy of the list\n",
    "    if any(abs(i - x) < 0.5 for x in caps2):\n",
    "        caps.remove(i)\n",
    "\n",
    "for i in tqdm.tqdm(caps):\n",
    "    Regulator1.emission_cap = i  \n",
    "    Regulator1.find_optimal_permit_price_to_meet_the_emission_cap_requirements(precision= 0.01, x_high = 1000000000000)\n",
    "    caps2.append(i)\n",
    "    percentages.append(Regulator1.emission_cap/BAU_emissions)\n",
    "    permit_prices.append(Regulator1.permit_price)\n",
    "    outputs.append(tuple([firm.actual_output for firm in Regulator1.firm_registry.values()]))\n",
    "    emissions.append(tuple([firm.emission for firm in Regulator1.firm_registry.values()]))\n",
    "    profits.append(tuple([firm.profit for firm in Regulator1.firm_registry.values()]))\n",
    "    # save all the data in a csv file\n",
    "    df = pd.DataFrame({'Percentage of BAU': percentages, 'Emission Cap': caps2, 'Permit Price': permit_prices, 'Outputs': outputs, 'Emissions': emissions, 'Profits': profits})\n",
    "    df.to_csv('permit_price_to_Percentage_of_BAU_v0_0.csv', index=False)\n",
    "\n",
    "\n"
   ]
  },
  {
   "cell_type": "markdown",
   "metadata": {},
   "source": [
    "Εδώ θα τρέξει το ίδιο, αλ΄λα κοιτώντας μόνο το τελευταίο για να δει αν αποκλίνει. "
   ]
  },
  {
   "cell_type": "code",
   "execution_count": 8,
   "metadata": {},
   "outputs": [
    {
     "name": "stderr",
     "output_type": "stream",
     "text": [
      "  0%|          | 0/20 [00:00<?, ?it/s]"
     ]
    },
    {
     "name": "stdout",
     "output_type": "stream",
     "text": [
      "Max diff: 0.00, permit price = 1000000000000.0, cap = 0, second_stage = False, a = 1.000"
     ]
    },
    {
     "name": "stderr",
     "output_type": "stream",
     "text": [
      "  5%|▌         | 1/20 [01:06<21:03, 66.48s/it]"
     ]
    },
    {
     "name": "stdout",
     "output_type": "stream",
     "text": [
      "Permit price: 1000000000000 and total emission: 0.008999990999988938 and emission cap 0.0\n",
      "Max diff: 0.12, permit price = 203.7, cap = 118, second_stage = True, a = 0.011000000000Everything failed, best result is 0.010177164748505163\n",
      "Permit price: 179.625204rice = 179.6, cap = 118, second_stage = False, a = 0.430"
     ]
    },
    {
     "name": "stderr",
     "output_type": "stream",
     "text": [
      " 10%|█         | 2/20 [22:53<3:58:50, 796.11s/it]"
     ]
    },
    {
     "name": "stdout",
     "output_type": "stream",
     "text": [
      "Permit price: 179.62520360015333 and total emission: 117.1220902089312 and emission cap 117.91768089859731\n",
      "Max diff: 0.01, permit price = 144.6, cap = 236, second_stage = False, a = 0.7300000000000"
     ]
    },
    {
     "name": "stderr",
     "output_type": "stream",
     "text": [
      " 15%|█▌        | 3/20 [52:09<5:49:49, 1234.66s/it]"
     ]
    },
    {
     "name": "stdout",
     "output_type": "stream",
     "text": [
      "Permit price: 144.6096575818956 and total emission: 233.19798279455892 and emission cap 235.83536179719462\n",
      "Permit price: 131.421984rice = 131.4, cap = 354, second_stage = False, a = 1.0000000000000"
     ]
    },
    {
     "name": "stderr",
     "output_type": "stream",
     "text": [
      " 20%|██        | 4/20 [1:12:54<5:30:17, 1238.57s/it]"
     ]
    },
    {
     "name": "stdout",
     "output_type": "stream",
     "text": [
      "Permit price: 131.42198440618813 and total emission: 350.14435538261455 and emission cap 353.7530426957919\n",
      "Max diff: 0.01, permit price = 117.3, cap = 472, second_stage = False, a = 1.0000000000000"
     ]
    },
    {
     "name": "stderr",
     "output_type": "stream",
     "text": [
      " 25%|██▌       | 5/20 [1:40:21<5:46:26, 1385.77s/it]"
     ]
    },
    {
     "name": "stdout",
     "output_type": "stream",
     "text": [
      "Permit price: 117.32481652870774 and total emission: 471.1759908188006 and emission cap 471.67072359438924\n",
      "Max diff: 0.65, permit price = 107.3, cap = 590, second_stage = True, a = 0.01003000000000Everything failed, best result is 0.041190852145518875\n",
      "Max diff: 0.01, permit price = 106.4, cap = 590, second_stage = False, a = 1.000"
     ]
    },
    {
     "name": "stderr",
     "output_type": "stream",
     "text": [
      " 30%|███       | 6/20 [2:13:11<6:09:42, 1584.44s/it]"
     ]
    },
    {
     "name": "stdout",
     "output_type": "stream",
     "text": [
      "Permit price: 106.4108801074326 and total emission: 578.7277995743306 and emission cap 589.5884044929866\n",
      "Max diff: 0.27, permit price = 94.6, cap = 708, second_stage = True, a = 0.011000000000000Everything failed, best result is 0.03032923625761441\n",
      "Permit price: 98.680175price = 98.7, cap = 708, second_stage = False, a = 0.483"
     ]
    },
    {
     "name": "stderr",
     "output_type": "stream",
     "text": [
      " 35%|███▌      | 7/20 [2:44:44<6:05:10, 1685.42s/it]"
     ]
    },
    {
     "name": "stdout",
     "output_type": "stream",
     "text": [
      "Permit price: 98.68017514236271 and total emission: 698.7054534270387 and emission cap 707.5060853915838\n",
      "Max diff: 0.07, permit price = 116.4, cap = 825, second_stage = True, a = 0.17100000000000"
     ]
    }
   ],
   "source": [
    "# Create a plot for the permit price with respect to the emission cap 10 samples between 0 and 200\n",
    "BAU_percentage = np.linspace(0, 1, 20)\n",
    "BAU_emissions = Regulator1.BAU_emissions\n",
    "caps = [BAU_emissions*i for i in BAU_percentage]\n",
    "# Read the data from the csv file, if it exists, if not, just create a new one\n",
    "try:\n",
    "    df = pd.read_csv('permit_price_to_Percentage_of_BAU_v1_0.csv')\n",
    "    percentages = list(df['Percentage of BAU'])\n",
    "    caps2 = list(df['Emission Cap'])\n",
    "    permit_prices = list(df['Permit Price'])\n",
    "    outputs = list(df['Outputs'])\n",
    "    emissions = list(df['Emissions'])\n",
    "    profits = list(df['Profits'])\n",
    "except:\n",
    "    percentages = []\n",
    "    caps2 = []\n",
    "    permit_prices = []\n",
    "    outputs = []\n",
    "    emissions = []\n",
    "    profits = []\n",
    "# Loop through all the emission caps and calculate the permit price\n",
    "\n",
    "# Find all the caps that are not calculated yet (meaning that they are more than 0.5 different than a value of the caps2)\n",
    "for i in caps[:]:  # Iterate over a copy of the list\n",
    "    if any(abs(i - x) < 0.5 for x in caps2):\n",
    "        caps.remove(i)\n",
    "\n",
    "for i in tqdm.tqdm(caps):\n",
    "    Regulator1.emission_cap = i  \n",
    "    Regulator1.find_optimal_permit_price_to_meet_the_emission_cap_requirements(precision= 0.01, x_high = 1000000000000, size_of_diffs= 1)\n",
    "    caps2.append(i)\n",
    "    percentages.append(Regulator1.emission_cap/BAU_emissions)\n",
    "    permit_prices.append(Regulator1.permit_price)\n",
    "    outputs.append(tuple([firm.actual_output for firm in Regulator1.firm_registry.values()]))\n",
    "    emissions.append(tuple([firm.emission for firm in Regulator1.firm_registry.values()]))\n",
    "    profits.append(tuple([firm.profit for firm in Regulator1.firm_registry.values()]))\n",
    "    # save all the data in a csv file\n",
    "    df = pd.DataFrame({'Percentage of BAU': percentages, 'Emission Cap': caps2, 'Permit Price': permit_prices, 'Outputs': outputs, 'Emissions': emissions, 'Profits': profits})\n",
    "    df.to_csv('permit_price_to_Percentage_of_BAU_v1_0.csv', index=False)\n",
    "\n",
    "\n"
   ]
  },
  {
   "cell_type": "code",
   "execution_count": null,
   "metadata": {},
   "outputs": [],
   "source": []
  }
 ],
 "metadata": {
  "kernelspec": {
   "display_name": "base",
   "language": "python",
   "name": "python3"
  },
  "language_info": {
   "codemirror_mode": {
    "name": "ipython",
    "version": 3
   },
   "file_extension": ".py",
   "mimetype": "text/x-python",
   "name": "python",
   "nbconvert_exporter": "python",
   "pygments_lexer": "ipython3",
   "version": "3.12.4"
  }
 },
 "nbformat": 4,
 "nbformat_minor": 2
}
