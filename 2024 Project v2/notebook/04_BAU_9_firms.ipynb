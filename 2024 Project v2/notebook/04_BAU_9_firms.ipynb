{
 "cells": [
  {
   "cell_type": "code",
   "execution_count": 4,
   "metadata": {},
   "outputs": [],
   "source": [
    "from funkwpap import sympy_to_gurobi, Firm, Country, Sector, Regulator, get_emission\n",
    "import sympy as sp, pandas as pd, numpy as np, tqdm, time, sys\n",
    "from gurobipy import Model, LinExpr, QuadExpr, GRB\n",
    "x = sp.symbols('x')\n",
    "y = sp.symbols('y')"
   ]
  },
  {
   "cell_type": "code",
   "execution_count": 5,
   "metadata": {},
   "outputs": [
    {
     "name": "stdout",
     "output_type": "stream",
     "text": [
      "[Firm(id=1, name='firm1', sector_id=1, country_id=1, actual_output=0, emission=0, profit=0), Firm(id=2, name='firm2', sector_id=1, country_id=2, actual_output=0, emission=0, profit=0), Firm(id=3, name='firm3', sector_id=1, country_id=3, actual_output=0, emission=0, profit=0)]\n",
      "[Firm(id=1, name='firm1', sector_id=1, country_id=1, actual_output=0, emission=0, profit=0), Firm(id=4, name='firm4', sector_id=2, country_id=1, actual_output=0, emission=0, profit=0), Firm(id=7, name='firm7', sector_id=3, country_id=1, actual_output=0, emission=0, profit=0)]\n",
      "{1: Firm(id=1, name='firm1', sector_id=1, country_id=1, actual_output=0, emission=0, profit=0), 2: Firm(id=2, name='firm2', sector_id=1, country_id=2, actual_output=0, emission=0, profit=0), 3: Firm(id=3, name='firm3', sector_id=1, country_id=3, actual_output=0, emission=0, profit=0), 4: Firm(id=4, name='firm4', sector_id=2, country_id=1, actual_output=0, emission=0, profit=0), 5: Firm(id=5, name='firm5', sector_id=2, country_id=2, actual_output=0, emission=0, profit=0), 6: Firm(id=6, name='firm6', sector_id=2, country_id=3, actual_output=0, emission=0, profit=0), 7: Firm(id=7, name='firm7', sector_id=3, country_id=1, actual_output=0, emission=0, profit=0), 8: Firm(id=8, name='firm8', sector_id=3, country_id=2, actual_output=0, emission=0, profit=0), 9: Firm(id=9, name='firm9', sector_id=3, country_id=3, actual_output=0, emission=0, profit=0)}\n",
      "firm1 cement DE\n",
      "firm2 cement FI\n",
      "firm3 cement GR\n",
      "firm4 steel DE\n",
      "firm5 steel FI\n",
      "firm6 steel GR\n",
      "firm7 paper DE\n",
      "firm8 paper FI\n",
      "firm9 paper GR\n"
     ]
    }
   ],
   "source": [
    "\n",
    "# Create Sectors and Countries\n",
    "Regulator1 = Regulator('EU', permit_price= 2, emission_cap= 100)\n",
    "sector1 = Sector('cement', price_demand_function= 100 - 0.1*x, free_emission_multiplier= 0.1, regulator= Regulator1)\n",
    "sector2 = Sector('steel', price_demand_function=150 - 0.1*x, free_emission_multiplier= 0.05, regulator= Regulator1)\n",
    "sector3 = Sector('paper', price_demand_function= 200 - 0.02*x**1.5, free_emission_multiplier= 0.1, regulator= Regulator1)\n",
    "country1 = Country('DE', 1, regulator= Regulator1)\n",
    "country2 = Country('FI', 0.5, regulator= Regulator1)\n",
    "country3 = Country('GR', size= 0.1, regulator= Regulator1)\n",
    "\n",
    "# Create Firms using objects\n",
    "firm1 = Firm('firm1', 1, 1, x*0, 0.1*sp.exp('x') + 100/y**2, 0, 0, 0, regulator= Regulator1)\n",
    "firm2 = Firm('firm2', 1, 2, x*0, 5*x**3.2 + 40/y**2, 0, 0, 0, regulator= Regulator1)\n",
    "firm3 = Firm('firm3', 1, 3, x*0, x**5.2 + 30/y**2, 0, 0, 0, regulator= Regulator1)\n",
    "firm4 = Firm('firm4', 2, 1, x*0, x**3.3 + 20/y**2, 0, 0, 0, regulator= Regulator1)\n",
    "firm5 = Firm('firm5', 2, 2, x*0, x**2.3 + 20/y**2, 0, 0, 0, regulator= Regulator1)\n",
    "firm6 = Firm('firm6', 2, 3, x*0, x**3.2 + 15/y**2, 0, 0, 0, regulator= Regulator1)\n",
    "firm7 = Firm('firm7', 3, 1, x*0, x**4.1 + 40/y**2, 0, 0, 0, regulator= Regulator1)\n",
    "firm8 = Firm('firm8', 3, 2, x*0, x**5.1 + 50/y**2, 0, 0, 0, regulator= Regulator1)\n",
    "firm9 = Firm('firm9', 3, 3, x*0, x**5 + 60/y**2, 0, 0, 0, regulator= Regulator1)\n",
    "\n",
    "\n",
    "print(sector1.firms)  # List of firms in sector1\n",
    "print(country1.firms)  # List of firms in country1\n",
    "print(Regulator1.firm_registry)  # Dictionary of all firms\n",
    "\n",
    "for firm in Regulator1.firm_registry.values():\n",
    "    print(firm.name, firm.sector.name, firm.country.name)\n"
   ]
  },
  {
   "cell_type": "code",
   "execution_count": 6,
   "metadata": {},
   "outputs": [],
   "source": [
    "#Regulator1.optimize_them_all(precision = 0.1, print_diff = True, BAU = True)"
   ]
  },
  {
   "cell_type": "code",
   "execution_count": 7,
   "metadata": {},
   "outputs": [
    {
     "name": "stdout",
     "output_type": "stream",
     "text": [
      "firm1 cement DE 0 0 0\n",
      "firm2 cement FI 0 0 0\n",
      "firm3 cement GR 0 0 0\n",
      "firm4 steel DE 0 0 0\n",
      "firm5 steel FI 0 0 0\n",
      "firm6 steel GR 0 0 0\n",
      "firm7 paper DE 0 0 0\n",
      "firm8 paper FI 0 0 0\n",
      "firm9 paper GR 0 0 0\n"
     ]
    }
   ],
   "source": [
    "for firm in Regulator1.firm_registry.values():\n",
    "    print(firm.name, firm.sector.name, firm.country.name, firm.actual_output, firm.emission, firm.profit)"
   ]
  },
  {
   "cell_type": "code",
   "execution_count": 8,
   "metadata": {},
   "outputs": [
    {
     "name": "stdout",
     "output_type": "stream",
     "text": [
      "Set parameter Username\n",
      "Academic license - for non-commercial use only - expires 2025-08-14\n",
      "Max diff: 999999999.000000"
     ]
    }
   ],
   "source": [
    "Regulator1.BAU_calculator(print_diff = True)"
   ]
  },
  {
   "cell_type": "code",
   "execution_count": 9,
   "metadata": {},
   "outputs": [
    {
     "name": "stdout",
     "output_type": "stream",
     "text": [
      "Firm name, Sector, Country, Actual output, Emission, Profit, BAU profit, BAU emission\n",
      "firm1 cement DE 257.32525385607016 0.0 6273.590765913685 6273.590765913685 257.32525385607016\n",
      "firm2 cement FI 257.32525385607016 0.0 6273.590765913685 6273.590765913685 257.32525385607016\n",
      "firm3 cement GR 241.54945043799546 0.0 5888.976612559498 5888.976612559498 241.54945043799546\n",
      "firm4 steel DE 376.13222749306016 0.0 13977.198356291676 13977.198356291676 376.13222749306016\n",
      "firm5 steel FI 376.13222749306016 0.0 13977.198356291676 13977.198356291676 376.13222749306016\n",
      "firm6 steel GR 376.13222749306016 0.0 13977.198356291676 13977.198356291676 376.13222749306016\n",
      "firm7 paper DE 118.62743152590413 0.0 7795.966308369689 7795.966308369689 118.62743152590413\n",
      "firm8 paper FI 118.57196583476036 0.0 7792.244313831019 7792.244313831019 118.57196583476036\n",
      "firm9 paper GR 118.6398990833682 0.0 7796.460152420055 7796.460152420055 118.6398990833682\n"
     ]
    }
   ],
   "source": [
    "print(\"Firm name, Sector, Country, Actual output, Emission, Profit, BAU profit, BAU emission\")\n",
    "for firm in Regulator1.firm_registry.values():\n",
    "    print(firm.name, firm.sector.name, firm.country.name, firm.actual_output, firm.emission, firm.profit, firm.BAU_profit, firm.BAU_emission)"
   ]
  },
  {
   "cell_type": "code",
   "execution_count": 10,
   "metadata": {},
   "outputs": [
    {
     "name": "stderr",
     "output_type": "stream",
     "text": [
      "  0%|          | 0/19 [00:00<?, ?it/s]"
     ]
    },
    {
     "name": "stdout",
     "output_type": "stream",
     "text": [
      "Max diff: 999999999.0000001200000It doesn't converge initially for cap = 117.91768089859731\n",
      "Max diff: 8.9878026It overshooted with a=0.5 trying again with 0.45\n",
      "Max diff: 6.867515It overshooted with a=0.45 trying again with 0.405\n",
      "Max diff: 999999999.000000It doesn't converge initially for cap = 117.91768089859731\n",
      "Max diff: 0.2246831It overshooted with a=0.5 trying again with 0.45\n",
      "Max diff: 0.203127It overshooted with a=0.45 trying again with 0.405\n",
      "Max diff: 999999999.000000It doesn't converge initially for cap = 117.91768089859731\n",
      "Max diff: 0.1231229It overshooted with a=0.5 trying again with 0.45\n",
      "Max diff: 999999999.000000It doesn't converge initially for cap = 117.91768089859731\n",
      "Max diff: 0.1047991It overshooted with a=0.5 trying again with 0.45\n",
      "Max diff: 999999999.000000It doesn't converge initially for cap = 117.91768089859731\n",
      "Max diff: 999999999.000000It doesn't converge initially for cap = 117.91768089859731\n",
      "Max diff: 0.1743202It overshooted with a=0.5 trying again with 0.45\n",
      "Permit price: 179.62520400"
     ]
    },
    {
     "name": "stderr",
     "output_type": "stream",
     "text": [
      "  5%|▌         | 1/19 [13:34<4:04:24, 814.69s/it]"
     ]
    },
    {
     "name": "stdout",
     "output_type": "stream",
     "text": [
      "Permit price: 179.62520360015333 and total emission: 117.12175357195336 and emission cap 117.91768089859731\n",
      "Max diff: 999999999.0000001200000It doesn't converge initially for cap = 235.83536179719462\n",
      "Max diff: 0.3328125It overshooted with a=0.5 trying again with 0.45\n",
      "Max diff: 0.172150It overshooted with a=0.45 trying again with 0.405\n",
      "Max diff: 0.252857It overshooted with a=0.405 trying again with 0.36450000000000005\n",
      "Max diff: 999999999.000000It doesn't converge initially for cap = 235.83536179719462\n",
      "Max diff: 999999999.000000It doesn't converge initially for cap = 235.83536179719462\n",
      "Max diff: 0.3296137It overshooted with a=0.5 trying again with 0.45\n",
      "Max diff: 0.142985It overshooted with a=0.45 trying again with 0.405\n",
      "Max diff: 999999999.000000It doesn't converge initially for cap = 235.83536179719462\n",
      "Max diff: 5.0058412It overshooted with a=0.5 trying again with 0.45\n",
      "Max diff: 999999999.000000It doesn't converge initially for cap = 235.83536179719462\n",
      "Max diff: 2.4665178It overshooted with a=0.5 trying again with 0.45\n",
      "Max diff: 0.259296It overshooted with a=0.45 trying again with 0.405\n",
      "Max diff: 0.192507It overshooted with a=0.405 trying again with 0.36450000000000005\n",
      "Max diff: 0.349824It overshooted with a=0.36450000000000005 trying again with 0.32805000000000006\n",
      "Max diff: 999999999.000000It doesn't converge initially for cap = 235.83536179719462\n",
      "Max diff: 2.4025390It overshooted with a=0.5 trying again with 0.45\n",
      "Max diff: 0.260323It overshooted with a=0.45 trying again with 0.405\n",
      "Max diff: 0.134760It overshooted with a=0.405 trying again with 0.36450000000000005\n",
      "Max diff: 999999999.000000It doesn't converge initially for cap = 235.83536179719462\n",
      "Max diff: 1.9726904It overshooted with a=0.5 trying again with 0.45\n",
      "Max diff: 0.157208It overshooted with a=0.45 trying again with 0.405\n",
      "Max diff: 0.158479It overshooted with a=0.405 trying again with 0.36450000000000005\n",
      "Max diff: 999999999.000000It doesn't converge initially for cap = 235.83536179719462\n",
      "Max diff: 0.2112504It overshooted with a=0.5 trying again with 0.45\n",
      "Max diff: 0.366979It overshooted with a=0.45 trying again with 0.405\n",
      "Max diff: 999999999.000000It doesn't converge initially for cap = 235.83536179719462\n",
      "Max diff: 0.4272350It overshooted with a=0.5 trying again with 0.45\n",
      "Max diff: 0.039540"
     ]
    },
    {
     "name": "stderr",
     "output_type": "stream",
     "text": [
      " 11%|█         | 2/19 [32:21<4:42:49, 998.19s/it]"
     ]
    },
    {
     "name": "stdout",
     "output_type": "stream",
     "text": [
      "Permit price: 144.6096575818956 and total emission: 233.2248659155347 and emission cap 235.83536179719462\n",
      "Max diff: 999999999.0000001200000It doesn't converge initially for cap = 353.7530426957919\n",
      "Max diff: 6.7612688It overshooted with a=0.5 trying again with 0.45\n",
      "Max diff: 0.242441It overshooted with a=0.45 trying again with 0.405\n",
      "Max diff: 999999999.000000It doesn't converge initially for cap = 353.7530426957919\n",
      "Max diff: 0.2565652It overshooted with a=0.5 trying again with 0.45\n",
      "Max diff: 999999999.000000It doesn't converge initially for cap = 353.7530426957919\n",
      "Max diff: 0.3746632It overshooted with a=0.5 trying again with 0.45\n",
      "Max diff: 3.046444It overshooted with a=0.45 trying again with 0.405\n",
      "Max diff: 999999999.000000It doesn't converge initially for cap = 353.7530426957919\n",
      "Max diff: 0.5124817It overshooted with a=0.5 trying again with 0.45\n",
      "Permit price: 131.42198400"
     ]
    },
    {
     "name": "stderr",
     "output_type": "stream",
     "text": [
      " 16%|█▌        | 3/19 [42:06<3:35:55, 809.70s/it]"
     ]
    },
    {
     "name": "stdout",
     "output_type": "stream",
     "text": [
      "Permit price: 131.42198440618813 and total emission: 350.14118832931734 and emission cap 353.7530426957919\n",
      "Max diff: 999999999.0000001200000It doesn't converge initially for cap = 471.67072359438924\n",
      "Max diff: 999999999.000000It doesn't converge initially for cap = 471.67072359438924\n",
      "Max diff: 999999999.000000It doesn't converge initially for cap = 471.67072359438924\n",
      "Max diff: 0.3273036It overshooted with a=0.5 trying again with 0.45\n",
      "Max diff: 999999999.000000It doesn't converge initially for cap = 471.67072359438924\n",
      "Max diff: 5.2192514It overshooted with a=0.5 trying again with 0.45\n",
      "Max diff: 0.212056It overshooted with a=0.45 trying again with 0.405\n",
      "Max diff: 999999999.000000It doesn't converge initially for cap = 471.67072359438924\n",
      "Max diff: 0.2610116It overshooted with a=0.5 trying again with 0.45\n",
      "Max diff: 0.255881It overshooted with a=0.45 trying again with 0.405\n",
      "Max diff: 999999999.000000"
     ]
    },
    {
     "name": "stderr",
     "output_type": "stream",
     "text": [
      " 21%|██        | 4/19 [54:03<3:13:15, 773.01s/it]"
     ]
    },
    {
     "name": "stdout",
     "output_type": "stream",
     "text": [
      "Permit price: 117.32481652870774 and total emission: 471.1799538389352 and emission cap 471.67072359438924\n",
      "Max diff: 999999999.0000001200000It doesn't converge initially for cap = 589.5884044929866\n",
      "Max diff: 8.72514163It overshooted with a=0.5 trying again with 0.45\n",
      "Max diff: 6.762684It overshooted with a=0.45 trying again with 0.405\n",
      "Max diff: 0.164249It overshooted with a=0.405 trying again with 0.36450000000000005\n",
      "Max diff: 999999999.000000It doesn't converge initially for cap = 589.5884044929866\n",
      "Max diff: 8.16292277It overshooted with a=0.5 trying again with 0.45\n",
      "Max diff: 0.440028It overshooted with a=0.45 trying again with 0.405\n",
      "Max diff: 0.169090It overshooted with a=0.405 trying again with 0.36450000000000005\n",
      "Max diff: 0.440011It overshooted with a=0.36450000000000005 trying again with 0.32805000000000006\n",
      "Max diff: 999999999.000000It doesn't converge initially for cap = 589.5884044929866\n",
      "Max diff: 125.931649It overshooted with a=0.5 trying again with 0.45\n",
      "Max diff: 90.9074232It overshooted with a=0.45 trying again with 0.405\n",
      "Max diff: 4.7052124It overshooted with a=0.405 trying again with 0.36450000000000005\n",
      "Max diff: 5.400200It overshooted with a=0.36450000000000005 trying again with 0.32805000000000006\n",
      "Max diff: 5.400200It overshooted with a=0.32805000000000006 trying again with 0.2952450000000001\n",
      "Max diff: 1.986286It overshooted with a=0.2952450000000001 trying again with 0.2657205000000001\n",
      "Max diff: 2.238763It overshooted with a=0.2657205000000001 trying again with 0.23914845000000007\n",
      "Max diff: 0.158202It overshooted with a=0.23914845000000007 trying again with 0.21523360500000008\n",
      "Max diff: 0.188830It overshooted with a=0.21523360500000008 trying again with 0.19371024450000007\n",
      "Max diff: 0.130507It overshooted with a=0.19371024450000007 trying again with 0.17433922005000008\n",
      "Max diff: 999999999.000000It doesn't converge initially for cap = 589.5884044929866\n",
      "Max diff: 0.23767774It overshooted with a=0.5 trying again with 0.45\n",
      "Max diff: 999999999.000000It doesn't converge initially for cap = 589.5884044929866\n",
      "Max diff: 7.86595788It overshooted with a=0.5 trying again with 0.45\n",
      "Max diff: 0.208888It overshooted with a=0.45 trying again with 0.405\n",
      "Max diff: 0.234548It overshooted with a=0.405 trying again with 0.36450000000000005\n",
      "Max diff: 999999999.000000It doesn't converge initially for cap = 589.5884044929866\n",
      "Max diff: 73.7566169It overshooted with a=0.5 trying again with 0.45\n",
      "Max diff: 107.504930It overshooted with a=0.45 trying again with 0.405\n",
      "Max diff: 91.945307It overshooted with a=0.405 trying again with 0.36450000000000005\n",
      "Max diff: 87.3511185It overshooted with a=0.36450000000000005 trying again with 0.32805000000000006\n",
      "Max diff: 94.216450It overshooted with a=0.32805000000000006 trying again with 0.2952450000000001\n",
      "Max diff: 92.055472It overshooted with a=0.2952450000000001 trying again with 0.2657205000000001\n",
      "Max diff: 71.1616300It overshooted with a=0.2657205000000001 trying again with 0.23914845000000007\n",
      "Max diff: 84.294376It overshooted with a=0.23914845000000007 trying again with 0.21523360500000008\n",
      "Max diff: 71.092247It overshooted with a=0.21523360500000008 trying again with 0.19371024450000007\n",
      "Max diff: 85.380965It overshooted with a=0.19371024450000007 trying again with 0.17433922005000008\n",
      "Max diff: 90.846373It overshooted with a=0.17433922005000008 trying again with 0.15690529804500009\n",
      "Max diff: 70.838630It overshooted with a=0.15690529804500009 trying again with 0.14121476824050008\n",
      "Max diff: 86.435358It overshooted with a=0.14121476824050008 trying again with 0.12709329141645007\n",
      "Max diff: 90.697029It overshooted with a=0.12709329141645007 trying again with 0.11438396227480506\n",
      "Max diff: 71.171783It overshooted with a=0.11438396227480506 trying again with 0.10294556604732455\n",
      "Max diff: 87.646308It overshooted with a=0.10294556604732455 trying again with 0.0926510094425921\n",
      "Max diff: 90.530561It overshooted with a=0.0926510094425921 trying again with 0.08338590849833288\n",
      "Max diff: 85.470616It overshooted with a=0.08338590849833288 trying again with 0.0750473176484996\n",
      "Max diff: 71.297909It overshooted with a=0.0750473176484996 trying again with 0.06754258588364964\n",
      "Max diff: 89.661498It overshooted with a=0.06754258588364964 trying again with 0.06078832729528468\n",
      "Max diff: 91.238928It overshooted with a=0.06078832729528468 trying again with 0.05470949456575622\n",
      "Max diff: 90.505959It overshooted with a=0.05470949456575622 trying again with 0.0492385451091806\n",
      "Max diff: 91.655947It overshooted with a=0.0492385451091806 trying again with 0.04431469059826254\n",
      "Max diff: 90.155191It overshooted with a=0.04431469059826254 trying again with 0.039883221538436285\n",
      "Max diff: 71.339853It overshooted with a=0.039883221538436285 trying again with 0.03589489938459266\n",
      "Max diff: 87.740625It overshooted with a=0.03589489938459266 trying again with 0.032305409446133394\n",
      "Max diff: 92.493676It overshooted with a=0.032305409446133394 trying again with 0.029074868501520055\n",
      "Max diff: 92.587476It overshooted with a=0.029074868501520055 trying again with 0.02616738165136805\n",
      "Max diff: 91.329063It overshooted with a=0.02616738165136805 trying again with 0.023550643486231246\n",
      "Max diff: 88.597379It overshooted with a=0.023550643486231246 trying again with 0.021195579137608122\n",
      "Max diff: 71.189677It overshooted with a=0.021195579137608122 trying again with 0.01907602122384731\n",
      "Max diff: 88.890961It overshooted with a=0.01907602122384731 trying again with 0.01716841910146258\n",
      "Max diff: 88.465390It overshooted with a=0.01716841910146258 trying again with 0.015451577191316321\n",
      "Max diff: 91.155421It overshooted with a=0.015451577191316321 trying again with 0.01390641947218469\n",
      "Max diff: 90.708999It overshooted with a=0.01390641947218469 trying again with 0.012515777524966222\n",
      "Max diff: 91.871929It overshooted with a=0.012515777524966222 trying again with 0.0112641997724696\n",
      "Max diff: 92.816453It overshooted with a=0.0112641997724696 trying again with 0.010137779795222639\n",
      "Max diff: 93.564053It overshooted with a=0.010137779795222639 trying again with 0.009124001815700375\n",
      "Max diff: 93.016113It overshooted with a=0.009124001815700375 trying again with 0.008211601634130337\n",
      "Max diff: 94.751741It overshooted with a=0.008211601634130337 trying again with 0.007390441470717304\n",
      "Max diff: 95.263490It overshooted with a=0.007390441470717304 trying again with 0.006651397323645574\n",
      "Max diff: 95.501217It overshooted with a=0.006651397323645574 trying again with 0.005986257591281016\n",
      "Max diff: 95.253435It overshooted with a=0.005986257591281016 trying again with 0.005387631832152915\n",
      "Max diff: 92.655897It overshooted with a=0.005387631832152915 trying again with 0.004848868648937623\n",
      "Max diff: 92.693216It overshooted with a=0.004848868648937623 trying again with 0.004363981784043861\n",
      "Max diff: 94.054865It overshooted with a=0.004363981784043861 trying again with 0.003927583605639475\n",
      "Max diff: 93.375339It overshooted with a=0.003927583605639475 trying again with 0.0035348252450755277\n",
      "Max diff: 93.302150It overshooted with a=0.0035348252450755277 trying again with 0.003181342720567975\n",
      "Max diff: 91.866058It overshooted with a=0.003181342720567975 trying again with 0.0028632084485111773\n",
      "Max diff: 93.116604It overshooted with a=0.0028632084485111773 trying again with 0.00257688760366006\n",
      "Max diff: 91.728018It overshooted with a=0.00257688760366006 trying again with 0.0023191988432940537\n",
      "Max diff: 91.986831It overshooted with a=0.0023191988432940537 trying again with 0.0020872789589646483\n",
      "Max diff: 92.539715It overshooted with a=0.0020872789589646483 trying again with 0.0018785510630681835\n",
      "Max diff: 92.254237It overshooted with a=0.0018785510630681835 trying again with 0.001690695956761365\n",
      "Max diff: 92.323898It overshooted with a=0.001690695956761365 trying again with 0.0015216263610852287\n",
      "Max diff: 91.702976It overshooted with a=0.0015216263610852287 trying again with 0.0013694637249767059\n",
      "Max diff: 91.537221It overshooted with a=0.0013694637249767059 trying again with 0.0012325173524790354\n",
      "Max diff: 92.206476It overshooted with a=0.0012325173524790354 trying again with 0.0011092656172311318\n",
      "Max diff: 92.257849It overshooted with a=0.0011092656172311318 trying again with 0.0009983390555080185\n",
      "Max diff: 92.356798It overshooted with a=0.0009983390555080185 trying again with 0.0008985051499572167\n",
      "Max diff: 92.255345It overshooted with a=0.0008985051499572167 trying again with 0.0008086546349614951\n",
      "Max diff: 92.131209It overshooted with a=0.0008086546349614951 trying again with 0.0007277891714653456\n",
      "Max diff: 92.085282It overshooted with a=0.0007277891714653456 trying again with 0.000655010254318811\n",
      "Max diff: 92.077905It overshooted with a=0.000655010254318811 trying again with 0.0005895092288869299\n",
      "Max diff: 91.095938It overshooted with a=0.0005895092288869299 trying again with 0.0005305583059982369\n",
      "Max diff: 92.332799It overshooted with a=0.0005305583059982369 trying again with 0.00047750247539841327\n",
      "Max diff: 92.149480It overshooted with a=0.00047750247539841327 trying again with 0.00042975222785857195\n",
      "Max diff: 92.085382It overshooted with a=0.00042975222785857195 trying again with 0.00038677700507271475\n",
      "Max diff: 92.002423It overshooted with a=0.00038677700507271475 trying again with 0.0003480993045654433\n",
      "Max diff: 92.059361It overshooted with a=0.0003480993045654433 trying again with 0.00031328937410889893\n",
      "Max diff: 92.053085It overshooted with a=0.00031328937410889893 trying again with 0.00028196043669800907\n",
      "Max diff: 92.048536It overshooted with a=0.00028196043669800907 trying again with 0.0002537643930282082\n",
      "Max diff: 92.106964It overshooted with a=0.0002537643930282082 trying again with 0.00022838795372538738\n",
      "Max diff: 92.092830It overshooted with a=0.00022838795372538738 trying again with 0.00020554915835284865\n",
      "Max diff: 91.969145It overshooted with a=0.00020554915835284865 trying again with 0.0001849942425175638\n",
      "Max diff: 90.904884It overshooted with a=0.0001849942425175638 trying again with 0.00016649481826580743\n",
      "Max diff: 92.077278It overshooted with a=0.00016649481826580743 trying again with 0.0001498453364392267\n",
      "Max diff: 92.078206"
     ]
    },
    {
     "name": "stderr",
     "output_type": "stream",
     "text": [
      " 21%|██        | 4/19 [1:16:06<4:45:25, 1141.67s/it]"
     ]
    },
    {
     "name": "stdout",
     "output_type": "stream",
     "text": [
      "It overshooted with a=0.0001498453364392267 trying again with 0.00013486080279530402\n"
     ]
    },
    {
     "name": "stderr",
     "output_type": "stream",
     "text": [
      "\n"
     ]
    },
    {
     "ename": "UnboundLocalError",
     "evalue": "cannot access local variable 'other_a_excecusions' where it is not associated with a value",
     "output_type": "error",
     "traceback": [
      "\u001b[1;31m---------------------------------------------------------------------------\u001b[0m",
      "\u001b[1;31mUnboundLocalError\u001b[0m                         Traceback (most recent call last)",
      "Cell \u001b[1;32mIn[10], line 25\u001b[0m\n\u001b[0;32m     23\u001b[0m \u001b[38;5;28;01mfor\u001b[39;00m i \u001b[38;5;129;01min\u001b[39;00m tqdm\u001b[38;5;241m.\u001b[39mtqdm([i \u001b[38;5;28;01mfor\u001b[39;00m i \u001b[38;5;129;01min\u001b[39;00m caps \u001b[38;5;28;01mif\u001b[39;00m i \u001b[38;5;129;01mnot\u001b[39;00m \u001b[38;5;129;01min\u001b[39;00m caps2]):\n\u001b[0;32m     24\u001b[0m     Regulator1\u001b[38;5;241m.\u001b[39memission_cap \u001b[38;5;241m=\u001b[39m i  \n\u001b[1;32m---> 25\u001b[0m     Regulator1\u001b[38;5;241m.\u001b[39mfind_optimal_permit_price_to_meet_the_emission_cap_requirements(precision\u001b[38;5;241m=\u001b[39m \u001b[38;5;241m0.01\u001b[39m, x_high \u001b[38;5;241m=\u001b[39m \u001b[38;5;241m1000000000000\u001b[39m)\n\u001b[0;32m     26\u001b[0m     caps2\u001b[38;5;241m.\u001b[39mappend(i)\n\u001b[0;32m     27\u001b[0m     percentages\u001b[38;5;241m.\u001b[39mappend(Regulator1\u001b[38;5;241m.\u001b[39memission_cap\u001b[38;5;241m/\u001b[39mBAU_emissions)\n",
      "File \u001b[1;32mc:\\Users\\Kostas\\Documents\\GitHub\\Diplomatiki_kwpap_step_1\\2024 Project v2\\notebook\\funkwpap.py:275\u001b[0m, in \u001b[0;36mfind_optimal_permit_price_to_meet_the_emission_cap_requirements\u001b[1;34m(self, precision, permit_price_tolerance, x_low, x_high)\u001b[0m\n\u001b[0;32m    273\u001b[0m x_mid = (x_high + x_low)/2\n\u001b[0;32m    274\u001b[0m self.permit_price = x_mid\n\u001b[1;32m--> 275\u001b[0m self.optimize_them_all(print_output=False, print_diff=True, precision = precision)\n\u001b[0;32m    276\u001b[0m total_emission = get_emission(self.firm_registry.values())\n\u001b[0;32m    277\u001b[0m sys.stdout.write(\"\\rPermit price: {:2f}\".format(self.permit_price))\n",
      "File \u001b[1;32mc:\\Users\\Kostas\\Documents\\GitHub\\Diplomatiki_kwpap_step_1\\2024 Project v2\\notebook\\funkwpap.py:251\u001b[0m, in \u001b[0;36moptimize_them_all\u001b[1;34m(self, print_output, print_diff, precision, max_iter, BAU)\u001b[0m\n\u001b[0;32m    249\u001b[0m # Step 5: If it doesn't converge, return an error message.\n\u001b[0;32m    250\u001b[0m if counter == max_iter:\n\u001b[1;32m--> 251\u001b[0m     other_a_excecusions += 1\n\u001b[0;32m    252\u001b[0m     print(\"It doesn't converge with a={}\".format(a))\n\u001b[0;32m    253\u001b[0m     # to combat this we will do the same but with different a values.\n",
      "\u001b[1;31mUnboundLocalError\u001b[0m: cannot access local variable 'other_a_excecusions' where it is not associated with a value"
     ]
    }
   ],
   "source": [
    "# Create a plot for the permit price with respect to the emission cap 10 samples between 0 and 200\n",
    "BAU_percentage = np.linspace(0, 1, 20)\n",
    "BAU_emissions = Regulator1.BAU_emissions\n",
    "caps = [BAU_emissions*i for i in BAU_percentage]\n",
    "# Read the data from the csv file, if it exists, if not, just create a new one\n",
    "try:\n",
    "    df = pd.read_csv('permit_price_to_Percentage_of_BAU_v0_0.csv')\n",
    "    percentages = list(df['Percentage of BAU'])\n",
    "    caps2 = list(df['Emission Cap'])\n",
    "    permit_prices = list(df['Permit Price'])\n",
    "    outputs = list(df['Outputs'])\n",
    "    emissions = list(df['Emissions'])\n",
    "    profits = list(df['Profits'])\n",
    "except:\n",
    "    percentages = []\n",
    "    caps2 = []\n",
    "    permit_prices = []\n",
    "    outputs = []\n",
    "    emissions = []\n",
    "    profits = []\n",
    "# Loop through all the emission caps and calculate the permit price\n",
    "\n",
    "for i in tqdm.tqdm([i for i in caps if i not in caps2]):\n",
    "    Regulator1.emission_cap = i  \n",
    "    Regulator1.find_optimal_permit_price_to_meet_the_emission_cap_requirements(precision= 0.01, x_high = 1000000000000)\n",
    "    caps2.append(i)\n",
    "    percentages.append(Regulator1.emission_cap/BAU_emissions)\n",
    "    permit_prices.append(Regulator1.permit_price)\n",
    "    outputs.append(tuple([firm.actual_output for firm in Regulator1.firm_registry.values()]))\n",
    "    emissions.append(tuple([firm.emission for firm in Regulator1.firm_registry.values()]))\n",
    "    profits.append(tuple([firm.profit for firm in Regulator1.firm_registry.values()]))\n",
    "    # save all the data in a csv file\n",
    "    df = pd.DataFrame({'Percentage of BAU': percentages, 'Emission Cap': caps2, 'Permit Price': permit_prices, 'Outputs': outputs, 'Emissions': emissions, 'Profits': profits})\n",
    "    df.to_csv('permit_price_to_Percentage_of_BAU_v0_0.csv', index=False)\n",
    "\n",
    "\n"
   ]
  }
 ],
 "metadata": {
  "kernelspec": {
   "display_name": "base",
   "language": "python",
   "name": "python3"
  },
  "language_info": {
   "codemirror_mode": {
    "name": "ipython",
    "version": 3
   },
   "file_extension": ".py",
   "mimetype": "text/x-python",
   "name": "python",
   "nbconvert_exporter": "python",
   "pygments_lexer": "ipython3",
   "version": "3.12.4"
  }
 },
 "nbformat": 4,
 "nbformat_minor": 2
}
