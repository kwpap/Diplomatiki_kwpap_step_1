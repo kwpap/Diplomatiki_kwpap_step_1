{
 "cells": [
  {
   "cell_type": "code",
   "execution_count": 1,
   "metadata": {},
   "outputs": [],
   "source": [
    "from funkwpap import sympy_to_gurobi, Firm, Country, Sector, Regulator, get_emission\n",
    "import sympy as sp, pandas as pd, numpy as np, tqdm, time, sys\n",
    "from gurobipy import Model, LinExpr, QuadExpr, GRB\n",
    "x = sp.symbols('x')\n",
    "y = sp.symbols('y')"
   ]
  },
  {
   "cell_type": "code",
   "execution_count": 2,
   "metadata": {},
   "outputs": [
    {
     "name": "stdout",
     "output_type": "stream",
     "text": [
      "[Firm(id=1, name='firm1', sector_id=1, country_id=1, actual_output=0, emission=0, profit=0), Firm(id=2, name='firm2', sector_id=1, country_id=2, actual_output=0, emission=0, profit=0), Firm(id=3, name='firm3', sector_id=1, country_id=3, actual_output=0, emission=0, profit=0)]\n",
      "[Firm(id=1, name='firm1', sector_id=1, country_id=1, actual_output=0, emission=0, profit=0), Firm(id=4, name='firm4', sector_id=2, country_id=1, actual_output=0, emission=0, profit=0), Firm(id=7, name='firm7', sector_id=3, country_id=1, actual_output=0, emission=0, profit=0)]\n",
      "{1: Firm(id=1, name='firm1', sector_id=1, country_id=1, actual_output=0, emission=0, profit=0), 2: Firm(id=2, name='firm2', sector_id=1, country_id=2, actual_output=0, emission=0, profit=0), 3: Firm(id=3, name='firm3', sector_id=1, country_id=3, actual_output=0, emission=0, profit=0), 4: Firm(id=4, name='firm4', sector_id=2, country_id=1, actual_output=0, emission=0, profit=0), 5: Firm(id=5, name='firm5', sector_id=2, country_id=2, actual_output=0, emission=0, profit=0), 6: Firm(id=6, name='firm6', sector_id=2, country_id=3, actual_output=0, emission=0, profit=0), 7: Firm(id=7, name='firm7', sector_id=3, country_id=1, actual_output=0, emission=0, profit=0), 8: Firm(id=8, name='firm8', sector_id=3, country_id=2, actual_output=0, emission=0, profit=0), 9: Firm(id=9, name='firm9', sector_id=3, country_id=3, actual_output=0, emission=0, profit=0)}\n",
      "firm1 cement DE\n",
      "firm2 cement FI\n",
      "firm3 cement GR\n",
      "firm4 steel DE\n",
      "firm5 steel FI\n",
      "firm6 steel GR\n",
      "firm7 paper DE\n",
      "firm8 paper FI\n",
      "firm9 paper GR\n"
     ]
    }
   ],
   "source": [
    "\n",
    "# Create Sectors and Countries\n",
    "Regulator1 = Regulator('EU', permit_price= 2, emission_cap= 100)\n",
    "sector1 = Sector('cement', price_demand_function= 100 - 0.1*x, free_emission_multiplier= 0.1, regulator= Regulator1)\n",
    "sector2 = Sector('steel', price_demand_function=150 - 0.1*x, free_emission_multiplier= 0.05, regulator= Regulator1)\n",
    "sector3 = Sector('paper', price_demand_function= 200 - 0.02*x**1.5, free_emission_multiplier= 0.1, regulator= Regulator1)\n",
    "country1 = Country('DE', 1, regulator= Regulator1)\n",
    "country2 = Country('FI', 0.5, regulator= Regulator1)\n",
    "country3 = Country('GR', size= 0.1, regulator= Regulator1)\n",
    "\n",
    "# Create Firms using objects\n",
    "firm1 = Firm('firm1', 1, 1, x*0, 0.1*sp.exp('x') + 100/y**2, 0, 0, 0, regulator= Regulator1)\n",
    "firm2 = Firm('firm2', 1, 2, x*0, 5*x**3.2 + 40/y**2, 0, 0, 0, regulator= Regulator1)\n",
    "firm3 = Firm('firm3', 1, 3, x*0, x**5.2 + 30/y**2, 0, 0, 0, regulator= Regulator1)\n",
    "firm4 = Firm('firm4', 2, 1, x*0, x**3.3 + 20/y**2, 0, 0, 0, regulator= Regulator1)\n",
    "firm5 = Firm('firm5', 2, 2, x*0, x**2.3 + 20/y**2, 0, 0, 0, regulator= Regulator1)\n",
    "firm6 = Firm('firm6', 2, 3, x*0, x**3.2 + 15/y**2, 0, 0, 0, regulator= Regulator1)\n",
    "firm7 = Firm('firm7', 3, 1, x*0, x**4.1 + 40/y**2, 0, 0, 0, regulator= Regulator1)\n",
    "firm8 = Firm('firm8', 3, 2, x*0, x**5.1 + 50/y**2, 0, 0, 0, regulator= Regulator1)\n",
    "firm9 = Firm('firm9', 3, 3, x*0, x**5 + 60/y**2, 0, 0, 0, regulator= Regulator1)\n",
    "\n",
    "\n",
    "print(sector1.firms)  # List of firms in sector1\n",
    "print(country1.firms)  # List of firms in country1\n",
    "print(Regulator1.firm_registry)  # Dictionary of all firms\n",
    "\n",
    "for firm in Regulator1.firm_registry.values():\n",
    "    print(firm.name, firm.sector.name, firm.country.name)\n"
   ]
  },
  {
   "cell_type": "code",
   "execution_count": 3,
   "metadata": {},
   "outputs": [],
   "source": [
    "#Regulator1.optimize_them_all(precision = 0.1, print_diff = True, BAU = True)"
   ]
  },
  {
   "cell_type": "code",
   "execution_count": 4,
   "metadata": {},
   "outputs": [
    {
     "name": "stdout",
     "output_type": "stream",
     "text": [
      "firm1 cement DE 0 0 0\n",
      "firm2 cement FI 0 0 0\n",
      "firm3 cement GR 0 0 0\n",
      "firm4 steel DE 0 0 0\n",
      "firm5 steel FI 0 0 0\n",
      "firm6 steel GR 0 0 0\n",
      "firm7 paper DE 0 0 0\n",
      "firm8 paper FI 0 0 0\n",
      "firm9 paper GR 0 0 0\n"
     ]
    }
   ],
   "source": [
    "for firm in Regulator1.firm_registry.values():\n",
    "    print(firm.name, firm.sector.name, firm.country.name, firm.actual_output, firm.emission, firm.profit)"
   ]
  },
  {
   "cell_type": "code",
   "execution_count": 5,
   "metadata": {},
   "outputs": [
    {
     "name": "stdout",
     "output_type": "stream",
     "text": [
      "Set parameter Username\n",
      "Academic license - for non-commercial use only - expires 2025-08-14\n",
      "Max diff: 0.00851714"
     ]
    }
   ],
   "source": [
    "Regulator1.BAU_calculator(print_diff = True)"
   ]
  },
  {
   "cell_type": "code",
   "execution_count": 6,
   "metadata": {},
   "outputs": [
    {
     "name": "stdout",
     "output_type": "stream",
     "text": [
      "Firm name, Sector, Country, Actual output, Emission, Profit, BAU profit, BAU emission\n",
      "firm1 cement DE 257.32525385607016 0.0 6273.59076591368 6273.59076591368 257.32525385607016\n",
      "firm2 cement FI 257.32525385607016 0.0 6273.59076591368 6273.59076591368 257.32525385607016\n",
      "firm3 cement GR 241.54945043799546 0.0 5888.97661255950 5888.97661255950 241.54945043799546\n",
      "firm4 steel DE 376.13222749306016 0.0 13977.1983562917 13977.1983562917 376.13222749306016\n",
      "firm5 steel FI 376.13222749306016 0.0 13977.1983562917 13977.1983562917 376.13222749306016\n",
      "firm6 steel GR 376.13222749306016 0.0 13977.1983562917 13977.1983562917 376.13222749306016\n",
      "firm7 paper DE 118.62743152590413 0.0 7800.22830116322 7800.22830116322 118.62743152590413\n",
      "firm8 paper FI 118.57196583476036 0.0 7796.62338066782 7796.62338066782 118.57196583476036\n",
      "firm9 paper GR 118.6398990833682 0.0 7800.69946375400 7800.69946375400 118.6398990833682\n"
     ]
    }
   ],
   "source": [
    "print(\"Firm name, Sector, Country, Actual output, Emission, Profit, BAU profit, BAU emission\")\n",
    "for firm in Regulator1.firm_registry.values():\n",
    "    print(firm.name, firm.sector.name, firm.country.name, firm.actual_output, firm.emission, firm.profit, firm.BAU_profit, firm.BAU_emission)"
   ]
  },
  {
   "cell_type": "code",
   "execution_count": 7,
   "metadata": {},
   "outputs": [
    {
     "name": "stderr",
     "output_type": "stream",
     "text": [
      "  0%|          | 0/18 [00:00<?, ?it/s]"
     ]
    },
    {
     "name": "stdout",
     "output_type": "stream",
     "text": [
      "Max diff: 0.395801830644941200000It failed to converge with permit = 116.41532182693481, cap = 117.91768089859731, a = 1\n",
      "Max diff: 0.532208It failed to converge with permit = 116.41532182693481, cap = 117.91768089859731, a = 0.9\n",
      "Max diff: 0.611607It failed to converge with permit = 116.41532182693481, cap = 117.91768089859731, a = 0.81\n",
      "Max diff: 0.271544515322It failed to converge with permit = 174.62298274040222, cap = 117.91768089859731, a = 1\n",
      "Max diff: 0.292909322983It failed to converge with permit = 203.72681319713593, cap = 117.91768089859731, a = 1\n",
      "Max diff: 0.314712It failed to converge with permit = 203.72681319713593, cap = 117.91768089859731, a = 0.9\n",
      "Max diff: 0.247660It failed to converge with permit = 203.72681319713593, cap = 117.91768089859731, a = 0.81\n",
      "Max diff: 0.319155It failed to converge with permit = 203.72681319713593, cap = 117.91768089859731, a = 0.7290000000000001\n",
      "Max diff: 0.233064898940It failed to converge with permit = 178.26096154749393, cap = 117.91768089859731, a = 1\n",
      "Max diff: 0.152862079951It failed to converge with permit = 179.17045624926686, cap = 117.91768089859731, a = 1\n",
      "Max diff: 0.192612It failed to converge with permit = 179.17045624926686, cap = 117.91768089859731, a = 0.9\n",
      "Max diff: 0.174979170456It failed to converge with permit = 179.62520360015333, cap = 117.91768089859731, a = 1\n",
      "Max diff: 0.228714It failed to converge with permit = 179.62520360015333, cap = 117.91768089859731, a = 0.9\n",
      "Max diff: 0.274839It failed to converge with permit = 179.62520360015333, cap = 117.91768089859731, a = 0.81\n",
      "Permit price: 179.625204"
     ]
    },
    {
     "name": "stderr",
     "output_type": "stream",
     "text": [
      "  6%|▌         | 1/18 [10:41<3:01:43, 641.37s/it]"
     ]
    },
    {
     "name": "stdout",
     "output_type": "stream",
     "text": [
      "Permit price: 179.62520360015333 and total emission: 117.12681505532238 and emission cap 117.91768089859731\n",
      "Max diff: 0.395801830644941200000It failed to converge with permit = 116.41532182693481, cap = 235.83536179719462, a = 1\n",
      "Max diff: 0.532208It failed to converge with permit = 116.41532182693481, cap = 235.83536179719462, a = 0.9\n",
      "Max diff: 0.611607It failed to converge with permit = 116.41532182693481, cap = 235.83536179719462, a = 0.81\n",
      "Max diff: 0.271544515322It failed to converge with permit = 174.62298274040222, cap = 235.83536179719462, a = 1\n",
      "Max diff: 0.287521222983It failed to converge with permit = 145.51915228366852, cap = 235.83536179719462, a = 1\n",
      "Max diff: 0.254415743195It failed to converge with permit = 141.8811734765768, cap = 235.83536179719462, a = 1\n",
      "Max diff: 0.280484It failed to converge with permit = 141.8811734765768, cap = 235.83536179719462, a = 0.9\n",
      "Max diff: 0.595822It failed to converge with permit = 141.8811734765768, cap = 235.83536179719462, a = 0.81\n",
      "Max diff: 0.136592It failed to converge with permit = 141.8811734765768, cap = 235.83536179719462, a = 0.7290000000000001\n",
      "Max diff: 0.230400It failed to converge with permit = 141.8811734765768, cap = 235.83536179719462, a = 0.6561000000000001\n",
      "Max diff: 0.192153281173It failed to converge with permit = 143.70016288012266, cap = 235.83536179719462, a = 1\n",
      "Max diff: 0.182420It failed to converge with permit = 143.70016288012266, cap = 235.83536179719462, a = 0.9\n",
      "Max diff: 0.183520It failed to converge with permit = 143.70016288012266, cap = 235.83536179719462, a = 0.81\n",
      "Max diff: 0.302107It failed to converge with permit = 143.70016288012266, cap = 235.83536179719462, a = 0.7290000000000001\n",
      "Max diff: 0.475950700163It failed to converge with permit = 144.6096575818956, cap = 235.83536179719462, a = 1\n",
      "Max diff: 0.409233It failed to converge with permit = 144.6096575818956, cap = 235.83536179719462, a = 0.9\n",
      "Max diff: 0.542434It failed to converge with permit = 144.6096575818956, cap = 235.83536179719462, a = 0.81\n",
      "Max diff: 0.122276It failed to converge with permit = 144.6096575818956, cap = 235.83536179719462, a = 0.7290000000000001\n",
      "Max diff: 0.234330It failed to converge with permit = 144.6096575818956, cap = 235.83536179719462, a = 0.6561000000000001\n",
      "Max diff: 0.270953It failed to converge with permit = 144.6096575818956, cap = 235.83536179719462, a = 0.5904900000000002\n",
      "Max diff: 0.301136It failed to converge with permit = 144.6096575818956, cap = 235.83536179719462, a = 0.5314410000000002\n",
      "Max diff: 0.516551It failed to converge with permit = 144.6096575818956, cap = 235.83536179719462, a = 0.47829690000000014\n",
      "Max diff: 0.207788It failed to converge with permit = 144.6096575818956, cap = 235.83536179719462, a = 0.43046721000000016\n",
      "Max diff: 0.338974It failed to converge with permit = 144.6096575818956, cap = 235.83536179719462, a = 0.38742048900000015\n",
      "Max diff: 0.392793609658It failed to converge with permit = 144.15491023100913, cap = 235.83536179719462, a = 1\n",
      "Max diff: 0.288007It failed to converge with permit = 144.15491023100913, cap = 235.83536179719462, a = 0.9\n",
      "Max diff: 0.240533154910It failed to converge with permit = 144.6096575818956, cap = 235.83536179719462, a = 1\n",
      "Max diff: 0.265437It failed to converge with permit = 144.6096575818956, cap = 235.83536179719462, a = 0.9\n",
      "Max diff: 0.323456It failed to converge with permit = 144.6096575818956, cap = 235.83536179719462, a = 0.81\n",
      "Max diff: 0.310059It failed to converge with permit = 144.6096575818956, cap = 235.83536179719462, a = 0.7290000000000001\n",
      "Max diff: 0.003135"
     ]
    },
    {
     "name": "stderr",
     "output_type": "stream",
     "text": [
      " 11%|█         | 2/18 [27:57<3:53:00, 873.79s/it]"
     ]
    },
    {
     "name": "stdout",
     "output_type": "stream",
     "text": [
      "Permit price: 144.6096575818956 and total emission: 233.2048086092846 and emission cap 235.83536179719462\n",
      "Max diff: 0.395801830644941200000It failed to converge with permit = 116.41532182693481, cap = 471.67072359438924, a = 1\n",
      "Max diff: 0.532208It failed to converge with permit = 116.41532182693481, cap = 471.67072359438924, a = 0.9\n",
      "Max diff: 0.611607It failed to converge with permit = 116.41532182693481, cap = 471.67072359438924, a = 0.81\n",
      "Max diff: 0.271544515322It failed to converge with permit = 174.62298274040222, cap = 471.67072359438924, a = 1\n",
      "Max diff: 0.287521222983It failed to converge with permit = 145.51915228366852, cap = 471.67072359438924, a = 1\n",
      "Max diff: 0.345776467237It failed to converge with permit = 123.69127944111824, cap = 471.67072359438924, a = 1\n",
      "Max diff: 0.154960It failed to converge with permit = 123.69127944111824, cap = 471.67072359438924, a = 0.9\n",
      "Max diff: 0.169669It failed to converge with permit = 123.69127944111824, cap = 471.67072359438924, a = 0.81\n",
      "Max diff: 0.211449It failed to converge with permit = 123.69127944111824, cap = 471.67072359438924, a = 0.7290000000000001\n",
      "Max diff: 0.351252It failed to converge with permit = 123.69127944111824, cap = 471.67072359438924, a = 0.6561000000000001\n",
      "Max diff: 0.227792091279It failed to converge with permit = 120.05330063402653, cap = 471.67072359438924, a = 1\n",
      "Max diff: 0.163618It failed to converge with permit = 120.05330063402653, cap = 471.67072359438924, a = 0.9\n",
      "Max diff: 0.497170It failed to converge with permit = 120.05330063402653, cap = 471.67072359438924, a = 0.81\n",
      "Max diff: 0.204221324817It failed to converge with permit = 116.87006917782128, cap = 471.67072359438924, a = 1\n",
      "Max diff: 0.237604It failed to converge with permit = 116.87006917782128, cap = 471.67072359438924, a = 0.9\n",
      "Max diff: 0.090777It failed to converge with permit = 116.87006917782128, cap = 471.67072359438924, a = 0.81\n",
      "Max diff: 0.236143It failed to converge with permit = 116.87006917782128, cap = 471.67072359438924, a = 0.7290000000000001\n",
      "Max diff: 0.236103870069It failed to converge with permit = 117.32481652870774, cap = 471.67072359438924, a = 1\n",
      "Max diff: 0.252988It failed to converge with permit = 117.32481652870774, cap = 471.67072359438924, a = 0.9\n",
      "Max diff: 0.006416"
     ]
    },
    {
     "name": "stderr",
     "output_type": "stream",
     "text": [
      " 17%|█▋        | 3/18 [39:58<3:20:58, 803.87s/it]"
     ]
    },
    {
     "name": "stdout",
     "output_type": "stream",
     "text": [
      "Permit price: 117.32481652870774 and total emission: 471.1776289594696 and emission cap 471.67072359438924\n",
      "Max diff: 0.395801830644941200000It failed to converge with permit = 116.41532182693481, cap = 589.5884044929866, a = 1\n",
      "Max diff: 0.532208It failed to converge with permit = 116.41532182693481, cap = 589.5884044929866, a = 0.9\n",
      "Max diff: 0.611607It failed to converge with permit = 116.41532182693481, cap = 589.5884044929866, a = 0.81\n",
      "Max diff: 0.710628895322It failed to converge with permit = 58.20766091346741, cap = 589.5884044929866, a = 1\n",
      "Max diff: 0.457238It failed to converge with permit = 58.20766091346741, cap = 589.5884044929866, a = 0.9\n",
      "Max diff: 0.718793It failed to converge with permit = 58.20766091346741, cap = 589.5884044929866, a = 0.81\n",
      "Max diff: 0.471344It failed to converge with permit = 58.20766091346741, cap = 589.5884044929866, a = 0.7290000000000001\n",
      "Max diff: 0.394253It failed to converge with permit = 58.20766091346741, cap = 589.5884044929866, a = 0.6561000000000001\n",
      "Max diff: 0.406359It failed to converge with permit = 58.20766091346741, cap = 589.5884044929866, a = 0.5904900000000002\n",
      "Max diff: 0.653901It failed to converge with permit = 58.20766091346741, cap = 589.5884044929866, a = 0.5314410000000002\n",
      "Max diff: 0.296429It failed to converge with permit = 58.20766091346741, cap = 589.5884044929866, a = 0.47829690000000014\n",
      "Max diff: 0.344334It failed to converge with permit = 58.20766091346741, cap = 589.5884044929866, a = 0.43046721000000016\n",
      "Max diff: 0.416747It failed to converge with permit = 58.20766091346741, cap = 589.5884044929866, a = 0.38742048900000015\n",
      "Max diff: 0.415873It failed to converge with permit = 58.20766091346741, cap = 589.5884044929866, a = 0.34867844010000015\n",
      "Max diff: 0.499122It failed to converge with permit = 58.20766091346741, cap = 589.5884044929866, a = 0.31381059609000017\n",
      "Max diff: 0.429273It failed to converge with permit = 58.20766091346741, cap = 589.5884044929866, a = 0.28242953648100017\n",
      "Max diff: 0.191505It failed to converge with permit = 58.20766091346741, cap = 589.5884044929866, a = 0.25418658283290013\n",
      "Max diff: 0.287421It failed to converge with permit = 58.20766091346741, cap = 589.5884044929866, a = 0.22876792454961012\n",
      "Max diff: 0.289828It failed to converge with permit = 58.20766091346741, cap = 589.5884044929866, a = 0.2058911320946491\n",
      "Max diff: 0.333211It failed to converge with permit = 58.20766091346741, cap = 589.5884044929866, a = 0.1853020188851842\n",
      "Max diff: 0.742641It failed to converge with permit = 58.20766091346741, cap = 589.5884044929866, a = 0.16677181699666577\n",
      "Max diff: 0.350866It failed to converge with permit = 58.20766091346741, cap = 589.5884044929866, a = 0.1500946352969992\n",
      "Max diff: 0.441427It failed to converge with permit = 58.20766091346741, cap = 589.5884044929866, a = 0.13508517176729928\n",
      "Max diff: 0.562463It failed to converge with permit = 58.20766091346741, cap = 589.5884044929866, a = 0.12157665459056936\n",
      "Max diff: 0.213789It failed to converge with permit = 58.20766091346741, cap = 589.5884044929866, a = 0.10941898913151243\n",
      "Max diff: 0.282753It failed to converge with permit = 58.20766091346741, cap = 589.5884044929866, a = 0.0984770902183612\n",
      "Max diff: 0.308586It failed to converge with permit = 58.20766091346741, cap = 589.5884044929866, a = 0.08862938119652508\n",
      "Max diff: 0.377911It failed to converge with permit = 58.20766091346741, cap = 589.5884044929866, a = 0.07976644307687257\n",
      "Max diff: 0.329824It failed to converge with permit = 58.20766091346741, cap = 589.5884044929866, a = 0.07178979876918531\n",
      "Max diff: 0.383854It failed to converge with permit = 58.20766091346741, cap = 589.5884044929866, a = 0.06461081889226679\n",
      "Max diff: 0.246339It failed to converge with permit = 58.20766091346741, cap = 589.5884044929866, a = 0.05814973700304011\n",
      "Max diff: 0.319962It failed to converge with permit = 58.20766091346741, cap = 589.5884044929866, a = 0.0523347633027361\n",
      "Max diff: 0.263354It failed to converge with permit = 58.20766091346741, cap = 589.5884044929866, a = 0.04710128697246249\n",
      "Max diff: 0.356773It failed to converge with permit = 58.20766091346741, cap = 589.5884044929866, a = 0.042391158275216244\n",
      "Max diff: 0.650736It failed to converge with permit = 58.20766091346741, cap = 589.5884044929866, a = 0.03815204244769462\n",
      "Max diff: 0.653833It failed to converge with permit = 58.20766091346741, cap = 589.5884044929866, a = 0.03433683820292516\n",
      "Max diff: 0.212793It failed to converge with permit = 58.20766091346741, cap = 589.5884044929866, a = 0.030903154382632643\n",
      "Max diff: 0.300940It failed to converge with permit = 58.20766091346741, cap = 589.5884044929866, a = 0.02781283894436938\n",
      "Max diff: 0.308480It failed to converge with permit = 58.20766091346741, cap = 589.5884044929866, a = 0.025031555049932444\n",
      "Max diff: 0.346926It failed to converge with permit = 58.20766091346741, cap = 589.5884044929866, a = 0.0225283995449392\n",
      "Max diff: 0.544822It failed to converge with permit = 58.20766091346741, cap = 589.5884044929866, a = 0.020275559590445278\n",
      "Max diff: 0.362435It failed to converge with permit = 58.20766091346741, cap = 589.5884044929866, a = 0.01824800363140075\n",
      "Max diff: 0.376096It failed to converge with permit = 58.20766091346741, cap = 589.5884044929866, a = 0.016423203268260675\n",
      "Max diff: 0.579665It failed to converge with permit = 58.20766091346741, cap = 589.5884044929866, a = 0.014780882941434608\n",
      "Max diff: 90.5586957661It failed to converge with permit = 87.31149137020111, cap = 589.5884044929866, a = 1\n",
      "Max diff: 94.197997It failed to converge with permit = 87.31149137020111, cap = 589.5884044929866, a = 0.9\n",
      "Max diff: 74.891945It failed to converge with permit = 87.31149137020111, cap = 589.5884044929866, a = 0.81\n",
      "Max diff: 91.635090It failed to converge with permit = 87.31149137020111, cap = 589.5884044929866, a = 0.7290000000000001\n",
      "Max diff: 114.685657It failed to converge with permit = 87.31149137020111, cap = 589.5884044929866, a = 0.6561000000000001\n",
      "Max diff: 0.383050563407It failed to converge with permit = 94.58744898438454, cap = 589.5884044929866, a = 1\n",
      "Max diff: 0.393055It failed to converge with permit = 94.58744898438454, cap = 589.5884044929866, a = 0.9\n",
      "Max diff: 0.279978It failed to converge with permit = 94.58744898438454, cap = 589.5884044929866, a = 0.81\n",
      "Max diff: 0.398697It failed to converge with permit = 94.58744898438454, cap = 589.5884044929866, a = 0.7290000000000001\n",
      "Max diff: 0.304782It failed to converge with permit = 94.58744898438454, cap = 589.5884044929866, a = 0.6561000000000001\n",
      "Max diff: 0.318666It failed to converge with permit = 94.58744898438454, cap = 589.5884044929866, a = 0.5904900000000002\n",
      "Max diff: 0.332566It failed to converge with permit = 94.58744898438454, cap = 589.5884044929866, a = 0.5314410000000002\n",
      "Max diff: 0.419026It failed to converge with permit = 94.58744898438454, cap = 589.5884044929866, a = 0.47829690000000014\n",
      "Max diff: 0.426711It failed to converge with permit = 94.58744898438454, cap = 589.5884044929866, a = 0.43046721000000016\n",
      "Max diff: 0.292259It failed to converge with permit = 94.58744898438454, cap = 589.5884044929866, a = 0.38742048900000015\n",
      "Max diff: 0.323827It failed to converge with permit = 94.58744898438454, cap = 589.5884044929866, a = 0.34867844010000015\n",
      "Max diff: 0.346904It failed to converge with permit = 94.58744898438454, cap = 589.5884044929866, a = 0.31381059609000017\n",
      "Max diff: 0.460886It failed to converge with permit = 94.58744898438454, cap = 589.5884044929866, a = 0.28242953648100017\n",
      "Max diff: 0.280528It failed to converge with permit = 94.58744898438454, cap = 589.5884044929866, a = 0.25418658283290013\n",
      "Max diff: 0.350190It failed to converge with permit = 94.58744898438454, cap = 589.5884044929866, a = 0.22876792454961012\n",
      "Max diff: 0.383323It failed to converge with permit = 94.58744898438454, cap = 589.5884044929866, a = 0.2058911320946491\n",
      "Max diff: 0.269661It failed to converge with permit = 94.58744898438454, cap = 589.5884044929866, a = 0.1853020188851842\n",
      "Max diff: 0.318415It failed to converge with permit = 94.58744898438454, cap = 589.5884044929866, a = 0.16677181699666577\n",
      "Max diff: 0.364454It failed to converge with permit = 94.58744898438454, cap = 589.5884044929866, a = 0.1500946352969992\n",
      "Max diff: 0.349994It failed to converge with permit = 94.58744898438454, cap = 589.5884044929866, a = 0.13508517176729928\n",
      "Max diff: 0.351506It failed to converge with permit = 94.58744898438454, cap = 589.5884044929866, a = 0.12157665459056936\n",
      "Max diff: 0.339242It failed to converge with permit = 94.58744898438454, cap = 589.5884044929866, a = 0.10941898913151243\n",
      "Max diff: 0.358115It failed to converge with permit = 94.58744898438454, cap = 589.5884044929866, a = 0.0984770902183612\n",
      "Max diff: 0.329205It failed to converge with permit = 94.58744898438454, cap = 589.5884044929866, a = 0.08862938119652508\n",
      "Max diff: 0.348245It failed to converge with permit = 94.58744898438454, cap = 589.5884044929866, a = 0.07976644307687257\n",
      "Max diff: 0.347446It failed to converge with permit = 94.58744898438454, cap = 589.5884044929866, a = 0.07178979876918531\n",
      "Max diff: 0.455214It failed to converge with permit = 94.58744898438454, cap = 589.5884044929866, a = 0.06461081889226679\n",
      "Max diff: 0.326427It failed to converge with permit = 94.58744898438454, cap = 589.5884044929866, a = 0.05814973700304011\n",
      "Max diff: 0.199851It failed to converge with permit = 94.58744898438454, cap = 589.5884044929866, a = 0.0523347633027361\n",
      "Max diff: 0.201521It failed to converge with permit = 94.58744898438454, cap = 589.5884044929866, a = 0.04710128697246249\n",
      "Max diff: 0.343988It failed to converge with permit = 94.58744898438454, cap = 589.5884044929866, a = 0.042391158275216244\n",
      "Max diff: 0.311799It failed to converge with permit = 94.58744898438454, cap = 589.5884044929866, a = 0.03815204244769462\n",
      "Max diff: 0.273213It failed to converge with permit = 94.58744898438454, cap = 589.5884044929866, a = 0.03433683820292516\n",
      "Max diff: 0.279388It failed to converge with permit = 94.58744898438454, cap = 589.5884044929866, a = 0.030903154382632643\n",
      "Max diff: 0.292384It failed to converge with permit = 94.58744898438454, cap = 589.5884044929866, a = 0.02781283894436938\n",
      "Max diff: 0.356436It failed to converge with permit = 94.58744898438454, cap = 589.5884044929866, a = 0.025031555049932444\n",
      "Max diff: 0.353653It failed to converge with permit = 94.58744898438454, cap = 589.5884044929866, a = 0.0225283995449392\n",
      "Max diff: 0.266751It failed to converge with permit = 94.58744898438454, cap = 589.5884044929866, a = 0.020275559590445278\n",
      "Max diff: 0.292311It failed to converge with permit = 94.58744898438454, cap = 589.5884044929866, a = 0.01824800363140075\n",
      "Max diff: 0.429267It failed to converge with permit = 94.58744898438454, cap = 589.5884044929866, a = 0.016423203268260675\n",
      "Max diff: 0.356968It failed to converge with permit = 94.58744898438454, cap = 589.5884044929866, a = 0.014780882941434608\n",
      "Max diff: 0.351661It failed to converge with permit = 94.58744898438454, cap = 589.5884044929866, a = 0.013302794647291147\n",
      "Max diff: 0.381587It failed to converge with permit = 94.58744898438454, cap = 589.5884044929866, a = 0.011972515182562033\n",
      "Max diff: 0.449151It failed to converge with permit = 94.58744898438454, cap = 589.5884044929866, a = 0.01077526366430583\n",
      "Max diff: 0.458038It failed to converge with permit = 94.58744898438454, cap = 589.5884044929866, a = 1\n",
      "Max diff: 0.454663It failed to converge with permit = 94.58744898438454, cap = 589.5884044929866, a = 0.9\n",
      "Max diff: 0.195730It failed to converge with permit = 94.58744898438454, cap = 589.5884044929866, a = 0.81\n",
      "Max diff: 0.205164It failed to converge with permit = 94.58744898438454, cap = 589.5884044929866, a = 0.7290000000000001\n",
      "Max diff: 0.366216It failed to converge with permit = 94.58744898438454, cap = 589.5884044929866, a = 0.6561000000000001\n",
      "Max diff: 0.424198It failed to converge with permit = 94.58744898438454, cap = 589.5884044929866, a = 0.5904900000000002\n",
      "Max diff: 0.509893It failed to converge with permit = 94.58744898438454, cap = 589.5884044929866, a = 0.5314410000000002\n",
      "Max diff: 0.518326It failed to converge with permit = 94.58744898438454, cap = 589.5884044929866, a = 0.47829690000000014\n",
      "Max diff: 0.219173044417It failed to converge with permit = 100.95391189679503, cap = 589.5884044929866, a = 1\n",
      "Max diff: 0.476011It failed to converge with permit = 100.95391189679503, cap = 589.5884044929866, a = 0.9\n",
      "Max diff: 0.000000608659"
     ]
    },
    {
     "name": "stderr",
     "output_type": "stream",
     "text": [
      " 22%|██▏       | 4/18 [1:21:09<5:41:08, 1462.01s/it]"
     ]
    },
    {
     "name": "stdout",
     "output_type": "stream",
     "text": [
      "Permit price: 101.86340659856796 and total emission: 590.443251353667 and emission cap 589.5884044929866\n",
      "Permit price: 1862.64514941200000"
     ]
    }
   ],
   "source": [
    "# Create a plot for the permit price with respect to the emission cap 10 samples between 0 and 200\n",
    "BAU_percentage = np.linspace(0, 1, 20)\n",
    "BAU_emissions = Regulator1.BAU_emissions\n",
    "caps = [BAU_emissions*i for i in BAU_percentage]\n",
    "# Read the data from the csv file, if it exists, if not, just create a new one\n",
    "try:\n",
    "    df = pd.read_csv('permit_price_to_Percentage_of_BAU_v0_0.csv')\n",
    "    percentages = list(df['Percentage of BAU'])\n",
    "    caps2 = list(df['Emission Cap'])\n",
    "    permit_prices = list(df['Permit Price'])\n",
    "    outputs = list(df['Outputs'])\n",
    "    emissions = list(df['Emissions'])\n",
    "    profits = list(df['Profits'])\n",
    "except:\n",
    "    percentages = []\n",
    "    caps2 = []\n",
    "    permit_prices = []\n",
    "    outputs = []\n",
    "    emissions = []\n",
    "    profits = []\n",
    "# Loop through all the emission caps and calculate the permit price\n",
    "\n",
    "for i in tqdm.tqdm([i for i in caps if i not in caps2]):\n",
    "    Regulator1.emission_cap = i  \n",
    "    Regulator1.find_optimal_permit_price_to_meet_the_emission_cap_requirements(precision= 0.01, x_high = 1000000000000)\n",
    "    caps2.append(i)\n",
    "    percentages.append(Regulator1.emission_cap/BAU_emissions)\n",
    "    permit_prices.append(Regulator1.permit_price)\n",
    "    outputs.append(tuple([firm.actual_output for firm in Regulator1.firm_registry.values()]))\n",
    "    emissions.append(tuple([firm.emission for firm in Regulator1.firm_registry.values()]))\n",
    "    profits.append(tuple([firm.profit for firm in Regulator1.firm_registry.values()]))\n",
    "    # save all the data in a csv file\n",
    "    df = pd.DataFrame({'Percentage of BAU': percentages, 'Emission Cap': caps2, 'Permit Price': permit_prices, 'Outputs': outputs, 'Emissions': emissions, 'Profits': profits})\n",
    "    df.to_csv('permit_price_to_Percentage_of_BAU_v0_0.csv', index=False)\n",
    "\n",
    "\n"
   ]
  },
  {
   "cell_type": "code",
   "execution_count": 14,
   "metadata": {},
   "outputs": [
    {
     "name": "stdout",
     "output_type": "stream",
     "text": [
      "State 'current':\n",
      "Firm: firm1, Output: 8.069002122048214, Emission: 1.0009999990000003, Profit: 538.354492558355\n",
      "Firm: firm2, Output: 3.489988981178892, Emission: 1.0009999989999998, Profit: 78.6137476820086\n",
      "Firm: firm3, Output: 3.0921771174958157, Emission: 1.0009999989999998, Profit: 87.4644861875867\n",
      "Firm: firm4, Output: 6.398628947732095, Emission: 1.0009999990000003, Profit: 514.781953016349\n",
      "Firm: firm5, Output: 26.705736079720992, Emission: 1.0009999990000011, Profit: 2197.51060351429\n",
      "Firm: firm6, Output: 6.783839562234996, Emission: 1.0009999990000003, Profit: 566.022759867873\n",
      "Firm: firm7, Output: 6.522399664084881, Emission: 3.0009999969999996, Profit: 532.991425955389\n",
      "Firm: firm8, Output: 20.322423964860313, Emission: 17.88283782495789, Profit: 506.011164543859\n",
      "Firm: firm9, Output: 32.606254467719566, Emission: 30.06449776277057, Profit: 655.497443753478\n"
     ]
    }
   ],
   "source": []
  },
  {
   "cell_type": "code",
   "execution_count": null,
   "metadata": {},
   "outputs": [],
   "source": []
  }
 ],
 "metadata": {
  "kernelspec": {
   "display_name": "base",
   "language": "python",
   "name": "python3"
  },
  "language_info": {
   "codemirror_mode": {
    "name": "ipython",
    "version": 3
   },
   "file_extension": ".py",
   "mimetype": "text/x-python",
   "name": "python",
   "nbconvert_exporter": "python",
   "pygments_lexer": "ipython3",
   "version": "3.12.4"
  }
 },
 "nbformat": 4,
 "nbformat_minor": 2
}
