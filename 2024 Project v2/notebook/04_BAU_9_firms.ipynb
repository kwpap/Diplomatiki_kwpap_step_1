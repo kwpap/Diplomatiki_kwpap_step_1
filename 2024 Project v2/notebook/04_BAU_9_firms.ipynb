{
 "cells": [
  {
   "cell_type": "code",
   "execution_count": 1,
   "metadata": {},
   "outputs": [],
   "source": [
    "from funkwpap import sympy_to_gurobi, Firm, Country, Sector, Regulator, get_emission\n",
    "import sympy as sp, pandas as pd, numpy as np, tqdm, time, sys\n",
    "from gurobipy import Model, LinExpr, QuadExpr, GRB\n",
    "x = sp.symbols('x')\n",
    "y = sp.symbols('y')"
   ]
  },
  {
   "cell_type": "code",
   "execution_count": 2,
   "metadata": {},
   "outputs": [
    {
     "name": "stdout",
     "output_type": "stream",
     "text": [
      "[Firm(id=1, name='firm1', sector_id=1, country_id=1, actual_output=0, emission=0, profit=0), Firm(id=2, name='firm2', sector_id=1, country_id=2, actual_output=0, emission=0, profit=0), Firm(id=3, name='firm3', sector_id=1, country_id=3, actual_output=0, emission=0, profit=0)]\n",
      "[Firm(id=1, name='firm1', sector_id=1, country_id=1, actual_output=0, emission=0, profit=0), Firm(id=4, name='firm4', sector_id=2, country_id=1, actual_output=0, emission=0, profit=0), Firm(id=7, name='firm7', sector_id=3, country_id=1, actual_output=0, emission=0, profit=0)]\n",
      "{1: Firm(id=1, name='firm1', sector_id=1, country_id=1, actual_output=0, emission=0, profit=0), 2: Firm(id=2, name='firm2', sector_id=1, country_id=2, actual_output=0, emission=0, profit=0), 3: Firm(id=3, name='firm3', sector_id=1, country_id=3, actual_output=0, emission=0, profit=0), 4: Firm(id=4, name='firm4', sector_id=2, country_id=1, actual_output=0, emission=0, profit=0), 5: Firm(id=5, name='firm5', sector_id=2, country_id=2, actual_output=0, emission=0, profit=0), 6: Firm(id=6, name='firm6', sector_id=2, country_id=3, actual_output=0, emission=0, profit=0), 7: Firm(id=7, name='firm7', sector_id=3, country_id=1, actual_output=0, emission=0, profit=0), 8: Firm(id=8, name='firm8', sector_id=3, country_id=2, actual_output=0, emission=0, profit=0), 9: Firm(id=9, name='firm9', sector_id=3, country_id=3, actual_output=0, emission=0, profit=0)}\n",
      "firm1 cement DE\n",
      "firm2 cement FI\n",
      "firm3 cement GR\n",
      "firm4 steel DE\n",
      "firm5 steel FI\n",
      "firm6 steel GR\n",
      "firm7 paper DE\n",
      "firm8 paper FI\n",
      "firm9 paper GR\n"
     ]
    }
   ],
   "source": [
    "\n",
    "# Create Sectors and Countries\n",
    "Regulator1 = Regulator('EU', permit_price= 2, emission_cap= 100)\n",
    "sector1 = Sector('cement', price_demand_function= 100 - 0.1*x, free_emission_multiplier= 0.1, regulator= Regulator1)\n",
    "sector2 = Sector('steel', price_demand_function=150 - 0.1*x, free_emission_multiplier= 0.05, regulator= Regulator1)\n",
    "sector3 = Sector('paper', price_demand_function= 200 - 0.02*x**1.5, free_emission_multiplier= 0.1, regulator= Regulator1)\n",
    "country1 = Country('DE', 1, regulator= Regulator1)\n",
    "country2 = Country('FI', 0.5, regulator= Regulator1)\n",
    "country3 = Country('GR', size= 0.1, regulator= Regulator1)\n",
    "\n",
    "# Create Firms using objects\n",
    "firm1 = Firm('firm1', 1, 1, x*0, 0.1*sp.exp('x') + 100/y**2, 0, 0, 0, regulator= Regulator1)\n",
    "firm2 = Firm('firm2', 1, 2, x*0, 5*x**3.2 + 40/y**2, 0, 0, 0, regulator= Regulator1)\n",
    "firm3 = Firm('firm3', 1, 3, x*0, x**5.2 + 30/y**2, 0, 0, 0, regulator= Regulator1)\n",
    "firm4 = Firm('firm4', 2, 1, x*0, x**3.3 + 20/y**2, 0, 0, 0, regulator= Regulator1)\n",
    "firm5 = Firm('firm5', 2, 2, x*0, x**2.3 + 20/y**2, 0, 0, 0, regulator= Regulator1)\n",
    "firm6 = Firm('firm6', 2, 3, x*0, x**3.2 + 15/y**2, 0, 0, 0, regulator= Regulator1)\n",
    "firm7 = Firm('firm7', 3, 1, x*0, x**4.1 + 40/y**2, 0, 0, 0, regulator= Regulator1)\n",
    "firm8 = Firm('firm8', 3, 2, x*0, x**5.1 + 50/y**2, 0, 0, 0, regulator= Regulator1)\n",
    "firm9 = Firm('firm9', 3, 3, x*0, x**5 + 60/y**2, 0, 0, 0, regulator= Regulator1)\n",
    "\n",
    "\n",
    "print(sector1.firms)  # List of firms in sector1\n",
    "print(country1.firms)  # List of firms in country1\n",
    "print(Regulator1.firm_registry)  # Dictionary of all firms\n",
    "\n",
    "for firm in Regulator1.firm_registry.values():\n",
    "    print(firm.name, firm.sector.name, firm.country.name)\n"
   ]
  },
  {
   "cell_type": "code",
   "execution_count": 3,
   "metadata": {},
   "outputs": [],
   "source": [
    "#Regulator1.optimize_them_all(precision = 0.1, print_diff = True, BAU = True)"
   ]
  },
  {
   "cell_type": "code",
   "execution_count": 4,
   "metadata": {},
   "outputs": [
    {
     "name": "stdout",
     "output_type": "stream",
     "text": [
      "firm1 cement DE 0 0 0\n",
      "firm2 cement FI 0 0 0\n",
      "firm3 cement GR 0 0 0\n",
      "firm4 steel DE 0 0 0\n",
      "firm5 steel FI 0 0 0\n",
      "firm6 steel GR 0 0 0\n",
      "firm7 paper DE 0 0 0\n",
      "firm8 paper FI 0 0 0\n",
      "firm9 paper GR 0 0 0\n"
     ]
    }
   ],
   "source": [
    "for firm in Regulator1.firm_registry.values():\n",
    "    print(firm.name, firm.sector.name, firm.country.name, firm.actual_output, firm.emission, firm.profit)"
   ]
  },
  {
   "cell_type": "code",
   "execution_count": 5,
   "metadata": {},
   "outputs": [
    {
     "name": "stdout",
     "output_type": "stream",
     "text": [
      "Set parameter Username\n",
      "Academic license - for non-commercial use only - expires 2025-08-14\n",
      "Max diff: 0.01, permit price = 2.0, cap = 100, second_stage = False, a = 1.0000"
     ]
    }
   ],
   "source": [
    "Regulator1.BAU_calculator(print_diff = True)"
   ]
  },
  {
   "cell_type": "code",
   "execution_count": 6,
   "metadata": {},
   "outputs": [
    {
     "name": "stdout",
     "output_type": "stream",
     "text": [
      "Firm name, Sector, Country, Actual output, Emission, Profit, BAU profit, BAU emission\n",
      "firm1 cement DE 257.32525385607016 0.0 6273.59076591368 6273.59076591368 257.32525385607016\n",
      "firm2 cement FI 257.32525385607016 0.0 6273.59076591368 6273.59076591368 257.32525385607016\n",
      "firm3 cement GR 241.54945043799546 0.0 5888.97661255950 5888.97661255950 241.54945043799546\n",
      "firm4 steel DE 376.13222749306016 0.0 13977.1983562917 13977.1983562917 376.13222749306016\n",
      "firm5 steel FI 376.13222749306016 0.0 13977.1983562917 13977.1983562917 376.13222749306016\n",
      "firm6 steel GR 376.13222749306016 0.0 13977.1983562917 13977.1983562917 376.13222749306016\n",
      "firm7 paper DE 118.62743152590413 0.0 7800.22830116322 7800.22830116322 118.62743152590413\n",
      "firm8 paper FI 118.57196583476036 0.0 7796.62338066782 7796.62338066782 118.57196583476036\n",
      "firm9 paper GR 118.6398990833682 0.0 7800.69946375400 7800.69946375400 118.6398990833682\n"
     ]
    }
   ],
   "source": [
    "print(\"Firm name, Sector, Country, Actual output, Emission, Profit, BAU profit, BAU emission\")\n",
    "for firm in Regulator1.firm_registry.values():\n",
    "    print(firm.name, firm.sector.name, firm.country.name, firm.actual_output, firm.emission, firm.profit, firm.BAU_profit, firm.BAU_emission)"
   ]
  },
  {
   "cell_type": "code",
   "execution_count": 7,
   "metadata": {},
   "outputs": [
    {
     "name": "stderr",
     "output_type": "stream",
     "text": [
      "0it [00:00, ?it/s]\n"
     ]
    }
   ],
   "source": [
    "# Create a plot for the permit price with respect to the emission cap 10 samples between 0 and 200\n",
    "BAU_percentage = np.linspace(0, 1, 20)\n",
    "BAU_emissions = Regulator1.BAU_emissions\n",
    "caps = [BAU_emissions*i for i in BAU_percentage]\n",
    "# Read the data from the csv file, if it exists, if not, just create a new one\n",
    "try:\n",
    "    df = pd.read_csv('permit_price_to_Percentage_of_BAU_v0_0.csv')\n",
    "    percentages = list(df['Percentage of BAU'])\n",
    "    caps2 = list(df['Emission Cap'])\n",
    "    permit_prices = list(df['Permit Price'])\n",
    "    outputs = list(df['Outputs'])\n",
    "    emissions = list(df['Emissions'])\n",
    "    profits = list(df['Profits'])\n",
    "except:\n",
    "    percentages = []\n",
    "    caps2 = []\n",
    "    permit_prices = []\n",
    "    outputs = []\n",
    "    emissions = []\n",
    "    profits = []\n",
    "# Loop through all the emission caps and calculate the permit price\n",
    "\n",
    "# Find all the caps that are not calculated yet (meaning that they are more than 0.5 different than a value of the caps2)\n",
    "for i in caps[:]:  # Iterate over a copy of the list\n",
    "    if any(abs(i - x) < 0.5 for x in caps2):\n",
    "        caps.remove(i)\n",
    "\n",
    "for i in tqdm.tqdm(caps):\n",
    "    Regulator1.emission_cap = i  \n",
    "    Regulator1.find_optimal_permit_price_to_meet_the_emission_cap_requirements(precision= 0.01, x_high = 1000000000000)\n",
    "    caps2.append(i)\n",
    "    percentages.append(Regulator1.emission_cap/BAU_emissions)\n",
    "    permit_prices.append(Regulator1.permit_price)\n",
    "    outputs.append(tuple([firm.actual_output for firm in Regulator1.firm_registry.values()]))\n",
    "    emissions.append(tuple([firm.emission for firm in Regulator1.firm_registry.values()]))\n",
    "    profits.append(tuple([firm.profit for firm in Regulator1.firm_registry.values()]))\n",
    "    # save all the data in a csv file\n",
    "    df = pd.DataFrame({'Percentage of BAU': percentages, 'Emission Cap': caps2, 'Permit Price': permit_prices, 'Outputs': outputs, 'Emissions': emissions, 'Profits': profits})\n",
    "    df.to_csv('permit_price_to_Percentage_of_BAU_v0_0.csv', index=False)\n",
    "\n",
    "\n"
   ]
  },
  {
   "cell_type": "markdown",
   "metadata": {},
   "source": [
    "Εδώ θα τρέξει το ίδιο, αλ΄λα κοιτώντας μόνο το τελευταίο για να δει αν αποκλίνει. "
   ]
  },
  {
   "cell_type": "code",
   "execution_count": 8,
   "metadata": {},
   "outputs": [
    {
     "name": "stderr",
     "output_type": "stream",
     "text": [
      "  0%|          | 0/12 [00:00<?, ?it/s]"
     ]
    },
    {
     "name": "stdout",
     "output_type": "stream",
     "text": [
      "Max diff: 0.10, permit price = 116.4, cap = 943, second_stage = True, a = 0.11100000000000Everything failed, best result is 0.01534656530338907\n",
      "Max diff: 0.27, permit price = 58.2, cap = 943, second_stage = True, a = 0.11100Everything failed, best result is 0.05767970053688032\n",
      "Max diff: 0.16, permit price = 82.8, cap = 943, second_stage = True, a = 0.11107Everything failed, best result is 0.015878724087102114\n",
      "Max diff: 0.01, permit price = 82.8, cap = 943, second_stage = False, a = 1.000"
     ]
    },
    {
     "name": "stderr",
     "output_type": "stream",
     "text": [
      "  8%|▊         | 1/12 [19:42<3:36:47, 1182.50s/it]"
     ]
    },
    {
     "name": "stdout",
     "output_type": "stream",
     "text": [
      "Permit price: 82.76401786133647 and total emission: 938.9886382207437 and emission cap 943.3414471887785\n",
      "Max diff: 0.10, permit price = 116.4, cap = 1061, second_stage = True, a = 0.11100000000000Everything failed, best result is 0.01534656530338907\n",
      "Max diff: 0.27, permit price = 58.2, cap = 1061, second_stage = True, a = 0.11100Everything failed, best result is 0.05767970053688032\n",
      "Max diff: 0.26, permit price = 74.6, cap = 1061, second_stage = True, a = 0.11107Everything failed, best result is 0.010590290652686463\n",
      "Max diff: 0.01, permit price = 75.5, cap = 1061, second_stage = False, a = 1.000"
     ]
    },
    {
     "name": "stderr",
     "output_type": "stream",
     "text": [
      " 17%|█▋        | 2/12 [39:24<3:16:59, 1181.96s/it]"
     ]
    },
    {
     "name": "stdout",
     "output_type": "stream",
     "text": [
      "Permit price: 75.48806024715304 and total emission: 1059.3957866957207 and emission cap 1061.2591280873758\n",
      "Max diff: 0.10, permit price = 116.4, cap = 1179, second_stage = True, a = 0.11100000000000Everything failed, best result is 0.01534656530338907\n",
      "Max diff: 0.27, permit price = 58.2, cap = 1179, second_stage = True, a = 0.11100Everything failed, best result is 0.05767970053688032\n",
      "Max diff: 0.19, permit price = 65.5, cap = 1179, second_stage = True, a = 0.11107Everything failed, best result is 0.012712969512477912\n",
      "Max diff: 0.09, permit price = 69.1, cap = 1179, second_stage = True, a = 0.1110Everything failed, best result is 0.011502802909660659\n",
      "Max diff: 0.42, permit price = 68.2, cap = 1179, second_stage = True, a = 0.1110Everything failed, best result is 0.03651060424816421\n",
      "Max diff: 0.21, permit price = 67.8, cap = 1179, second_stage = True, a = 0.111Everything failed, best result is 0.015311425203293538\n",
      "Permit price: 67.757355"
     ]
    },
    {
     "name": "stderr",
     "output_type": "stream",
     "text": [
      " 25%|██▌       | 3/12 [1:03:51<3:16:52, 1312.53s/it]"
     ]
    },
    {
     "name": "stdout",
     "output_type": "stream",
     "text": [
      "Permit price: 67.75735528208315 and total emission: 1172.3715896716699 and emission cap 1179.1768089859731\n",
      "Max diff: 0.10, permit price = 116.4, cap = 1297, second_stage = True, a = 0.11100000000000Everything failed, best result is 0.01534656530338907\n",
      "Max diff: 0.27, permit price = 58.2, cap = 1297, second_stage = True, a = 0.11100Everything failed, best result is 0.05767970053688032\n",
      "Max diff: 82.05, permit price = 87.3, cap = 1297, second_stage = False, a = 0.663"
     ]
    },
    {
     "name": "stderr",
     "output_type": "stream",
     "text": [
      " 25%|██▌       | 3/12 [1:11:57<3:35:51, 1439.05s/it]\n"
     ]
    },
    {
     "ename": "KeyboardInterrupt",
     "evalue": "",
     "output_type": "error",
     "traceback": [
      "\u001b[1;31m---------------------------------------------------------------------------\u001b[0m",
      "\u001b[1;31mKeyboardInterrupt\u001b[0m                         Traceback (most recent call last)",
      "Cell \u001b[1;32mIn[8], line 30\u001b[0m\n\u001b[0;32m     28\u001b[0m \u001b[38;5;28;01mfor\u001b[39;00m i \u001b[38;5;129;01min\u001b[39;00m tqdm\u001b[38;5;241m.\u001b[39mtqdm(caps):\n\u001b[0;32m     29\u001b[0m     Regulator1\u001b[38;5;241m.\u001b[39memission_cap \u001b[38;5;241m=\u001b[39m i  \n\u001b[1;32m---> 30\u001b[0m     Regulator1\u001b[38;5;241m.\u001b[39mfind_optimal_permit_price_to_meet_the_emission_cap_requirements(precision\u001b[38;5;241m=\u001b[39m \u001b[38;5;241m0.01\u001b[39m, x_high \u001b[38;5;241m=\u001b[39m \u001b[38;5;241m1000000000000\u001b[39m, size_of_diffs\u001b[38;5;241m=\u001b[39m \u001b[38;5;241m1\u001b[39m)\n\u001b[0;32m     31\u001b[0m     caps2\u001b[38;5;241m.\u001b[39mappend(i)\n\u001b[0;32m     32\u001b[0m     percentages\u001b[38;5;241m.\u001b[39mappend(Regulator1\u001b[38;5;241m.\u001b[39memission_cap\u001b[38;5;241m/\u001b[39mBAU_emissions)\n",
      "File \u001b[1;32mc:\\Users\\Kostas\\Documents\\GitHub\\Diplomatiki_kwpap_step_1\\2024 Project v2\\notebook\\funkwpap.py:286\u001b[0m, in \u001b[0;36mRegulator.find_optimal_permit_price_to_meet_the_emission_cap_requirements\u001b[1;34m(self, precision, permit_price_tolerance, x_low, x_high, size_of_diffs)\u001b[0m\n\u001b[0;32m    284\u001b[0m x_mid \u001b[38;5;241m=\u001b[39m (x_high \u001b[38;5;241m+\u001b[39m x_low)\u001b[38;5;241m/\u001b[39m\u001b[38;5;241m2\u001b[39m\n\u001b[0;32m    285\u001b[0m \u001b[38;5;28mself\u001b[39m\u001b[38;5;241m.\u001b[39mpermit_price \u001b[38;5;241m=\u001b[39m x_mid\n\u001b[1;32m--> 286\u001b[0m \u001b[38;5;28mself\u001b[39m\u001b[38;5;241m.\u001b[39moptimize_them_all(print_output\u001b[38;5;241m=\u001b[39m\u001b[38;5;28;01mFalse\u001b[39;00m, print_diff\u001b[38;5;241m=\u001b[39m\u001b[38;5;28;01mTrue\u001b[39;00m, precision \u001b[38;5;241m=\u001b[39m precision, size_of_diffs\u001b[38;5;241m=\u001b[39m size_of_diffs)\n\u001b[0;32m    287\u001b[0m total_emission \u001b[38;5;241m=\u001b[39m get_emission(\u001b[38;5;28mself\u001b[39m\u001b[38;5;241m.\u001b[39mfirm_registry\u001b[38;5;241m.\u001b[39mvalues())\n\u001b[0;32m    288\u001b[0m sys\u001b[38;5;241m.\u001b[39mstdout\u001b[38;5;241m.\u001b[39mwrite(\u001b[38;5;124m\"\u001b[39m\u001b[38;5;130;01m\\r\u001b[39;00m\u001b[38;5;124mPermit price: \u001b[39m\u001b[38;5;132;01m{:2f}\u001b[39;00m\u001b[38;5;124m\"\u001b[39m\u001b[38;5;241m.\u001b[39mformat(\u001b[38;5;28mself\u001b[39m\u001b[38;5;241m.\u001b[39mpermit_price))\n",
      "File \u001b[1;32mc:\\Users\\Kostas\\Documents\\GitHub\\Diplomatiki_kwpap_step_1\\2024 Project v2\\notebook\\funkwpap.py:236\u001b[0m, in \u001b[0;36mRegulator.optimize_them_all\u001b[1;34m(self, print_output, print_diff, precision, BAU, size_of_diffs)\u001b[0m\n\u001b[0;32m    234\u001b[0m \u001b[38;5;28;01mfor\u001b[39;00m sector \u001b[38;5;129;01min\u001b[39;00m \u001b[38;5;28mself\u001b[39m\u001b[38;5;241m.\u001b[39msector_registry\u001b[38;5;241m.\u001b[39mvalues():\n\u001b[0;32m    235\u001b[0m     \u001b[38;5;28;01mfor\u001b[39;00m firm \u001b[38;5;129;01min\u001b[39;00m sector\u001b[38;5;241m.\u001b[39mfirms:\n\u001b[1;32m--> 236\u001b[0m         output, emission, profit \u001b[38;5;241m=\u001b[39m firm\u001b[38;5;241m.\u001b[39mcalculate_output(verbose\u001b[38;5;241m=\u001b[39m\u001b[38;5;28;01mFalse\u001b[39;00m, BAU \u001b[38;5;241m=\u001b[39m BAU)\n\u001b[0;32m    237\u001b[0m         max_output[firm\u001b[38;5;241m.\u001b[39mname] \u001b[38;5;241m=\u001b[39m \u001b[38;5;28mmax\u001b[39m(max_output\u001b[38;5;241m.\u001b[39mget(firm\u001b[38;5;241m.\u001b[39mname, \u001b[38;5;241m0\u001b[39m), output)\n\u001b[0;32m    238\u001b[0m         \u001b[38;5;28;01mif\u001b[39;00m \u001b[38;5;28mabs\u001b[39m(output \u001b[38;5;241m-\u001b[39m firm\u001b[38;5;241m.\u001b[39mactual_output)\u001b[38;5;241m>\u001b[39mprecision \u001b[38;5;129;01mor\u001b[39;00m \u001b[38;5;28mabs\u001b[39m(emission \u001b[38;5;241m-\u001b[39m firm\u001b[38;5;241m.\u001b[39memission)\u001b[38;5;241m>\u001b[39mprecision:\n",
      "File \u001b[1;32mc:\\Users\\Kostas\\Documents\\GitHub\\Diplomatiki_kwpap_step_1\\2024 Project v2\\notebook\\funkwpap.py:467\u001b[0m, in \u001b[0;36mFirm.calculate_output\u001b[1;34m(self, verbose, writeLP, BAU)\u001b[0m\n\u001b[0;32m    465\u001b[0m emission \u001b[38;5;241m=\u001b[39m m\u001b[38;5;241m.\u001b[39maddVar(vtype \u001b[38;5;241m=\u001b[39m gb\u001b[38;5;241m.\u001b[39mGRB\u001b[38;5;241m.\u001b[39mCONTINUOUS, name \u001b[38;5;241m=\u001b[39m \u001b[38;5;124m\"\u001b[39m\u001b[38;5;124memission\u001b[39m\u001b[38;5;124m\"\u001b[39m, lb \u001b[38;5;241m=\u001b[39m \u001b[38;5;241m0\u001b[39m)\n\u001b[0;32m    466\u001b[0m symbol_map \u001b[38;5;241m=\u001b[39m {out: output, em: emission}\n\u001b[1;32m--> 467\u001b[0m profit \u001b[38;5;241m=\u001b[39m sympy_to_gurobi(profit_expr, symbol_map, m)\n\u001b[0;32m    468\u001b[0m m\u001b[38;5;241m.\u001b[39msetObjective(profit, gb\u001b[38;5;241m.\u001b[39mGRB\u001b[38;5;241m.\u001b[39mMAXIMIZE) \n\u001b[0;32m    469\u001b[0m m\u001b[38;5;241m.\u001b[39maddConstr(emission \u001b[38;5;241m<\u001b[39m\u001b[38;5;241m=\u001b[39m output)\n",
      "File \u001b[1;32mc:\\Users\\Kostas\\Documents\\GitHub\\Diplomatiki_kwpap_step_1\\2024 Project v2\\notebook\\funkwpap.py:30\u001b[0m, in \u001b[0;36msympy_to_gurobi\u001b[1;34m(sympy_expr, symbol_map, model, aux_var_count)\u001b[0m\n\u001b[0;32m     15\u001b[0m \u001b[38;5;250m\u001b[39m\u001b[38;5;124;03m\"\"\"\u001b[39;00m\n\u001b[0;32m     16\u001b[0m \u001b[38;5;124;03mRecursively convert a SymPy expression to a Gurobi expression, \u001b[39;00m\n\u001b[0;32m     17\u001b[0m \u001b[38;5;124;03mhandling exponentials, powers, divisions, and other complex expressions with auxiliary variables and constraints.\u001b[39;00m\n\u001b[1;32m   (...)\u001b[0m\n\u001b[0;32m     26\u001b[0m \u001b[38;5;124;03m    Gurobi expression (LinExpr, QuadExpr, or constant).\u001b[39;00m\n\u001b[0;32m     27\u001b[0m \u001b[38;5;124;03m\"\"\"\u001b[39;00m\n\u001b[0;32m     28\u001b[0m \u001b[38;5;28;01mtry\u001b[39;00m:\n\u001b[0;32m     29\u001b[0m     \u001b[38;5;66;03m# Create a temporary variable to hold the result\u001b[39;00m\n\u001b[1;32m---> 30\u001b[0m     temp_expr \u001b[38;5;241m=\u001b[39m sympy_expr\u001b[38;5;241m.\u001b[39msimplify()\n\u001b[0;32m     31\u001b[0m     temp_expr \u001b[38;5;241m=\u001b[39m temp_expr\u001b[38;5;241m.\u001b[39mapart()\n\u001b[0;32m     33\u001b[0m     \u001b[38;5;66;03m# Only if both operations succeed, update sympy_expr\u001b[39;00m\n",
      "File \u001b[1;32mc:\\Users\\Kostas\\anaconda3\\Lib\\site-packages\\sympy\\core\\basic.py:1853\u001b[0m, in \u001b[0;36mBasic.simplify\u001b[1;34m(self, **kwargs)\u001b[0m\n\u001b[0;32m   1851\u001b[0m \u001b[38;5;250m\u001b[39m\u001b[38;5;124;03m\"\"\"See the simplify function in sympy.simplify\"\"\"\u001b[39;00m\n\u001b[0;32m   1852\u001b[0m \u001b[38;5;28;01mfrom\u001b[39;00m \u001b[38;5;21;01msympy\u001b[39;00m\u001b[38;5;21;01m.\u001b[39;00m\u001b[38;5;21;01msimplify\u001b[39;00m\u001b[38;5;21;01m.\u001b[39;00m\u001b[38;5;21;01msimplify\u001b[39;00m \u001b[38;5;28;01mimport\u001b[39;00m simplify\n\u001b[1;32m-> 1853\u001b[0m \u001b[38;5;28;01mreturn\u001b[39;00m simplify(\u001b[38;5;28mself\u001b[39m, \u001b[38;5;241m*\u001b[39m\u001b[38;5;241m*\u001b[39mkwargs)\n",
      "File \u001b[1;32mc:\\Users\\Kostas\\anaconda3\\Lib\\site-packages\\sympy\\simplify\\simplify.py:644\u001b[0m, in \u001b[0;36msimplify\u001b[1;34m(expr, ratio, measure, rational, inverse, doit, **kwargs)\u001b[0m\n\u001b[0;32m    642\u001b[0m expr \u001b[38;5;241m=\u001b[39m _bottom_up(expr, \u001b[38;5;28;01mlambda\u001b[39;00m w: \u001b[38;5;28mgetattr\u001b[39m(w, \u001b[38;5;124m'\u001b[39m\u001b[38;5;124mnormal\u001b[39m\u001b[38;5;124m'\u001b[39m, \u001b[38;5;28;01mlambda\u001b[39;00m: w)())\n\u001b[0;32m    643\u001b[0m expr \u001b[38;5;241m=\u001b[39m Mul(\u001b[38;5;241m*\u001b[39mpowsimp(expr)\u001b[38;5;241m.\u001b[39mas_content_primitive())\n\u001b[1;32m--> 644\u001b[0m _e \u001b[38;5;241m=\u001b[39m cancel(expr)\n\u001b[0;32m    645\u001b[0m expr1 \u001b[38;5;241m=\u001b[39m shorter(_e, _mexpand(_e)\u001b[38;5;241m.\u001b[39mcancel())  \u001b[38;5;66;03m# issue 6829\u001b[39;00m\n\u001b[0;32m    646\u001b[0m expr2 \u001b[38;5;241m=\u001b[39m shorter(together(expr, deep\u001b[38;5;241m=\u001b[39m\u001b[38;5;28;01mTrue\u001b[39;00m), together(expr1, deep\u001b[38;5;241m=\u001b[39m\u001b[38;5;28;01mTrue\u001b[39;00m))\n",
      "File \u001b[1;32mc:\\Users\\Kostas\\anaconda3\\Lib\\site-packages\\sympy\\polys\\polytools.py:6840\u001b[0m, in \u001b[0;36mcancel\u001b[1;34m(f, _signsimp, *gens, **args)\u001b[0m\n\u001b[0;32m   6838\u001b[0m     \u001b[38;5;28;01mif\u001b[39;00m f\u001b[38;5;241m.\u001b[39mis_Number \u001b[38;5;129;01mor\u001b[39;00m \u001b[38;5;28misinstance\u001b[39m(f, Relational) \u001b[38;5;129;01mor\u001b[39;00m \u001b[38;5;129;01mnot\u001b[39;00m \u001b[38;5;28misinstance\u001b[39m(f, Expr):\n\u001b[0;32m   6839\u001b[0m         \u001b[38;5;28;01mreturn\u001b[39;00m f\n\u001b[1;32m-> 6840\u001b[0m     f \u001b[38;5;241m=\u001b[39m factor_terms(f, radical\u001b[38;5;241m=\u001b[39m\u001b[38;5;28;01mTrue\u001b[39;00m)\n\u001b[0;32m   6841\u001b[0m     p, q \u001b[38;5;241m=\u001b[39m f\u001b[38;5;241m.\u001b[39mas_numer_denom()\n\u001b[0;32m   6843\u001b[0m \u001b[38;5;28;01melif\u001b[39;00m \u001b[38;5;28mlen\u001b[39m(f) \u001b[38;5;241m==\u001b[39m \u001b[38;5;241m2\u001b[39m:\n",
      "File \u001b[1;32mc:\\Users\\Kostas\\anaconda3\\Lib\\site-packages\\sympy\\core\\exprtools.py:1267\u001b[0m, in \u001b[0;36mfactor_terms\u001b[1;34m(expr, radical, clear, fraction, sign)\u001b[0m\n\u001b[0;32m   1265\u001b[0m     \u001b[38;5;28;01mreturn\u001b[39;00m rv\n\u001b[0;32m   1266\u001b[0m expr \u001b[38;5;241m=\u001b[39m sympify(expr)\n\u001b[1;32m-> 1267\u001b[0m \u001b[38;5;28;01mreturn\u001b[39;00m do(expr)\n",
      "File \u001b[1;32mc:\\Users\\Kostas\\anaconda3\\Lib\\site-packages\\sympy\\core\\exprtools.py:1263\u001b[0m, in \u001b[0;36mfactor_terms.<locals>.do\u001b[1;34m(expr)\u001b[0m\n\u001b[0;32m   1257\u001b[0m     p \u001b[38;5;241m=\u001b[39m gcd_terms(p,\n\u001b[0;32m   1258\u001b[0m         isprimitive\u001b[38;5;241m=\u001b[39m\u001b[38;5;28;01mTrue\u001b[39;00m,\n\u001b[0;32m   1259\u001b[0m         clear\u001b[38;5;241m=\u001b[39mclear,\n\u001b[0;32m   1260\u001b[0m         fraction\u001b[38;5;241m=\u001b[39mfraction)\u001b[38;5;241m.\u001b[39mxreplace(special)\n\u001b[0;32m   1261\u001b[0m \u001b[38;5;28;01melif\u001b[39;00m p\u001b[38;5;241m.\u001b[39margs:\n\u001b[0;32m   1262\u001b[0m     p \u001b[38;5;241m=\u001b[39m p\u001b[38;5;241m.\u001b[39mfunc(\n\u001b[1;32m-> 1263\u001b[0m         \u001b[38;5;241m*\u001b[39m[do(a) \u001b[38;5;28;01mfor\u001b[39;00m a \u001b[38;5;129;01min\u001b[39;00m p\u001b[38;5;241m.\u001b[39margs])\n\u001b[0;32m   1264\u001b[0m rv \u001b[38;5;241m=\u001b[39m _keep_coeff(cont, p, clear\u001b[38;5;241m=\u001b[39mclear, sign\u001b[38;5;241m=\u001b[39msign)\n\u001b[0;32m   1265\u001b[0m \u001b[38;5;28;01mreturn\u001b[39;00m rv\n",
      "File \u001b[1;32mc:\\Users\\Kostas\\anaconda3\\Lib\\site-packages\\sympy\\core\\exprtools.py:1242\u001b[0m, in \u001b[0;36mfactor_terms.<locals>.do\u001b[1;34m(expr)\u001b[0m\n\u001b[0;32m   1240\u001b[0m cont, p \u001b[38;5;241m=\u001b[39m expr\u001b[38;5;241m.\u001b[39mas_content_primitive(radical\u001b[38;5;241m=\u001b[39mradical, clear\u001b[38;5;241m=\u001b[39mclear)\n\u001b[0;32m   1241\u001b[0m \u001b[38;5;28;01mif\u001b[39;00m p\u001b[38;5;241m.\u001b[39mis_Add:\n\u001b[1;32m-> 1242\u001b[0m     list_args \u001b[38;5;241m=\u001b[39m [do(a) \u001b[38;5;28;01mfor\u001b[39;00m a \u001b[38;5;129;01min\u001b[39;00m Add\u001b[38;5;241m.\u001b[39mmake_args(p)]\n\u001b[0;32m   1243\u001b[0m     \u001b[38;5;66;03m# get a common negative (if there) which gcd_terms does not remove\u001b[39;00m\n\u001b[0;32m   1244\u001b[0m     \u001b[38;5;28;01mif\u001b[39;00m \u001b[38;5;129;01mnot\u001b[39;00m \u001b[38;5;28many\u001b[39m(a\u001b[38;5;241m.\u001b[39mas_coeff_Mul()[\u001b[38;5;241m0\u001b[39m]\u001b[38;5;241m.\u001b[39mextract_multiplicatively(\u001b[38;5;241m-\u001b[39m\u001b[38;5;241m1\u001b[39m) \u001b[38;5;129;01mis\u001b[39;00m \u001b[38;5;28;01mNone\u001b[39;00m\n\u001b[0;32m   1245\u001b[0m                \u001b[38;5;28;01mfor\u001b[39;00m a \u001b[38;5;129;01min\u001b[39;00m list_args):\n",
      "File \u001b[1;32mc:\\Users\\Kostas\\anaconda3\\Lib\\site-packages\\sympy\\core\\exprtools.py:1263\u001b[0m, in \u001b[0;36mfactor_terms.<locals>.do\u001b[1;34m(expr)\u001b[0m\n\u001b[0;32m   1257\u001b[0m     p \u001b[38;5;241m=\u001b[39m gcd_terms(p,\n\u001b[0;32m   1258\u001b[0m         isprimitive\u001b[38;5;241m=\u001b[39m\u001b[38;5;28;01mTrue\u001b[39;00m,\n\u001b[0;32m   1259\u001b[0m         clear\u001b[38;5;241m=\u001b[39mclear,\n\u001b[0;32m   1260\u001b[0m         fraction\u001b[38;5;241m=\u001b[39mfraction)\u001b[38;5;241m.\u001b[39mxreplace(special)\n\u001b[0;32m   1261\u001b[0m \u001b[38;5;28;01melif\u001b[39;00m p\u001b[38;5;241m.\u001b[39margs:\n\u001b[0;32m   1262\u001b[0m     p \u001b[38;5;241m=\u001b[39m p\u001b[38;5;241m.\u001b[39mfunc(\n\u001b[1;32m-> 1263\u001b[0m         \u001b[38;5;241m*\u001b[39m[do(a) \u001b[38;5;28;01mfor\u001b[39;00m a \u001b[38;5;129;01min\u001b[39;00m p\u001b[38;5;241m.\u001b[39margs])\n\u001b[0;32m   1264\u001b[0m rv \u001b[38;5;241m=\u001b[39m _keep_coeff(cont, p, clear\u001b[38;5;241m=\u001b[39mclear, sign\u001b[38;5;241m=\u001b[39msign)\n\u001b[0;32m   1265\u001b[0m \u001b[38;5;28;01mreturn\u001b[39;00m rv\n",
      "File \u001b[1;32mc:\\Users\\Kostas\\anaconda3\\Lib\\site-packages\\sympy\\core\\exprtools.py:1242\u001b[0m, in \u001b[0;36mfactor_terms.<locals>.do\u001b[1;34m(expr)\u001b[0m\n\u001b[0;32m   1240\u001b[0m cont, p \u001b[38;5;241m=\u001b[39m expr\u001b[38;5;241m.\u001b[39mas_content_primitive(radical\u001b[38;5;241m=\u001b[39mradical, clear\u001b[38;5;241m=\u001b[39mclear)\n\u001b[0;32m   1241\u001b[0m \u001b[38;5;28;01mif\u001b[39;00m p\u001b[38;5;241m.\u001b[39mis_Add:\n\u001b[1;32m-> 1242\u001b[0m     list_args \u001b[38;5;241m=\u001b[39m [do(a) \u001b[38;5;28;01mfor\u001b[39;00m a \u001b[38;5;129;01min\u001b[39;00m Add\u001b[38;5;241m.\u001b[39mmake_args(p)]\n\u001b[0;32m   1243\u001b[0m     \u001b[38;5;66;03m# get a common negative (if there) which gcd_terms does not remove\u001b[39;00m\n\u001b[0;32m   1244\u001b[0m     \u001b[38;5;28;01mif\u001b[39;00m \u001b[38;5;129;01mnot\u001b[39;00m \u001b[38;5;28many\u001b[39m(a\u001b[38;5;241m.\u001b[39mas_coeff_Mul()[\u001b[38;5;241m0\u001b[39m]\u001b[38;5;241m.\u001b[39mextract_multiplicatively(\u001b[38;5;241m-\u001b[39m\u001b[38;5;241m1\u001b[39m) \u001b[38;5;129;01mis\u001b[39;00m \u001b[38;5;28;01mNone\u001b[39;00m\n\u001b[0;32m   1245\u001b[0m                \u001b[38;5;28;01mfor\u001b[39;00m a \u001b[38;5;129;01min\u001b[39;00m list_args):\n",
      "File \u001b[1;32mc:\\Users\\Kostas\\anaconda3\\Lib\\site-packages\\sympy\\core\\exprtools.py:1263\u001b[0m, in \u001b[0;36mfactor_terms.<locals>.do\u001b[1;34m(expr)\u001b[0m\n\u001b[0;32m   1257\u001b[0m     p \u001b[38;5;241m=\u001b[39m gcd_terms(p,\n\u001b[0;32m   1258\u001b[0m         isprimitive\u001b[38;5;241m=\u001b[39m\u001b[38;5;28;01mTrue\u001b[39;00m,\n\u001b[0;32m   1259\u001b[0m         clear\u001b[38;5;241m=\u001b[39mclear,\n\u001b[0;32m   1260\u001b[0m         fraction\u001b[38;5;241m=\u001b[39mfraction)\u001b[38;5;241m.\u001b[39mxreplace(special)\n\u001b[0;32m   1261\u001b[0m \u001b[38;5;28;01melif\u001b[39;00m p\u001b[38;5;241m.\u001b[39margs:\n\u001b[0;32m   1262\u001b[0m     p \u001b[38;5;241m=\u001b[39m p\u001b[38;5;241m.\u001b[39mfunc(\n\u001b[1;32m-> 1263\u001b[0m         \u001b[38;5;241m*\u001b[39m[do(a) \u001b[38;5;28;01mfor\u001b[39;00m a \u001b[38;5;129;01min\u001b[39;00m p\u001b[38;5;241m.\u001b[39margs])\n\u001b[0;32m   1264\u001b[0m rv \u001b[38;5;241m=\u001b[39m _keep_coeff(cont, p, clear\u001b[38;5;241m=\u001b[39mclear, sign\u001b[38;5;241m=\u001b[39msign)\n\u001b[0;32m   1265\u001b[0m \u001b[38;5;28;01mreturn\u001b[39;00m rv\n",
      "File \u001b[1;32mc:\\Users\\Kostas\\anaconda3\\Lib\\site-packages\\sympy\\core\\exprtools.py:1257\u001b[0m, in \u001b[0;36mfactor_terms.<locals>.do\u001b[1;34m(expr)\u001b[0m\n\u001b[0;32m   1255\u001b[0m     \u001b[38;5;66;03m# rebuild p not worrying about the order which gcd_terms will fix\u001b[39;00m\n\u001b[0;32m   1256\u001b[0m     p \u001b[38;5;241m=\u001b[39m Add\u001b[38;5;241m.\u001b[39m_from_args(list_args)\n\u001b[1;32m-> 1257\u001b[0m     p \u001b[38;5;241m=\u001b[39m gcd_terms(p,\n\u001b[0;32m   1258\u001b[0m         isprimitive\u001b[38;5;241m=\u001b[39m\u001b[38;5;28;01mTrue\u001b[39;00m,\n\u001b[0;32m   1259\u001b[0m         clear\u001b[38;5;241m=\u001b[39mclear,\n\u001b[0;32m   1260\u001b[0m         fraction\u001b[38;5;241m=\u001b[39mfraction)\u001b[38;5;241m.\u001b[39mxreplace(special)\n\u001b[0;32m   1261\u001b[0m \u001b[38;5;28;01melif\u001b[39;00m p\u001b[38;5;241m.\u001b[39margs:\n\u001b[0;32m   1262\u001b[0m     p \u001b[38;5;241m=\u001b[39m p\u001b[38;5;241m.\u001b[39mfunc(\n\u001b[0;32m   1263\u001b[0m         \u001b[38;5;241m*\u001b[39m[do(a) \u001b[38;5;28;01mfor\u001b[39;00m a \u001b[38;5;129;01min\u001b[39;00m p\u001b[38;5;241m.\u001b[39margs])\n",
      "File \u001b[1;32mc:\\Users\\Kostas\\anaconda3\\Lib\\site-packages\\sympy\\core\\exprtools.py:1068\u001b[0m, in \u001b[0;36mgcd_terms\u001b[1;34m(terms, isprimitive, clear, fraction)\u001b[0m\n\u001b[0;32m   1066\u001b[0m     terms \u001b[38;5;241m=\u001b[39m sympify(terms)\n\u001b[0;32m   1067\u001b[0m terms, reps \u001b[38;5;241m=\u001b[39m mask(terms)\n\u001b[1;32m-> 1068\u001b[0m cont, numer, denom \u001b[38;5;241m=\u001b[39m _gcd_terms(terms, isprimitive, fraction)\n\u001b[0;32m   1069\u001b[0m numer \u001b[38;5;241m=\u001b[39m numer\u001b[38;5;241m.\u001b[39mxreplace(reps)\n\u001b[0;32m   1070\u001b[0m coeff, factors \u001b[38;5;241m=\u001b[39m cont\u001b[38;5;241m.\u001b[39mas_coeff_Mul()\n",
      "File \u001b[1;32mc:\\Users\\Kostas\\anaconda3\\Lib\\site-packages\\sympy\\core\\exprtools.py:934\u001b[0m, in \u001b[0;36m_gcd_terms\u001b[1;34m(terms, isprimitive, fraction)\u001b[0m\n\u001b[0;32m    931\u001b[0m \u001b[38;5;28;01mif\u001b[39;00m \u001b[38;5;28misinstance\u001b[39m(terms, Basic) \u001b[38;5;129;01mand\u001b[39;00m \u001b[38;5;129;01mnot\u001b[39;00m \u001b[38;5;28misinstance\u001b[39m(terms, Tuple):\n\u001b[0;32m    932\u001b[0m     terms \u001b[38;5;241m=\u001b[39m Add\u001b[38;5;241m.\u001b[39mmake_args(terms)\n\u001b[1;32m--> 934\u001b[0m terms \u001b[38;5;241m=\u001b[39m \u001b[38;5;28mlist\u001b[39m(\u001b[38;5;28mmap\u001b[39m(Term, [t \u001b[38;5;28;01mfor\u001b[39;00m t \u001b[38;5;129;01min\u001b[39;00m terms \u001b[38;5;28;01mif\u001b[39;00m t]))\n\u001b[0;32m    936\u001b[0m \u001b[38;5;66;03m# there is some simplification that may happen if we leave this\u001b[39;00m\n\u001b[0;32m    937\u001b[0m \u001b[38;5;66;03m# here rather than duplicate it before the mapping of Term onto\u001b[39;00m\n\u001b[0;32m    938\u001b[0m \u001b[38;5;66;03m# the terms\u001b[39;00m\n\u001b[0;32m    939\u001b[0m \u001b[38;5;28;01mif\u001b[39;00m \u001b[38;5;28mlen\u001b[39m(terms) \u001b[38;5;241m==\u001b[39m \u001b[38;5;241m0\u001b[39m:\n",
      "File \u001b[1;32mc:\\Users\\Kostas\\anaconda3\\Lib\\site-packages\\sympy\\core\\exprtools.py:831\u001b[0m, in \u001b[0;36mTerm.__init__\u001b[1;34m(self, term, numer, denom)\u001b[0m\n\u001b[0;32m    828\u001b[0m         \u001b[38;5;28;01melse\u001b[39;00m:\n\u001b[0;32m    829\u001b[0m             denom[base] \u001b[38;5;241m+\u001b[39m\u001b[38;5;241m=\u001b[39m \u001b[38;5;241m-\u001b[39mexp\n\u001b[1;32m--> 831\u001b[0m     numer \u001b[38;5;241m=\u001b[39m Factors(numer)\n\u001b[0;32m    832\u001b[0m     denom \u001b[38;5;241m=\u001b[39m Factors(denom)\n\u001b[0;32m    833\u001b[0m \u001b[38;5;28;01melse\u001b[39;00m:\n",
      "File \u001b[1;32mc:\\Users\\Kostas\\anaconda3\\Lib\\site-packages\\sympy\\core\\exprtools.py:370\u001b[0m, in \u001b[0;36mFactors.__init__\u001b[1;34m(self, factors)\u001b[0m\n\u001b[0;32m    366\u001b[0m factors \u001b[38;5;241m=\u001b[39m factors\u001b[38;5;241m.\u001b[39mcopy()  \u001b[38;5;66;03m# /!\\ should be dict-like\u001b[39;00m\n\u001b[0;32m    368\u001b[0m \u001b[38;5;66;03m# tidy up -/+1 and I exponents if Rational\u001b[39;00m\n\u001b[1;32m--> 370\u001b[0m handle \u001b[38;5;241m=\u001b[39m [k \u001b[38;5;28;01mfor\u001b[39;00m k \u001b[38;5;129;01min\u001b[39;00m factors \u001b[38;5;28;01mif\u001b[39;00m k \u001b[38;5;129;01mis\u001b[39;00m I \u001b[38;5;129;01mor\u001b[39;00m k \u001b[38;5;129;01min\u001b[39;00m (\u001b[38;5;241m-\u001b[39m\u001b[38;5;241m1\u001b[39m, \u001b[38;5;241m1\u001b[39m)]\n\u001b[0;32m    371\u001b[0m \u001b[38;5;28;01mif\u001b[39;00m handle:\n\u001b[0;32m    372\u001b[0m     i1 \u001b[38;5;241m=\u001b[39m S\u001b[38;5;241m.\u001b[39mOne\n",
      "File \u001b[1;32mc:\\Users\\Kostas\\anaconda3\\Lib\\site-packages\\sympy\\core\\numbers.py:1389\u001b[0m, in \u001b[0;36mFloat.__eq__\u001b[1;34m(self, other)\u001b[0m\n\u001b[0;32m   1387\u001b[0m     \u001b[38;5;28;01mreturn\u001b[39;00m \u001b[38;5;28mself\u001b[39m\u001b[38;5;241m.\u001b[39m_mpf_ \u001b[38;5;241m==\u001b[39m other\u001b[38;5;241m.\u001b[39m_mpf_\n\u001b[0;32m   1388\u001b[0m \u001b[38;5;28;01mif\u001b[39;00m other\u001b[38;5;241m.\u001b[39mis_Rational:\n\u001b[1;32m-> 1389\u001b[0m     \u001b[38;5;28;01mreturn\u001b[39;00m other\u001b[38;5;241m.\u001b[39m\u001b[38;5;21m__eq__\u001b[39m(\u001b[38;5;28mself\u001b[39m)\n\u001b[0;32m   1390\u001b[0m \u001b[38;5;28;01mif\u001b[39;00m other\u001b[38;5;241m.\u001b[39mis_Number:\n\u001b[0;32m   1391\u001b[0m     \u001b[38;5;66;03m# numbers should compare at the same precision;\u001b[39;00m\n\u001b[0;32m   1392\u001b[0m     \u001b[38;5;66;03m# all _as_mpf_val routines should be sure to abide\u001b[39;00m\n\u001b[0;32m   1393\u001b[0m     \u001b[38;5;66;03m# by the request to change the prec if necessary; if\u001b[39;00m\n\u001b[0;32m   1394\u001b[0m     \u001b[38;5;66;03m# they don't, the equality test will fail since it compares\u001b[39;00m\n\u001b[0;32m   1395\u001b[0m     \u001b[38;5;66;03m# the mpf tuples\u001b[39;00m\n\u001b[0;32m   1396\u001b[0m     ompf \u001b[38;5;241m=\u001b[39m other\u001b[38;5;241m.\u001b[39m_as_mpf_val(\u001b[38;5;28mself\u001b[39m\u001b[38;5;241m.\u001b[39m_prec)\n",
      "File \u001b[1;32mc:\\Users\\Kostas\\anaconda3\\Lib\\site-packages\\sympy\\core\\numbers.py:2248\u001b[0m, in \u001b[0;36mInteger.__eq__\u001b[1;34m(self, other)\u001b[0m\n\u001b[0;32m   2246\u001b[0m \u001b[38;5;28;01melif\u001b[39;00m \u001b[38;5;28misinstance\u001b[39m(other, Integer):\n\u001b[0;32m   2247\u001b[0m     \u001b[38;5;28;01mreturn\u001b[39;00m (\u001b[38;5;28mself\u001b[39m\u001b[38;5;241m.\u001b[39mp \u001b[38;5;241m==\u001b[39m other\u001b[38;5;241m.\u001b[39mp)\n\u001b[1;32m-> 2248\u001b[0m \u001b[38;5;28;01mreturn\u001b[39;00m Rational\u001b[38;5;241m.\u001b[39m\u001b[38;5;21m__eq__\u001b[39m(\u001b[38;5;28mself\u001b[39m, other)\n",
      "File \u001b[1;32mc:\\Users\\Kostas\\anaconda3\\Lib\\site-packages\\sympy\\core\\numbers.py:1872\u001b[0m, in \u001b[0;36mRational.__eq__\u001b[1;34m(self, other)\u001b[0m\n\u001b[0;32m   1869\u001b[0m \u001b[38;5;28;01mdef\u001b[39;00m \u001b[38;5;21m__ceil__\u001b[39m(\u001b[38;5;28mself\u001b[39m):\n\u001b[0;32m   1870\u001b[0m     \u001b[38;5;28;01mreturn\u001b[39;00m \u001b[38;5;28mself\u001b[39m\u001b[38;5;241m.\u001b[39mceiling()\n\u001b[1;32m-> 1872\u001b[0m \u001b[38;5;28;01mdef\u001b[39;00m \u001b[38;5;21m__eq__\u001b[39m(\u001b[38;5;28mself\u001b[39m, other):\n\u001b[0;32m   1873\u001b[0m     \u001b[38;5;28;01mtry\u001b[39;00m:\n\u001b[0;32m   1874\u001b[0m         other \u001b[38;5;241m=\u001b[39m _sympify(other)\n",
      "\u001b[1;31mKeyboardInterrupt\u001b[0m: "
     ]
    }
   ],
   "source": [
    "# Create a plot for the permit price with respect to the emission cap 10 samples between 0 and 200\n",
    "BAU_percentage = np.linspace(0, 1, 20)\n",
    "BAU_emissions = Regulator1.BAU_emissions\n",
    "caps = [BAU_emissions*i for i in BAU_percentage]\n",
    "# Read the data from the csv file, if it exists, if not, just create a new one\n",
    "try:\n",
    "    df = pd.read_csv('permit_price_to_Percentage_of_BAU_v1_0.csv')\n",
    "    percentages = list(df['Percentage of BAU'])\n",
    "    caps2 = list(df['Emission Cap'])\n",
    "    permit_prices = list(df['Permit Price'])\n",
    "    outputs = list(df['Outputs'])\n",
    "    emissions = list(df['Emissions'])\n",
    "    profits = list(df['Profits'])\n",
    "except:\n",
    "    percentages = []\n",
    "    caps2 = []\n",
    "    permit_prices = []\n",
    "    outputs = []\n",
    "    emissions = []\n",
    "    profits = []\n",
    "# Loop through all the emission caps and calculate the permit price\n",
    "\n",
    "# Find all the caps that are not calculated yet (meaning that they are more than 0.5 different than a value of the caps2)\n",
    "for i in caps[:]:  # Iterate over a copy of the list\n",
    "    if any(abs(i - x) < 0.5 for x in caps2):\n",
    "        caps.remove(i)\n",
    "\n",
    "for i in tqdm.tqdm(caps):\n",
    "    Regulator1.emission_cap = i  \n",
    "    Regulator1.find_optimal_permit_price_to_meet_the_emission_cap_requirements(precision= 0.01, x_high = 1000000000000, size_of_diffs= 1)\n",
    "    caps2.append(i)\n",
    "    percentages.append(Regulator1.emission_cap/BAU_emissions)\n",
    "    permit_prices.append(Regulator1.permit_price)\n",
    "    outputs.append(tuple([firm.actual_output for firm in Regulator1.firm_registry.values()]))\n",
    "    emissions.append(tuple([firm.emission for firm in Regulator1.firm_registry.values()]))\n",
    "    profits.append(tuple([firm.profit for firm in Regulator1.firm_registry.values()]))\n",
    "    # save all the data in a csv file\n",
    "    df = pd.DataFrame({'Percentage of BAU': percentages, 'Emission Cap': caps2, 'Permit Price': permit_prices, 'Outputs': outputs, 'Emissions': emissions, 'Profits': profits})\n",
    "    df.to_csv('permit_price_to_Percentage_of_BAU_v1_0.csv', index=False)\n",
    "\n",
    "\n"
   ]
  },
  {
   "cell_type": "code",
   "execution_count": null,
   "metadata": {},
   "outputs": [],
   "source": []
  }
 ],
 "metadata": {
  "kernelspec": {
   "display_name": "base",
   "language": "python",
   "name": "python3"
  },
  "language_info": {
   "codemirror_mode": {
    "name": "ipython",
    "version": 3
   },
   "file_extension": ".py",
   "mimetype": "text/x-python",
   "name": "python",
   "nbconvert_exporter": "python",
   "pygments_lexer": "ipython3",
   "version": "3.12.4"
  }
 },
 "nbformat": 4,
 "nbformat_minor": 2
}
