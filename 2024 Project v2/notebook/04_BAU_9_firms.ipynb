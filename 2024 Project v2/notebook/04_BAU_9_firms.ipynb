{
 "cells": [
  {
   "cell_type": "code",
   "execution_count": 1,
   "metadata": {},
   "outputs": [],
   "source": [
    "import sys\n",
    "import os\n",
    "sys.path.append(os.path.abspath(os.path.join('..', 'src')))\n",
    "\n",
    "from funkwpap import sympy_to_gurobi, Firm, Country, Sector, Regulator, get_emission\n",
    "import sympy as sp, pandas as pd, numpy as np, tqdm, time, sys\n",
    "from gurobipy import Model, LinExpr, QuadExpr, GRB\n",
    "x = sp.symbols('x')\n",
    "y = sp.symbols('y')"
   ]
  },
  {
   "cell_type": "code",
   "execution_count": 2,
   "metadata": {},
   "outputs": [
    {
     "name": "stdout",
     "output_type": "stream",
     "text": [
      "[Firm(id=1, name='firm1', sector_id=1, country_id=1, actual_output=0, emission=0, profit=0), Firm(id=2, name='firm2', sector_id=1, country_id=2, actual_output=0, emission=0, profit=0), Firm(id=3, name='firm3', sector_id=1, country_id=3, actual_output=0, emission=0, profit=0)]\n",
      "[Firm(id=1, name='firm1', sector_id=1, country_id=1, actual_output=0, emission=0, profit=0), Firm(id=4, name='firm4', sector_id=2, country_id=1, actual_output=0, emission=0, profit=0), Firm(id=7, name='firm7', sector_id=3, country_id=1, actual_output=0, emission=0, profit=0)]\n",
      "{1: Firm(id=1, name='firm1', sector_id=1, country_id=1, actual_output=0, emission=0, profit=0), 2: Firm(id=2, name='firm2', sector_id=1, country_id=2, actual_output=0, emission=0, profit=0), 3: Firm(id=3, name='firm3', sector_id=1, country_id=3, actual_output=0, emission=0, profit=0), 4: Firm(id=4, name='firm4', sector_id=2, country_id=1, actual_output=0, emission=0, profit=0), 5: Firm(id=5, name='firm5', sector_id=2, country_id=2, actual_output=0, emission=0, profit=0), 6: Firm(id=6, name='firm6', sector_id=2, country_id=3, actual_output=0, emission=0, profit=0), 7: Firm(id=7, name='firm7', sector_id=3, country_id=1, actual_output=0, emission=0, profit=0), 8: Firm(id=8, name='firm8', sector_id=3, country_id=2, actual_output=0, emission=0, profit=0), 9: Firm(id=9, name='firm9', sector_id=3, country_id=3, actual_output=0, emission=0, profit=0)}\n",
      "firm1 cement DE\n",
      "firm2 cement FI\n",
      "firm3 cement GR\n",
      "firm4 steel DE\n",
      "firm5 steel FI\n",
      "firm6 steel GR\n",
      "firm7 paper DE\n",
      "firm8 paper FI\n",
      "firm9 paper GR\n"
     ]
    }
   ],
   "source": [
    "\n",
    "# Create Sectors and Countries\n",
    "Regulator1 = Regulator('EU', permit_price= 2, emission_cap= 100)\n",
    "sector1 = Sector('cement', price_demand_function= 100 - 0.1*x, free_emission_multiplier= 0.1, regulator= Regulator1)\n",
    "sector2 = Sector('steel', price_demand_function=150 - 0.1*x, free_emission_multiplier= 0.05, regulator= Regulator1)\n",
    "sector3 = Sector('paper', price_demand_function= 200 - 0.02*x**1.5, free_emission_multiplier= 0.1, regulator= Regulator1)\n",
    "country1 = Country('DE', 1, regulator= Regulator1)\n",
    "country2 = Country('FI', 0.5, regulator= Regulator1)\n",
    "country3 = Country('GR', size= 0.1, regulator= Regulator1)\n",
    "\n",
    "# Create Firms using objects\n",
    "firm1 = Firm('firm1', 1, 1, x*0, 0.1*x**4 + 100/y**2, 0, 0, 0, regulator= Regulator1)\n",
    "firm2 = Firm('firm2', 1, 2, x*0, 5*x**3.2 + 40/y**2, 0, 0, 0, regulator= Regulator1)\n",
    "firm3 = Firm('firm3', 1, 3, x*0, x**5.2 + 30/y**2, 0, 0, 0, regulator= Regulator1)\n",
    "firm4 = Firm('firm4', 2, 1, x*0, x**3.3 + 20/y**2, 0, 0, 0, regulator= Regulator1)\n",
    "firm5 = Firm('firm5', 2, 2, x*0, x**2.3 + 20/y**2, 0, 0, 0, regulator= Regulator1)\n",
    "firm6 = Firm('firm6', 2, 3, x*0, x**3.2 + 15/y**2, 0, 0, 0, regulator= Regulator1)\n",
    "firm7 = Firm('firm7', 3, 1, x*0, x**4.1 + 40/y**2, 0, 0, 0, regulator= Regulator1)\n",
    "firm8 = Firm('firm8', 3, 2, x*0, x**5.1 + 50/y**2, 0, 0, 0, regulator= Regulator1)\n",
    "firm9 = Firm('firm9', 3, 3, x*0, x**5 + 60/y**2, 0, 0, 0, regulator= Regulator1)\n",
    "\n",
    "\n",
    "print(sector1.firms)  # List of firms in sector1\n",
    "print(country1.firms)  # List of firms in country1\n",
    "print(Regulator1.firm_registry)  # Dictionary of all firms\n",
    "\n",
    "for firm in Regulator1.firm_registry.values():\n",
    "    print(firm.name, firm.sector.name, firm.country.name)\n"
   ]
  },
  {
   "cell_type": "code",
   "execution_count": 3,
   "metadata": {},
   "outputs": [
    {
     "name": "stdout",
     "output_type": "stream",
     "text": [
      "Set parameter Username\n",
      "Academic license - for non-commercial use only - expires 2025-08-14\n",
      "Max diff: 0.06, permit price = 2.0, cap = 100, second_stage = False, a = 1.0000"
     ]
    }
   ],
   "source": [
    "Regulator1.optimize_them_all(precision = 0.1, print_diff = True, BAU = True)"
   ]
  },
  {
   "cell_type": "code",
   "execution_count": 4,
   "metadata": {},
   "outputs": [
    {
     "name": "stdout",
     "output_type": "stream",
     "text": [
      "firm1 cement DE 257.32525385607016 0.0 6273.59076591368\n",
      "firm2 cement FI 257.32525385607016 0.0 6273.59076591368\n",
      "firm3 cement GR 241.54945043799546 0.0 5888.97661255950\n",
      "firm4 steel DE 376.13222749306016 0.0 13977.1983562917\n",
      "firm5 steel FI 376.13222749306016 0.0 13977.1983562917\n",
      "firm6 steel GR 376.13222749306016 0.0 13977.1983562917\n",
      "firm7 paper DE 118.59141288110008 0.0 7795.70908896106\n",
      "firm8 paper FI 118.55901246575188 0.0 7794.93391399515\n",
      "firm9 paper GR 118.67118725249841 0.0 7803.94427937029\n"
     ]
    }
   ],
   "source": [
    "for firm in Regulator1.firm_registry.values():\n",
    "    print(firm.name, firm.sector.name, firm.country.name, firm.actual_output, firm.emission, firm.profit)"
   ]
  },
  {
   "cell_type": "code",
   "execution_count": 5,
   "metadata": {},
   "outputs": [
    {
     "name": "stdout",
     "output_type": "stream",
     "text": [
      "Max diff: 0.01, permit price = 2.0, cap = 100, second_stage = False, a = 0.73"
     ]
    }
   ],
   "source": [
    "Regulator1.BAU_calculator(print_diff = True)"
   ]
  },
  {
   "cell_type": "code",
   "execution_count": 6,
   "metadata": {},
   "outputs": [
    {
     "name": "stdout",
     "output_type": "stream",
     "text": [
      "Firm name, Sector, Country, Actual output, Emission, Profit, BAU profit, BAU emission\n",
      "firm1 cement DE 257.32525385607016 0.0 6273.59076591368 6273.59076591368 257.32525385607016\n",
      "firm2 cement FI 257.32525385607016 0.0 6273.59076591368 6273.59076591368 257.32525385607016\n",
      "firm3 cement GR 241.54945043799546 0.0 5888.97661255950 5888.97661255950 241.54945043799546\n",
      "firm4 steel DE 376.1322274930602 0.0 13977.1983562917 13977.1983562917 376.1322274930602\n",
      "firm5 steel FI 376.1322274930602 0.0 13977.1983562917 13977.1983562917 376.1322274930602\n",
      "firm6 steel GR 376.1322274930602 0.0 13977.1983562917 13977.1983562917 376.1322274930602\n",
      "firm7 paper DE 118.63237526213813 0.0 7800.03307363717 7800.03307363717 118.63237526213813\n",
      "firm8 paper FI 118.61365635541384 0.0 7798.35734205865 7798.35734205865 118.61365635541384\n",
      "firm9 paper GR 118.6044563033629 0.0 7797.61789018947 7797.61789018947 118.6044563033629\n"
     ]
    }
   ],
   "source": [
    "print(\"Firm name, Sector, Country, Actual output, Emission, Profit, BAU profit, BAU emission\")\n",
    "for firm in Regulator1.firm_registry.values():\n",
    "    print(firm.name, firm.sector.name, firm.country.name, firm.actual_output, firm.emission, firm.profit, firm.BAU_profit, firm.BAU_emission)"
   ]
  },
  {
   "cell_type": "markdown",
   "metadata": {},
   "source": [
    "|    |   Firm |     Output |   Emission |      Profit |   sector |   sum_sector_output |     price |      sales |   abatement |   trades |         sum | Correct? |\n",
    "|---:|-------:|-----------:|-----------:|------------:|---------:|--------------------:|----------:|-----------:|------------:|---------:|------------:|:---------|\n",
    "|  0 |      1 | 257.325    |    257.325 |   6273.5908 |        1 |            756.2    |  24.38    |   6273.59  |  0.0015102  |        0 |   6273.5893 | TRUE      |\n",
    "|  1 |      2 | 257.325    |    257.325 |   6273.5908 |        1 |            756.2    |  24.38    |   6273.59  |  0.0006041  |        0 |   6273.5902 | TRUE      |\n",
    "|  2 |      3 | 241.549    |    241.549 |   5888.9766 |        1 |            756.2    |  24.38    |   5888.98  |  0.0005142  |        0 |   5888.9761 | TRUE      |\n",
    "|  3 |      4 | 376.132    |    376.132 |  13977.1984 |        2 |           1128.4    |  37.1603  |  13977.2   |  0.0001414  |        0 |  13977.1982 | TRUE      |\n",
    "|  4 |      5 | 376.132    |    376.132 |  13977.1984 |        2 |           1128.4    |  37.1603  |  13977.2   |  0.0001414  |        0 |  13977.1982 | TRUE      |\n",
    "|  5 |      6 | 376.132    |    376.132 |  13977.1984 |        2 |           1128.4    |  37.1603  |  13977.2   |  0.000106   |        0 |  13977.1982 | TRUE      |\n",
    "|  6 |      7 | 118.455    |    118.455 |   7789.6433 |        3 |            355.366  |  66.0189  |   7820.29  |  0.0028507  |        0 |   7820.2833 | TRUE      |\n",
    "|  7 |      8 | 118.455    |    118.455 |   7789.6433 |        3 |            355.366  |  66.0189  |   7820.29  |  0.0035634  |        0 |   7820.2826 | TRUE      |\n",
    "|  8 |      9 | 118.455    |    118.455 |   7789.6433 |        3 |            355.366  |  66.0189  |   7820.29  |  0.004276   |        0 |   7820.2819 | TRUE      |\n"
   ]
  },
  {
   "cell_type": "code",
   "execution_count": 7,
   "metadata": {},
   "outputs": [
    {
     "name": "stderr",
     "output_type": "stream",
     "text": [
      "0it [00:00, ?it/s]\n"
     ]
    }
   ],
   "source": [
    "# Create a plot for the permit price with respect to the emission cap 10 samples between 0 and 200\n",
    "BAU_percentage = np.linspace(0.2, 1, 20)\n",
    "BAU_emissions = Regulator1.BAU_emissions\n",
    "caps = [BAU_emissions*i for i in BAU_percentage]\n",
    "# Read the data from the csv file, if it exists, if not, just create a new one\n",
    "try:\n",
    "    df = pd.read_csv('permit_price_to_Percentage_of_BAU_v0_1.csv')\n",
    "    percentages = list(df['Percentage of BAU'])\n",
    "    caps2 = list(df['Emission Cap'])\n",
    "    permit_prices = list(df['Permit Price'])\n",
    "    outputs = list(df['Outputs'])\n",
    "    emissions = list(df['Emissions'])\n",
    "    profits = list(df['Profits'])\n",
    "except:\n",
    "    percentages = []\n",
    "    caps2 = []\n",
    "    permit_prices = []\n",
    "    outputs = []\n",
    "    emissions = []\n",
    "    profits = []\n",
    "# Loop through all the emission caps and calculate the permit price\n",
    "\n",
    "# Find all the caps that are not calculated yet (meaning that they are more than 0.5 different than a value of the caps2)\n",
    "for i in caps[:]:  # Iterate over a copy of the list\n",
    "    if any(abs(i - x) < 0.5 for x in caps2):\n",
    "        caps.remove(i)\n",
    "\n",
    "for i in tqdm.tqdm(caps):\n",
    "    Regulator1.emission_cap = i  \n",
    "    Regulator1.find_optimal_permit_price_to_meet_the_emission_cap_requirements(precision= 0.1, x_high = 1000000000000)\n",
    "    caps2.append(i)\n",
    "    percentages.append(Regulator1.emission_cap/BAU_emissions)\n",
    "    permit_prices.append(Regulator1.permit_price)\n",
    "    outputs.append(tuple([firm.actual_output for firm in Regulator1.firm_registry.values()]))\n",
    "    emissions.append(tuple([firm.emission for firm in Regulator1.firm_registry.values()]))\n",
    "    profits.append(tuple([firm.profit for firm in Regulator1.firm_registry.values()]))\n",
    "    # save all the data in a csv file\n",
    "    df = pd.DataFrame({'Percentage of BAU': percentages, 'Emission Cap': caps2, 'Permit Price': permit_prices, 'Outputs': outputs, 'Emissions': emissions, 'Profits': profits})\n",
    "    df.to_csv('permit_price_to_Percentage_of_BAU_v0_1.csv', index=False)\n",
    "\n",
    "\n"
   ]
  },
  {
   "cell_type": "markdown",
   "metadata": {},
   "source": [
    "Εδώ θα τρέξει το ίδιο, αλ΄λα κοιτώντας μόνο το τελευταίο για να δει αν αποκλίνει. "
   ]
  },
  {
   "cell_type": "code",
   "execution_count": 10,
   "metadata": {},
   "outputs": [
    {
     "name": "stderr",
     "output_type": "stream",
     "text": [
      "  0%|          | 0/100 [00:00<?, ?it/s]"
     ]
    },
    {
     "name": "stdout",
     "output_type": "stream",
     "text": [
      "Max diff: 0.00, permit price = 1000000000000.0, cap = 0, second_stage = False, a = 1.000"
     ]
    },
    {
     "name": "stderr",
     "output_type": "stream",
     "text": [
      "  1%|          | 1/100 [00:59<1:37:44, 59.24s/it]"
     ]
    },
    {
     "name": "stdout",
     "output_type": "stream",
     "text": [
      "Permit price: 1000000000000 and total emission: 0.008999990999990715 and emission cap 0.0\n",
      "Permit price: 218.733476rice = 218.7, cap = 23, second_stage = False, a = 1.00000000000"
     ]
    },
    {
     "name": "stderr",
     "output_type": "stream",
     "text": [
      "  2%|▏         | 2/100 [02:56<2:32:16, 93.23s/it]"
     ]
    },
    {
     "name": "stdout",
     "output_type": "stream",
     "text": [
      "Permit price: 218.73347577638924 and total emission: 22.60456194104456 and emission cap 22.630779076264965\n",
      "Permit price: 211.457518rice = 211.5, cap = 45, second_stage = False, a = 1.0000000000000"
     ]
    },
    {
     "name": "stderr",
     "output_type": "stream",
     "text": [
      "  3%|▎         | 3/100 [05:04<2:56:46, 109.34s/it]"
     ]
    },
    {
     "name": "stdout",
     "output_type": "stream",
     "text": [
      "Permit price: 211.45751816220582 and total emission: 44.90649999124922 and emission cap 45.26155815252993\n",
      "Max diff: 0.22, permit price = 202.8, cap = 68, second_stage = False, a = 1.0000000000000"
     ]
    },
    {
     "name": "stderr",
     "output_type": "stream",
     "text": [
      "  4%|▍         | 4/100 [07:15<3:08:40, 117.92s/it]"
     ]
    },
    {
     "name": "stdout",
     "output_type": "stream",
     "text": [
      "Permit price: 202.817318495363 and total emission: 67.45637266093323 and emission cap 67.89233722879489\n",
      "Max diff: 0.32, permit price = 192.8, cap = 91, second_stage = False, a = 1.0000000000000"
     ]
    },
    {
     "name": "stderr",
     "output_type": "stream",
     "text": [
      "  5%|▌         | 5/100 [09:27<3:14:18, 122.72s/it]"
     ]
    },
    {
     "name": "stdout",
     "output_type": "stream",
     "text": [
      "Permit price: 192.8128767758608 and total emission: 90.12218780270874 and emission cap 90.52311630505986\n",
      "Max diff: 0.32, permit price = 181.9, cap = 113, second_stage = False, a = 1.0000000000000"
     ]
    },
    {
     "name": "stderr",
     "output_type": "stream",
     "text": [
      "  6%|▌         | 6/100 [11:32<3:13:54, 123.77s/it]"
     ]
    },
    {
     "name": "stdout",
     "output_type": "stream",
     "text": [
      "Permit price: 181.89894035458565 and total emission: 112.56452661276899 and emission cap 113.15389538132483\n",
      "Permit price: 169.620762rice = 169.6, cap = 136, second_stage = False, a = 1.0000000000000"
     ]
    },
    {
     "name": "stderr",
     "output_type": "stream",
     "text": [
      "  7%|▋         | 7/100 [13:35<3:11:11, 123.35s/it]"
     ]
    },
    {
     "name": "stdout",
     "output_type": "stream",
     "text": [
      "Permit price: 169.62076188065112 and total emission: 135.1002397417005 and emission cap 135.78467445758977\n",
      "Permit price: 157.797331rice = 157.8, cap = 158, second_stage = False, a = 1.0000000000000"
     ]
    },
    {
     "name": "stderr",
     "output_type": "stream",
     "text": [
      "  8%|▊         | 8/100 [15:35<3:07:19, 122.16s/it]"
     ]
    },
    {
     "name": "stdout",
     "output_type": "stream",
     "text": [
      "Permit price: 157.79733075760305 and total emission: 157.87211815047962 and emission cap 158.41545353385476\n",
      "Permit price: 151.430868rice = 151.4, cap = 181, second_stage = False, a = 1.0000000000000"
     ]
    },
    {
     "name": "stderr",
     "output_type": "stream",
     "text": [
      "  9%|▉         | 9/100 [17:45<3:09:22, 124.86s/it]"
     ]
    },
    {
     "name": "stdout",
     "output_type": "stream",
     "text": [
      "Permit price: 151.43086784519255 and total emission: 177.53870013368626 and emission cap 181.04623261011972\n",
      "Max diff: 0.24, permit price = 148.2, cap = 204, second_stage = False, a = 1.0000000000000"
     ]
    },
    {
     "name": "stderr",
     "output_type": "stream",
     "text": [
      " 10%|█         | 10/100 [19:58<3:10:45, 127.17s/it]"
     ]
    },
    {
     "name": "stdout",
     "output_type": "stream",
     "text": [
      "Permit price: 148.2476363889873 and total emission: 202.36314519582484 and emission cap 203.67701168638467\n",
      "Max diff: 0.20, permit price = 145.5, cap = 226, second_stage = False, a = 1.0000000000000"
     ]
    },
    {
     "name": "stderr",
     "output_type": "stream",
     "text": [
      " 11%|█         | 11/100 [22:14<3:12:43, 129.92s/it]"
     ]
    },
    {
     "name": "stdout",
     "output_type": "stream",
     "text": [
      "Permit price: 145.51915228366852 and total emission: 224.5422701977761 and emission cap 226.30779076264966\n",
      "Permit price: 143.245416rice = 143.2, cap = 249, second_stage = False, a = 1.0000000000000"
     ]
    },
    {
     "name": "stderr",
     "output_type": "stream",
     "text": [
      " 12%|█▏        | 12/100 [24:26<3:11:36, 130.64s/it]"
     ]
    },
    {
     "name": "stdout",
     "output_type": "stream",
     "text": [
      "Permit price: 143.2454155292362 and total emission: 243.42643689814975 and emission cap 248.93856983891462\n",
      "Permit price: 140.516931rice = 140.5, cap = 272, second_stage = False, a = 1.0000000000000"
     ]
    },
    {
     "name": "stderr",
     "output_type": "stream",
     "text": [
      " 13%|█▎        | 13/100 [26:34<3:08:24, 129.93s/it]"
     ]
    },
    {
     "name": "stdout",
     "output_type": "stream",
     "text": [
      "Permit price: 140.5169314239174 and total emission: 269.12882455327775 and emission cap 271.56934891517955\n",
      "Permit price: 137.788447rice = 137.8, cap = 294, second_stage = False, a = 1.0000000000000"
     ]
    },
    {
     "name": "stderr",
     "output_type": "stream",
     "text": [
      " 14%|█▍        | 14/100 [28:44<3:06:02, 129.80s/it]"
     ]
    },
    {
     "name": "stdout",
     "output_type": "stream",
     "text": [
      "Permit price: 137.78844731859863 and total emission: 293.01311885330176 and emission cap 294.20012799144456\n",
      "Permit price: 135.059963rice = 135.1, cap = 317, second_stage = False, a = 1.0000000000000"
     ]
    },
    {
     "name": "stderr",
     "output_type": "stream",
     "text": [
      " 15%|█▌        | 15/100 [30:51<3:02:46, 129.01s/it]"
     ]
    },
    {
     "name": "stdout",
     "output_type": "stream",
     "text": [
      "Permit price: 135.05996321327984 and total emission: 316.6405393376879 and emission cap 316.8309070677095\n",
      "Max diff: 0.26, permit price = 132.8, cap = 339, second_stage = False, a = 1.0000000000000"
     ]
    },
    {
     "name": "stderr",
     "output_type": "stream",
     "text": [
      " 16%|█▌        | 16/100 [33:02<3:01:26, 129.60s/it]"
     ]
    },
    {
     "name": "stdout",
     "output_type": "stream",
     "text": [
      "Permit price: 132.78622645884752 and total emission: 338.67841649017777 and emission cap 339.4616861439745\n",
      "Permit price: 130.512490rice = 130.5, cap = 362, second_stage = False, a = 1.0000000000000"
     ]
    },
    {
     "name": "stderr",
     "output_type": "stream",
     "text": [
      " 17%|█▋        | 17/100 [35:12<2:59:28, 129.74s/it]"
     ]
    },
    {
     "name": "stdout",
     "output_type": "stream",
     "text": [
      "Permit price: 130.5124897044152 and total emission: 359.51483278493447 and emission cap 362.09246522023943\n",
      "Max diff: 0.14, permit price = 128.2, cap = 385, second_stage = False, a = 1.0000000000000"
     ]
    },
    {
     "name": "stderr",
     "output_type": "stream",
     "text": [
      " 18%|█▊        | 18/100 [37:25<2:58:31, 130.63s/it]"
     ]
    },
    {
     "name": "stdout",
     "output_type": "stream",
     "text": [
      "Permit price: 128.23875294998288 and total emission: 380.0123434001321 and emission cap 384.72324429650445\n",
      "Permit price: 125.055521rice = 125.1, cap = 407, second_stage = False, a = 1.0000000000000"
     ]
    },
    {
     "name": "stderr",
     "output_type": "stream",
     "text": [
      " 19%|█▉        | 19/100 [39:38<2:57:14, 131.29s/it]"
     ]
    },
    {
     "name": "stdout",
     "output_type": "stream",
     "text": [
      "Permit price: 125.05552149377763 and total emission: 403.4059334201103 and emission cap 407.35402337276935\n",
      "Max diff: 0.31, permit price = 122.8, cap = 430, second_stage = False, a = 1.0000000000000"
     ]
    },
    {
     "name": "stderr",
     "output_type": "stream",
     "text": [
      " 20%|██        | 20/100 [41:52<2:56:20, 132.25s/it]"
     ]
    },
    {
     "name": "stdout",
     "output_type": "stream",
     "text": [
      "Permit price: 122.78178473934531 and total emission: 424.0172159900474 and emission cap 429.9848024490343\n",
      "Max diff: 0.15, permit price = 120.1, cap = 453, second_stage = False, a = 1.0000000000000"
     ]
    },
    {
     "name": "stderr",
     "output_type": "stream",
     "text": [
      " 21%|██        | 21/100 [44:07<2:55:09, 133.03s/it]"
     ]
    },
    {
     "name": "stdout",
     "output_type": "stream",
     "text": [
      "Permit price: 120.05330063402653 and total emission: 449.7425015528353 and emission cap 452.6155815252993\n",
      "Max diff: 0.11, permit price = 117.3, cap = 475, second_stage = False, a = 1.0000000000000"
     ]
    },
    {
     "name": "stderr",
     "output_type": "stream",
     "text": [
      " 22%|██▏       | 22/100 [46:20<2:52:59, 133.07s/it]"
     ]
    },
    {
     "name": "stdout",
     "output_type": "stream",
     "text": [
      "Permit price: 117.32481652870774 and total emission: 471.10743701912577 and emission cap 475.2463606015642\n",
      "Max diff: 0.25, permit price = 114.6, cap = 498, second_stage = False, a = 1.0000000000000"
     ]
    },
    {
     "name": "stderr",
     "output_type": "stream",
     "text": [
      " 23%|██▎       | 23/100 [50:35<3:37:42, 169.65s/it]"
     ]
    },
    {
     "name": "stdout",
     "output_type": "stream",
     "text": [
      "Permit price: 114.59633242338896 and total emission: 495.70686347567846 and emission cap 497.87713967782923\n",
      "Max diff: 0.19, permit price = 112.8, cap = 521, second_stage = False, a = 1.0000000000000"
     ]
    },
    {
     "name": "stderr",
     "output_type": "stream",
     "text": [
      " 24%|██▍       | 24/100 [54:46<4:05:49, 194.08s/it]"
     ]
    },
    {
     "name": "stdout",
     "output_type": "stream",
     "text": [
      "Permit price: 112.7773430198431 and total emission: 513.5313280737871 and emission cap 520.5079187540942\n",
      "Permit price: 109.594112rice = 109.6, cap = 543, second_stage = False, a = 1.0000000000000"
     ]
    },
    {
     "name": "stderr",
     "output_type": "stream",
     "text": [
      " 25%|██▌       | 25/100 [59:01<4:25:16, 212.23s/it]"
     ]
    },
    {
     "name": "stdout",
     "output_type": "stream",
     "text": [
      "Permit price: 109.59411156363785 and total emission: 540.8337720197339 and emission cap 543.1386978303591\n",
      "Max diff: 105.16, permit price = 107.3, cap = 566, second_stage = True, a = 0.113000000000"
     ]
    },
    {
     "name": "stderr",
     "output_type": "stream",
     "text": [
      " 26%|██▌       | 26/100 [1:09:14<6:50:15, 332.65s/it]"
     ]
    },
    {
     "name": "stdout",
     "output_type": "stream",
     "text": [
      "Everything failed, best result is 12.967061942474402\n",
      "Permit price: 107.32037480920553 and total emission: 559.2865098999926 and emission cap 565.7694769066242\n",
      "Max diff: 0.02, permit price = 106.4, cap = 588, second_stage = False, a = 1.0003000000000"
     ]
    },
    {
     "name": "stderr",
     "output_type": "stream",
     "text": [
      " 27%|██▋       | 27/100 [1:15:12<6:53:56, 340.23s/it]"
     ]
    },
    {
     "name": "stdout",
     "output_type": "stream",
     "text": [
      "Permit price: 106.4108801074326 and total emission: 578.7074164068598 and emission cap 588.4002559828891\n",
      "Max diff: 0.08, permit price = 101.9, cap = 611, second_stage = False, a = 0.9000000000000"
     ]
    },
    {
     "name": "stderr",
     "output_type": "stream",
     "text": [
      " 28%|██▊       | 28/100 [1:19:48<6:24:54, 320.76s/it]"
     ]
    },
    {
     "name": "stdout",
     "output_type": "stream",
     "text": [
      "Permit price: 101.86340659856796 and total emission: 591.1382274524136 and emission cap 611.0310350591541\n",
      "Max diff: 0.08, permit price = 101.9, cap = 634, second_stage = False, a = 0.9000000000000"
     ]
    },
    {
     "name": "stderr",
     "output_type": "stream",
     "text": [
      " 29%|██▉       | 29/100 [1:24:25<6:04:10, 307.75s/it]"
     ]
    },
    {
     "name": "stdout",
     "output_type": "stream",
     "text": [
      "Permit price: 101.86340659856796 and total emission: 591.1382274524136 and emission cap 633.661814135419\n",
      "Max diff: 0.08, permit price = 101.9, cap = 656, second_stage = False, a = 0.9000000000000"
     ]
    },
    {
     "name": "stderr",
     "output_type": "stream",
     "text": [
      " 30%|███       | 30/100 [1:29:02<5:48:12, 298.47s/it]"
     ]
    },
    {
     "name": "stdout",
     "output_type": "stream",
     "text": [
      "Permit price: 101.86340659856796 and total emission: 591.1382274524136 and emission cap 656.2925932116839\n",
      "Max diff: 0.06, permit price = 100.0, cap = 679, second_stage = False, a = 1.0000000000000"
     ]
    },
    {
     "name": "stderr",
     "output_type": "stream",
     "text": [
      " 31%|███       | 31/100 [1:33:29<5:32:30, 289.13s/it]"
     ]
    },
    {
     "name": "stdout",
     "output_type": "stream",
     "text": [
      "Permit price: 100.0444171950221 and total emission: 678.4478342546098 and emission cap 678.923372287949\n",
      "Permit price: 98.680175price = 98.7, cap = 702, second_stage = False, a = 1.00000000000000"
     ]
    },
    {
     "name": "stderr",
     "output_type": "stream",
     "text": [
      " 32%|███▏      | 32/100 [1:37:55<5:19:47, 282.17s/it]"
     ]
    },
    {
     "name": "stdout",
     "output_type": "stream",
     "text": [
      "Permit price: 98.68017514236271 and total emission: 699.357339922149 and emission cap 701.5541513642139\n",
      "Max diff: 44.35, permit price = 97.3, cap = 724, second_stage = True, a = 0.11100000000000Everything failed, best result is 12.771000438426555\n",
      "Permit price: 97.770680price = 97.8, cap = 724, second_stage = False, a = 1.000"
     ]
    },
    {
     "name": "stderr",
     "output_type": "stream",
     "text": [
      " 33%|███▎      | 33/100 [1:45:53<6:20:43, 340.95s/it]"
     ]
    },
    {
     "name": "stdout",
     "output_type": "stream",
     "text": [
      "Permit price: 97.77068044058979 and total emission: 714.9585355011112 and emission cap 724.1849304404789\n",
      "Permit price: 95.951691price = 96.0, cap = 747, second_stage = False, a = 1.00000000000000"
     ]
    },
    {
     "name": "stderr",
     "output_type": "stream",
     "text": [
      " 34%|███▍      | 34/100 [1:50:17<5:49:43, 317.93s/it]"
     ]
    },
    {
     "name": "stdout",
     "output_type": "stream",
     "text": [
      "Permit price: 95.95169103704393 and total emission: 738.635234410363 and emission cap 746.8157095167438\n",
      "Max diff: 0.38, permit price = 94.6, cap = 769, second_stage = False, a = 1.00000000000000"
     ]
    },
    {
     "name": "stderr",
     "output_type": "stream",
     "text": [
      " 35%|███▌      | 35/100 [1:54:52<5:30:20, 304.93s/it]"
     ]
    },
    {
     "name": "stdout",
     "output_type": "stream",
     "text": [
      "Permit price: 94.58744898438454 and total emission: 760.1498840997618 and emission cap 769.4464885930089\n",
      "Permit price: 93.223207price = 93.2, cap = 792, second_stage = False, a = 1.00000000000000"
     ]
    },
    {
     "name": "stderr",
     "output_type": "stream",
     "text": [
      " 36%|███▌      | 36/100 [1:59:19<5:13:13, 293.64s/it]"
     ]
    },
    {
     "name": "stdout",
     "output_type": "stream",
     "text": [
      "Permit price: 93.22320693172514 and total emission: 790.5694674224941 and emission cap 792.0772676692739\n",
      "Max diff: 0.17, permit price = 87.3, cap = 815, second_stage = False, a = 1.00000000000000"
     ]
    },
    {
     "name": "stderr",
     "output_type": "stream",
     "text": [
      " 37%|███▋      | 37/100 [2:04:01<5:04:25, 289.93s/it]"
     ]
    },
    {
     "name": "stdout",
     "output_type": "stream",
     "text": [
      "Permit price: 87.31149137020111 and total emission: 797.2602395025665 and emission cap 814.7080467455387\n",
      "Max diff: 0.17, permit price = 87.3, cap = 837, second_stage = False, a = 1.00000000000000"
     ]
    },
    {
     "name": "stderr",
     "output_type": "stream",
     "text": [
      " 38%|███▊      | 38/100 [2:08:26<4:52:03, 282.64s/it]"
     ]
    },
    {
     "name": "stdout",
     "output_type": "stream",
     "text": [
      "Permit price: 87.31149137020111 and total emission: 797.2602395025665 and emission cap 837.3388258218037\n",
      "Max diff: 0.17, permit price = 87.3, cap = 860, second_stage = False, a = 1.00000000000000"
     ]
    },
    {
     "name": "stderr",
     "output_type": "stream",
     "text": [
      " 39%|███▉      | 39/100 [2:12:51<4:41:52, 277.26s/it]"
     ]
    },
    {
     "name": "stdout",
     "output_type": "stream",
     "text": [
      "Permit price: 87.31149137020111 and total emission: 797.2602395025665 and emission cap 859.9696048980686\n",
      "Max diff: 0.17, permit price = 87.3, cap = 883, second_stage = False, a = 1.00000000000000"
     ]
    },
    {
     "name": "stderr",
     "output_type": "stream",
     "text": [
      " 40%|████      | 40/100 [2:17:15<4:33:27, 273.46s/it]"
     ]
    },
    {
     "name": "stdout",
     "output_type": "stream",
     "text": [
      "Permit price: 87.31149137020111 and total emission: 797.2602395025665 and emission cap 882.6003839743337\n",
      "Permit price: 85.947249price = 85.9, cap = 905, second_stage = False, a = 1.00050000000000"
     ]
    },
    {
     "name": "stderr",
     "output_type": "stream",
     "text": [
      " 41%|████      | 41/100 [2:21:28<4:22:47, 267.25s/it]"
     ]
    },
    {
     "name": "stdout",
     "output_type": "stream",
     "text": [
      "Permit price: 85.94724931754172 and total emission: 901.8714629797031 and emission cap 905.2311630505986\n",
      "Permit price: 84.128260price = 84.1, cap = 928, second_stage = False, a = 1.00050000000000"
     ]
    },
    {
     "name": "stderr",
     "output_type": "stream",
     "text": [
      " 42%|████▏     | 42/100 [2:25:42<4:14:33, 263.34s/it]"
     ]
    },
    {
     "name": "stdout",
     "output_type": "stream",
     "text": [
      "Permit price: 84.12825991399586 and total emission: 926.2763214836829 and emission cap 927.8619421268636\n",
      "Max diff: 0.10, permit price = 82.8, cap = 950, second_stage = False, a = 1.00050000000000"
     ]
    },
    {
     "name": "stderr",
     "output_type": "stream",
     "text": [
      " 43%|████▎     | 43/100 [2:30:03<4:09:24, 262.53s/it]"
     ]
    },
    {
     "name": "stdout",
     "output_type": "stream",
     "text": [
      "Permit price: 82.76401786133647 and total emission: 939.6969566258279 and emission cap 950.4927212031284\n",
      "Permit price: 81.399776price = 81.4, cap = 973, second_stage = False, a = 1.00050000000000"
     ]
    },
    {
     "name": "stderr",
     "output_type": "stream",
     "text": [
      " 44%|████▍     | 44/100 [2:34:17<4:02:29, 259.82s/it]"
     ]
    },
    {
     "name": "stdout",
     "output_type": "stream",
     "text": [
      "Permit price: 81.39977580867708 and total emission: 962.2118515791288 and emission cap 973.1235002793935\n",
      "Max diff: 0.24, permit price = 80.0, cap = 996, second_stage = False, a = 1.00050000000000"
     ]
    },
    {
     "name": "stderr",
     "output_type": "stream",
     "text": [
      " 45%|████▌     | 45/100 [2:38:44<4:00:14, 262.08s/it]"
     ]
    },
    {
     "name": "stdout",
     "output_type": "stream",
     "text": [
      "Permit price: 80.03553375601768 and total emission: 995.6659771998982 and emission cap 995.7542793556585\n",
      "Permit price: 77.761797price = 77.8, cap = 1018, second_stage = False, a = 1.00050000000000"
     ]
    },
    {
     "name": "stderr",
     "output_type": "stream",
     "text": [
      " 46%|████▌     | 46/100 [2:43:03<3:54:59, 261.11s/it]"
     ]
    },
    {
     "name": "stdout",
     "output_type": "stream",
     "text": [
      "Permit price: 77.76179700158536 and total emission: 1017.2520244280394 and emission cap 1018.3850584319234\n",
      "Max diff: 0.03, permit price = 76.4, cap = 1041, second_stage = False, a = 1.00050000000000"
     ]
    },
    {
     "name": "stderr",
     "output_type": "stream",
     "text": [
      " 47%|████▋     | 47/100 [2:47:18<3:49:03, 259.32s/it]"
     ]
    },
    {
     "name": "stdout",
     "output_type": "stream",
     "text": [
      "Permit price: 76.39755494892597 and total emission: 1036.7239468512894 and emission cap 1041.0158375081885\n",
      "Max diff: 0.43, permit price = 75.5, cap = 1064, second_stage = False, a = 1.00050000000000"
     ]
    },
    {
     "name": "stderr",
     "output_type": "stream",
     "text": [
      " 48%|████▊     | 48/100 [2:51:39<3:45:13, 259.88s/it]"
     ]
    },
    {
     "name": "stdout",
     "output_type": "stream",
     "text": [
      "Permit price: 75.48806024715304 and total emission: 1060.1567209387686 and emission cap 1063.6466165844533\n",
      "Max diff: 0.15, permit price = 73.7, cap = 1086, second_stage = False, a = 1.00050000000000"
     ]
    },
    {
     "name": "stderr",
     "output_type": "stream",
     "text": [
      " 49%|████▉     | 49/100 [2:55:59<3:40:50, 259.82s/it]"
     ]
    },
    {
     "name": "stdout",
     "output_type": "stream",
     "text": [
      "Permit price: 73.66907084360719 and total emission: 1085.357183659415 and emission cap 1086.2773956607182\n",
      "Max diff: 0.47, permit price = 72.8, cap = 1109, second_stage = False, a = 1.00050000000000"
     ]
    },
    {
     "name": "stderr",
     "output_type": "stream",
     "text": [
      " 50%|█████     | 50/100 [3:00:12<3:34:55, 257.92s/it]"
     ]
    },
    {
     "name": "stdout",
     "output_type": "stream",
     "text": [
      "Permit price: 72.75957614183426 and total emission: 1092.0299901633525 and emission cap 1108.9081747369833\n",
      "Permit price: 71.395334price = 71.4, cap = 1132, second_stage = False, a = 1.00050000000000"
     ]
    },
    {
     "name": "stderr",
     "output_type": "stream",
     "text": [
      " 51%|█████     | 51/100 [3:04:29<3:30:14, 257.45s/it]"
     ]
    },
    {
     "name": "stdout",
     "output_type": "stream",
     "text": [
      "Permit price: 71.39533408917487 and total emission: 1118.6751617086131 and emission cap 1131.5389538132483\n",
      "Max diff: 0.23, permit price = 70.0, cap = 1154, second_stage = False, a = 1.00050000000000"
     ]
    },
    {
     "name": "stderr",
     "output_type": "stream",
     "text": [
      " 52%|█████▏    | 52/100 [3:08:51<3:27:07, 258.90s/it]"
     ]
    },
    {
     "name": "stdout",
     "output_type": "stream",
     "text": [
      "Permit price: 70.03109203651547 and total emission: 1144.9513056412266 and emission cap 1154.1697328895134\n",
      "Permit price: 67.757355price = 67.8, cap = 1177, second_stage = False, a = 1.00050000000000"
     ]
    },
    {
     "name": "stderr",
     "output_type": "stream",
     "text": [
      " 53%|█████▎    | 53/100 [3:13:02<3:20:53, 256.45s/it]"
     ]
    },
    {
     "name": "stdout",
     "output_type": "stream",
     "text": [
      "Permit price: 67.75735528208315 and total emission: 1173.4035374815849 and emission cap 1176.8005119657782\n",
      "Max diff: 0.20, permit price = 66.4, cap = 1199, second_stage = False, a = 1.00050000000000"
     ]
    },
    {
     "name": "stderr",
     "output_type": "stream",
     "text": [
      " 54%|█████▍    | 54/100 [3:17:23<3:17:42, 257.88s/it]"
     ]
    },
    {
     "name": "stdout",
     "output_type": "stream",
     "text": [
      "Permit price: 66.39311322942376 and total emission: 1195.8613391725567 and emission cap 1199.431291042043\n",
      "Max diff: 0.49, permit price = 65.5, cap = 1222, second_stage = False, a = 1.00050000000000"
     ]
    },
    {
     "name": "stderr",
     "output_type": "stream",
     "text": [
      " 55%|█████▌    | 55/100 [3:21:34<3:11:49, 255.77s/it]"
     ]
    },
    {
     "name": "stdout",
     "output_type": "stream",
     "text": [
      "Permit price: 65.48361852765083 and total emission: 1203.4303492707788 and emission cap 1222.0620701183082\n",
      "Permit price: 64.119376price = 64.1, cap = 1245, second_stage = False, a = 1.00050000000000"
     ]
    },
    {
     "name": "stderr",
     "output_type": "stream",
     "text": [
      " 56%|█████▌    | 56/100 [3:25:48<3:07:10, 255.25s/it]"
     ]
    },
    {
     "name": "stdout",
     "output_type": "stream",
     "text": [
      "Permit price: 64.11937647499144 and total emission: 1232.3835085440671 and emission cap 1244.692849194573\n",
      "Max diff: 0.30, permit price = 61.8, cap = 1267, second_stage = False, a = 1.00050000000000"
     ]
    },
    {
     "name": "stderr",
     "output_type": "stream",
     "text": [
      " 57%|█████▋    | 57/100 [3:30:04<3:03:15, 255.70s/it]"
     ]
    },
    {
     "name": "stdout",
     "output_type": "stream",
     "text": [
      "Permit price: 61.84563972055912 and total emission: 1263.714169004521 and emission cap 1267.323628270838\n",
      "Permit price: 60.481398price = 60.5, cap = 1290, second_stage = False, a = 1.00050000000000"
     ]
    },
    {
     "name": "stderr",
     "output_type": "stream",
     "text": [
      " 58%|█████▊    | 58/100 [3:34:14<2:57:44, 253.92s/it]"
     ]
    },
    {
     "name": "stdout",
     "output_type": "stream",
     "text": [
      "Permit price: 60.48139766789973 and total emission: 1287.204739674127 and emission cap 1289.954407347103\n",
      "Permit price: 59.571903price = 59.6, cap = 1313, second_stage = False, a = 1.00050000000000"
     ]
    },
    {
     "name": "stderr",
     "output_type": "stream",
     "text": [
      " 59%|█████▉    | 59/100 [3:38:30<2:53:57, 254.57s/it]"
     ]
    },
    {
     "name": "stdout",
     "output_type": "stream",
     "text": [
      "Permit price: 59.5719029661268 and total emission: 1295.8668988221089 and emission cap 1312.5851864233678\n",
      "Permit price: 57.752914price = 57.8, cap = 1335, second_stage = False, a = 1.00000000000000"
     ]
    },
    {
     "name": "stderr",
     "output_type": "stream",
     "text": [
      " 60%|██████    | 60/100 [3:40:49<2:26:29, 219.74s/it]"
     ]
    },
    {
     "name": "stdout",
     "output_type": "stream",
     "text": [
      "Permit price: 57.75291356258094 and total emission: 1328.4844997140963 and emission cap 1335.215965499633\n",
      "Permit price: 55.933924price = 55.9, cap = 1358, second_stage = False, a = 1.00000000000000"
     ]
    },
    {
     "name": "stderr",
     "output_type": "stream",
     "text": [
      " 61%|██████    | 61/100 [3:43:08<2:07:09, 195.63s/it]"
     ]
    },
    {
     "name": "stdout",
     "output_type": "stream",
     "text": [
      "Permit price: 55.93392415903509 and total emission: 1353.5008495156997 and emission cap 1357.846744575898\n",
      "Max diff: 0.25, permit price = 54.6, cap = 1380, second_stage = False, a = 1.00000000000000"
     ]
    },
    {
     "name": "stderr",
     "output_type": "stream",
     "text": [
      " 62%|██████▏   | 62/100 [3:45:38<1:55:11, 181.88s/it]"
     ]
    },
    {
     "name": "stdout",
     "output_type": "stream",
     "text": [
      "Permit price: 54.569682106375694 and total emission: 1371.66032905799 and emission cap 1380.477523652163\n",
      "Permit price: 53.205440price = 53.2, cap = 1403, second_stage = False, a = 1.00000000000000"
     ]
    },
    {
     "name": "stderr",
     "output_type": "stream",
     "text": [
      " 63%|██████▎   | 63/100 [3:47:59<1:44:33, 169.56s/it]"
     ]
    },
    {
     "name": "stdout",
     "output_type": "stream",
     "text": [
      "Permit price: 53.2054400537163 and total emission: 1389.2283742333532 and emission cap 1403.1083027284278\n",
      "Permit price: 51.386451price = 51.4, cap = 1426, second_stage = False, a = 1.00000000000000"
     ]
    },
    {
     "name": "stderr",
     "output_type": "stream",
     "text": [
      " 64%|██████▍   | 64/100 [3:50:18<1:36:19, 160.55s/it]"
     ]
    },
    {
     "name": "stdout",
     "output_type": "stream",
     "text": [
      "Permit price: 51.386450650170445 and total emission: 1424.908609187121 and emission cap 1425.739081804693\n",
      "Permit price: 51.386451price = 51.4, cap = 1448, second_stage = False, a = 1.00000000000000"
     ]
    },
    {
     "name": "stderr",
     "output_type": "stream",
     "text": [
      " 65%|██████▌   | 65/100 [3:52:38<1:29:59, 154.27s/it]"
     ]
    },
    {
     "name": "stdout",
     "output_type": "stream",
     "text": [
      "Permit price: 51.386450650170445 and total emission: 1424.908609187121 and emission cap 1448.3698608809577\n",
      "Permit price: 48.657967price = 48.7, cap = 1471, second_stage = False, a = 1.00000000000000"
     ]
    },
    {
     "name": "stderr",
     "output_type": "stream",
     "text": [
      " 66%|██████▌   | 66/100 [3:55:08<1:26:41, 152.99s/it]"
     ]
    },
    {
     "name": "stdout",
     "output_type": "stream",
     "text": [
      "Permit price: 48.65796654485166 and total emission: 1461.2021560759208 and emission cap 1471.0006399572226\n",
      "Permit price: 47.748472price = 47.7, cap = 1494, second_stage = False, a = 1.00000000000000"
     ]
    },
    {
     "name": "stderr",
     "output_type": "stream",
     "text": [
      " 67%|██████▋   | 67/100 [3:57:31<1:22:32, 150.08s/it]"
     ]
    },
    {
     "name": "stdout",
     "output_type": "stream",
     "text": [
      "Permit price: 47.74847184307873 and total emission: 1488.9961085836474 and emission cap 1493.6314190334876\n",
      "Max diff: 0.23, permit price = 46.4, cap = 1516, second_stage = False, a = 1.00000000000000"
     ]
    },
    {
     "name": "stderr",
     "output_type": "stream",
     "text": [
      " 68%|██████▊   | 68/100 [3:59:55<1:19:03, 148.23s/it]"
     ]
    },
    {
     "name": "stdout",
     "output_type": "stream",
     "text": [
      "Permit price: 46.38422979041934 and total emission: 1499.5629793205144 and emission cap 1516.2621981097525\n",
      "Max diff: 0.34, permit price = 44.6, cap = 1539, second_stage = False, a = 1.00000000000000"
     ]
    },
    {
     "name": "stderr",
     "output_type": "stream",
     "text": [
      " 69%|██████▉   | 69/100 [4:02:24<1:16:45, 148.55s/it]"
     ]
    },
    {
     "name": "stdout",
     "output_type": "stream",
     "text": [
      "Permit price: 44.565240386873484 and total emission: 1528.7202402574674 and emission cap 1538.8929771860178\n",
      "Max diff: 0.09, permit price = 43.7, cap = 1562, second_stage = False, a = 1.00000000000000"
     ]
    },
    {
     "name": "stderr",
     "output_type": "stream",
     "text": [
      " 70%|███████   | 70/100 [4:04:47<1:13:18, 146.62s/it]"
     ]
    },
    {
     "name": "stdout",
     "output_type": "stream",
     "text": [
      "Permit price: 43.655745685100555 and total emission: 1556.2729713190881 and emission cap 1561.5237562622826\n",
      "Max diff: 0.02, permit price = 40.9, cap = 1584, second_stage = False, a = 1.00000000000000"
     ]
    },
    {
     "name": "stderr",
     "output_type": "stream",
     "text": [
      " 71%|███████   | 71/100 [4:07:09<1:10:14, 145.32s/it]"
     ]
    },
    {
     "name": "stdout",
     "output_type": "stream",
     "text": [
      "Permit price: 40.92726157978177 and total emission: 1580.0753727733738 and emission cap 1584.1545353385477\n",
      "Max diff: 0.33, permit price = 40.0, cap = 1607, second_stage = False, a = 1.00000000000000"
     ]
    },
    {
     "name": "stderr",
     "output_type": "stream",
     "text": [
      " 72%|███████▏  | 72/100 [4:09:31<1:07:20, 144.31s/it]"
     ]
    },
    {
     "name": "stdout",
     "output_type": "stream",
     "text": [
      "Permit price: 40.01776687800884 and total emission: 1599.0725934784082 and emission cap 1606.7853144148125\n",
      "Max diff: 0.04, permit price = 39.1, cap = 1629, second_stage = False, a = 1.00000000000000"
     ]
    },
    {
     "name": "stderr",
     "output_type": "stream",
     "text": [
      " 73%|███████▎  | 73/100 [4:12:04<1:06:07, 146.94s/it]"
     ]
    },
    {
     "name": "stdout",
     "output_type": "stream",
     "text": [
      "Permit price: 39.108272176235914 and total emission: 1610.8052364872412 and emission cap 1629.4160934910774\n",
      "Permit price: 36.834535price = 36.8, cap = 1652, second_stage = False, a = 1.00000000000000"
     ]
    },
    {
     "name": "stderr",
     "output_type": "stream",
     "text": [
      " 74%|███████▍  | 74/100 [4:14:22<1:02:28, 144.16s/it]"
     ]
    },
    {
     "name": "stdout",
     "output_type": "stream",
     "text": [
      "Permit price: 36.834535421803594 and total emission: 1642.5520470145627 and emission cap 1652.0468725673425\n",
      "Max diff: 0.16, permit price = 35.5, cap = 1675, second_stage = False, a = 1.00000000000000"
     ]
    },
    {
     "name": "stderr",
     "output_type": "stream",
     "text": [
      " 75%|███████▌  | 75/100 [4:16:42<59:33, 142.94s/it]  "
     ]
    },
    {
     "name": "stdout",
     "output_type": "stream",
     "text": [
      "Permit price: 35.4702933691442 and total emission: 1672.7030454504718 and emission cap 1674.6776516436073\n",
      "Max diff: 0.08, permit price = 33.7, cap = 1697, second_stage = False, a = 1.00000000000000"
     ]
    },
    {
     "name": "stderr",
     "output_type": "stream",
     "text": [
      " 76%|███████▌  | 76/100 [4:19:00<56:37, 141.57s/it]"
     ]
    },
    {
     "name": "stdout",
     "output_type": "stream",
     "text": [
      "Permit price: 33.651303965598345 and total emission: 1697.0099691334153 and emission cap 1697.3084307198724\n",
      "Max diff: 0.11, permit price = 31.8, cap = 1720, second_stage = False, a = 1.00000000000000"
     ]
    },
    {
     "name": "stderr",
     "output_type": "stream",
     "text": [
      " 77%|███████▋  | 77/100 [4:21:31<55:21, 144.40s/it]"
     ]
    },
    {
     "name": "stdout",
     "output_type": "stream",
     "text": [
      "Permit price: 31.83231456205249 and total emission: 1719.1677627477677 and emission cap 1719.9392097961372\n",
      "Max diff: 0.11, permit price = 30.9, cap = 1743, second_stage = False, a = 1.00000000000000"
     ]
    },
    {
     "name": "stderr",
     "output_type": "stream",
     "text": [
      " 78%|███████▊  | 78/100 [4:23:54<52:45, 143.90s/it]"
     ]
    },
    {
     "name": "stdout",
     "output_type": "stream",
     "text": [
      "Permit price: 30.92281986027956 and total emission: 1731.719927347653 and emission cap 1742.5699888724023\n",
      "Max diff: 0.23, permit price = 29.1, cap = 1765, second_stage = False, a = 1.00000000000000"
     ]
    },
    {
     "name": "stderr",
     "output_type": "stream",
     "text": [
      " 79%|███████▉  | 79/100 [4:26:12<49:45, 142.17s/it]"
     ]
    },
    {
     "name": "stdout",
     "output_type": "stream",
     "text": [
      "Permit price: 29.103830456733704 and total emission: 1765.072031211381 and emission cap 1765.2007679486674\n",
      "Max diff: 0.23, permit price = 29.1, cap = 1788, second_stage = False, a = 1.00000000000000"
     ]
    },
    {
     "name": "stderr",
     "output_type": "stream",
     "text": [
      " 80%|████████  | 80/100 [4:28:37<47:42, 143.11s/it]"
     ]
    },
    {
     "name": "stdout",
     "output_type": "stream",
     "text": [
      "Permit price: 29.103830456733704 and total emission: 1765.072031211381 and emission cap 1787.8315470249322\n",
      "Permit price: 26.830094price = 26.8, cap = 1810, second_stage = False, a = 1.00000000000000"
     ]
    },
    {
     "name": "stderr",
     "output_type": "stream",
     "text": [
      " 81%|████████  | 81/100 [4:30:53<44:39, 141.01s/it]"
     ]
    },
    {
     "name": "stdout",
     "output_type": "stream",
     "text": [
      "Permit price: 26.830093702301383 and total emission: 1799.0314229357552 and emission cap 1810.4623261011973\n",
      "Permit price: 25.011104price = 25.0, cap = 1833, second_stage = False, a = 1.00000000000000"
     ]
    },
    {
     "name": "stderr",
     "output_type": "stream",
     "text": [
      " 82%|████████▏ | 82/100 [4:33:07<41:41, 138.95s/it]"
     ]
    },
    {
     "name": "stdout",
     "output_type": "stream",
     "text": [
      "Permit price: 25.011104298755527 and total emission: 1826.3247284909457 and emission cap 1833.0931051774621\n",
      "Permit price: 24.101610price = 24.1, cap = 1856, second_stage = False, a = 1.00000000000000"
     ]
    },
    {
     "name": "stderr",
     "output_type": "stream",
     "text": [
      " 83%|████████▎ | 83/100 [4:35:21<38:52, 137.19s/it]"
     ]
    },
    {
     "name": "stdout",
     "output_type": "stream",
     "text": [
      "Permit price: 24.1016095969826 and total emission: 1848.1982037474909 and emission cap 1855.7238842537272\n",
      "Max diff: 0.14, permit price = 22.7, cap = 1878, second_stage = False, a = 1.00000000000000"
     ]
    },
    {
     "name": "stderr",
     "output_type": "stream",
     "text": [
      " 84%|████████▍ | 84/100 [4:37:47<37:20, 140.03s/it]"
     ]
    },
    {
     "name": "stdout",
     "output_type": "stream",
     "text": [
      "Permit price: 22.737367544323206 and total emission: 1862.6423606596547 and emission cap 1878.354663329992\n",
      "Max diff: 0.18, permit price = 20.9, cap = 1901, second_stage = False, a = 1.00000000000000"
     ]
    },
    {
     "name": "stderr",
     "output_type": "stream",
     "text": [
      " 85%|████████▌ | 85/100 [4:40:07<34:58, 139.87s/it]"
     ]
    },
    {
     "name": "stdout",
     "output_type": "stream",
     "text": [
      "Permit price: 20.91837814077735 and total emission: 1885.6106439504772 and emission cap 1900.9854424062569\n",
      "Permit price: 19.554136price = 19.6, cap = 1924, second_stage = False, a = 1.00000000000000"
     ]
    },
    {
     "name": "stderr",
     "output_type": "stream",
     "text": [
      " 86%|████████▌ | 86/100 [4:42:23<32:22, 138.72s/it]"
     ]
    },
    {
     "name": "stdout",
     "output_type": "stream",
     "text": [
      "Permit price: 19.554136088117957 and total emission: 1921.136797391044 and emission cap 1923.6162214825222\n",
      "Max diff: 0.20, permit price = 18.2, cap = 1946, second_stage = False, a = 1.00000000000000"
     ]
    },
    {
     "name": "stderr",
     "output_type": "stream",
     "text": [
      " 87%|████████▋ | 87/100 [4:44:42<30:04, 138.81s/it]"
     ]
    },
    {
     "name": "stdout",
     "output_type": "stream",
     "text": [
      "Permit price: 18.189894035458565 and total emission: 1936.336302202721 and emission cap 1946.247000558787\n",
      "Max diff: 0.12, permit price = 16.4, cap = 1969, second_stage = False, a = 1.00000000000000"
     ]
    },
    {
     "name": "stderr",
     "output_type": "stream",
     "text": [
      " 88%|████████▊ | 88/100 [4:47:11<28:22, 141.83s/it]"
     ]
    },
    {
     "name": "stdout",
     "output_type": "stream",
     "text": [
      "Permit price: 16.37090463191271 and total emission: 1952.306803034663 and emission cap 1968.877779635052\n",
      "Max diff: 0.27, permit price = 14.6, cap = 1992, second_stage = False, a = 1.00000000000000"
     ]
    },
    {
     "name": "stderr",
     "output_type": "stream",
     "text": [
      " 89%|████████▉ | 89/100 [4:49:32<25:57, 141.58s/it]"
     ]
    },
    {
     "name": "stdout",
     "output_type": "stream",
     "text": [
      "Permit price: 14.551915228366852 and total emission: 1990.657673419611 and emission cap 1991.508558711317\n",
      "Max diff: 0.31, permit price = 13.6, cap = 2014, second_stage = False, a = 1.00000000000000"
     ]
    },
    {
     "name": "stderr",
     "output_type": "stream",
     "text": [
      " 90%|█████████ | 90/100 [4:51:53<23:35, 141.53s/it]"
     ]
    },
    {
     "name": "stdout",
     "output_type": "stream",
     "text": [
      "Permit price: 13.642420526593924 and total emission: 2013.7920820552615 and emission cap 2014.139337787582\n",
      "Permit price: 12.278178price = 12.3, cap = 2037, second_stage = False, a = 1.00000000000000"
     ]
    },
    {
     "name": "stderr",
     "output_type": "stream",
     "text": [
      " 91%|█████████ | 91/100 [4:54:09<20:59, 139.91s/it]"
     ]
    },
    {
     "name": "stdout",
     "output_type": "stream",
     "text": [
      "Permit price: 12.278178473934531 and total emission: 2030.0615251247393 and emission cap 2036.7701168638469\n",
      "Max diff: 0.07, permit price = 11.8, cap = 2059, second_stage = False, a = 1.00000000000000"
     ]
    },
    {
     "name": "stderr",
     "output_type": "stream",
     "text": [
      " 92%|█████████▏| 92/100 [4:56:29<18:39, 139.91s/it]"
     ]
    },
    {
     "name": "stdout",
     "output_type": "stream",
     "text": [
      "Permit price: 11.823431123048067 and total emission: 2044.7105014702568 and emission cap 2059.4008959401117\n",
      "Max diff: 0.07, permit price = 9.1, cap = 2082, second_stage = False, a = 1.000000000000000"
     ]
    },
    {
     "name": "stderr",
     "output_type": "stream",
     "text": [
      " 93%|█████████▎| 93/100 [4:58:56<16:33, 141.91s/it]"
     ]
    },
    {
     "name": "stdout",
     "output_type": "stream",
     "text": [
      "Permit price: 9.094947017729282 and total emission: 2070.995747765053 and emission cap 2082.031675016377\n",
      "Max diff: 0.31, permit price = 7.3, cap = 2105, second_stage = False, a = 1.000000000000000"
     ]
    },
    {
     "name": "stderr",
     "output_type": "stream",
     "text": [
      " 94%|█████████▍| 94/100 [5:01:15<14:07, 141.27s/it]"
     ]
    },
    {
     "name": "stdout",
     "output_type": "stream",
     "text": [
      "Permit price: 7.275957614183426 and total emission: 2089.15773504233 and emission cap 2104.662454092642\n",
      "Permit price: 6.821210 price = 6.8, cap = 2127, second_stage = False, a = 1.000000000000000"
     ]
    },
    {
     "name": "stderr",
     "output_type": "stream",
     "text": [
      " 95%|█████████▌| 95/100 [5:03:31<11:38, 139.71s/it]"
     ]
    },
    {
     "name": "stdout",
     "output_type": "stream",
     "text": [
      "Permit price: 6.821210263296962 and total emission: 2104.8780235841377 and emission cap 2127.2932331689067\n",
      "Max diff: 0.07, permit price = 4.5, cap = 2150, second_stage = False, a = 1.000000000000000"
     ]
    },
    {
     "name": "stderr",
     "output_type": "stream",
     "text": [
      " 96%|█████████▌| 96/100 [5:05:51<09:18, 139.50s/it]"
     ]
    },
    {
     "name": "stdout",
     "output_type": "stream",
     "text": [
      "Permit price: 4.547473508864641 and total emission: 2147.1273345203945 and emission cap 2149.9240122451715\n",
      "Max diff: 0.42, permit price = 3.6, cap = 2173, second_stage = False, a = 1.000000000000000"
     ]
    },
    {
     "name": "stderr",
     "output_type": "stream",
     "text": [
      " 97%|█████████▋| 97/100 [5:08:19<07:06, 142.07s/it]"
     ]
    },
    {
     "name": "stdout",
     "output_type": "stream",
     "text": [
      "Permit price: 3.637978807091713 and total emission: 2172.0012316177044 and emission cap 2172.5547913214364\n",
      "Permit price: 2.273737 price = 2.3, cap = 2195, second_stage = False, a = 1.000000000000000"
     ]
    },
    {
     "name": "stderr",
     "output_type": "stream",
     "text": [
      " 98%|█████████▊| 98/100 [5:10:34<04:40, 140.20s/it]"
     ]
    },
    {
     "name": "stdout",
     "output_type": "stream",
     "text": [
      "Permit price: 2.2737367544323206 and total emission: 2175.24097612715 and emission cap 2195.1855703977017\n",
      "Permit price: 1.364242 price = 1.4, cap = 2218, second_stage = False, a = 1.000000000000000"
     ]
    },
    {
     "name": "stderr",
     "output_type": "stream",
     "text": [
      " 99%|█████████▉| 99/100 [5:12:53<02:19, 139.66s/it]"
     ]
    },
    {
     "name": "stdout",
     "output_type": "stream",
     "text": [
      "Permit price: 1.3642420526593924 and total emission: 2216.4498262863644 and emission cap 2217.8163494739665\n",
      "Permit price: 0.454747 price = 0.5, cap = 2240, second_stage = False, a = 1.000000000000000"
     ]
    },
    {
     "name": "stderr",
     "output_type": "stream",
     "text": [
      "100%|██████████| 100/100 [5:15:10<00:00, 189.11s/it]"
     ]
    },
    {
     "name": "stdout",
     "output_type": "stream",
     "text": [
      "Permit price: 0.4547473508864641 and total emission: 2219.7577392832686 and emission cap 2240.4471285502314\n"
     ]
    },
    {
     "name": "stderr",
     "output_type": "stream",
     "text": [
      "\n"
     ]
    }
   ],
   "source": [
    "# Create a plot for the permit price with respect to the emission cap 10 samples between 0 and 200\n",
    "BAU_percentage = np.linspace(0, 1, 100)\n",
    "BAU_emissions = Regulator1.BAU_emissions\n",
    "caps = [BAU_emissions*i for i in BAU_percentage]\n",
    "# Read the data from the csv file, if it exists, if not, just create a new one\n",
    "try:\n",
    "    df = pd.read_csv('permit_price_to_Percentage_of_BAU_v1_1.csv')\n",
    "    percentages = list(df['Percentage of BAU'])\n",
    "    caps2 = list(df['Emission Cap'])\n",
    "    permit_prices = list(df['Permit Price'])\n",
    "    outputs = list(df['Outputs'])\n",
    "    emissions = list(df['Emissions'])\n",
    "    profits = list(df['Profits'])\n",
    "except:\n",
    "    percentages = []\n",
    "    caps2 = []\n",
    "    permit_prices = []\n",
    "    outputs = []\n",
    "    emissions = []\n",
    "    profits = []\n",
    "# Loop through all the emission caps and calculate the permit price\n",
    "\n",
    "# Find all the caps that are not calculated yet (meaning that they are more than 0.5 different than a value of the caps2)\n",
    "for i in caps[:]:  # Iterate over a copy of the list\n",
    "    if any(abs(i - x) < 0.5 for x in caps2):\n",
    "        caps.remove(i)\n",
    "\n",
    "for i in tqdm.tqdm(caps):\n",
    "    Regulator1.emission_cap = i  \n",
    "    Regulator1.find_optimal_permit_price_to_meet_the_emission_cap_requirements(precision= 0.5, x_high = 1000000000000, size_of_diffs= 1)\n",
    "    caps2.append(i)\n",
    "    percentages.append(Regulator1.emission_cap/BAU_emissions)\n",
    "    permit_prices.append(Regulator1.permit_price)\n",
    "    outputs.append(tuple([firm.actual_output for firm in Regulator1.firm_registry.values()]))\n",
    "    emissions.append(tuple([firm.emission for firm in Regulator1.firm_registry.values()]))\n",
    "    profits.append(tuple([firm.profit for firm in Regulator1.firm_registry.values()]))\n",
    "    # save all the data in a csv file\n",
    "    df = pd.DataFrame({'Percentage of BAU': percentages, 'Emission Cap': caps2, 'Permit Price': permit_prices, 'Outputs': outputs, 'Emissions': emissions, 'Profits': profits})\n",
    "    df.to_csv('permit_price_to_Percentage_of_BAU_v1_1.csv', index=False)\n",
    "\n",
    "\n"
   ]
  },
  {
   "cell_type": "code",
   "execution_count": null,
   "metadata": {},
   "outputs": [],
   "source": []
  }
 ],
 "metadata": {
  "kernelspec": {
   "display_name": "base",
   "language": "python",
   "name": "python3"
  },
  "language_info": {
   "codemirror_mode": {
    "name": "ipython",
    "version": 3
   },
   "file_extension": ".py",
   "mimetype": "text/x-python",
   "name": "python",
   "nbconvert_exporter": "python",
   "pygments_lexer": "ipython3",
   "version": "3.12.4"
  }
 },
 "nbformat": 4,
 "nbformat_minor": 2
}
