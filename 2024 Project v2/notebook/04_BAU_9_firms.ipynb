{
 "cells": [
  {
   "cell_type": "code",
   "execution_count": 1,
   "metadata": {},
   "outputs": [],
   "source": [
    "from funkwpap import sympy_to_gurobi, Firm, Country, Sector, Regulator, get_emission\n",
    "import sympy as sp, pandas as pd, numpy as np, tqdm, time, sys\n",
    "from gurobipy import Model, LinExpr, QuadExpr, GRB\n",
    "x = sp.symbols('x')\n",
    "y = sp.symbols('y')"
   ]
  },
  {
   "cell_type": "code",
   "execution_count": 2,
   "metadata": {},
   "outputs": [
    {
     "name": "stdout",
     "output_type": "stream",
     "text": [
      "[Firm(id=1, name='firm1', sector_id=1, country_id=1, actual_output=0, emission=0, profit=0), Firm(id=2, name='firm2', sector_id=1, country_id=2, actual_output=0, emission=0, profit=0), Firm(id=3, name='firm3', sector_id=1, country_id=3, actual_output=0, emission=0, profit=0)]\n",
      "[Firm(id=1, name='firm1', sector_id=1, country_id=1, actual_output=0, emission=0, profit=0), Firm(id=4, name='firm4', sector_id=2, country_id=1, actual_output=0, emission=0, profit=0), Firm(id=7, name='firm7', sector_id=3, country_id=1, actual_output=0, emission=0, profit=0)]\n",
      "{1: Firm(id=1, name='firm1', sector_id=1, country_id=1, actual_output=0, emission=0, profit=0), 2: Firm(id=2, name='firm2', sector_id=1, country_id=2, actual_output=0, emission=0, profit=0), 3: Firm(id=3, name='firm3', sector_id=1, country_id=3, actual_output=0, emission=0, profit=0), 4: Firm(id=4, name='firm4', sector_id=2, country_id=1, actual_output=0, emission=0, profit=0), 5: Firm(id=5, name='firm5', sector_id=2, country_id=2, actual_output=0, emission=0, profit=0), 6: Firm(id=6, name='firm6', sector_id=2, country_id=3, actual_output=0, emission=0, profit=0), 7: Firm(id=7, name='firm7', sector_id=3, country_id=1, actual_output=0, emission=0, profit=0), 8: Firm(id=8, name='firm8', sector_id=3, country_id=2, actual_output=0, emission=0, profit=0), 9: Firm(id=9, name='firm9', sector_id=3, country_id=3, actual_output=0, emission=0, profit=0)}\n",
      "firm1 cement DE\n",
      "firm2 cement FI\n",
      "firm3 cement GR\n",
      "firm4 steel DE\n",
      "firm5 steel FI\n",
      "firm6 steel GR\n",
      "firm7 paper DE\n",
      "firm8 paper FI\n",
      "firm9 paper GR\n"
     ]
    }
   ],
   "source": [
    "\n",
    "# Create Sectors and Countries\n",
    "Regulator1 = Regulator('EU', permit_price= 2, emission_cap= 100)\n",
    "sector1 = Sector('cement', price_demand_function= 100 - 0.1*x, free_emission_multiplier= 0.1, regulator= Regulator1)\n",
    "sector2 = Sector('steel', price_demand_function=150 - 0.1*x, free_emission_multiplier= 0.05, regulator= Regulator1)\n",
    "sector3 = Sector('paper', price_demand_function= 200 - 0.02*x**1.5, free_emission_multiplier= 0.1, regulator= Regulator1)\n",
    "country1 = Country('DE', 1, regulator= Regulator1)\n",
    "country2 = Country('FI', 0.5, regulator= Regulator1)\n",
    "country3 = Country('GR', size= 0.1, regulator= Regulator1)\n",
    "\n",
    "# Create Firms using objects\n",
    "firm1 = Firm('firm1', 1, 1, x*0, 0.1*sp.exp('x') + 100/y**2, 0, 0, 0, regulator= Regulator1)\n",
    "firm2 = Firm('firm2', 1, 2, x*0, 5*x**3.2 + 40/y**2, 0, 0, 0, regulator= Regulator1)\n",
    "firm3 = Firm('firm3', 1, 3, x*0, x**5.2 + 30/y**2, 0, 0, 0, regulator= Regulator1)\n",
    "firm4 = Firm('firm4', 2, 1, x*0, x**3.3 + 20/y**2, 0, 0, 0, regulator= Regulator1)\n",
    "firm5 = Firm('firm5', 2, 2, x*0, x**2.3 + 20/y**2, 0, 0, 0, regulator= Regulator1)\n",
    "firm6 = Firm('firm6', 2, 3, x*0, x**3.2 + 15/y**2, 0, 0, 0, regulator= Regulator1)\n",
    "firm7 = Firm('firm7', 3, 1, x*0, x**4.1 + 40/y**2, 0, 0, 0, regulator= Regulator1)\n",
    "firm8 = Firm('firm8', 3, 2, x*0, x**5.1 + 50/y**2, 0, 0, 0, regulator= Regulator1)\n",
    "firm9 = Firm('firm9', 3, 3, x*0, x**5 + 60/y**2, 0, 0, 0, regulator= Regulator1)\n",
    "\n",
    "\n",
    "print(sector1.firms)  # List of firms in sector1\n",
    "print(country1.firms)  # List of firms in country1\n",
    "print(Regulator1.firm_registry)  # Dictionary of all firms\n",
    "\n",
    "for firm in Regulator1.firm_registry.values():\n",
    "    print(firm.name, firm.sector.name, firm.country.name)\n"
   ]
  },
  {
   "cell_type": "code",
   "execution_count": 3,
   "metadata": {},
   "outputs": [],
   "source": [
    "#Regulator1.optimize_them_all(precision = 0.1, print_diff = True, BAU = True)"
   ]
  },
  {
   "cell_type": "code",
   "execution_count": 4,
   "metadata": {},
   "outputs": [
    {
     "name": "stdout",
     "output_type": "stream",
     "text": [
      "firm1 cement DE 0 0 0\n",
      "firm2 cement FI 0 0 0\n",
      "firm3 cement GR 0 0 0\n",
      "firm4 steel DE 0 0 0\n",
      "firm5 steel FI 0 0 0\n",
      "firm6 steel GR 0 0 0\n",
      "firm7 paper DE 0 0 0\n",
      "firm8 paper FI 0 0 0\n",
      "firm9 paper GR 0 0 0\n"
     ]
    }
   ],
   "source": [
    "for firm in Regulator1.firm_registry.values():\n",
    "    print(firm.name, firm.sector.name, firm.country.name, firm.actual_output, firm.emission, firm.profit)"
   ]
  },
  {
   "cell_type": "code",
   "execution_count": 5,
   "metadata": {},
   "outputs": [
    {
     "name": "stdout",
     "output_type": "stream",
     "text": [
      "Set parameter Username\n",
      "Academic license - for non-commercial use only - expires 2025-08-14\n",
      "Max diff: 0.01, permit price = 2.0, cap = 100, second_stage = False, a = 1.0000"
     ]
    }
   ],
   "source": [
    "Regulator1.BAU_calculator(print_diff = True)"
   ]
  },
  {
   "cell_type": "code",
   "execution_count": 6,
   "metadata": {},
   "outputs": [
    {
     "name": "stdout",
     "output_type": "stream",
     "text": [
      "Firm name, Sector, Country, Actual output, Emission, Profit, BAU profit, BAU emission\n",
      "firm1 cement DE 257.32525385607016 0.0 6273.59076591368 6273.59076591368 257.32525385607016\n",
      "firm2 cement FI 257.32525385607016 0.0 6273.59076591368 6273.59076591368 257.32525385607016\n",
      "firm3 cement GR 241.54945043799546 0.0 5888.97661255950 5888.97661255950 241.54945043799546\n",
      "firm4 steel DE 376.13222749306016 0.0 13977.1983562917 13977.1983562917 376.13222749306016\n",
      "firm5 steel FI 376.13222749306016 0.0 13977.1983562917 13977.1983562917 376.13222749306016\n",
      "firm6 steel GR 376.13222749306016 0.0 13977.1983562917 13977.1983562917 376.13222749306016\n",
      "firm7 paper DE 118.62743152590413 0.0 7800.22830116322 7800.22830116322 118.62743152590413\n",
      "firm8 paper FI 118.57196583476036 0.0 7796.62338066782 7796.62338066782 118.57196583476036\n",
      "firm9 paper GR 118.6398990833682 0.0 7800.69946375400 7800.69946375400 118.6398990833682\n"
     ]
    }
   ],
   "source": [
    "print(\"Firm name, Sector, Country, Actual output, Emission, Profit, BAU profit, BAU emission\")\n",
    "for firm in Regulator1.firm_registry.values():\n",
    "    print(firm.name, firm.sector.name, firm.country.name, firm.actual_output, firm.emission, firm.profit, firm.BAU_profit, firm.BAU_emission)"
   ]
  },
  {
   "cell_type": "code",
   "execution_count": 7,
   "metadata": {},
   "outputs": [
    {
     "name": "stderr",
     "output_type": "stream",
     "text": [
      "  0%|          | 0/12 [00:00<?, ?it/s]"
     ]
    },
    {
     "name": "stdout",
     "output_type": "stream",
     "text": [
      "Permit price: 179.625204rice = 179.6, cap = 118, second_stage = False, a = 0.7300000000000"
     ]
    },
    {
     "name": "stderr",
     "output_type": "stream",
     "text": [
      "  8%|▊         | 1/12 [10:24<1:54:31, 624.69s/it]"
     ]
    },
    {
     "name": "stdout",
     "output_type": "stream",
     "text": [
      "Permit price: 179.62520360015333 and total emission: 117.12681505532238 and emission cap 117.91768089859731\n",
      "Max diff: 0.00, permit price = 144.6, cap = 236, second_stage = False, a = 0.6600000000000"
     ]
    },
    {
     "name": "stderr",
     "output_type": "stream",
     "text": [
      " 17%|█▋        | 2/12 [27:28<2:23:14, 859.45s/it]"
     ]
    },
    {
     "name": "stdout",
     "output_type": "stream",
     "text": [
      "Permit price: 144.6096575818956 and total emission: 233.2048086092846 and emission cap 235.83536179719462\n",
      "Max diff: 0.01, permit price = 117.3, cap = 472, second_stage = False, a = 0.8100000000000"
     ]
    },
    {
     "name": "stderr",
     "output_type": "stream",
     "text": [
      " 25%|██▌       | 3/12 [39:26<1:59:14, 794.93s/it]"
     ]
    },
    {
     "name": "stdout",
     "output_type": "stream",
     "text": [
      "Permit price: 117.32481652870774 and total emission: 471.1776289594696 and emission cap 471.67072359438924\n",
      "Max diff: 0.01, permit price = 82.8, cap = 943, second_stage = False, a = 0.81060000000000"
     ]
    },
    {
     "name": "stderr",
     "output_type": "stream",
     "text": [
      " 33%|███▎      | 4/12 [1:13:54<2:53:00, 1297.58s/it]"
     ]
    },
    {
     "name": "stdout",
     "output_type": "stream",
     "text": [
      "Permit price: 82.76401786133647 and total emission: 939.0119095295639 and emission cap 943.3414471887785\n",
      "Permit price: 59.571903price = 59.6, cap = 1297, second_stage = False, a = 1.00060000000000"
     ]
    },
    {
     "name": "stderr",
     "output_type": "stream",
     "text": [
      " 42%|████▏     | 5/12 [1:39:23<2:41:05, 1380.81s/it]"
     ]
    },
    {
     "name": "stdout",
     "output_type": "stream",
     "text": [
      "Permit price: 59.5719029661268 and total emission: 1294.8671401810855 and emission cap 1297.0944898845705\n",
      "Max diff: 0.28, permit price = 47.3, cap = 1533, second_stage = True, a = 0.011000000000000Everything failed, best result is 0.010429064330679694\n",
      "Max diff: 0.01, permit price = 44.6, cap = 1533, second_stage = False, a = 0.660"
     ]
    },
    {
     "name": "stderr",
     "output_type": "stream",
     "text": [
      " 50%|█████     | 6/12 [3:21:08<4:58:42, 2987.02s/it]"
     ]
    },
    {
     "name": "stdout",
     "output_type": "stream",
     "text": [
      "Permit price: 44.565240386873484 and total emission: 1527.501332000263 and emission cap 1532.929851681765\n",
      "Permit price: 36.834535price = 36.8, cap = 1651, second_stage = False, a = 0.73000000000000"
     ]
    },
    {
     "name": "stderr",
     "output_type": "stream",
     "text": [
      " 58%|█████▊    | 7/12 [4:27:53<4:36:40, 3320.09s/it]"
     ]
    },
    {
     "name": "stdout",
     "output_type": "stream",
     "text": [
      "Permit price: 36.834535421803594 and total emission: 1640.9730090080955 and emission cap 1650.8475325803624\n",
      "Max diff: 0.00, permit price = 29.1, cap = 1769, second_stage = False, a = 0.73000000000000"
     ]
    },
    {
     "name": "stderr",
     "output_type": "stream",
     "text": [
      " 67%|██████▋   | 8/12 [5:32:35<3:53:15, 3498.96s/it]"
     ]
    },
    {
     "name": "stdout",
     "output_type": "stream",
     "text": [
      "Permit price: 29.103830456733704 and total emission: 1763.7063554904337 and emission cap 1768.7652134789598\n",
      "Max diff: 0.01, permit price = 20.9, cap = 1887, second_stage = False, a = 0.81000000000000"
     ]
    },
    {
     "name": "stderr",
     "output_type": "stream",
     "text": [
      " 75%|███████▌  | 9/12 [6:20:07<2:44:49, 3296.63s/it]"
     ]
    },
    {
     "name": "stdout",
     "output_type": "stream",
     "text": [
      "Permit price: 20.91837814077735 and total emission: 1884.0207982016923 and emission cap 1886.682894377557\n",
      "Permit price: 14.097168price = 14.1, cap = 2005, second_stage = False, a = 1.00000000000000"
     ]
    },
    {
     "name": "stderr",
     "output_type": "stream",
     "text": [
      " 83%|████████▎ | 10/12 [7:06:30<1:44:36, 3138.03s/it]"
     ]
    },
    {
     "name": "stdout",
     "output_type": "stream",
     "text": [
      "Permit price: 14.097167877480388 and total emission: 1989.9228972815413 and emission cap 2004.6005752761541\n",
      "Permit price: 6.821210 price = 6.8, cap = 2123, second_stage = False, a = 0.810000000000000"
     ]
    },
    {
     "name": "stderr",
     "output_type": "stream",
     "text": [
      " 92%|█████████▏| 11/12 [8:21:18<59:11, 3551.29s/it]  "
     ]
    },
    {
     "name": "stdout",
     "output_type": "stream",
     "text": [
      "Permit price: 6.821210263296962 and total emission: 2103.2810604067563 and emission cap 2122.5182561747515\n",
      "Permit price: 0.454747 price = 0.5, cap = 2240, second_stage = False, a = 1.000000000000000"
     ]
    },
    {
     "name": "stderr",
     "output_type": "stream",
     "text": [
      "100%|██████████| 12/12 [9:26:40<00:00, 2833.36s/it]"
     ]
    },
    {
     "name": "stdout",
     "output_type": "stream",
     "text": [
      "Permit price: 0.4547473508864641 and total emission: 2219.2039282765304 and emission cap 2240.435937073349\n"
     ]
    },
    {
     "name": "stderr",
     "output_type": "stream",
     "text": [
      "\n"
     ]
    }
   ],
   "source": [
    "# Create a plot for the permit price with respect to the emission cap 10 samples between 0 and 200\n",
    "BAU_percentage = np.linspace(0, 1, 20)\n",
    "BAU_emissions = Regulator1.BAU_emissions\n",
    "caps = [BAU_emissions*i for i in BAU_percentage]\n",
    "# Read the data from the csv file, if it exists, if not, just create a new one\n",
    "try:\n",
    "    df = pd.read_csv('permit_price_to_Percentage_of_BAU_v0_0.csv')\n",
    "    percentages = list(df['Percentage of BAU'])\n",
    "    caps2 = list(df['Emission Cap'])\n",
    "    permit_prices = list(df['Permit Price'])\n",
    "    outputs = list(df['Outputs'])\n",
    "    emissions = list(df['Emissions'])\n",
    "    profits = list(df['Profits'])\n",
    "except:\n",
    "    percentages = []\n",
    "    caps2 = []\n",
    "    permit_prices = []\n",
    "    outputs = []\n",
    "    emissions = []\n",
    "    profits = []\n",
    "# Loop through all the emission caps and calculate the permit price\n",
    "\n",
    "for i in tqdm.tqdm([i for i in caps if i not in caps2]):\n",
    "    Regulator1.emission_cap = i  \n",
    "    Regulator1.find_optimal_permit_price_to_meet_the_emission_cap_requirements(precision= 0.01, x_high = 1000000000000)\n",
    "    caps2.append(i)\n",
    "    percentages.append(Regulator1.emission_cap/BAU_emissions)\n",
    "    permit_prices.append(Regulator1.permit_price)\n",
    "    outputs.append(tuple([firm.actual_output for firm in Regulator1.firm_registry.values()]))\n",
    "    emissions.append(tuple([firm.emission for firm in Regulator1.firm_registry.values()]))\n",
    "    profits.append(tuple([firm.profit for firm in Regulator1.firm_registry.values()]))\n",
    "    # save all the data in a csv file\n",
    "    df = pd.DataFrame({'Percentage of BAU': percentages, 'Emission Cap': caps2, 'Permit Price': permit_prices, 'Outputs': outputs, 'Emissions': emissions, 'Profits': profits})\n",
    "    df.to_csv('permit_price_to_Percentage_of_BAU_v0_0.csv', index=False)\n",
    "\n",
    "\n"
   ]
  },
  {
   "cell_type": "code",
   "execution_count": null,
   "metadata": {},
   "outputs": [],
   "source": []
  },
  {
   "cell_type": "code",
   "execution_count": null,
   "metadata": {},
   "outputs": [],
   "source": []
  }
 ],
 "metadata": {
  "kernelspec": {
   "display_name": "base",
   "language": "python",
   "name": "python3"
  },
  "language_info": {
   "codemirror_mode": {
    "name": "ipython",
    "version": 3
   },
   "file_extension": ".py",
   "mimetype": "text/x-python",
   "name": "python",
   "nbconvert_exporter": "python",
   "pygments_lexer": "ipython3",
   "version": "3.12.4"
  }
 },
 "nbformat": 4,
 "nbformat_minor": 2
}
