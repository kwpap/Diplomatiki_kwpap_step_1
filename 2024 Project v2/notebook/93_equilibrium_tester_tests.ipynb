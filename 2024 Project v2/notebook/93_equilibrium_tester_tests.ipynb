{
 "cells": [
  {
   "cell_type": "code",
   "execution_count": 17,
   "metadata": {},
   "outputs": [
    {
     "name": "stdout",
     "output_type": "stream",
     "text": [
      "Firm       | FOD 1        | FOD 2         | SOD 1         | SOD 2        | Hessian      | Status\n",
      "-------------------------------------------------------------------------------------\n",
      "Firm 1     | +5.43e-04 ✔️ | +9.46e-04 ✔️ |   -0.0105 ✔️ |   +0.0201 ⚠️ |   +0.0152 ✔️ | 4/5\n",
      "Firm 2     | -8.43e-04 ✔️ |   -0.0022 ⚠️ |   -0.0040 ✔️ | -2.43e-04 ✔️ |   +0.0085 ✔️ | 4/5\n",
      "Firm 3     |   +0.0011 ⚠️ |   -0.0034 ⚠️ |   +0.0045 ⚠️ |   +0.0091 ⚠️ |   +0.0212 ✔️ | 1/5\n",
      "Firm 4     | -1.00e+06 ⚠️ | +4.32e-05 ✔️ | -1.00e+05 ✔️ | +1.00e+04 ⚠️ | -1.23e-07 ⚠️ | 2/5\n"
     ]
    }
   ],
   "source": [
    "# Viewer\n",
    "\n",
    "# Sample data format: [(firm_name, cond1, cond2, cond3, cond4, cond5), ...]\n",
    "firms_data = [\n",
    "    (\"Firm 1\", 0.00054321, 0.00094567, -0.0105432, 0.02013456, 0.0152345),\n",
    "    (\"Firm 2\", -0.0008432, -0.0021543, -0.00397654, -0.00024321, 0.00854321),\n",
    "    (\"Firm 3\", 0.00114567, -0.00335421, 0.0045231, 0.009134, 0.0211567),\n",
    "    (\"Firm 4\", -1000000.15, 0.0000432, -100000.234, 10000.1234, -0.0000001234),\n",
    "    # Add more firms as needed...\n",
    "]\n",
    "\n",
    "def check_condition(cond_value, expected):\n",
    "    \"\"\"Check if the condition value meets the expected criteria.\"\"\"\n",
    "    if expected == \"zero\" and abs(cond_value) < 0.001:\n",
    "        return \"✔️\", True\n",
    "    elif expected == \"negative\" and cond_value < 0:\n",
    "        return \"✔️\", True\n",
    "    elif expected == \"positive\" and cond_value > 0:\n",
    "        return \"✔️\", True\n",
    "    else:\n",
    "        return \"⚠️\", False\n",
    "\n",
    "def format_number(value):\n",
    "    \"\"\"Format number in scientific notation if too large or small, otherwise to 4 decimals.\"\"\"\n",
    "    if abs(value) >= 10000 or abs(value) < 0.001:\n",
    "        return f\"{value:>+9.2e}\"  # Scientific notation with proper alignment\n",
    "    else:\n",
    "        return f\"{value:>+9.4f}\"  # Fixed-point notation for normal numbers\n",
    "\n",
    "def print_firm_status(firms_data):\n",
    "    # Print table header\n",
    "    print(f\"{'Firm':<10} | {'FOD 1':<12} | {'FOD 2':<13} | {'SOD 1':<13} | {'SOD 2':<12} | {'Hessian':<12} | Status\")\n",
    "    print(\"-\" * 85)\n",
    "\n",
    "    # Iterate through each firm's data and print the status\n",
    "    for firm_data in firms_data:\n",
    "        firm_name, cond1, cond2, cond3, cond4, cond5 = firm_data\n",
    "        \n",
    "        # Check each condition and get the status (✔️ or ⚠️)\n",
    "        cond1_status, cond1_ok = check_condition(cond1, \"zero\")\n",
    "        cond2_status, cond2_ok = check_condition(cond2, \"zero\")\n",
    "        cond3_status, cond3_ok = check_condition(cond3, \"negative\")\n",
    "        cond4_status, cond4_ok = check_condition(cond4, \"negative\")\n",
    "        cond5_status, cond5_ok = check_condition(cond5, \"positive\")\n",
    "        \n",
    "        # Calculate how many conditions are OK\n",
    "        conditions_ok = sum([cond1_ok, cond2_ok, cond3_ok, cond4_ok, cond5_ok])\n",
    "        \n",
    "        # Format each condition with scientific notation where necessary\n",
    "        print(f\"{firm_name:<10} | {format_number(cond1)} {cond1_status} | {format_number(cond2)} {cond2_status} | \"\n",
    "              f\"{format_number(cond3)} {cond3_status} | {format_number(cond4)} {cond4_status} | \"\n",
    "              f\"{format_number(cond5)} {cond5_status} | {conditions_ok}/5\")\n",
    "\n",
    "# Call the function to print the firm status\n",
    "print_firm_status(firms_data)"
   ]
  },
  {
   "cell_type": "code",
   "execution_count": null,
   "metadata": {},
   "outputs": [],
   "source": []
  }
 ],
 "metadata": {
  "kernelspec": {
   "display_name": "base",
   "language": "python",
   "name": "python3"
  },
  "language_info": {
   "codemirror_mode": {
    "name": "ipython",
    "version": 3
   },
   "file_extension": ".py",
   "mimetype": "text/x-python",
   "name": "python",
   "nbconvert_exporter": "python",
   "pygments_lexer": "ipython3",
   "version": "3.12.4"
  }
 },
 "nbformat": 4,
 "nbformat_minor": 2
}
