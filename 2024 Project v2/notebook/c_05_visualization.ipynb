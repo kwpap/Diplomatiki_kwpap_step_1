{
 "cells": [
  {
   "cell_type": "code",
   "execution_count": 1,
   "metadata": {},
   "outputs": [
    {
     "name": "stdout",
     "output_type": "stream",
     "text": [
      "Index(['Emission Cap         ', 'Permit Price               ',\n",
      "       'Outputs                                                                                                                                                                                ',\n",
      "       'Emissions                                                                                                                                                                                                      ',\n",
      "       'Profits'],\n",
      "      dtype='object')\n"
     ]
    },
    {
     "ename": "",
     "evalue": "",
     "output_type": "error",
     "traceback": [
      "\u001b[1;31mThe Kernel crashed while executing code in the current cell or a previous cell. \n",
      "\u001b[1;31mPlease review the code in the cell(s) to identify a possible cause of the failure. \n",
      "\u001b[1;31mClick <a href='https://aka.ms/vscodeJupyterKernelCrash'>here</a> for more info. \n",
      "\u001b[1;31mView Jupyter <a href='command:jupyter.viewOutput'>log</a> for further details."
     ]
    }
   ],
   "source": [
    "import pandas as pd\n",
    "import matplotlib.pyplot as plt\n",
    "\n",
    "# Change the backend\n",
    "plt.switch_backend('Agg')  # or 'TkAgg'\n",
    "\n",
    "\n",
    "# Read the data with error handling\n",
    "try:\n",
    "    df = pd.read_csv('permit_price_output_to_cap_v_0.csv')\n",
    "except Exception as e:\n",
    "    print(f\"Error reading CSV file: {e}\")\n",
    "    raise\n",
    "\n",
    "# Print column names of df\n",
    "print(df.columns)\n",
    "\n",
    "# Rename columns\n",
    "df.columns = ['Emission Cap', 'Permit Price', 'Outputs', 'Emissions', 'Profits']\n",
    "\n",
    "# Check for NaN or infinite values\n",
    "if df.isnull().values.any():\n",
    "    print(\"Data contains NaN values. Handling NaNs...\")\n",
    "    df = df.dropna()  # or df.fillna(method='ffill') to fill NaNs\n",
    "\n",
    "if not df.replace([float('inf'), float('-inf')], float('nan')).dropna().equals(df):\n",
    "    print(\"Data contains infinite values. Handling infinite values...\")\n",
    "    df = df.replace([float('inf'), float('-inf')], float('nan')).dropna()\n",
    "\n",
    "# Plot the data\n",
    "try:\n",
    "    plt.plot([1,2,3], [1,2,3])\n",
    "    plt.xlabel('Permit Price')\n",
    "    plt.ylabel('Emission Cap')\n",
    "    plt.title('Emission Cap vs Permit Price')\n",
    "    plt.savefig('plot.png')  # Save the plot to a file\n",
    "\n",
    "except Exception as e:\n",
    "    print(f\"Error plotting data: {e}\")\n",
    "    raise"
   ]
  }
 ],
 "metadata": {
  "kernelspec": {
   "display_name": "base",
   "language": "python",
   "name": "python3"
  },
  "language_info": {
   "codemirror_mode": {
    "name": "ipython",
    "version": 3
   },
   "file_extension": ".py",
   "mimetype": "text/x-python",
   "name": "python",
   "nbconvert_exporter": "python",
   "pygments_lexer": "ipython3",
   "version": "3.12.3"
  }
 },
 "nbformat": 4,
 "nbformat_minor": 2
}
