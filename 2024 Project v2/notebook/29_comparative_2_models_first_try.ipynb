{
 "cells": [
  {
   "cell_type": "code",
   "execution_count": 1,
   "metadata": {},
   "outputs": [],
   "source": [
    "import sys\n",
    "import os\n",
    "sys.path.append(os.path.abspath(os.path.join('..', 'src')))\n",
    "from funkwpap import *\n",
    "import sympy as sp, pandas as pd, numpy as np, tqdm, time, sys, matplotlib.pyplot as plt, tqdm\n",
    "from statistics import mean\n",
    "from scipy.optimize import fsolve\n",
    "import gurobipy as gb\n"
   ]
  },
  {
   "cell_type": "code",
   "execution_count": 2,
   "metadata": {},
   "outputs": [],
   "source": [
    "import sympy as sp\n",
    "\n",
    "# Define symbolic variable\n",
    "x = sp.symbols('x')\n",
    "\n",
    "# Create a Regulator with an emission cap\n",
    "RegulatorETS = Regulator(\"ETS\", permit_price=20.0, emission_cap=1000000)\n",
    "\n",
    "# Define Countries with updated names and attributes\n",
    "country1 = Country('Atlantis', size=50, regulator=RegulatorETS, GDP_per_capita=40000, population=100000000, industry_percentage=30)\n",
    "country2 = Country('Omashu', size=20, regulator=RegulatorETS, GDP_per_capita=35000, population=50000000, industry_percentage=25)\n",
    "# country3 = Country('Hogsmeade', size=10, regulator=RegulatorETS, GDP_per_capita=45000, population=20000000, industry_percentage=20)\n",
    "# country4 = Country('The_Court_of_Miracles', size=5, regulator=RegulatorETS, GDP_per_capita=30000, population=10000000, industry_percentage=15)\n",
    "# country5 = Country('Lilipoupoli', size=2, regulator=RegulatorETS, GDP_per_capita=25000, population=5000000, industry_percentage=10)\n",
    "\n",
    "# Define Sectors with demand functions\n",
    "sector1 = Sector('Steel', price_demand_function=200 - 0.1*x, free_emission_multiplier=0.1, regulator=RegulatorETS)\n",
    "sector2 = Sector('Cement', price_demand_function=150 - 0.05*x, free_emission_multiplier=0.2, regulator=RegulatorETS)\n",
    "# sector3 = Sector('Paper', price_demand_function=100 - 0.02*x, free_emission_multiplier=0.3, regulator=RegulatorETS)\n",
    "# sector4 = Sector('Chemicals', price_demand_function=250 - 0.15*x, free_emission_multiplier=0.1, regulator=RegulatorETS)\n",
    "# sector5 = Sector('Automotive', price_demand_function=300 - 0.2*x, free_emission_multiplier=0.1, regulator=RegulatorETS)\n",
    "# sector6 = Sector('Textiles', price_demand_function=80 - 0.01*x, free_emission_multiplier=0.1, regulator=RegulatorETS)\n",
    "\n",
    "# Create Firms with updated definitions (production_cost_function=0, abatement_cost_function as previous production_cost_function)\n",
    "# Firms in Sector 1: Steel\n",
    "firm_S1_F1 = Firm('S1_F1', sector1, country1, x*0, 2*x + 3*x**2 + x**3, 10000, 5000, 0, RegulatorETS)\n",
    "firm_S1_F2 = Firm('S1_F2', sector1, country1, x*0, 3*x + 2*x**2 + 2*x**3, 12000, 6000, 0, RegulatorETS)\n",
    "firm_S1_F3 = Firm('S1_F3', sector1, country2, x*0, 4*x + x**2 + 3*x**3, 8000, 4000, 0, RegulatorETS)\n",
    "# firm_S1_F4 = Firm('S1_F4', sector1, country3, x*0, 2*x + 2*x**2 + 2*x**3, 7000, 3500, 0, RegulatorETS)\n",
    "# firm_S1_F5 = Firm('S1_F5', sector1, country4, x*0, 3*x + 3*x**2 + x**3, 6000, 3000, 0, RegulatorETS)\n",
    "\n",
    "# Firms in Sector 2: Cement\n",
    "firm_S2_F1 = Firm('S2_F1', sector2, country1, x*0, x + 2*x**2 + 3*x**3, 9000, 4500, 0, RegulatorETS)\n",
    "firm_S2_F2 = Firm('S2_F2', sector2, country1, x*0, 2*x + x**2 + 2*x**3, 9500, 4750, 0, RegulatorETS)\n",
    "firm_S2_F3 = Firm('S2_F3', sector2, country2, x*0, 3*x + x**2 + x**3, 7000, 3500, 0, RegulatorETS)\n",
    "# firm_S2_F4 = Firm('S2_F4', sector2, country3, x*0, x + 3*x**2 + x**3, 6000, 3000, 0, RegulatorETS)\n",
    "# firm_S2_F5 = Firm('S2_F5', sector2, country4, x*0, 2*x + 2*x**2 + x**3, 5000, 2500, 0, RegulatorETS)\n",
    "\n",
    "# Firms in Sector 3: Paper\n",
    "# firm_S3_F1 = Firm('S3_F1', sector3, country3, x*0, x + x**2 + x**3, 5000, 10000, 0, RegulatorETS)\n",
    "# firm_S3_F2 = Firm('S3_F2', sector3, country4, x*0, x + 2*x**2 + x**3, 4500, 9000, 0, RegulatorETS)\n",
    "# firm_S3_F3 = Firm('S3_F3', sector3, country5, x*0, x + x**2 + 2*x**3, 3000, 6000, 0, RegulatorETS)\n",
    "# firm_S3_F4 = Firm('S3_F4', sector3, country2, x*0, 2*x + x**2 + x**3, 5500, 11000, 0, RegulatorETS)\n",
    "# firm_S3_F5 = Firm('S3_F5', sector3, country1, x*0, x + 2*x**2 + 2*x**3, 6000, 12000, 0, RegulatorETS)\n",
    "\n",
    "# # Firms in Sector 4: Chemicals\n",
    "# firm_S4_F1 = Firm('S4_F1', sector4, country1, x*0, 3*x + 4*x**2 + x**3, 11000, 5500, 0, RegulatorETS)\n",
    "# firm_S4_F2 = Firm('S4_F2', sector4, country1, x*0, 4*x + 3*x**2 + 2*x**3, 10500, 5250, 0, RegulatorETS)\n",
    "# firm_S4_F3 = Firm('S4_F3', sector4, country2, x*0, 2*x + 5*x**2 + x**3, 9000, 4500, 0, RegulatorETS)\n",
    "# firm_S4_F4 = Firm('S4_F4', sector4, country3, x*0, 3*x + 3*x**2 + 3*x**3, 8000, 4000, 0, RegulatorETS)\n",
    "# firm_S4_F5 = Firm('S4_F5', sector4, country4, x*0, 2*x + 2*x**2 + 4*x**3, 7000, 3500, 0, RegulatorETS)\n",
    "\n",
    "# # Firms in Sector 5: Automotive\n",
    "# firm_S5_F1 = Firm('S5_F1', sector5, country1, x*0, 5*x + 4*x**2 + x**3, 12000, 6000, 0, RegulatorETS)\n",
    "# firm_S5_F2 = Firm('S5_F2', sector5, country2, x*0, 4*x + 5*x**2 + 2*x**3, 10000, 5000, 0, RegulatorETS)\n",
    "# firm_S5_F3 = Firm('S5_F3', sector5, country3, x*0, 3*x + 3*x**2 + 2*x**3, 9000, 4500, 0, RegulatorETS)\n",
    "# firm_S5_F4 = Firm('S5_F4', sector5, country4, x*0, 2*x + 4*x**2 + 3*x**3, 8000, 4000, 0, RegulatorETS)\n",
    "# firm_S5_F5 = Firm('S5_F5', sector5, country5, x*0, x + 3*x**2 + 4*x**3, 7000, 3500, 0, RegulatorETS)\n",
    "\n",
    "# # Firms in Sector 6: Textiles\n",
    "# firm_S6_F1 = Firm('S6_F1', sector6, country5, x*0, x + x**2 + x**3, 2000, 10000, 0, RegulatorETS)\n",
    "# firm_S6_F2 = Firm('S6_F2', sector6, country4, x*0, x + 2*x**2 + x**3, 2500, 12500, 0, RegulatorETS)\n",
    "# firm_S6_F3 = Firm('S6_F3', sector6, country3, x*0, x + x**2 + 2*x**3, 3000, 15000, 0, RegulatorETS)\n",
    "# firm_S6_F4 = Firm('S6_F4', sector6, country2, x*0, 2*x + x**2 + x**3, 3500, 17500, 0, RegulatorETS)\n",
    "# firm_S6_F5 = Firm('S6_F5', sector6, country1, x*0, x + 2*x**2 + 2*x**3, 4000, 20000, 0, RegulatorETS)\n"
   ]
  },
  {
   "cell_type": "code",
   "execution_count": 3,
   "metadata": {},
   "outputs": [],
   "source": [
    "# RegulatorETS.BAU_calculator(precision = 0.01, print_diff = True)\n",
    "# 17638.87773\n",
    "RegulatorETS.emission_cap = 17638.87773*0.2"
   ]
  },
  {
   "cell_type": "code",
   "execution_count": 4,
   "metadata": {},
   "outputs": [
    {
     "name": "stdout",
     "output_type": "stream",
     "text": [
      "Set parameter Username\n",
      "Academic license - for non-commercial use only - expires 2025-08-14\n",
      "Optimal solution found\n",
      "Firm S1_F1 has output 474.06852130213997 and emission 473.0252313371168\n",
      "Firm S1_F2 has output 474.06852130213997 and emission 473.16413035881607\n",
      "Firm S1_F3 has output 474.0685213021399 and emission 473.258509140369\n",
      "Firm S2_F1 has output 703.8995934260264 and emission 703.0178054788139\n",
      "Firm S2_F2 has output 703.8995934260264 and emission 702.795317639881\n",
      "Firm S2_F3 has output 703.8995934260265 and emission 702.5145520450027\n",
      "Permit price: 11.525101643493361\n"
     ]
    },
    {
     "data": {
      "text/plain": [
       "<gurobi.Model MIP instance positive_constraints_ab: 19 constrs, 13 vars, Parameter changes: Username=(user-defined), OutputFlag=0>"
      ]
     },
     "execution_count": 4,
     "metadata": {},
     "output_type": "execute_result"
    }
   ],
   "source": [
    "RegulatorETS.optimization_with_positive_constraints_ab(print_output= True, gurobi_print=False)"
   ]
  }
 ],
 "metadata": {
  "kernelspec": {
   "display_name": "base",
   "language": "python",
   "name": "python3"
  },
  "language_info": {
   "codemirror_mode": {
    "name": "ipython",
    "version": 3
   },
   "file_extension": ".py",
   "mimetype": "text/x-python",
   "name": "python",
   "nbconvert_exporter": "python",
   "pygments_lexer": "ipython3",
   "version": "3.12.4"
  }
 },
 "nbformat": 4,
 "nbformat_minor": 2
}
