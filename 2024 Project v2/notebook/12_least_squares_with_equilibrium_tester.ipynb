{
 "cells": [
  {
   "cell_type": "code",
   "execution_count": 1,
   "metadata": {},
   "outputs": [],
   "source": [
    "import sys\n",
    "import os\n",
    "sys.path.append(os.path.abspath(os.path.join('..', 'src')))\n",
    "\n",
    "from funkwpap import *\n",
    "import sympy as sp, pandas as pd, numpy as np, tqdm, time, sys, matplotlib.pyplot as plt\n",
    "from scipy.optimize import fsolve\n",
    "from random import random\n",
    "from scipy.optimize import minimize\n",
    "from gurobipy import *"
   ]
  },
  {
   "cell_type": "code",
   "execution_count": 2,
   "metadata": {},
   "outputs": [
    {
     "name": "stdout",
     "output_type": "stream",
     "text": [
      "Set parameter Username\n",
      "Academic license - for non-commercial use only - expires 2025-08-14\n",
      "Optimal solution found\n",
      "Firm firm1 has output 215.3787075856809 and emission 214.47754631922007\n",
      "Firm firm2 has output 215.37870758568124 and emission 214.9246619241856\n",
      "Firm firm3 has output 215.37870758568118 and emission 214.8325740585355\n",
      "Firm firm4 has output 340.37870758568386 and emission 339.90011883045304\n",
      "Firm firm5 has output 340.3787075856837 and emission 339.60654986562525\n",
      "Firm firm6 has output 340.3787075856782 and emission 339.77043722726467\n",
      "Firm firm7 has output 112.54181266845674 and emission 112.04758416974619\n",
      "Firm firm8 has output 112.54181223203274 and emission 112.19521626856918\n",
      "Firm firm9 has output 112.54181223679912 and emission 112.24531133640053\n",
      "Permit price: 13.848516965727576\n"
     ]
    },
    {
     "data": {
      "text/plain": [
       "<gurobi.Model MIP instance Least Squares: 49 constrs, 105 vars, Parameter changes: Username=(user-defined), OutputFlag=0>"
      ]
     },
     "execution_count": 2,
     "metadata": {},
     "output_type": "execute_result"
    }
   ],
   "source": [
    "x = sp.symbols('x')\n",
    "cap = 2000 # total emission cap\n",
    "Regulator7 = Regulator(\"test1\", permit_price = 2.4079, emission_cap = cap)\n",
    "sector1 = Sector('cement', price_demand_function= 100 - 0.1*x, free_emission_multiplier= 0, regulator= Regulator7)\n",
    "sector2 = Sector('steel', price_demand_function=150 - 0.1*x, free_emission_multiplier= 0, regulator= Regulator7)\n",
    "sector3 = Sector('paper', price_demand_function= 200 - 0.02*x**1.5, free_emission_multiplier= 0, regulator= Regulator7)\n",
    "sector4 = Sector('plastic', price_demand_function= 400 - 0.5*x, free_emission_multiplier= 0, regulator= Regulator7)\n",
    "sector5 = Sector('glass', price_demand_function= 300 - 0.4*x, free_emission_multiplier= 0, regulator= Regulator7)\n",
    "country1 = Country('DE', 1, regulator= Regulator7)\n",
    "country2 = Country('FI', 0.5, regulator= Regulator7)\n",
    "country3 = Country('GR', size= 0.1, regulator= Regulator7)\n",
    "\n",
    "# Create Firms using objects\n",
    "firm1 = Firm('firm1', 1, 1, x*0, 10*x+ 2*x**2 + 0.1*x**3 , 0, 0, 0, regulator= Regulator7)\n",
    "firm2 = Firm('firm2', 1, 2, x*0, 11*x+ 3*x**2 + 0.2*x**3, 0, 0, 0, regulator= Regulator7)\n",
    "firm3 = Firm('firm3', 1, 3, x*0, 5*x+ 4*x**2 + 5*x**3 , 0, 0, 0, regulator= Regulator7)\n",
    "firm4 = Firm('firm4', 2, 1, x*0, 7*x+ 5*x**2 + 3*x**3 , 0, 0, 0, regulator= Regulator7)\n",
    "firm5 = Firm('firm5', 2, 2, x*0, 1*x+ 6*x**2 + 2*x**3 , 0, 0, 0, regulator= Regulator7)\n",
    "firm6 = Firm('firm6', 2, 3, x*0, 2*x+ 7*x**2 + 3*x**3 , 0, 0, 0, regulator= Regulator7)\n",
    "firm7 = Firm('firm7', 3, 1, x*0, 3*x+ 8*x**2 + 4*x**3 , 0, 0, 0, regulator= Regulator7)\n",
    "firm8 = Firm('firm8', 3, 2, x*0, 4*x+ 9*x**2 + 10*x**3 , 0, 0, 0, regulator= Regulator7)\n",
    "firm9 = Firm('firm9', 3, 3, x*0, 5*x+ 10*x**2 + 11*x**3 , 0, 0, 0, regulator= Regulator7)\n",
    "\n",
    "# Regulator7.find_optimal_permit_price_to_meet_the_emission_cap_requirements(precision=0.01)\n",
    "Regulator7.optimization_with_least_squares(gurobi_print= False)"
   ]
  },
  {
   "cell_type": "code",
   "execution_count": 3,
   "metadata": {},
   "outputs": [
    {
     "name": "stdout",
     "output_type": "stream",
     "text": [
      "[['Worst', 0.0570239920423310, 0.0173770878288897, -4.54069675987651, -4.74069675987650, 0.908139351975279]]\n",
      "Firm       | FOC 1        | FOC 2         | SOC 1         | SOC 2        | Hessian      | Status\n",
      "-------------------------------------------------------------------------------------\n",
      "Worst      |   +0.0570 ✔️ |   +0.0174 ✔️ |   -4.5407 ✔️ |   -4.7407 ✔️ |   +0.9081 ✔️ | 5/5\n"
     ]
    },
    {
     "data": {
      "text/latex": [
       "$\\displaystyle \\text{True}$"
      ],
      "text/plain": [
       "True"
      ]
     },
     "execution_count": 3,
     "metadata": {},
     "output_type": "execute_result"
    },
    {
     "ename": "",
     "evalue": "",
     "output_type": "error",
     "traceback": [
      "\u001b[1;31mThe Kernel crashed while executing code in the current cell or a previous cell. \n",
      "\u001b[1;31mPlease review the code in the cell(s) to identify a possible cause of the failure. \n",
      "\u001b[1;31mClick <a href='https://aka.ms/vscodeJupyterKernelCrash'>here</a> for more info. \n",
      "\u001b[1;31mView Jupyter <a href='command:jupyter.viewOutput'>log</a> for further details."
     ]
    }
   ],
   "source": [
    "Regulator7.equilibrium_tester(precision = 0.1, full_output=False, output = True)"
   ]
  },
  {
   "cell_type": "code",
   "execution_count": 4,
   "metadata": {},
   "outputs": [
    {
     "name": "stdout",
     "output_type": "stream",
     "text": [
      "Max diff: 0.05, permit price = 13.0, cap = 2000, second_stage = False, a = 1.000"
     ]
    },
    {
     "ename": "KeyboardInterrupt",
     "evalue": "",
     "output_type": "error",
     "traceback": [
      "\u001b[1;31m---------------------------------------------------------------------------\u001b[0m",
      "\u001b[1;31mKeyboardInterrupt\u001b[0m                         Traceback (most recent call last)",
      "Cell \u001b[1;32mIn[4], line 1\u001b[0m\n\u001b[1;32m----> 1\u001b[0m \u001b[43mRegulator7\u001b[49m\u001b[38;5;241;43m.\u001b[39;49m\u001b[43mfind_optimal_permit_price_to_meet_the_emission_cap_requirements\u001b[49m\u001b[43m(\u001b[49m\u001b[43mprecision\u001b[49m\u001b[38;5;241;43m=\u001b[39;49m\u001b[38;5;241;43m0.01\u001b[39;49m\u001b[43m,\u001b[49m\u001b[43mx_high\u001b[49m\u001b[38;5;241;43m=\u001b[39;49m\u001b[38;5;241;43m14\u001b[39;49m\u001b[43m,\u001b[49m\u001b[43m \u001b[49m\u001b[43mx_low\u001b[49m\u001b[38;5;241;43m=\u001b[39;49m\u001b[38;5;241;43m12\u001b[39;49m\u001b[43m,\u001b[49m\u001b[43m \u001b[49m\u001b[43msize_of_diffs\u001b[49m\u001b[38;5;241;43m=\u001b[39;49m\u001b[43m \u001b[49m\u001b[38;5;241;43m10\u001b[39;49m\u001b[43m,\u001b[49m\u001b[43m \u001b[49m\u001b[43mpermit_price_tolerance\u001b[49m\u001b[38;5;241;43m=\u001b[39;49m\u001b[43m \u001b[49m\u001b[38;5;241;43m0.01\u001b[39;49m\u001b[43m)\u001b[49m\n",
      "File \u001b[1;32mc:\\Users\\Kostas\\Documents\\GitHub\\Diplomatiki_kwpap_step_1\\2024 Project v2\\src\\funkwpap.py:341\u001b[0m, in \u001b[0;36mRegulator.find_optimal_permit_price_to_meet_the_emission_cap_requirements\u001b[1;34m(self, precision, permit_price_tolerance, x_low, x_high, size_of_diffs)\u001b[0m\n\u001b[0;32m    339\u001b[0m x_mid \u001b[38;5;241m=\u001b[39m (x_high \u001b[38;5;241m+\u001b[39m x_low)\u001b[38;5;241m/\u001b[39m\u001b[38;5;241m2\u001b[39m\n\u001b[0;32m    340\u001b[0m \u001b[38;5;28mself\u001b[39m\u001b[38;5;241m.\u001b[39mpermit_price \u001b[38;5;241m=\u001b[39m x_mid\n\u001b[1;32m--> 341\u001b[0m \u001b[38;5;28;43mself\u001b[39;49m\u001b[38;5;241;43m.\u001b[39;49m\u001b[43moptimize_them_all\u001b[49m\u001b[43m(\u001b[49m\u001b[43mprint_output\u001b[49m\u001b[38;5;241;43m=\u001b[39;49m\u001b[38;5;28;43;01mFalse\u001b[39;49;00m\u001b[43m,\u001b[49m\u001b[43m \u001b[49m\u001b[43mprint_diff\u001b[49m\u001b[38;5;241;43m=\u001b[39;49m\u001b[38;5;28;43;01mTrue\u001b[39;49;00m\u001b[43m,\u001b[49m\u001b[43m \u001b[49m\u001b[43mprecision\u001b[49m\u001b[43m \u001b[49m\u001b[38;5;241;43m=\u001b[39;49m\u001b[43m \u001b[49m\u001b[43mprecision\u001b[49m\u001b[43m,\u001b[49m\u001b[43m \u001b[49m\u001b[43msize_of_diffs\u001b[49m\u001b[38;5;241;43m=\u001b[39;49m\u001b[43m \u001b[49m\u001b[43msize_of_diffs\u001b[49m\u001b[43m)\u001b[49m\n\u001b[0;32m    342\u001b[0m total_emission \u001b[38;5;241m=\u001b[39m get_emission(\u001b[38;5;28mself\u001b[39m\u001b[38;5;241m.\u001b[39mfirm_registry\u001b[38;5;241m.\u001b[39mvalues())\n\u001b[0;32m    343\u001b[0m sys\u001b[38;5;241m.\u001b[39mstdout\u001b[38;5;241m.\u001b[39mwrite(\u001b[38;5;124m\"\u001b[39m\u001b[38;5;130;01m\\r\u001b[39;00m\u001b[38;5;124mPermit price: \u001b[39m\u001b[38;5;132;01m{:2f}\u001b[39;00m\u001b[38;5;124m\"\u001b[39m\u001b[38;5;241m.\u001b[39mformat(\u001b[38;5;28mself\u001b[39m\u001b[38;5;241m.\u001b[39mpermit_price))\n",
      "File \u001b[1;32mc:\\Users\\Kostas\\Documents\\GitHub\\Diplomatiki_kwpap_step_1\\2024 Project v2\\src\\funkwpap.py:291\u001b[0m, in \u001b[0;36mRegulator.optimize_them_all\u001b[1;34m(self, print_output, print_diff, precision, BAU, size_of_diffs)\u001b[0m\n\u001b[0;32m    289\u001b[0m \u001b[38;5;28;01mfor\u001b[39;00m sector \u001b[38;5;129;01min\u001b[39;00m \u001b[38;5;28mself\u001b[39m\u001b[38;5;241m.\u001b[39msector_registry\u001b[38;5;241m.\u001b[39mvalues():\n\u001b[0;32m    290\u001b[0m     \u001b[38;5;28;01mfor\u001b[39;00m firm \u001b[38;5;129;01min\u001b[39;00m sector\u001b[38;5;241m.\u001b[39mfirms:\n\u001b[1;32m--> 291\u001b[0m         output, emission, profit \u001b[38;5;241m=\u001b[39m \u001b[43mfirm\u001b[49m\u001b[38;5;241;43m.\u001b[39;49m\u001b[43mcalculate_output\u001b[49m\u001b[43m(\u001b[49m\u001b[43mverbose\u001b[49m\u001b[38;5;241;43m=\u001b[39;49m\u001b[38;5;28;43;01mFalse\u001b[39;49;00m\u001b[43m,\u001b[49m\u001b[43m \u001b[49m\u001b[43mBAU\u001b[49m\u001b[43m \u001b[49m\u001b[38;5;241;43m=\u001b[39;49m\u001b[43m \u001b[49m\u001b[43mBAU\u001b[49m\u001b[43m)\u001b[49m\n\u001b[0;32m    292\u001b[0m         max_output[firm\u001b[38;5;241m.\u001b[39mname] \u001b[38;5;241m=\u001b[39m \u001b[38;5;28mmax\u001b[39m(max_output\u001b[38;5;241m.\u001b[39mget(firm\u001b[38;5;241m.\u001b[39mname, \u001b[38;5;241m0\u001b[39m), output)\n\u001b[0;32m    293\u001b[0m         \u001b[38;5;28;01mif\u001b[39;00m \u001b[38;5;28mabs\u001b[39m(output \u001b[38;5;241m-\u001b[39m firm\u001b[38;5;241m.\u001b[39mactual_output)\u001b[38;5;241m>\u001b[39mprecision \u001b[38;5;129;01mor\u001b[39;00m \u001b[38;5;28mabs\u001b[39m(emission \u001b[38;5;241m-\u001b[39m firm\u001b[38;5;241m.\u001b[39memission)\u001b[38;5;241m>\u001b[39mprecision:\n",
      "File \u001b[1;32mc:\\Users\\Kostas\\Documents\\GitHub\\Diplomatiki_kwpap_step_1\\2024 Project v2\\src\\funkwpap.py:682\u001b[0m, in \u001b[0;36mFirm.calculate_output\u001b[1;34m(self, verbose, writeLP, BAU)\u001b[0m\n\u001b[0;32m    680\u001b[0m emission \u001b[38;5;241m=\u001b[39m m\u001b[38;5;241m.\u001b[39maddVar(vtype \u001b[38;5;241m=\u001b[39m gb\u001b[38;5;241m.\u001b[39mGRB\u001b[38;5;241m.\u001b[39mCONTINUOUS, name \u001b[38;5;241m=\u001b[39m \u001b[38;5;124m\"\u001b[39m\u001b[38;5;124memission\u001b[39m\u001b[38;5;124m\"\u001b[39m, lb \u001b[38;5;241m=\u001b[39m \u001b[38;5;241m0\u001b[39m)\n\u001b[0;32m    681\u001b[0m symbol_map \u001b[38;5;241m=\u001b[39m {out: output, em: emission}\n\u001b[1;32m--> 682\u001b[0m profit \u001b[38;5;241m=\u001b[39m \u001b[43msympy_to_gurobi\u001b[49m\u001b[43m(\u001b[49m\u001b[43mprofit_expr\u001b[49m\u001b[43m,\u001b[49m\u001b[43m \u001b[49m\u001b[43msymbol_map\u001b[49m\u001b[43m,\u001b[49m\u001b[43m \u001b[49m\u001b[43mm\u001b[49m\u001b[43m)\u001b[49m\n\u001b[0;32m    683\u001b[0m m\u001b[38;5;241m.\u001b[39msetObjective(profit, gb\u001b[38;5;241m.\u001b[39mGRB\u001b[38;5;241m.\u001b[39mMAXIMIZE) \n\u001b[0;32m    684\u001b[0m m\u001b[38;5;241m.\u001b[39maddConstr(emission \u001b[38;5;241m<\u001b[39m\u001b[38;5;241m=\u001b[39m output)\n",
      "File \u001b[1;32mc:\\Users\\Kostas\\Documents\\GitHub\\Diplomatiki_kwpap_step_1\\2024 Project v2\\src\\funkwpap.py:61\u001b[0m, in \u001b[0;36msympy_to_gurobi\u001b[1;34m(sympy_expr, symbol_map, model, aux_var_count)\u001b[0m\n\u001b[0;32m     58\u001b[0m     \u001b[38;5;28;01mreturn\u001b[39;00m symbol_map[sympy_expr]\n\u001b[0;32m     60\u001b[0m \u001b[38;5;28;01melif\u001b[39;00m \u001b[38;5;28misinstance\u001b[39m(sympy_expr, sp\u001b[38;5;241m.\u001b[39mAdd):\n\u001b[1;32m---> 61\u001b[0m     \u001b[38;5;28;01mreturn\u001b[39;00m \u001b[38;5;28;43msum\u001b[39;49m\u001b[43m(\u001b[49m\u001b[43msympy_to_gurobi\u001b[49m\u001b[43m(\u001b[49m\u001b[43marg\u001b[49m\u001b[43m,\u001b[49m\u001b[43m \u001b[49m\u001b[43msymbol_map\u001b[49m\u001b[43m,\u001b[49m\u001b[43m \u001b[49m\u001b[43mmodel\u001b[49m\u001b[43m,\u001b[49m\u001b[43m \u001b[49m\u001b[43maux_var_count\u001b[49m\u001b[43m)\u001b[49m\u001b[43m \u001b[49m\u001b[38;5;28;43;01mfor\u001b[39;49;00m\u001b[43m \u001b[49m\u001b[43marg\u001b[49m\u001b[43m \u001b[49m\u001b[38;5;129;43;01min\u001b[39;49;00m\u001b[43m \u001b[49m\u001b[43msympy_expr\u001b[49m\u001b[38;5;241;43m.\u001b[39;49m\u001b[43margs\u001b[49m\u001b[43m)\u001b[49m\n\u001b[0;32m     63\u001b[0m \u001b[38;5;28;01melif\u001b[39;00m \u001b[38;5;28misinstance\u001b[39m(sympy_expr, sp\u001b[38;5;241m.\u001b[39mMul):\n\u001b[0;32m     64\u001b[0m     result \u001b[38;5;241m=\u001b[39m \u001b[38;5;241m1\u001b[39m\n",
      "File \u001b[1;32mc:\\Users\\Kostas\\Documents\\GitHub\\Diplomatiki_kwpap_step_1\\2024 Project v2\\src\\funkwpap.py:61\u001b[0m, in \u001b[0;36m<genexpr>\u001b[1;34m(.0)\u001b[0m\n\u001b[0;32m     58\u001b[0m     \u001b[38;5;28;01mreturn\u001b[39;00m symbol_map[sympy_expr]\n\u001b[0;32m     60\u001b[0m \u001b[38;5;28;01melif\u001b[39;00m \u001b[38;5;28misinstance\u001b[39m(sympy_expr, sp\u001b[38;5;241m.\u001b[39mAdd):\n\u001b[1;32m---> 61\u001b[0m     \u001b[38;5;28;01mreturn\u001b[39;00m \u001b[38;5;28msum\u001b[39m(\u001b[43msympy_to_gurobi\u001b[49m\u001b[43m(\u001b[49m\u001b[43marg\u001b[49m\u001b[43m,\u001b[49m\u001b[43m \u001b[49m\u001b[43msymbol_map\u001b[49m\u001b[43m,\u001b[49m\u001b[43m \u001b[49m\u001b[43mmodel\u001b[49m\u001b[43m,\u001b[49m\u001b[43m \u001b[49m\u001b[43maux_var_count\u001b[49m\u001b[43m)\u001b[49m \u001b[38;5;28;01mfor\u001b[39;00m arg \u001b[38;5;129;01min\u001b[39;00m sympy_expr\u001b[38;5;241m.\u001b[39margs)\n\u001b[0;32m     63\u001b[0m \u001b[38;5;28;01melif\u001b[39;00m \u001b[38;5;28misinstance\u001b[39m(sympy_expr, sp\u001b[38;5;241m.\u001b[39mMul):\n\u001b[0;32m     64\u001b[0m     result \u001b[38;5;241m=\u001b[39m \u001b[38;5;241m1\u001b[39m\n",
      "File \u001b[1;32mc:\\Users\\Kostas\\Documents\\GitHub\\Diplomatiki_kwpap_step_1\\2024 Project v2\\src\\funkwpap.py:66\u001b[0m, in \u001b[0;36msympy_to_gurobi\u001b[1;34m(sympy_expr, symbol_map, model, aux_var_count)\u001b[0m\n\u001b[0;32m     64\u001b[0m     result \u001b[38;5;241m=\u001b[39m \u001b[38;5;241m1\u001b[39m\n\u001b[0;32m     65\u001b[0m     \u001b[38;5;28;01mfor\u001b[39;00m arg \u001b[38;5;129;01min\u001b[39;00m sympy_expr\u001b[38;5;241m.\u001b[39margs:\n\u001b[1;32m---> 66\u001b[0m         result \u001b[38;5;241m*\u001b[39m\u001b[38;5;241m=\u001b[39m \u001b[43msympy_to_gurobi\u001b[49m\u001b[43m(\u001b[49m\u001b[43marg\u001b[49m\u001b[43m,\u001b[49m\u001b[43m \u001b[49m\u001b[43msymbol_map\u001b[49m\u001b[43m,\u001b[49m\u001b[43m \u001b[49m\u001b[43mmodel\u001b[49m\u001b[43m,\u001b[49m\u001b[43m \u001b[49m\u001b[43maux_var_count\u001b[49m\u001b[43m)\u001b[49m\n\u001b[0;32m     67\u001b[0m     \u001b[38;5;28;01mreturn\u001b[39;00m result\n\u001b[0;32m     69\u001b[0m \u001b[38;5;28;01melif\u001b[39;00m \u001b[38;5;28misinstance\u001b[39m(sympy_expr, sp\u001b[38;5;241m.\u001b[39mPow):\n",
      "File \u001b[1;32mc:\\Users\\Kostas\\Documents\\GitHub\\Diplomatiki_kwpap_step_1\\2024 Project v2\\src\\funkwpap.py:48\u001b[0m, in \u001b[0;36msympy_to_gurobi\u001b[1;34m(sympy_expr, symbol_map, model, aux_var_count)\u001b[0m\n\u001b[0;32m     33\u001b[0m \u001b[38;5;250m\u001b[39m\u001b[38;5;124;03m\"\"\"\u001b[39;00m\n\u001b[0;32m     34\u001b[0m \u001b[38;5;124;03mRecursively convert a SymPy expression to a Gurobi expression, \u001b[39;00m\n\u001b[0;32m     35\u001b[0m \u001b[38;5;124;03mhandling exponentials, powers, divisions, and other complex expressions with auxiliary variables and constraints.\u001b[39;00m\n\u001b[1;32m   (...)\u001b[0m\n\u001b[0;32m     44\u001b[0m \u001b[38;5;124;03m    Gurobi expression (LinExpr, QuadExpr, or constant).\u001b[39;00m\n\u001b[0;32m     45\u001b[0m \u001b[38;5;124;03m\"\"\"\u001b[39;00m\n\u001b[0;32m     46\u001b[0m \u001b[38;5;28;01mtry\u001b[39;00m:\n\u001b[0;32m     47\u001b[0m     \u001b[38;5;66;03m# Create a temporary variable to hold the result\u001b[39;00m\n\u001b[1;32m---> 48\u001b[0m     temp_expr \u001b[38;5;241m=\u001b[39m \u001b[43msympy_expr\u001b[49m\u001b[38;5;241;43m.\u001b[39;49m\u001b[43msimplify\u001b[49m\u001b[43m(\u001b[49m\u001b[43m)\u001b[49m\n\u001b[0;32m     49\u001b[0m     temp_expr \u001b[38;5;241m=\u001b[39m temp_expr\u001b[38;5;241m.\u001b[39mapart()\n\u001b[0;32m     51\u001b[0m     \u001b[38;5;66;03m# Only if both operations succeed, update sympy_expr\u001b[39;00m\n",
      "File \u001b[1;32mc:\\Users\\Kostas\\anaconda3\\Lib\\site-packages\\sympy\\core\\basic.py:1853\u001b[0m, in \u001b[0;36mBasic.simplify\u001b[1;34m(self, **kwargs)\u001b[0m\n\u001b[0;32m   1851\u001b[0m \u001b[38;5;250m\u001b[39m\u001b[38;5;124;03m\"\"\"See the simplify function in sympy.simplify\"\"\"\u001b[39;00m\n\u001b[0;32m   1852\u001b[0m \u001b[38;5;28;01mfrom\u001b[39;00m \u001b[38;5;21;01msympy\u001b[39;00m\u001b[38;5;21;01m.\u001b[39;00m\u001b[38;5;21;01msimplify\u001b[39;00m\u001b[38;5;21;01m.\u001b[39;00m\u001b[38;5;21;01msimplify\u001b[39;00m \u001b[38;5;28;01mimport\u001b[39;00m simplify\n\u001b[1;32m-> 1853\u001b[0m \u001b[38;5;28;01mreturn\u001b[39;00m \u001b[43msimplify\u001b[49m\u001b[43m(\u001b[49m\u001b[38;5;28;43mself\u001b[39;49m\u001b[43m,\u001b[49m\u001b[43m \u001b[49m\u001b[38;5;241;43m*\u001b[39;49m\u001b[38;5;241;43m*\u001b[39;49m\u001b[43mkwargs\u001b[49m\u001b[43m)\u001b[49m\n",
      "File \u001b[1;32mc:\\Users\\Kostas\\anaconda3\\Lib\\site-packages\\sympy\\simplify\\simplify.py:645\u001b[0m, in \u001b[0;36msimplify\u001b[1;34m(expr, ratio, measure, rational, inverse, doit, **kwargs)\u001b[0m\n\u001b[0;32m    643\u001b[0m expr \u001b[38;5;241m=\u001b[39m Mul(\u001b[38;5;241m*\u001b[39mpowsimp(expr)\u001b[38;5;241m.\u001b[39mas_content_primitive())\n\u001b[0;32m    644\u001b[0m _e \u001b[38;5;241m=\u001b[39m cancel(expr)\n\u001b[1;32m--> 645\u001b[0m expr1 \u001b[38;5;241m=\u001b[39m shorter(_e, \u001b[43m_mexpand\u001b[49m\u001b[43m(\u001b[49m\u001b[43m_e\u001b[49m\u001b[43m)\u001b[49m\u001b[38;5;241;43m.\u001b[39;49m\u001b[43mcancel\u001b[49m\u001b[43m(\u001b[49m\u001b[43m)\u001b[49m)  \u001b[38;5;66;03m# issue 6829\u001b[39;00m\n\u001b[0;32m    646\u001b[0m expr2 \u001b[38;5;241m=\u001b[39m shorter(together(expr, deep\u001b[38;5;241m=\u001b[39m\u001b[38;5;28;01mTrue\u001b[39;00m), together(expr1, deep\u001b[38;5;241m=\u001b[39m\u001b[38;5;28;01mTrue\u001b[39;00m))\n\u001b[0;32m    648\u001b[0m \u001b[38;5;28;01mif\u001b[39;00m ratio \u001b[38;5;129;01mis\u001b[39;00m S\u001b[38;5;241m.\u001b[39mInfinity:\n",
      "File \u001b[1;32mc:\\Users\\Kostas\\anaconda3\\Lib\\site-packages\\sympy\\core\\expr.py:3791\u001b[0m, in \u001b[0;36mExpr.cancel\u001b[1;34m(self, *gens, **args)\u001b[0m\n\u001b[0;32m   3789\u001b[0m \u001b[38;5;250m\u001b[39m\u001b[38;5;124;03m\"\"\"See the cancel function in sympy.polys\"\"\"\u001b[39;00m\n\u001b[0;32m   3790\u001b[0m \u001b[38;5;28;01mfrom\u001b[39;00m \u001b[38;5;21;01msympy\u001b[39;00m\u001b[38;5;21;01m.\u001b[39;00m\u001b[38;5;21;01mpolys\u001b[39;00m\u001b[38;5;21;01m.\u001b[39;00m\u001b[38;5;21;01mpolytools\u001b[39;00m \u001b[38;5;28;01mimport\u001b[39;00m cancel\n\u001b[1;32m-> 3791\u001b[0m \u001b[38;5;28;01mreturn\u001b[39;00m \u001b[43mcancel\u001b[49m\u001b[43m(\u001b[49m\u001b[38;5;28;43mself\u001b[39;49m\u001b[43m,\u001b[49m\u001b[43m \u001b[49m\u001b[38;5;241;43m*\u001b[39;49m\u001b[43mgens\u001b[49m\u001b[43m,\u001b[49m\u001b[43m \u001b[49m\u001b[38;5;241;43m*\u001b[39;49m\u001b[38;5;241;43m*\u001b[39;49m\u001b[43margs\u001b[49m\u001b[43m)\u001b[49m\n",
      "File \u001b[1;32mc:\\Users\\Kostas\\anaconda3\\Lib\\site-packages\\sympy\\polys\\polytools.py:6840\u001b[0m, in \u001b[0;36mcancel\u001b[1;34m(f, _signsimp, *gens, **args)\u001b[0m\n\u001b[0;32m   6838\u001b[0m     \u001b[38;5;28;01mif\u001b[39;00m f\u001b[38;5;241m.\u001b[39mis_Number \u001b[38;5;129;01mor\u001b[39;00m \u001b[38;5;28misinstance\u001b[39m(f, Relational) \u001b[38;5;129;01mor\u001b[39;00m \u001b[38;5;129;01mnot\u001b[39;00m \u001b[38;5;28misinstance\u001b[39m(f, Expr):\n\u001b[0;32m   6839\u001b[0m         \u001b[38;5;28;01mreturn\u001b[39;00m f\n\u001b[1;32m-> 6840\u001b[0m     f \u001b[38;5;241m=\u001b[39m \u001b[43mfactor_terms\u001b[49m\u001b[43m(\u001b[49m\u001b[43mf\u001b[49m\u001b[43m,\u001b[49m\u001b[43m \u001b[49m\u001b[43mradical\u001b[49m\u001b[38;5;241;43m=\u001b[39;49m\u001b[38;5;28;43;01mTrue\u001b[39;49;00m\u001b[43m)\u001b[49m\n\u001b[0;32m   6841\u001b[0m     p, q \u001b[38;5;241m=\u001b[39m f\u001b[38;5;241m.\u001b[39mas_numer_denom()\n\u001b[0;32m   6843\u001b[0m \u001b[38;5;28;01melif\u001b[39;00m \u001b[38;5;28mlen\u001b[39m(f) \u001b[38;5;241m==\u001b[39m \u001b[38;5;241m2\u001b[39m:\n",
      "File \u001b[1;32mc:\\Users\\Kostas\\anaconda3\\Lib\\site-packages\\sympy\\core\\exprtools.py:1267\u001b[0m, in \u001b[0;36mfactor_terms\u001b[1;34m(expr, radical, clear, fraction, sign)\u001b[0m\n\u001b[0;32m   1265\u001b[0m     \u001b[38;5;28;01mreturn\u001b[39;00m rv\n\u001b[0;32m   1266\u001b[0m expr \u001b[38;5;241m=\u001b[39m sympify(expr)\n\u001b[1;32m-> 1267\u001b[0m \u001b[38;5;28;01mreturn\u001b[39;00m \u001b[43mdo\u001b[49m\u001b[43m(\u001b[49m\u001b[43mexpr\u001b[49m\u001b[43m)\u001b[49m\n",
      "File \u001b[1;32mc:\\Users\\Kostas\\anaconda3\\Lib\\site-packages\\sympy\\core\\exprtools.py:1257\u001b[0m, in \u001b[0;36mfactor_terms.<locals>.do\u001b[1;34m(expr)\u001b[0m\n\u001b[0;32m   1255\u001b[0m     \u001b[38;5;66;03m# rebuild p not worrying about the order which gcd_terms will fix\u001b[39;00m\n\u001b[0;32m   1256\u001b[0m     p \u001b[38;5;241m=\u001b[39m Add\u001b[38;5;241m.\u001b[39m_from_args(list_args)\n\u001b[1;32m-> 1257\u001b[0m     p \u001b[38;5;241m=\u001b[39m \u001b[43mgcd_terms\u001b[49m\u001b[43m(\u001b[49m\u001b[43mp\u001b[49m\u001b[43m,\u001b[49m\n\u001b[0;32m   1258\u001b[0m \u001b[43m        \u001b[49m\u001b[43misprimitive\u001b[49m\u001b[38;5;241;43m=\u001b[39;49m\u001b[38;5;28;43;01mTrue\u001b[39;49;00m\u001b[43m,\u001b[49m\n\u001b[0;32m   1259\u001b[0m \u001b[43m        \u001b[49m\u001b[43mclear\u001b[49m\u001b[38;5;241;43m=\u001b[39;49m\u001b[43mclear\u001b[49m\u001b[43m,\u001b[49m\n\u001b[0;32m   1260\u001b[0m \u001b[43m        \u001b[49m\u001b[43mfraction\u001b[49m\u001b[38;5;241;43m=\u001b[39;49m\u001b[43mfraction\u001b[49m\u001b[43m)\u001b[49m\u001b[38;5;241m.\u001b[39mxreplace(special)\n\u001b[0;32m   1261\u001b[0m \u001b[38;5;28;01melif\u001b[39;00m p\u001b[38;5;241m.\u001b[39margs:\n\u001b[0;32m   1262\u001b[0m     p \u001b[38;5;241m=\u001b[39m p\u001b[38;5;241m.\u001b[39mfunc(\n\u001b[0;32m   1263\u001b[0m         \u001b[38;5;241m*\u001b[39m[do(a) \u001b[38;5;28;01mfor\u001b[39;00m a \u001b[38;5;129;01min\u001b[39;00m p\u001b[38;5;241m.\u001b[39margs])\n",
      "File \u001b[1;32mc:\\Users\\Kostas\\anaconda3\\Lib\\site-packages\\sympy\\core\\exprtools.py:1068\u001b[0m, in \u001b[0;36mgcd_terms\u001b[1;34m(terms, isprimitive, clear, fraction)\u001b[0m\n\u001b[0;32m   1066\u001b[0m     terms \u001b[38;5;241m=\u001b[39m sympify(terms)\n\u001b[0;32m   1067\u001b[0m terms, reps \u001b[38;5;241m=\u001b[39m mask(terms)\n\u001b[1;32m-> 1068\u001b[0m cont, numer, denom \u001b[38;5;241m=\u001b[39m \u001b[43m_gcd_terms\u001b[49m\u001b[43m(\u001b[49m\u001b[43mterms\u001b[49m\u001b[43m,\u001b[49m\u001b[43m \u001b[49m\u001b[43misprimitive\u001b[49m\u001b[43m,\u001b[49m\u001b[43m \u001b[49m\u001b[43mfraction\u001b[49m\u001b[43m)\u001b[49m\n\u001b[0;32m   1069\u001b[0m numer \u001b[38;5;241m=\u001b[39m numer\u001b[38;5;241m.\u001b[39mxreplace(reps)\n\u001b[0;32m   1070\u001b[0m coeff, factors \u001b[38;5;241m=\u001b[39m cont\u001b[38;5;241m.\u001b[39mas_coeff_Mul()\n",
      "File \u001b[1;32mc:\\Users\\Kostas\\anaconda3\\Lib\\site-packages\\sympy\\core\\exprtools.py:953\u001b[0m, in \u001b[0;36m_gcd_terms\u001b[1;34m(terms, isprimitive, fraction)\u001b[0m\n\u001b[0;32m    950\u001b[0m     cont \u001b[38;5;241m=\u001b[39m cont\u001b[38;5;241m.\u001b[39mgcd(term)\n\u001b[0;32m    952\u001b[0m \u001b[38;5;28;01mfor\u001b[39;00m i, term \u001b[38;5;129;01min\u001b[39;00m \u001b[38;5;28menumerate\u001b[39m(terms):\n\u001b[1;32m--> 953\u001b[0m     terms[i] \u001b[38;5;241m=\u001b[39m \u001b[43mterm\u001b[49m\u001b[38;5;241;43m.\u001b[39;49m\u001b[43mquo\u001b[49m\u001b[43m(\u001b[49m\u001b[43mcont\u001b[49m\u001b[43m)\u001b[49m\n\u001b[0;32m    955\u001b[0m \u001b[38;5;28;01mif\u001b[39;00m fraction:\n\u001b[0;32m    956\u001b[0m     denom \u001b[38;5;241m=\u001b[39m terms[\u001b[38;5;241m0\u001b[39m]\u001b[38;5;241m.\u001b[39mdenom\n",
      "File \u001b[1;32mc:\\Users\\Kostas\\anaconda3\\Lib\\site-packages\\sympy\\core\\exprtools.py:868\u001b[0m, in \u001b[0;36mTerm.quo\u001b[1;34m(self, other)\u001b[0m\n\u001b[0;32m    867\u001b[0m \u001b[38;5;28;01mdef\u001b[39;00m \u001b[38;5;21mquo\u001b[39m(\u001b[38;5;28mself\u001b[39m, other):  \u001b[38;5;66;03m# Term\u001b[39;00m\n\u001b[1;32m--> 868\u001b[0m     \u001b[38;5;28;01mreturn\u001b[39;00m \u001b[38;5;28;43mself\u001b[39;49m\u001b[38;5;241;43m.\u001b[39;49m\u001b[43mmul\u001b[49m\u001b[43m(\u001b[49m\u001b[43mother\u001b[49m\u001b[38;5;241;43m.\u001b[39;49m\u001b[43minv\u001b[49m\u001b[43m(\u001b[49m\u001b[43m)\u001b[49m\u001b[43m)\u001b[49m\n",
      "File \u001b[1;32mc:\\Users\\Kostas\\anaconda3\\Lib\\site-packages\\sympy\\core\\exprtools.py:860\u001b[0m, in \u001b[0;36mTerm.mul\u001b[1;34m(self, other)\u001b[0m\n\u001b[0;32m    857\u001b[0m numer \u001b[38;5;241m=\u001b[39m \u001b[38;5;28mself\u001b[39m\u001b[38;5;241m.\u001b[39mnumer\u001b[38;5;241m.\u001b[39mmul(other\u001b[38;5;241m.\u001b[39mnumer)\n\u001b[0;32m    858\u001b[0m denom \u001b[38;5;241m=\u001b[39m \u001b[38;5;28mself\u001b[39m\u001b[38;5;241m.\u001b[39mdenom\u001b[38;5;241m.\u001b[39mmul(other\u001b[38;5;241m.\u001b[39mdenom)\n\u001b[1;32m--> 860\u001b[0m numer, denom \u001b[38;5;241m=\u001b[39m \u001b[43mnumer\u001b[49m\u001b[38;5;241;43m.\u001b[39;49m\u001b[43mnormal\u001b[49m\u001b[43m(\u001b[49m\u001b[43mdenom\u001b[49m\u001b[43m)\u001b[49m\n\u001b[0;32m    862\u001b[0m \u001b[38;5;28;01mreturn\u001b[39;00m Term(coeff, numer, denom)\n",
      "File \u001b[1;32mc:\\Users\\Kostas\\anaconda3\\Lib\\site-packages\\sympy\\core\\exprtools.py:554\u001b[0m, in \u001b[0;36mFactors.normal\u001b[1;34m(self, other)\u001b[0m\n\u001b[0;32m    551\u001b[0m             \u001b[38;5;28;01melse\u001b[39;00m:\n\u001b[0;32m    552\u001b[0m                 \u001b[38;5;28;01mdel\u001b[39;00m other_factors[factor]\n\u001b[1;32m--> 554\u001b[0m \u001b[38;5;28;01mreturn\u001b[39;00m \u001b[43mFactors\u001b[49m\u001b[43m(\u001b[49m\u001b[43mself_factors\u001b[49m\u001b[43m)\u001b[49m, Factors(other_factors)\n",
      "File \u001b[1;32mc:\\Users\\Kostas\\anaconda3\\Lib\\site-packages\\sympy\\core\\exprtools.py:324\u001b[0m, in \u001b[0;36mFactors.__init__\u001b[1;34m(self, factors)\u001b[0m\n\u001b[0;32m    322\u001b[0m \u001b[38;5;28;01mif\u001b[39;00m \u001b[38;5;28misinstance\u001b[39m(factors, Factors):\n\u001b[0;32m    323\u001b[0m     factors \u001b[38;5;241m=\u001b[39m factors\u001b[38;5;241m.\u001b[39mfactors\u001b[38;5;241m.\u001b[39mcopy()\n\u001b[1;32m--> 324\u001b[0m \u001b[38;5;28;01melif\u001b[39;00m \u001b[43mfactors\u001b[49m\u001b[43m \u001b[49m\u001b[38;5;129;43;01min\u001b[39;49;00m\u001b[43m \u001b[49m\u001b[43m(\u001b[49m\u001b[38;5;28;43;01mNone\u001b[39;49;00m\u001b[43m,\u001b[49m\u001b[43m \u001b[49m\u001b[43mS\u001b[49m\u001b[38;5;241;43m.\u001b[39;49m\u001b[43mOne\u001b[49m\u001b[43m)\u001b[49m:\n\u001b[0;32m    325\u001b[0m     factors \u001b[38;5;241m=\u001b[39m {}\n\u001b[0;32m    326\u001b[0m \u001b[38;5;28;01melif\u001b[39;00m factors \u001b[38;5;129;01mis\u001b[39;00m S\u001b[38;5;241m.\u001b[39mZero \u001b[38;5;129;01mor\u001b[39;00m factors \u001b[38;5;241m==\u001b[39m \u001b[38;5;241m0\u001b[39m:\n",
      "File \u001b[1;32mc:\\Users\\Kostas\\anaconda3\\Lib\\site-packages\\sympy\\core\\numbers.py:2248\u001b[0m, in \u001b[0;36mInteger.__eq__\u001b[1;34m(self, other)\u001b[0m\n\u001b[0;32m   2246\u001b[0m \u001b[38;5;28;01melif\u001b[39;00m \u001b[38;5;28misinstance\u001b[39m(other, Integer):\n\u001b[0;32m   2247\u001b[0m     \u001b[38;5;28;01mreturn\u001b[39;00m (\u001b[38;5;28mself\u001b[39m\u001b[38;5;241m.\u001b[39mp \u001b[38;5;241m==\u001b[39m other\u001b[38;5;241m.\u001b[39mp)\n\u001b[1;32m-> 2248\u001b[0m \u001b[38;5;28;01mreturn\u001b[39;00m \u001b[43mRational\u001b[49m\u001b[38;5;241;43m.\u001b[39;49m\u001b[38;5;21;43m__eq__\u001b[39;49m\u001b[43m(\u001b[49m\u001b[38;5;28;43mself\u001b[39;49m\u001b[43m,\u001b[49m\u001b[43m \u001b[49m\u001b[43mother\u001b[49m\u001b[43m)\u001b[49m\n",
      "File \u001b[1;32mc:\\Users\\Kostas\\anaconda3\\Lib\\site-packages\\sympy\\core\\numbers.py:1874\u001b[0m, in \u001b[0;36mRational.__eq__\u001b[1;34m(self, other)\u001b[0m\n\u001b[0;32m   1872\u001b[0m \u001b[38;5;28;01mdef\u001b[39;00m \u001b[38;5;21m__eq__\u001b[39m(\u001b[38;5;28mself\u001b[39m, other):\n\u001b[0;32m   1873\u001b[0m     \u001b[38;5;28;01mtry\u001b[39;00m:\n\u001b[1;32m-> 1874\u001b[0m         other \u001b[38;5;241m=\u001b[39m \u001b[43m_sympify\u001b[49m\u001b[43m(\u001b[49m\u001b[43mother\u001b[49m\u001b[43m)\u001b[49m\n\u001b[0;32m   1875\u001b[0m     \u001b[38;5;28;01mexcept\u001b[39;00m SympifyError:\n\u001b[0;32m   1876\u001b[0m         \u001b[38;5;28;01mreturn\u001b[39;00m \u001b[38;5;28mNotImplemented\u001b[39m\n",
      "File \u001b[1;32mc:\\Users\\Kostas\\anaconda3\\Lib\\site-packages\\sympy\\core\\sympify.py:528\u001b[0m, in \u001b[0;36m_sympify\u001b[1;34m(a)\u001b[0m\n\u001b[0;32m    502\u001b[0m \u001b[38;5;28;01mdef\u001b[39;00m \u001b[38;5;21m_sympify\u001b[39m(a):\n\u001b[0;32m    503\u001b[0m \u001b[38;5;250m    \u001b[39m\u001b[38;5;124;03m\"\"\"\u001b[39;00m\n\u001b[0;32m    504\u001b[0m \u001b[38;5;124;03m    Short version of :func:`~.sympify` for internal usage for ``__add__`` and\u001b[39;00m\n\u001b[0;32m    505\u001b[0m \u001b[38;5;124;03m    ``__eq__`` methods where it is ok to allow some things (like Python\u001b[39;00m\n\u001b[1;32m   (...)\u001b[0m\n\u001b[0;32m    526\u001b[0m \n\u001b[0;32m    527\u001b[0m \u001b[38;5;124;03m    \"\"\"\u001b[39;00m\n\u001b[1;32m--> 528\u001b[0m     \u001b[38;5;28;01mreturn\u001b[39;00m \u001b[43msympify\u001b[49m\u001b[43m(\u001b[49m\u001b[43ma\u001b[49m\u001b[43m,\u001b[49m\u001b[43m \u001b[49m\u001b[43mstrict\u001b[49m\u001b[38;5;241;43m=\u001b[39;49m\u001b[38;5;28;43;01mTrue\u001b[39;49;00m\u001b[43m)\u001b[49m\n",
      "File \u001b[1;32mc:\\Users\\Kostas\\anaconda3\\Lib\\site-packages\\sympy\\core\\sympify.py:383\u001b[0m, in \u001b[0;36msympify\u001b[1;34m(a, locals, convert_xor, strict, rational, evaluate)\u001b[0m\n\u001b[0;32m    381\u001b[0m         conv \u001b[38;5;241m=\u001b[39m _sympy_converter\u001b[38;5;241m.\u001b[39mget(superclass)\n\u001b[0;32m    382\u001b[0m     \u001b[38;5;28;01mif\u001b[39;00m conv \u001b[38;5;129;01mis\u001b[39;00m \u001b[38;5;129;01mnot\u001b[39;00m \u001b[38;5;28;01mNone\u001b[39;00m:\n\u001b[1;32m--> 383\u001b[0m         \u001b[38;5;28;01mreturn\u001b[39;00m \u001b[43mconv\u001b[49m\u001b[43m(\u001b[49m\u001b[43ma\u001b[49m\u001b[43m)\u001b[49m\n\u001b[0;32m    385\u001b[0m \u001b[38;5;28;01mif\u001b[39;00m \u001b[38;5;28mcls\u001b[39m \u001b[38;5;129;01mis\u001b[39;00m \u001b[38;5;28mtype\u001b[39m(\u001b[38;5;28;01mNone\u001b[39;00m):\n\u001b[0;32m    386\u001b[0m     \u001b[38;5;28;01mif\u001b[39;00m strict:\n",
      "File \u001b[1;32mc:\\Users\\Kostas\\anaconda3\\Lib\\site-packages\\sympy\\core\\containers.py:332\u001b[0m, in \u001b[0;36m<lambda>\u001b[1;34m(d)\u001b[0m\n\u001b[0;32m    329\u001b[0m     \u001b[38;5;21m__hash__\u001b[39m : Callable[[Basic], Any] \u001b[38;5;241m=\u001b[39m Basic\u001b[38;5;241m.\u001b[39m\u001b[38;5;21m__hash__\u001b[39m\n\u001b[0;32m    331\u001b[0m \u001b[38;5;66;03m# this handles dict, defaultdict, OrderedDict\u001b[39;00m\n\u001b[1;32m--> 332\u001b[0m _sympy_converter[\u001b[38;5;28mdict\u001b[39m] \u001b[38;5;241m=\u001b[39m \u001b[38;5;28;01mlambda\u001b[39;00m d: \u001b[43mDict\u001b[49m\u001b[43m(\u001b[49m\u001b[38;5;241;43m*\u001b[39;49m\u001b[43md\u001b[49m\u001b[38;5;241;43m.\u001b[39;49m\u001b[43mitems\u001b[49m\u001b[43m(\u001b[49m\u001b[43m)\u001b[49m\u001b[43m)\u001b[49m\n\u001b[0;32m    334\u001b[0m \u001b[38;5;28;01mclass\u001b[39;00m \u001b[38;5;21;01mOrderedSet\u001b[39;00m(MutableSet):\n\u001b[0;32m    335\u001b[0m     \u001b[38;5;28;01mdef\u001b[39;00m \u001b[38;5;21m__init__\u001b[39m(\u001b[38;5;28mself\u001b[39m, iterable\u001b[38;5;241m=\u001b[39m\u001b[38;5;28;01mNone\u001b[39;00m):\n",
      "File \u001b[1;32mc:\\Users\\Kostas\\anaconda3\\Lib\\site-packages\\sympy\\core\\containers.py:263\u001b[0m, in \u001b[0;36mDict.__new__\u001b[1;34m(cls, *args)\u001b[0m\n\u001b[0;32m    261\u001b[0m     \u001b[38;5;28;01mraise\u001b[39;00m \u001b[38;5;167;01mTypeError\u001b[39;00m(\u001b[38;5;124m'\u001b[39m\u001b[38;5;124mPass Dict args as Dict((k1, v1), ...) or Dict(\u001b[39m\u001b[38;5;124m{\u001b[39m\u001b[38;5;124mk1: v1, ...})\u001b[39m\u001b[38;5;124m'\u001b[39m)\n\u001b[0;32m    262\u001b[0m elements \u001b[38;5;241m=\u001b[39m \u001b[38;5;28mfrozenset\u001b[39m(items)\n\u001b[1;32m--> 263\u001b[0m obj \u001b[38;5;241m=\u001b[39m Basic\u001b[38;5;241m.\u001b[39m\u001b[38;5;21m__new__\u001b[39m(\u001b[38;5;28mcls\u001b[39m, \u001b[38;5;241m*\u001b[39mordered(items))\n\u001b[0;32m    264\u001b[0m obj\u001b[38;5;241m.\u001b[39melements \u001b[38;5;241m=\u001b[39m elements\n\u001b[0;32m    265\u001b[0m obj\u001b[38;5;241m.\u001b[39m_dict \u001b[38;5;241m=\u001b[39m \u001b[38;5;28mdict\u001b[39m(items)  \u001b[38;5;66;03m# In case Tuple decides it wants to sympify\u001b[39;00m\n",
      "File \u001b[1;32mc:\\Users\\Kostas\\anaconda3\\Lib\\site-packages\\sympy\\core\\sorting.py:309\u001b[0m, in \u001b[0;36mordered\u001b[1;34m(seq, keys, default, warn)\u001b[0m\n\u001b[0;32m    306\u001b[0m         \u001b[38;5;28;01mif\u001b[39;00m \u001b[38;5;28mlen\u001b[39m(u) \u001b[38;5;241m>\u001b[39m \u001b[38;5;241m1\u001b[39m:\n\u001b[0;32m    307\u001b[0m             \u001b[38;5;28;01mraise\u001b[39;00m \u001b[38;5;167;01mValueError\u001b[39;00m(\n\u001b[0;32m    308\u001b[0m                 \u001b[38;5;124m'\u001b[39m\u001b[38;5;124mnot enough keys to break ties: \u001b[39m\u001b[38;5;132;01m%s\u001b[39;00m\u001b[38;5;124m'\u001b[39m \u001b[38;5;241m%\u001b[39m u)\n\u001b[1;32m--> 309\u001b[0m \u001b[38;5;28;01myield from\u001b[39;00m value\n",
      "File \u001b[1;32mc:\\Users\\Kostas\\anaconda3\\Lib\\site-packages\\sympy\\core\\sorting.py:309\u001b[0m, in \u001b[0;36mordered\u001b[1;34m(seq, keys, default, warn)\u001b[0m\n\u001b[0;32m    306\u001b[0m         \u001b[38;5;28;01mif\u001b[39;00m \u001b[38;5;28mlen\u001b[39m(u) \u001b[38;5;241m>\u001b[39m \u001b[38;5;241m1\u001b[39m:\n\u001b[0;32m    307\u001b[0m             \u001b[38;5;28;01mraise\u001b[39;00m \u001b[38;5;167;01mValueError\u001b[39;00m(\n\u001b[0;32m    308\u001b[0m                 \u001b[38;5;124m'\u001b[39m\u001b[38;5;124mnot enough keys to break ties: \u001b[39m\u001b[38;5;132;01m%s\u001b[39;00m\u001b[38;5;124m'\u001b[39m \u001b[38;5;241m%\u001b[39m u)\n\u001b[1;32m--> 309\u001b[0m \u001b[38;5;28;01myield from\u001b[39;00m value\n",
      "File \u001b[1;32mc:\\Users\\Kostas\\anaconda3\\Lib\\site-packages\\sympy\\core\\sorting.py:291\u001b[0m, in \u001b[0;36mordered\u001b[1;34m(seq, keys, default, warn)\u001b[0m\n\u001b[0;32m    289\u001b[0m         keys \u001b[38;5;241m=\u001b[39m []\n\u001b[0;32m    290\u001b[0m     \u001b[38;5;28;01mfor\u001b[39;00m a \u001b[38;5;129;01min\u001b[39;00m seq:\n\u001b[1;32m--> 291\u001b[0m         d[\u001b[43mf\u001b[49m\u001b[43m(\u001b[49m\u001b[43ma\u001b[49m\u001b[43m)\u001b[49m]\u001b[38;5;241m.\u001b[39mappend(a)\n\u001b[0;32m    292\u001b[0m \u001b[38;5;28;01melse\u001b[39;00m:\n\u001b[0;32m    293\u001b[0m     \u001b[38;5;28;01mif\u001b[39;00m \u001b[38;5;129;01mnot\u001b[39;00m default:\n",
      "File \u001b[1;32mc:\\Users\\Kostas\\anaconda3\\Lib\\site-packages\\sympy\\core\\sorting.py:127\u001b[0m, in \u001b[0;36mdefault_sort_key\u001b[1;34m(item, order)\u001b[0m\n\u001b[0;32m    124\u001b[0m \u001b[38;5;28;01mfrom\u001b[39;00m \u001b[38;5;21;01m.\u001b[39;00m\u001b[38;5;21;01msingleton\u001b[39;00m \u001b[38;5;28;01mimport\u001b[39;00m S\n\u001b[0;32m    126\u001b[0m \u001b[38;5;28;01mif\u001b[39;00m \u001b[38;5;28misinstance\u001b[39m(item, Basic):\n\u001b[1;32m--> 127\u001b[0m     \u001b[38;5;28;01mreturn\u001b[39;00m \u001b[43mitem\u001b[49m\u001b[38;5;241;43m.\u001b[39;49m\u001b[43msort_key\u001b[49m\u001b[43m(\u001b[49m\u001b[43morder\u001b[49m\u001b[38;5;241;43m=\u001b[39;49m\u001b[43morder\u001b[49m\u001b[43m)\u001b[49m\n\u001b[0;32m    129\u001b[0m \u001b[38;5;28;01mif\u001b[39;00m iterable(item, exclude\u001b[38;5;241m=\u001b[39m\u001b[38;5;28mstr\u001b[39m):\n\u001b[0;32m    130\u001b[0m     \u001b[38;5;28;01mif\u001b[39;00m \u001b[38;5;28misinstance\u001b[39m(item, \u001b[38;5;28mdict\u001b[39m):\n",
      "File \u001b[1;32mc:\\Users\\Kostas\\anaconda3\\Lib\\site-packages\\sympy\\core\\cache.py:72\u001b[0m, in \u001b[0;36m__cacheit.<locals>.func_wrapper.<locals>.wrapper\u001b[1;34m(*args, **kwargs)\u001b[0m\n\u001b[0;32m     69\u001b[0m \u001b[38;5;129m@wraps\u001b[39m(func)\n\u001b[0;32m     70\u001b[0m \u001b[38;5;28;01mdef\u001b[39;00m \u001b[38;5;21mwrapper\u001b[39m(\u001b[38;5;241m*\u001b[39margs, \u001b[38;5;241m*\u001b[39m\u001b[38;5;241m*\u001b[39mkwargs):\n\u001b[0;32m     71\u001b[0m     \u001b[38;5;28;01mtry\u001b[39;00m:\n\u001b[1;32m---> 72\u001b[0m         retval \u001b[38;5;241m=\u001b[39m \u001b[43mcfunc\u001b[49m\u001b[43m(\u001b[49m\u001b[38;5;241;43m*\u001b[39;49m\u001b[43margs\u001b[49m\u001b[43m,\u001b[49m\u001b[43m \u001b[49m\u001b[38;5;241;43m*\u001b[39;49m\u001b[38;5;241;43m*\u001b[39;49m\u001b[43mkwargs\u001b[49m\u001b[43m)\u001b[49m\n\u001b[0;32m     73\u001b[0m     \u001b[38;5;28;01mexcept\u001b[39;00m \u001b[38;5;167;01mTypeError\u001b[39;00m \u001b[38;5;28;01mas\u001b[39;00m e:\n\u001b[0;32m     74\u001b[0m         \u001b[38;5;28;01mif\u001b[39;00m \u001b[38;5;129;01mnot\u001b[39;00m e\u001b[38;5;241m.\u001b[39margs \u001b[38;5;129;01mor\u001b[39;00m \u001b[38;5;129;01mnot\u001b[39;00m e\u001b[38;5;241m.\u001b[39margs[\u001b[38;5;241m0\u001b[39m]\u001b[38;5;241m.\u001b[39mstartswith(\u001b[38;5;124m'\u001b[39m\u001b[38;5;124munhashable type:\u001b[39m\u001b[38;5;124m'\u001b[39m):\n",
      "File \u001b[1;32mc:\\Users\\Kostas\\anaconda3\\Lib\\site-packages\\sympy\\core\\containers.py:100\u001b[0m, in \u001b[0;36mTuple.__eq__\u001b[1;34m(self, other)\u001b[0m\n\u001b[0;32m     98\u001b[0m \u001b[38;5;28;01mdef\u001b[39;00m \u001b[38;5;21m__eq__\u001b[39m(\u001b[38;5;28mself\u001b[39m, other):\n\u001b[0;32m     99\u001b[0m     \u001b[38;5;28;01mif\u001b[39;00m \u001b[38;5;28misinstance\u001b[39m(other, Basic):\n\u001b[1;32m--> 100\u001b[0m         \u001b[38;5;28;01mreturn\u001b[39;00m \u001b[38;5;28;43msuper\u001b[39;49m\u001b[43m(\u001b[49m\u001b[43m)\u001b[49m\u001b[38;5;241;43m.\u001b[39;49m\u001b[38;5;21;43m__eq__\u001b[39;49m\u001b[43m(\u001b[49m\u001b[43mother\u001b[49m\u001b[43m)\u001b[49m\n\u001b[0;32m    101\u001b[0m     \u001b[38;5;28;01mreturn\u001b[39;00m \u001b[38;5;28mself\u001b[39m\u001b[38;5;241m.\u001b[39margs \u001b[38;5;241m==\u001b[39m other\n",
      "File \u001b[1;32mc:\\Users\\Kostas\\anaconda3\\Lib\\site-packages\\sympy\\core\\basic.py:417\u001b[0m, in \u001b[0;36mBasic.__eq__\u001b[1;34m(self, other)\u001b[0m\n\u001b[0;32m    414\u001b[0m \u001b[38;5;28;01mif\u001b[39;00m  \u001b[38;5;129;01mnot\u001b[39;00m (\u001b[38;5;28mself\u001b[39m\u001b[38;5;241m.\u001b[39mis_Number \u001b[38;5;129;01mand\u001b[39;00m other\u001b[38;5;241m.\u001b[39mis_Number) \u001b[38;5;129;01mand\u001b[39;00m (\n\u001b[0;32m    415\u001b[0m         \u001b[38;5;28mtype\u001b[39m(\u001b[38;5;28mself\u001b[39m) \u001b[38;5;241m!=\u001b[39m \u001b[38;5;28mtype\u001b[39m(other)):\n\u001b[0;32m    416\u001b[0m     \u001b[38;5;28;01mreturn\u001b[39;00m \u001b[38;5;28;01mFalse\u001b[39;00m\n\u001b[1;32m--> 417\u001b[0m a, b \u001b[38;5;241m=\u001b[39m \u001b[38;5;28mself\u001b[39m\u001b[38;5;241m.\u001b[39m_hashable_content(), \u001b[43mother\u001b[49m\u001b[38;5;241;43m.\u001b[39;49m\u001b[43m_hashable_content\u001b[49m\u001b[43m(\u001b[49m\u001b[43m)\u001b[49m\n\u001b[0;32m    418\u001b[0m \u001b[38;5;28;01mif\u001b[39;00m a \u001b[38;5;241m!=\u001b[39m b:\n\u001b[0;32m    419\u001b[0m     \u001b[38;5;28;01mreturn\u001b[39;00m \u001b[38;5;28;01mFalse\u001b[39;00m\n",
      "File \u001b[1;32mc:\\Users\\Kostas\\anaconda3\\Lib\\site-packages\\sympy\\core\\basic.py:198\u001b[0m, in \u001b[0;36mBasic._hashable_content\u001b[1;34m(self)\u001b[0m\n\u001b[0;32m    195\u001b[0m         \u001b[38;5;28mself\u001b[39m\u001b[38;5;241m.\u001b[39m_mhash \u001b[38;5;241m=\u001b[39m h\n\u001b[0;32m    196\u001b[0m     \u001b[38;5;28;01mreturn\u001b[39;00m h\n\u001b[1;32m--> 198\u001b[0m \u001b[38;5;28;01mdef\u001b[39;00m \u001b[38;5;21m_hashable_content\u001b[39m(\u001b[38;5;28mself\u001b[39m):\n\u001b[0;32m    199\u001b[0m \u001b[38;5;250m    \u001b[39m\u001b[38;5;124;03m\"\"\"Return a tuple of information about self that can be used to\u001b[39;00m\n\u001b[0;32m    200\u001b[0m \u001b[38;5;124;03m    compute the hash. If a class defines additional attributes,\u001b[39;00m\n\u001b[0;32m    201\u001b[0m \u001b[38;5;124;03m    like ``name`` in Symbol, then this method should be updated\u001b[39;00m\n\u001b[1;32m   (...)\u001b[0m\n\u001b[0;32m    204\u001b[0m \u001b[38;5;124;03m    Defining more than _hashable_content is necessary if __eq__ has\u001b[39;00m\n\u001b[0;32m    205\u001b[0m \u001b[38;5;124;03m    been defined by a class. See note about this in Basic.__eq__.\"\"\"\u001b[39;00m\n\u001b[0;32m    206\u001b[0m     \u001b[38;5;28;01mreturn\u001b[39;00m \u001b[38;5;28mself\u001b[39m\u001b[38;5;241m.\u001b[39m_args\n",
      "\u001b[1;31mKeyboardInterrupt\u001b[0m: "
     ]
    }
   ],
   "source": [
    "Regulator7.find_optimal_permit_price_to_meet_the_emission_cap_requirements(precision=0.01,x_high=14, x_low=12, size_of_diffs= 10, permit_price_tolerance= 0.01)"
   ]
  },
  {
   "cell_type": "code",
   "execution_count": 7,
   "metadata": {},
   "outputs": [
    {
     "name": "stdout",
     "output_type": "stream",
     "text": [
      "Firm       | FOC 1        | FOC 2         | SOC 1         | SOC 2        | Hessian      | Status\n",
      "-------------------------------------------------------------------------------------\n",
      "Worst      |   +2.1462 ✔️ |   +0.3581 ✔️ |   -4.4756 ✔️ |   -4.6756 ✔️ |   +0.8951 ✔️ | 5/5\n",
      "firm1      |   +1.5048 ✔️ |   -0.1174 ✔️ |   -4.4756 ✔️ |   -4.6756 ✔️ |   +0.8951 ✔️ | 5/5\n",
      "firm2      |   +1.2827 ✔️ |   +0.1047 ✔️ |   -6.4958 ✔️ |   -6.6958 ✔️ |   +1.2992 ✔️ | 5/5\n",
      "firm3      |   +1.1785 ✔️ |   +0.2090 ✔️ |  -24.1895 ✔️ |  -24.3895 ✔️ |   +4.8379 ✔️ | 5/5\n",
      "firm4      |   +1.8844 ✔️ |   -0.0963 ✔️ |  -18.1574 ✔️ |  -18.3574 ✔️ |   +3.6315 ✔️ | 5/5\n",
      "firm5      |   +2.1462 ✔️ |   -0.3581 ✔️ |  -20.8529 ✔️ |  -21.0529 ✔️ |   +4.1706 ✔️ | 5/5\n",
      "firm6      |   -0.6120 ✔️ |   +0.2355 ✔️ |  -24.8522 ✔️ |  -25.0522 ✔️ |   +4.9704 ✔️ | 5/5\n",
      "firm7      |   -1.1587 ✔️ |   -0.1308 ✔️ |  -27.4335 ✔️ |  -28.6315 ✔️ |  +32.8647 ✔️ | 5/5\n",
      "firm8      |   -1.2827 ✔️ |   -0.0075 ✔️ |  -38.2136 ✔️ |  -39.4116 ✔️ |  +45.7791 ✔️ | 5/5\n",
      "firm9      |   -1.2586 ✔️ |   -0.0325 ✔️ |  -38.9181 ✔️ |  -40.1161 ✔️ |  +46.6231 ✔️ | 5/5\n"
     ]
    },
    {
     "data": {
      "text/latex": [
       "$\\displaystyle \\text{True}$"
      ],
      "text/plain": [
       "True"
      ]
     },
     "execution_count": 7,
     "metadata": {},
     "output_type": "execute_result"
    }
   ],
   "source": [
    "Regulator7.equilibrium_tester(precision = 2.15, full_output=True)"
   ]
  },
  {
   "cell_type": "code",
   "execution_count": 6,
   "metadata": {},
   "outputs": [
    {
     "name": "stdout",
     "output_type": "stream",
     "text": [
      "\u001b[1mThis is bold text\u001b[0m, and this is normal text.\n"
     ]
    }
   ],
   "source": []
  }
 ],
 "metadata": {
  "kernelspec": {
   "display_name": "base",
   "language": "python",
   "name": "python3"
  },
  "language_info": {
   "codemirror_mode": {
    "name": "ipython",
    "version": 3
   },
   "file_extension": ".py",
   "mimetype": "text/x-python",
   "name": "python",
   "nbconvert_exporter": "python",
   "pygments_lexer": "ipython3",
   "version": "3.12.4"
  }
 },
 "nbformat": 4,
 "nbformat_minor": 2
}
