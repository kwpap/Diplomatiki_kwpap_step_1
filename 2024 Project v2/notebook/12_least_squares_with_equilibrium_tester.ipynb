{
 "cells": [
  {
   "cell_type": "code",
   "execution_count": 1,
   "metadata": {},
   "outputs": [],
   "source": [
    "import sys\n",
    "import os\n",
    "sys.path.append(os.path.abspath(os.path.join('..', 'src')))\n",
    "\n",
    "from funkwpap import *\n",
    "import sympy as sp, pandas as pd, numpy as np, tqdm, time, sys, matplotlib.pyplot as plt\n",
    "from scipy.optimize import fsolve\n",
    "from random import random\n",
    "from scipy.optimize import minimize\n",
    "from gurobipy import *"
   ]
  },
  {
   "cell_type": "code",
   "execution_count": 2,
   "metadata": {},
   "outputs": [
    {
     "name": "stdout",
     "output_type": "stream",
     "text": [
      "Set parameter Username\n",
      "Academic license - for non-commercial use only - expires 2025-07-02\n",
      "Sympy Objective: (-pp + 8*q3 - 8*x3 + 15*(q3 - x3)**2 + 5)**2 + (-pp + 10*q4 - 10*x4 + 9*(q4 - x4)**2 + 7)**2 + (-pp + 12*q5 - 12*x5 + 6*(q5 - x5)**2 + 1)**2 + (-pp + 14*q6 - 14*x6 + 9*(q6 - x6)**2 + 2)**2 + (-pp + 16*q7 - 16*x7 + 12*(q7 - x7)**2 + 3)**2 + (-pp + 18*q8 - 18*x8 + 30*(q8 - x8)**2 + 4)**2 + (-pp + 20*q9 - 20*x9 + 33*(q9 - x9)**2 + 5)**2 + 100*(-pp/10 + 2*q1/5 - 2*x1/5 + 0.03*(q1 - x1)**2 + 1)**2 + 121*(-pp/11 + 6*q2/11 - 6*x2/11 + 0.0545454545454546*(q2 - x2)**2 + 1)**2 + 8100*(-0.0466666666666667*q1 - 0.00111111111111111*q2 - 0.00111111111111111*q3 + 2*x1/45 - 0.00333333333333333*(q1 - x1)**2 + 1)**2 + 7921*(-0.00112359550561798*q1 - 0.0696629213483146*q2 - 0.00112359550561798*q3 + 6*x2/89 - 0.00674157303370787*(q2 - x2)**2 + 1)**2 + 9025*(-0.00105263157894737*q1 - 0.00105263157894737*q2 - 0.0863157894736842*q3 + 8*x3/95 - 3*(q3 - x3)**2/19 + 1)**2 + 20449*(-0.0713286713286713*q4 - 0.000699300699300699*q5 - 0.000699300699300699*q6 + 10*x4/143 - 9*(q4 - x4)**2/143 + 1)**2 + 21904*(-0.000675675675675676*q4 - 0.000675675675675676*q5 - 0.0959459459459459*q6 + 7*x6/74 - 9*(q6 - x6)**2/148 + 1)**2 + 22201*(-0.000671140939597316*q4 - 0.0818791946308725*q5 - 0.000671140939597316*q6 + 12*x5/149 - 6*(q5 - x5)**2/149 + 1)**2 + 38809*(-0.000152284263959391*q7*(q7 + q8 + q9)**0.5 - 16*q7/197 + 16*x7/197 - 12*(q7 - x7)**2/197 - 0.000101522842639594*(q7 + q8 + q9)**1.5 + 1)**2 + 38416*(-0.000153061224489796*q8*(q7 + q8 + q9)**0.5 - 9*q8/98 + 9*x8/98 - 15*(q8 - x8)**2/98 - 0.000102040816326531*(q7 + q8 + q9)**1.5 + 1)**2 + 38025*(-0.000153846153846154*q9*(q7 + q8 + q9)**0.5 - 4*q9/39 + 4*x9/39 - 11*(q9 - x9)**2/65 - 0.000102564102564103*(q7 + q8 + q9)**1.5 + 1)**2 + (-x1 - x2 - x3 - x4 - x5 - x6 - x7 - x8 - x9 + 2000)**2\n",
      "Warning: Q constraint 0 doesn't have a name\n",
      "Gurobi Optimizer version 11.0.3 build v11.0.3rc0 (win64 - Windows 10.0 (19045.2))\n",
      "\n",
      "CPU model: Intel(R) Core(TM) i7-7700HQ CPU @ 2.80GHz, instruction set [SSE2|AVX|AVX2]\n",
      "Thread count: 4 physical cores, 8 logical processors, using up to 8 threads\n",
      "\n",
      "Optimize a model with 49 rows, 105 columns and 187 nonzeros\n",
      "Model fingerprint: 0xcf2a262f\n",
      "Model has 3 quadratic constraints\n",
      "Model has 43 general constraints\n",
      "Variable types: 105 continuous, 0 integer (0 binary)\n",
      "Coefficient statistics:\n",
      "  Matrix range     [7e-04, 3e+01]\n",
      "  QMatrix range    [2e-04, 2e-04]\n",
      "  QLMatrix range   [1e-04, 1e+00]\n",
      "  Objective range  [1e+00, 4e+04]\n",
      "  Bounds range     [0e+00, 0e+00]\n",
      "  RHS range        [1e+00, 2e+03]\n",
      "  QRHS range       [1e+00, 1e+00]\n",
      "Presolve added 86 rows and 4791 columns\n",
      "Presolve time: 0.03s\n",
      "Presolved: 147 rows, 4896 columns, 14618 nonzeros\n",
      "Presolved model has 43 SOS constraint(s)\n",
      "Presolved model has 3 bilinear constraint(s)\n",
      "\n",
      "Solving non-convex MIQCP\n",
      "\n",
      "Variable types: 4896 continuous, 0 integer (0 binary)\n",
      "\n",
      "Root relaxation: objective 0.000000e+00, 204 iterations, 0.00 seconds (0.00 work units)\n",
      "\n",
      "    Nodes    |    Current Node    |     Objective Bounds      |     Work\n",
      " Expl Unexpl |  Obj  Depth IntInf | Incumbent    BestBd   Gap | It/Node Time\n",
      "\n",
      "     0     0    0.00000    0   19          -    0.00000      -     -    0s\n",
      "     0     0    0.00000    0   20          -    0.00000      -     -    0s\n",
      "     0     0    0.00000    0   20          -    0.00000      -     -    0s\n",
      "     0     0    0.00000    0   20          -    0.00000      -     -    0s\n",
      "     0     0    0.00000    0   20          -    0.00000      -     -    0s\n",
      "     0     0    0.00000    0   20          -    0.00000      -     -    0s\n",
      "     0     0    0.00000    0   20          -    0.00000      -     -    0s\n",
      "     0     0    0.00000    0   22          -    0.00000      -     -    0s\n",
      "     0     0    0.00000    0   24          -    0.00000      -     -    0s\n",
      "     0     0    0.00000    0   23          -    0.00000      -     -    0s\n",
      "     0     0    0.00000    0   23          -    0.00000      -     -    0s\n",
      "     0     0    0.00000    0   22          -    0.00000      -     -    0s\n",
      "     0     0    0.00000    0   19          -    0.00000      -     -    0s\n",
      "     0     0    0.00000    0   21          -    0.00000      -     -    0s\n",
      "     0     0    0.00000    0   20          -    0.00000      -     -    0s\n",
      "     0     0    0.00000    0   20          -    0.00000      -     -    0s\n",
      "     0     0    0.00000    0   21          -    0.00000      -     -    0s\n",
      "     0     0    0.00000    0   21          -    0.00000      -     -    0s\n",
      "     0     0    0.00000    0   21          -    0.00000      -     -    0s\n",
      "     0     0    0.00000    0   21          -    0.00000      -     -    0s\n",
      "     0     0    0.00000    0   21          -    0.00000      -     -    0s\n",
      "     0     0    0.00000    0   21          -    0.00000      -     -    0s\n",
      "     0     0    0.00000    0   21          -    0.00000      -     -    0s\n",
      "     0     0    0.00000    0   21          -    0.00000      -     -    0s\n",
      "     0     0    0.00000    0   21          -    0.00000      -     -    0s\n",
      "     0     0    0.00000    0   21          -    0.00000      -     -    0s\n",
      "     0     0    0.00000    0   21          -    0.00000      -     -    0s\n",
      "     0     0    0.00000    0   22          -    0.00000      -     -    0s\n",
      "     0     0    0.00000    0   22          -    0.00000      -     -    0s\n",
      "     0     0    0.00000    0   22          -    0.00000      -     -    0s\n",
      "     0     0    0.00000    0   22          -    0.00000      -     -    0s\n",
      "     0     0    0.00000    0   22          -    0.00000      -     -    0s\n",
      "     0     0    0.00000    0   22          -    0.00000      -     -    0s\n",
      "     0     0    0.00000    0   22          -    0.00000      -     -    0s\n",
      "     0     2    0.00000    0   22          -    0.00000      -     -    0s\n",
      "*  935   349             112    1046.6531487    0.00000   100%  14.0    1s\n",
      "*  940   349             114    1046.6524489    0.00000   100%  13.9    1s\n",
      "*  941   349             115    1046.6524485    0.00000   100%  13.9    1s\n",
      "  1425   460  298.68935   58  145 1046.65245    0.00000   100%  16.3    5s\n",
      "  2124   601  300.84105   20  238 1046.65245    0.00000   100%  48.1   10s\n",
      "* 2418   627             136    1042.4204175    0.00000   100%  45.4   13s\n",
      "H 2451   495                     734.6185302    0.00000   100%  45.8   13s\n",
      "  2662   605     cutoff   49       734.61853    0.00000   100%  48.5   15s\n",
      "H 2667   362                     185.9765910    0.00000   100%  48.4   15s\n",
      "H 2668   338                     147.1647905    0.00000   100%  48.4   15s\n",
      "H 2760   290                     141.3164306    0.00000   100%  48.4   16s\n",
      "H 2828   286                      90.2500192    0.00000   100%  51.8   16s\n",
      "H 2928   291                      65.5870282    0.00000   100%  54.5   17s\n",
      "H 2976   228                      22.5982030    0.00000   100%  56.5   18s\n",
      "H 2996   220                      11.7081381    0.00000   100%  57.5   18s\n",
      "H 3072   231                       3.0975824    0.00000   100%  59.2   18s\n",
      "H 3106   224                       3.0975482    0.00000   100%  60.1   19s\n",
      "H 3113   224                       2.3882503    0.00000   100%  60.1   19s\n",
      "  3125   254 infeasible   53         2.38825    0.00000   100%  60.2   20s\n",
      "H 3173   254                       2.3766002    0.00000   100%  61.1   20s\n",
      "H 3218   254                       2.2686340    0.00000   100%  61.7   20s\n",
      "H 3243   249                       2.0126468    0.00000   100%  62.2   21s\n",
      "H 3334   265                       1.6360282    0.00000   100%  63.1   21s\n",
      "H 3503   286                       1.5735287    0.00000   100%  62.5   22s\n",
      "H 3546   286                       1.5590143    0.00000   100%  62.3   22s\n",
      "H 3584   286                       1.5039123    0.00000   100%  62.1   22s\n",
      "H 3710   306                       1.0568544    0.00000   100%  61.8   23s\n",
      "H 3791   416                       1.0334697    0.00000   100%  61.7   24s\n",
      "H 3939   416                       0.9945599    0.00000   100%  61.3   24s\n",
      "  4012   540    0.00000   55  125    0.99456    0.00000   100%  61.1   25s\n",
      "H 4028   540                       0.9945505    0.00000   100%  61.0   25s\n",
      "H 4240   540                       0.9861134    0.00000   100%  58.9   25s\n",
      "H 4330   536                       0.8730744    0.00000   100%  59.0   25s\n",
      "H 4400   664                       0.8684475    0.00000   100%  58.6   26s\n",
      "H 4665   657                       0.8206889    0.00000   100%  56.8   26s\n",
      "H 5079   813                       0.6134275    0.00000   100%  54.3   27s\n",
      "H 5436   910                       0.5824977    0.00000   100%  52.3   28s\n",
      "  5816   987 infeasible   75         0.58250    0.00000   100%  51.2   30s\n",
      "H 6338   957                       0.4728013    0.00000   100%  50.3   30s\n",
      "H 6339   940                       0.4727999    0.00000   100%  50.3   31s\n",
      "H 6430   900                       0.3912991    0.00000   100%  50.1   31s\n",
      "H 6650   887                       0.3912984    0.00000   100%  50.6   32s\n",
      "H 6835   875                       0.3912983    0.00000   100%  51.0   33s\n",
      "H 7211   908                       0.3912983    0.00000   100%  52.7   34s\n",
      "  7258   912     cutoff   62         0.39130    0.00000   100%  53.3   35s\n",
      "H 8217  1252                       0.3877209    0.00000   100%  52.2   38s\n",
      "H 8594  1383                       0.3795838    0.00000   100%  51.6   40s\n",
      "H 8615  1239                       0.2051167    0.00000   100%  51.6   40s\n",
      "H 9224  1271                       0.1988647    0.00000   100%  50.1   41s\n",
      "H 9362  1236                       0.1746674    0.00000   100%  49.8   41s\n",
      "H 9874  1428                       0.1718423    0.00000   100%  48.9   42s\n",
      "H10203  1275                       0.1111225    0.00000   100%  48.1   42s\n",
      "H10327   413                       0.0000000    0.00000  0.00%  48.3   42s\n",
      "\n",
      "Cutting planes:\n",
      "  Gomory: 1\n",
      "  Cover: 1\n",
      "  Implied bound: 4\n",
      "  Projected implied bound: 22\n",
      "  Clique: 8\n",
      "  MIR: 4\n",
      "  Flow cover: 6\n",
      "  Relax-and-lift: 13\n",
      "  BQP: 2\n",
      "\n",
      "Explored 10607 nodes (508694 simplex iterations) in 42.94 seconds (51.41 work units)\n",
      "Thread count was 8 (of 8 available processors)\n",
      "\n",
      "Solution count 10: 0 0.111122 0.171842 ... 0.4728\n",
      "\n",
      "Optimal solution found (tolerance 1.00e-04)\n",
      "Warning: max constraint violation (1.2670e-01) exceeds tolerance\n",
      "Warning: max general constraint violation (1.2670e-01) exceeds tolerance\n",
      "  Piecewise linearization of function constraints often causes big violation.\n",
      "  Try to adjust the settings of the related parameters, such as FuncPieces.\n",
      "Best objective 0.000000000000e+00, best bound 0.000000000000e+00, gap 0.0000%\n",
      "Firm firm1 has output 215.3787006422612 and emission 214.47753876303634\n",
      "Firm firm2 has output 215.37870064226158 and emission 214.92465455568404\n",
      "Firm firm3 has output 215.3787006422614 and emission 214.83256700463212\n",
      "Firm firm4 has output 340.3787006422642 and emission 339.9001117419588\n",
      "Firm firm5 has output 340.37870064226405 and emission 339.6065427907787\n",
      "Firm firm6 has output 340.3787006422586 and emission 339.7704301745924\n",
      "Firm firm7 has output 112.54176929024882 and emission 112.04754069302402\n",
      "Firm firm8 has output 112.54177315393326 and emission 112.19517711559969\n",
      "Firm firm9 has output 112.54193812882411 and emission 112.24543716069387\n",
      "Permit price: 13.848519743095464\n"
     ]
    },
    {
     "data": {
      "text/plain": [
       "<gurobi.Model MIP instance Least Squares: 49 constrs, 105 vars, Parameter changes: Username=(user-defined)>"
      ]
     },
     "execution_count": 2,
     "metadata": {},
     "output_type": "execute_result"
    }
   ],
   "source": [
    "x = sp.symbols('x')\n",
    "cap = 2000 # total emission cap\n",
    "Regulator6 = Regulator(\"test1\", permit_price = 2.4079, emission_cap = cap)\n",
    "sector1 = Sector('cement', price_demand_function= 100 - 0.1*x, free_emission_multiplier= 0, regulator= Regulator6)\n",
    "sector2 = Sector('steel', price_demand_function=150 - 0.1*x, free_emission_multiplier= 0, regulator= Regulator6)\n",
    "sector3 = Sector('paper', price_demand_function= 200 - 0.02*x**1.5, free_emission_multiplier= 0, regulator= Regulator6)\n",
    "sector4 = Sector('plastic', price_demand_function= 400 - 0.5*x, free_emission_multiplier= 0, regulator= Regulator6)\n",
    "sector5 = Sector('glass', price_demand_function= 300 - 0.4*x, free_emission_multiplier= 0, regulator= Regulator6)\n",
    "country1 = Country('DE', 1, regulator= Regulator6)\n",
    "country2 = Country('FI', 0.5, regulator= Regulator6)\n",
    "country3 = Country('GR', size= 0.1, regulator= Regulator6)\n",
    "\n",
    "# Create Firms using objects\n",
    "firm1 = Firm('firm1', 1, 1, x*0, 10*x+ 2*x**2 + 0.1*x**3 , 0, 0, 0, regulator= Regulator6)\n",
    "firm2 = Firm('firm2', 1, 2, x*0, 11*x+ 3*x**2 + 0.2*x**3, 0, 0, 0, regulator= Regulator6)\n",
    "firm3 = Firm('firm3', 1, 3, x*0, 5*x+ 4*x**2 + 5*x**3 , 0, 0, 0, regulator= Regulator6)\n",
    "firm4 = Firm('firm4', 2, 1, x*0, 7*x+ 5*x**2 + 3*x**3 , 0, 0, 0, regulator= Regulator6)\n",
    "firm5 = Firm('firm5', 2, 2, x*0, 1*x+ 6*x**2 + 2*x**3 , 0, 0, 0, regulator= Regulator6)\n",
    "firm6 = Firm('firm6', 2, 3, x*0, 2*x+ 7*x**2 + 3*x**3 , 0, 0, 0, regulator= Regulator6)\n",
    "firm7 = Firm('firm7', 3, 1, x*0, 3*x+ 8*x**2 + 4*x**3 , 0, 0, 0, regulator= Regulator6)\n",
    "firm8 = Firm('firm8', 3, 2, x*0, 4*x+ 9*x**2 + 10*x**3 , 0, 0, 0, regulator= Regulator6)\n",
    "firm9 = Firm('firm9', 3, 3, x*0, 5*x+ 10*x**2 + 11*x**3 , 0, 0, 0, regulator= Regulator6)\n",
    "\n",
    "# Regulator6.find_optimal_permit_price_to_meet_the_emission_cap_requirements(precision=0.01)\n",
    "Regulator6.optimization_with_least_squares(gurobi_output= False)"
   ]
  },
  {
   "cell_type": "code",
   "execution_count": 16,
   "metadata": {},
   "outputs": [
    {
     "name": "stdout",
     "output_type": "stream",
     "text": [
      "Firm       | FOC 1        | FOC 2         | SOC 1         | SOC 2        | Hessian      | Status\n",
      "-------------------------------------------------------------------------------------\n",
      "Worst      |   +0.0569 ✔️ |   +0.0174 ✔️ |   -4.5407 ✔️ |   -4.7407 ✔️ |   +0.9081 ✔️ | 5/5\n",
      "firm1      |  +2.44e-4 ✔️ |  -2.44e-4 ✔️ |   -4.5407 ✔️ |   -4.7407 ✔️ |   +0.9081 ✔️ | 5/5\n",
      "firm2      |  +5.49e-4 ✔️ |  -5.49e-4 ✔️ |   -6.5449 ✔️ |   -6.7449 ✔️ |   +1.3090 ✔️ | 5/5\n",
      "firm3      |   +0.0055 ✔️ |   -0.0055 ✔️ |  -24.3840 ✔️ |  -24.5840 ✔️ |   +4.8768 ✔️ | 5/5\n",
      "firm4      |   +0.0012 ✔️ |   -0.0012 ✔️ |  -18.6146 ✔️ |  -18.8146 ✔️ |   +3.7229 ✔️ | 5/5\n",
      "firm5      |   +0.0053 ✔️ |   -0.0053 ✔️ |  -21.2659 ✔️ |  -21.4659 ✔️ |   +4.2532 ✔️ | 5/5\n",
      "firm6      |   +0.0028 ✔️ |   -0.0028 ✔️ |  -24.9489 ✔️ |  -25.1489 ✔️ |   +4.9898 ✔️ | 5/5\n",
      "firm7      |   +0.0494 ✔️ |   -0.0097 ✔️ |  -27.8615 ✔️ |  -29.0558 ✔️ |  +33.2763 ✔️ | 5/5\n",
      "firm8      |   +0.0456 ✔️ |   -0.0059 ✔️ |  -38.7958 ✔️ |  -39.9901 ✔️ |  +46.3356 ✔️ | 5/5\n",
      "firm9      |   +0.0569 ✔️ |   -0.0174 ✔️ |  -39.5691 ✔️ |  -40.7634 ✔️ |  +47.2592 ✔️ | 5/5\n"
     ]
    },
    {
     "data": {
      "text/latex": [
       "$\\displaystyle \\text{True}$"
      ],
      "text/plain": [
       "True"
      ]
     },
     "execution_count": 16,
     "metadata": {},
     "output_type": "execute_result"
    },
    {
     "ename": "",
     "evalue": "",
     "output_type": "error",
     "traceback": [
      "\u001b[1;31mThe Kernel crashed while executing code in the current cell or a previous cell. \n",
      "\u001b[1;31mPlease review the code in the cell(s) to identify a possible cause of the failure. \n",
      "\u001b[1;31mClick <a href='https://aka.ms/vscodeJupyterKernelCrash'>here</a> for more info. \n",
      "\u001b[1;31mView Jupyter <a href='command:jupyter.viewOutput'>log</a> for further details."
     ]
    }
   ],
   "source": [
    "Regulator6.equilibrium_tester(precision = 0.1, full_output=True)"
   ]
  },
  {
   "cell_type": "code",
   "execution_count": 4,
   "metadata": {},
   "outputs": [
    {
     "name": "stdout",
     "output_type": "stream",
     "text": [
      "Permit price: 13.476562price = 13.5, cap = 2000, second_stage = False, a = 1.000Permit price: 13.4765625 and total emission: 1989.4881404534738 and emission cap 2000\n"
     ]
    },
    {
     "data": {
      "text/plain": [
       "13.4765625"
      ]
     },
     "execution_count": 4,
     "metadata": {},
     "output_type": "execute_result"
    }
   ],
   "source": [
    "Regulator6.find_optimal_permit_price_to_meet_the_emission_cap_requirements(precision=0.01,x_high=14, x_low=12, size_of_diffs= 10, permit_price_tolerance= 0.01)"
   ]
  },
  {
   "cell_type": "code",
   "execution_count": 7,
   "metadata": {},
   "outputs": [
    {
     "name": "stdout",
     "output_type": "stream",
     "text": [
      "Firm       | FOC 1        | FOC 2         | SOC 1         | SOC 2        | Hessian      | Status\n",
      "-------------------------------------------------------------------------------------\n",
      "Worst      |   +2.1462 ✔️ |   +0.3581 ✔️ |   -4.4756 ✔️ |   -4.6756 ✔️ |   +0.8951 ✔️ | 5/5\n",
      "firm1      |   +1.5048 ✔️ |   -0.1174 ✔️ |   -4.4756 ✔️ |   -4.6756 ✔️ |   +0.8951 ✔️ | 5/5\n",
      "firm2      |   +1.2827 ✔️ |   +0.1047 ✔️ |   -6.4958 ✔️ |   -6.6958 ✔️ |   +1.2992 ✔️ | 5/5\n",
      "firm3      |   +1.1785 ✔️ |   +0.2090 ✔️ |  -24.1895 ✔️ |  -24.3895 ✔️ |   +4.8379 ✔️ | 5/5\n",
      "firm4      |   +1.8844 ✔️ |   -0.0963 ✔️ |  -18.1574 ✔️ |  -18.3574 ✔️ |   +3.6315 ✔️ | 5/5\n",
      "firm5      |   +2.1462 ✔️ |   -0.3581 ✔️ |  -20.8529 ✔️ |  -21.0529 ✔️ |   +4.1706 ✔️ | 5/5\n",
      "firm6      |   -0.6120 ✔️ |   +0.2355 ✔️ |  -24.8522 ✔️ |  -25.0522 ✔️ |   +4.9704 ✔️ | 5/5\n",
      "firm7      |   -1.1587 ✔️ |   -0.1308 ✔️ |  -27.4335 ✔️ |  -28.6315 ✔️ |  +32.8647 ✔️ | 5/5\n",
      "firm8      |   -1.2827 ✔️ |   -0.0075 ✔️ |  -38.2136 ✔️ |  -39.4116 ✔️ |  +45.7791 ✔️ | 5/5\n",
      "firm9      |   -1.2586 ✔️ |   -0.0325 ✔️ |  -38.9181 ✔️ |  -40.1161 ✔️ |  +46.6231 ✔️ | 5/5\n"
     ]
    },
    {
     "data": {
      "text/latex": [
       "$\\displaystyle \\text{True}$"
      ],
      "text/plain": [
       "True"
      ]
     },
     "execution_count": 7,
     "metadata": {},
     "output_type": "execute_result"
    }
   ],
   "source": [
    "Regulator6.equilibrium_tester(precision = 2.15, full_output=True)"
   ]
  },
  {
   "cell_type": "code",
   "execution_count": 6,
   "metadata": {},
   "outputs": [
    {
     "name": "stdout",
     "output_type": "stream",
     "text": [
      "\u001b[1mThis is bold text\u001b[0m, and this is normal text.\n"
     ]
    }
   ],
   "source": []
  }
 ],
 "metadata": {
  "kernelspec": {
   "display_name": "base",
   "language": "python",
   "name": "python3"
  },
  "language_info": {
   "codemirror_mode": {
    "name": "ipython",
    "version": 3
   },
   "file_extension": ".py",
   "mimetype": "text/x-python",
   "name": "python",
   "nbconvert_exporter": "python",
   "pygments_lexer": "ipython3",
   "version": "3.12.4"
  }
 },
 "nbformat": 4,
 "nbformat_minor": 2
}
