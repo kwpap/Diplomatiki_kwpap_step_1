{
 "cells": [
  {
   "cell_type": "markdown",
   "metadata": {},
   "source": [
    "### Επίδραση του Ορίου Ρίπων στα Κέρδη και άλλες Μεταβλητές των Επιχειρήσεων\n",
    "\n",
    "**Πείραμα:**\n",
    "- Emission cap = 0-100%\n",
    "- 9 εταιρείες\n",
    "- 3 τομείς\n",
    "  - Ο 3ος τομέας έχει **πολύ μεγάλο** μέγεθος σε όρους πωλήσεων\n"
   ]
  },
  {
   "cell_type": "code",
   "execution_count": 1,
   "metadata": {},
   "outputs": [],
   "source": [
    "import sys\n",
    "import os\n",
    "sys.path.append(os.path.abspath(os.path.join('..', 'src')))\n",
    "from funkwpap import *\n",
    "import sympy as sp, pandas as pd, numpy as np, tqdm, time, sys, matplotlib.pyplot as plt, tqdm\n",
    "from statistics import mean\n",
    "from scipy.optimize import fsolve\n",
    "\n"
   ]
  },
  {
   "cell_type": "code",
   "execution_count": 2,
   "metadata": {},
   "outputs": [],
   "source": [
    "x = sp.symbols('x')\n",
    "cap = 2000 # total emission cap\n",
    "Regulator26 = Regulator(\"test1\", permit_price = 2.4079, emission_cap = cap)\n",
    "sector1 = Sector('cement', price_demand_function= 100 - 0.1*x, free_emission_multiplier= 0, regulator= Regulator26)\n",
    "sector2 = Sector('steel', price_demand_function=150 - 0.1*x, free_emission_multiplier= 0, regulator= Regulator26)\n",
    "sector3 = Sector('paper', price_demand_function= 200 - 0.02*x**1.5, free_emission_multiplier= 0, regulator= Regulator26)\n",
    "country1 = Country('DE', 1, regulator= Regulator26)\n",
    "country2 = Country('FI', 0.5, regulator= Regulator26)\n",
    "country3 = Country('GR', size= 0.1, regulator= Regulator26)\n",
    "\n",
    "# Create Firms using objects\n",
    "firm1 = Firm('firm1', 1, 1, x*0, 2*x+ 2*x**2 + 2*x**3 , 0, 0, 0, regulator= Regulator26)\n",
    "firm2 = Firm('firm2', 1, 2, x*0, 3*x+ 3*x**2 + 2*x**3, 0, 0, 0, regulator= Regulator26)\n",
    "firm3 = Firm('firm3', 1, 3, x*0, 1*x+ 3*x**2 + 2*x**3 , 0, 0, 0, regulator= Regulator26)\n",
    "firm4 = Firm('firm4', 2, 1, x*0, 7*x+ 5*x**2 + 3*x**3 , 0, 0, 0, regulator= Regulator26)\n",
    "firm5 = Firm('firm5', 2, 2, x*0, 1*x+ 6*x**2 + 2*x**3 , 0, 0, 0, regulator= Regulator26)\n",
    "firm6 = Firm('firm6', 2, 3, x*0, 2*x+ 7*x**2 + 3*x**3 , 0, 0, 0, regulator= Regulator26)\n",
    "firm7 = Firm('firm7', 3, 1, x*0, 3*x+ 8*x**2 + 4*x**3 , 0, 0, 0, regulator= Regulator26)\n",
    "firm8 = Firm('firm8', 3, 2, x*0, 4*x+ 9*x**2 + 10*x**3 , 0, 0, 0, regulator= Regulator26)\n",
    "firm9 = Firm('firm9', 3, 3, x*0, 5*x+ 10*x**2 + 11*x**3 , 0, 0, 0, regulator= Regulator26)\n",
    "\n"
   ]
  },
  {
   "cell_type": "code",
   "execution_count": 3,
   "metadata": {},
   "outputs": [
    {
     "name": "stdout",
     "output_type": "stream",
     "text": [
      "Set parameter Username\n",
      "Academic license - for non-commercial use only - expires 2025-08-14\n"
     ]
    }
   ],
   "source": [
    "Regulator26.BAU_calculator()"
   ]
  },
  {
   "cell_type": "code",
   "execution_count": 4,
   "metadata": {},
   "outputs": [
    {
     "name": "stderr",
     "output_type": "stream",
     "text": [
      "  0%|          | 0/100 [00:00<?, ?it/s]"
     ]
    },
    {
     "name": "stderr",
     "output_type": "stream",
     "text": [
      "  1%|          | 1/100 [00:01<03:13,  1.95s/it]"
     ]
    },
    {
     "name": "stdout",
     "output_type": "stream",
     "text": [
      "Firm       | FOC 1        | FOC 2         | SOC 1         | SOC 2        | Hessian      | Status\n",
      "-------------------------------------------------------------------------------------\n",
      "Worst      | +101.5139 ⚠️ |  +7.56e-6 ✔️ |  -68.9139 ✔️ |  -69.1139 ✔️ |  +13.7828 ✔️ | 4/5\n"
     ]
    },
    {
     "name": "stderr",
     "output_type": "stream",
     "text": [
      "  2%|▏         | 2/100 [00:03<03:11,  1.96s/it]"
     ]
    },
    {
     "name": "stdout",
     "output_type": "stream",
     "text": [
      "Worst      |  +97.1076 ⚠️ |  +9.61e-6 ✔️ |  -68.1468 ✔️ |  -68.3468 ✔️ |  +13.6294 ✔️ | 4/5\n"
     ]
    },
    {
     "name": "stderr",
     "output_type": "stream",
     "text": [
      "  3%|▎         | 3/100 [00:05<03:15,  2.01s/it]"
     ]
    },
    {
     "name": "stdout",
     "output_type": "stream",
     "text": [
      "Worst      |  +90.6042 ⚠️ |  +1.19e-5 ✔️ |  -66.9986 ✔️ |  -67.1986 ✔️ |  +13.3997 ✔️ | 4/5\n"
     ]
    },
    {
     "name": "stderr",
     "output_type": "stream",
     "text": [
      "  4%|▍         | 4/100 [00:08<03:20,  2.08s/it]"
     ]
    },
    {
     "name": "stdout",
     "output_type": "stream",
     "text": [
      "Worst      |  +82.5289 ⚠️ |  +6.55e-6 ✔️ |  -65.5452 ✔️ |  -65.7452 ✔️ |  +13.1090 ✔️ | 4/5\n"
     ]
    },
    {
     "name": "stderr",
     "output_type": "stream",
     "text": [
      "  5%|▌         | 5/100 [00:10<03:25,  2.16s/it]"
     ]
    },
    {
     "name": "stdout",
     "output_type": "stream",
     "text": [
      "Worst      |  +73.1606 ⚠️ |  +1.72e-7 ✔️ |  -63.8177 ✔️ |  -64.0177 ✔️ |  +12.7635 ✔️ | 4/5\n"
     ]
    },
    {
     "name": "stderr",
     "output_type": "stream",
     "text": [
      "  6%|▌         | 6/100 [00:15<04:53,  3.13s/it]"
     ]
    },
    {
     "name": "stdout",
     "output_type": "stream",
     "text": [
      "Worst      |  +62.6612 ⚠️ |  +7.92e-6 ✔️ |  -61.8249 ✔️ |  -62.0249 ✔️ |  +12.3650 ✔️ | 4/5\n"
     ]
    },
    {
     "name": "stderr",
     "output_type": "stream",
     "text": [
      "  7%|▋         | 7/100 [00:18<04:51,  3.13s/it]"
     ]
    },
    {
     "name": "stdout",
     "output_type": "stream",
     "text": [
      "Worst      |  +51.1347 ⚠️ |  +6.57e-6 ✔️ |  -59.5608 ✔️ |  -59.7608 ✔️ |  +11.9122 ✔️ | 4/5\n"
     ]
    },
    {
     "name": "stderr",
     "output_type": "stream",
     "text": [
      "  8%|▊         | 8/100 [00:21<04:40,  3.05s/it]"
     ]
    },
    {
     "name": "stdout",
     "output_type": "stream",
     "text": [
      "Worst      |  +48.1186 ⚠️ |  +8.71e-6 ✔️ |  -58.9541 ✔️ |  -59.1541 ✔️ |  +11.7908 ✔️ | 4/5\n"
     ]
    },
    {
     "name": "stderr",
     "output_type": "stream",
     "text": [
      "  9%|▉         | 9/100 [00:24<04:25,  2.92s/it]"
     ]
    },
    {
     "name": "stdout",
     "output_type": "stream",
     "text": [
      "Worst      |  +45.7041 ⚠️ |  +2.48e-6 ✔️ |  -58.4639 ✔️ |  -58.6639 ✔️ |  +11.6928 ✔️ | 4/5\n"
     ]
    },
    {
     "name": "stderr",
     "output_type": "stream",
     "text": [
      " 10%|█         | 10/100 [00:26<04:17,  2.86s/it]"
     ]
    },
    {
     "name": "stdout",
     "output_type": "stream",
     "text": [
      "Worst      |  +43.2749 ⚠️ |  +8.35e-6 ✔️ |  -57.9666 ✔️ |  -58.1666 ✔️ |  +11.5933 ✔️ | 4/5\n"
     ]
    },
    {
     "name": "stderr",
     "output_type": "stream",
     "text": [
      " 11%|█         | 11/100 [00:32<05:22,  3.63s/it]"
     ]
    },
    {
     "name": "stdout",
     "output_type": "stream",
     "text": [
      "Worst      |  +40.8430 ⚠️ |  +2.45e-6 ✔️ |  -57.4645 ✔️ |  -57.6645 ✔️ |  +11.4929 ✔️ | 4/5\n"
     ]
    },
    {
     "name": "stderr",
     "output_type": "stream",
     "text": [
      " 12%|█▏        | 12/100 [00:36<05:46,  3.94s/it]"
     ]
    },
    {
     "name": "stdout",
     "output_type": "stream",
     "text": [
      "Worst      |  +38.4125 ⚠️ |  +1.81e-5 ✔️ |  -56.9582 ✔️ |  -57.1582 ✔️ |  +11.3916 ✔️ | 4/5\n"
     ]
    },
    {
     "name": "stderr",
     "output_type": "stream",
     "text": [
      " 13%|█▎        | 13/100 [00:39<05:06,  3.52s/it]"
     ]
    },
    {
     "name": "stdout",
     "output_type": "stream",
     "text": [
      "Worst      |  +35.9728 ⚠️ |  +6.43e-6 ✔️ |  -56.4455 ✔️ |  -56.6455 ✔️ |  +11.2891 ✔️ | 4/5\n"
     ]
    },
    {
     "name": "stderr",
     "output_type": "stream",
     "text": [
      " 14%|█▍        | 14/100 [00:41<04:37,  3.23s/it]"
     ]
    },
    {
     "name": "stdout",
     "output_type": "stream",
     "text": [
      "Worst      |  +33.5225 ⚠️ |  +5.61e-6 ✔️ |  -55.9258 ✔️ |  -56.1258 ✔️ |  +11.1852 ✔️ | 4/5\n"
     ]
    },
    {
     "name": "stderr",
     "output_type": "stream",
     "text": [
      " 15%|█▌        | 15/100 [00:44<04:28,  3.15s/it]"
     ]
    },
    {
     "name": "stdout",
     "output_type": "stream",
     "text": [
      "Worst      |  +31.0699 ⚠️ |  +7.70e-6 ✔️ |  -55.4009 ✔️ |  -55.6009 ✔️ |  +11.0802 ✔️ | 4/5\n"
     ]
    },
    {
     "name": "stderr",
     "output_type": "stream",
     "text": [
      " 16%|█▌        | 16/100 [00:49<04:53,  3.49s/it]"
     ]
    },
    {
     "name": "stdout",
     "output_type": "stream",
     "text": [
      "Worst      |  +28.6150 ⚠️ |  +9.86e-6 ✔️ |  -54.8704 ✔️ |  -55.0704 ✔️ |  +10.9741 ✔️ | 4/5\n"
     ]
    },
    {
     "name": "stderr",
     "output_type": "stream",
     "text": [
      " 17%|█▋        | 17/100 [00:52<04:33,  3.30s/it]"
     ]
    },
    {
     "name": "stdout",
     "output_type": "stream",
     "text": [
      "Worst      |  +26.1577 ⚠️ |  +8.27e-6 ✔️ |  -54.3343 ✔️ |  -54.5343 ✔️ |  +10.8669 ✔️ | 4/5\n"
     ]
    },
    {
     "name": "stderr",
     "output_type": "stream",
     "text": [
      " 18%|█▊        | 18/100 [00:56<05:01,  3.68s/it]"
     ]
    },
    {
     "name": "stdout",
     "output_type": "stream",
     "text": [
      "Worst      |  +23.6833 ⚠️ |  +1.11e-5 ✔️ |  -53.7891 ✔️ |  -53.9891 ✔️ |  +10.7578 ✔️ | 4/5\n"
     ]
    },
    {
     "name": "stderr",
     "output_type": "stream",
     "text": [
      " 19%|█▉        | 19/100 [00:59<04:32,  3.36s/it]"
     ]
    },
    {
     "name": "stdout",
     "output_type": "stream",
     "text": [
      "Worst      |  +21.2075 ⚠️ |  +4.43e-6 ✔️ |  -53.2380 ✔️ |  -53.4380 ✔️ |  +10.6476 ✔️ | 4/5\n"
     ]
    },
    {
     "name": "stderr",
     "output_type": "stream",
     "text": [
      " 20%|██        | 20/100 [01:02<04:31,  3.39s/it]"
     ]
    },
    {
     "name": "stdout",
     "output_type": "stream",
     "text": [
      "Worst      |  +18.7337 ⚠️ |   +0.0040 ✔️ |  -52.6817 ✔️ |  -52.8817 ✔️ |  +10.5363 ✔️ | 4/5\n"
     ]
    },
    {
     "name": "stderr",
     "output_type": "stream",
     "text": [
      " 21%|██        | 21/100 [01:07<05:04,  3.85s/it]"
     ]
    },
    {
     "name": "stdout",
     "output_type": "stream",
     "text": [
      "Worst      |  +16.2580 ⚠️ |  +4.50e-6 ✔️ |  -52.1190 ✔️ |  -52.3190 ✔️ |  +10.4238 ✔️ | 4/5\n"
     ]
    },
    {
     "name": "stderr",
     "output_type": "stream",
     "text": [
      " 22%|██▏       | 22/100 [01:10<04:36,  3.54s/it]"
     ]
    },
    {
     "name": "stdout",
     "output_type": "stream",
     "text": [
      "Worst      |  +13.7805 ⚠️ |  +7.09e-6 ✔️ |  -51.5498 ✔️ |  -51.7498 ✔️ |  +10.3100 ✔️ | 4/5\n"
     ]
    },
    {
     "name": "stderr",
     "output_type": "stream",
     "text": [
      " 23%|██▎       | 23/100 [01:14<04:52,  3.80s/it]"
     ]
    },
    {
     "name": "stdout",
     "output_type": "stream",
     "text": [
      "Worst      |  +11.2885 ⚠️ |  +1.03e-5 ✔️ |  -50.9709 ✔️ |  -51.1709 ✔️ |  +10.1942 ✔️ | 4/5\n"
     ]
    },
    {
     "name": "stderr",
     "output_type": "stream",
     "text": [
      " 24%|██▍       | 24/100 [01:18<04:46,  3.77s/it]"
     ]
    },
    {
     "name": "stdout",
     "output_type": "stream",
     "text": [
      "Worst      |   +8.7931 ⚠️ |  +1.67e-5 ✔️ |  -50.3847 ✔️ |  -50.5847 ✔️ |  +10.0769 ✔️ | 4/5\n"
     ]
    },
    {
     "name": "stderr",
     "output_type": "stream",
     "text": [
      " 25%|██▌       | 25/100 [01:23<05:01,  4.03s/it]"
     ]
    },
    {
     "name": "stdout",
     "output_type": "stream",
     "text": [
      "Worst      |   +6.2961 ⚠️ |  +2.42e-5 ✔️ |  -49.7912 ✔️ |  -49.9912 ✔️ |   +9.9582 ✔️ | 4/5\n"
     ]
    },
    {
     "name": "stderr",
     "output_type": "stream",
     "text": [
      " 26%|██▌       | 26/100 [01:26<04:47,  3.88s/it]"
     ]
    },
    {
     "name": "stdout",
     "output_type": "stream",
     "text": [
      "Worst      |   +3.7976 ⚠️ |  +8.13e-6 ✔️ |  -49.1902 ✔️ |  -49.3902 ✔️ |   +9.8380 ✔️ | 4/5\n"
     ]
    },
    {
     "name": "stderr",
     "output_type": "stream",
     "text": [
      " 27%|██▋       | 27/100 [01:31<04:58,  4.09s/it]"
     ]
    },
    {
     "name": "stdout",
     "output_type": "stream",
     "text": [
      "Worst      |   +1.2972 ⚠️ |  +1.00e-5 ✔️ |  -48.5814 ✔️ |  -48.7814 ✔️ |   +9.7163 ✔️ | 4/5\n"
     ]
    },
    {
     "name": "stderr",
     "output_type": "stream",
     "text": [
      " 28%|██▊       | 28/100 [01:34<04:35,  3.82s/it]"
     ]
    },
    {
     "name": "stdout",
     "output_type": "stream",
     "text": [
      "Worst      |  +4.09e-4 ✔️ |  +3.65e-6 ✔️ |  -48.1013 ✔️ |  -48.3013 ✔️ |   +9.6203 ✔️ | 5/5\n"
     ]
    },
    {
     "name": "stderr",
     "output_type": "stream",
     "text": [
      " 29%|██▉       | 29/100 [01:37<04:19,  3.66s/it]"
     ]
    },
    {
     "name": "stdout",
     "output_type": "stream",
     "text": [
      "Worst      |   +0.0038 ✔️ |  +2.57e-5 ✔️ |  -47.7619 ✔️ |  -47.9619 ✔️ |   +9.5524 ✔️ | 5/5\n"
     ]
    },
    {
     "name": "stderr",
     "output_type": "stream",
     "text": [
      " 30%|███       | 30/100 [01:40<04:01,  3.45s/it]"
     ]
    },
    {
     "name": "stdout",
     "output_type": "stream",
     "text": [
      "Worst      |   +0.0300 ✔️ |  +2.18e-5 ✔️ |  -47.4194 ✔️ |  -47.6194 ✔️ |   +9.4839 ✔️ | 5/5\n"
     ]
    },
    {
     "name": "stderr",
     "output_type": "stream",
     "text": [
      " 31%|███       | 31/100 [01:44<03:53,  3.39s/it]"
     ]
    },
    {
     "name": "stdout",
     "output_type": "stream",
     "text": [
      "Worst      |   +0.0408 ✔️ |  +1.81e-5 ✔️ |  -47.0747 ✔️ |  -47.2747 ✔️ |   +9.4149 ✔️ | 5/5\n"
     ]
    },
    {
     "name": "stderr",
     "output_type": "stream",
     "text": [
      " 32%|███▏      | 32/100 [01:47<03:54,  3.45s/it]"
     ]
    },
    {
     "name": "stdout",
     "output_type": "stream",
     "text": [
      "Worst      |   +0.0467 ✔️ |  +2.21e-5 ✔️ |  -46.7274 ✔️ |  -46.9274 ✔️ |   +9.3455 ✔️ | 5/5\n"
     ]
    },
    {
     "name": "stderr",
     "output_type": "stream",
     "text": [
      " 33%|███▎      | 33/100 [01:50<03:43,  3.34s/it]"
     ]
    },
    {
     "name": "stdout",
     "output_type": "stream",
     "text": [
      "Worst      |   +0.0502 ✔️ |  +4.52e-6 ✔️ |  -46.3774 ✔️ |  -46.5774 ✔️ |   +9.2755 ✔️ | 5/5\n"
     ]
    },
    {
     "name": "stderr",
     "output_type": "stream",
     "text": [
      " 34%|███▍      | 34/100 [01:54<03:47,  3.44s/it]"
     ]
    },
    {
     "name": "stdout",
     "output_type": "stream",
     "text": [
      "Worst      |   +0.0504 ✔️ |  +5.94e-6 ✔️ |  -46.0248 ✔️ |  -46.2248 ✔️ |   +9.2050 ✔️ | 5/5\n"
     ]
    },
    {
     "name": "stderr",
     "output_type": "stream",
     "text": [
      " 35%|███▌      | 35/100 [01:57<03:36,  3.33s/it]"
     ]
    },
    {
     "name": "stdout",
     "output_type": "stream",
     "text": [
      "Worst      |   +0.0475 ✔️ |  +6.61e-6 ✔️ |  -45.6694 ✔️ |  -45.8694 ✔️ |   +9.1339 ✔️ | 5/5\n"
     ]
    },
    {
     "name": "stderr",
     "output_type": "stream",
     "text": [
      " 36%|███▌      | 36/100 [02:01<03:53,  3.65s/it]"
     ]
    },
    {
     "name": "stdout",
     "output_type": "stream",
     "text": [
      "Worst      |   +0.0415 ✔️ |  +9.35e-6 ✔️ |  -45.3112 ✔️ |  -45.5112 ✔️ |   +9.0622 ✔️ | 5/5\n"
     ]
    },
    {
     "name": "stderr",
     "output_type": "stream",
     "text": [
      " 37%|███▋      | 37/100 [02:05<03:43,  3.56s/it]"
     ]
    },
    {
     "name": "stdout",
     "output_type": "stream",
     "text": [
      "Worst      |   +0.0323 ✔️ |  +2.76e-7 ✔️ |  -44.9501 ✔️ |  -45.1501 ✔️ |   +8.9900 ✔️ | 5/5\n"
     ]
    },
    {
     "name": "stderr",
     "output_type": "stream",
     "text": [
      " 38%|███▊      | 38/100 [02:08<03:30,  3.39s/it]"
     ]
    },
    {
     "name": "stdout",
     "output_type": "stream",
     "text": [
      "Worst      |   +0.0201 ✔️ |  +2.39e-6 ✔️ |  -44.5861 ✔️ |  -44.7861 ✔️ |   +8.9172 ✔️ | 5/5\n"
     ]
    },
    {
     "name": "stderr",
     "output_type": "stream",
     "text": [
      " 39%|███▉      | 39/100 [02:12<03:50,  3.78s/it]"
     ]
    },
    {
     "name": "stdout",
     "output_type": "stream",
     "text": [
      "Worst      |   +0.0049 ✔️ |  +3.66e-6 ✔️ |  -44.2190 ✔️ |  -44.4190 ✔️ |   +8.8438 ✔️ | 5/5\n"
     ]
    },
    {
     "name": "stderr",
     "output_type": "stream",
     "text": [
      " 40%|████      | 40/100 [02:16<03:40,  3.67s/it]"
     ]
    },
    {
     "name": "stdout",
     "output_type": "stream",
     "text": [
      "Worst      |   +0.0133 ✔️ |  +1.02e-5 ✔️ |  -43.8489 ✔️ |  -44.0489 ✔️ |   +8.7698 ✔️ | 5/5\n"
     ]
    },
    {
     "name": "stderr",
     "output_type": "stream",
     "text": [
      " 41%|████      | 41/100 [02:20<03:50,  3.90s/it]"
     ]
    },
    {
     "name": "stdout",
     "output_type": "stream",
     "text": [
      "Worst      |   +0.0345 ✔️ |  +6.50e-6 ✔️ |  -43.4756 ✔️ |  -43.6756 ✔️ |   +8.6951 ✔️ | 5/5\n"
     ]
    },
    {
     "name": "stderr",
     "output_type": "stream",
     "text": [
      " 42%|████▏     | 42/100 [02:23<03:22,  3.49s/it]"
     ]
    },
    {
     "name": "stdout",
     "output_type": "stream",
     "text": [
      "Worst      |   +0.0229 ✔️ |  +5.20e-6 ✔️ |  -43.0981 ✔️ |  -43.2981 ✔️ |   +8.6196 ✔️ | 5/5\n"
     ]
    },
    {
     "name": "stderr",
     "output_type": "stream",
     "text": [
      " 43%|████▎     | 43/100 [02:27<03:28,  3.65s/it]"
     ]
    },
    {
     "name": "stdout",
     "output_type": "stream",
     "text": [
      "Worst      |   +0.0028 ✔️ |  +1.07e-5 ✔️ |  -42.7171 ✔️ |  -42.9171 ✔️ |   +8.5434 ✔️ | 5/5\n"
     ]
    },
    {
     "name": "stderr",
     "output_type": "stream",
     "text": [
      " 44%|████▍     | 44/100 [02:30<03:23,  3.64s/it]"
     ]
    },
    {
     "name": "stdout",
     "output_type": "stream",
     "text": [
      "Worst      |   +0.0145 ✔️ |  +2.06e-9 ✔️ |  -42.3326 ✔️ |  -42.5326 ✔️ |   +8.4665 ✔️ | 5/5\n"
     ]
    },
    {
     "name": "stderr",
     "output_type": "stream",
     "text": [
      " 45%|████▌     | 45/100 [02:34<03:12,  3.51s/it]"
     ]
    },
    {
     "name": "stdout",
     "output_type": "stream",
     "text": [
      "Worst      |   +0.0290 ✔️ |  +2.48e-5 ✔️ |  -41.9445 ✔️ |  -42.1445 ✔️ |   +8.3889 ✔️ | 5/5\n"
     ]
    },
    {
     "name": "stderr",
     "output_type": "stream",
     "text": [
      " 46%|████▌     | 46/100 [02:37<03:03,  3.41s/it]"
     ]
    },
    {
     "name": "stdout",
     "output_type": "stream",
     "text": [
      "Worst      |   +0.0417 ✔️ |  +2.82e-5 ✔️ |  -41.5529 ✔️ |  -41.7529 ✔️ |   +8.3106 ✔️ | 5/5\n"
     ]
    },
    {
     "name": "stderr",
     "output_type": "stream",
     "text": [
      " 47%|████▋     | 47/100 [02:41<03:08,  3.55s/it]"
     ]
    },
    {
     "name": "stdout",
     "output_type": "stream",
     "text": [
      "Worst      |   +0.0502 ✔️ |  +9.42e-6 ✔️ |  -41.1575 ✔️ |  -41.3575 ✔️ |   +8.2315 ✔️ | 5/5\n"
     ]
    },
    {
     "name": "stderr",
     "output_type": "stream",
     "text": [
      " 48%|████▊     | 48/100 [02:44<03:01,  3.48s/it]"
     ]
    },
    {
     "name": "stdout",
     "output_type": "stream",
     "text": [
      "Worst      |   +0.0568 ✔️ |  +3.05e-5 ✔️ |  -40.7582 ✔️ |  -40.9582 ✔️ |   +8.1516 ✔️ | 5/5\n"
     ]
    },
    {
     "name": "stderr",
     "output_type": "stream",
     "text": [
      " 49%|████▉     | 49/100 [02:47<02:52,  3.38s/it]"
     ]
    },
    {
     "name": "stdout",
     "output_type": "stream",
     "text": [
      "Worst      |   +0.0628 ✔️ |  +8.69e-6 ✔️ |  -40.3550 ✔️ |  -40.5550 ✔️ |   +8.0710 ✔️ | 5/5\n"
     ]
    },
    {
     "name": "stderr",
     "output_type": "stream",
     "text": [
      " 50%|█████     | 50/100 [02:50<02:46,  3.34s/it]"
     ]
    },
    {
     "name": "stdout",
     "output_type": "stream",
     "text": [
      "Worst      |   +0.0623 ✔️ |  +2.39e-5 ✔️ |  -39.9477 ✔️ |  -40.1477 ✔️ |   +7.9895 ✔️ | 5/5\n"
     ]
    },
    {
     "name": "stderr",
     "output_type": "stream",
     "text": [
      " 51%|█████     | 51/100 [02:53<02:34,  3.15s/it]"
     ]
    },
    {
     "name": "stdout",
     "output_type": "stream",
     "text": [
      "Worst      |   +0.0612 ✔️ |  +1.39e-5 ✔️ |  -39.5361 ✔️ |  -39.7361 ✔️ |   +7.9072 ✔️ | 5/5\n"
     ]
    },
    {
     "name": "stderr",
     "output_type": "stream",
     "text": [
      " 52%|█████▏    | 52/100 [02:55<02:19,  2.91s/it]"
     ]
    },
    {
     "name": "stdout",
     "output_type": "stream",
     "text": [
      "Worst      |   +0.0576 ✔️ |  +1.03e-5 ✔️ |  -39.1203 ✔️ |  -39.3203 ✔️ |   +7.8241 ✔️ | 5/5\n"
     ]
    },
    {
     "name": "stderr",
     "output_type": "stream",
     "text": [
      " 53%|█████▎    | 53/100 [02:59<02:22,  3.04s/it]"
     ]
    },
    {
     "name": "stdout",
     "output_type": "stream",
     "text": [
      "Worst      |   +0.0515 ✔️ |  +2.75e-5 ✔️ |  -38.7000 ✔️ |  -38.9000 ✔️ |   +7.7400 ✔️ | 5/5\n"
     ]
    },
    {
     "name": "stderr",
     "output_type": "stream",
     "text": [
      " 54%|█████▍    | 54/100 [03:02<02:18,  3.01s/it]"
     ]
    },
    {
     "name": "stdout",
     "output_type": "stream",
     "text": [
      "Worst      |   +0.0387 ✔️ |  +8.82e-6 ✔️ |  -38.2751 ✔️ |  -38.4751 ✔️ |   +7.6550 ✔️ | 5/5\n"
     ]
    },
    {
     "name": "stderr",
     "output_type": "stream",
     "text": [
      " 55%|█████▌    | 55/100 [03:05<02:15,  3.01s/it]"
     ]
    },
    {
     "name": "stdout",
     "output_type": "stream",
     "text": [
      "Worst      |   +0.0137 ✔️ |  +1.14e-5 ✔️ |  -37.8458 ✔️ |  -38.0458 ✔️ |   +7.5692 ✔️ | 5/5\n"
     ]
    },
    {
     "name": "stderr",
     "output_type": "stream",
     "text": [
      " 56%|█████▌    | 56/100 [03:07<02:08,  2.92s/it]"
     ]
    },
    {
     "name": "stdout",
     "output_type": "stream",
     "text": [
      "Worst      |   +0.0139 ✔️ |  +1.69e-5 ✔️ |  -37.4115 ✔️ |  -37.6115 ✔️ |   +7.4823 ✔️ | 5/5\n"
     ]
    },
    {
     "name": "stderr",
     "output_type": "stream",
     "text": [
      " 57%|█████▋    | 57/100 [03:10<02:05,  2.91s/it]"
     ]
    },
    {
     "name": "stdout",
     "output_type": "stream",
     "text": [
      "Worst      |   +0.0017 ✔️ |  +1.08e-6 ✔️ |  -36.9709 ✔️ |  -37.1709 ✔️ |   +7.3942 ✔️ | 5/5\n"
     ]
    },
    {
     "name": "stderr",
     "output_type": "stream",
     "text": [
      " 58%|█████▊    | 58/100 [03:13<02:03,  2.94s/it]"
     ]
    },
    {
     "name": "stdout",
     "output_type": "stream",
     "text": [
      "Worst      |   +0.0164 ✔️ |  +2.42e-7 ✔️ |  -36.5250 ✔️ |  -36.7250 ✔️ |   +7.3050 ✔️ | 5/5\n"
     ]
    },
    {
     "name": "stderr",
     "output_type": "stream",
     "text": [
      " 59%|█████▉    | 59/100 [03:17<02:04,  3.03s/it]"
     ]
    },
    {
     "name": "stdout",
     "output_type": "stream",
     "text": [
      "Worst      |   +0.0287 ✔️ |  +3.30e-5 ✔️ |  -36.0736 ✔️ |  -36.2736 ✔️ |   +7.2147 ✔️ | 5/5\n"
     ]
    },
    {
     "name": "stderr",
     "output_type": "stream",
     "text": [
      " 60%|██████    | 60/100 [03:20<02:00,  3.00s/it]"
     ]
    },
    {
     "name": "stdout",
     "output_type": "stream",
     "text": [
      "Worst      |   +0.0388 ✔️ |  +2.88e-5 ✔️ |  -35.6165 ✔️ |  -35.8165 ✔️ |   +7.1233 ✔️ | 5/5\n"
     ]
    },
    {
     "name": "stderr",
     "output_type": "stream",
     "text": [
      " 61%|██████    | 61/100 [03:23<01:57,  3.02s/it]"
     ]
    },
    {
     "name": "stdout",
     "output_type": "stream",
     "text": [
      "Worst      |   +0.0460 ✔️ |  +1.72e-5 ✔️ |  -35.1535 ✔️ |  -35.3535 ✔️ |   +7.0307 ✔️ | 5/5\n"
     ]
    },
    {
     "name": "stderr",
     "output_type": "stream",
     "text": [
      " 62%|██████▏   | 62/100 [03:26<01:59,  3.16s/it]"
     ]
    },
    {
     "name": "stdout",
     "output_type": "stream",
     "text": [
      "Worst      |   +0.0511 ✔️ |  +1.14e-5 ✔️ |  -34.6843 ✔️ |  -34.8843 ✔️ |   +6.9369 ✔️ | 5/5\n"
     ]
    },
    {
     "name": "stderr",
     "output_type": "stream",
     "text": [
      " 63%|██████▎   | 63/100 [03:29<01:55,  3.11s/it]"
     ]
    },
    {
     "name": "stdout",
     "output_type": "stream",
     "text": [
      "Worst      |   +0.0538 ✔️ |  +1.08e-5 ✔️ |  -34.2087 ✔️ |  -34.4087 ✔️ |   +6.8417 ✔️ | 5/5\n"
     ]
    },
    {
     "name": "stderr",
     "output_type": "stream",
     "text": [
      " 64%|██████▍   | 64/100 [03:33<01:56,  3.24s/it]"
     ]
    },
    {
     "name": "stdout",
     "output_type": "stream",
     "text": [
      "Worst      |   +0.0542 ✔️ |  +1.07e-5 ✔️ |  -33.7264 ✔️ |  -33.9264 ✔️ |   +6.7453 ✔️ | 5/5\n"
     ]
    },
    {
     "name": "stderr",
     "output_type": "stream",
     "text": [
      " 65%|██████▌   | 65/100 [03:36<01:53,  3.23s/it]"
     ]
    },
    {
     "name": "stdout",
     "output_type": "stream",
     "text": [
      "Worst      |   +0.0537 ✔️ |  +2.84e-5 ✔️ |  -33.2372 ✔️ |  -33.4372 ✔️ |   +6.6474 ✔️ | 5/5\n"
     ]
    },
    {
     "name": "stderr",
     "output_type": "stream",
     "text": [
      " 66%|██████▌   | 66/100 [03:39<01:47,  3.16s/it]"
     ]
    },
    {
     "name": "stdout",
     "output_type": "stream",
     "text": [
      "Worst      |   +0.0480 ✔️ |  +7.70e-6 ✔️ |  -32.7407 ✔️ |  -32.9407 ✔️ |   +6.5481 ✔️ | 5/5\n"
     ]
    },
    {
     "name": "stderr",
     "output_type": "stream",
     "text": [
      " 67%|██████▋   | 67/100 [03:43<01:51,  3.37s/it]"
     ]
    },
    {
     "name": "stdout",
     "output_type": "stream",
     "text": [
      "Worst      |   +0.0416 ✔️ |  +2.15e-5 ✔️ |  -32.2366 ✔️ |  -32.4366 ✔️ |   +6.4473 ✔️ | 5/5\n"
     ]
    },
    {
     "name": "stderr",
     "output_type": "stream",
     "text": [
      " 68%|██████▊   | 68/100 [03:45<01:36,  3.02s/it]"
     ]
    },
    {
     "name": "stdout",
     "output_type": "stream",
     "text": [
      "Worst      |   +0.0328 ✔️ |  +1.19e-6 ✔️ |  -31.7246 ✔️ |  -31.9246 ✔️ |   +6.3449 ✔️ | 5/5\n"
     ]
    },
    {
     "name": "stderr",
     "output_type": "stream",
     "text": [
      " 69%|██████▉   | 69/100 [03:48<01:36,  3.11s/it]"
     ]
    },
    {
     "name": "stdout",
     "output_type": "stream",
     "text": [
      "Worst      |   +0.0219 ✔️ |  +1.86e-5 ✔️ |  -31.2042 ✔️ |  -31.4042 ✔️ |   +6.2408 ✔️ | 5/5\n"
     ]
    },
    {
     "name": "stderr",
     "output_type": "stream",
     "text": [
      " 70%|███████   | 70/100 [03:51<01:34,  3.16s/it]"
     ]
    },
    {
     "name": "stdout",
     "output_type": "stream",
     "text": [
      "Worst      |   +0.0087 ✔️ |  +2.57e-5 ✔️ |  -30.6750 ✔️ |  -30.8750 ✔️ |   +6.1350 ✔️ | 5/5\n"
     ]
    },
    {
     "name": "stderr",
     "output_type": "stream",
     "text": [
      " 71%|███████   | 71/100 [03:55<01:32,  3.19s/it]"
     ]
    },
    {
     "name": "stdout",
     "output_type": "stream",
     "text": [
      "Worst      |   +0.0066 ✔️ |  +1.72e-5 ✔️ |  -30.1366 ✔️ |  -30.3366 ✔️ |   +6.0273 ✔️ | 5/5\n"
     ]
    },
    {
     "name": "stderr",
     "output_type": "stream",
     "text": [
      " 72%|███████▏  | 72/100 [03:58<01:30,  3.23s/it]"
     ]
    },
    {
     "name": "stdout",
     "output_type": "stream",
     "text": [
      "Worst      |   +0.0241 ✔️ |  +1.81e-6 ✔️ |  -29.5885 ✔️ |  -29.7885 ✔️ |   +5.9177 ✔️ | 5/5\n"
     ]
    },
    {
     "name": "stderr",
     "output_type": "stream",
     "text": [
      " 73%|███████▎  | 73/100 [04:01<01:27,  3.24s/it]"
     ]
    },
    {
     "name": "stdout",
     "output_type": "stream",
     "text": [
      "Worst      |   +0.0437 ✔️ |  +4.36e-6 ✔️ |  -29.0302 ✔️ |  -29.2302 ✔️ |   +5.8060 ✔️ | 5/5\n"
     ]
    },
    {
     "name": "stderr",
     "output_type": "stream",
     "text": [
      " 74%|███████▍  | 74/100 [04:04<01:22,  3.17s/it]"
     ]
    },
    {
     "name": "stdout",
     "output_type": "stream",
     "text": [
      "Worst      |   +0.0295 ✔️ |  +1.45e-5 ✔️ |  -28.4598 ✔️ |  -28.6598 ✔️ |   +5.6920 ✔️ | 5/5\n"
     ]
    },
    {
     "name": "stderr",
     "output_type": "stream",
     "text": [
      " 75%|███████▌  | 75/100 [04:08<01:24,  3.38s/it]"
     ]
    },
    {
     "name": "stdout",
     "output_type": "stream",
     "text": [
      "Worst      |   +0.0064 ✔️ |  +6.39e-6 ✔️ |  -27.8776 ✔️ |  -28.0776 ✔️ |   +5.5755 ✔️ | 5/5\n"
     ]
    },
    {
     "name": "stderr",
     "output_type": "stream",
     "text": [
      " 76%|███████▌  | 76/100 [04:11<01:20,  3.36s/it]"
     ]
    },
    {
     "name": "stdout",
     "output_type": "stream",
     "text": [
      "Worst      |   +0.0147 ✔️ |  +1.78e-5 ✔️ |  -27.2830 ✔️ |  -27.4830 ✔️ |   +5.4566 ✔️ | 5/5\n"
     ]
    },
    {
     "name": "stderr",
     "output_type": "stream",
     "text": [
      " 77%|███████▋  | 77/100 [04:16<01:23,  3.63s/it]"
     ]
    },
    {
     "name": "stdout",
     "output_type": "stream",
     "text": [
      "Worst      |   +0.0339 ✔️ |  +2.85e-6 ✔️ |  -26.6753 ✔️ |  -26.8753 ✔️ |   +5.3351 ✔️ | 5/5\n"
     ]
    },
    {
     "name": "stderr",
     "output_type": "stream",
     "text": [
      " 78%|███████▊  | 78/100 [04:19<01:17,  3.52s/it]"
     ]
    },
    {
     "name": "stdout",
     "output_type": "stream",
     "text": [
      "Worst      |   +0.0510 ✔️ |  +5.67e-6 ✔️ |  -26.0537 ✔️ |  -26.2537 ✔️ |   +5.2107 ✔️ | 5/5\n"
     ]
    },
    {
     "name": "stderr",
     "output_type": "stream",
     "text": [
      " 79%|███████▉  | 79/100 [04:23<01:15,  3.61s/it]"
     ]
    },
    {
     "name": "stdout",
     "output_type": "stream",
     "text": [
      "Worst      |   +0.0662 ✔️ |  +2.26e-5 ✔️ |  -25.4170 ✔️ |  -25.6170 ✔️ |   +5.0834 ✔️ | 5/5\n"
     ]
    },
    {
     "name": "stderr",
     "output_type": "stream",
     "text": [
      " 80%|████████  | 80/100 [04:26<01:12,  3.61s/it]"
     ]
    },
    {
     "name": "stdout",
     "output_type": "stream",
     "text": [
      "Worst      |   +0.0794 ✔️ |  +5.37e-6 ✔️ |  -24.7641 ✔️ |  -24.9641 ✔️ |   +4.9528 ✔️ | 5/5\n"
     ]
    },
    {
     "name": "stderr",
     "output_type": "stream",
     "text": [
      " 81%|████████  | 81/100 [04:29<01:04,  3.42s/it]"
     ]
    },
    {
     "name": "stdout",
     "output_type": "stream",
     "text": [
      "Worst      |   +0.0907 ✔️ |  +6.59e-6 ✔️ |  -24.0939 ✔️ |  -24.2939 ✔️ |   +4.8188 ✔️ | 5/5\n"
     ]
    },
    {
     "name": "stderr",
     "output_type": "stream",
     "text": [
      " 82%|████████▏ | 82/100 [04:34<01:06,  3.69s/it]"
     ]
    },
    {
     "name": "stdout",
     "output_type": "stream",
     "text": [
      "Worst      |   +0.1001 ⚠️ |  +3.16e-6 ✔️ |  -23.4047 ✔️ |  -23.6047 ✔️ |   +4.6809 ✔️ | 4/5\n"
     ]
    },
    {
     "name": "stderr",
     "output_type": "stream",
     "text": [
      " 83%|████████▎ | 83/100 [04:38<01:04,  3.77s/it]"
     ]
    },
    {
     "name": "stdout",
     "output_type": "stream",
     "text": [
      "Worst      |   +0.1076 ⚠️ |  +5.71e-6 ✔️ |  -22.6948 ✔️ |  -22.8948 ✔️ |   +4.5390 ✔️ | 4/5\n"
     ]
    },
    {
     "name": "stderr",
     "output_type": "stream",
     "text": [
      " 84%|████████▍ | 84/100 [04:42<01:03,  3.99s/it]"
     ]
    },
    {
     "name": "stdout",
     "output_type": "stream",
     "text": [
      "Worst      |   +0.1132 ⚠️ |  +7.06e-6 ✔️ |  -21.9624 ✔️ |  -22.1624 ✔️ |   +4.3925 ✔️ | 4/5\n"
     ]
    },
    {
     "name": "stderr",
     "output_type": "stream",
     "text": [
      " 85%|████████▌ | 85/100 [04:46<00:59,  3.94s/it]"
     ]
    },
    {
     "name": "stdout",
     "output_type": "stream",
     "text": [
      "Worst      |   +0.1120 ⚠️ |  +4.57e-6 ✔️ |  -21.2054 ✔️ |  -21.4054 ✔️ |   +4.2411 ✔️ | 4/5\n"
     ]
    },
    {
     "name": "stderr",
     "output_type": "stream",
     "text": [
      " 86%|████████▌ | 86/100 [04:50<00:54,  3.87s/it]"
     ]
    },
    {
     "name": "stdout",
     "output_type": "stream",
     "text": [
      "Worst      |   +0.1004 ⚠️ |  +2.04e-5 ✔️ |  -20.4211 ✔️ |  -20.6211 ✔️ |   +4.0842 ✔️ | 4/5\n"
     ]
    },
    {
     "name": "stderr",
     "output_type": "stream",
     "text": [
      " 87%|████████▋ | 87/100 [04:53<00:47,  3.67s/it]"
     ]
    },
    {
     "name": "stdout",
     "output_type": "stream",
     "text": [
      "Worst      |   +0.0865 ✔️ |  +1.25e-5 ✔️ |  -19.6060 ✔️ |  -19.8060 ✔️ |   +3.9212 ✔️ | 5/5\n"
     ]
    },
    {
     "name": "stderr",
     "output_type": "stream",
     "text": [
      " 88%|████████▊ | 88/100 [04:57<00:44,  3.72s/it]"
     ]
    },
    {
     "name": "stdout",
     "output_type": "stream",
     "text": [
      "Worst      |   +0.0708 ✔️ |  +2.68e-5 ✔️ |  -18.7562 ✔️ |  -18.9562 ✔️ |   +3.7512 ✔️ | 5/5\n"
     ]
    },
    {
     "name": "stderr",
     "output_type": "stream",
     "text": [
      " 89%|████████▉ | 89/100 [05:01<00:43,  3.99s/it]"
     ]
    },
    {
     "name": "stdout",
     "output_type": "stream",
     "text": [
      "Worst      |   +0.0532 ✔️ |  +2.17e-6 ✔️ |  -17.8669 ✔️ |  -18.0669 ✔️ |   +3.5734 ✔️ | 5/5\n"
     ]
    },
    {
     "name": "stderr",
     "output_type": "stream",
     "text": [
      " 90%|█████████ | 90/100 [05:05<00:39,  3.97s/it]"
     ]
    },
    {
     "name": "stdout",
     "output_type": "stream",
     "text": [
      "Worst      |   +0.0336 ✔️ |  +2.29e-6 ✔️ |  -16.9318 ✔️ |  -17.1318 ✔️ |   +3.3864 ✔️ | 5/5\n"
     ]
    },
    {
     "name": "stderr",
     "output_type": "stream",
     "text": [
      " 91%|█████████ | 91/100 [05:09<00:34,  3.83s/it]"
     ]
    },
    {
     "name": "stdout",
     "output_type": "stream",
     "text": [
      "Worst      |   +0.0122 ✔️ |  +8.32e-6 ✔️ |  -15.9433 ✔️ |  -16.1433 ✔️ |   +3.1887 ✔️ | 5/5\n"
     ]
    },
    {
     "name": "stderr",
     "output_type": "stream",
     "text": [
      " 92%|█████████▏| 92/100 [05:12<00:30,  3.76s/it]"
     ]
    },
    {
     "name": "stdout",
     "output_type": "stream",
     "text": [
      "Worst      |   +0.0110 ✔️ |  +4.85e-6 ✔️ |  -14.8908 ✔️ |  -15.0908 ✔️ |   +2.9782 ✔️ | 5/5\n"
     ]
    },
    {
     "name": "stderr",
     "output_type": "stream",
     "text": [
      " 93%|█████████▎| 93/100 [05:16<00:25,  3.69s/it]"
     ]
    },
    {
     "name": "stdout",
     "output_type": "stream",
     "text": [
      "Worst      |   +0.0361 ✔️ |  +4.00e-6 ✔️ |  -13.6387 ✔️ |  -13.8387 ✔️ |   +2.7277 ✔️ | 5/5\n"
     ]
    },
    {
     "name": "stderr",
     "output_type": "stream",
     "text": [
      " 94%|█████████▍| 94/100 [05:20<00:22,  3.69s/it]"
     ]
    },
    {
     "name": "stdout",
     "output_type": "stream",
     "text": [
      "Worst      |   +0.0353 ✔️ |  +2.57e-5 ✔️ |  -11.7243 ✔️ |  -11.9243 ✔️ |   +2.3449 ✔️ | 5/5\n"
     ]
    },
    {
     "name": "stderr",
     "output_type": "stream",
     "text": [
      " 95%|█████████▌| 95/100 [05:23<00:18,  3.64s/it]"
     ]
    },
    {
     "name": "stdout",
     "output_type": "stream",
     "text": [
      "Worst      |   +0.3070 ⚠️ |   +0.3070 ⚠️ |  -10.0000 ✔️ |  -10.2000 ✔️ |   +2.0000 ✔️ | 3/5\n"
     ]
    },
    {
     "name": "stderr",
     "output_type": "stream",
     "text": [
      " 96%|█████████▌| 96/100 [05:27<00:14,  3.58s/it]"
     ]
    },
    {
     "name": "stdout",
     "output_type": "stream",
     "text": [
      "Worst      |   +1.6563 ⚠️ |   +1.6563 ⚠️ |   -9.6046 ✔️ |   -9.8046 ✔️ |   +1.9209 ✔️ | 3/5\n"
     ]
    },
    {
     "name": "stderr",
     "output_type": "stream",
     "text": [
      " 97%|█████████▋| 97/100 [05:32<00:12,  4.11s/it]"
     ]
    },
    {
     "name": "stdout",
     "output_type": "stream",
     "text": [
      "Worst      |   +3.0028 ⚠️ |   +3.0028 ⚠️ |   -7.7417 ✔️ |   -7.9417 ✔️ |   +1.5483 ✔️ | 3/5\n"
     ]
    },
    {
     "name": "stderr",
     "output_type": "stream",
     "text": [
      " 98%|█████████▊| 98/100 [05:37<00:08,  4.46s/it]"
     ]
    },
    {
     "name": "stdout",
     "output_type": "stream",
     "text": [
      "Worst      |   +4.3509 ⚠️ |   +4.3509 ⚠️ |   -5.6195 ✔️ |   -5.8195 ✔️ |   +1.1239 ✔️ | 3/5\n"
     ]
    },
    {
     "name": "stderr",
     "output_type": "stream",
     "text": [
      " 99%|█████████▉| 99/100 [05:41<00:04,  4.39s/it]"
     ]
    },
    {
     "name": "stdout",
     "output_type": "stream",
     "text": [
      "Worst      |   +5.0000 ⚠️ |   +5.0000 ⚠️ |   -4.0000 ✔️ |   -4.2000 ✔️ |   +0.8000 ✔️ | 3/5\n"
     ]
    },
    {
     "name": "stderr",
     "output_type": "stream",
     "text": [
      "100%|██████████| 100/100 [05:46<00:00,  3.47s/it]"
     ]
    },
    {
     "name": "stdout",
     "output_type": "stream",
     "text": [
      "Worst      |  +13.7042 ⚠️ |   +5.0000 ⚠️ |   -4.0000 ✔️ |   -4.2000 ✔️ |   +0.8000 ✔️ | 3/5\n"
     ]
    },
    {
     "name": "stderr",
     "output_type": "stream",
     "text": [
      "\n"
     ]
    }
   ],
   "source": [
    "# Define the percentages of BAU emissions\n",
    "cases = [True]\n",
    "Regulator26.emission_cap = Regulator26.BAU_emissions * 0.8\n",
    "# Initialize dictionaries to store results for each percentage\n",
    "results = {case: {\n",
    "    'profits1': [], 'profits2': [], 'abatements1': [], 'abatements2': [],\n",
    "    'trades1': [], 'trades2': [], 'permits_bought_1': [], 'permits_bought_2': [],\n",
    "    'permits_free_1': [], 'permits_free_2': [], 'permits_used_1': [], 'permits_used_2': [],\n",
    "    'revenews1': [], 'revenews2': [], 'permit_price': [],\n",
    "    'outputs1': [], 'outputs2': [], 'emissions1': [], 'emissions2': [],\n",
    "    'consumer_surplus_1' : [], 'consumer_surplus_2' : []\n",
    "} for case in cases}\n",
    "\n",
    "# Loop over each percentage\n",
    "for case in cases:\n",
    "\n",
    "    frees = np.linspace(0, 1, 100)\n",
    "\n",
    "    for free in tqdm.tqdm(frees):\n",
    "    # for free in frees:\n",
    "        Regulator26.emission_cap = Regulator26.BAU_emissions * free\n",
    "        Regulator26.optimization_concave_formulation_ab()\n",
    "        # Regulator26.optimization_with_least_squares_ab()\n",
    "        Regulator26.equilibrium_tester(output=True, print_header = (free == 0), precision=0.1)\n",
    "\n",
    "        for firm in Regulator26.firm_registry.values():\n",
    "            firm.calculate_profit_components()\n",
    "\n",
    "        results[case]['profits1'].append(mean(float(i.profit) for i in sector1.firms))\n",
    "        results[case]['profits2'].append(mean(float(i.profit) for i in sector2.firms + sector3.firms))\n",
    "        results[case]['abatements1'].append(mean(float(i.abatement) for i in sector1.firms))\n",
    "        results[case]['abatements2'].append(mean(float(i.abatement) for i in sector2.firms + sector3.firms))\n",
    "        results[case]['trades1'].append(mean(float(i.permits_costs) for i in sector1.firms))\n",
    "        results[case]['trades2'].append(mean(float(i.permits_costs) for i in sector2.firms + sector3.firms))\n",
    "        results[case]['revenews1'].append(mean(float(i.sales) for i in sector1.firms))\n",
    "        results[case]['revenews2'].append(mean(float(i.sales) for i in sector2.firms + sector3.firms))\n",
    "        results[case]['permit_price'].append(Regulator26.permit_price)\n",
    "        results[case]['outputs1'].append(mean(float(i.actual_output) for i in sector1.firms))\n",
    "        results[case]['outputs2'].append(mean(float(i.actual_output) for i in sector2.firms + sector3.firms))\n",
    "        results[case]['emissions1'].append(mean(float(i.emission) for i in sector1.firms))\n",
    "        results[case]['emissions2'].append(mean(float(i.emission) for i in sector2.firms + sector3.firms))\n",
    "        results[case]['consumer_surplus_1'].append(sector1.get_consumer_surplus())\n",
    "        results[case]['consumer_surplus_2'].append((sector2.get_consumer_surplus() + sector3.get_consumer_surplus())/2)\n",
    "        results[case]['permits_used_1'].append(mean( float(i.permits_used) for i in sector1.firms))\n",
    "        results[case]['permits_used_2'].append(mean( float(i.permits_used) for i in sector2.firms + sector3.firms))\n",
    "        results[case]['permits_free_1'].append(mean( float(i.free_permits) for i in sector1.firms))\n",
    "        results[case]['permits_free_2'].append(mean( float(i.free_permits) for i in sector2.firms + sector3.firms))\n",
    "        results[case]['permits_bought_1'].append(mean( float(i.permits_bought) for i in sector1.firms))\n",
    "        results[case]['permits_bought_2'].append(mean( float(i.permits_bought) for i in sector2.firms + sector3.firms))\n",
    "\n"
   ]
  },
  {
   "cell_type": "code",
   "execution_count": 1,
   "metadata": {},
   "outputs": [
    {
     "ename": "NameError",
     "evalue": "name 'Regulator26' is not defined",
     "output_type": "error",
     "traceback": [
      "\u001b[1;31m---------------------------------------------------------------------------\u001b[0m",
      "\u001b[1;31mNameError\u001b[0m                                 Traceback (most recent call last)",
      "Cell \u001b[1;32mIn[1], line 1\u001b[0m\n\u001b[1;32m----> 1\u001b[0m percentage_of_emission_cap \u001b[38;5;241m=\u001b[39m \u001b[43mRegulator26\u001b[49m\u001b[38;5;241m.\u001b[39memission_cap \u001b[38;5;241m/\u001b[39m Regulator26\u001b[38;5;241m.\u001b[39mBAU_emissions\n\u001b[0;32m      2\u001b[0m first_value \u001b[38;5;241m=\u001b[39m \u001b[38;5;241m0\u001b[39m\n\u001b[0;32m      3\u001b[0m last_value \u001b[38;5;241m=\u001b[39m \u001b[38;5;241m100\u001b[39m\n",
      "\u001b[1;31mNameError\u001b[0m: name 'Regulator26' is not defined"
     ]
    }
   ],
   "source": [
    "percentage_of_emission_cap = Regulator26.emission_cap / Regulator26.BAU_emissions\n",
    "first_value = 0\n",
    "last_value = 100\n",
    "# Define colors\n",
    "colors = {'trades1': '#1f77b4', 'trades2': '#ff7f0e'}\n",
    "\n",
    "last_wrong_value = 0.26\n",
    "\n",
    "# Define a function to plot the metrics\n",
    "def plot_metric(metric, ylabel, title):\n",
    "    plt.figure(figsize=(10, 6))\n",
    "    plt.plot(frees, results[True][f'{metric}1'], label='sector 1', color=colors['trades1'])\n",
    "    plt.plot(frees, results[True][f'{metric}2'], label='sectors 2 & 3', color=colors['trades2'])\n",
    "    plt.axvline(x=last_wrong_value, color='grey', linestyle='--')\n",
    "    plt.fill_between(frees, plt.ylim()[0], plt.ylim()[1], where=(frees < last_wrong_value), color='grey', alpha=0.3)\n",
    "    plt.xlabel('Emission Cap as % of BAU Emissions')\n",
    "    plt.ylabel(ylabel)\n",
    "    plt.title(title)\n",
    "    plt.legend()\n",
    "    plt.grid()\n",
    "    plt.show()\n",
    "\n",
    "# Plot outputs\n",
    "plot_metric('outputs', 'Output', 'Output (q) vs Emission Cap as % of BAU Emissions')\n",
    "\n",
    "# Plot emissions\n",
    "plot_metric('emissions', 'Emission', 'Emissions (x) vs Emission Cap as % of BAU Emissions')\n",
    "\n",
    "# Plot the difference output - emission to illustrate the abatement\n",
    "plt.figure(figsize=(10, 6))\n",
    "plt.plot(frees, np.array(results[True]['outputs1']) - np.array(results[True]['emissions1']), label='sector 1', color=colors['trades1'])\n",
    "plt.plot(frees, np.array(results[True]['outputs2']) - np.array(results[True]['emissions2']), label='sectors 2 & 3', color=colors['trades2'])\n",
    "plt.axvline(x=last_wrong_value, color='grey', linestyle='--')\n",
    "plt.fill_between(frees, plt.ylim()[0], plt.ylim()[1], where=(frees < last_wrong_value), color='grey', alpha=0.3)\n",
    "plt.xlabel('Emission Cap as % of BAU Emissions')\n",
    "plt.ylabel('Abatement')\n",
    "plt.title('Abatement (q - x) vs Emission Cap as % of BAU Emissions')\n",
    "plt.legend()\n",
    "plt.grid()\n",
    "plt.show()\n",
    "\n",
    "# Plot permit prices\n",
    "plt.figure(figsize=(10, 6))\n",
    "plt.plot(frees, results[True]['permit_price'], label='Permit Price', color=colors['trades1'])\n",
    "plt.axvline(x=last_wrong_value, color='grey', linestyle='--')\n",
    "plt.fill_between(frees, plt.ylim()[0], plt.ylim()[1], where=(frees < last_wrong_value), color='grey', alpha=0.3)\n",
    "plt.xlabel('Emission Cap as % of BAU Emissions')\n",
    "plt.ylabel('Permit Price')\n",
    "plt.title('Permit Price vs Emission Cap as % of BAU Emissions')\n",
    "plt.legend()\n",
    "plt.grid()\n",
    "plt.show()\n",
    "\n",
    "\n",
    "# Plot trades\n",
    "plot_metric('trades', 'Trade', 'Money spent on permits vs Emission Cap as % of BAU Emissions')\n",
    "\n",
    "# Plot revenues\n",
    "plot_metric('revenews', 'Revenue', 'Sales vs Emission Cap as % of BAU Emissions')\n",
    "\n",
    "# Plot profits\n",
    "plot_metric('profits', 'Profit', 'Profits vs Emission Cap as % of BAU Emissions')\n",
    "\n",
    "# Plot abatements\n",
    "plot_metric('abatements', 'Abatement', 'Abatement cost vs Emission Cap as % of BAU Emissions')\n",
    "\n",
    "\n",
    "# Plot permits bought, free, and used for each doentage\n",
    "alphas = {True: 1, False: 0.5}\n",
    "colors = {'b': '#1f77b4', 'o': '#ff7f0e'}\n",
    "plt.figure(figsize=(15, 10))\n",
    "for do in [True]: plt.plot(frees[first_value:last_value], results[do]['permits_bought_1'][first_value:last_value], label=f'Permits bought: sector 1', color=colors['b'], alpha=alphas[do])\n",
    "for do in [True]:plt.plot(frees[first_value:last_value], results[do]['permits_bought_2'][first_value:last_value], label=f'Permits bought: sector 2', color=colors['o'], alpha=alphas[do])\n",
    "for do in [True]:plt.plot(frees[first_value:last_value], results[do]['permits_free_1'][first_value:last_value], label=f'Permit Free: sector 1', color=colors['b'], linestyle='--', alpha=alphas[do])\n",
    "for do in [True]:plt.plot(frees[first_value:last_value], results[do]['permits_free_2'][first_value:last_value], label=f'Permit Free: sector 2', color=colors['o'], linestyle='--', alpha=alphas[do])\n",
    "for do in [True]:plt.plot(frees[first_value:last_value], results[do]['permits_used_1'][first_value:last_value], label=f'Permit Total: sector 1', color=colors['b'], linestyle='-.', alpha=alphas[do])\n",
    "for do in [True]:plt.plot(frees[first_value:last_value], results[do]['permits_used_2'][first_value:last_value], label=f'Permit Total: sector 2', color=colors['o'], linestyle='-.', alpha=alphas[do])\n",
    "plt.axvline(x=last_wrong_value, color='grey', linestyle='--')\n",
    "plt.fill_between(frees, plt.ylim()[0], plt.ylim()[1], where=(frees < last_wrong_value), color='grey', alpha=0.3)\n",
    "plt.xlabel('Free')\n",
    "plt.ylabel('Permits')\n",
    "plt.title('Permits vs Free')\n",
    "plt.legend()\n",
    "plt.grid()\n",
    "plt.show()\n",
    "\n",
    "\n",
    "\n",
    "from operator import add\n",
    "plt.figure(figsize=(15, 10))\n",
    "plt.plot(frees[first_value:last_value], results[True]['consumer_surplus_1'][first_value:last_value], label=f'Consumer Surplus1, free: 1 -> 100%, 2,3 -> 50%', color=colors['b'])\n",
    "plt.plot(frees[first_value:last_value], results[True]['consumer_surplus_2'][first_value:last_value], label=f'Consumer Surplus1, free: 1 -> 100%, 2,3 -> 50%', color=colors['o'])\n",
    "plt.plot(frees[first_value:last_value], list( map(add,results[True]['consumer_surplus_1'], results[True]['consumer_surplus_2']))[first_value:last_value], label=f'Total Consumer Surplus, free: 1 -> 100%, 2,3 -> 50%', color='black')\n",
    "plt.axvline(x=last_wrong_value, color='grey', linestyle='--')\n",
    "plt.fill_between(frees, plt.ylim()[0], plt.ylim()[1], where=(frees < last_wrong_value), color='grey', alpha=0.3)\n",
    "plt.xlabel('Free')\n",
    "plt.ylabel('Consumer Surplus')\n",
    "plt.title('Consumer Surplus vs Free')\n",
    "plt.legend()\n",
    "plt.grid()\n",
    "plt.show()\n",
    "\n"
   ]
  },
  {
   "cell_type": "code",
   "execution_count": 12,
   "metadata": {},
   "outputs": [
    {
     "name": "stdout",
     "output_type": "stream",
     "text": [
      "firm1 0.0 245.0 245.0\n",
      "firm2 0.0 245.0 245.0\n",
      "firm3 0.0 244.85450329184798 244.85450329184798\n",
      "firm4 0.0 335.7395698692758 335.7395698692758\n",
      "firm5 0.0 335.65944648472805 335.65944648472805\n",
      "firm6 0.0 472.78129039217237 472.78129039217237\n",
      "firm7 0.0 117.27203270927501 117.27203270927501\n",
      "firm8 0.0 117.27203194488968 117.27203194488968\n",
      "firm9 0.0 117.27203288422375 117.27203288422375\n",
      "2230.8509075764127 2.0 2230.8509075764127\n"
     ]
    }
   ],
   "source": [
    "for firm in Regulator26.firm_registry.values():\n",
    "    print(firm.name, firm.free_permits, firm.permits_bought, firm.permits_used)\n",
    "print(Regulator26.emission_cap, Regulator26.permit_price, Regulator26.BAU_emissions)"
   ]
  }
 ],
 "metadata": {
  "kernelspec": {
   "display_name": "Second3_12_3",
   "language": "python",
   "name": "python3"
  },
  "language_info": {
   "codemirror_mode": {
    "name": "ipython",
    "version": 3
   },
   "file_extension": ".py",
   "mimetype": "text/x-python",
   "name": "python",
   "nbconvert_exporter": "python",
   "pygments_lexer": "ipython3",
   "version": "3.12.3"
  }
 },
 "nbformat": 4,
 "nbformat_minor": 2
}
