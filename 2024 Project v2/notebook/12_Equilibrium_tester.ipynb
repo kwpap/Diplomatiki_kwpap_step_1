{
 "cells": [
  {
   "cell_type": "code",
   "execution_count": 1,
   "metadata": {},
   "outputs": [],
   "source": [
    "import sys\n",
    "import os\n",
    "sys.path.append(os.path.abspath(os.path.join('..', 'src')))\n",
    "\n",
    "from funkwpap import *\n",
    "import sympy as sp, pandas as pd, numpy as np, tqdm, time, sys, matplotlib.pyplot as plt\n",
    "from scipy.optimize import fsolve\n",
    "from random import random\n",
    "from scipy.optimize import minimize\n",
    "from gurobipy import *"
   ]
  },
  {
   "cell_type": "code",
   "execution_count": 2,
   "metadata": {},
   "outputs": [],
   "source": [
    "x = sp.symbols('x')\n",
    "cap = 650 # total emission cap\n",
    "Regulator7 = Regulator(\"test1\", permit_price = 2.4079, emission_cap = cap)\n",
    "sector1 = Sector('cement', price_demand_function= 100 - 0.1*x, free_emission_multiplier= 0, regulator= Regulator7)\n",
    "sector2 = Sector('steel', price_demand_function=150 - 0.1*x, free_emission_multiplier= 0, regulator= Regulator7)\n",
    "sector3 = Sector('paper', price_demand_function= 200 - 0.02*x**1.5, free_emission_multiplier= 0, regulator= Regulator7)\n",
    "sector4 = Sector('plastic', price_demand_function= 400 - 0.5*x, free_emission_multiplier= 0, regulator= Regulator7)\n",
    "sector5 = Sector('glass', price_demand_function= 300 - 0.4*x, free_emission_multiplier= 0, regulator= Regulator7)\n",
    "country1 = Country('DE', 1, regulator= Regulator7)\n",
    "country2 = Country('FI', 0.5, regulator= Regulator7)\n",
    "country3 = Country('GR', size= 0.1, regulator= Regulator7)\n",
    "\n",
    "# Create Firms using objects\n",
    "firm1 = Firm('firm1', 1, 1, x*0, 10*x+ 2*x**2 + 0.1*x**3 , 0, 0, 0, regulator= Regulator7)\n",
    "firm2 = Firm('firm2', 1, 2, x*0, 11*x+ 3*x**2 + 0.2*x**3, 0, 0, 0, regulator= Regulator7)\n",
    "firm3 = Firm('firm3', 1, 3, x*0, 5*x+ 4*x**2 + 5*x**3 , 0, 0, 0, regulator= Regulator7)\n",
    "# firm4 = Firm('firm4', 2, 1, x*0, 7*x+ 5*x**2 + 3*x**3 , 0, 0, 0, regulator= Regulator7)\n",
    "# firm5 = Firm('firm5', 2, 2, x*0, 1*x+ 6*x**2 + 2*x**3 , 0, 0, 0, regulator= Regulator7)\n",
    "# firm6 = Firm('firm6', 2, 3, x*0, 2*x+ 7*x**2 + 3*x**3 , 0, 0, 0, regulator= Regulator7)\n",
    "# firm7 = Firm('firm7', 3, 1, x*0, 3*x+ 8*x**2 + 4*x**3 , 0, 0, 0, regulator= Regulator7)\n",
    "# firm8 = Firm('firm8', 3, 2, x*0, 4*x+ 9*x**2 + 10*x**3 , 0, 0, 0, regulator= Regulator7)\n",
    "# firm9 = Firm('firm9', 3, 3, x*0, 5*x+ 10*x**2 + 11*x**3 , 0, 0, 0, regulator= Regulator7)\n",
    "\n",
    "\n",
    "gur_output = False\n",
    "print_out = True"
   ]
  },
  {
   "cell_type": "code",
   "execution_count": 3,
   "metadata": {},
   "outputs": [
    {
     "name": "stdout",
     "output_type": "stream",
     "text": [
      "Set parameter Username\n",
      "Academic license - for non-commercial use only - expires 2025-08-14\n",
      "Optimal solution found\n",
      "Firm firm1 has output 217.19871783673514 and emission 216.45960067313763\n",
      "Firm firm2 has output 217.19871783673298 and emission 216.85701988527745\n",
      "Firm firm3 has output 217.19871783673895 and emission 216.68337944158492\n",
      "Permit price: 13.120512865305535\n"
     ]
    },
    {
     "data": {
      "text/plain": [
       "<gurobi.Model MIP instance Least Squares: 16 constrs, 33 vars, Parameter changes: Username=(user-defined), OutputFlag=0>"
      ]
     },
     "execution_count": 3,
     "metadata": {},
     "output_type": "execute_result"
    }
   ],
   "source": [
    "Regulator7.optimization_with_least_squares(gurobi_print= gur_output, print_output = print_out)"
   ]
  },
  {
   "cell_type": "code",
   "execution_count": 4,
   "metadata": {},
   "outputs": [
    {
     "name": "stdout",
     "output_type": "stream",
     "text": [
      "Optimal solution found\n",
      "Firm firm1 has output 217.19871783673383 and emission 216.4596006731362\n",
      "Firm firm2 has output 217.19871783672832 and emission 216.85701988527268\n",
      "Firm firm3 has output 217.19871783674515 and emission 216.68337944159111\n",
      "Permit price: 13.120512865305955\n"
     ]
    },
    {
     "data": {
      "text/plain": [
       "<gurobi.Model MIP instance Positive Constraints: 16 constrs, 21 vars, Parameter changes: Username=(user-defined), OutputFlag=0>"
      ]
     },
     "execution_count": 4,
     "metadata": {},
     "output_type": "execute_result"
    }
   ],
   "source": [
    "# Regulator7.find_optimal_permit_price_to_meet_the_emission_cap_requirements(precision=0.01)\n",
    "\n",
    "Regulator7.optimization_with_positive_constaints(gurobi_print= gur_output, print_output = True)\n"
   ]
  },
  {
   "cell_type": "code",
   "execution_count": 5,
   "metadata": {},
   "outputs": [
    {
     "name": "stdout",
     "output_type": "stream",
     "text": [
      "Firm       | FOC 1        | FOC 2         | SOC 1         | SOC 2        | Hessian      | Status\n",
      "-------------------------------------------------------------------------------------\n",
      "Worst      |   +0.0142 ✔️ |   +0.0142 ✔️ |   -4.4435 ✔️ |   -4.6435 ✔️ |   +0.8887 ✔️ | 5/5\n"
     ]
    },
    {
     "data": {
      "text/plain": [
       "(True, 0.0142007812747100)"
      ]
     },
     "execution_count": 5,
     "metadata": {},
     "output_type": "execute_result"
    }
   ],
   "source": [
    "Regulator7.equilibrium_tester(precision = 0.1, full_output=False, output = True)"
   ]
  },
  {
   "cell_type": "code",
   "execution_count": 6,
   "metadata": {},
   "outputs": [],
   "source": [
    "#Regulator7.equilibrium_tester(precision = 2.15, full_output=True)"
   ]
  },
  {
   "cell_type": "code",
   "execution_count": 7,
   "metadata": {},
   "outputs": [
    {
     "name": "stdout",
     "output_type": "stream",
     "text": [
      "Sum sector outputs: q1 + q2 + q3\n",
      "Sympy Objective: 100*(-0.03*ab1**2 - 2*ab1/5 + pp/10 - 1)**2 + 121*(-0.0545454545454546*ab2**2 - 6*ab2/11 + pp/11 - 1)**2 + (-15*ab3**2 - 8*ab3 + pp - 5)**2 + 10000*(-pp/100 - 0.002*q1 - 0.001*q2 - 0.001*q3 + 1)**2 + 10000*(-pp/100 - 0.001*q1 - 0.002*q2 - 0.001*q3 + 1)**2 + 10000*(-pp/100 - 0.001*q1 - 0.001*q2 - 0.002*q3 + 1)**2\n",
      "Optimal solution found\n",
      "Firm firm1 has output 217.1987178367357 and emission 216.45960067313828\n",
      "Firm firm2 has output 217.19871783673568 and emission 216.8570198852801\n",
      "Firm firm3 has output 217.19871783673568 and emission 216.68337944158165\n",
      "Permit price: 13.120512865305727\n"
     ]
    },
    {
     "data": {
      "text/plain": [
       "<gurobi.Model MIP instance Least Squares e: 16 constrs, 25 vars, Parameter changes: Username=(user-defined), OutputFlag=0>"
      ]
     },
     "execution_count": 7,
     "metadata": {},
     "output_type": "execute_result"
    }
   ],
   "source": [
    "Regulator7.optimization_with_least_squares_ab(gurobi_print= gur_output, print_output = True)"
   ]
  },
  {
   "cell_type": "code",
   "execution_count": 8,
   "metadata": {},
   "outputs": [
    {
     "name": "stdout",
     "output_type": "stream",
     "text": [
      "Firm       | FOC 1        | FOC 2         | SOC 1         | SOC 2        | Hessian      | Status\n",
      "-------------------------------------------------------------------------------------\n",
      "Worst      |   +0.0142 ✔️ |   +0.0142 ✔️ |   -4.4435 ✔️ |   -4.6435 ✔️ |   +0.8887 ✔️ | 5/5\n",
      "firm1      |  +1.56e-4 ✔️ |  -1.56e-4 ✔️ |   -4.4435 ✔️ |   -4.6435 ✔️ |   +0.8887 ✔️ | 5/5\n",
      "firm2      |  +2.71e-4 ✔️ |  -2.71e-4 ✔️ |   -6.4100 ✔️ |   -6.6100 ✔️ |   +1.2820 ✔️ | 5/5\n",
      "firm3      |   +0.0142 ✔️ |   -0.0142 ✔️ |  -23.4602 ✔️ |  -23.6602 ✔️ |   +4.6920 ✔️ | 5/5\n"
     ]
    },
    {
     "data": {
      "text/plain": [
       "(True, 0.0142007812746847)"
      ]
     },
     "execution_count": 8,
     "metadata": {},
     "output_type": "execute_result"
    }
   ],
   "source": [
    "Regulator7.equilibrium_tester(precision = 0.5, full_output=True, output = True)"
   ]
  },
  {
   "cell_type": "code",
   "execution_count": 9,
   "metadata": {},
   "outputs": [
    {
     "name": "stdout",
     "output_type": "stream",
     "text": [
      "Sum sector outputs: q1 + q2 + q3\n",
      "Sympy Objective: -0.3*ab1**2 - 4*ab1 - 0.6*ab2**2 - 6*ab2 - 15*ab3**2 - 8*ab3 - 0.4*q1 - 0.4*q2 - 0.4*q3 + 274\n",
      "Optimal solution found\n",
      "Firm firm1 has output 217.19871783673568 and emission 216.45960067313825\n",
      "Firm firm2 has output 217.19871783673568 and emission 216.8570198852801\n",
      "Firm firm3 has output 217.19871783673568 and emission 216.68337944158165\n",
      "Permit price: 13.120512865305727\n"
     ]
    },
    {
     "data": {
      "text/plain": [
       "<gurobi.Model MIP instance positive_constraints_ab: 19 constrs, 19 vars, Parameter changes: Username=(user-defined), OutputFlag=0>"
      ]
     },
     "execution_count": 9,
     "metadata": {},
     "output_type": "execute_result"
    }
   ],
   "source": [
    "Regulator7.optimization_with_positive_constraints_ab(gurobi_print= gur_output, print_output = True)"
   ]
  },
  {
   "cell_type": "code",
   "execution_count": 10,
   "metadata": {},
   "outputs": [
    {
     "name": "stdout",
     "output_type": "stream",
     "text": [
      "Firm       | FOC 1        | FOC 2         | SOC 1         | SOC 2        | Hessian      | Status\n",
      "-------------------------------------------------------------------------------------\n",
      "Worst      |   +0.0142 ✔️ |   +0.0142 ✔️ |   -4.4435 ✔️ |   -4.6435 ✔️ |   +0.8887 ✔️ | 5/5\n",
      "firm1      |  +1.56e-4 ✔️ |  -1.56e-4 ✔️ |   -4.4435 ✔️ |   -4.6435 ✔️ |   +0.8887 ✔️ | 5/5\n",
      "firm2      |  +2.71e-4 ✔️ |  -2.71e-4 ✔️ |   -6.4100 ✔️ |   -6.6100 ✔️ |   +1.2820 ✔️ | 5/5\n",
      "firm3      |   +0.0142 ✔️ |   -0.0142 ✔️ |  -23.4602 ✔️ |  -23.6602 ✔️ |   +4.6920 ✔️ | 5/5\n"
     ]
    },
    {
     "data": {
      "text/plain": [
       "(True, 0.0142007812746847)"
      ]
     },
     "execution_count": 10,
     "metadata": {},
     "output_type": "execute_result"
    }
   ],
   "source": [
    "Regulator7.equilibrium_tester(precision = 0.5, full_output=True, output = True)"
   ]
  },
  {
   "cell_type": "code",
   "execution_count": 11,
   "metadata": {},
   "outputs": [
    {
     "name": "stdout",
     "output_type": "stream",
     "text": [
      "Sum sector outputs: q1 + q2 + q3\n",
      "Sympy Objective: -pp - 0.1*q1 - 0.1*q2 - 0.2*q3 + 100\n",
      "Optimal solution found\n",
      "Firm firm1 has output 205.85391161269285 and emission 205.6070519721547\n",
      "Firm firm2 has output 205.54127022390043 and emission 205.54027022389795\n",
      "Firm firm3 has output 239.27240608158428 and emission 238.85267780394895\n",
      "Permit price: 11.006000600023798\n"
     ]
    },
    {
     "data": {
      "text/plain": [
       "<gurobi.Model MIP instance everything_constrained_and_ab: 16 constrs, 13 vars, Parameter changes: Username=(user-defined), OutputFlag=0>"
      ]
     },
     "execution_count": 11,
     "metadata": {},
     "output_type": "execute_result"
    }
   ],
   "source": [
    "Regulator7.optimization_everything_constrained_and_ab(gurobi_print= gur_output, print_output = True)"
   ]
  },
  {
   "cell_type": "code",
   "execution_count": 12,
   "metadata": {},
   "outputs": [
    {
     "name": "stdout",
     "output_type": "stream",
     "text": [
      "Firm       | FOC 1        | FOC 2         | SOC 1         | SOC 2        | Hessian      | Status\n",
      "-------------------------------------------------------------------------------------\n",
      "Worst      |   +3.3731 ⚠️ |   +0.0056 ✔️ |   -4.1481 ✔️ |   -4.3481 ✔️ |   +0.8296 ✔️ | 4/5\n",
      "firm1      |   +3.3421 ⚠️ |  -2.80e-4 ✔️ |   -4.1481 ✔️ |   -4.3481 ✔️ |   +0.8296 ✔️ | 4/5\n",
      "firm2      |   +3.3731 ⚠️ | -8.89e-12 ✔️ |   -6.0012 ✔️ |   -6.2012 ✔️ |   +1.2002 ✔️ | 4/5\n",
      "firm3      |   +0.0056 ✔️ |   -0.0056 ✔️ |  -20.5918 ✔️ |  -20.7918 ✔️ |   +4.1184 ✔️ | 5/5\n"
     ]
    },
    {
     "data": {
      "text/plain": [
       "(False, 3.37311358577701)"
      ]
     },
     "execution_count": 12,
     "metadata": {},
     "output_type": "execute_result"
    }
   ],
   "source": [
    "Regulator7.equilibrium_tester(precision = 0.5, full_output=True, output = True)"
   ]
  },
  {
   "cell_type": "code",
   "execution_count": 13,
   "metadata": {},
   "outputs": [
    {
     "name": "stdout",
     "output_type": "stream",
     "text": [
      "Max diff: 0.00, permit price = 13.5, cap = 650, second_stage = False, a = 1.00000Permit price: 13.4774169921875 and total emission: 636.7746809660441 and emission cap 650\n",
      "firm1 212.84004515168886 212.0473840425096\n",
      "firm2 212.84004515168886 212.42690134561877\n",
      "firm3 212.84004515168886 212.3003955779157\n"
     ]
    }
   ],
   "source": [
    "Regulator7.find_optimal_permit_price_to_meet_the_emission_cap_requirements(precision=0.01,x_high=1000, x_low=12, size_of_diffs= 10, permit_price_tolerance= 0.01)\n",
    "for firm in Regulator7.firm_registry.values():\n",
    "    print(firm.name, firm.actual_output, firm.emission)"
   ]
  },
  {
   "cell_type": "code",
   "execution_count": 14,
   "metadata": {},
   "outputs": [
    {
     "name": "stdout",
     "output_type": "stream",
     "text": [
      "Firm       | FOC 1        | FOC 2         | SOC 1         | SOC 2        | Hessian      | Status\n",
      "-------------------------------------------------------------------------------------\n",
      "Worst      |   +1.5048 ⚠️ |   +0.2081 ✔️ |   -4.4756 ✔️ |   -4.6756 ✔️ |   +0.8951 ✔️ | 4/5\n",
      "firm1      |   +1.5048 ⚠️ |   -0.1183 ✔️ |   -4.4756 ✔️ |   -4.6756 ✔️ |   +0.8951 ✔️ | 4/5\n",
      "firm2      |   +1.2827 ⚠️ |   +0.1039 ✔️ |   -6.4958 ✔️ |   -6.6958 ✔️ |   +1.2992 ✔️ | 4/5\n",
      "firm3      |   +1.1785 ⚠️ |   +0.2081 ✔️ |  -24.1895 ✔️ |  -24.3895 ✔️ |   +4.8379 ✔️ | 4/5\n"
     ]
    },
    {
     "data": {
      "text/plain": [
       "(False, 1.50484401240580)"
      ]
     },
     "execution_count": 14,
     "metadata": {},
     "output_type": "execute_result"
    }
   ],
   "source": [
    "Regulator7.equilibrium_tester(precision = 0.9, full_output=True, output = True)"
   ]
  }
 ],
 "metadata": {
  "kernelspec": {
   "display_name": "base",
   "language": "python",
   "name": "python3"
  },
  "language_info": {
   "codemirror_mode": {
    "name": "ipython",
    "version": 3
   },
   "file_extension": ".py",
   "mimetype": "text/x-python",
   "name": "python",
   "nbconvert_exporter": "python",
   "pygments_lexer": "ipython3",
   "version": "3.12.4"
  }
 },
 "nbformat": 4,
 "nbformat_minor": 2
}
