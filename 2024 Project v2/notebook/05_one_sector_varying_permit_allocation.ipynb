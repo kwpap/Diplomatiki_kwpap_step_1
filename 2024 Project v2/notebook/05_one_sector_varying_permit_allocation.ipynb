{
 "cells": [
  {
   "cell_type": "code",
   "execution_count": 2,
   "metadata": {},
   "outputs": [],
   "source": [
    "from funkwpap import sympy_to_gurobi, Firm, Country, Sector, Regulator, get_emission\n",
    "import sympy as sp, pandas as pd, numpy as np, tqdm, time, sys\n",
    "from gurobipy import Model, LinExpr, QuadExpr, GRB\n",
    "x = sp.symbols('x')\n",
    "y = sp.symbols('y')"
   ]
  },
  {
   "cell_type": "code",
   "execution_count": 3,
   "metadata": {},
   "outputs": [
    {
     "name": "stdout",
     "output_type": "stream",
     "text": [
      "[Firm(id=1, name='firm1', sector_id=1, country_id=1, actual_output=0, emission=0, profit=0), Firm(id=2, name='firm2', sector_id=1, country_id=2, actual_output=0, emission=0, profit=0), Firm(id=3, name='firm3', sector_id=1, country_id=3, actual_output=0, emission=0, profit=0)]\n",
      "[Firm(id=1, name='firm1', sector_id=1, country_id=1, actual_output=0, emission=0, profit=0), Firm(id=4, name='firm4', sector_id=2, country_id=1, actual_output=0, emission=0, profit=0), Firm(id=7, name='firm7', sector_id=3, country_id=1, actual_output=0, emission=0, profit=0)]\n",
      "{1: Firm(id=1, name='firm1', sector_id=1, country_id=1, actual_output=0, emission=0, profit=0), 2: Firm(id=2, name='firm2', sector_id=1, country_id=2, actual_output=0, emission=0, profit=0), 3: Firm(id=3, name='firm3', sector_id=1, country_id=3, actual_output=0, emission=0, profit=0), 4: Firm(id=4, name='firm4', sector_id=2, country_id=1, actual_output=0, emission=0, profit=0), 5: Firm(id=5, name='firm5', sector_id=2, country_id=2, actual_output=0, emission=0, profit=0), 6: Firm(id=6, name='firm6', sector_id=2, country_id=3, actual_output=0, emission=0, profit=0), 7: Firm(id=7, name='firm7', sector_id=3, country_id=1, actual_output=0, emission=0, profit=0), 8: Firm(id=8, name='firm8', sector_id=3, country_id=2, actual_output=0, emission=0, profit=0), 9: Firm(id=9, name='firm9', sector_id=3, country_id=3, actual_output=0, emission=0, profit=0)}\n",
      "firm1 cement DE\n",
      "firm2 cement FI\n",
      "firm3 cement GR\n",
      "firm4 steel DE\n",
      "firm5 steel FI\n",
      "firm6 steel GR\n",
      "firm7 paper DE\n",
      "firm8 paper FI\n",
      "firm9 paper GR\n"
     ]
    }
   ],
   "source": [
    "\n",
    "# Create Sectors and Countries\n",
    "Regulator2 = Regulator('EU', permit_price= 2, emission_cap= 100)\n",
    "sector1 = Sector('cement', price_demand_function= 100 - 0.1*x, free_emission_multiplier= 0, regulator= Regulator2)\n",
    "sector2 = Sector('steel', price_demand_function=150 - 0.1*x, free_emission_multiplier= 0, regulator= Regulator2)\n",
    "sector3 = Sector('paper', price_demand_function= 200 - 0.02*x**1.5, free_emission_multiplier= 0, regulator= Regulator2)\n",
    "country1 = Country('DE', 1, regulator= Regulator2)\n",
    "country2 = Country('FI', 0.5, regulator= Regulator2)\n",
    "country3 = Country('GR', size= 0.1, regulator= Regulator2)\n",
    "\n",
    "# Create Firms using objects\n",
    "firm1 = Firm('firm1', 1, 1, x*0, 0.1*sp.exp('x') + 100/y**2, 0, 0, 0, regulator= Regulator2)\n",
    "firm2 = Firm('firm2', 1, 2, x*0, 5*x**3.2 + 40/y**2, 0, 0, 0, regulator= Regulator2)\n",
    "firm3 = Firm('firm3', 1, 3, x*0, x**5.2 + 30/y**2, 0, 0, 0, regulator= Regulator2)\n",
    "firm4 = Firm('firm4', 2, 1, x*0, x**3.3 + 20/y**2, 0, 0, 0, regulator= Regulator2)\n",
    "firm5 = Firm('firm5', 2, 2, x*0, x**2.3 + 20/y**2, 0, 0, 0, regulator= Regulator2)\n",
    "firm6 = Firm('firm6', 2, 3, x*0, x**3.2 + 15/y**2, 0, 0, 0, regulator= Regulator2)\n",
    "firm7 = Firm('firm7', 3, 1, x*0, x**4.1 + 40/y**2, 0, 0, 0, regulator= Regulator2)\n",
    "firm8 = Firm('firm8', 3, 2, x*0, x**5.1 + 50/y**2, 0, 0, 0, regulator= Regulator2)\n",
    "firm9 = Firm('firm9', 3, 3, x*0, x**5 + 60/y**2, 0, 0, 0, regulator= Regulator2)\n",
    "\n",
    "\n",
    "print(sector1.firms)  # List of firms in sector1\n",
    "print(country1.firms)  # List of firms in country1\n",
    "print(Regulator2.firm_registry)  # Dictionary of all firms\n",
    "\n",
    "for firm in Regulator2.firm_registry.values():\n",
    "    print(firm.name, firm.sector.name, firm.country.name)\n"
   ]
  },
  {
   "cell_type": "code",
   "execution_count": 4,
   "metadata": {},
   "outputs": [
    {
     "name": "stdout",
     "output_type": "stream",
     "text": [
      "Set parameter Username\n",
      "Academic license - for non-commercial use only - expires 2025-08-14\n",
      "Max diff: 0.06, permit price = 2.0, cap = 100, second_stage = False, a = 1.0000"
     ]
    }
   ],
   "source": [
    "Regulator2.optimize_them_all(precision = 0.1, print_diff = True, BAU = True)"
   ]
  },
  {
   "cell_type": "code",
   "execution_count": 5,
   "metadata": {},
   "outputs": [
    {
     "name": "stdout",
     "output_type": "stream",
     "text": [
      "firm1 cement DE 257.32525385607016 0.0 6273.59076591368\n",
      "firm2 cement FI 257.32525385607016 0.0 6273.59076591368\n",
      "firm3 cement GR 241.54945043799546 0.0 5888.97661255950\n",
      "firm4 steel DE 376.13222749306016 0.0 13977.1983562917\n",
      "firm5 steel FI 376.13222749306016 0.0 13977.1983562917\n",
      "firm6 steel GR 376.13222749306016 0.0 13977.1983562917\n",
      "firm7 paper DE 118.59141288110008 0.0 7795.70908896106\n",
      "firm8 paper FI 118.55901246575188 0.0 7794.93391399515\n",
      "firm9 paper GR 118.67118725249841 0.0 7803.94427937029\n"
     ]
    }
   ],
   "source": [
    "for firm in Regulator2.firm_registry.values():\n",
    "    print(firm.name, firm.sector.name, firm.country.name, firm.actual_output, firm.emission, firm.profit)"
   ]
  },
  {
   "cell_type": "code",
   "execution_count": 6,
   "metadata": {},
   "outputs": [
    {
     "name": "stdout",
     "output_type": "stream",
     "text": [
      "Max diff: 0.01, permit price = 2.0, cap = 100, second_stage = False, a = 1.00"
     ]
    }
   ],
   "source": [
    "Regulator2.BAU_calculator(print_diff = True)"
   ]
  },
  {
   "cell_type": "code",
   "execution_count": 8,
   "metadata": {},
   "outputs": [
    {
     "name": "stderr",
     "output_type": "stream",
     "text": [
      "  0%|          | 0/99 [00:00<?, ?it/s]"
     ]
    },
    {
     "name": "stdout",
     "output_type": "stream",
     "text": [
      "Max diff: 0.02, permit price = 26.7, cap = 1792, second_stage = False, a = 1.00000000"
     ]
    },
    {
     "name": "stderr",
     "output_type": "stream",
     "text": [
      "  1%|          | 1/99 [02:25<3:58:00, 145.72s/it]"
     ]
    },
    {
     "name": "stdout",
     "output_type": "stream",
     "text": [
      "Permit price: 26.702880859375 and total emission: 1782.8946249829019 and emission cap 1792.3487496586795\n",
      "Max diff: 0.02, permit price = 26.7, cap = 1792, second_stage = False, a = 1.00000000"
     ]
    },
    {
     "name": "stderr",
     "output_type": "stream",
     "text": [
      "  2%|▏         | 2/99 [04:44<3:49:23, 141.89s/it]"
     ]
    },
    {
     "name": "stdout",
     "output_type": "stream",
     "text": [
      "Permit price: 26.702880859375 and total emission: 1782.8946249829019 and emission cap 1792.3487496586795\n",
      "Permit price: 27.179718price = 27.2, cap = 1792, second_stage = False, a = 1.00000000"
     ]
    },
    {
     "name": "stderr",
     "output_type": "stream",
     "text": [
      "  3%|▎         | 3/99 [07:06<3:46:54, 141.82s/it]"
     ]
    },
    {
     "name": "stdout",
     "output_type": "stream",
     "text": [
      "Permit price: 27.179718017578125 and total emission: 1782.238038571975 and emission cap 1792.3487496586795\n",
      "Max diff: 0.10, permit price = 27.7, cap = 1792, second_stage = False, a = 1.00000000"
     ]
    },
    {
     "name": "stderr",
     "output_type": "stream",
     "text": [
      "  4%|▍         | 4/99 [09:43<3:53:52, 147.71s/it]"
     ]
    },
    {
     "name": "stdout",
     "output_type": "stream",
     "text": [
      "Permit price: 27.65655517578125 and total emission: 1762.394329885424 and emission cap 1792.3487496586795\n",
      "Max diff: 0.10, permit price = 27.7, cap = 1792, second_stage = False, a = 1.00000000"
     ]
    },
    {
     "name": "stderr",
     "output_type": "stream",
     "text": [
      "  5%|▌         | 5/99 [12:20<3:56:44, 151.12s/it]"
     ]
    },
    {
     "name": "stdout",
     "output_type": "stream",
     "text": [
      "Permit price: 27.65655517578125 and total emission: 1762.394329885424 and emission cap 1792.3487496586795\n",
      "Max diff: 0.10, permit price = 27.7, cap = 1792, second_stage = False, a = 1.00000000"
     ]
    },
    {
     "name": "stderr",
     "output_type": "stream",
     "text": [
      "  6%|▌         | 6/99 [14:58<3:57:34, 153.27s/it]"
     ]
    },
    {
     "name": "stdout",
     "output_type": "stream",
     "text": [
      "Permit price: 27.65655517578125 and total emission: 1773.8919963623787 and emission cap 1792.3487496586795\n",
      "Max diff: 0.10, permit price = 27.7, cap = 1792, second_stage = False, a = 1.00000000"
     ]
    },
    {
     "name": "stderr",
     "output_type": "stream",
     "text": [
      "  7%|▋         | 7/99 [17:33<3:56:07, 153.99s/it]"
     ]
    },
    {
     "name": "stdout",
     "output_type": "stream",
     "text": [
      "Permit price: 27.65655517578125 and total emission: 1773.8919963623787 and emission cap 1792.3487496586795\n",
      "Max diff: 0.10, permit price = 27.7, cap = 1792, second_stage = False, a = 1.00000000"
     ]
    },
    {
     "name": "stderr",
     "output_type": "stream",
     "text": [
      "  8%|▊         | 8/99 [20:11<3:55:16, 155.13s/it]"
     ]
    },
    {
     "name": "stdout",
     "output_type": "stream",
     "text": [
      "Permit price: 27.65655517578125 and total emission: 1773.8919963623787 and emission cap 1792.3487496586795\n",
      "Max diff: 0.10, permit price = 27.7, cap = 1792, second_stage = False, a = 1.00000000"
     ]
    },
    {
     "name": "stderr",
     "output_type": "stream",
     "text": [
      "  9%|▉         | 9/99 [22:50<3:54:41, 156.47s/it]"
     ]
    },
    {
     "name": "stdout",
     "output_type": "stream",
     "text": [
      "Permit price: 27.65655517578125 and total emission: 1773.8919963623787 and emission cap 1792.3487496586795\n",
      "Max diff: 0.10, permit price = 27.7, cap = 1792, second_stage = False, a = 1.00000000"
     ]
    },
    {
     "name": "stderr",
     "output_type": "stream",
     "text": [
      " 10%|█         | 10/99 [25:28<3:53:01, 157.09s/it]"
     ]
    },
    {
     "name": "stdout",
     "output_type": "stream",
     "text": [
      "Permit price: 27.65655517578125 and total emission: 1773.8919963623787 and emission cap 1792.3487496586795\n",
      "Max diff: 0.10, permit price = 27.7, cap = 1792, second_stage = False, a = 1.00000000"
     ]
    },
    {
     "name": "stderr",
     "output_type": "stream",
     "text": [
      " 11%|█         | 11/99 [28:06<3:50:38, 157.26s/it]"
     ]
    },
    {
     "name": "stdout",
     "output_type": "stream",
     "text": [
      "Permit price: 27.65655517578125 and total emission: 1773.8919963623787 and emission cap 1792.3487496586795\n",
      "Max diff: 0.10, permit price = 27.7, cap = 1792, second_stage = False, a = 1.00000000"
     ]
    },
    {
     "name": "stderr",
     "output_type": "stream",
     "text": [
      " 12%|█▏        | 12/99 [30:46<3:48:59, 157.93s/it]"
     ]
    },
    {
     "name": "stdout",
     "output_type": "stream",
     "text": [
      "Permit price: 27.65655517578125 and total emission: 1773.8919963623787 and emission cap 1792.3487496586795\n",
      "Max diff: 0.10, permit price = 27.7, cap = 1792, second_stage = False, a = 1.00000000"
     ]
    },
    {
     "name": "stderr",
     "output_type": "stream",
     "text": [
      " 13%|█▎        | 13/99 [33:25<3:46:49, 158.25s/it]"
     ]
    },
    {
     "name": "stdout",
     "output_type": "stream",
     "text": [
      "Permit price: 27.65655517578125 and total emission: 1773.8919963623787 and emission cap 1792.3487496586795\n",
      "Max diff: 0.10, permit price = 27.7, cap = 1792, second_stage = False, a = 1.00000000"
     ]
    },
    {
     "name": "stderr",
     "output_type": "stream",
     "text": [
      " 14%|█▍        | 14/99 [36:02<3:43:54, 158.06s/it]"
     ]
    },
    {
     "name": "stdout",
     "output_type": "stream",
     "text": [
      "Permit price: 27.65655517578125 and total emission: 1786.1405855100581 and emission cap 1792.3487496586795\n",
      "Max diff: 0.10, permit price = 27.7, cap = 1792, second_stage = False, a = 1.00000000"
     ]
    },
    {
     "name": "stderr",
     "output_type": "stream",
     "text": [
      " 15%|█▌        | 15/99 [38:41<3:41:26, 158.18s/it]"
     ]
    },
    {
     "name": "stdout",
     "output_type": "stream",
     "text": [
      "Permit price: 27.65655517578125 and total emission: 1786.1405855100581 and emission cap 1792.3487496586795\n",
      "Max diff: 0.10, permit price = 27.7, cap = 1792, second_stage = False, a = 1.00000000"
     ]
    },
    {
     "name": "stderr",
     "output_type": "stream",
     "text": [
      " 16%|█▌        | 16/99 [41:20<3:39:16, 158.52s/it]"
     ]
    },
    {
     "name": "stdout",
     "output_type": "stream",
     "text": [
      "Permit price: 27.65655517578125 and total emission: 1786.1405855100581 and emission cap 1792.3487496586795\n",
      "Max diff: 0.10, permit price = 27.7, cap = 1792, second_stage = False, a = 1.00000000"
     ]
    },
    {
     "name": "stderr",
     "output_type": "stream",
     "text": [
      " 17%|█▋        | 17/99 [44:05<3:39:10, 160.37s/it]"
     ]
    },
    {
     "name": "stdout",
     "output_type": "stream",
     "text": [
      "Permit price: 27.65655517578125 and total emission: 1786.1405855100581 and emission cap 1792.3487496586795\n",
      "Max diff: 0.10, permit price = 27.7, cap = 1792, second_stage = False, a = 1.00000000"
     ]
    },
    {
     "name": "stderr",
     "output_type": "stream",
     "text": [
      " 18%|█▊        | 18/99 [46:49<3:38:11, 161.63s/it]"
     ]
    },
    {
     "name": "stdout",
     "output_type": "stream",
     "text": [
      "Permit price: 27.65655517578125 and total emission: 1786.1405855100581 and emission cap 1792.3487496586795\n",
      "Permit price: 28.133392price = 28.1, cap = 1792, second_stage = False, a = 1.00000000"
     ]
    },
    {
     "name": "stderr",
     "output_type": "stream",
     "text": [
      " 19%|█▉        | 19/99 [49:13<3:28:23, 156.29s/it]"
     ]
    },
    {
     "name": "stdout",
     "output_type": "stream",
     "text": [
      "Permit price: 28.133392333984375 and total emission: 1785.5896353427224 and emission cap 1792.3487496586795\n",
      "Max diff: 0.09, permit price = 28.6, cap = 1792, second_stage = False, a = 1.00000000"
     ]
    },
    {
     "name": "stderr",
     "output_type": "stream",
     "text": [
      " 20%|██        | 20/99 [51:42<3:23:04, 154.24s/it]"
     ]
    },
    {
     "name": "stdout",
     "output_type": "stream",
     "text": [
      "Permit price: 28.6102294921875 and total emission: 1784.4922573525037 and emission cap 1792.3487496586795\n",
      "Max diff: 0.09, permit price = 28.6, cap = 1792, second_stage = False, a = 1.00000000"
     ]
    },
    {
     "name": "stderr",
     "output_type": "stream",
     "text": [
      " 21%|██        | 21/99 [54:13<3:18:52, 152.98s/it]"
     ]
    },
    {
     "name": "stdout",
     "output_type": "stream",
     "text": [
      "Permit price: 28.6102294921875 and total emission: 1784.4922573525037 and emission cap 1792.3487496586795\n",
      "Permit price: 29.087067price = 29.1, cap = 1792, second_stage = False, a = 1.00000000"
     ]
    },
    {
     "name": "stderr",
     "output_type": "stream",
     "text": [
      " 22%|██▏       | 22/99 [56:41<3:14:26, 151.51s/it]"
     ]
    },
    {
     "name": "stdout",
     "output_type": "stream",
     "text": [
      "Permit price: 29.087066650390625 and total emission: 1783.8523120722728 and emission cap 1792.3487496586795\n",
      "Max diff: 0.02, permit price = 29.6, cap = 1792, second_stage = False, a = 1.00000000"
     ]
    },
    {
     "name": "stderr",
     "output_type": "stream",
     "text": [
      " 23%|██▎       | 23/99 [59:18<3:14:06, 153.25s/it]"
     ]
    },
    {
     "name": "stdout",
     "output_type": "stream",
     "text": [
      "Permit price: 29.56390380859375 and total emission: 1764.022211336635 and emission cap 1792.3487496586795\n",
      "Max diff: 0.02, permit price = 29.6, cap = 1792, second_stage = False, a = 1.00000000"
     ]
    },
    {
     "name": "stderr",
     "output_type": "stream",
     "text": [
      " 24%|██▍       | 24/99 [1:01:54<3:12:35, 154.08s/it]"
     ]
    },
    {
     "name": "stdout",
     "output_type": "stream",
     "text": [
      "Permit price: 29.56390380859375 and total emission: 1776.2708004843143 and emission cap 1792.3487496586795\n",
      "Max diff: 0.02, permit price = 29.6, cap = 1792, second_stage = False, a = 1.00000000"
     ]
    },
    {
     "name": "stderr",
     "output_type": "stream",
     "text": [
      " 25%|██▌       | 25/99 [1:04:30<3:10:48, 154.71s/it]"
     ]
    },
    {
     "name": "stdout",
     "output_type": "stream",
     "text": [
      "Permit price: 29.56390380859375 and total emission: 1776.2708004843143 and emission cap 1792.3487496586795\n",
      "Max diff: 0.02, permit price = 29.6, cap = 1792, second_stage = False, a = 1.00000000"
     ]
    },
    {
     "name": "stderr",
     "output_type": "stream",
     "text": [
      " 26%|██▋       | 26/99 [1:07:09<3:09:50, 156.03s/it]"
     ]
    },
    {
     "name": "stdout",
     "output_type": "stream",
     "text": [
      "Permit price: 29.56390380859375 and total emission: 1776.2708004843143 and emission cap 1792.3487496586795\n",
      "Max diff: 0.02, permit price = 29.6, cap = 1792, second_stage = False, a = 1.00000000"
     ]
    },
    {
     "name": "stderr",
     "output_type": "stream",
     "text": [
      " 27%|██▋       | 27/99 [1:09:46<3:07:35, 156.33s/it]"
     ]
    },
    {
     "name": "stdout",
     "output_type": "stream",
     "text": [
      "Permit price: 29.56390380859375 and total emission: 1776.2708004843143 and emission cap 1792.3487496586795\n",
      "Max diff: 0.02, permit price = 29.6, cap = 1792, second_stage = False, a = 1.00000000"
     ]
    },
    {
     "name": "stderr",
     "output_type": "stream",
     "text": [
      " 28%|██▊       | 28/99 [1:12:23<3:05:17, 156.58s/it]"
     ]
    },
    {
     "name": "stdout",
     "output_type": "stream",
     "text": [
      "Permit price: 29.56390380859375 and total emission: 1788.5193896319938 and emission cap 1792.3487496586795\n",
      "Max diff: 0.02, permit price = 29.6, cap = 1792, second_stage = False, a = 1.00000000"
     ]
    },
    {
     "name": "stderr",
     "output_type": "stream",
     "text": [
      " 29%|██▉       | 29/99 [1:15:01<3:03:05, 156.94s/it]"
     ]
    },
    {
     "name": "stdout",
     "output_type": "stream",
     "text": [
      "Permit price: 29.56390380859375 and total emission: 1788.5193896319938 and emission cap 1792.3487496586795\n",
      "Max diff: 0.02, permit price = 29.6, cap = 1792, second_stage = False, a = 1.00000000"
     ]
    },
    {
     "name": "stderr",
     "output_type": "stream",
     "text": [
      " 30%|███       | 30/99 [1:17:41<3:01:21, 157.70s/it]"
     ]
    },
    {
     "name": "stdout",
     "output_type": "stream",
     "text": [
      "Permit price: 29.56390380859375 and total emission: 1788.5193896319938 and emission cap 1792.3487496586795\n",
      "Max diff: 0.02, permit price = 29.6, cap = 1792, second_stage = False, a = 1.00000000"
     ]
    },
    {
     "name": "stderr",
     "output_type": "stream",
     "text": [
      " 31%|███▏      | 31/99 [1:20:19<2:58:56, 157.89s/it]"
     ]
    },
    {
     "name": "stdout",
     "output_type": "stream",
     "text": [
      "Permit price: 29.56390380859375 and total emission: 1788.5193896319938 and emission cap 1792.3487496586795\n",
      "Max diff: 0.02, permit price = 29.6, cap = 1792, second_stage = False, a = 1.00000000"
     ]
    },
    {
     "name": "stderr",
     "output_type": "stream",
     "text": [
      " 32%|███▏      | 32/99 [1:22:58<2:56:31, 158.08s/it]"
     ]
    },
    {
     "name": "stdout",
     "output_type": "stream",
     "text": [
      "Permit price: 29.56390380859375 and total emission: 1788.5193896319938 and emission cap 1792.3487496586795\n",
      "Max diff: 0.02, permit price = 29.6, cap = 1792, second_stage = False, a = 1.00000000"
     ]
    },
    {
     "name": "stderr",
     "output_type": "stream",
     "text": [
      " 33%|███▎      | 33/99 [1:25:36<2:54:04, 158.25s/it]"
     ]
    },
    {
     "name": "stdout",
     "output_type": "stream",
     "text": [
      "Permit price: 29.56390380859375 and total emission: 1788.5193896319938 and emission cap 1792.3487496586795\n",
      "Max diff: 0.02, permit price = 29.6, cap = 1792, second_stage = False, a = 1.00000000"
     ]
    },
    {
     "name": "stderr",
     "output_type": "stream",
     "text": [
      " 34%|███▍      | 34/99 [1:28:15<2:51:42, 158.51s/it]"
     ]
    },
    {
     "name": "stdout",
     "output_type": "stream",
     "text": [
      "Permit price: 29.56390380859375 and total emission: 1788.5193896319938 and emission cap 1792.3487496586795\n",
      "Max diff: 0.02, permit price = 29.6, cap = 1792, second_stage = False, a = 1.00000000"
     ]
    },
    {
     "name": "stderr",
     "output_type": "stream",
     "text": [
      " 35%|███▌      | 35/99 [1:30:55<2:49:31, 158.94s/it]"
     ]
    },
    {
     "name": "stdout",
     "output_type": "stream",
     "text": [
      "Permit price: 29.56390380859375 and total emission: 1788.5193896319938 and emission cap 1792.3487496586795\n",
      "Max diff: 0.02, permit price = 29.6, cap = 1792, second_stage = False, a = 1.00000000"
     ]
    },
    {
     "name": "stderr",
     "output_type": "stream",
     "text": [
      " 36%|███▋      | 36/99 [1:33:37<2:47:45, 159.77s/it]"
     ]
    },
    {
     "name": "stdout",
     "output_type": "stream",
     "text": [
      "Permit price: 29.56390380859375 and total emission: 1788.5193896319938 and emission cap 1792.3487496586795\n",
      "Permit price: 30.040741price = 30.0, cap = 1792, second_stage = False, a = 1.00000000"
     ]
    },
    {
     "name": "stderr",
     "output_type": "stream",
     "text": [
      " 37%|███▋      | 37/99 [1:36:10<2:43:10, 157.91s/it]"
     ]
    },
    {
     "name": "stdout",
     "output_type": "stream",
     "text": [
      "Permit price: 30.040740966796875 and total emission: 1787.774313236243 and emission cap 1792.3487496586795\n",
      "Max diff: 0.05, permit price = 30.5, cap = 1792, second_stage = False, a = 1.00000000"
     ]
    },
    {
     "name": "stderr",
     "output_type": "stream",
     "text": [
      " 38%|███▊      | 38/99 [1:38:50<2:41:08, 158.50s/it]"
     ]
    },
    {
     "name": "stdout",
     "output_type": "stream",
     "text": [
      "Permit price: 30.517578125 and total emission: 1786.7569292329206 and emission cap 1792.3487496586795\n",
      "Permit price: 30.994415price = 31.0, cap = 1792, second_stage = False, a = 1.00000000"
     ]
    },
    {
     "name": "stderr",
     "output_type": "stream",
     "text": [
      " 39%|███▉      | 39/99 [1:41:45<2:43:24, 163.41s/it]"
     ]
    },
    {
     "name": "stdout",
     "output_type": "stream",
     "text": [
      "Permit price: 30.994415283203125 and total emission: 1785.9355220065247 and emission cap 1792.3487496586795\n",
      "Max diff: 0.09, permit price = 31.5, cap = 1792, second_stage = False, a = 1.00000000"
     ]
    },
    {
     "name": "stderr",
     "output_type": "stream",
     "text": [
      " 40%|████      | 40/99 [1:44:47<2:46:03, 168.87s/it]"
     ]
    },
    {
     "name": "stdout",
     "output_type": "stream",
     "text": [
      "Permit price: 31.47125244140625 and total emission: 1779.3322460130028 and emission cap 1792.3487496586795\n",
      "Max diff: 0.09, permit price = 31.5, cap = 1792, second_stage = False, a = 1.00000000"
     ]
    },
    {
     "name": "stderr",
     "output_type": "stream",
     "text": [
      " 41%|████▏     | 41/99 [1:47:49<2:47:09, 172.91s/it]"
     ]
    },
    {
     "name": "stdout",
     "output_type": "stream",
     "text": [
      "Permit price: 31.47125244140625 and total emission: 1779.3322460130028 and emission cap 1792.3487496586795\n",
      "Max diff: 0.09, permit price = 31.5, cap = 1792, second_stage = False, a = 1.00000000"
     ]
    },
    {
     "name": "stderr",
     "output_type": "stream",
     "text": [
      " 42%|████▏     | 42/99 [1:50:51<2:46:51, 175.64s/it]"
     ]
    },
    {
     "name": "stdout",
     "output_type": "stream",
     "text": [
      "Permit price: 31.47125244140625 and total emission: 1779.3322460130028 and emission cap 1792.3487496586795\n",
      "Max diff: 0.09, permit price = 31.5, cap = 1792, second_stage = False, a = 1.00000000"
     ]
    },
    {
     "name": "stderr",
     "output_type": "stream",
     "text": [
      " 43%|████▎     | 43/99 [1:53:51<2:45:02, 176.84s/it]"
     ]
    },
    {
     "name": "stdout",
     "output_type": "stream",
     "text": [
      "Permit price: 31.47125244140625 and total emission: 1779.3322460130028 and emission cap 1792.3487496586795\n",
      "Max diff: 0.09, permit price = 31.5, cap = 1792, second_stage = False, a = 1.00000000"
     ]
    },
    {
     "name": "stderr",
     "output_type": "stream",
     "text": [
      " 44%|████▍     | 44/99 [1:56:54<2:43:48, 178.70s/it]"
     ]
    },
    {
     "name": "stdout",
     "output_type": "stream",
     "text": [
      "Permit price: 31.47125244140625 and total emission: 1779.3322460130028 and emission cap 1792.3487496586795\n",
      "Permit price: 31.948090price = 31.9, cap = 1792, second_stage = False, a = 1.00000000"
     ]
    },
    {
     "name": "stderr",
     "output_type": "stream",
     "text": [
      " 45%|████▌     | 45/99 [1:59:56<2:41:45, 179.73s/it]"
     ]
    },
    {
     "name": "stdout",
     "output_type": "stream",
     "text": [
      "Permit price: 31.948089599609375 and total emission: 1791.7505095193987 and emission cap 1792.3487496586795\n",
      "Permit price: 31.948090price = 31.9, cap = 1792, second_stage = False, a = 1.00000000"
     ]
    },
    {
     "name": "stderr",
     "output_type": "stream",
     "text": [
      " 46%|████▋     | 46/99 [2:02:58<2:39:19, 180.37s/it]"
     ]
    },
    {
     "name": "stdout",
     "output_type": "stream",
     "text": [
      "Permit price: 31.948089599609375 and total emission: 1791.7505095193987 and emission cap 1792.3487496586795\n",
      "Permit price: 31.948090price = 31.9, cap = 1792, second_stage = False, a = 1.00000000"
     ]
    },
    {
     "name": "stderr",
     "output_type": "stream",
     "text": [
      " 47%|████▋     | 47/99 [2:06:00<2:36:41, 180.79s/it]"
     ]
    },
    {
     "name": "stdout",
     "output_type": "stream",
     "text": [
      "Permit price: 31.948089599609375 and total emission: 1791.7505095193987 and emission cap 1792.3487496586795\n",
      "Permit price: 31.948090price = 31.9, cap = 1792, second_stage = False, a = 1.00000000"
     ]
    },
    {
     "name": "stderr",
     "output_type": "stream",
     "text": [
      " 48%|████▊     | 48/99 [2:09:02<2:34:09, 181.37s/it]"
     ]
    },
    {
     "name": "stdout",
     "output_type": "stream",
     "text": [
      "Permit price: 31.948089599609375 and total emission: 1791.7505095193987 and emission cap 1792.3487496586795\n",
      "Max diff: 0.08, permit price = 32.4, cap = 1792, second_stage = False, a = 1.00000000"
     ]
    },
    {
     "name": "stderr",
     "output_type": "stream",
     "text": [
      " 49%|████▉     | 49/99 [2:12:06<2:31:47, 182.15s/it]"
     ]
    },
    {
     "name": "stdout",
     "output_type": "stream",
     "text": [
      "Permit price: 32.4249267578125 and total emission: 1790.723504843061 and emission cap 1792.3487496586795\n",
      "Permit price: 32.901764price = 32.9, cap = 1792, second_stage = False, a = 1.00000000"
     ]
    },
    {
     "name": "stderr",
     "output_type": "stream",
     "text": [
      " 51%|█████     | 50/99 [2:15:04<2:27:46, 180.95s/it]"
     ]
    },
    {
     "name": "stdout",
     "output_type": "stream",
     "text": [
      "Permit price: 32.901763916015625 and total emission: 1789.9152872680306 and emission cap 1792.3487496586795\n",
      "Max diff: 0.06, permit price = 33.4, cap = 1792, second_stage = False, a = 1.00000000"
     ]
    },
    {
     "name": "stderr",
     "output_type": "stream",
     "text": [
      " 52%|█████▏    | 51/99 [2:18:09<2:25:34, 181.97s/it]"
     ]
    },
    {
     "name": "stdout",
     "output_type": "stream",
     "text": [
      "Permit price: 33.37860107421875 and total emission: 1789.1914242101277 and emission cap 1792.3487496586795\n",
      "Max diff: 0.07, permit price = 34.3, cap = 1792, second_stage = False, a = 1.00000000"
     ]
    },
    {
     "name": "stderr",
     "output_type": "stream",
     "text": [
      " 53%|█████▎    | 52/99 [2:21:17<2:23:59, 183.82s/it]"
     ]
    },
    {
     "name": "stdout",
     "output_type": "stream",
     "text": [
      "Permit price: 34.332275390625 and total emission: 1787.9663305134218 and emission cap 1792.3487496586795\n",
      "Permit price: 34.809113price = 34.8, cap = 1792, second_stage = False, a = 1.00000000"
     ]
    },
    {
     "name": "stderr",
     "output_type": "stream",
     "text": [
      " 54%|█████▎    | 53/99 [2:24:06<2:17:33, 179.43s/it]"
     ]
    },
    {
     "name": "stdout",
     "output_type": "stream",
     "text": [
      "Permit price: 34.809112548828125 and total emission: 1786.872125563584 and emission cap 1792.3487496586795\n",
      "Max diff: 0.07, permit price = 35.3, cap = 1792, second_stage = False, a = 1.00000000"
     ]
    },
    {
     "name": "stderr",
     "output_type": "stream",
     "text": [
      " 55%|█████▍    | 54/99 [2:27:33<2:20:44, 187.65s/it]"
     ]
    },
    {
     "name": "stdout",
     "output_type": "stream",
     "text": [
      "Permit price: 35.28594970703125 and total emission: 1781.1713566181393 and emission cap 1792.3487496586795\n",
      "Max diff: 0.07, permit price = 35.3, cap = 1792, second_stage = False, a = 1.00000000"
     ]
    },
    {
     "name": "stderr",
     "output_type": "stream",
     "text": [
      " 56%|█████▌    | 55/99 [2:30:58<2:21:30, 192.98s/it]"
     ]
    },
    {
     "name": "stdout",
     "output_type": "stream",
     "text": [
      "Permit price: 35.28594970703125 and total emission: 1781.1713566181393 and emission cap 1792.3487496586795\n",
      "Max diff: 0.07, permit price = 35.3, cap = 1792, second_stage = False, a = 1.00000000"
     ]
    },
    {
     "name": "stderr",
     "output_type": "stream",
     "text": [
      " 57%|█████▋    | 56/99 [2:34:21<2:20:19, 195.81s/it]"
     ]
    },
    {
     "name": "stdout",
     "output_type": "stream",
     "text": [
      "Permit price: 35.28594970703125 and total emission: 1781.1713566181393 and emission cap 1792.3487496586795\n",
      "Max diff: 0.07, permit price = 35.3, cap = 1792, second_stage = False, a = 1.00000000"
     ]
    },
    {
     "name": "stderr",
     "output_type": "stream",
     "text": [
      " 58%|█████▊    | 57/99 [2:37:48<2:19:24, 199.14s/it]"
     ]
    },
    {
     "name": "stdout",
     "output_type": "stream",
     "text": [
      "Permit price: 35.28594970703125 and total emission: 1781.1713566181393 and emission cap 1792.3487496586795\n",
      "Max diff: 0.07, permit price = 35.3, cap = 1792, second_stage = False, a = 1.00000000"
     ]
    },
    {
     "name": "stderr",
     "output_type": "stream",
     "text": [
      " 59%|█████▊    | 58/99 [2:41:16<2:17:52, 201.78s/it]"
     ]
    },
    {
     "name": "stdout",
     "output_type": "stream",
     "text": [
      "Permit price: 35.28594970703125 and total emission: 1781.1713566181393 and emission cap 1792.3487496586795\n",
      "Max diff: 0.07, permit price = 35.3, cap = 1792, second_stage = False, a = 1.00000000"
     ]
    },
    {
     "name": "stderr",
     "output_type": "stream",
     "text": [
      " 60%|█████▉    | 59/99 [2:44:48<2:16:37, 204.93s/it]"
     ]
    },
    {
     "name": "stdout",
     "output_type": "stream",
     "text": [
      "Permit price: 35.28594970703125 and total emission: 1781.1713566181393 and emission cap 1792.3487496586795\n",
      "Max diff: 0.07, permit price = 35.3, cap = 1792, second_stage = False, a = 1.00000000"
     ]
    },
    {
     "name": "stderr",
     "output_type": "stream",
     "text": [
      " 61%|██████    | 60/99 [2:48:16<2:13:45, 205.78s/it]"
     ]
    },
    {
     "name": "stdout",
     "output_type": "stream",
     "text": [
      "Permit price: 35.28594970703125 and total emission: 1781.1713566181393 and emission cap 1792.3487496586795\n",
      "Max diff: 0.07, permit price = 35.3, cap = 1792, second_stage = False, a = 1.00000000"
     ]
    },
    {
     "name": "stderr",
     "output_type": "stream",
     "text": [
      " 62%|██████▏   | 61/99 [2:51:50<2:11:51, 208.19s/it]"
     ]
    },
    {
     "name": "stdout",
     "output_type": "stream",
     "text": [
      "Permit price: 35.28594970703125 and total emission: 1781.1713566181393 and emission cap 1792.3487496586795\n",
      "Max diff: 0.05, permit price = 36.2, cap = 1792, second_stage = False, a = 1.00000000"
     ]
    },
    {
     "name": "stderr",
     "output_type": "stream",
     "text": [
      " 63%|██████▎   | 62/99 [2:54:56<2:04:22, 201.68s/it]"
     ]
    },
    {
     "name": "stdout",
     "output_type": "stream",
     "text": [
      "Permit price: 36.2396240234375 and total emission: 1779.7943728496562 and emission cap 1792.3487496586795\n",
      "Max diff: 0.05, permit price = 37.2, cap = 1792, second_stage = False, a = 1.00000000"
     ]
    },
    {
     "name": "stderr",
     "output_type": "stream",
     "text": [
      " 64%|██████▎   | 63/99 [2:58:41<2:05:15, 208.76s/it]"
     ]
    },
    {
     "name": "stdout",
     "output_type": "stream",
     "text": [
      "Permit price: 37.19329833984375 and total emission: 1760.1979482939387 and emission cap 1792.3487496586795\n",
      "Max diff: 0.05, permit price = 37.2, cap = 1792, second_stage = False, a = 1.00000000"
     ]
    },
    {
     "name": "stderr",
     "output_type": "stream",
     "text": [
      " 65%|██████▍   | 64/99 [3:02:33<2:05:49, 215.70s/it]"
     ]
    },
    {
     "name": "stdout",
     "output_type": "stream",
     "text": [
      "Permit price: 37.19329833984375 and total emission: 1774.0987153014323 and emission cap 1792.3487496586795\n",
      "Max diff: 0.05, permit price = 37.2, cap = 1792, second_stage = False, a = 1.00000000"
     ]
    },
    {
     "name": "stderr",
     "output_type": "stream",
     "text": [
      " 66%|██████▌   | 65/99 [3:06:27<2:05:16, 221.06s/it]"
     ]
    },
    {
     "name": "stdout",
     "output_type": "stream",
     "text": [
      "Permit price: 37.19329833984375 and total emission: 1774.0987153014323 and emission cap 1792.3487496586795\n",
      "Max diff: 0.05, permit price = 37.2, cap = 1792, second_stage = False, a = 1.00000000"
     ]
    },
    {
     "name": "stderr",
     "output_type": "stream",
     "text": [
      " 67%|██████▋   | 66/99 [3:10:15<2:02:43, 223.14s/it]"
     ]
    },
    {
     "name": "stdout",
     "output_type": "stream",
     "text": [
      "Permit price: 37.19329833984375 and total emission: 1774.0987153014323 and emission cap 1792.3487496586795\n",
      "Max diff: 0.05, permit price = 37.2, cap = 1792, second_stage = False, a = 1.00000000"
     ]
    },
    {
     "name": "stderr",
     "output_type": "stream",
     "text": [
      " 68%|██████▊   | 67/99 [3:14:09<2:00:44, 226.38s/it]"
     ]
    },
    {
     "name": "stdout",
     "output_type": "stream",
     "text": [
      "Permit price: 37.19329833984375 and total emission: 1787.9994823089257 and emission cap 1792.3487496586795\n",
      "Max diff: 0.05, permit price = 37.2, cap = 1792, second_stage = False, a = 1.00000000"
     ]
    },
    {
     "name": "stderr",
     "output_type": "stream",
     "text": [
      " 69%|██████▊   | 68/99 [3:18:03<1:58:12, 228.80s/it]"
     ]
    },
    {
     "name": "stdout",
     "output_type": "stream",
     "text": [
      "Permit price: 37.19329833984375 and total emission: 1787.9994823089257 and emission cap 1792.3487496586795\n",
      "Max diff: 0.05, permit price = 37.2, cap = 1792, second_stage = False, a = 1.00000000"
     ]
    },
    {
     "name": "stderr",
     "output_type": "stream",
     "text": [
      " 70%|██████▉   | 69/99 [3:21:53<1:54:33, 229.10s/it]"
     ]
    },
    {
     "name": "stdout",
     "output_type": "stream",
     "text": [
      "Permit price: 37.19329833984375 and total emission: 1787.9994823089257 and emission cap 1792.3487496586795\n",
      "Max diff: 0.05, permit price = 37.2, cap = 1792, second_stage = False, a = 1.00000000"
     ]
    },
    {
     "name": "stderr",
     "output_type": "stream",
     "text": [
      " 71%|███████   | 70/99 [3:25:49<1:51:42, 231.13s/it]"
     ]
    },
    {
     "name": "stdout",
     "output_type": "stream",
     "text": [
      "Permit price: 37.19329833984375 and total emission: 1787.9994823089257 and emission cap 1792.3487496586795\n",
      "Max diff: 0.10, permit price = 38.1, cap = 1792, second_stage = False, a = 1.00000000"
     ]
    },
    {
     "name": "stderr",
     "output_type": "stream",
     "text": [
      " 72%|███████▏  | 71/99 [3:29:06<1:43:02, 220.81s/it]"
     ]
    },
    {
     "name": "stdout",
     "output_type": "stream",
     "text": [
      "Permit price: 38.14697265625 and total emission: 1786.6182242766265 and emission cap 1792.3487496586795\n",
      "Permit price: 38.623810price = 38.6, cap = 1792, second_stage = False, a = 1.00000000"
     ]
    },
    {
     "name": "stderr",
     "output_type": "stream",
     "text": [
      " 73%|███████▎  | 72/99 [3:32:06<1:33:56, 208.77s/it]"
     ]
    },
    {
     "name": "stdout",
     "output_type": "stream",
     "text": [
      "Permit price: 38.623809814453125 and total emission: 1781.7678051832854 and emission cap 1792.3487496586795\n",
      "Permit price: 38.623810price = 38.6, cap = 1792, second_stage = False, a = 1.00000000"
     ]
    },
    {
     "name": "stderr",
     "output_type": "stream",
     "text": [
      " 74%|███████▎  | 73/99 [3:35:07<1:26:48, 200.31s/it]"
     ]
    },
    {
     "name": "stdout",
     "output_type": "stream",
     "text": [
      "Permit price: 38.623809814453125 and total emission: 1781.7678051832854 and emission cap 1792.3487496586795\n",
      "Permit price: 38.623810price = 38.6, cap = 1792, second_stage = False, a = 1.00000000"
     ]
    },
    {
     "name": "stderr",
     "output_type": "stream",
     "text": [
      " 75%|███████▍  | 74/99 [3:38:15<1:21:54, 196.59s/it]"
     ]
    },
    {
     "name": "stdout",
     "output_type": "stream",
     "text": [
      "Permit price: 38.623809814453125 and total emission: 1781.7678051832854 and emission cap 1792.3487496586795\n",
      "Permit price: 38.623810price = 38.6, cap = 1792, second_stage = False, a = 1.00000000"
     ]
    },
    {
     "name": "stderr",
     "output_type": "stream",
     "text": [
      " 76%|███████▌  | 75/99 [3:41:16<1:16:50, 192.09s/it]"
     ]
    },
    {
     "name": "stdout",
     "output_type": "stream",
     "text": [
      "Permit price: 38.623809814453125 and total emission: 1781.7678051832854 and emission cap 1792.3487496586795\n",
      "Permit price: 38.623810price = 38.6, cap = 1792, second_stage = False, a = 1.00000000"
     ]
    },
    {
     "name": "stderr",
     "output_type": "stream",
     "text": [
      " 77%|███████▋  | 76/99 [3:44:22<1:12:57, 190.30s/it]"
     ]
    },
    {
     "name": "stdout",
     "output_type": "stream",
     "text": [
      "Permit price: 38.623809814453125 and total emission: 1781.7678051832854 and emission cap 1792.3487496586795\n",
      "Permit price: 38.623810price = 38.6, cap = 1792, second_stage = False, a = 1.00000000"
     ]
    },
    {
     "name": "stderr",
     "output_type": "stream",
     "text": [
      " 78%|███████▊  | 77/99 [3:47:26<1:09:04, 188.41s/it]"
     ]
    },
    {
     "name": "stdout",
     "output_type": "stream",
     "text": [
      "Permit price: 38.623809814453125 and total emission: 1781.7678051832854 and emission cap 1792.3487496586795\n",
      "Permit price: 38.623810price = 38.6, cap = 1792, second_stage = False, a = 1.00000000"
     ]
    },
    {
     "name": "stderr",
     "output_type": "stream",
     "text": [
      " 79%|███████▉  | 78/99 [3:50:35<1:05:58, 188.49s/it]"
     ]
    },
    {
     "name": "stdout",
     "output_type": "stream",
     "text": [
      "Permit price: 38.623809814453125 and total emission: 1781.7678051832854 and emission cap 1792.3487496586795\n",
      "Max diff: 0.09, permit price = 39.1, cap = 1792, second_stage = False, a = 0.81000000"
     ]
    },
    {
     "name": "stderr",
     "output_type": "stream",
     "text": [
      " 80%|███████▉  | 79/99 [3:55:16<1:12:05, 216.28s/it]"
     ]
    },
    {
     "name": "stdout",
     "output_type": "stream",
     "text": [
      "Permit price: 39.10064697265625 and total emission: 1781.1166608589338 and emission cap 1792.3487496586795\n",
      "Max diff: 0.09, permit price = 41.0, cap = 1792, second_stage = False, a = 1.00000000"
     ]
    },
    {
     "name": "stderr",
     "output_type": "stream",
     "text": [
      " 81%|████████  | 80/99 [3:58:38<1:07:05, 211.89s/it]"
     ]
    },
    {
     "name": "stdout",
     "output_type": "stream",
     "text": [
      "Permit price: 41.00799560546875 and total emission: 1778.0451055736094 and emission cap 1792.3487496586795\n",
      "Permit price: 41.484833price = 41.5, cap = 1792, second_stage = False, a = 1.00000000"
     ]
    },
    {
     "name": "stderr",
     "output_type": "stream",
     "text": [
      " 82%|████████▏ | 81/99 [4:01:48<1:01:34, 205.23s/it]"
     ]
    },
    {
     "name": "stdout",
     "output_type": "stream",
     "text": [
      "Permit price: 41.484832763671875 and total emission: 1792.189778018009 and emission cap 1792.3487496586795\n",
      "Permit price: 41.484833price = 41.5, cap = 1792, second_stage = False, a = 1.00000000"
     ]
    },
    {
     "name": "stderr",
     "output_type": "stream",
     "text": [
      " 83%|████████▎ | 82/99 [4:05:04<57:26, 202.73s/it]  "
     ]
    },
    {
     "name": "stdout",
     "output_type": "stream",
     "text": [
      "Permit price: 41.484832763671875 and total emission: 1792.189778018009 and emission cap 1792.3487496586795\n",
      "Permit price: 41.484833price = 41.5, cap = 1792, second_stage = False, a = 1.00000000"
     ]
    },
    {
     "name": "stderr",
     "output_type": "stream",
     "text": [
      " 84%|████████▍ | 83/99 [4:08:17<53:14, 199.68s/it]"
     ]
    },
    {
     "name": "stdout",
     "output_type": "stream",
     "text": [
      "Permit price: 41.484832763671875 and total emission: 1792.189778018009 and emission cap 1792.3487496586795\n",
      "Max diff: 0.10, permit price = 42.0, cap = 1792, second_stage = False, a = 1.00000000"
     ]
    },
    {
     "name": "stderr",
     "output_type": "stream",
     "text": [
      " 85%|████████▍ | 84/99 [4:11:40<50:12, 200.83s/it]"
     ]
    },
    {
     "name": "stdout",
     "output_type": "stream",
     "text": [
      "Permit price: 41.961669921875 and total emission: 1791.4852638215693 and emission cap 1792.3487496586795\n",
      "Permit price: 42.438507price = 42.4, cap = 1792, second_stage = False, a = 1.00000000"
     ]
    },
    {
     "name": "stderr",
     "output_type": "stream",
     "text": [
      " 86%|████████▌ | 85/99 [4:15:15<47:49, 204.93s/it]"
     ]
    },
    {
     "name": "stdout",
     "output_type": "stream",
     "text": [
      "Permit price: 42.438507080078125 and total emission: 1788.350743290678 and emission cap 1792.3487496586795\n",
      "Permit price: 42.438507price = 42.4, cap = 1792, second_stage = False, a = 1.00000000"
     ]
    },
    {
     "name": "stderr",
     "output_type": "stream",
     "text": [
      " 87%|████████▋ | 86/99 [4:18:43<44:36, 205.90s/it]"
     ]
    },
    {
     "name": "stdout",
     "output_type": "stream",
     "text": [
      "Permit price: 42.438507080078125 and total emission: 1788.350743290678 and emission cap 1792.3487496586795\n",
      "Permit price: 42.438507price = 42.4, cap = 1792, second_stage = False, a = 1.00000000"
     ]
    },
    {
     "name": "stderr",
     "output_type": "stream",
     "text": [
      " 88%|████████▊ | 87/99 [4:22:16<41:37, 208.09s/it]"
     ]
    },
    {
     "name": "stdout",
     "output_type": "stream",
     "text": [
      "Permit price: 42.438507080078125 and total emission: 1788.350743290678 and emission cap 1792.3487496586795\n",
      "Max diff: 0.03, permit price = 43.9, cap = 1792, second_stage = False, a = 1.00000000"
     ]
    },
    {
     "name": "stderr",
     "output_type": "stream",
     "text": [
      " 89%|████████▉ | 88/99 [4:25:48<38:20, 209.18s/it]"
     ]
    },
    {
     "name": "stdout",
     "output_type": "stream",
     "text": [
      "Permit price: 43.8690185546875 and total emission: 1769.4188625977415 and emission cap 1792.3487496586795\n",
      "Max diff: 0.03, permit price = 43.9, cap = 1792, second_stage = False, a = 1.00000000"
     ]
    },
    {
     "name": "stderr",
     "output_type": "stream",
     "text": [
      " 90%|████████▉ | 89/99 [4:29:27<35:19, 211.98s/it]"
     ]
    },
    {
     "name": "stdout",
     "output_type": "stream",
     "text": [
      "Permit price: 43.8690185546875 and total emission: 1784.2275008765546 and emission cap 1792.3487496586795\n",
      "Max diff: 0.03, permit price = 43.9, cap = 1792, second_stage = False, a = 1.00000000"
     ]
    },
    {
     "name": "stderr",
     "output_type": "stream",
     "text": [
      " 91%|█████████ | 90/99 [4:33:01<31:53, 212.58s/it]"
     ]
    },
    {
     "name": "stdout",
     "output_type": "stream",
     "text": [
      "Permit price: 43.8690185546875 and total emission: 1784.2275008765546 and emission cap 1792.3487496586795\n",
      "Max diff: 0.03, permit price = 43.9, cap = 1792, second_stage = False, a = 1.00000000"
     ]
    },
    {
     "name": "stderr",
     "output_type": "stream",
     "text": [
      " 92%|█████████▏| 91/99 [4:36:40<28:36, 214.55s/it]"
     ]
    },
    {
     "name": "stdout",
     "output_type": "stream",
     "text": [
      "Permit price: 43.8690185546875 and total emission: 1784.2275008765546 and emission cap 1792.3487496586795\n",
      "Max diff: 0.03, permit price = 43.9, cap = 1792, second_stage = False, a = 1.00000000"
     ]
    },
    {
     "name": "stderr",
     "output_type": "stream",
     "text": [
      " 93%|█████████▎| 92/99 [4:40:23<25:19, 217.09s/it]"
     ]
    },
    {
     "name": "stdout",
     "output_type": "stream",
     "text": [
      "Permit price: 43.8690185546875 and total emission: 1784.2275008765546 and emission cap 1792.3487496586795\n",
      "Max diff: 0.03, permit price = 43.9, cap = 1792, second_stage = False, a = 1.00000000"
     ]
    },
    {
     "name": "stderr",
     "output_type": "stream",
     "text": [
      " 94%|█████████▍| 93/99 [4:44:00<21:43, 217.27s/it]"
     ]
    },
    {
     "name": "stdout",
     "output_type": "stream",
     "text": [
      "Permit price: 43.8690185546875 and total emission: 1784.2275008765546 and emission cap 1792.3487496586795\n",
      "Max diff: 0.03, permit price = 43.9, cap = 1792, second_stage = False, a = 1.00000000"
     ]
    },
    {
     "name": "stderr",
     "output_type": "stream",
     "text": [
      " 95%|█████████▍| 94/99 [4:47:47<18:19, 219.93s/it]"
     ]
    },
    {
     "name": "stdout",
     "output_type": "stream",
     "text": [
      "Permit price: 43.8690185546875 and total emission: 1784.2275008765546 and emission cap 1792.3487496586795\n",
      "Max diff: 0.07, permit price = 44.8, cap = 1792, second_stage = False, a = 1.00000000"
     ]
    },
    {
     "name": "stderr",
     "output_type": "stream",
     "text": [
      " 96%|█████████▌| 95/99 [4:52:05<15:26, 231.51s/it]"
     ]
    },
    {
     "name": "stdout",
     "output_type": "stream",
     "text": [
      "Permit price: 44.82269287109375 and total emission: 1782.7624974314888 and emission cap 1792.3487496586795\n",
      "Max diff: 0.09, permit price = 45.8, cap = 1792, second_stage = False, a = 1.00000000"
     ]
    },
    {
     "name": "stderr",
     "output_type": "stream",
     "text": [
      " 97%|█████████▋| 96/99 [4:56:26<12:01, 240.40s/it]"
     ]
    },
    {
     "name": "stdout",
     "output_type": "stream",
     "text": [
      "Permit price: 45.7763671875 and total emission: 1780.069862894643 and emission cap 1792.3487496586795\n",
      "Max diff: 0.09, permit price = 45.8, cap = 1792, second_stage = False, a = 1.00000000"
     ]
    },
    {
     "name": "stderr",
     "output_type": "stream",
     "text": [
      " 98%|█████████▊| 97/99 [5:00:59<08:20, 250.06s/it]"
     ]
    },
    {
     "name": "stdout",
     "output_type": "stream",
     "text": [
      "Permit price: 45.7763671875 and total emission: 1780.069862894643 and emission cap 1792.3487496586795\n",
      "Max diff: 0.09, permit price = 45.8, cap = 1792, second_stage = False, a = 1.00000000"
     ]
    },
    {
     "name": "stderr",
     "output_type": "stream",
     "text": [
      " 99%|█████████▉| 98/99 [5:05:27<04:15, 255.47s/it]"
     ]
    },
    {
     "name": "stdout",
     "output_type": "stream",
     "text": [
      "Permit price: 45.7763671875 and total emission: 1780.069862894643 and emission cap 1792.3487496586795\n",
      "Permit price: 48.160553price = 48.2, cap = 1792, second_stage = False, a = 1.00000000"
     ]
    },
    {
     "name": "stderr",
     "output_type": "stream",
     "text": [
      "100%|██████████| 99/99 [5:09:31<00:00, 187.59s/it]"
     ]
    },
    {
     "name": "stdout",
     "output_type": "stream",
     "text": [
      "Permit price: 48.160552978515625 and total emission: 1792.3085938178126 and emission cap 1792.3487496586795\n"
     ]
    },
    {
     "name": "stderr",
     "output_type": "stream",
     "text": [
      "\n"
     ]
    },
    {
     "ename": "",
     "evalue": "",
     "output_type": "error",
     "traceback": [
      "\u001b[1;31mThe Kernel crashed while executing code in the current cell or a previous cell. \n",
      "\u001b[1;31mPlease review the code in the cell(s) to identify a possible cause of the failure. \n",
      "\u001b[1;31mClick <a href='https://aka.ms/vscodeJupyterKernelCrash'>here</a> for more info. \n",
      "\u001b[1;31mView Jupyter <a href='command:jupyter.viewOutput'>log</a> for further details."
     ]
    }
   ],
   "source": [
    "# Let's see what happens in we change the free allocation of sector A keeping the cap at 80% of the BAU emissions\n",
    "free_allocation_sectorA = list(np.linspace(0, 1, 100))\n",
    "# Read the data from the csv file, if it exists, if not, just create a new one\n",
    "try:\n",
    "    df = pd.read_csv('Free_allocation_of_one_sector_v0.csv')\n",
    "    free_alloc = list(df['Free Allocation'])\n",
    "    caps2 = list(df['Emission Cap'])\n",
    "    permit_prices = list(df['Permit Price'])\n",
    "    outputs = list(df['Outputs'])\n",
    "    emissions = list(df['Emissions'])\n",
    "    profits = list(df['Profits'])\n",
    "except:\n",
    "    free_alloc = []\n",
    "    caps2 = []\n",
    "    permit_prices = []\n",
    "    outputs = []\n",
    "    emissions = []\n",
    "    profits = []\n",
    "# Loop through all the emission caps and calculate the permit price\n",
    "\n",
    "# Find all the caps that are not calculated yet (meaning that they are more than 0.5 different than a value of the caps2)\n",
    "for i in free_allocation_sectorA[:]:  # Iterate over a copy of the list\n",
    "    if any(abs(i - x) < 0.001 for x in free_alloc):\n",
    "        free_allocation_sectorA.remove(i)\n",
    "\n",
    "Regulator2.emission_cap = 0.8*Regulator2.BAU_emissions\n",
    "\n",
    "for i in tqdm.tqdm(free_allocation_sectorA):\n",
    "    Regulator2.sector_registry[1].free_emission_multiplier = i\n",
    "    Regulator2.find_optimal_permit_price_to_meet_the_emission_cap_requirements(precision= 0.1, x_high = 1000000)\n",
    "    caps2.append(Regulator2.emission_cap)\n",
    "    free_alloc.append(i)\n",
    "    permit_prices.append(Regulator2.permit_price)\n",
    "    outputs.append(tuple([firm.actual_output for firm in Regulator2.firm_registry.values()]))\n",
    "    emissions.append(tuple([firm.emission for firm in Regulator2.firm_registry.values()]))\n",
    "    profits.append(tuple([firm.profit for firm in Regulator2.firm_registry.values()]))\n",
    "    # save all the data in a csv file\n",
    "    df = pd.DataFrame({'Free Allocation': free_alloc, 'Emission Cap': caps2, 'Permit Price': permit_prices, 'Outputs': outputs, 'Emissions': emissions, 'Profits': profits})\n",
    "    df.to_csv('Free_allocation_of_one_sector_v0.csv', index=False)"
   ]
  }
 ],
 "metadata": {
  "kernelspec": {
   "display_name": "base",
   "language": "python",
   "name": "python3"
  },
  "language_info": {
   "codemirror_mode": {
    "name": "ipython",
    "version": 3
   },
   "file_extension": ".py",
   "mimetype": "text/x-python",
   "name": "python",
   "nbconvert_exporter": "python",
   "pygments_lexer": "ipython3",
   "version": "3.12.4"
  }
 },
 "nbformat": 4,
 "nbformat_minor": 2
}
