{
 "cells": [
  {
   "cell_type": "markdown",
   "metadata": {},
   "source": [
    "Σε αυτό το πείραμα πειράζω τις δωρεάν άδειες ενός κλάδου και βλέπω τις αλλαγές στην τιμή της άδειας στο σ΄συστημα καθώς και τις μεταβολής των κερδών του κλάδου αυτόυ."
   ]
  },
  {
   "cell_type": "code",
   "execution_count": 1,
   "metadata": {},
   "outputs": [],
   "source": [
    "import sys\n",
    "import os\n",
    "sys.path.append(os.path.abspath(os.path.join('..', 'src')))\n",
    "\n",
    "from funkwpap import sympy_to_gurobi, Firm, Country, Sector, Regulator, get_emission\n",
    "import sympy as sp, pandas as pd, numpy as np, tqdm, time, sys\n",
    "from gurobipy import Model, LinExpr, QuadExpr, GRB\n",
    "x = sp.symbols('x')\n",
    "y = sp.symbols('y')"
   ]
  },
  {
   "cell_type": "code",
   "execution_count": 2,
   "metadata": {},
   "outputs": [
    {
     "name": "stdout",
     "output_type": "stream",
     "text": [
      "[Firm(id=1, name='firm1', sector_id=1, country_id=1, actual_output=0, emission=0, profit=0), Firm(id=2, name='firm2', sector_id=1, country_id=2, actual_output=0, emission=0, profit=0), Firm(id=3, name='firm3', sector_id=1, country_id=3, actual_output=0, emission=0, profit=0)]\n",
      "[Firm(id=1, name='firm1', sector_id=1, country_id=1, actual_output=0, emission=0, profit=0), Firm(id=4, name='firm4', sector_id=2, country_id=1, actual_output=0, emission=0, profit=0), Firm(id=7, name='firm7', sector_id=3, country_id=1, actual_output=0, emission=0, profit=0)]\n",
      "{1: Firm(id=1, name='firm1', sector_id=1, country_id=1, actual_output=0, emission=0, profit=0), 2: Firm(id=2, name='firm2', sector_id=1, country_id=2, actual_output=0, emission=0, profit=0), 3: Firm(id=3, name='firm3', sector_id=1, country_id=3, actual_output=0, emission=0, profit=0), 4: Firm(id=4, name='firm4', sector_id=2, country_id=1, actual_output=0, emission=0, profit=0), 5: Firm(id=5, name='firm5', sector_id=2, country_id=2, actual_output=0, emission=0, profit=0), 6: Firm(id=6, name='firm6', sector_id=2, country_id=3, actual_output=0, emission=0, profit=0), 7: Firm(id=7, name='firm7', sector_id=3, country_id=1, actual_output=0, emission=0, profit=0), 8: Firm(id=8, name='firm8', sector_id=3, country_id=2, actual_output=0, emission=0, profit=0), 9: Firm(id=9, name='firm9', sector_id=3, country_id=3, actual_output=0, emission=0, profit=0)}\n",
      "firm1 cement DE\n",
      "firm2 cement FI\n",
      "firm3 cement GR\n",
      "firm4 steel DE\n",
      "firm5 steel FI\n",
      "firm6 steel GR\n",
      "firm7 paper DE\n",
      "firm8 paper FI\n",
      "firm9 paper GR\n"
     ]
    }
   ],
   "source": [
    "\n",
    "# Create Sectors and Countries\n",
    "Regulator2 = Regulator('EU', permit_price= 2, emission_cap= 100)\n",
    "sector1 = Sector('cement', price_demand_function= 100 - 0.1*x, free_emission_multiplier= 0, regulator= Regulator2)\n",
    "sector2 = Sector('steel', price_demand_function=150 - 0.1*x, free_emission_multiplier= 0, regulator= Regulator2)\n",
    "sector3 = Sector('paper', price_demand_function= 200 - 0.02*x**1.5, free_emission_multiplier= 0, regulator= Regulator2)\n",
    "country1 = Country('DE', 1, regulator= Regulator2)\n",
    "country2 = Country('FI', 0.5, regulator= Regulator2)\n",
    "country3 = Country('GR', size= 0.1, regulator= Regulator2)\n",
    "\n",
    "# Create Firms using objects\n",
    "firm1 = Firm('firm1', 1, 1, x*0, 0.1*x**3 + 100/y**2, 0, 0, 0, regulator= Regulator2)\n",
    "firm2 = Firm('firm2', 1, 2, x*0, 5*x**3.2 + 40/y**2, 0, 0, 0, regulator= Regulator2)\n",
    "firm3 = Firm('firm3', 1, 3, x*0, x**5.2 + 30/y**2, 0, 0, 0, regulator= Regulator2)\n",
    "firm4 = Firm('firm4', 2, 1, x*0, x**3.3 + 20/y**2, 0, 0, 0, regulator= Regulator2)\n",
    "firm5 = Firm('firm5', 2, 2, x*0, x**2.3 + 20/y**2, 0, 0, 0, regulator= Regulator2)\n",
    "firm6 = Firm('firm6', 2, 3, x*0, x**3.2 + 15/y**2, 0, 0, 0, regulator= Regulator2)\n",
    "firm7 = Firm('firm7', 3, 1, x*0, x**4.1 + 40/y**2, 0, 0, 0, regulator= Regulator2)\n",
    "firm8 = Firm('firm8', 3, 2, x*0, x**5.1 + 50/y**2, 0, 0, 0, regulator= Regulator2)\n",
    "firm9 = Firm('firm9', 3, 3, x*0, x**5 + 60/y**2, 0, 0, 0, regulator= Regulator2)\n",
    "\n",
    "\n",
    "print(sector1.firms)  # List of firms in sector1\n",
    "print(country1.firms)  # List of firms in country1\n",
    "print(Regulator2.firm_registry)  # Dictionary of all firms\n",
    "\n",
    "for firm in Regulator2.firm_registry.values():\n",
    "    print(firm.name, firm.sector.name, firm.country.name)\n"
   ]
  },
  {
   "cell_type": "code",
   "execution_count": 3,
   "metadata": {},
   "outputs": [
    {
     "name": "stdout",
     "output_type": "stream",
     "text": [
      "Set parameter Username\n",
      "Academic license - for non-commercial use only - expires 2025-08-14\n",
      "Max diff: 0.06, permit price = 2.0, cap = 100, second_stage = False, a = 1.0000"
     ]
    }
   ],
   "source": [
    "Regulator2.optimize_them_all(precision = 0.1, print_diff = True, BAU = True)"
   ]
  },
  {
   "cell_type": "code",
   "execution_count": 4,
   "metadata": {},
   "outputs": [
    {
     "name": "stdout",
     "output_type": "stream",
     "text": [
      "firm1 cement DE 257.32525385607016 0.0 6273.59076591368\n",
      "firm2 cement FI 257.32525385607016 0.0 6273.59076591368\n",
      "firm3 cement GR 241.54945043799546 0.0 5888.97661255950\n",
      "firm4 steel DE 376.13222749306016 0.0 13977.1983562917\n",
      "firm5 steel FI 376.13222749306016 0.0 13977.1983562917\n",
      "firm6 steel GR 376.13222749306016 0.0 13977.1983562917\n",
      "firm7 paper DE 118.59141288110008 0.0 7795.70908896106\n",
      "firm8 paper FI 118.55901246575188 0.0 7794.93391399515\n",
      "firm9 paper GR 118.67118725249841 0.0 7803.94427937029\n"
     ]
    }
   ],
   "source": [
    "for firm in Regulator2.firm_registry.values():\n",
    "    print(firm.name, firm.sector.name, firm.country.name, firm.actual_output, firm.emission, firm.profit)"
   ]
  },
  {
   "cell_type": "code",
   "execution_count": 5,
   "metadata": {},
   "outputs": [
    {
     "name": "stdout",
     "output_type": "stream",
     "text": [
      "Max diff: 0.01, permit price = 2.0, cap = 100, second_stage = False, a = 0.73"
     ]
    }
   ],
   "source": [
    "Regulator2.BAU_calculator(print_diff = True)"
   ]
  },
  {
   "cell_type": "code",
   "execution_count": 6,
   "metadata": {},
   "outputs": [
    {
     "name": "stderr",
     "output_type": "stream",
     "text": [
      "  0%|          | 0/93 [00:00<?, ?it/s]"
     ]
    },
    {
     "name": "stdout",
     "output_type": "stream",
     "text": [
      "Max diff: 0.11, permit price = 25.7, cap = 1792, second_stage = False, a = 1.00000000"
     ]
    },
    {
     "name": "stderr",
     "output_type": "stream",
     "text": [
      "  1%|          | 1/93 [02:08<3:17:04, 128.52s/it]"
     ]
    },
    {
     "name": "stdout",
     "output_type": "stream",
     "text": [
      "Permit price: 25.74920654296875 and total emission: 1792.2563138525213 and emission cap 1792.357702840185\n",
      "Permit price: 26.226044price = 26.2, cap = 1792, second_stage = False, a = 1.00000000"
     ]
    },
    {
     "name": "stderr",
     "output_type": "stream",
     "text": [
      "  2%|▏         | 2/93 [04:12<3:11:14, 126.09s/it]"
     ]
    },
    {
     "name": "stdout",
     "output_type": "stream",
     "text": [
      "Permit price: 26.226043701171875 and total emission: 1791.5091706021096 and emission cap 1792.357702840185\n",
      "Permit price: 26.226044price = 26.2, cap = 1792, second_stage = False, a = 1.00000000"
     ]
    },
    {
     "name": "stderr",
     "output_type": "stream",
     "text": [
      "  3%|▎         | 3/93 [06:11<3:04:12, 122.80s/it]"
     ]
    },
    {
     "name": "stdout",
     "output_type": "stream",
     "text": [
      "Permit price: 26.226043701171875 and total emission: 1791.5091706021096 and emission cap 1792.357702840185\n",
      "Max diff: 0.25, permit price = 26.7, cap = 1792, second_stage = False, a = 1.00000000"
     ]
    },
    {
     "name": "stderr",
     "output_type": "stream",
     "text": [
      "  4%|▍         | 4/93 [08:16<3:03:08, 123.47s/it]"
     ]
    },
    {
     "name": "stdout",
     "output_type": "stream",
     "text": [
      "Permit price: 26.702880859375 and total emission: 1790.5131873673945 and emission cap 1792.357702840185\n",
      "Permit price: 27.179718price = 27.2, cap = 1792, second_stage = False, a = 1.00000000"
     ]
    },
    {
     "name": "stderr",
     "output_type": "stream",
     "text": [
      "  5%|▌         | 5/93 [10:11<2:56:33, 120.38s/it]"
     ]
    },
    {
     "name": "stdout",
     "output_type": "stream",
     "text": [
      "Permit price: 27.179718017578125 and total emission: 1790.015740471181 and emission cap 1792.357702840185\n",
      "Permit price: 27.179718price = 27.2, cap = 1792, second_stage = False, a = 1.00000000"
     ]
    },
    {
     "name": "stderr",
     "output_type": "stream",
     "text": [
      "  6%|▋         | 6/93 [12:10<2:54:05, 120.06s/it]"
     ]
    },
    {
     "name": "stdout",
     "output_type": "stream",
     "text": [
      "Permit price: 27.179718017578125 and total emission: 1789.972713686681 and emission cap 1792.357702840185\n",
      "Max diff: 0.30, permit price = 27.7, cap = 1792, second_stage = False, a = 1.00000000"
     ]
    },
    {
     "name": "stderr",
     "output_type": "stream",
     "text": [
      "  8%|▊         | 7/93 [14:03<2:48:54, 117.84s/it]"
     ]
    },
    {
     "name": "stdout",
     "output_type": "stream",
     "text": [
      "Permit price: 27.65655517578125 and total emission: 1769.5025166813978 and emission cap 1792.357702840185\n",
      "Max diff: 0.30, permit price = 27.7, cap = 1792, second_stage = False, a = 1.00000000"
     ]
    },
    {
     "name": "stderr",
     "output_type": "stream",
     "text": [
      "  9%|▊         | 8/93 [15:53<2:43:03, 115.10s/it]"
     ]
    },
    {
     "name": "stdout",
     "output_type": "stream",
     "text": [
      "Permit price: 27.65655517578125 and total emission: 1781.751105829077 and emission cap 1792.357702840185\n",
      "Max diff: 0.30, permit price = 27.7, cap = 1792, second_stage = False, a = 1.00000000"
     ]
    },
    {
     "name": "stderr",
     "output_type": "stream",
     "text": [
      " 10%|▉         | 9/93 [17:57<2:45:08, 117.96s/it]"
     ]
    },
    {
     "name": "stdout",
     "output_type": "stream",
     "text": [
      "Permit price: 27.65655517578125 and total emission: 1781.751105829077 and emission cap 1792.357702840185\n",
      "Max diff: 0.10, permit price = 27.7, cap = 1792, second_stage = False, a = 1.00000000"
     ]
    },
    {
     "name": "stderr",
     "output_type": "stream",
     "text": [
      " 11%|█         | 10/93 [20:02<2:46:22, 120.27s/it]"
     ]
    },
    {
     "name": "stdout",
     "output_type": "stream",
     "text": [
      "Permit price: 27.65655517578125 and total emission: 1782.0446091020146 and emission cap 1792.357702840185\n",
      "Max diff: 0.11, permit price = 27.7, cap = 1792, second_stage = False, a = 1.00000000"
     ]
    },
    {
     "name": "stderr",
     "output_type": "stream",
     "text": [
      " 12%|█▏        | 11/93 [22:04<2:44:55, 120.68s/it]"
     ]
    },
    {
     "name": "stdout",
     "output_type": "stream",
     "text": [
      "Permit price: 27.65655517578125 and total emission: 1782.0283815378089 and emission cap 1792.357702840185\n",
      "Max diff: 0.30, permit price = 27.7, cap = 1792, second_stage = False, a = 1.00000000"
     ]
    },
    {
     "name": "stderr",
     "output_type": "stream",
     "text": [
      " 13%|█▎        | 12/93 [23:59<2:40:37, 118.98s/it]"
     ]
    },
    {
     "name": "stdout",
     "output_type": "stream",
     "text": [
      "Permit price: 27.65655517578125 and total emission: 1781.751105829077 and emission cap 1792.357702840185\n",
      "Permit price: 28.133392price = 28.1, cap = 1792, second_stage = False, a = 1.00000000"
     ]
    },
    {
     "name": "stderr",
     "output_type": "stream",
     "text": [
      " 14%|█▍        | 13/93 [25:51<2:35:37, 116.72s/it]"
     ]
    },
    {
     "name": "stdout",
     "output_type": "stream",
     "text": [
      "Permit price: 28.133392333984375 and total emission: 1781.3537410077295 and emission cap 1792.357702840185\n",
      "Max diff: 0.20, permit price = 28.6, cap = 1792, second_stage = False, a = 1.00000000"
     ]
    },
    {
     "name": "stderr",
     "output_type": "stream",
     "text": [
      " 15%|█▌        | 14/93 [27:53<2:35:55, 118.43s/it]"
     ]
    },
    {
     "name": "stdout",
     "output_type": "stream",
     "text": [
      "Permit price: 28.6102294921875 and total emission: 1780.3505347213245 and emission cap 1792.357702840185\n",
      "Max diff: 0.17, permit price = 28.6, cap = 1792, second_stage = False, a = 1.00000000"
     ]
    },
    {
     "name": "stderr",
     "output_type": "stream",
     "text": [
      " 16%|█▌        | 15/93 [29:56<2:35:57, 119.97s/it]"
     ]
    },
    {
     "name": "stdout",
     "output_type": "stream",
     "text": [
      "Permit price: 28.6102294921875 and total emission: 1780.3390552555277 and emission cap 1792.357702840185\n",
      "Permit price: 29.087067price = 29.1, cap = 1792, second_stage = False, a = 1.00000000"
     ]
    },
    {
     "name": "stderr",
     "output_type": "stream",
     "text": [
      " 17%|█▋        | 16/93 [31:49<2:31:00, 117.67s/it]"
     ]
    },
    {
     "name": "stdout",
     "output_type": "stream",
     "text": [
      "Permit price: 29.087066650390625 and total emission: 1779.6922901442042 and emission cap 1792.357702840185\n",
      "Permit price: 29.087067price = 29.1, cap = 1792, second_stage = False, a = 1.00000000"
     ]
    },
    {
     "name": "stderr",
     "output_type": "stream",
     "text": [
      " 18%|█▊        | 17/93 [33:35<2:24:50, 114.34s/it]"
     ]
    },
    {
     "name": "stdout",
     "output_type": "stream",
     "text": [
      "Permit price: 29.087066650390625 and total emission: 1791.9501448595854 and emission cap 1792.357702840185\n",
      "Permit price: 29.087067price = 29.1, cap = 1792, second_stage = False, a = 1.00000000"
     ]
    },
    {
     "name": "stderr",
     "output_type": "stream",
     "text": [
      " 19%|█▉        | 18/93 [35:28<2:22:17, 113.84s/it]"
     ]
    },
    {
     "name": "stdout",
     "output_type": "stream",
     "text": [
      "Permit price: 29.087066650390625 and total emission: 1791.9408792918837 and emission cap 1792.357702840185\n",
      "Permit price: 29.087067price = 29.1, cap = 1792, second_stage = False, a = 1.00000000"
     ]
    },
    {
     "name": "stderr",
     "output_type": "stream",
     "text": [
      " 20%|██        | 19/93 [37:20<2:19:51, 113.40s/it]"
     ]
    },
    {
     "name": "stdout",
     "output_type": "stream",
     "text": [
      "Permit price: 29.087066650390625 and total emission: 1791.9408792918837 and emission cap 1792.357702840185\n",
      "Permit price: 29.087067price = 29.1, cap = 1792, second_stage = False, a = 1.00000000"
     ]
    },
    {
     "name": "stderr",
     "output_type": "stream",
     "text": [
      " 22%|██▏       | 20/93 [39:16<2:18:49, 114.10s/it]"
     ]
    },
    {
     "name": "stdout",
     "output_type": "stream",
     "text": [
      "Permit price: 29.087066650390625 and total emission: 1791.9408792918837 and emission cap 1792.357702840185\n",
      "Max diff: 0.12, permit price = 29.6, cap = 1792, second_stage = False, a = 1.00000000"
     ]
    },
    {
     "name": "stderr",
     "output_type": "stream",
     "text": [
      " 23%|██▎       | 21/93 [41:16<2:18:56, 115.79s/it]"
     ]
    },
    {
     "name": "stdout",
     "output_type": "stream",
     "text": [
      "Permit price: 29.56390380859375 and total emission: 1771.874020537387 and emission cap 1792.357702840185\n",
      "Max diff: 0.12, permit price = 29.6, cap = 1792, second_stage = False, a = 1.00000000"
     ]
    },
    {
     "name": "stderr",
     "output_type": "stream",
     "text": [
      " 24%|██▎       | 22/93 [43:05<2:14:36, 113.76s/it]"
     ]
    },
    {
     "name": "stdout",
     "output_type": "stream",
     "text": [
      "Permit price: 29.56390380859375 and total emission: 1784.1226096850664 and emission cap 1792.357702840185\n",
      "Max diff: 0.12, permit price = 29.6, cap = 1792, second_stage = False, a = 1.00000000"
     ]
    },
    {
     "name": "stderr",
     "output_type": "stream",
     "text": [
      " 25%|██▍       | 23/93 [45:03<2:14:07, 114.96s/it]"
     ]
    },
    {
     "name": "stdout",
     "output_type": "stream",
     "text": [
      "Permit price: 29.56390380859375 and total emission: 1784.1226096850664 and emission cap 1792.357702840185\n",
      "Max diff: 0.12, permit price = 29.6, cap = 1792, second_stage = False, a = 1.00000000"
     ]
    },
    {
     "name": "stderr",
     "output_type": "stream",
     "text": [
      " 26%|██▌       | 24/93 [46:54<2:10:48, 113.74s/it]"
     ]
    },
    {
     "name": "stdout",
     "output_type": "stream",
     "text": [
      "Permit price: 29.56390380859375 and total emission: 1784.0730440608038 and emission cap 1792.357702840185\n",
      "Max diff: 0.12, permit price = 29.6, cap = 1792, second_stage = False, a = 1.00000000"
     ]
    },
    {
     "name": "stderr",
     "output_type": "stream",
     "text": [
      " 27%|██▋       | 25/93 [48:43<2:07:30, 112.51s/it]"
     ]
    },
    {
     "name": "stdout",
     "output_type": "stream",
     "text": [
      "Permit price: 29.56390380859375 and total emission: 1784.1226096850664 and emission cap 1792.357702840185\n",
      "Max diff: 0.36, permit price = 29.6, cap = 1792, second_stage = False, a = 1.00000000"
     ]
    },
    {
     "name": "stderr",
     "output_type": "stream",
     "text": [
      " 28%|██▊       | 26/93 [50:39<2:06:53, 113.63s/it]"
     ]
    },
    {
     "name": "stdout",
     "output_type": "stream",
     "text": [
      "Permit price: 29.56390380859375 and total emission: 1784.0170260482662 and emission cap 1792.357702840185\n",
      "Max diff: 0.12, permit price = 29.6, cap = 1792, second_stage = False, a = 1.00000000"
     ]
    },
    {
     "name": "stderr",
     "output_type": "stream",
     "text": [
      " 29%|██▉       | 27/93 [52:36<2:06:01, 114.57s/it]"
     ]
    },
    {
     "name": "stdout",
     "output_type": "stream",
     "text": [
      "Permit price: 29.56390380859375 and total emission: 1784.1226096850664 and emission cap 1792.357702840185\n",
      "Max diff: 0.12, permit price = 29.6, cap = 1792, second_stage = False, a = 1.00000000"
     ]
    },
    {
     "name": "stderr",
     "output_type": "stream",
     "text": [
      " 30%|███       | 28/93 [54:31<2:04:02, 114.50s/it]"
     ]
    },
    {
     "name": "stdout",
     "output_type": "stream",
     "text": [
      "Permit price: 29.56390380859375 and total emission: 1784.1226096850664 and emission cap 1792.357702840185\n",
      "Max diff: 0.07, permit price = 29.6, cap = 1792, second_stage = False, a = 1.00000000"
     ]
    },
    {
     "name": "stderr",
     "output_type": "stream",
     "text": [
      " 31%|███       | 29/93 [56:23<2:01:34, 113.98s/it]"
     ]
    },
    {
     "name": "stdout",
     "output_type": "stream",
     "text": [
      "Permit price: 29.56390380859375 and total emission: 1784.1468813759898 and emission cap 1792.357702840185\n",
      "Max diff: 0.12, permit price = 29.6, cap = 1792, second_stage = False, a = 1.00000000"
     ]
    },
    {
     "name": "stderr",
     "output_type": "stream",
     "text": [
      " 32%|███▏      | 30/93 [58:24<2:01:50, 116.04s/it]"
     ]
    },
    {
     "name": "stdout",
     "output_type": "stream",
     "text": [
      "Permit price: 29.56390380859375 and total emission: 1784.1226096850664 and emission cap 1792.357702840185\n",
      "Permit price: 30.040741price = 30.0, cap = 1792, second_stage = False, a = 1.00000000"
     ]
    },
    {
     "name": "stderr",
     "output_type": "stream",
     "text": [
      " 33%|███▎      | 31/93 [1:00:13<1:57:44, 113.95s/it]"
     ]
    },
    {
     "name": "stdout",
     "output_type": "stream",
     "text": [
      "Permit price: 30.040740966796875 and total emission: 1783.276976545254 and emission cap 1792.357702840185\n",
      "Max diff: 0.21, permit price = 30.5, cap = 1792, second_stage = False, a = 1.00000000"
     ]
    },
    {
     "name": "stderr",
     "output_type": "stream",
     "text": [
      " 34%|███▍      | 32/93 [1:02:07<1:55:53, 113.99s/it]"
     ]
    },
    {
     "name": "stdout",
     "output_type": "stream",
     "text": [
      "Permit price: 30.517578125 and total emission: 1782.2690949737705 and emission cap 1792.357702840185\n",
      "Permit price: 30.994415price = 31.0, cap = 1792, second_stage = False, a = 1.00000000"
     ]
    },
    {
     "name": "stderr",
     "output_type": "stream",
     "text": [
      " 35%|███▌      | 33/93 [1:03:53<1:51:22, 111.37s/it]"
     ]
    },
    {
     "name": "stdout",
     "output_type": "stream",
     "text": [
      "Permit price: 30.994415283203125 and total emission: 1781.6733315364943 and emission cap 1792.357702840185\n",
      "Max diff: 0.32, permit price = 31.5, cap = 1792, second_stage = False, a = 1.00000000"
     ]
    },
    {
     "name": "stderr",
     "output_type": "stream",
     "text": [
      " 37%|███▋      | 34/93 [1:05:41<1:48:39, 110.50s/it]"
     ]
    },
    {
     "name": "stdout",
     "output_type": "stream",
     "text": [
      "Permit price: 31.47125244140625 and total emission: 1774.9859082739722 and emission cap 1792.357702840185\n",
      "Max diff: 0.32, permit price = 31.5, cap = 1792, second_stage = False, a = 1.00000000"
     ]
    },
    {
     "name": "stderr",
     "output_type": "stream",
     "text": [
      " 38%|███▊      | 35/93 [1:07:31<1:46:41, 110.38s/it]"
     ]
    },
    {
     "name": "stdout",
     "output_type": "stream",
     "text": [
      "Permit price: 31.47125244140625 and total emission: 1774.9859082739722 and emission cap 1792.357702840185\n",
      "Max diff: 0.06, permit price = 31.5, cap = 1792, second_stage = False, a = 1.00000000"
     ]
    },
    {
     "name": "stderr",
     "output_type": "stream",
     "text": [
      " 39%|███▊      | 36/93 [1:09:26<1:46:10, 111.77s/it]"
     ]
    },
    {
     "name": "stdout",
     "output_type": "stream",
     "text": [
      "Permit price: 31.47125244140625 and total emission: 1774.9681509515308 and emission cap 1792.357702840185\n",
      "Max diff: 0.06, permit price = 31.5, cap = 1792, second_stage = False, a = 1.00000000"
     ]
    },
    {
     "name": "stderr",
     "output_type": "stream",
     "text": [
      " 40%|███▉      | 37/93 [1:11:17<1:43:57, 111.39s/it]"
     ]
    },
    {
     "name": "stdout",
     "output_type": "stream",
     "text": [
      "Permit price: 31.47125244140625 and total emission: 1774.9681509515308 and emission cap 1792.357702840185\n",
      "Max diff: 0.06, permit price = 31.5, cap = 1792, second_stage = False, a = 1.00000000"
     ]
    },
    {
     "name": "stderr",
     "output_type": "stream",
     "text": [
      " 41%|████      | 38/93 [1:13:09<1:42:25, 111.74s/it]"
     ]
    },
    {
     "name": "stdout",
     "output_type": "stream",
     "text": [
      "Permit price: 31.47125244140625 and total emission: 1774.9681509515308 and emission cap 1792.357702840185\n",
      "Max diff: 0.32, permit price = 31.5, cap = 1792, second_stage = False, a = 1.00000000"
     ]
    },
    {
     "name": "stderr",
     "output_type": "stream",
     "text": [
      " 42%|████▏     | 39/93 [1:15:04<1:41:26, 112.72s/it]"
     ]
    },
    {
     "name": "stdout",
     "output_type": "stream",
     "text": [
      "Permit price: 31.47125244140625 and total emission: 1788.0344635097636 and emission cap 1792.357702840185\n",
      "Max diff: 0.06, permit price = 31.5, cap = 1792, second_stage = False, a = 1.00000000"
     ]
    },
    {
     "name": "stderr",
     "output_type": "stream",
     "text": [
      " 43%|████▎     | 40/93 [1:16:56<1:39:21, 112.49s/it]"
     ]
    },
    {
     "name": "stdout",
     "output_type": "stream",
     "text": [
      "Permit price: 31.47125244140625 and total emission: 1788.0167061873221 and emission cap 1792.357702840185\n",
      "Max diff: 0.06, permit price = 31.5, cap = 1792, second_stage = False, a = 1.00000000"
     ]
    },
    {
     "name": "stderr",
     "output_type": "stream",
     "text": [
      " 44%|████▍     | 41/93 [1:18:46<1:36:44, 111.63s/it]"
     ]
    },
    {
     "name": "stdout",
     "output_type": "stream",
     "text": [
      "Permit price: 31.47125244140625 and total emission: 1788.0167061873221 and emission cap 1792.357702840185\n",
      "Max diff: 0.06, permit price = 31.5, cap = 1792, second_stage = False, a = 1.00000000"
     ]
    },
    {
     "name": "stderr",
     "output_type": "stream",
     "text": [
      " 45%|████▌     | 42/93 [1:20:35<1:34:09, 110.78s/it]"
     ]
    },
    {
     "name": "stdout",
     "output_type": "stream",
     "text": [
      "Permit price: 31.47125244140625 and total emission: 1788.0167061873221 and emission cap 1792.357702840185\n",
      "Max diff: 0.18, permit price = 32.4, cap = 1792, second_stage = False, a = 1.00000000"
     ]
    },
    {
     "name": "stderr",
     "output_type": "stream",
     "text": [
      " 46%|████▌     | 43/93 [1:22:28<1:32:57, 111.54s/it]"
     ]
    },
    {
     "name": "stdout",
     "output_type": "stream",
     "text": [
      "Permit price: 32.4249267578125 and total emission: 1785.8547087101686 and emission cap 1792.357702840185\n",
      "Permit price: 32.901764price = 32.9, cap = 1792, second_stage = False, a = 1.00000000"
     ]
    },
    {
     "name": "stderr",
     "output_type": "stream",
     "text": [
      " 47%|████▋     | 44/93 [1:24:12<1:29:17, 109.34s/it]"
     ]
    },
    {
     "name": "stdout",
     "output_type": "stream",
     "text": [
      "Permit price: 32.901763916015625 and total emission: 1785.3080126167579 and emission cap 1792.357702840185\n",
      "Max diff: 0.16, permit price = 33.4, cap = 1792, second_stage = False, a = 1.00000000"
     ]
    },
    {
     "name": "stderr",
     "output_type": "stream",
     "text": [
      " 48%|████▊     | 45/93 [1:26:05<1:28:15, 110.32s/it]"
     ]
    },
    {
     "name": "stdout",
     "output_type": "stream",
     "text": [
      "Permit price: 33.37860107421875 and total emission: 1784.4243538434685 and emission cap 1792.357702840185\n",
      "Max diff: 0.24, permit price = 34.3, cap = 1792, second_stage = False, a = 1.00000000"
     ]
    },
    {
     "name": "stderr",
     "output_type": "stream",
     "text": [
      " 49%|████▉     | 46/93 [1:27:59<1:27:17, 111.43s/it]"
     ]
    },
    {
     "name": "stdout",
     "output_type": "stream",
     "text": [
      "Permit price: 34.332275390625 and total emission: 1782.8544941260745 and emission cap 1792.357702840185\n",
      "Permit price: 34.809113price = 34.8, cap = 1792, second_stage = False, a = 1.00000000"
     ]
    },
    {
     "name": "stderr",
     "output_type": "stream",
     "text": [
      " 51%|█████     | 47/93 [1:29:50<1:25:20, 111.31s/it]"
     ]
    },
    {
     "name": "stdout",
     "output_type": "stream",
     "text": [
      "Permit price: 34.809112548828125 and total emission: 1781.9198410821966 and emission cap 1792.357702840185\n",
      "Max diff: 0.10, permit price = 35.3, cap = 1792, second_stage = False, a = 1.00000000"
     ]
    },
    {
     "name": "stderr",
     "output_type": "stream",
     "text": [
      " 52%|█████▏    | 48/93 [1:31:46<1:24:34, 112.76s/it]"
     ]
    },
    {
     "name": "stdout",
     "output_type": "stream",
     "text": [
      "Permit price: 35.28594970703125 and total emission: 1776.2048592817457 and emission cap 1792.357702840185\n",
      "Max diff: 0.35, permit price = 35.3, cap = 1792, second_stage = False, a = 1.00000000"
     ]
    },
    {
     "name": "stderr",
     "output_type": "stream",
     "text": [
      " 53%|█████▎    | 49/93 [1:33:41<1:23:07, 113.34s/it]"
     ]
    },
    {
     "name": "stdout",
     "output_type": "stream",
     "text": [
      "Permit price: 35.28594970703125 and total emission: 1776.3844763614152 and emission cap 1792.357702840185\n",
      "Max diff: 0.35, permit price = 35.3, cap = 1792, second_stage = False, a = 1.00000000"
     ]
    },
    {
     "name": "stderr",
     "output_type": "stream",
     "text": [
      " 54%|█████▍    | 50/93 [1:35:30<1:20:21, 112.13s/it]"
     ]
    },
    {
     "name": "stdout",
     "output_type": "stream",
     "text": [
      "Permit price: 35.28594970703125 and total emission: 1776.3844763614152 and emission cap 1792.357702840185\n",
      "Max diff: 0.35, permit price = 35.3, cap = 1792, second_stage = False, a = 1.00000000"
     ]
    },
    {
     "name": "stderr",
     "output_type": "stream",
     "text": [
      " 55%|█████▍    | 51/93 [1:37:24<1:18:48, 112.58s/it]"
     ]
    },
    {
     "name": "stdout",
     "output_type": "stream",
     "text": [
      "Permit price: 35.28594970703125 and total emission: 1776.3844763614152 and emission cap 1792.357702840185\n",
      "Max diff: 0.35, permit price = 35.3, cap = 1792, second_stage = False, a = 1.00000000"
     ]
    },
    {
     "name": "stderr",
     "output_type": "stream",
     "text": [
      " 56%|█████▌    | 52/93 [1:39:19<1:17:27, 113.36s/it]"
     ]
    },
    {
     "name": "stdout",
     "output_type": "stream",
     "text": [
      "Permit price: 35.28594970703125 and total emission: 1776.3844763614152 and emission cap 1792.357702840185\n",
      "Max diff: 0.35, permit price = 35.3, cap = 1792, second_stage = False, a = 1.00000000"
     ]
    },
    {
     "name": "stderr",
     "output_type": "stream",
     "text": [
      " 57%|█████▋    | 53/93 [1:41:13<1:15:39, 113.50s/it]"
     ]
    },
    {
     "name": "stdout",
     "output_type": "stream",
     "text": [
      "Permit price: 35.28594970703125 and total emission: 1776.3844763614152 and emission cap 1792.357702840185\n",
      "Max diff: 0.35, permit price = 35.3, cap = 1792, second_stage = False, a = 1.00000000"
     ]
    },
    {
     "name": "stderr",
     "output_type": "stream",
     "text": [
      " 58%|█████▊    | 54/93 [1:43:03<1:13:05, 112.45s/it]"
     ]
    },
    {
     "name": "stdout",
     "output_type": "stream",
     "text": [
      "Permit price: 35.28594970703125 and total emission: 1776.3844763614152 and emission cap 1792.357702840185\n",
      "Max diff: 0.35, permit price = 35.3, cap = 1792, second_stage = False, a = 1.00000000"
     ]
    },
    {
     "name": "stderr",
     "output_type": "stream",
     "text": [
      " 59%|█████▉    | 55/93 [1:44:58<1:11:51, 113.47s/it]"
     ]
    },
    {
     "name": "stdout",
     "output_type": "stream",
     "text": [
      "Permit price: 35.28594970703125 and total emission: 1776.3844763614152 and emission cap 1792.357702840185\n",
      "Max diff: 0.10, permit price = 35.3, cap = 1792, second_stage = False, a = 1.00000000"
     ]
    },
    {
     "name": "stderr",
     "output_type": "stream",
     "text": [
      " 60%|██████    | 56/93 [1:46:57<1:10:55, 115.00s/it]"
     ]
    },
    {
     "name": "stdout",
     "output_type": "stream",
     "text": [
      "Permit price: 35.28594970703125 and total emission: 1790.1056262892391 and emission cap 1792.357702840185\n",
      "Max diff: 0.35, permit price = 35.3, cap = 1792, second_stage = False, a = 1.00000000"
     ]
    },
    {
     "name": "stderr",
     "output_type": "stream",
     "text": [
      " 61%|██████▏   | 57/93 [1:48:57<1:09:57, 116.60s/it]"
     ]
    },
    {
     "name": "stdout",
     "output_type": "stream",
     "text": [
      "Permit price: 35.28594970703125 and total emission: 1790.2852433689086 and emission cap 1792.357702840185\n",
      "Max diff: 0.35, permit price = 35.3, cap = 1792, second_stage = False, a = 1.00000000"
     ]
    },
    {
     "name": "stderr",
     "output_type": "stream",
     "text": [
      " 62%|██████▏   | 58/93 [1:50:55<1:08:17, 117.07s/it]"
     ]
    },
    {
     "name": "stdout",
     "output_type": "stream",
     "text": [
      "Permit price: 35.28594970703125 and total emission: 1790.2852433689086 and emission cap 1792.357702840185\n",
      "Max diff: 0.35, permit price = 35.3, cap = 1792, second_stage = False, a = 1.00000000"
     ]
    },
    {
     "name": "stderr",
     "output_type": "stream",
     "text": [
      " 63%|██████▎   | 59/93 [1:52:51<1:06:04, 116.61s/it]"
     ]
    },
    {
     "name": "stdout",
     "output_type": "stream",
     "text": [
      "Permit price: 35.28594970703125 and total emission: 1790.2852433689086 and emission cap 1792.357702840185\n",
      "Permit price: 36.716461price = 36.7, cap = 1792, second_stage = False, a = 1.00000000"
     ]
    },
    {
     "name": "stderr",
     "output_type": "stream",
     "text": [
      " 65%|██████▍   | 60/93 [1:54:49<1:04:24, 117.12s/it]"
     ]
    },
    {
     "name": "stdout",
     "output_type": "stream",
     "text": [
      "Permit price: 36.716461181640625 and total emission: 1788.3581798551716 and emission cap 1792.357702840185\n",
      "Max diff: 0.08, permit price = 37.2, cap = 1792, second_stage = False, a = 1.00000000"
     ]
    },
    {
     "name": "stderr",
     "output_type": "stream",
     "text": [
      " 66%|██████▌   | 61/93 [1:56:53<1:03:26, 118.96s/it]"
     ]
    },
    {
     "name": "stdout",
     "output_type": "stream",
     "text": [
      "Permit price: 37.19329833984375 and total emission: 1782.5308808305851 and emission cap 1792.357702840185\n",
      "Max diff: 0.08, permit price = 37.2, cap = 1792, second_stage = False, a = 1.00000000"
     ]
    },
    {
     "name": "stderr",
     "output_type": "stream",
     "text": [
      " 67%|██████▋   | 62/93 [1:58:50<1:01:11, 118.45s/it]"
     ]
    },
    {
     "name": "stdout",
     "output_type": "stream",
     "text": [
      "Permit price: 37.19329833984375 and total emission: 1782.5308808305851 and emission cap 1792.357702840185\n",
      "Max diff: 0.08, permit price = 37.2, cap = 1792, second_stage = False, a = 1.00000000"
     ]
    },
    {
     "name": "stderr",
     "output_type": "stream",
     "text": [
      " 68%|██████▊   | 63/93 [2:00:54<1:00:04, 120.16s/it]"
     ]
    },
    {
     "name": "stdout",
     "output_type": "stream",
     "text": [
      "Permit price: 37.19329833984375 and total emission: 1782.5308808305851 and emission cap 1792.357702840185\n",
      "Max diff: 0.08, permit price = 37.2, cap = 1792, second_stage = False, a = 1.00000000"
     ]
    },
    {
     "name": "stderr",
     "output_type": "stream",
     "text": [
      " 69%|██████▉   | 64/93 [2:02:52<57:41, 119.37s/it]  "
     ]
    },
    {
     "name": "stdout",
     "output_type": "stream",
     "text": [
      "Permit price: 37.19329833984375 and total emission: 1782.5308808305851 and emission cap 1792.357702840185\n",
      "Max diff: 0.12, permit price = 38.1, cap = 1792, second_stage = False, a = 1.00000000"
     ]
    },
    {
     "name": "stderr",
     "output_type": "stream",
     "text": [
      " 70%|██████▉   | 65/93 [2:04:59<56:49, 121.75s/it]"
     ]
    },
    {
     "name": "stdout",
     "output_type": "stream",
     "text": [
      "Permit price: 38.14697265625 and total emission: 1781.2178728304896 and emission cap 1792.357702840185\n",
      "Permit price: 38.623810price = 38.6, cap = 1792, second_stage = False, a = 1.00000000"
     ]
    },
    {
     "name": "stderr",
     "output_type": "stream",
     "text": [
      " 71%|███████   | 66/93 [2:07:00<54:38, 121.44s/it]"
     ]
    },
    {
     "name": "stdout",
     "output_type": "stream",
     "text": [
      "Permit price: 38.623809814453125 and total emission: 1776.6763190981358 and emission cap 1792.357702840185\n",
      "Permit price: 38.623810price = 38.6, cap = 1792, second_stage = False, a = 1.00000000"
     ]
    },
    {
     "name": "stderr",
     "output_type": "stream",
     "text": [
      " 72%|███████▏  | 67/93 [2:08:54<51:43, 119.37s/it]"
     ]
    },
    {
     "name": "stdout",
     "output_type": "stream",
     "text": [
      "Permit price: 38.623809814453125 and total emission: 1776.7830531300435 and emission cap 1792.357702840185\n",
      "Permit price: 38.623810price = 38.6, cap = 1792, second_stage = False, a = 1.00000000"
     ]
    },
    {
     "name": "stderr",
     "output_type": "stream",
     "text": [
      " 73%|███████▎  | 68/93 [2:10:47<48:56, 117.44s/it]"
     ]
    },
    {
     "name": "stdout",
     "output_type": "stream",
     "text": [
      "Permit price: 38.623809814453125 and total emission: 1776.7830531300435 and emission cap 1792.357702840185\n",
      "Permit price: 38.623810price = 38.6, cap = 1792, second_stage = False, a = 1.00000000"
     ]
    },
    {
     "name": "stderr",
     "output_type": "stream",
     "text": [
      " 74%|███████▍  | 69/93 [2:12:46<47:06, 117.78s/it]"
     ]
    },
    {
     "name": "stdout",
     "output_type": "stream",
     "text": [
      "Permit price: 38.623809814453125 and total emission: 1776.7830531300435 and emission cap 1792.357702840185\n",
      "Permit price: 38.623810price = 38.6, cap = 1792, second_stage = False, a = 1.00000000"
     ]
    },
    {
     "name": "stderr",
     "output_type": "stream",
     "text": [
      " 75%|███████▌  | 70/93 [2:14:39<44:41, 116.58s/it]"
     ]
    },
    {
     "name": "stdout",
     "output_type": "stream",
     "text": [
      "Permit price: 38.623809814453125 and total emission: 1776.7830531300435 and emission cap 1792.357702840185\n",
      "Permit price: 38.623810price = 38.6, cap = 1792, second_stage = False, a = 1.00000000"
     ]
    },
    {
     "name": "stderr",
     "output_type": "stream",
     "text": [
      " 76%|███████▋  | 71/93 [2:16:32<42:21, 115.54s/it]"
     ]
    },
    {
     "name": "stdout",
     "output_type": "stream",
     "text": [
      "Permit price: 38.623809814453125 and total emission: 1776.7830531300435 and emission cap 1792.357702840185\n",
      "Permit price: 38.623810price = 38.6, cap = 1792, second_stage = False, a = 1.00000000"
     ]
    },
    {
     "name": "stderr",
     "output_type": "stream",
     "text": [
      " 77%|███████▋  | 72/93 [2:18:24<40:02, 114.40s/it]"
     ]
    },
    {
     "name": "stdout",
     "output_type": "stream",
     "text": [
      "Permit price: 38.623809814453125 and total emission: 1776.7830531300435 and emission cap 1792.357702840185\n",
      "Permit price: 38.623810price = 38.6, cap = 1792, second_stage = False, a = 1.00000000"
     ]
    },
    {
     "name": "stderr",
     "output_type": "stream",
     "text": [
      " 78%|███████▊  | 73/93 [2:20:25<38:43, 116.16s/it]"
     ]
    },
    {
     "name": "stdout",
     "output_type": "stream",
     "text": [
      "Permit price: 38.623809814453125 and total emission: 1791.4677065309606 and emission cap 1792.357702840185\n",
      "Permit price: 38.623810price = 38.6, cap = 1792, second_stage = False, a = 1.00000000"
     ]
    },
    {
     "name": "stderr",
     "output_type": "stream",
     "text": [
      " 80%|███████▉  | 74/93 [2:22:18<36:33, 115.47s/it]"
     ]
    },
    {
     "name": "stdout",
     "output_type": "stream",
     "text": [
      "Permit price: 38.623809814453125 and total emission: 1791.5916914088566 and emission cap 1792.357702840185\n",
      "Permit price: 38.623810price = 38.6, cap = 1792, second_stage = False, a = 1.00000000"
     ]
    },
    {
     "name": "stderr",
     "output_type": "stream",
     "text": [
      " 81%|████████  | 75/93 [2:24:18<35:01, 116.74s/it]"
     ]
    },
    {
     "name": "stdout",
     "output_type": "stream",
     "text": [
      "Permit price: 38.623809814453125 and total emission: 1791.5916914088566 and emission cap 1792.357702840185\n",
      "Permit price: 38.623810price = 38.6, cap = 1792, second_stage = False, a = 1.00000000"
     ]
    },
    {
     "name": "stderr",
     "output_type": "stream",
     "text": [
      " 82%|████████▏ | 76/93 [2:26:09<32:34, 115.00s/it]"
     ]
    },
    {
     "name": "stdout",
     "output_type": "stream",
     "text": [
      "Permit price: 38.623809814453125 and total emission: 1791.5916914088566 and emission cap 1792.357702840185\n",
      "Permit price: 39.577484price = 39.6, cap = 1792, second_stage = False, a = 1.00000000"
     ]
    },
    {
     "name": "stderr",
     "output_type": "stream",
     "text": [
      " 83%|████████▎ | 77/93 [2:28:15<31:34, 118.43s/it]"
     ]
    },
    {
     "name": "stdout",
     "output_type": "stream",
     "text": [
      "Permit price: 39.577484130859375 and total emission: 1789.00783965118 and emission cap 1792.357702840185\n",
      "Max diff: 0.24, permit price = 42.0, cap = 1792, second_stage = False, a = 1.00000000"
     ]
    },
    {
     "name": "stderr",
     "output_type": "stream",
     "text": [
      " 84%|████████▍ | 78/93 [2:30:23<30:19, 121.30s/it]"
     ]
    },
    {
     "name": "stdout",
     "output_type": "stream",
     "text": [
      "Permit price: 41.961669921875 and total emission: 1785.6538202782306 and emission cap 1792.357702840185\n",
      "Permit price: 42.438507price = 42.4, cap = 1792, second_stage = False, a = 1.00000000"
     ]
    },
    {
     "name": "stderr",
     "output_type": "stream",
     "text": [
      " 85%|████████▍ | 79/93 [2:32:33<28:52, 123.76s/it]"
     ]
    },
    {
     "name": "stdout",
     "output_type": "stream",
     "text": [
      "Permit price: 42.438507080078125 and total emission: 1782.7641385543097 and emission cap 1792.357702840185\n",
      "Permit price: 42.438507price = 42.4, cap = 1792, second_stage = False, a = 1.00000000"
     ]
    },
    {
     "name": "stderr",
     "output_type": "stream",
     "text": [
      " 86%|████████▌ | 80/93 [2:34:32<26:30, 122.31s/it]"
     ]
    },
    {
     "name": "stdout",
     "output_type": "stream",
     "text": [
      "Permit price: 42.438507080078125 and total emission: 1782.7641385543097 and emission cap 1792.357702840185\n",
      "Permit price: 42.438507price = 42.4, cap = 1792, second_stage = False, a = 1.00000000"
     ]
    },
    {
     "name": "stderr",
     "output_type": "stream",
     "text": [
      " 87%|████████▋ | 81/93 [2:36:31<24:16, 121.38s/it]"
     ]
    },
    {
     "name": "stdout",
     "output_type": "stream",
     "text": [
      "Permit price: 42.438507080078125 and total emission: 1782.7641385543097 and emission cap 1792.357702840185\n",
      "Max diff: 0.17, permit price = 43.9, cap = 1792, second_stage = False, a = 1.00000000"
     ]
    },
    {
     "name": "stderr",
     "output_type": "stream",
     "text": [
      " 88%|████████▊ | 82/93 [2:38:39<22:36, 123.31s/it]"
     ]
    },
    {
     "name": "stdout",
     "output_type": "stream",
     "text": [
      "Permit price: 43.8690185546875 and total emission: 1763.3342349885975 and emission cap 1792.357702840185\n",
      "Max diff: 0.17, permit price = 43.9, cap = 1792, second_stage = False, a = 1.00000000"
     ]
    },
    {
     "name": "stderr",
     "output_type": "stream",
     "text": [
      " 89%|████████▉ | 83/93 [2:40:52<21:02, 126.27s/it]"
     ]
    },
    {
     "name": "stdout",
     "output_type": "stream",
     "text": [
      "Permit price: 43.8690185546875 and total emission: 1778.1428732674106 and emission cap 1792.357702840185\n",
      "Max diff: 0.17, permit price = 43.9, cap = 1792, second_stage = False, a = 1.00000000"
     ]
    },
    {
     "name": "stderr",
     "output_type": "stream",
     "text": [
      " 90%|█████████ | 84/93 [2:43:04<19:11, 127.91s/it]"
     ]
    },
    {
     "name": "stdout",
     "output_type": "stream",
     "text": [
      "Permit price: 43.8690185546875 and total emission: 1778.1428732674106 and emission cap 1792.357702840185\n",
      "Max diff: 0.17, permit price = 43.9, cap = 1792, second_stage = False, a = 1.00000000"
     ]
    },
    {
     "name": "stderr",
     "output_type": "stream",
     "text": [
      " 91%|█████████▏| 85/93 [2:45:14<17:07, 128.45s/it]"
     ]
    },
    {
     "name": "stdout",
     "output_type": "stream",
     "text": [
      "Permit price: 43.8690185546875 and total emission: 1778.1428732674106 and emission cap 1792.357702840185\n",
      "Max diff: 0.17, permit price = 43.9, cap = 1792, second_stage = False, a = 1.00000000"
     ]
    },
    {
     "name": "stderr",
     "output_type": "stream",
     "text": [
      " 92%|█████████▏| 86/93 [2:47:30<15:16, 131.00s/it]"
     ]
    },
    {
     "name": "stdout",
     "output_type": "stream",
     "text": [
      "Permit price: 43.8690185546875 and total emission: 1778.1428732674106 and emission cap 1792.357702840185\n",
      "Max diff: 0.17, permit price = 43.9, cap = 1792, second_stage = False, a = 1.00000000"
     ]
    },
    {
     "name": "stderr",
     "output_type": "stream",
     "text": [
      " 94%|█████████▎| 87/93 [2:49:40<13:03, 130.57s/it]"
     ]
    },
    {
     "name": "stdout",
     "output_type": "stream",
     "text": [
      "Permit price: 43.8690185546875 and total emission: 1778.1428732674106 and emission cap 1792.357702840185\n",
      "Max diff: 0.17, permit price = 43.9, cap = 1792, second_stage = False, a = 1.00000000"
     ]
    },
    {
     "name": "stderr",
     "output_type": "stream",
     "text": [
      " 95%|█████████▍| 88/93 [2:51:43<10:42, 128.40s/it]"
     ]
    },
    {
     "name": "stdout",
     "output_type": "stream",
     "text": [
      "Permit price: 43.8690185546875 and total emission: 1778.1428732674106 and emission cap 1792.357702840185\n",
      "Max diff: 0.18, permit price = 44.8, cap = 1792, second_stage = False, a = 1.00000000"
     ]
    },
    {
     "name": "stderr",
     "output_type": "stream",
     "text": [
      " 96%|█████████▌| 89/93 [2:53:54<08:35, 128.96s/it]"
     ]
    },
    {
     "name": "stdout",
     "output_type": "stream",
     "text": [
      "Permit price: 44.82269287109375 and total emission: 1776.670311842508 and emission cap 1792.357702840185\n",
      "Max diff: 0.63, permit price = 44.8, cap = 1792, second_stage = False, a = 1.00000000"
     ]
    },
    {
     "name": "stderr",
     "output_type": "stream",
     "text": [
      " 97%|█████████▋| 90/93 [2:55:51<06:16, 125.62s/it]"
     ]
    },
    {
     "name": "stdout",
     "output_type": "stream",
     "text": [
      "Permit price: 44.82269287109375 and total emission: 1792.4990144813987 and emission cap 1792.357702840185\n",
      "Max diff: 0.63, permit price = 44.8, cap = 1792, second_stage = False, a = 1.00000000"
     ]
    },
    {
     "name": "stderr",
     "output_type": "stream",
     "text": [
      " 98%|█████████▊| 91/93 [2:57:56<04:10, 125.16s/it]"
     ]
    },
    {
     "name": "stdout",
     "output_type": "stream",
     "text": [
      "Permit price: 44.82269287109375 and total emission: 1792.4990144813987 and emission cap 1792.357702840185\n",
      "Max diff: 0.63, permit price = 44.8, cap = 1792, second_stage = False, a = 1.00000000"
     ]
    },
    {
     "name": "stderr",
     "output_type": "stream",
     "text": [
      " 99%|█████████▉| 92/93 [2:59:54<02:03, 123.22s/it]"
     ]
    },
    {
     "name": "stdout",
     "output_type": "stream",
     "text": [
      "Permit price: 44.82269287109375 and total emission: 1792.4990144813987 and emission cap 1792.357702840185\n",
      "Max diff: 0.24, permit price = 45.8, cap = 1792, second_stage = False, a = 1.00000000"
     ]
    },
    {
     "name": "stderr",
     "output_type": "stream",
     "text": [
      "100%|██████████| 93/93 [3:01:45<00:00, 117.27s/it]"
     ]
    },
    {
     "name": "stdout",
     "output_type": "stream",
     "text": [
      "Permit price: 45.7763671875 and total emission: 1789.6325598868734 and emission cap 1792.357702840185\n"
     ]
    },
    {
     "name": "stderr",
     "output_type": "stream",
     "text": [
      "\n"
     ]
    }
   ],
   "source": [
    "# Let's see what happens in we change the free allocation of sector A keeping the cap at 80% of the BAU emissions\n",
    "free_allocation_sectorA = list(np.linspace(0, 1, 100))\n",
    "# Read the data from the csv file, if it exists, if not, just create a new one\n",
    "try:\n",
    "    df = pd.read_csv('../data/generated/exp3_how_Free_allocation_of_one_sector_affects_others_v0_1.csv')\n",
    "    free_alloc = list(df['Free Allocation'])\n",
    "    caps2 = list(df['Emission Cap'])\n",
    "    permit_prices = list(df['Permit Price'])\n",
    "    outputs = list(df['Outputs'])\n",
    "    emissions = list(df['Emissions'])\n",
    "    profits = list(df['Profits'])\n",
    "except:\n",
    "    free_alloc = []\n",
    "    caps2 = []\n",
    "    permit_prices = []\n",
    "    outputs = []\n",
    "    emissions = []\n",
    "    profits = []\n",
    "# Loop through all the emission caps and calculate the permit price\n",
    "\n",
    "# Find all the caps that are not calculated yet (meaning that they are more than 0.5 different than a value of the caps2)\n",
    "for i in free_allocation_sectorA[:]:  # Iterate over a copy of the list\n",
    "    if any(abs(i - x) < 0.001 for x in free_alloc):\n",
    "        free_allocation_sectorA.remove(i)\n",
    "\n",
    "Regulator2.emission_cap = 0.8*Regulator2.BAU_emissions\n",
    "\n",
    "for i in tqdm.tqdm(free_allocation_sectorA):\n",
    "    Regulator2.sector_registry[1].free_emission_multiplier = i\n",
    "    Regulator2.find_optimal_permit_price_to_meet_the_emission_cap_requirements(precision= 1, x_high = 1000000)\n",
    "    caps2.append(Regulator2.emission_cap)\n",
    "    free_alloc.append(i)\n",
    "    permit_prices.append(Regulator2.permit_price)\n",
    "    outputs.append(tuple([firm.actual_output for firm in Regulator2.firm_registry.values()]))\n",
    "    emissions.append(tuple([firm.emission for firm in Regulator2.firm_registry.values()]))\n",
    "    profits.append(tuple([firm.profit for firm in Regulator2.firm_registry.values()]))\n",
    "    # save all the data in a csv file\n",
    "    df = pd.DataFrame({'Free Allocation': free_alloc, 'Emission Cap': caps2, 'Permit Price': permit_prices, 'Outputs': outputs, 'Emissions': emissions, 'Profits': profits})\n",
    "    # Save the DataFrame to the specified path\n",
    "    df.to_csv('../data/generated/exp3_how_Free_allocation_of_one_sector_affects_others_v0_1.csv', index=False)"
   ]
  }
 ],
 "metadata": {
  "kernelspec": {
   "display_name": "base",
   "language": "python",
   "name": "python3"
  },
  "language_info": {
   "codemirror_mode": {
    "name": "ipython",
    "version": 3
   },
   "file_extension": ".py",
   "mimetype": "text/x-python",
   "name": "python",
   "nbconvert_exporter": "python",
   "pygments_lexer": "ipython3",
   "version": "3.12.3"
  }
 },
 "nbformat": 4,
 "nbformat_minor": 2
}
