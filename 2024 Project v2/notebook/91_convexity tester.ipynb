{
 "cells": [
  {
   "cell_type": "code",
   "execution_count": 1,
   "metadata": {},
   "outputs": [],
   "source": [
    "import sys\n",
    "import os\n",
    "sys.path.append(os.path.abspath(os.path.join('..', 'src')))\n",
    "\n",
    "from funkwpap import *\n",
    "import sympy as sp, pandas as pd, numpy as np, tqdm, time, sys, matplotlib.pyplot as plt\n",
    "from scipy.optimize import fsolve\n",
    "from random import random\n",
    "from scipy.optimize import minimize\n",
    "from gurobipy import *"
   ]
  },
  {
   "cell_type": "code",
   "execution_count": 2,
   "metadata": {},
   "outputs": [],
   "source": [
    "x = sp.symbols('x')\n",
    "cap = 200 # total emission cap\n",
    "Regulator91 = Regulator(\"test1\", permit_price = 2.4079, emission_cap = cap)\n",
    "sector1 = Sector('cement', price_demand_function= 100 - 0.1*x, free_emission_multiplier= 0, regulator= Regulator91)\n",
    "sector2 = Sector('steel', price_demand_function=150 - 0.1*x, free_emission_multiplier= 0, regulator= Regulator91)\n",
    "sector3 = Sector('paper', price_demand_function= 200 - 0.2*x, free_emission_multiplier= 0, regulator= Regulator91)\n",
    "sector4 = Sector('plastic', price_demand_function= 400 - 0.5*x, free_emission_multiplier= 0, regulator= Regulator91)\n",
    "sector5 = Sector('glass', price_demand_function= 300 - 0.4*x, free_emission_multiplier= 0, regulator= Regulator91)\n",
    "country1 = Country('DE', 1, regulator= Regulator91)\n",
    "country2 = Country('FI', 0.5, regulator= Regulator91)\n",
    "country3 = Country('GR', size= 0.1, regulator= Regulator91)\n",
    "\n",
    "# Create Firms using objects\n",
    "firm1 = Firm('firm1', 1, 1, x*0, 10*x+ 2*x**2 + 0.1*x**3 , 0, 0, 0, regulator= Regulator91)\n",
    "firm2 = Firm('firm2', 1, 2, x*0, 11*x+ 3*x**2 + 0.2*x**3, 0, 0, 0, regulator= Regulator91)\n",
    "firm3 = Firm('firm3', 1, 3, x*0, 5*x+ 4*x**2 + 5*x**3 , 0, 0, 0, regulator= Regulator91)\n",
    "firm4 = Firm('firm4', 2, 1, x*0, 7*x+ 5*x**2 + 3*x**3 , 0, 0, 0, regulator= Regulator91)\n",
    "firm5 = Firm('firm5', 2, 2, x*0, 1*x+ 6*x**2 + 2*x**3 , 0, 0, 0, regulator= Regulator91)\n",
    "firm6 = Firm('firm6', 2, 3, x*0, 2*x+ 7*x**2 + 3*x**3 , 0, 0, 0, regulator= Regulator91)\n",
    "firm7 = Firm('firm7', 3, 1, x*0, 3*x+ 8*x**2 + 4*x**3 , 0, 0, 0, regulator= Regulator91)\n",
    "firm8 = Firm('firm8', 3, 2, x*0, 4*x+ 9*x**2 + 10*x**3 , 0, 0, 0, regulator= Regulator91)\n",
    "firm9 = Firm('firm9', 3, 3, x*0, 5*x+ 10*x**2 + 11*x**3 , 0, 0, 0, regulator= Regulator91)\n"
   ]
  },
  {
   "cell_type": "code",
   "execution_count": 3,
   "metadata": {},
   "outputs": [
    {
     "name": "stdout",
     "output_type": "stream",
     "text": [
      "0.3*ab1**2 + 4*ab1 + 0.6*ab2**2 + 6*ab2 + 15*ab3**2 + 8*ab3 + 9*ab4**2 + 10*ab4 + 6*ab5**2 + 12*ab5 + 9*ab6**2 + 14*ab6 + 12*ab7**2 + 16*ab7 + 30*ab8**2 + 18*ab8 + 33*ab9**2 + 20*ab9 + 0.4*q1 + 0.4*q2 + 0.4*q3 + 0.4*q4 + 0.4*q5 + 0.4*q6 + 0.8*q7 + 0.8*q8 + 0.8*q9 - 1302\n",
      "Matrix([[0, 0, 0, 0, 0, 0, 0, 0, 0, 0, 0, 0, 0, 0, 0, 0, 0, 0], [0, 0, 0, 0, 0, 0, 0, 0, 0, 0, 0, 0, 0, 0, 0, 0, 0, 0], [0, 0, 0, 0, 0, 0, 0, 0, 0, 0, 0, 0, 0, 0, 0, 0, 0, 0], [0, 0, 0, 0, 0, 0, 0, 0, 0, 0, 0, 0, 0, 0, 0, 0, 0, 0], [0, 0, 0, 0, 0, 0, 0, 0, 0, 0, 0, 0, 0, 0, 0, 0, 0, 0], [0, 0, 0, 0, 0, 0, 0, 0, 0, 0, 0, 0, 0, 0, 0, 0, 0, 0], [0, 0, 0, 0, 0, 0, 0, 0, 0, 0, 0, 0, 0, 0, 0, 0, 0, 0], [0, 0, 0, 0, 0, 0, 0, 0, 0, 0, 0, 0, 0, 0, 0, 0, 0, 0], [0, 0, 0, 0, 0, 0, 0, 0, 0, 0, 0, 0, 0, 0, 0, 0, 0, 0], [0, 0, 0, 0, 0, 0, 0, 0, 0, 0.600000000000000, 0, 0, 0, 0, 0, 0, 0, 0], [0, 0, 0, 0, 0, 0, 0, 0, 0, 0, 1.20000000000000, 0, 0, 0, 0, 0, 0, 0], [0, 0, 0, 0, 0, 0, 0, 0, 0, 0, 0, 30, 0, 0, 0, 0, 0, 0], [0, 0, 0, 0, 0, 0, 0, 0, 0, 0, 0, 0, 18, 0, 0, 0, 0, 0], [0, 0, 0, 0, 0, 0, 0, 0, 0, 0, 0, 0, 0, 12, 0, 0, 0, 0], [0, 0, 0, 0, 0, 0, 0, 0, 0, 0, 0, 0, 0, 0, 18, 0, 0, 0], [0, 0, 0, 0, 0, 0, 0, 0, 0, 0, 0, 0, 0, 0, 0, 24, 0, 0], [0, 0, 0, 0, 0, 0, 0, 0, 0, 0, 0, 0, 0, 0, 0, 0, 60, 0], [0, 0, 0, 0, 0, 0, 0, 0, 0, 0, 0, 0, 0, 0, 0, 0, 0, 66]])\n",
      "{0: 9, 0.600000000000000: 1, 1.20000000000000: 1, 30.0000000000000: 1, 18.0000000000000: 2, 12.0000000000000: 1, 24.0000000000000: 1, 60.0000000000000: 1, 66.0000000000000: 1}\n"
     ]
    }
   ],
   "source": [
    "\n",
    "# Define one pair of output and emission for each firm for sympy and for gurobi and the dictionary of them\n",
    "sympy_output = {}\n",
    "sympy_emission = {}\n",
    "sympy_abatement = {}\n",
    "\n",
    "# ab = abatement ab = q - x (output - emission)\n",
    "\n",
    "for firm in Regulator91.firm_registry.values():\n",
    "    q_sym = sp.symbols(f\"q{firm.id}\")\n",
    "    x_sym = sp.symbols(f\"x{firm.id}\")\n",
    "    ab_sym = sp.symbols(f\"ab{firm.id}\")\n",
    "    sympy_output[firm.id] = q_sym\n",
    "    sympy_emission[firm.id] = x_sym\n",
    "    sympy_abatement[firm.id] = ab_sym\n",
    "    \n",
    "\n",
    "pp = sp.symbols('pp')  # Permit price\n",
    "\n",
    "        \n",
    "# Define the objective function\n",
    "sympy_objective = 0\n",
    "for firm in Regulator91.firm_registry.values():\n",
    "    firm_profit = 0\n",
    "    sect = firm.sector\n",
    "    sum_sector_outputs = 0\n",
    "    for i in range(len(sect.firms)):\n",
    "        sum_sector_outputs += sympy_output[sect.firms[i].id]\n",
    "    firm_revenew = sect.price_demand_function.subs(x, sum_sector_outputs) * sympy_output[firm.id]\n",
    "    firm_abatement = -firm.abatement_cost_function.subs(x, sympy_abatement[firm.id])\n",
    "    firm_trading = -pp * ((1 - sect.free_emission_multiplier) * sympy_output[firm.id] - sympy_abatement[firm.id])\n",
    "    firm_profit += firm_revenew + firm_abatement + firm_trading\n",
    "    profit_dq = sp.diff(firm_profit, sympy_output[firm.id])\n",
    "    profit_dab = sp.diff(firm_profit, sympy_abatement[firm.id])\n",
    "    # sympy_objective += profit_dq + profit_dab\n",
    "    sympy_objective += - profit_dq - profit_dab\n",
    "\n",
    "print(sympy_objective)\n",
    "#print the Hessian matrix and the eigenvalues\n",
    "variables = list(sympy_output.values()) + list(sympy_abatement.values())\n",
    "Hessian = sp.hessian(sympy_objective, variables)\n",
    "print(Hessian)\n",
    "eigenvalues = Hessian.eigenvals()\n",
    "print(eigenvalues)\n",
    "\n",
    "# If all eigenvalues are non negative, the Hessian is positive semi-definite and the objective function is convex"
   ]
  },
  {
   "cell_type": "code",
   "execution_count": 8,
   "metadata": {},
   "outputs": [
    {
     "name": "stdout",
     "output_type": "stream",
     "text": [
      "Optimal solution found\n"
     ]
    },
    {
     "name": "stderr",
     "output_type": "stream",
     "text": [
      "C:\\Users\\Kostas\\AppData\\Local\\Temp\\ipykernel_375952\\1013396723.py:2: DeprecationWarning: Model.display() is deprecated\n",
      "  m.display()\n"
     ]
    }
   ],
   "source": [
    "m = Regulator91.optimization_concave_formulation_ab(gurobi_print= False, print_output = False)\n",
    "m.display()\n",
    "'''Minimize\n",
    "-1302.0 + 0.4 qq1 + 4.0 ab1 + 0.4 qq2 + 6.0 ab2 + 0.4 qq3 + 8.0 ab3 + 0.4 qq4\n",
    "+ 10.0 ab4 + 0.4 qq5 + 12.0 ab5 + 0.4 qq6 + 14.0 ab6 + 0.8 qq7 + 16.0 ab7 + 0.8 qq8\n",
    "+ 18.0 ab8 + 0.8 qq9 + 20.0 ab9 + [ 0.30000000000000004 ab1 ^ 2\n",
    "+ 0.6000000000000001 ab2 ^ 2 + 15.0 ab3 ^ 2 + 9.0 ab4 ^ 2 + 6.0 ab5 ^ 2 + 9.0 ab6 ^ 2\n",
    "+ 12.0 ab7 ^ 2 + 30.0 ab8 ^ 2 + 33.0 ab9 ^ 2 ]\n",
    "Subject To\n",
    "  R0: qq1 + -1.0 ab1 >= 0\n",
    "  R1: ab1 >= 0\n",
    "  R2: qq2 + -1.0 ab2 >= 0\n",
    "  R3: ab2 >= 0\n",
    "  R4: qq3 + -1.0 ab3 >= 0\n",
    "  R5: ab3 >= 0\n",
    "  R6: qq4 + -1.0 ab4 >= 0\n",
    "  R7: ab4 >= 0\n",
    "  R8: qq5 + -1.0 ab5 >= 0\n",
    "  R9: ab5 >= 0\n",
    "  R10: qq6 + -1.0 ab6 >= 0\n",
    "  R11: ab6 >= 0\n",
    "  R12: qq7 + -1.0 ab7 >= 0\n",
    "  R13: ab7 >= 0\n",
    "  R14: qq8 + -1.0 ab8 >= 0\n",
    "  R15: ab8 >= 0\n",
    "  R16: qq9 + -1.0 ab9 >= 0\n",
    "  R17: ab9 >= 0\n",
    "  R18: -0.2 qq1 + -0.1 qq2 + -0.1 qq3 + -1.0 ppp <= -100\n",
    "  R19: -0.1 qq1 + -0.2 qq2 + -0.1 qq3 + -1.0 ppp <= -100\n",
    "  R20: -0.1 qq1 + -0.1 qq2 + -0.2 qq3 + -1.0 ppp <= -100\n",
    "  R21: -0.2 qq4 + -0.1 qq5 + -0.1 qq6 + -1.0 ppp <= -150\n",
    "  R22: -0.1 qq4 + -0.2 qq5 + -0.1 qq6 + -1.0 ppp <= -150\n",
    "  R23: -0.1 qq4 + -0.1 qq5 + -0.2 qq6 + -1.0 ppp <= -150\n",
    "  R24: -0.4 qq7 + -0.2 qq8 + -0.2 qq9 + -1.0 ppp <= -200\n",
    "  R25: -0.2 qq7 + -0.4 qq8 + -0.2 qq9 + -1.0 ppp <= -200\n",
    "  R26: -0.2 qq7 + -0.2 qq8 + -0.4 qq9 + -1.0 ppp <= -200\n",
    "R27: qq1 + -1.0 ab1 + qq2 + -1.0 ab2 + qq3 + -1.0 ab3 + qq4 + -1.0 ab4 + qq5 + -1.0 ab5\n",
    " + qq6 + -1.0 ab6 + qq7 + -1.0 ab7 + qq8 + -1.0 ab8 + qq9 + -1.0 ab9 = 1000\n",
    "  : -4.0 ab1 + ppp + [ -0.30000000000000004 ab1 ^ 2 ] <= 10\n",
    "  : -6.0 ab2 + ppp + [ -0.6000000000000001 ab2 ^ 2 ] <= 11\n",
    "  : -8.0 ab3 + ppp + [ -15.0 ab3 ^ 2 ] <= 5\n",
    "  : -10.0 ab4 + ppp + [ -9.0 ab4 ^ 2 ] <= 7\n",
    "  : -12.0 ab5 + ppp + [ -6.0 ab5 ^ 2 ] <= 1\n",
    "  : -14.0 ab6 + ppp + [ -9.0 ab6 ^ 2 ] <= 2\n",
    "  : -16.0 ab7 + ppp + [ -12.0 ab7 ^ 2 ] <= 3\n",
    "  : -18.0 ab8 + ppp + [ -30.0 ab8 ^ 2 ] <= 4\n",
    "  : -20.0 ab9 + ppp + [ -33.0 ab9 ^ 2 ] <= 5\n",
    "  '''"
   ]
  },
  {
   "cell_type": "markdown",
   "metadata": {},
   "source": [
    "**CHATGPT ANALYSIS**\n",
    "\n",
    "### **Objective Function:**\n",
    "You are minimizing a quadratic function, which is a sum of linear and quadratic terms. The quadratic terms appear to be positive, such as:\n",
    "\n",
    "\\[\n",
    "\\text{Minimize: } -1302 + 0.4q_1 + 4.0ab_1 + 0.4q_2 + 6.0ab_2 + \\ldots + [0.3ab_1^2 + 0.6ab_2^2 + 15ab_3^2 + \\ldots]\n",
    "\\]\n",
    "- Quadratic terms are positive coefficients, which indicates the objective function is **convex**. In convex minimization, the objective should have non-negative second derivatives (positive or zero quadratic terms).\n",
    "\n",
    "### **Constraints:**\n",
    "You have a mix of linear inequalities and quadratic constraints. Let's break them down:\n",
    "\n",
    "1. **Linear Inequalities**:\n",
    "   - Constraints like:\n",
    "     \\[\n",
    "     qq_1 - ab_1 \\geq 0, \\quad ab_1 \\geq 0, \\quad \\text{and so on for each } ab_i\n",
    "     \\]\n",
    "     These are simple linear constraints, which are convex.\n",
    "\n",
    "2. **Quadratic Constraints**:\n",
    "   You have several quadratic constraints like:\n",
    "   \\[\n",
    "   -4.0ab_1 + ppp + [-0.3ab_1^2] \\leq 10\n",
    "   \\]\n",
    "   Here, the quadratic terms like \\(-0.3ab_1^2\\) are **negative**, meaning they contribute non-convex terms. Negative quadratic terms are concave, and their presence in inequality constraints makes these constraints non-convex.\n",
    "\n",
    "   Specifically, for a convex minimization, the quadratic terms in the inequality constraints should be convex (i.e., positive or zero). Since your constraints have **negative quadratic terms**, they introduce **non-convexity** into the problem.\n",
    "\n",
    "### **Conclusion:**\n",
    "- Your **objective function** is convex and suitable for minimization.\n",
    "- However, your **quadratic constraints** introduce **non-convexity** due to the negative quadratic terms like \\(-0.3ab_1^2\\). These constraints are likely causing Gurobi to flag the problem as non-convex.\n"
   ]
  }
 ],
 "metadata": {
  "kernelspec": {
   "display_name": "base",
   "language": "python",
   "name": "python3"
  },
  "language_info": {
   "codemirror_mode": {
    "name": "ipython",
    "version": 3
   },
   "file_extension": ".py",
   "mimetype": "text/x-python",
   "name": "python",
   "nbconvert_exporter": "python",
   "pygments_lexer": "ipython3",
   "version": "3.12.4"
  }
 },
 "nbformat": 4,
 "nbformat_minor": 2
}
