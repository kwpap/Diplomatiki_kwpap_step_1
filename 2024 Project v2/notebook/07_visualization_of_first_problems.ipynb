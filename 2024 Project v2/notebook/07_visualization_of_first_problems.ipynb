{
 "cells": [
  {
   "cell_type": "code",
   "execution_count": 1,
   "metadata": {},
   "outputs": [],
   "source": [
    "import sys\n",
    "import os\n",
    "sys.path.append(os.path.abspath(os.path.join('..', 'src')))\n",
    "\n",
    "from funkwpap import sympy_to_gurobi, Firm, Country, Sector, Regulator, get_emission\n",
    "import sympy as sp, pandas as pd, numpy as np, tqdm, time, sys, matplotlib.pyplot as plt"
   ]
  },
  {
   "cell_type": "code",
   "execution_count": 2,
   "metadata": {},
   "outputs": [
    {
     "name": "stdout",
     "output_type": "stream",
     "text": [
      "[Firm(id=1, name='firm1', sector_id=1, country_id=1, actual_output=0, emission=0, profit=0), Firm(id=2, name='firm2', sector_id=1, country_id=2, actual_output=0, emission=0, profit=0), Firm(id=3, name='firm3', sector_id=1, country_id=3, actual_output=0, emission=0, profit=0)]\n",
      "[Firm(id=1, name='firm1', sector_id=1, country_id=1, actual_output=0, emission=0, profit=0), Firm(id=4, name='firm4', sector_id=2, country_id=1, actual_output=0, emission=0, profit=0), Firm(id=7, name='firm7', sector_id=3, country_id=1, actual_output=0, emission=0, profit=0)]\n",
      "{1: Firm(id=1, name='firm1', sector_id=1, country_id=1, actual_output=0, emission=0, profit=0), 2: Firm(id=2, name='firm2', sector_id=1, country_id=2, actual_output=0, emission=0, profit=0), 3: Firm(id=3, name='firm3', sector_id=1, country_id=3, actual_output=0, emission=0, profit=0), 4: Firm(id=4, name='firm4', sector_id=2, country_id=1, actual_output=0, emission=0, profit=0), 5: Firm(id=5, name='firm5', sector_id=2, country_id=2, actual_output=0, emission=0, profit=0), 6: Firm(id=6, name='firm6', sector_id=2, country_id=3, actual_output=0, emission=0, profit=0), 7: Firm(id=7, name='firm7', sector_id=3, country_id=1, actual_output=0, emission=0, profit=0), 8: Firm(id=8, name='firm8', sector_id=3, country_id=2, actual_output=0, emission=0, profit=0), 9: Firm(id=9, name='firm9', sector_id=3, country_id=3, actual_output=0, emission=0, profit=0)}\n",
      "firm1 cement DE\n",
      "firm2 cement FI\n",
      "firm3 cement GR\n",
      "firm4 steel DE\n",
      "firm5 steel FI\n",
      "firm6 steel GR\n",
      "firm7 paper DE\n",
      "firm8 paper FI\n",
      "firm9 paper GR\n"
     ]
    }
   ],
   "source": [
    "x, y = sp.symbols('x y')\n",
    "# Create Sectors and Countries\n",
    "Regulator3 = Regulator('EU', permit_price= 2, emission_cap= 100)\n",
    "sector1 = Sector('cement', price_demand_function= 100 - 0.1*x, free_emission_multiplier= 0, regulator= Regulator3)\n",
    "sector2 = Sector('steel', price_demand_function=150 - 0.1*x, free_emission_multiplier= 0, regulator= Regulator3)\n",
    "sector3 = Sector('paper', price_demand_function= 200 - 0.02*x**1.5, free_emission_multiplier= 0, regulator= Regulator3)\n",
    "country1 = Country('DE', 1, regulator= Regulator3)\n",
    "country2 = Country('FI', 0.5, regulator= Regulator3)\n",
    "country3 = Country('GR', size= 0.1, regulator= Regulator3)\n",
    "\n",
    "# Create Firms using objects\n",
    "firm1 = Firm('firm1', 1, 1, x*0, 0.1*sp.exp('x') + 100/y**2, 0, 0, 0, regulator= Regulator3)\n",
    "firm2 = Firm('firm2', 1, 2, x*0, 5*x**3.2 + 40/y**2, 0, 0, 0, regulator= Regulator3)\n",
    "firm3 = Firm('firm3', 1, 3, x*0, x**5.2 + 30/y**2, 0, 0, 0, regulator= Regulator3)\n",
    "firm4 = Firm('firm4', 2, 1, x*0, x**3.3 + 20/y**2, 0, 0, 0, regulator= Regulator3)\n",
    "firm5 = Firm('firm5', 2, 2, x*0, x**2.3 + 20/y**2, 0, 0, 0, regulator= Regulator3)\n",
    "firm6 = Firm('firm6', 2, 3, x*0, x**3.2 + 15/y**2, 0, 0, 0, regulator= Regulator3)\n",
    "firm7 = Firm('firm7', 3, 1, x*0, x**4.1 + 40/y**2, 0, 0, 0, regulator= Regulator3)\n",
    "firm8 = Firm('firm8', 3, 2, x*0, x**5.1 + 50/y**2, 0, 0, 0, regulator= Regulator3)\n",
    "firm9 = Firm('firm9', 3, 3, x*0, x**5 + 60/y**2, 0, 0, 0, regulator= Regulator3)\n",
    "\n",
    "\n",
    "print(sector1.firms)  # List of firms in sector1\n",
    "print(country1.firms)  # List of firms in country1\n",
    "print(Regulator3.firm_registry)  # Dictionary of all firms\n",
    "\n",
    "for firm in Regulator3.firm_registry.values():\n",
    "    print(firm.name, firm.sector.name, firm.country.name)"
   ]
  },
  {
   "cell_type": "code",
   "execution_count": 19,
   "metadata": {},
   "outputs": [
    {
     "data": {
      "text/plain": [
       "[1.74904135789702e+20,\n",
       " 74.8133653385974,\n",
       " 38.1888732178058,\n",
       " 137.092409877664,\n",
       " 760.743031126457,\n",
       " 143.773020835479,\n",
       " 130.576497280733,\n",
       " 42.5245241612148,\n",
       " 82.3337015672608]"
      ]
     },
     "execution_count": 19,
     "metadata": {},
     "output_type": "execute_result"
    }
   ],
   "source": [
    "# Read a csv file that has the column names in the first row and some entries are lists of floats which are writeen inside double quotes to seperate those commas from the commans of the scv file. \n",
    "with open ('../data/generated/Permit_price_output_to_cap_v_0.csv', 'r') as f:\n",
    "    df = pd.read_csv(f)\n",
    "    for i in range(40,41):\n",
    "        # print(df.iloc[i,0])\n",
    "        Regulator3.emission_cap = df.iloc[i,0]\n",
    "        Regulator3.permit_price = df.iloc[i,1]\n",
    "        Outputs = df.iloc[i,2].replace('(','').replace(')','').split(',')\n",
    "        Emissions = df.iloc[i,3].replace('(','').replace(')','').split(',')\n",
    "        Profits = df.iloc[i,4].replace('(','').replace(')','').split(',')\n",
    "        Sales = []\n",
    "        Abatements = []\n",
    "        Trades = []\n",
    "        for firm in Regulator3.firm_registry.values():\n",
    "            firm.actual_output = float(Outputs[firm.id-1])\n",
    "            firm.emission = float(Emissions[firm.id-1])\n",
    "            firm.profit = float(Profits[firm.id-1])\n",
    "            Sales.append(firm.calculate_sales())\n",
    "            Abatements.append(firm.calculate_abatement())\n",
    "            Trades.append(firm.calculate_trading())\n",
    "\n",
    "Abatements"
   ]
  },
  {
   "cell_type": "code",
   "execution_count": 4,
   "metadata": {},
   "outputs": [
    {
     "name": "stdout",
     "output_type": "stream",
     "text": [
      "0     1.000019e+08\n",
      "1     6.666682e+07\n",
      "2     5.555572e+07\n",
      "3     4.444462e+07\n",
      "4     4.444438e+07\n",
      "          ...     \n",
      "64    4.547474e-01\n",
      "65    4.547474e-01\n",
      "66    4.547474e-01\n",
      "67    4.547474e-01\n",
      "68    4.547474e-01\n",
      "Name: Permit Price, Length: 69, dtype: float64\n"
     ]
    },
    {
     "data": {
      "image/png": "[encoded data removed]",
      "text/plain": [
       "<Figure size 640x480 with 1 Axes>"
      ]
     },
     "metadata": {},
     "output_type": "display_data"
    }
   ],
   "source": [
    "# Read a csv file that has the column names in the first row and some entries are lists of floats which are writeen inside double quotes to seperate those commas from the commans of the scv file. \n",
    "with open ('../data/generated/Permit_price_output_to_cap_v_0.csv', 'r') as f:\n",
    "    df = pd.read_csv(f)\n",
    "#print(df.head)\n",
    "print(df['Permit Price'])\n",
    "#print(df.columns)\n",
    "\n",
    "# Create a list of the permit prices\n",
    "permit_price = df['Permit Price'].to_list()\n",
    "# Create a list of the Emission Cap \n",
    "emission_cap = df['Emission Cap'].to_list()\n",
    "\n",
    "# Plot the permit price against the emission cap\n",
    "plt.plot(emission_cap[11:55], permit_price[11:55])\n",
    "plt.xlabel('Emission Cap')\n",
    "plt.ylabel('Permit Price')\n",
    "plt.title('Permit Price vs Emission Cap')\n",
    "plt.show()\n",
    "\n",
    "   "
   ]
  }
 ],
 "metadata": {
  "kernelspec": {
   "display_name": "base",
   "language": "python",
   "name": "python3"
  },
  "language_info": {
   "codemirror_mode": {
    "name": "ipython",
    "version": 3
   },
   "file_extension": ".py",
   "mimetype": "text/x-python",
   "name": "python",
   "nbconvert_exporter": "python",
   "pygments_lexer": "ipython3",
   "version": "3.12.4"
  }
 },
 "nbformat": 4,
 "nbformat_minor": 2
}
