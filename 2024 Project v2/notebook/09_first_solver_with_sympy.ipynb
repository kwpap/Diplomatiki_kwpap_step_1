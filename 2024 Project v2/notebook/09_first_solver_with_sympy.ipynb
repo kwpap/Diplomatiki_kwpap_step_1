{
 "cells": [
  {
   "cell_type": "code",
   "execution_count": 1,
   "metadata": {},
   "outputs": [],
   "source": [
    "import sys\n",
    "import os\n",
    "sys.path.append(os.path.abspath(os.path.join('..', 'src')))\n",
    "\n",
    "from funkwpap import *\n",
    "import sympy as sp, pandas as pd, numpy as np, tqdm, time, sys, matplotlib.pyplot as plt\n",
    "from scipy.optimize import fsolve\n"
   ]
  },
  {
   "cell_type": "code",
   "execution_count": 2,
   "metadata": {},
   "outputs": [
    {
     "name": "stdout",
     "output_type": "stream",
     "text": [
      "{pp: 2.40789790512882, q1: 25.3070069829039, q2: 25.3070069829039, x1: 24.7050325066217, x2: 25.2949674933783}\n"
     ]
    }
   ],
   "source": [
    "pp = sp.symbols('pp') # permit price\n",
    "q1, q2 = sp.symbols('q1 q2') # quantity of firm1 and firm2\n",
    "x1, x2 = sp.symbols('x1 x2') # emission of firm1 and firm2\n",
    "cap = 50\n",
    "\n",
    "profit1 = (10 - 0.1 * (q1 + q2)) * q1 - 2*(q1 - x1)**2 - pp*x1\n",
    "profit2 = (10 - 0.1 * (q1 + q2)) * q2 - 100*(q2 - x2)**2 - pp*x2\n",
    "\n",
    "# First order conditions\n",
    "foc1 = sp.diff(profit1, q1)\n",
    "foc2 = sp.diff(profit2, q2)\n",
    "foc3 = sp.diff(profit1, x1)\n",
    "foc4 = sp.diff(profit2, x2)\n",
    "\n",
    "# Solve for q1, q2, x1, x2\n",
    "solutions = sp.solve([foc1, foc2, foc3, foc4, x1 + x2 - 50], (q1, q2, x1, x2, pp))\n",
    "\n",
    "print(solutions)\n",
    "\n",
    "# # Test the equilibrium using the calculate_output method of the firm.\n",
    "# Regulator5.permit_price = solutions.get(pp)\n",
    "# firm1.actual_output = solutions.get(q1)\n",
    "# firm2.actual_output = solutions.get(q2)\n",
    "# firm1.emission = solutions.get(x1)\n",
    "# firm2.emission = solutions.get(x2)\n",
    "\n",
    "# firm1.calculate_output(verbose = True)\n",
    "\n"
   ]
  },
  {
   "cell_type": "code",
   "execution_count": 3,
   "metadata": {},
   "outputs": [
    {
     "name": "stdout",
     "output_type": "stream",
     "text": [
      "[(25.8656062689302, 25.8656062689302, 25.2545527907303, 24.7454472092697, 2.24031811932095), (25.2863677710915, 25.2863677710915, 25.9206770632448, 24.0793229367552, 2.41408966867256)]\n"
     ]
    }
   ],
   "source": [
    "pp = sp.symbols('pp') # permit price\n",
    "q1, q2 = sp.symbols('q1 q2') # quantity of firm1 and firm2\n",
    "x1, x2 = sp.symbols('x1 x2') # emission of firm1 and firm2\n",
    "cap = 50\n",
    "\n",
    "profit1 = (10 - 0.1 * (q1 + q2)) * q1 - 2*(q1 - x1)**3 - pp*x1\n",
    "profit2 = (10 - 0.1 * (q1 + q2)) * q2 - (q2 - x2)**2 - pp*x2\n",
    "\n",
    "# First order conditions\n",
    "foc1 = sp.diff(profit1, q1)\n",
    "foc2 = sp.diff(profit2, q2)\n",
    "foc3 = sp.diff(profit1, x1)\n",
    "foc4 = sp.diff(profit2, x2)\n",
    "\n",
    "# Solve for q1, q2, x1, x2\n",
    "solutions = sp.solve([foc1, foc2, foc3, foc4, x1 + x2 - 50], (q1, q2, x1, x2, pp))\n",
    "\n",
    "print(solutions)\n"
   ]
  },
  {
   "cell_type": "code",
   "execution_count": 4,
   "metadata": {},
   "outputs": [
    {
     "name": "stdout",
     "output_type": "stream",
     "text": [
      "Matrix([[25.8656062689302], [25.8656062689302], [25.2545527907303], [24.7454472092697], [2.24031811932095]])\n"
     ]
    }
   ],
   "source": [
    "pp = sp.symbols('pp') # permit price\n",
    "q1, q2 = sp.symbols('q1 q2') # quantity of firm1 and firm2\n",
    "x1, x2 = sp.symbols('x1 x2') # emission of firm1 and firm2\n",
    "cap = 50\n",
    "\n",
    "profit1 = (10 - 0.1 * (q1 + q2)) * q1 - 2*(q1 - x1)**3 - pp*x1\n",
    "profit2 = (10 - 0.1 * (q1 + q2)) * q2 - (q2 - x2)**2 - pp*x2\n",
    "\n",
    "# First order conditions\n",
    "foc1 = sp.diff(profit1, q1)\n",
    "foc2 = sp.diff(profit2, q2)\n",
    "foc3 = sp.diff(profit1, x1)\n",
    "foc4 = sp.diff(profit2, x2)\n",
    "\n",
    "# Solve for q1, q2, x1, x2, pp numerically\n",
    "initial_guess = (1, 1, 1, 1, 1)  # \n",
    "solutions = sp.nsolve([foc1, foc2, foc3, foc4, x1 + x2 - 50], (q1, q2, x1, x2, pp), initial_guess)\n",
    "\n",
    "print(solutions)"
   ]
  },
  {
   "cell_type": "code",
   "execution_count": 5,
   "metadata": {},
   "outputs": [
    {
     "name": "stdout",
     "output_type": "stream",
     "text": [
      "-0.2*q1 - 0.1*q2 - 300*(q1 - x1)**2 + 10\n",
      "[24.96052809 24.96052809 25.05203112 24.94796888  2.51184157]\n"
     ]
    }
   ],
   "source": [
    "import numpy as np\n",
    "from scipy.optimize import fsolve, root\n",
    "import sympy as sp\n",
    "\n",
    "# Define the symbols\n",
    "q1, q2, x1, x2, pp = sp.symbols('q1 q2 x1 x2 pp')\n",
    "\n",
    "# Define the equations symbolically\n",
    "cap = 50\n",
    "profit1 = (10 - 0.1 * (q1 + q2)) * q1 - 100*(q1 - x1)**3 - pp*x1\n",
    "profit2 = (10 - 0.1 * (q1 + q2)) * q2 - 100*(q2 - x2)**2 - pp*x2\n",
    "\n",
    "foc1 = sp.diff(profit1, q1)\n",
    "foc2 = sp.diff(profit2, q2)\n",
    "foc3 = sp.diff(profit1, x1)\n",
    "foc4 = sp.diff(profit2, x2)\n",
    "\n",
    "# Define the constraint\n",
    "constraint = x1 + x2 - cap\n",
    "\n",
    "# Convert the symbolic expressions to numerical functions\n",
    "foc1_func = sp.lambdify((q1, q2, x1, x2, pp), foc1, 'numpy')\n",
    "foc2_func = sp.lambdify((q1, q2, x1, x2, pp), foc2, 'numpy')\n",
    "foc3_func = sp.lambdify((q1, q2, x1, x2, pp), foc3, 'numpy')\n",
    "foc4_func = sp.lambdify((q1, q2, x1, x2, pp), foc4, 'numpy')\n",
    "constraint_func = sp.lambdify((q1, q2, x1, x2, pp), constraint, 'numpy')\n",
    "\n",
    "# Define the equations for fsolve\n",
    "def equations(vars):\n",
    "    q1_val, q2_val, x1_val, x2_val, pp_val = vars\n",
    "    return [\n",
    "        foc1_func(q1_val, q2_val, x1_val, x2_val, pp_val),\n",
    "        foc2_func(q1_val, q2_val, x1_val, x2_val, pp_val),\n",
    "        foc3_func(q1_val, q2_val, x1_val, x2_val, pp_val),\n",
    "        foc4_func(q1_val, q2_val, x1_val, x2_val, pp_val),\n",
    "        constraint_func(q1_val, q2_val, x1_val, x2_val, pp_val)\n",
    "    ]\n",
    "\n",
    "# Initial guess\n",
    "initial_guess = [1, 1, 1, 1, 1]\n",
    "\n",
    "print(foc1)\n",
    "\n",
    "# Solve the equations\n",
    "solutions = fsolve(equations, initial_guess)\n",
    "\n",
    "print(solutions)"
   ]
  },
  {
   "cell_type": "code",
   "execution_count": 6,
   "metadata": {},
   "outputs": [
    {
     "name": "stdout",
     "output_type": "stream",
     "text": [
      "[Firm(id=1, name='firm1', sector_id=1, country_id=1, actual_output=0, emission=0, profit=0), Firm(id=2, name='firm2', sector_id=1, country_id=1, actual_output=0, emission=0, profit=0), Firm(id=3, name='firm3', sector_id=1, country_id=1, actual_output=0, emission=0, profit=0)]\n",
      "[Firm(id=1, name='firm1', sector_id=1, country_id=1, actual_output=0, emission=0, profit=0), Firm(id=2, name='firm2', sector_id=1, country_id=1, actual_output=0, emission=0, profit=0), Firm(id=3, name='firm3', sector_id=1, country_id=1, actual_output=0, emission=0, profit=0), Firm(id=4, name='firm4', sector_id=2, country_id=1, actual_output=0, emission=0, profit=0), Firm(id=5, name='firm5', sector_id=2, country_id=1, actual_output=0, emission=0, profit=0), Firm(id=6, name='firm6', sector_id=2, country_id=1, actual_output=0, emission=0, profit=0), Firm(id=7, name='firm7', sector_id=3, country_id=1, actual_output=0, emission=0, profit=0), Firm(id=8, name='firm8', sector_id=3, country_id=1, actual_output=0, emission=0, profit=0), Firm(id=9, name='firm9', sector_id=3, country_id=1, actual_output=0, emission=0, profit=0)]\n",
      "{1: Firm(id=1, name='firm1', sector_id=1, country_id=1, actual_output=0, emission=0, profit=0), 2: Firm(id=2, name='firm2', sector_id=1, country_id=1, actual_output=0, emission=0, profit=0), 3: Firm(id=3, name='firm3', sector_id=1, country_id=1, actual_output=0, emission=0, profit=0), 4: Firm(id=4, name='firm4', sector_id=2, country_id=1, actual_output=0, emission=0, profit=0), 5: Firm(id=5, name='firm5', sector_id=2, country_id=1, actual_output=0, emission=0, profit=0), 6: Firm(id=6, name='firm6', sector_id=2, country_id=1, actual_output=0, emission=0, profit=0), 7: Firm(id=7, name='firm7', sector_id=3, country_id=1, actual_output=0, emission=0, profit=0), 8: Firm(id=8, name='firm8', sector_id=3, country_id=1, actual_output=0, emission=0, profit=0), 9: Firm(id=9, name='firm9', sector_id=3, country_id=1, actual_output=0, emission=0, profit=0)}\n",
      "firm1 cement DE\n",
      "firm2 cement DE\n",
      "firm3 cement DE\n",
      "firm4 steel DE\n",
      "firm5 steel DE\n",
      "firm6 steel DE\n",
      "firm7 power DE\n",
      "firm8 power DE\n",
      "firm9 power DE\n"
     ]
    }
   ],
   "source": [
    "x, y = sp.symbols('x y')\n",
    "# Destroy Regulator and all the objectrs under it\n",
    "if 'Regulator5' in locals():\n",
    "  Regulator5.destroy_all()\n",
    "  del Regulator5\n",
    "\n",
    "\n",
    "# Create Sectors and Countries\n",
    "Regulator5 = Regulator('EU', permit_price= 2, emission_cap= 2000)\n",
    "sector1 = Sector('cement', price_demand_function= 100-0.1*x, free_emission_multiplier= 0, regulator= Regulator5)\n",
    "sector2 = Sector('steel', price_demand_function= 150-0.2*x, free_emission_multiplier= 0, regulator= Regulator5)\n",
    "sector3 = Sector('power', price_demand_function= 200-0.3*x, free_emission_multiplier= 0, regulator= Regulator5)\n",
    "country1 = Country('DE', 1, regulator= Regulator5)\n",
    "\n",
    "\n",
    "# Create Firms using objects\n",
    "firm1 = Firm('firm1', sector1, country1, x*0, 15*x + 2*x**2 + 3*x**3 , 0, 0, 0, regulator= Regulator5)\n",
    "firm2 = Firm('firm2', sector1, country1, x*0, 16*x + 3*x**2 , 0, 0, 0, regulator= Regulator5)\n",
    "firm3 = Firm('firm3', sector1, country1, x*0, 15*x + 2.1*x**2 + 3*x**3, 0, 0, 0, regulator= Regulator5)\n",
    "firm4 = Firm('firm4', sector2, country1, x*0, 12*x + 2.2*x**2 + 3*x**3, 0, 0, 0, regulator= Regulator5)\n",
    "firm5 = Firm('firm5', sector2, country1, x*0, 20*x + 2.3*x**2 + 3*x**3, 0, 0, 0, regulator= Regulator5)\n",
    "firm6 = Firm('firm6', sector2, country1, x*0, 10*x + 2.4*x**2 + 3*x**3, 0, 0, 0, regulator= Regulator5)\n",
    "firm7 = Firm('firm7', sector3, country1, x*0, 10*x + 2.5*x**2 + 3*x**3, 0, 0, 0, regulator= Regulator5)\n",
    "firm8 = Firm('firm8', sector3, country1, x*0, 10*x + 2.6*x**2 + 3*x**3, 0, 0, 0, regulator= Regulator5)\n",
    "firm9 = Firm('firm9', sector3, country1, x*0, 10*x + 2.7*x**2 + 3*x**3, 0, 0, 0, regulator= Regulator5)\n",
    "\n",
    "\n",
    "\n",
    "\n",
    "\n",
    "\n",
    "print(sector1.firms)  # List of firms in sector1\n",
    "print(country1.firms)  # List of firms in country1\n",
    "print(Regulator5.firm_registry)  # Dictionary of all firms\n",
    "\n",
    "for firm in Regulator5.firm_registry.values():\n",
    "    print(firm.name, firm.sector.name, firm.country.name)"
   ]
  },
  {
   "cell_type": "code",
   "execution_count": 7,
   "metadata": {},
   "outputs": [
    {
     "name": "stdout",
     "output_type": "stream",
     "text": [
      "firm1\n",
      "firm1 1\n",
      "firm2 2\n",
      "firm3 3\n"
     ]
    },
    {
     "name": "stdout",
     "output_type": "stream",
     "text": [
      "Profit Expression: -pp*x1 - q1*(0.1*q1 + 0.1*q2 + 0.1*q3 - 100) - 15*q1 + 15*x1 - 3*(q1 - x1)**3 - 2*(q1 - x1)**2\n",
      "firm2\n",
      "firm1 1\n",
      "firm2 2\n",
      "firm3 3\n",
      "Profit Expression: -pp*x2 - q2*(0.1*q1 + 0.1*q2 + 0.1*q3 - 100) - 16*q2 + 16*x2 - 3*(q2 - x2)**2\n",
      "firm3\n",
      "firm1 1\n",
      "firm2 2\n",
      "firm3 3\n",
      "Profit Expression: -pp*x3 - q3*(0.1*q1 + 0.1*q2 + 0.1*q3 - 100) - 15*q3 + 15*x3 - 3*(q3 - x3)**3 - 2.1*(q3 - x3)**2\n",
      "firm4\n",
      "firm4 4\n",
      "firm5 5\n",
      "firm6 6\n",
      "Profit Expression: -pp*x4 - q4*(0.2*q4 + 0.2*q5 + 0.2*q6 - 150) - 12*q4 + 12*x4 - 3*(q4 - x4)**3 - 2.2*(q4 - x4)**2\n",
      "firm5\n",
      "firm4 4\n",
      "firm5 5\n",
      "firm6 6\n",
      "Profit Expression: -pp*x5 - q5*(0.2*q4 + 0.2*q5 + 0.2*q6 - 150) - 20*q5 + 20*x5 - 3*(q5 - x5)**3 - 2.3*(q5 - x5)**2\n",
      "firm6\n",
      "firm4 4\n",
      "firm5 5\n",
      "firm6 6\n",
      "Profit Expression: -pp*x6 - q6*(0.2*q4 + 0.2*q5 + 0.2*q6 - 150) - 10*q6 + 10*x6 - 3*(q6 - x6)**3 - 2.4*(q6 - x6)**2\n",
      "firm7\n",
      "firm7 7\n",
      "firm8 8\n",
      "firm9 9\n",
      "Profit Expression: -pp*x7 - q7*(0.3*q7 + 0.3*q8 + 0.3*q9 - 200) - 10*q7 + 10*x7 - 3*(q7 - x7)**3 - 2.5*(q7 - x7)**2\n",
      "firm8\n",
      "firm7 7\n",
      "firm8 8\n",
      "firm9 9\n",
      "Profit Expression: -pp*x8 - q8*(0.3*q7 + 0.3*q8 + 0.3*q9 - 200) - 10*q8 + 10*x8 - 3*(q8 - x8)**3 - 2.6*(q8 - x8)**2\n",
      "firm9\n",
      "firm7 7\n",
      "firm8 8\n",
      "firm9 9\n",
      "Profit Expression: -pp*x9 - q9*(0.3*q7 + 0.3*q8 + 0.3*q9 - 200) - 10*q9 + 10*x9 - 3*(q9 - x9)**3 - 2.7*(q9 - x9)**2\n",
      "[-4.2*q1 - 0.1*q2 - 0.1*q3 + 4*x1 - 9*(q1 - x1)**2 + 85, -pp + 4*q1 - 4*x1 + 9*(q1 - x1)**2 + 15, -0.1*q1 - 6.2*q2 - 0.1*q3 + 6*x2 + 84, -pp + 6*q2 - 6*x2 + 16, -0.1*q1 - 0.1*q2 - 4.4*q3 + 4.2*x3 - 9*(q3 - x3)**2 + 85, -pp + 4.2*q3 - 4.2*x3 + 9*(q3 - x3)**2 + 15, -4.8*q4 - 0.2*q5 - 0.2*q6 + 4.4*x4 - 9*(q4 - x4)**2 + 138, -pp + 4.4*q4 - 4.4*x4 + 9*(q4 - x4)**2 + 12, -0.2*q4 - 5.0*q5 - 0.2*q6 + 4.6*x5 - 9*(q5 - x5)**2 + 130, -pp + 4.6*q5 - 4.6*x5 + 9*(q5 - x5)**2 + 20, -0.2*q4 - 0.2*q5 - 5.2*q6 + 4.8*x6 - 9*(q6 - x6)**2 + 140, -pp + 4.8*q6 - 4.8*x6 + 9*(q6 - x6)**2 + 10, -5.6*q7 - 0.3*q8 - 0.3*q9 + 5.0*x7 - 9*(q7 - x7)**2 + 190, -pp + 5.0*q7 - 5.0*x7 + 9*(q7 - x7)**2 + 10, -0.3*q7 - 5.8*q8 - 0.3*q9 + 5.2*x8 - 9*(q8 - x8)**2 + 190, -pp + 5.2*q8 - 5.2*x8 + 9*(q8 - x8)**2 + 10, -0.3*q7 - 0.3*q8 - 6.0*q9 + 5.4*x9 - 9*(q9 - x9)**2 + 190, -pp + 5.4*q9 - 5.4*x9 + 9*(q9 - x9)**2 + 10, x1 + x2 + x3 + x4 + x5 + x6 + x7 + x8 + x9 - 2000]\n",
      "[q1, q2, q3, q4, q5, q6, q7, q8, q9, x1, x2, x3, x4, x5, x6, x7, x8, x9, pp]\n"
     ]
    }
   ],
   "source": [
    "import sympy as sp\n",
    "n_firms = Regulator5.firm_registry.__len__()\n",
    "outputs = sp.symbols(f'q1:{n_firms+1}')\n",
    "emissions = sp.symbols(f'x1:{n_firms+1}')\n",
    "pp = sp.symbols('pp') # permit price\n",
    "cap = Regulator5.emission_cap\n",
    "\n",
    "# Step 2: Combine functions to create the profit function for each firm\n",
    "first_order_conditions = []\n",
    "profit_functions = []\n",
    "for firm in Regulator5.firm_registry.values():\n",
    "    print(firm.name)\n",
    "    sector = firm.sector\n",
    "    sector_outputs = 0\n",
    "    for fir in sector.firms:\n",
    "        print(fir.name, fir.id)\n",
    "        sector_outputs += outputs[fir.id-1]\n",
    "\n",
    "    # Get the price demand function of the sector\n",
    "    price_demand_function = sector.price_demand_function\n",
    "    # Get the abatement cost function of the firm\n",
    "    abatement_cost_function = firm.abatement_cost_function\n",
    "    # Get the production cost function of the firm\n",
    "    production_cost_function = firm.production_cost_function\n",
    "    # Get the free emission multiplier of the firm\n",
    "    free_emission_multiplier = sector.free_emission_multiplier\n",
    "\n",
    "    #print(\"Price to demand Function: {}\".format(price_demand_function.subs(x, sum_other_outputs + out)))\n",
    "    income = (price_demand_function.subs(x, sector_outputs) - production_cost_function.subs(x, outputs[firm.id-1]))*outputs[firm.id-1]\n",
    "    abatement = -abatement_cost_function.subs({x: outputs[firm.id-1] - emissions[firm.id-1], y: emissions[firm.id-1]})\n",
    "    trading = - pp * (emissions[firm.id-1] -free_emission_multiplier * outputs[firm.id-1])\n",
    "    # if BAU: # If BAU is True, then the firm is operating at Business as Usual, meaning that there is no objective to abate emissions nor to trade a valueless item\n",
    "    #     abatement = 0\n",
    "    #     trading = 0\n",
    "        \n",
    "    profit_expr = income + abatement + trading\n",
    "    profit_expr = sp.simplify(profit_expr)\n",
    "    print(\"Profit Expression: {}\".format(profit_expr))\n",
    "    profit_functions.append(profit_expr)\n",
    "    first_order_conditions.append(sp.diff(profit_expr, outputs[firm.id-1]))\n",
    "    first_order_conditions.append(sp.diff(profit_expr, emissions[firm.id-1]))\n",
    "\n",
    "# Step 4: Solve the system of equations\n",
    "all_eqs = first_order_conditions\n",
    "all_eqs.append(sum(emissions) - cap)\n",
    "all_symbols = list(outputs)\n",
    "all_symbols.extend(list(emissions))\n",
    "all_symbols.append(pp)\n",
    "print(all_eqs)\n",
    "print(all_symbols)\n",
    "\n",
    "################################## αυτό είναι λάθος!!!! Μάθε να κάνεις scaling μωρή ανάπυρη ############################\n",
    "\n",
    "scaling_factor = 1  # Define your scaling factor here\n",
    "\n",
    "scaled_eqs = [eq * scaling_factor for eq in all_eqs]\n",
    "\n",
    "initial_guess = [(cap/n_firms) * scaling_factor] * n_firms * 2 + [Regulator5.permit_price * scaling_factor]\n"
   ]
  },
  {
   "cell_type": "code",
   "execution_count": 8,
   "metadata": {},
   "outputs": [
    {
     "name": "stdout",
     "output_type": "stream",
     "text": [
      "Solution not found. Reason: The iteration is not making good progress, as measured by the \n",
      "  improvement from the last ten iterations.\n"
     ]
    }
   ],
   "source": [
    "\n",
    "# Convert the symbolic expressions to numerical functions\n",
    "all_eqs_funcs = [sp.lambdify(all_symbols, eq, 'numpy') for eq in scaled_eqs]\n",
    "\n",
    "# Define the equations for fsolve\n",
    "def equations(vars):\n",
    "    return [func(*vars) for func in all_eqs_funcs]\n",
    "\n",
    "# Initial guess\n",
    "initial_guess = [(cap/n_firms)]*n_firms*2 + [Regulator5.permit_price]\n",
    "\n",
    "# # Convert the solutions to a dictionary\n",
    "# solution_dict = {str(symbol): solution for symbol, solution in zip(all_symbols, solutions)}\n",
    "\n",
    "# # Print the solutions\n",
    "# print(solution_dict)\n",
    "\n",
    "# Set options for fsolve in scipy\n",
    "maxfev = int(1e6)  # Maximum number of function evaluations\n",
    "xtol = 1e-6     # Tolerance for convergence\n",
    "\n",
    "# Use fsolve to solve the system of equations\n",
    "solution, info, ier, msg = fsolve(equations, initial_guess, full_output=True, maxfev=maxfev, xtol=xtol)\n",
    "\n",
    "# Check if the solver converged\n",
    "if ier == 1:\n",
    "    print(\"Solution found:\")\n",
    "    # Print the variable names and values\n",
    "    for i, val in enumerate(solution):\n",
    "        print(f'{all_symbols[i]} = {val:.4f}')\n",
    "else:\n",
    "    print(\"Solution not found. Reason:\", msg)"
   ]
  },
  {
   "cell_type": "code",
   "execution_count": 9,
   "metadata": {},
   "outputs": [
    {
     "ename": "ValueError",
     "evalue": "Could not find root within given tolerance. (1053.09740131732981026 > 2.16840434497100886801e-19)\nTry another starting point or tweak arguments.",
     "output_type": "error",
     "traceback": [
      "\u001b[1;31m---------------------------------------------------------------------------\u001b[0m",
      "\u001b[1;31mValueError\u001b[0m                                Traceback (most recent call last)",
      "Cell \u001b[1;32mIn[9], line 2\u001b[0m\n\u001b[0;32m      1\u001b[0m \u001b[38;5;66;03m#sympy solution\u001b[39;00m\n\u001b[1;32m----> 2\u001b[0m solutions \u001b[38;5;241m=\u001b[39m sp\u001b[38;5;241m.\u001b[39mnsolve(scaled_eqs, all_symbols, initial_guess)\n\u001b[0;32m      4\u001b[0m \u001b[38;5;66;03m# # Print the solutions\u001b[39;00m\n\u001b[0;32m      5\u001b[0m \u001b[38;5;66;03m# print(solutions)\u001b[39;00m\n\u001b[0;32m      6\u001b[0m \u001b[38;5;66;03m# Convert the solutions to a dictionary\u001b[39;00m\n\u001b[0;32m      7\u001b[0m solution_dict \u001b[38;5;241m=\u001b[39m {\u001b[38;5;28mstr\u001b[39m(symbol): solution \u001b[38;5;28;01mfor\u001b[39;00m symbol, solution \u001b[38;5;129;01min\u001b[39;00m \u001b[38;5;28mzip\u001b[39m(all_symbols, solutions)}\n",
      "File \u001b[1;32mc:\\Users\\Kostas\\anaconda3\\Lib\\site-packages\\sympy\\utilities\\decorator.py:87\u001b[0m, in \u001b[0;36mconserve_mpmath_dps.<locals>.func_wrapper\u001b[1;34m(*args, **kwargs)\u001b[0m\n\u001b[0;32m     85\u001b[0m dps \u001b[38;5;241m=\u001b[39m mpmath\u001b[38;5;241m.\u001b[39mmp\u001b[38;5;241m.\u001b[39mdps\n\u001b[0;32m     86\u001b[0m \u001b[38;5;28;01mtry\u001b[39;00m:\n\u001b[1;32m---> 87\u001b[0m     \u001b[38;5;28;01mreturn\u001b[39;00m func(\u001b[38;5;241m*\u001b[39margs, \u001b[38;5;241m*\u001b[39m\u001b[38;5;241m*\u001b[39mkwargs)\n\u001b[0;32m     88\u001b[0m \u001b[38;5;28;01mfinally\u001b[39;00m:\n\u001b[0;32m     89\u001b[0m     mpmath\u001b[38;5;241m.\u001b[39mmp\u001b[38;5;241m.\u001b[39mdps \u001b[38;5;241m=\u001b[39m dps\n",
      "File \u001b[1;32mc:\\Users\\Kostas\\anaconda3\\Lib\\site-packages\\sympy\\solvers\\solvers.py:3065\u001b[0m, in \u001b[0;36mnsolve\u001b[1;34m(dict, *args, **kwargs)\u001b[0m\n\u001b[0;32m   3063\u001b[0m J \u001b[38;5;241m=\u001b[39m lambdify(fargs, J, modules)\n\u001b[0;32m   3064\u001b[0m \u001b[38;5;66;03m# solve the system numerically\u001b[39;00m\n\u001b[1;32m-> 3065\u001b[0m x \u001b[38;5;241m=\u001b[39m findroot(f, x0, J\u001b[38;5;241m=\u001b[39mJ, \u001b[38;5;241m*\u001b[39m\u001b[38;5;241m*\u001b[39mkwargs)\n\u001b[0;32m   3066\u001b[0m \u001b[38;5;28;01mif\u001b[39;00m as_dict:\n\u001b[0;32m   3067\u001b[0m     \u001b[38;5;28;01mreturn\u001b[39;00m [\u001b[38;5;28mdict\u001b[39m(\u001b[38;5;28mzip\u001b[39m(fargs, [sympify(xi) \u001b[38;5;28;01mfor\u001b[39;00m xi \u001b[38;5;129;01min\u001b[39;00m x]))]\n",
      "File \u001b[1;32mc:\\Users\\Kostas\\anaconda3\\Lib\\site-packages\\mpmath\\calculus\\optimization.py:985\u001b[0m, in \u001b[0;36mfindroot\u001b[1;34m(ctx, f, x0, solver, tol, verbose, verify, **kwargs)\u001b[0m\n\u001b[0;32m    983\u001b[0m         xl \u001b[38;5;241m=\u001b[39m x\n\u001b[0;32m    984\u001b[0m     \u001b[38;5;28;01mif\u001b[39;00m verify \u001b[38;5;129;01mand\u001b[39;00m norm(f(\u001b[38;5;241m*\u001b[39mxl))\u001b[38;5;241m*\u001b[39m\u001b[38;5;241m*\u001b[39m\u001b[38;5;241m2\u001b[39m \u001b[38;5;241m>\u001b[39m tol: \u001b[38;5;66;03m# TODO: better condition?\u001b[39;00m\n\u001b[1;32m--> 985\u001b[0m         \u001b[38;5;28;01mraise\u001b[39;00m \u001b[38;5;167;01mValueError\u001b[39;00m(\u001b[38;5;124m'\u001b[39m\u001b[38;5;124mCould not find root within given tolerance. \u001b[39m\u001b[38;5;124m'\u001b[39m\n\u001b[0;32m    986\u001b[0m                          \u001b[38;5;124m'\u001b[39m\u001b[38;5;124m(\u001b[39m\u001b[38;5;132;01m%s\u001b[39;00m\u001b[38;5;124m > \u001b[39m\u001b[38;5;132;01m%s\u001b[39;00m\u001b[38;5;124m)\u001b[39m\u001b[38;5;130;01m\\n\u001b[39;00m\u001b[38;5;124m'\u001b[39m\n\u001b[0;32m    987\u001b[0m                          \u001b[38;5;124m'\u001b[39m\u001b[38;5;124mTry another starting point or tweak arguments.\u001b[39m\u001b[38;5;124m'\u001b[39m\n\u001b[0;32m    988\u001b[0m                          \u001b[38;5;241m%\u001b[39m (norm(f(\u001b[38;5;241m*\u001b[39mxl))\u001b[38;5;241m*\u001b[39m\u001b[38;5;241m*\u001b[39m\u001b[38;5;241m2\u001b[39m, tol))\n\u001b[0;32m    989\u001b[0m     \u001b[38;5;28;01mreturn\u001b[39;00m x\n\u001b[0;32m    990\u001b[0m \u001b[38;5;28;01mfinally\u001b[39;00m:\n",
      "\u001b[1;31mValueError\u001b[0m: Could not find root within given tolerance. (1053.09740131732981026 > 2.16840434497100886801e-19)\nTry another starting point or tweak arguments."
     ]
    }
   ],
   "source": [
    "#sympy solution\n",
    "solutions = sp.nsolve(scaled_eqs, all_symbols, initial_guess)\n",
    "\n",
    "# # Print the solutions\n",
    "# print(solutions)\n",
    "# Convert the solutions to a dictionary\n",
    "solution_dict = {str(symbol): solution for symbol, solution in zip(all_symbols, solutions)}\n",
    "\n",
    "# Print the solutions\n",
    "print(solution_dict)"
   ]
  }
 ],
 "metadata": {
  "kernelspec": {
   "display_name": "base",
   "language": "python",
   "name": "python3"
  },
  "language_info": {
   "codemirror_mode": {
    "name": "ipython",
    "version": 3
   },
   "file_extension": ".py",
   "mimetype": "text/x-python",
   "name": "python",
   "nbconvert_exporter": "python",
   "pygments_lexer": "ipython3",
   "version": "3.12.4"
  }
 },
 "nbformat": 4,
 "nbformat_minor": 2
}
