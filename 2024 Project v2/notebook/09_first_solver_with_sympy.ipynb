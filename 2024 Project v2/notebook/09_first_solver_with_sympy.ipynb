{
 "cells": [
  {
   "cell_type": "code",
   "execution_count": 3,
   "metadata": {},
   "outputs": [],
   "source": [
    "import sys\n",
    "import os\n",
    "sys.path.append(os.path.abspath(os.path.join('..', 'src')))\n",
    "\n",
    "from funkwpap import *\n",
    "import sympy as sp, pandas as pd, numpy as np, tqdm, time, sys, matplotlib.pyplot as plt"
   ]
  },
  {
   "cell_type": "code",
   "execution_count": 5,
   "metadata": {},
   "outputs": [
    {
     "name": "stdout",
     "output_type": "stream",
     "text": [
      "Cleaning up firm firm1\n",
      "Cleaning up firm firm2\n",
      "Cleaning up sector cement\n",
      "Cleaning up country DE\n",
      "EU regulator destroyed\n",
      "[Firm(id=5, name='firm1', sector_id=3, country_id=3, actual_output=0, emission=0, profit=0), Firm(id=6, name='firm2', sector_id=3, country_id=3, actual_output=0, emission=0, profit=0)]\n",
      "[Firm(id=5, name='firm1', sector_id=3, country_id=3, actual_output=0, emission=0, profit=0), Firm(id=6, name='firm2', sector_id=3, country_id=3, actual_output=0, emission=0, profit=0)]\n",
      "{5: Firm(id=5, name='firm1', sector_id=3, country_id=3, actual_output=0, emission=0, profit=0), 6: Firm(id=6, name='firm2', sector_id=3, country_id=3, actual_output=0, emission=0, profit=0)}\n",
      "firm1 cement DE\n",
      "firm2 cement DE\n"
     ]
    }
   ],
   "source": [
    "x, y = sp.symbols('x y')\n",
    "# Destroy Regulator and all the objectrs under it\n",
    "if 'Regulator5' in locals():\n",
    "  Regulator5.destroy_all()\n",
    "  del Regulator5\n",
    "\n",
    "# Create Sectors and Countries\n",
    "Regulator5 = Regulator('EU', permit_price= 2, emission_cap= 100)\n",
    "sector1 = Sector('cement', price_demand_function= 10-0.1*x, free_emission_multiplier= 0, regulator= Regulator5)\n",
    "country1 = Country('DE', 1, regulator= Regulator5)\n",
    "\n",
    "\n",
    "# Create Firms using objects\n",
    "firm1 = Firm('firm1', sector1, country1, x*0, 2*x**2, 0, 0, 0, regulator= Regulator5)\n",
    "firm2 = Firm('firm2', sector1, country1, x*0, x**2, 0, 0, 0, regulator= Regulator5)\n",
    "\n",
    "\n",
    "\n",
    "print(sector1.firms)  # List of firms in sector1\n",
    "print(country1.firms)  # List of firms in country1\n",
    "print(Regulator5.firm_registry)  # Dictionary of all firms\n",
    "\n",
    "for firm in Regulator5.firm_registry.values():\n",
    "    print(firm.name, firm.sector.name, firm.country.name)"
   ]
  },
  {
   "cell_type": "code",
   "execution_count": 23,
   "metadata": {},
   "outputs": [
    {
     "name": "stdout",
     "output_type": "stream",
     "text": [
      "{pp: 2.24719101123596, q1: 25.8426966292135, q2: 25.8426966292135, x1: 25.2808988764045, x2: 24.7191011235955}\n",
      "Gurobi Optimizer version 11.0.3 build v11.0.3rc0 (win64 - Windows 11.0 (22631.2))\n",
      "\n",
      "CPU model: Intel(R) Core(TM) i9-9900 CPU @ 3.10GHz, instruction set [SSE2|AVX|AVX2]\n",
      "Thread count: 8 physical cores, 16 logical processors, using up to 16 threads\n",
      "\n",
      "Optimize a model with 3 rows, 6 columns and 7 nonzeros\n",
      "Model fingerprint: 0x538ad382\n",
      "Model has 2 general constraints\n",
      "Variable types: 6 continuous, 0 integer (0 binary)\n",
      "Coefficient statistics:\n",
      "  Matrix range     [1e+00, 1e+00]\n",
      "  Objective range  [1e-01, 1e+02]\n",
      "  Bounds range     [0e+00, 0e+00]\n",
      "  RHS range        [0e+00, 0e+00]\n",
      "Found heuristic solution: objective -0.0000000\n",
      "Presolve added 31 rows and 266 columns\n",
      "Presolve time: 0.00s\n",
      "Presolved: 34 rows, 272 columns, 3857 nonzeros\n",
      "Variable types: 258 continuous, 14 integer (2 binary)\n",
      "\n",
      "Root relaxation: objective 2.263775e+04, 58 iterations, 0.00 seconds (0.00 work units)\n",
      "\n",
      "    Nodes    |    Current Node    |     Objective Bounds      |     Work\n",
      " Expl Unexpl |  Obj  Depth IntInf | Incumbent    BestBd   Gap | It/Node Time\n",
      "\n",
      "*    0     0               0    22637.749253 22637.7493  0.00%     -    0s\n",
      "\n",
      "Explored 1 nodes (58 simplex iterations) in 0.02 seconds (0.01 work units)\n",
      "Thread count was 16 (of 16 available processors)\n",
      "\n",
      "Solution count 2: 22637.7 -0 \n",
      "\n",
      "Optimal solution found (tolerance 1.00e-04)\n",
      "Best objective 2.263774925257e+04, best bound 2.263774925257e+04, gap 0.0000%\n"
     ]
    },
    {
     "data": {
      "text/plain": [
       "(484.44666502756394, 482.2092172840317, 22637.74925257104)"
      ]
     },
     "execution_count": 23,
     "metadata": {},
     "output_type": "execute_result"
    }
   ],
   "source": [
    "pp = sp.symbols('pp') # permit price\n",
    "q1, q2 = sp.symbols('q1 q2') # quantity of firm1 and firm2\n",
    "x1, x2 = sp.symbols('x1 x2') # emission of firm1 and firm2\n",
    "cap = 50\n",
    "\n",
    "profit1 = (10 - 0.1 * (q1 + q2)) * q1 - 2*(q1 - x1)**2 - pp*x1\n",
    "profit2 = (10 - 0.1 * (q1 + q2)) * q2 - (q2 - x2)**2 - pp*x2\n",
    "\n",
    "# First order conditions\n",
    "foc1 = sp.diff(profit1, q1)\n",
    "foc2 = sp.diff(profit2, q2)\n",
    "foc3 = sp.diff(profit1, x1)\n",
    "foc4 = sp.diff(profit2, x2)\n",
    "\n",
    "# Solve for q1, q2, x1, x2\n",
    "solutions = sp.solve([foc1, foc2, foc3, foc4, x1 + x2 - 50], (q1, q2, x1, x2, pp))\n",
    "\n",
    "print(solutions)\n",
    "\n",
    "# Test the equilibrium using the calculate_output method of the firm.\n",
    "Regulator5.permit_price = solutions.get(pp)\n",
    "firm1.actual_output = solutions.get(q1)\n",
    "firm2.actual_output = solutions.get(q2)\n",
    "firm1.emission = solutions.get(x1)\n",
    "firm2.emission = solutions.get(x2)\n",
    "\n",
    "firm1.calculate_output(verbose = True)\n",
    "\n"
   ]
  },
  {
   "cell_type": "code",
   "execution_count": 30,
   "metadata": {},
   "outputs": [
    {
     "name": "stdout",
     "output_type": "stream",
     "text": [
      "[(25.8656062689302, 25.8656062689302, 25.2545527907303, 24.7454472092697, 2.24031811932095), (25.2863677710915, 25.2863677710915, 25.9206770632448, 24.0793229367552, 2.41408966867256)]\n"
     ]
    }
   ],
   "source": [
    "pp = sp.symbols('pp') # permit price\n",
    "q1, q2 = sp.symbols('q1 q2') # quantity of firm1 and firm2\n",
    "x1, x2 = sp.symbols('x1 x2') # emission of firm1 and firm2\n",
    "cap = 50\n",
    "\n",
    "profit1 = (10 - 0.1 * (q1 + q2)) * q1 - 2*(q1 - x1)**3 - pp*x1\n",
    "profit2 = (10 - 0.1 * (q1 + q2)) * q2 - (q2 - x2)**2 - pp*x2\n",
    "\n",
    "# First order conditions\n",
    "foc1 = sp.diff(profit1, q1)\n",
    "foc2 = sp.diff(profit2, q2)\n",
    "foc3 = sp.diff(profit1, x1)\n",
    "foc4 = sp.diff(profit2, x2)\n",
    "\n",
    "# Solve for q1, q2, x1, x2\n",
    "solutions = sp.solve([foc1, foc2, foc3, foc4, x1 + x2 - 50], (q1, q2, x1, x2, pp))\n",
    "\n",
    "print(solutions)\n"
   ]
  },
  {
   "cell_type": "code",
   "execution_count": 46,
   "metadata": {},
   "outputs": [
    {
     "name": "stdout",
     "output_type": "stream",
     "text": [
      "Matrix([[25.8656062689302], [25.8656062689302], [25.2545527907303], [24.7454472092697], [2.24031811932095]])\n"
     ]
    }
   ],
   "source": [
    "pp = sp.symbols('pp') # permit price\n",
    "q1, q2 = sp.symbols('q1 q2') # quantity of firm1 and firm2\n",
    "x1, x2 = sp.symbols('x1 x2') # emission of firm1 and firm2\n",
    "cap = 50\n",
    "\n",
    "profit1 = (10 - 0.1 * (q1 + q2)) * q1 - 2*(q1 - x1)**3 - pp*x1\n",
    "profit2 = (10 - 0.1 * (q1 + q2)) * q2 - (q2 - x2)**2 - pp*x2\n",
    "\n",
    "# First order conditions\n",
    "foc1 = sp.diff(profit1, q1)\n",
    "foc2 = sp.diff(profit2, q2)\n",
    "foc3 = sp.diff(profit1, x1)\n",
    "foc4 = sp.diff(profit2, x2)\n",
    "\n",
    "# Solve for q1, q2, x1, x2, pp numerically\n",
    "initial_guess = (1, 1, 1, 1, 1)  # Adjust the initial guess as needed\n",
    "solutions = sp.nsolve([foc1, foc2, foc3, foc4, x1 + x2 - 50], (q1, q2, x1, x2, pp), initial_guess)\n",
    "\n",
    "print(solutions)"
   ]
  },
  {
   "cell_type": "code",
   "execution_count": 65,
   "metadata": {},
   "outputs": [
    {
     "name": "stdout",
     "output_type": "stream",
     "text": [
      "-0.2*q1 - 0.1*q2 - 300*(q1 - x1)**2 + 10\n",
      "[24.96052809 24.96052809 25.05203112 24.94796888  2.51184157]\n"
     ]
    }
   ],
   "source": [
    "import numpy as np\n",
    "from scipy.optimize import fsolve, root\n",
    "import sympy as sp\n",
    "\n",
    "# Define the symbols\n",
    "q1, q2, x1, x2, pp = sp.symbols('q1 q2 x1 x2 pp')\n",
    "\n",
    "# Define the equations symbolically\n",
    "cap = 50\n",
    "profit1 = (10 - 0.1 * (q1 + q2)) * q1 - 100*(q1 - x1)**3 - pp*x1\n",
    "profit2 = (10 - 0.1 * (q1 + q2)) * q2 - 100*(q2 - x2)**2 - pp*x2\n",
    "\n",
    "foc1 = sp.diff(profit1, q1)\n",
    "foc2 = sp.diff(profit2, q2)\n",
    "foc3 = sp.diff(profit1, x1)\n",
    "foc4 = sp.diff(profit2, x2)\n",
    "\n",
    "# Define the constraint\n",
    "constraint = x1 + x2 - cap\n",
    "\n",
    "# Convert the symbolic expressions to numerical functions\n",
    "foc1_func = sp.lambdify((q1, q2, x1, x2, pp), foc1, 'numpy')\n",
    "foc2_func = sp.lambdify((q1, q2, x1, x2, pp), foc2, 'numpy')\n",
    "foc3_func = sp.lambdify((q1, q2, x1, x2, pp), foc3, 'numpy')\n",
    "foc4_func = sp.lambdify((q1, q2, x1, x2, pp), foc4, 'numpy')\n",
    "constraint_func = sp.lambdify((q1, q2, x1, x2, pp), constraint, 'numpy')\n",
    "\n",
    "# Define the equations for fsolve\n",
    "def equations(vars):\n",
    "    q1_val, q2_val, x1_val, x2_val, pp_val = vars\n",
    "    return [\n",
    "        foc1_func(q1_val, q2_val, x1_val, x2_val, pp_val),\n",
    "        foc2_func(q1_val, q2_val, x1_val, x2_val, pp_val),\n",
    "        foc3_func(q1_val, q2_val, x1_val, x2_val, pp_val),\n",
    "        foc4_func(q1_val, q2_val, x1_val, x2_val, pp_val),\n",
    "        constraint_func(q1_val, q2_val, x1_val, x2_val, pp_val)\n",
    "    ]\n",
    "\n",
    "# Initial guess\n",
    "initial_guess = [1, 1, 1, 1, 1]\n",
    "\n",
    "print(foc1)\n",
    "\n",
    "# Solve the equations\n",
    "solutions = fsolve(equations, initial_guess)\n",
    "\n",
    "print(solutions)"
   ]
  }
 ],
 "metadata": {
  "kernelspec": {
   "display_name": "base",
   "language": "python",
   "name": "python3"
  },
  "language_info": {
   "codemirror_mode": {
    "name": "ipython",
    "version": 3
   },
   "file_extension": ".py",
   "mimetype": "text/x-python",
   "name": "python",
   "nbconvert_exporter": "python",
   "pygments_lexer": "ipython3",
   "version": "3.12.4"
  }
 },
 "nbformat": 4,
 "nbformat_minor": 2
}
