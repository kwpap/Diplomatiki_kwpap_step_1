{
 "cells": [
  {
   "cell_type": "code",
   "execution_count": 1,
   "metadata": {},
   "outputs": [],
   "source": [
    "import sys\n",
    "import os\n",
    "sys.path.append(os.path.abspath(os.path.join('..', 'src')))\n",
    "\n",
    "from funkwpap import *\n",
    "import sympy as sp, pandas as pd, numpy as np, tqdm, time, sys, matplotlib.pyplot as plt\n",
    "from scipy.optimize import fsolve\n"
   ]
  },
  {
   "cell_type": "code",
   "execution_count": 2,
   "metadata": {},
   "outputs": [
    {
     "name": "stdout",
     "output_type": "stream",
     "text": [
      "{pp: 2.40789790512882, q1: 25.3070069829039, q2: 25.3070069829039, x1: 24.7050325066217, x2: 25.2949674933783}\n"
     ]
    }
   ],
   "source": [
    "pp = sp.symbols('pp') # permit price\n",
    "q1, q2 = sp.symbols('q1 q2') # quantity of firm1 and firm2\n",
    "x1, x2 = sp.symbols('x1 x2') # emission of firm1 and firm2\n",
    "cap = 50\n",
    "\n",
    "profit1 = (10 - 0.1 * (q1 + q2)) * q1 - 2*(q1 - x1)**2 - pp*x1\n",
    "profit2 = (10 - 0.1 * (q1 + q2)) * q2 - 100*(q2 - x2)**2 - pp*x2\n",
    "\n",
    "# First order conditions\n",
    "foc1 = sp.diff(profit1, q1)\n",
    "foc2 = sp.diff(profit2, q2)\n",
    "foc3 = sp.diff(profit1, x1)\n",
    "foc4 = sp.diff(profit2, x2)\n",
    "\n",
    "# Solve for q1, q2, x1, x2\n",
    "solutions = sp.solve([foc1, foc2, foc3, foc4, x1 + x2 - 50], (q1, q2, x1, x2, pp))\n",
    "\n",
    "print(solutions)\n",
    "\n",
    "# # Test the equilibrium using the calculate_output method of the firm.\n",
    "# Regulator5.permit_price = solutions.get(pp)\n",
    "# firm1.actual_output = solutions.get(q1)\n",
    "# firm2.actual_output = solutions.get(q2)\n",
    "# firm1.emission = solutions.get(x1)\n",
    "# firm2.emission = solutions.get(x2)\n",
    "\n",
    "# firm1.calculate_output(verbose = True)\n",
    "\n"
   ]
  },
  {
   "cell_type": "code",
   "execution_count": 3,
   "metadata": {},
   "outputs": [
    {
     "name": "stdout",
     "output_type": "stream",
     "text": [
      "[(25.8656062689302, 25.8656062689302, 25.2545527907303, 24.7454472092697, 2.24031811932095), (25.2863677710915, 25.2863677710915, 25.9206770632448, 24.0793229367552, 2.41408966867256)]\n"
     ]
    }
   ],
   "source": [
    "pp = sp.symbols('pp') # permit price\n",
    "q1, q2 = sp.symbols('q1 q2') # quantity of firm1 and firm2\n",
    "x1, x2 = sp.symbols('x1 x2') # emission of firm1 and firm2\n",
    "cap = 50\n",
    "\n",
    "profit1 = (10 - 0.1 * (q1 + q2)) * q1 - 2*(q1 - x1)**3 - pp*x1\n",
    "profit2 = (10 - 0.1 * (q1 + q2)) * q2 - (q2 - x2)**2 - pp*x2\n",
    "\n",
    "# First order conditions\n",
    "foc1 = sp.diff(profit1, q1)\n",
    "foc2 = sp.diff(profit2, q2)\n",
    "foc3 = sp.diff(profit1, x1)\n",
    "foc4 = sp.diff(profit2, x2)\n",
    "\n",
    "# Solve for q1, q2, x1, x2\n",
    "solutions = sp.solve([foc1, foc2, foc3, foc4, x1 + x2 - 50], (q1, q2, x1, x2, pp))\n",
    "\n",
    "print(solutions)\n"
   ]
  },
  {
   "cell_type": "code",
   "execution_count": 4,
   "metadata": {},
   "outputs": [
    {
     "name": "stdout",
     "output_type": "stream",
     "text": [
      "Matrix([[25.8656062689302], [25.8656062689302], [25.2545527907303], [24.7454472092697], [2.24031811932095]])\n"
     ]
    }
   ],
   "source": [
    "pp = sp.symbols('pp') # permit price\n",
    "q1, q2 = sp.symbols('q1 q2') # quantity of firm1 and firm2\n",
    "x1, x2 = sp.symbols('x1 x2') # emission of firm1 and firm2\n",
    "cap = 50\n",
    "\n",
    "profit1 = (10 - 0.1 * (q1 + q2)) * q1 - 2*(q1 - x1)**3 - pp*x1\n",
    "profit2 = (10 - 0.1 * (q1 + q2)) * q2 - (q2 - x2)**2 - pp*x2\n",
    "\n",
    "# First order conditions\n",
    "foc1 = sp.diff(profit1, q1)\n",
    "foc2 = sp.diff(profit2, q2)\n",
    "foc3 = sp.diff(profit1, x1)\n",
    "foc4 = sp.diff(profit2, x2)\n",
    "\n",
    "# Solve for q1, q2, x1, x2, pp numerically\n",
    "initial_guess = (1, 1, 1, 1, 1)  # \n",
    "solutions = sp.nsolve([foc1, foc2, foc3, foc4, x1 + x2 - 50], (q1, q2, x1, x2, pp), initial_guess)\n",
    "\n",
    "print(solutions)"
   ]
  },
  {
   "cell_type": "code",
   "execution_count": 5,
   "metadata": {},
   "outputs": [
    {
     "name": "stdout",
     "output_type": "stream",
     "text": [
      "-0.2*q1 - 0.1*q2 - 300*(q1 - x1)**2 + 10\n",
      "[24.96052809 24.96052809 25.05203112 24.94796888  2.51184157]\n"
     ]
    }
   ],
   "source": [
    "import numpy as np\n",
    "from scipy.optimize import fsolve, root\n",
    "import sympy as sp\n",
    "\n",
    "# Define the symbols\n",
    "q1, q2, x1, x2, pp = sp.symbols('q1 q2 x1 x2 pp')\n",
    "\n",
    "# Define the equations symbolically\n",
    "cap = 50\n",
    "profit1 = (10 - 0.1 * (q1 + q2)) * q1 - 100*(q1 - x1)**3 - pp*x1\n",
    "profit2 = (10 - 0.1 * (q1 + q2)) * q2 - 100*(q2 - x2)**2 - pp*x2\n",
    "\n",
    "foc1 = sp.diff(profit1, q1)\n",
    "foc2 = sp.diff(profit2, q2)\n",
    "foc3 = sp.diff(profit1, x1)\n",
    "foc4 = sp.diff(profit2, x2)\n",
    "\n",
    "# Define the constraint\n",
    "constraint = x1 + x2 - cap\n",
    "\n",
    "# Convert the symbolic expressions to numerical functions\n",
    "foc1_func = sp.lambdify((q1, q2, x1, x2, pp), foc1, 'numpy')\n",
    "foc2_func = sp.lambdify((q1, q2, x1, x2, pp), foc2, 'numpy')\n",
    "foc3_func = sp.lambdify((q1, q2, x1, x2, pp), foc3, 'numpy')\n",
    "foc4_func = sp.lambdify((q1, q2, x1, x2, pp), foc4, 'numpy')\n",
    "constraint_func = sp.lambdify((q1, q2, x1, x2, pp), constraint, 'numpy')\n",
    "\n",
    "# Define the equations for fsolve\n",
    "def equations(vars):\n",
    "    q1_val, q2_val, x1_val, x2_val, pp_val = vars\n",
    "    return [\n",
    "        foc1_func(q1_val, q2_val, x1_val, x2_val, pp_val),\n",
    "        foc2_func(q1_val, q2_val, x1_val, x2_val, pp_val),\n",
    "        foc3_func(q1_val, q2_val, x1_val, x2_val, pp_val),\n",
    "        foc4_func(q1_val, q2_val, x1_val, x2_val, pp_val),\n",
    "        constraint_func(q1_val, q2_val, x1_val, x2_val, pp_val)\n",
    "    ]\n",
    "\n",
    "# Initial guess\n",
    "initial_guess = [1, 1, 1, 1, 1]\n",
    "\n",
    "print(foc1)\n",
    "\n",
    "# Solve the equations\n",
    "solutions = fsolve(equations, initial_guess)\n",
    "\n",
    "print(solutions)"
   ]
  },
  {
   "cell_type": "code",
   "execution_count": 6,
   "metadata": {},
   "outputs": [
    {
     "name": "stdout",
     "output_type": "stream",
     "text": [
      "[Firm(id=1, name='firm1', sector_id=1, country_id=1, actual_output=0, emission=0, profit=0), Firm(id=2, name='firm2', sector_id=1, country_id=1, actual_output=0, emission=0, profit=0), Firm(id=3, name='firm3', sector_id=1, country_id=1, actual_output=0, emission=0, profit=0)]\n",
      "[Firm(id=1, name='firm1', sector_id=1, country_id=1, actual_output=0, emission=0, profit=0), Firm(id=2, name='firm2', sector_id=1, country_id=1, actual_output=0, emission=0, profit=0), Firm(id=3, name='firm3', sector_id=1, country_id=1, actual_output=0, emission=0, profit=0)]\n",
      "{1: Firm(id=1, name='firm1', sector_id=1, country_id=1, actual_output=0, emission=0, profit=0), 2: Firm(id=2, name='firm2', sector_id=1, country_id=1, actual_output=0, emission=0, profit=0), 3: Firm(id=3, name='firm3', sector_id=1, country_id=1, actual_output=0, emission=0, profit=0)}\n",
      "firm1 cement DE\n",
      "firm2 cement DE\n",
      "firm3 cement DE\n"
     ]
    }
   ],
   "source": [
    "x, y = sp.symbols('x y')\n",
    "# Destroy Regulator and all the objectrs under it\n",
    "if 'Regulator5' in locals():\n",
    "  Regulator5.destroy_all()\n",
    "  del Regulator5\n",
    "\n",
    "\n",
    "# Create Sectors and Countries\n",
    "Regulator5 = Regulator('EU', permit_price= 2, emission_cap= 500)\n",
    "sector1 = Sector('cement', price_demand_function= 100-0.1*x, free_emission_multiplier= 0, regulator= Regulator5)\n",
    "country1 = Country('DE', 1, regulator= Regulator5)\n",
    "\n",
    "\n",
    "# Create Firms using objects\n",
    "firm1 = Firm('firm1', sector1, country1, x*0, 15*x + 2*x**2 + 3*x**3 + 1/(y**2), 0, 0, 0, regulator= Regulator5)\n",
    "firm2 = Firm('firm2', sector1, country1, x*0, x**2 + 1/(y**2), 0, 0, 0, regulator= Regulator5)\n",
    "firm3 = Firm('firm3', sector1, country1, x*0, 10*x + 2*x**2 + 3*x**3, 0, 0, 0, regulator= Regulator5)\n",
    "\n",
    "\n",
    "\n",
    "print(sector1.firms)  # List of firms in sector1\n",
    "print(country1.firms)  # List of firms in country1\n",
    "print(Regulator5.firm_registry)  # Dictionary of all firms\n",
    "\n",
    "for firm in Regulator5.firm_registry.values():\n",
    "    print(firm.name, firm.sector.name, firm.country.name)"
   ]
  },
  {
   "cell_type": "code",
   "execution_count": 7,
   "metadata": {},
   "outputs": [
    {
     "name": "stdout",
     "output_type": "stream",
     "text": [
      "firm1\n",
      "firm1 1\n",
      "firm2 2\n",
      "firm3 3\n",
      "Profit Expression: -pp*x1 - 0.1*q1**2 - 0.1*q1*q2 - 0.1*q1*q3 + 85*q1 + 15*x1 - 3*(q1 - x1)**3 - 2*(q1 - x1)**2 - 1/x1**2\n",
      "firm2\n",
      "firm1 1\n",
      "firm2 2\n",
      "firm3 3\n",
      "Profit Expression: (x2**2*(-pp*x2 - q2*(0.1*q1 + 0.1*q2 + 0.1*q3 - 100) - (q2 - x2)**2) - 1)/x2**2\n",
      "firm3\n",
      "firm1 1\n",
      "firm2 2\n",
      "firm3 3\n",
      "Profit Expression: -pp*x3 - q3*(0.1*q1 + 0.1*q2 + 0.1*q3 - 100) - 10*q3 + 10*x3 - 3*(q3 - x3)**3 - 2*(q3 - x3)**2\n",
      "[-4.2*q1 - 0.1*q2 - 0.1*q3 + 4*x1 - 9*(q1 - x1)**2 + 85, -pp + 4*q1 - 4*x1 + 9*(q1 - x1)**2 + 15 + 2/x1**3, -0.1*q1 - 2.2*q2 - 0.1*q3 + 2*x2 + 100, (x2**2*(-pp + 2*q2 - 2*x2) + 2*x2*(-pp*x2 - q2*(0.1*q1 + 0.1*q2 + 0.1*q3 - 100) - (q2 - x2)**2))/x2**2 - 2*(x2**2*(-pp*x2 - q2*(0.1*q1 + 0.1*q2 + 0.1*q3 - 100) - (q2 - x2)**2) - 1)/x2**3, -0.1*q1 - 0.1*q2 - 4.2*q3 + 4*x3 - 9*(q3 - x3)**2 + 90, -pp + 4*q3 - 4*x3 + 9*(q3 - x3)**2 + 10, x1 + x2 + x3 - 500]\n",
      "[q1, q2, q3, x1, x2, x3, pp]\n"
     ]
    }
   ],
   "source": [
    "import sympy as sp\n",
    "n_firms = Regulator5.firm_registry.__len__()\n",
    "outputs = sp.symbols(f'q1:{n_firms+1}')\n",
    "emissions = sp.symbols(f'x1:{n_firms+1}')\n",
    "pp = sp.symbols('pp') # permit price\n",
    "cap = Regulator5.emission_cap\n",
    "\n",
    "# Step 2: Combine functions to create the profit function for each firm\n",
    "first_order_conditions = []\n",
    "profit_functions = []\n",
    "for firm in Regulator5.firm_registry.values():\n",
    "    print(firm.name)\n",
    "    sector = firm.sector\n",
    "    sector_outputs = 0\n",
    "    for fir in sector.firms:\n",
    "        print(fir.name, fir.id)\n",
    "        sector_outputs += outputs[fir.id-1]\n",
    "\n",
    "    # Get the price demand function of the sector\n",
    "    price_demand_function = sector.price_demand_function\n",
    "    # Get the abatement cost function of the firm\n",
    "    abatement_cost_function = firm.abatement_cost_function\n",
    "    # Get the production cost function of the firm\n",
    "    production_cost_function = firm.production_cost_function\n",
    "    # Get the free emission multiplier of the firm\n",
    "    free_emission_multiplier = sector.free_emission_multiplier\n",
    "\n",
    "    #print(\"Price to demand Function: {}\".format(price_demand_function.subs(x, sum_other_outputs + out)))\n",
    "    income = (price_demand_function.subs(x, sector_outputs) - production_cost_function.subs(x, outputs[firm.id-1]))*outputs[firm.id-1]\n",
    "    abatement = -abatement_cost_function.subs({x: outputs[firm.id-1] - emissions[firm.id-1], y: emissions[firm.id-1]})\n",
    "    trading = - pp * (emissions[firm.id-1] -free_emission_multiplier * outputs[firm.id-1])\n",
    "    # if BAU: # If BAU is True, then the firm is operating at Business as Usual, meaning that there is no objective to abate emissions nor to trade a valueless item\n",
    "    #     abatement = 0\n",
    "    #     trading = 0\n",
    "        \n",
    "    profit_expr = income + abatement + trading\n",
    "    profit_expr = sp.simplify(profit_expr)\n",
    "    print(\"Profit Expression: {}\".format(profit_expr))\n",
    "    profit_functions.append(profit_expr)\n",
    "    first_order_conditions.append(sp.diff(profit_expr, outputs[firm.id-1]))\n",
    "    first_order_conditions.append(sp.diff(profit_expr, emissions[firm.id-1]))\n",
    "\n",
    "# Step 4: Solve the system of equations\n",
    "all_eqs = first_order_conditions\n",
    "all_eqs.append(sum(emissions) - cap)\n",
    "all_symbols = list(outputs)\n",
    "all_symbols.extend(list(emissions))\n",
    "all_symbols.append(pp)\n",
    "print(all_eqs)\n",
    "print(all_symbols)\n",
    "\n",
    "################################## αυτό είναι λάθος!!!! Μάθε να κάνεις scaling μωρή ανάπυρη ############################\n",
    "\n",
    "scaling_factor = 0.2  # Define your scaling factor here\n",
    "\n",
    "scaled_eqs = [eq * scaling_factor for eq in all_eqs]\n",
    "\n",
    "initial_guess = [(cap/n_firms) * scaling_factor] * n_firms * 2 + [Regulator5.permit_price * scaling_factor]\n"
   ]
  },
  {
   "cell_type": "code",
   "execution_count": 8,
   "metadata": {},
   "outputs": [
    {
     "name": "stdout",
     "output_type": "stream",
     "text": [
      "{'q1': 171.79562955340108, 'q2': 171.7956309685881, 'q3': 171.7956257161084, 'x1': 173.3811073914087, 'x2': 156.1547568289224, 'x3': 170.46413577966885, 'pp': 31.28174880457939}\n"
     ]
    }
   ],
   "source": [
    "\n",
    "# Convert the symbolic expressions to numerical functions\n",
    "all_eqs_funcs = [sp.lambdify(all_symbols, eq, 'numpy') for eq in scaled_eqs]\n",
    "\n",
    "# Define the equations for fsolve\n",
    "def equations(vars):\n",
    "    return [func(*vars) for func in all_eqs_funcs]\n",
    "\n",
    "# Initial guess\n",
    "initial_guess = [(cap/n_firms)]*n_firms*2 + [Regulator5.permit_price]\n",
    "# Solve the equations\n",
    "solutions = fsolve(equations, initial_guess)\n",
    "\n",
    "# Convert the solutions to a dictionary\n",
    "solution_dict = {str(symbol): solution for symbol, solution in zip(all_symbols, solutions)}\n",
    "\n",
    "# Print the solutions\n",
    "print(solution_dict)"
   ]
  },
  {
   "cell_type": "code",
   "execution_count": 9,
   "metadata": {},
   "outputs": [
    {
     "name": "stdout",
     "output_type": "stream",
     "text": [
      "{'q1': 172.639556774891, 'q2': 172.639557962397, 'q3': 172.639552810798, 'x1': 171.512350228578, 'x2': 157.167469237921, 'x3': 171.320180533500, 'pp': 30.9441779641115}\n"
     ]
    }
   ],
   "source": [
    "#sympy solution\n",
    "solutions = sp.nsolve(scaled_eqs, all_symbols, initial_guess)\n",
    "\n",
    "# # Print the solutions\n",
    "# print(solutions)\n",
    "# Convert the solutions to a dictionary\n",
    "solution_dict = {str(symbol): solution for symbol, solution in zip(all_symbols, solutions)}\n",
    "\n",
    "# Print the solutions\n",
    "print(solution_dict)"
   ]
  }
 ],
 "metadata": {
  "kernelspec": {
   "display_name": "base",
   "language": "python",
   "name": "python3"
  },
  "language_info": {
   "codemirror_mode": {
    "name": "ipython",
    "version": 3
   },
   "file_extension": ".py",
   "mimetype": "text/x-python",
   "name": "python",
   "nbconvert_exporter": "python",
   "pygments_lexer": "ipython3",
   "version": "3.12.4"
  }
 },
 "nbformat": 4,
 "nbformat_minor": 2
}
