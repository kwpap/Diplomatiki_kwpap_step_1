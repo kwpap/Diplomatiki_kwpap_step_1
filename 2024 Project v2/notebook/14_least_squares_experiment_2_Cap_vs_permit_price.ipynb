{
 "cells": [
  {
   "cell_type": "code",
   "execution_count": 1,
   "metadata": {},
   "outputs": [],
   "source": [
    "import sys\n",
    "import os\n",
    "sys.path.append(os.path.abspath(os.path.join('..', 'src')))\n",
    "\n",
    "from funkwpap import *\n",
    "import sympy as sp, pandas as pd, numpy as np, tqdm, time, sys, matplotlib.pyplot as plt\n",
    "from scipy.optimize import fsolve\n",
    "from random import random\n",
    "from scipy.optimize import minimize\n",
    "from gurobipy import *"
   ]
  },
  {
   "cell_type": "code",
   "execution_count": 2,
   "metadata": {},
   "outputs": [],
   "source": [
    "x = sp.symbols('x')\n",
    "cap = 2000 # total emission cap\n",
    "Regulator8 = Regulator(\"test1\", permit_price = 2.4079, emission_cap = cap)\n",
    "sector1 = Sector('cement', price_demand_function= 100 - 0.1*x, free_emission_multiplier= 0, regulator= Regulator8)\n",
    "sector2 = Sector('steel', price_demand_function=150 - 0.1*x, free_emission_multiplier= 0, regulator= Regulator8)\n",
    "sector3 = Sector('paper', price_demand_function= 200 - 0.02*x**1.5, free_emission_multiplier= 0, regulator= Regulator8)\n",
    "country1 = Country('DE', 1, regulator= Regulator8)\n",
    "country2 = Country('FI', 0.5, regulator= Regulator8)\n",
    "country3 = Country('GR', size= 0.1, regulator= Regulator8)\n",
    "\n",
    "# Create Firms using objects\n",
    "firm1 = Firm('firm1', 1, 1, x*0, 10*x+ 2*x**2 + 0.1*x**3 , 0, 0, 0, regulator= Regulator8)\n",
    "firm2 = Firm('firm2', 1, 2, x*0, 11*x+ 3*x**2 + 0.2*x**3, 0, 0, 0, regulator= Regulator8)\n",
    "firm3 = Firm('firm3', 1, 3, x*0, 5*x+ 4*x**2 + 5*x**3 , 0, 0, 0, regulator= Regulator8)\n",
    "firm4 = Firm('firm4', 2, 1, x*0, 7*x+ 5*x**2 + 3*x**3 , 0, 0, 0, regulator= Regulator8)\n",
    "firm5 = Firm('firm5', 2, 2, x*0, 1*x+ 6*x**2 + 2*x**3 , 0, 0, 0, regulator= Regulator8)\n",
    "firm6 = Firm('firm6', 2, 3, x*0, 2*x+ 7*x**2 + 3*x**3 , 0, 0, 0, regulator= Regulator8)\n",
    "firm7 = Firm('firm7', 3, 1, x*0, 3*x+ 8*x**2 + 4*x**3 , 0, 0, 0, regulator= Regulator8)\n",
    "firm8 = Firm('firm8', 3, 2, x*0, 4*x+ 9*x**2 + 10*x**3 , 0, 0, 0, regulator= Regulator8)\n",
    "firm9 = Firm('firm9', 3, 3, x*0, 5*x+ 10*x**2 + 11*x**3 , 0, 0, 0, regulator= Regulator8)\n",
    "\n"
   ]
  },
  {
   "cell_type": "code",
   "execution_count": 3,
   "metadata": {},
   "outputs": [
    {
     "name": "stdout",
     "output_type": "stream",
     "text": [
      "Set parameter Username\n",
      "Academic license - for non-commercial use only - expires 2025-08-14\n",
      "Optimal solution found\n",
      "Firm firm1 has output 0 and emission 0\n",
      "Firm firm2 has output 0 and emission 0\n",
      "Firm firm3 has output 0 and emission 0\n",
      "Firm firm4 has output 0 and emission 0\n",
      "Firm firm5 has output 0 and emission 0\n",
      "Firm firm6 has output 0 and emission 0\n",
      "Firm firm7 has output 0 and emission 0\n",
      "Firm firm8 has output 0 and emission 0\n",
      "Firm firm9 has output 0 and emission 0\n",
      "Permit price: 0.0\n"
     ]
    },
    {
     "data": {
      "text/plain": [
       "<gurobi.Model MIP instance Least Squares: 22 constrs, 51 vars, Parameter changes: Username=(user-defined), OutputFlag=0>"
      ]
     },
     "execution_count": 3,
     "metadata": {},
     "output_type": "execute_result"
    }
   ],
   "source": [
    "# Regulator8.find_optimal_permit_price_to_meet_the_emission_cap_requirements(precision=0.01)\n",
    "Regulator8.optimization_with_least_squares(gurobi_print= False, BAU = True)"
   ]
  },
  {
   "cell_type": "code",
   "execution_count": null,
   "metadata": {},
   "outputs": [
    {
     "name": "stderr",
     "output_type": "stream",
     "text": [
      "  1%|          | 1/100 [00:13<22:55, 13.89s/it]"
     ]
    },
    {
     "name": "stdout",
     "output_type": "stream",
     "text": [
      "Optimal solution found\n",
      "Firm firm1 has output 11.590294724722236 and emission 0.0\n",
      "Firm firm2 has output 7.969434183487138 and emission 0.0\n",
      "Firm firm3 has output 2.230751148812899 and emission 0.0\n",
      "Firm firm4 has output 3.1034682114644427 and emission 0.0\n",
      "Firm firm5 has output 3.6494971947133408 and emission 0.0\n",
      "Firm firm6 has output 2.9954734023246274 and emission 0.0\n",
      "Firm firm7 has output 2.852492693370358 and emission 0.0\n",
      "Firm firm8 has output 1.533895172825282 and emission 0.0\n",
      "Firm firm9 has output 1.4397552515562961 and emission 0.0\n",
      "Permit price: 96.66192252182557\n"
     ]
    }
   ],
   "source": [
    "# Let's see what happens in we change the free allocation of sector A keeping the cap at 80% of the BAU emissions\n",
    "free_allocation_sectorA = list(np.linspace(0, 1, 100))\n",
    "# Read the data from the csv file, if it exists, if not, just create a new one\n",
    "try:\n",
    "    df = pd.read_csv('../data/generated/exp04_Cap_vs_permit_price.csv')\n",
    "    free_alloc = list(df['Free Allocation'])\n",
    "    caps2 = list(df['Emission Cap'])\n",
    "    permit_prices = list(df['Permit Price'])\n",
    "    outputs = list(df['Outputs'])\n",
    "    emissions = list(df['Emissions'])\n",
    "    profits = list(df['Profits'])\n",
    "except:\n",
    "    free_alloc = []\n",
    "    caps2 = []\n",
    "    permit_prices = []\n",
    "    outputs = []\n",
    "    emissions = []\n",
    "    profits = []\n",
    "# Loop through all the emission caps and calculate the permit price\n",
    "\n",
    "# Find all the caps that are not calculated yet (meaning that they are more than 0.5 different than a value of the caps2)\n",
    "for i in free_allocation_sectorA[:]:  # Iterate over a copy of the list\n",
    "    if any(abs(i - x) < 0.001 for x in free_alloc):\n",
    "        free_allocation_sectorA.remove(i)\n",
    "\n",
    "for i in tqdm.tqdm(free_allocation_sectorA):\n",
    "    Regulator8.emission_cap = i*Regulator8.BAU_emissions\n",
    "    Regulator8.optimization_with_least_squares(gurobi_print= False)\n",
    "    caps2.append(Regulator8.emission_cap)\n",
    "    free_alloc.append(i)\n",
    "    permit_prices.append(Regulator8.permit_price)\n",
    "    outputs.append(tuple([firm.actual_output for firm in Regulator8.firm_registry.values()]))\n",
    "    emissions.append(tuple([firm.emission for firm in Regulator8.firm_registry.values()]))\n",
    "    profits.append(tuple([firm.profit for firm in Regulator8.firm_registry.values()]))\n",
    "    # save all the data in a csv file\n",
    "    df = pd.DataFrame({'Free Allocation': free_alloc, 'Emission Cap': caps2, 'Permit Price': permit_prices, 'Outputs': outputs, 'Emissions': emissions, 'Profits': profits})\n",
    "    # Save the DataFrame to the specified path\n",
    "    df.to_csv('../data/generated/exp04_Cap_vs_permit_price.csv', index=False)"
   ]
  }
 ],
 "metadata": {
  "kernelspec": {
   "display_name": "base",
   "language": "python",
   "name": "python3"
  },
  "language_info": {
   "codemirror_mode": {
    "name": "ipython",
    "version": 3
   },
   "file_extension": ".py",
   "mimetype": "text/x-python",
   "name": "python",
   "nbconvert_exporter": "python",
   "pygments_lexer": "ipython3",
   "version": "3.12.4"
  }
 },
 "nbformat": 4,
 "nbformat_minor": 2
}
