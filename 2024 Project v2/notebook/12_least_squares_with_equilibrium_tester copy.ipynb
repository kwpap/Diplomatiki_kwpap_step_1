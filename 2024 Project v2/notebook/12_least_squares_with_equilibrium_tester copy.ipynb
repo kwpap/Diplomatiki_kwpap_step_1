{
 "cells": [
  {
   "cell_type": "code",
   "execution_count": 1,
   "metadata": {},
   "outputs": [],
   "source": [
    "import sys\n",
    "import os\n",
    "sys.path.append(os.path.abspath(os.path.join('..', 'src')))\n",
    "\n",
    "from funkwpap import *\n",
    "import sympy as sp, pandas as pd, numpy as np, tqdm, time, sys, matplotlib.pyplot as plt\n",
    "from scipy.optimize import fsolve\n",
    "from random import random\n",
    "from scipy.optimize import minimize\n",
    "from gurobipy import *"
   ]
  },
  {
   "cell_type": "code",
   "execution_count": 2,
   "metadata": {},
   "outputs": [
    {
     "name": "stdout",
     "output_type": "stream",
     "text": [
      "Set parameter Username\n",
      "Academic license - for non-commercial use only - expires 2025-08-14\n",
      "Sympy Objective: 40000*(-0.00015*q7*(q7 + q8 + q9)**0.5 - 0.0001*(q7 + q8 + q9)**1.5 + 1)**2 + 40000*(-0.00015*q8*(q7 + q8 + q9)**0.5 - 0.0001*(q7 + q8 + q9)**1.5 + 1)**2 + 40000*(-0.00015*q9*(q7 + q8 + q9)**0.5 - 0.0001*(q7 + q8 + q9)**1.5 + 1)**2 + 10000*(-0.002*q1 - 0.001*q2 - 0.001*q3 + 1)**2 + 10000*(-0.001*q1 - 0.002*q2 - 0.001*q3 + 1)**2 + 10000*(-0.001*q1 - 0.001*q2 - 0.002*q3 + 1)**2 + 22500*(-0.00133333333333333*q4 - 0.000666666666666667*q5 - 0.000666666666666667*q6 + 1)**2 + 22500*(-0.000666666666666667*q4 - 0.00133333333333333*q5 - 0.000666666666666667*q6 + 1)**2 + 22500*(-0.000666666666666667*q4 - 0.000666666666666667*q5 - 0.00133333333333333*q6 + 1)**2 + (-x1 - x2 - x3 - x4 - x5 - x6 - x7 - x8 - x9 + 2000)**2\n",
      "Warning: Q constraint 0 doesn't have a name\n",
      "Gurobi Optimizer version 11.0.3 build v11.0.3rc0 (win64 - Windows 11.0 (22631.2))\n",
      "\n",
      "CPU model: Intel(R) Core(TM) i9-9900 CPU @ 3.10GHz, instruction set [SSE2|AVX|AVX2]\n",
      "Thread count: 8 physical cores, 16 logical processors, using up to 16 threads\n",
      "\n",
      "Optimize a model with 22 rows, 51 columns and 76 nonzeros\n",
      "Model fingerprint: 0xa11bf155\n",
      "Model has 3 quadratic constraints\n",
      "Model has 16 general constraints\n",
      "Variable types: 51 continuous, 0 integer (0 binary)\n",
      "Coefficient statistics:\n",
      "  Matrix range     [7e-04, 1e+00]\n",
      "  QMatrix range    [1e-04, 1e-04]\n",
      "  QLMatrix range   [1e-04, 1e+00]\n",
      "  Objective range  [1e+00, 4e+04]\n",
      "  Bounds range     [0e+00, 0e+00]\n",
      "  RHS range        [1e+00, 2e+03]\n",
      "  QRHS range       [1e+00, 1e+00]\n",
      "Presolve added 37 rows and 740 columns\n",
      "Presolve time: 0.01s\n",
      "Presolved: 71 rows, 791 columns, 2336 nonzeros\n",
      "Presolved model has 16 SOS constraint(s)\n",
      "Presolved model has 3 bilinear constraint(s)\n",
      "\n",
      "Solving non-convex MIQCP\n",
      "\n",
      "Variable types: 791 continuous, 0 integer (0 binary)\n",
      "\n",
      "Root relaxation: objective 0.000000e+00, 137 iterations, 0.00 seconds (0.00 work units)\n",
      "\n",
      "    Nodes    |    Current Node    |     Objective Bounds      |     Work\n",
      " Expl Unexpl |  Obj  Depth IntInf | Incumbent    BestBd   Gap | It/Node Time\n",
      "\n",
      "     0     0    0.00000    0    9          -    0.00000      -     -    0s\n",
      "     0     0    0.00000    0    9          -    0.00000      -     -    0s\n",
      "     0     0    0.00000    0    9          -    0.00000      -     -    0s\n",
      "     0     0    0.00000    0    9          -    0.00000      -     -    0s\n",
      "     0     0    0.00000    0    9          -    0.00000      -     -    0s\n",
      "     0     0    0.00000    0    9          -    0.00000      -     -    0s\n",
      "     0     0    0.00000    0    9          -    0.00000      -     -    0s\n",
      "     0     0    0.00000    0    9          -    0.00000      -     -    0s\n",
      "     0     0    0.00000    0    9          -    0.00000      -     -    0s\n",
      "     0     0    0.00000    0    9          -    0.00000      -     -    0s\n",
      "     0     0    0.00000    0    9          -    0.00000      -     -    0s\n",
      "     0     0    0.00000    0    7          -    0.00000      -     -    0s\n",
      "     0     0    0.00000    0    7          -    0.00000      -     -    0s\n",
      "     0     0    0.00000    0    7          -    0.00000      -     -    0s\n",
      "     0     0    0.00000    0    7          -    0.00000      -     -    0s\n",
      "     0     0    0.00000    0    7          -    0.00000      -     -    0s\n",
      "     0     0    0.00000    0    7          -    0.00000      -     -    0s\n",
      "     0     2    0.00000    0    7          -    0.00000      -     -    0s\n",
      "*  667   152              44    12042.604189    0.00000   100%   3.7    0s\n",
      "*  728   152              43    1335.4306045    0.00000   100%   3.6    0s\n",
      "*  866   156              38    1335.4302789    0.00000   100%   3.8    0s\n",
      "H  903   156                     375.4541005    0.00000   100%   3.7    0s\n",
      "H  918   156                       0.0400000    0.00000   100%   3.8    0s\n",
      "H 1138    69                       0.0000000    0.00000  0.00%   3.6    0s\n",
      "\n",
      "Cutting planes:\n",
      "  RLT: 5\n",
      "\n",
      "Explored 1213 nodes (4527 simplex iterations) in 0.17 seconds (0.08 work units)\n",
      "Thread count was 16 (of 16 available processors)\n",
      "\n",
      "Solution count 6: 0 0.04 375.454 ... 12042.6\n",
      "\n",
      "Optimal solution found (tolerance 1.00e-04)\n",
      "Warning: max constraint violation (6.9476e-02) exceeds tolerance\n",
      "Warning: max general constraint violation (6.9476e-02) exceeds tolerance\n",
      "  Piecewise linearization of function constraints often causes big violation.\n",
      "  Try to adjust the settings of the related parameters, such as FuncPieces.\n",
      "Best objective 0.000000000000e+00, best bound 0.000000000000e+00, gap 0.0000%\n",
      "Firm firm1 has output 250.0 and emission 250.0\n",
      "Firm firm2 has output 250.0 and emission 20.750868905323173\n",
      "Firm firm3 has output 250.0 and emission 250.0\n",
      "Firm firm4 has output 375.0 and emission 375.0\n",
      "Firm firm5 has output 375.0 and emission 375.0\n",
      "Firm firm6 has output 375.0 and emission 375.0\n",
      "Firm firm7 has output 118.0830070296175 and emission 118.0830070296175\n",
      "Firm firm8 has output 118.08300702961743 and emission 118.08300702961743\n",
      "Firm firm9 has output 118.08311703544187 and emission 118.08311703544187\n",
      "Permit price: 0.0\n"
     ]
    },
    {
     "data": {
      "text/plain": [
       "<gurobi.Model MIP instance Least Squares: 22 constrs, 51 vars, Parameter changes: Username=(user-defined)>"
      ]
     },
     "execution_count": 2,
     "metadata": {},
     "output_type": "execute_result"
    }
   ],
   "source": [
    "x = sp.symbols('x')\n",
    "cap = 2000 # total emission cap\n",
    "Regulator6 = Regulator(\"test1\", permit_price = 2.4079, emission_cap = cap)\n",
    "sector1 = Sector('cement', price_demand_function= 100 - 0.1*x, free_emission_multiplier= 0, regulator= Regulator6)\n",
    "sector2 = Sector('steel', price_demand_function=150 - 0.1*x, free_emission_multiplier= 0, regulator= Regulator6)\n",
    "sector3 = Sector('paper', price_demand_function= 200 - 0.02*x**1.5, free_emission_multiplier= 0, regulator= Regulator6)\n",
    "country1 = Country('DE', 1, regulator= Regulator6)\n",
    "country2 = Country('FI', 0.5, regulator= Regulator6)\n",
    "country3 = Country('GR', size= 0.1, regulator= Regulator6)\n",
    "\n",
    "# Create Firms using objects\n",
    "firm1 = Firm('firm1', 1, 1, x*0, 10*x+ 2*x**2 + 0.1*x**3 , 0, 0, 0, regulator= Regulator6)\n",
    "firm2 = Firm('firm2', 1, 2, x*0, 11*x+ 3*x**2 + 0.2*x**3, 0, 0, 0, regulator= Regulator6)\n",
    "firm3 = Firm('firm3', 1, 3, x*0, 5*x+ 4*x**2 + 5*x**3 , 0, 0, 0, regulator= Regulator6)\n",
    "firm4 = Firm('firm4', 2, 1, x*0, 7*x+ 5*x**2 + 3*x**3 , 0, 0, 0, regulator= Regulator6)\n",
    "firm5 = Firm('firm5', 2, 2, x*0, 1*x+ 6*x**2 + 2*x**3 , 0, 0, 0, regulator= Regulator6)\n",
    "firm6 = Firm('firm6', 2, 3, x*0, 2*x+ 7*x**2 + 3*x**3 , 0, 0, 0, regulator= Regulator6)\n",
    "firm7 = Firm('firm7', 3, 1, x*0, 3*x+ 8*x**2 + 4*x**3 , 0, 0, 0, regulator= Regulator6)\n",
    "firm8 = Firm('firm8', 3, 2, x*0, 4*x+ 9*x**2 + 10*x**3 , 0, 0, 0, regulator= Regulator6)\n",
    "firm9 = Firm('firm9', 3, 3, x*0, 5*x+ 10*x**2 + 11*x**3 , 0, 0, 0, regulator= Regulator6)\n",
    "\n",
    "# Regulator6.find_optimal_permit_price_to_meet_the_emission_cap_requirements(precision=0.01)\n",
    "Regulator6.optimization_with_least_squares(gurobi_output= False, BAU = True)"
   ]
  },
  {
   "cell_type": "code",
   "execution_count": 3,
   "metadata": {},
   "outputs": [
    {
     "name": "stdout",
     "output_type": "stream",
     "text": [
      "Firm       | FOC 1        | FOC 2         | SOC 1         | SOC 2        | Hessian      | Status\n",
      "-------------------------------------------------------------------------------------\n",
      "Worst      |  +3.29e+4 ⚠️ |  +3.29e+4 ⚠️ |   -4.0000 ✔️ |   -4.2000 ✔️ |   +0.8000 ✔️ | 3/5\n",
      "firm1      |  -10.0000 ⚠️ |  +10.0000 ⚠️ |   -4.0000 ✔️ |   -4.2000 ✔️ |   +0.8000 ✔️ | 3/5\n",
      "firm2      |  -3.29e+4 ⚠️ |  +3.29e+4 ⚠️ | -281.0990 ✔️ | -281.2990 ✔️ |  +56.2198 ✔️ | 3/5\n",
      "firm3      |   -5.0000 ⚠️ |   +5.0000 ⚠️ |   -8.0000 ✔️ |   -8.2000 ✔️ |   +1.6000 ✔️ | 3/5\n",
      "firm4      |   -7.0000 ⚠️ |   +7.0000 ⚠️ |  -10.0000 ✔️ |  -10.2000 ✔️ |   +2.0000 ✔️ | 3/5\n",
      "firm5      |   -1.0000 ⚠️ |   +1.0000 ⚠️ |  -12.0000 ✔️ |  -12.2000 ✔️ |   +2.4000 ✔️ | 3/5\n",
      "firm6      |   -2.0000 ⚠️ |   +2.0000 ⚠️ |  -14.0000 ✔️ |  -14.2000 ✔️ |   +2.8000 ✔️ | 3/5\n",
      "firm7      |   -3.0251 ⚠️ |   +3.0000 ⚠️ |  -16.0000 ✔️ |  -17.2234 ✔️ |  +19.5744 ✔️ | 3/5\n",
      "firm8      |   -4.0251 ⚠️ |   +4.0000 ⚠️ |  -18.0000 ✔️ |  -19.2234 ✔️ |  +22.0212 ✔️ | 3/5\n",
      "firm9      |   -5.0251 ⚠️ |   +5.0000 ⚠️ |  -20.0000 ✔️ |  -21.2234 ✔️ |  +24.4680 ✔️ | 3/5\n"
     ]
    },
    {
     "data": {
      "text/latex": [
       "$\\displaystyle \\text{False}$"
      ],
      "text/plain": [
       "False"
      ]
     },
     "execution_count": 3,
     "metadata": {},
     "output_type": "execute_result"
    },
    {
     "ename": "",
     "evalue": "",
     "output_type": "error",
     "traceback": [
      "\u001b[1;31mThe Kernel crashed while executing code in the current cell or a previous cell. \n",
      "\u001b[1;31mPlease review the code in the cell(s) to identify a possible cause of the failure. \n",
      "\u001b[1;31mClick <a href='https://aka.ms/vscodeJupyterKernelCrash'>here</a> for more info. \n",
      "\u001b[1;31mView Jupyter <a href='command:jupyter.viewOutput'>log</a> for further details."
     ]
    }
   ],
   "source": [
    "Regulator6.equilibrium_tester(precision = 0.1, full_output=True)"
   ]
  },
  {
   "cell_type": "code",
   "execution_count": 4,
   "metadata": {},
   "outputs": [
    {
     "name": "stdout",
     "output_type": "stream",
     "text": [
      "Permit price: 13.476562price = 13.5, cap = 2000, second_stage = False, a = 1.000Permit price: 13.4765625 and total emission: 1989.4881404534738 and emission cap 2000\n"
     ]
    },
    {
     "data": {
      "text/plain": [
       "13.4765625"
      ]
     },
     "execution_count": 4,
     "metadata": {},
     "output_type": "execute_result"
    }
   ],
   "source": [
    "Regulator6.find_optimal_permit_price_to_meet_the_emission_cap_requirements(precision=0.01,x_high=14, x_low=12, size_of_diffs= 10, permit_price_tolerance= 0.01)"
   ]
  },
  {
   "cell_type": "code",
   "execution_count": 7,
   "metadata": {},
   "outputs": [
    {
     "name": "stdout",
     "output_type": "stream",
     "text": [
      "Firm       | FOC 1        | FOC 2         | SOC 1         | SOC 2        | Hessian      | Status\n",
      "-------------------------------------------------------------------------------------\n",
      "Worst      |   +2.1462 ✔️ |   +0.3581 ✔️ |   -4.4756 ✔️ |   -4.6756 ✔️ |   +0.8951 ✔️ | 5/5\n",
      "firm1      |   +1.5048 ✔️ |   -0.1174 ✔️ |   -4.4756 ✔️ |   -4.6756 ✔️ |   +0.8951 ✔️ | 5/5\n",
      "firm2      |   +1.2827 ✔️ |   +0.1047 ✔️ |   -6.4958 ✔️ |   -6.6958 ✔️ |   +1.2992 ✔️ | 5/5\n",
      "firm3      |   +1.1785 ✔️ |   +0.2090 ✔️ |  -24.1895 ✔️ |  -24.3895 ✔️ |   +4.8379 ✔️ | 5/5\n",
      "firm4      |   +1.8844 ✔️ |   -0.0963 ✔️ |  -18.1574 ✔️ |  -18.3574 ✔️ |   +3.6315 ✔️ | 5/5\n",
      "firm5      |   +2.1462 ✔️ |   -0.3581 ✔️ |  -20.8529 ✔️ |  -21.0529 ✔️ |   +4.1706 ✔️ | 5/5\n",
      "firm6      |   -0.6120 ✔️ |   +0.2355 ✔️ |  -24.8522 ✔️ |  -25.0522 ✔️ |   +4.9704 ✔️ | 5/5\n",
      "firm7      |   -1.1587 ✔️ |   -0.1308 ✔️ |  -27.4335 ✔️ |  -28.6315 ✔️ |  +32.8647 ✔️ | 5/5\n",
      "firm8      |   -1.2827 ✔️ |   -0.0075 ✔️ |  -38.2136 ✔️ |  -39.4116 ✔️ |  +45.7791 ✔️ | 5/5\n",
      "firm9      |   -1.2586 ✔️ |   -0.0325 ✔️ |  -38.9181 ✔️ |  -40.1161 ✔️ |  +46.6231 ✔️ | 5/5\n"
     ]
    },
    {
     "data": {
      "text/latex": [
       "$\\displaystyle \\text{True}$"
      ],
      "text/plain": [
       "True"
      ]
     },
     "execution_count": 7,
     "metadata": {},
     "output_type": "execute_result"
    }
   ],
   "source": [
    "Regulator6.equilibrium_tester(precision = 2.15, full_output=True)"
   ]
  },
  {
   "cell_type": "code",
   "execution_count": 6,
   "metadata": {},
   "outputs": [
    {
     "name": "stdout",
     "output_type": "stream",
     "text": [
      "\u001b[1mThis is bold text\u001b[0m, and this is normal text.\n"
     ]
    }
   ],
   "source": []
  }
 ],
 "metadata": {
  "kernelspec": {
   "display_name": "base",
   "language": "python",
   "name": "python3"
  },
  "language_info": {
   "codemirror_mode": {
    "name": "ipython",
    "version": 3
   },
   "file_extension": ".py",
   "mimetype": "text/x-python",
   "name": "python",
   "nbconvert_exporter": "python",
   "pygments_lexer": "ipython3",
   "version": "3.12.4"
  }
 },
 "nbformat": 4,
 "nbformat_minor": 2
}
