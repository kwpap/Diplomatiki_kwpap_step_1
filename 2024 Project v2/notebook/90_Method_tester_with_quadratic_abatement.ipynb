{
 "cells": [
  {
   "cell_type": "code",
   "execution_count": 1,
   "metadata": {},
   "outputs": [],
   "source": [
    "import sys\n",
    "import os\n",
    "sys.path.append(os.path.abspath(os.path.join('..', 'src')))\n",
    "\n",
    "from funkwpap import *\n",
    "import sympy as sp, pandas as pd, numpy as np, tqdm, time, sys, matplotlib.pyplot as plt\n",
    "from scipy.optimize import fsolve\n",
    "from random import random\n",
    "from scipy.optimize import minimize\n",
    "from gurobipy import *"
   ]
  },
  {
   "cell_type": "code",
   "execution_count": 2,
   "metadata": {},
   "outputs": [],
   "source": [
    "x = sp.symbols('x')\n",
    "cap = 1000 # total emission cap\n",
    "regulator90 = Regulator(\"test1\", permit_price = 2.4079, emission_cap = cap)\n",
    "sector1 = Sector('cement', price_demand_function= 100 - 0.1*x, free_emission_multiplier= 0, regulator= regulator90)\n",
    "sector2 = Sector('steel', price_demand_function=150 - 0.1*x, free_emission_multiplier= 0, regulator= regulator90)\n",
    "sector3 = Sector('paper', price_demand_function= 200 - 0.2*x, free_emission_multiplier= 0, regulator= regulator90)\n",
    "sector4 = Sector('plastic', price_demand_function= 400 - 0.5*x, free_emission_multiplier= 0, regulator= regulator90)\n",
    "sector5 = Sector('glass', price_demand_function= 300 - 0.4*x, free_emission_multiplier= 0, regulator= regulator90)\n",
    "country1 = Country('DE', 1, regulator= regulator90)\n",
    "country2 = Country('FI', 0.5, regulator= regulator90)\n",
    "country3 = Country('GR', size= 0.1, regulator= regulator90)\n",
    "\n",
    "# Create Firms using objects\n",
    "firm1 = Firm('firm1', 1, 1, x*0, 10*x+ 20*x**2 , 0, 0, 0, regulator= regulator90)\n",
    "firm2 = Firm('firm2', 1, 2, x*0, 11*x+ 30*x**2, 0, 0, 0, regulator= regulator90)\n",
    "firm3 = Firm('firm3', 1, 3, x*0, 5*x+ 40*x**2, 0, 0, 0, regulator= regulator90)\n",
    "firm4 = Firm('firm4', 2, 1, x*0, 7*x+ 50*x**2, 0, 0, 0, regulator= regulator90)\n",
    "firm5 = Firm('firm5', 2, 2, x*0, 1*x+ 60*x**2, 0, 0, 0, regulator= regulator90)\n",
    "firm6 = Firm('firm6', 2, 3, x*0, 2*x+ 70*x**2, 0, 0, 0, regulator= regulator90)\n",
    "firm7 = Firm('firm7', 3, 1, x*0, 3*x+ 80*x**2, 0, 0, 0, regulator= regulator90)\n",
    "firm8 = Firm('firm8', 3, 2, x*0, 4*x+ 90*x**2, 0, 0, 0, regulator= regulator90)\n",
    "firm9 = Firm('firm9', 3, 3, x*0, 5*x+ 10*x**2, 0, 0, 0, regulator= regulator90)\n",
    "\n",
    "\n",
    "gur_output = True\n",
    "print_out = True\n",
    "Full_print_tester = False\n",
    "worst_case_print = True"
   ]
  },
  {
   "cell_type": "code",
   "execution_count": 3,
   "metadata": {},
   "outputs": [
    {
     "name": "stdout",
     "output_type": "stream",
     "text": [
      "Set parameter Username\n",
      "Academic license - for non-commercial use only - expires 2025-08-14\n",
      "Gurobi Optimizer version 11.0.3 build v11.0.3rc0 (win64 - Windows 11.0 (22631.2))\n",
      "\n",
      "CPU model: Intel(R) Core(TM) i9-9900 CPU @ 3.10GHz, instruction set [SSE2|AVX|AVX2]\n",
      "Thread count: 8 physical cores, 16 logical processors, using up to 16 threads\n",
      "\n",
      "Optimize a model with 9 rows, 19 columns and 18 nonzeros\n",
      "Model fingerprint: 0xaa41a7ba\n",
      "Model has 109 quadratic objective terms\n",
      "Coefficient statistics:\n",
      "  Matrix range     [1e+00, 1e+00]\n",
      "  Objective range  [1e+02, 7e+04]\n",
      "  QObjective range [4e+00, 3e+05]\n",
      "  Bounds range     [0e+00, 0e+00]\n",
      "  RHS range        [0e+00, 0e+00]\n",
      "Presolve time: 0.01s\n",
      "Presolved: 9 rows, 19 columns, 18 nonzeros\n",
      "Presolved model has 109 quadratic objective terms\n",
      "Ordering time: 0.00s\n",
      "\n",
      "Barrier statistics:\n",
      " Free vars  : 18\n",
      " AA' NZ     : 2.250e+02\n",
      " Factor NZ  : 3.780e+02\n",
      " Factor Ops : 6.930e+03 (less than 1 second per iteration)\n",
      " Threads    : 1\n",
      "\n",
      "                  Objective                Residual\n",
      "Iter       Primal          Dual         Primal    Dual     Compl     Time\n",
      "   0   2.46726868e+08 -2.64596468e+08  7.00e+02 6.78e+01  9.90e+05     0s\n",
      "   1   4.20295081e+08 -4.50853810e+08  7.00e-04 2.84e-14  3.04e+04     0s\n",
      "   2   5.81444702e+07 -6.93623268e+07  6.99e-10 4.26e-14  4.45e+03     0s\n",
      "   3   7.40340574e+06 -1.11093945e+07  1.35e-11 4.71e-14  6.46e+02     0s\n",
      "   4   8.12925535e+05 -1.74390664e+06  1.38e-11 2.51e-14  8.92e+01     0s\n",
      "   5   7.59084173e+04 -2.25154271e+05  1.58e-11 1.11e-14  1.05e+01     0s\n",
      "   6   4.39449733e+03 -4.09459776e+04  5.36e-10 5.06e-15  1.58e+00     0s\n",
      "   7   7.29532406e+01 -2.79057044e+03  3.31e-11 8.71e-15  9.99e-02     0s\n",
      "   8   2.81766638e-01 -3.77228308e+01  1.24e-10 1.36e-14  1.33e-03     0s\n",
      "   9   2.36835331e-06 -5.59061719e-02  2.44e-10 3.76e-15  1.95e-06     0s\n",
      "  10  -1.44550577e-05 -5.57424501e-05  3.93e-10 1.06e-14  1.95e-09     0s\n",
      "\n",
      "Barrier solved model in 10 iterations and 0.02 seconds (0.00 work units)\n",
      "Optimal objective -1.44550577e-05\n",
      "\n",
      "Optimal solution found\n",
      "Firm firm1 has output 34.83922469955679 and emission 32.9376170090753\n",
      "Firm firm2 has output 34.839217994064 and emission 33.588146194822926\n",
      "Firm firm3 has output 34.83925530771483 and emission 33.825951481619\n",
      "Firm firm4 has output 159.83922963337395 and emission 159.0485865557243\n",
      "Firm firm5 has output 159.8392299030409 and emission 159.130360672077\n",
      "Firm firm6 has output 159.839231480118 and emission 159.2387721398868\n",
      "Firm firm7 has output 142.4196153155664 and emission 141.90046339300844\n",
      "Firm firm8 has output 142.41961545609985 and emission 141.963702636099\n",
      "Firm firm9 has output 142.41961537251728 and emission 138.3663999918162\n",
      "Permit price: 86.06430750569312\n",
      "Firm       | FOC 1        | FOC 2         | SOC 1         | SOC 2        | Hessian      | Status\n",
      "-------------------------------------------------------------------------------------\n",
      "Worst      |  +1.42e-6 ✔️ |  +1.42e-6 ✔️ |  -20.0000 ✔️ |  -20.4000 ✔️ |   +8.0000 ✔️ | 5/5\n"
     ]
    },
    {
     "data": {
      "text/plain": [
       "(True, 1.41857162816450e-6)"
      ]
     },
     "execution_count": 3,
     "metadata": {},
     "output_type": "execute_result"
    }
   ],
   "source": [
    "regulator90.optimization_with_least_squares(gurobi_print= gur_output, print_output = print_out)\n",
    "regulator90.equilibrium_tester(output= worst_case_print, full_output= Full_print_tester)"
   ]
  },
  {
   "cell_type": "code",
   "execution_count": 4,
   "metadata": {},
   "outputs": [
    {
     "name": "stdout",
     "output_type": "stream",
     "text": [
      "Gurobi Optimizer version 11.0.3 build v11.0.3rc0 (win64 - Windows 11.0 (22631.2))\n",
      "\n",
      "CPU model: Intel(R) Core(TM) i9-9900 CPU @ 3.10GHz, instruction set [SSE2|AVX|AVX2]\n",
      "Thread count: 8 physical cores, 16 logical processors, using up to 16 threads\n",
      "\n",
      "Optimize a model with 27 rows, 19 columns and 81 nonzeros\n",
      "Model fingerprint: 0xb488b44c\n",
      "Model has 45 quadratic objective terms\n",
      "Coefficient statistics:\n",
      "  Matrix range     [1e-01, 2e+02]\n",
      "  Objective range  [4e-01, 2e+03]\n",
      "  QObjective range [2e+00, 4e+00]\n",
      "  Bounds range     [0e+00, 0e+00]\n",
      "  RHS range        [1e+00, 2e+02]\n",
      "Presolve time: 0.01s\n",
      "Presolved: 27 rows, 19 columns, 81 nonzeros\n",
      "Presolved model has 45 quadratic objective terms\n",
      "Ordering time: 0.00s\n",
      "\n",
      "Barrier statistics:\n",
      " Free vars  : 1\n",
      " AA' NZ     : 1.350e+02\n",
      " Factor NZ  : 2.260e+02\n",
      " Factor Ops : 2.206e+03 (less than 1 second per iteration)\n",
      " Threads    : 1\n",
      "\n",
      "                  Objective                Residual\n",
      "Iter       Primal          Dual         Primal    Dual     Compl     Time\n",
      "   0  -8.21421592e+05  1.00135000e+06  1.00e+03 1.56e+01  1.00e+06     0s\n",
      "   1  -3.76783499e+05 -3.20841316e+06  1.07e+02 3.52e+01  3.31e+05     0s\n",
      "   2  -7.29810193e+03 -6.68805156e+06  8.50e+00 2.31e+00  9.71e+03     0s\n",
      "   3   3.93574603e+04 -1.21390375e+06  1.28e-02 4.87e-02  8.85e+02     0s\n",
      "   4   5.21159793e+02 -1.13009994e+05  1.28e-08 0.00e+00  7.71e+01     0s\n",
      "   5   4.36066179e+02 -3.95792996e+02  4.40e-11 0.00e+00  5.65e-01     0s\n",
      "   6   7.12206442e+01 -6.73956683e+01  4.23e-12 5.80e-16  9.42e-02     0s\n",
      "   7   1.47230628e+00 -3.98433939e+00  1.96e-11 7.52e-16  3.71e-03     0s\n",
      "   8   3.61444836e-03 -5.70563867e-03  7.99e-11 9.69e-16  6.33e-06     0s\n",
      "   9   3.54333315e-06 -5.71412966e-06  1.86e-11 6.85e-15  6.34e-09     0s\n",
      "\n",
      "Barrier solved model in 9 iterations and 0.02 seconds (0.00 work units)\n",
      "Optimal objective 3.54333315e-06\n",
      "\n",
      "Optimal solution found\n",
      "Firm firm1 has output 34.83922887994813 and emission 32.93762119170192\n",
      "Firm firm2 has output 34.83923547957817 and emission 33.588163693281516\n",
      "Firm firm3 has output 34.83922612212663 and emission 33.82592227751074\n",
      "Firm firm4 has output 159.83923207086826 and emission 159.04858900012778\n",
      "Firm firm5 has output 159.83923207651168 and emission 159.1303628509505\n",
      "Firm firm6 has output 159.83923230118825 and emission 159.2387729648733\n",
      "Firm firm7 has output 142.41961587181956 and emission 141.9004639524326\n",
      "Firm firm8 has output 142.4196158935714 and emission 141.96370307635263\n",
      "Firm firm9 has output 142.41961635152643 and emission 138.36640099872082\n",
      "Permit price: 86.06430700468934\n",
      "Firm       | FOC 1        | FOC 2         | SOC 1         | SOC 2        | Hessian      | Status\n",
      "-------------------------------------------------------------------------------------\n",
      "Worst      |  +7.70e-7 ✔️ |  +5.65e-7 ✔️ |  -20.0000 ✔️ |  -20.4000 ✔️ |   +8.0000 ✔️ | 5/5\n"
     ]
    },
    {
     "data": {
      "text/plain": [
       "(True, 7.70351107348688e-7)"
      ]
     },
     "execution_count": 4,
     "metadata": {},
     "output_type": "execute_result"
    }
   ],
   "source": [
    "# regulator90.find_optimal_permit_price_to_meet_the_emission_cap_requirements(precision=0.01)\n",
    "regulator90.optimization_with_positive_constaints(gurobi_print= gur_output, print_output = print_out)\n",
    "regulator90.equilibrium_tester(output= worst_case_print, full_output= Full_print_tester)"
   ]
  },
  {
   "cell_type": "code",
   "execution_count": 5,
   "metadata": {},
   "outputs": [
    {
     "name": "stdout",
     "output_type": "stream",
     "text": [
      "Gurobi Optimizer version 11.0.3 build v11.0.3rc0 (win64 - Windows 11.0 (22631.2))\n",
      "\n",
      "CPU model: Intel(R) Core(TM) i9-9900 CPU @ 3.10GHz, instruction set [SSE2|AVX|AVX2]\n",
      "Thread count: 8 physical cores, 16 logical processors, using up to 16 threads\n",
      "\n",
      "Optimize a model with 19 rows, 19 columns and 45 nonzeros\n",
      "Model fingerprint: 0x85e94930\n",
      "Model has 46 quadratic objective terms\n",
      "Coefficient statistics:\n",
      "  Matrix range     [1e+00, 1e+00]\n",
      "  Objective range  [8e+01, 3e+03]\n",
      "  QObjective range [1e-01, 6e+04]\n",
      "  Bounds range     [0e+00, 0e+00]\n",
      "  RHS range        [1e+03, 1e+03]\n",
      "Presolve removed 9 rows and 0 columns\n",
      "Presolve time: 0.01s\n",
      "Presolved: 10 rows, 19 columns, 36 nonzeros\n",
      "Presolved model has 46 quadratic objective terms\n",
      "Ordering time: 0.00s\n",
      "\n",
      "Barrier statistics:\n",
      " Free vars  : 18\n",
      " AA' NZ     : 1.790e+02\n",
      " Factor NZ  : 3.160e+02\n",
      " Factor Ops : 4.654e+03 (less than 1 second per iteration)\n",
      " Threads    : 1\n",
      "\n",
      "                  Objective                Residual\n",
      "Iter       Primal          Dual         Primal    Dual     Compl     Time\n",
      "   0  -1.59901546e+07  2.17849996e+05  1.10e+03 2.18e+01  1.04e+06     0s\n",
      "   1   8.82551158e+08 -2.20922138e+09  1.10e-03 1.18e-09  1.08e+05     0s\n",
      "   2   9.65841358e+07 -2.12522590e+08  2.74e-05 2.93e-11  1.08e+04     0s\n",
      "   3   1.56593086e+07 -4.43683581e+07  2.75e-11 2.84e-14  2.09e+03     0s\n",
      "   4   2.00653495e+06 -4.42836608e+06  1.14e-12 7.11e-15  2.24e+02     0s\n",
      "   5   2.34508092e+05 -5.42646340e+05  4.55e-13 1.42e-14  2.71e+01     0s\n",
      "   6   1.40949624e+04 -5.92011811e+04  1.07e-14 3.55e-15  2.56e+00     0s\n",
      "   7   4.29167066e+02 -8.64614750e+03  1.14e-12 1.78e-15  3.17e-01     0s\n",
      "   8   1.52986992e+00 -1.37889204e+02  2.27e-13 1.78e-15  4.86e-03     0s\n",
      "   9   1.91098708e-03 -8.71176666e-01  5.66e-11 4.44e-16  3.05e-05     0s\n",
      "  10  -1.00408215e-08 -1.00894240e-03  6.15e-11 5.36e-15  3.52e-08     0s\n",
      "  11  -9.51695256e-09 -1.00891339e-06  1.93e-12 1.96e-16  3.52e-11     0s\n",
      "\n",
      "Barrier solved model in 11 iterations and 0.02 seconds (0.00 work units)\n",
      "Optimal objective -9.51695256e-09\n",
      "\n",
      "Optimal solution found\n",
      "Firm firm1 has output 34.839231809636715 and emission 32.937624123053766\n",
      "Firm firm2 has output 34.83923120952328 and emission 33.58815941846648\n",
      "Firm firm3 has output 34.83923104845181 and emission 33.82592720516081\n",
      "Firm firm4 has output 159.83923133415817 and emission 159.04858825952533\n",
      "Firm firm5 has output 159.83923133418307 and emission 159.13036210532258\n",
      "Firm firm6 has output 159.83923133421382 and emission 159.23877199519055\n",
      "Firm firm7 has output 142.41961566908222 and emission 141.90046374743687\n",
      "Firm firm8 has output 142.41961566908057 and emission 141.96370284984025\n",
      "Firm firm9 has output 142.41961566917493 and emission 138.36640029600528\n",
      "Permit price: 86.06430746310627\n",
      "Firm       | FOC 1        | FOC 2         | SOC 1         | SOC 2        | Hessian      | Status\n",
      "-------------------------------------------------------------------------------------\n",
      "Worst      |  +5.10e-8 ✔️ | +3.01e-10 ✔️ |  -20.0000 ✔️ |  -20.4000 ✔️ |   +8.0000 ✔️ | 5/5\n"
     ]
    },
    {
     "data": {
      "text/plain": [
       "(True, 5.10431164002512e-8)"
      ]
     },
     "execution_count": 5,
     "metadata": {},
     "output_type": "execute_result"
    }
   ],
   "source": [
    "regulator90.optimization_with_least_squares_ab(gurobi_print= gur_output, print_output = print_out)\n",
    "regulator90.equilibrium_tester(output= worst_case_print, full_output= Full_print_tester)"
   ]
  },
  {
   "cell_type": "code",
   "execution_count": 6,
   "metadata": {},
   "outputs": [
    {
     "name": "stdout",
     "output_type": "stream",
     "text": [
      "Gurobi Optimizer version 11.0.3 build v11.0.3rc0 (win64 - Windows 11.0 (22631.2))\n",
      "\n",
      "CPU model: Intel(R) Core(TM) i9-9900 CPU @ 3.10GHz, instruction set [SSE2|AVX|AVX2]\n",
      "Thread count: 8 physical cores, 16 logical processors, using up to 16 threads\n",
      "\n",
      "Optimize a model with 37 rows, 19 columns and 99 nonzeros\n",
      "Model fingerprint: 0x52c00a0e\n",
      "Coefficient statistics:\n",
      "  Matrix range     [1e-01, 2e+02]\n",
      "  Objective range  [4e-01, 2e+02]\n",
      "  Bounds range     [0e+00, 0e+00]\n",
      "  RHS range        [1e+00, 1e+03]\n",
      "Presolve removed 9 rows and 0 columns\n",
      "Presolve time: 0.01s\n",
      "Presolved: 28 rows, 19 columns, 90 nonzeros\n",
      "\n",
      "Iteration    Objective       Primal Inf.    Dual Inf.      Time\n",
      "       0   -1.7915936e+03   6.822314e+02   0.000000e+00      0s\n",
      "      22    0.0000000e+00   0.000000e+00   0.000000e+00      0s\n",
      "\n",
      "Solved in 22 iterations and 0.01 seconds (0.00 work units)\n",
      "Optimal objective  0.000000000e+00\n",
      "Optimal solution found\n",
      "Firm firm1 has output 34.83923134365195 and emission 32.93762365708847\n",
      "Firm firm2 has output 34.83923134365197 and emission 33.588159552609646\n",
      "Firm firm3 has output 34.83923134365197 and emission 33.82592750037023\n",
      "Firm firm4 has output 159.839231343652 and emission 159.0485882690266\n",
      "Firm firm5 has output 159.83923134365193 and emission 159.13036211479744\n",
      "Firm firm6 has output 159.83923134365202 and emission 159.2387720046339\n",
      "Firm firm7 has output 142.41961567182597 and emission 141.90046375018508\n",
      "Firm firm8 has output 142.41961567182597 and emission 141.96370285258965\n",
      "Firm firm9 has output 142.419615671826 and emission 138.36640029869903\n",
      "Permit price: 86.0643074625392\n",
      "Firm       | FOC 1        | FOC 2         | SOC 1         | SOC 2        | Hessian      | Status\n",
      "-------------------------------------------------------------------------------------\n",
      "Worst      | +3.64e-12 ✔️ | +3.64e-12 ✔️ |  -20.0000 ✔️ |  -20.4000 ✔️ |   +8.0000 ✔️ | 5/5\n"
     ]
    },
    {
     "data": {
      "text/plain": [
       "(True, 3.63797880709171e-12)"
      ]
     },
     "execution_count": 6,
     "metadata": {},
     "output_type": "execute_result"
    }
   ],
   "source": [
    "regulator90.optimization_with_positive_constraints_ab(gurobi_print= gur_output, print_output = print_out)\n",
    "regulator90.equilibrium_tester(output= worst_case_print, full_output= Full_print_tester)"
   ]
  },
  {
   "cell_type": "code",
   "execution_count": 7,
   "metadata": {},
   "outputs": [
    {
     "name": "stdout",
     "output_type": "stream",
     "text": [
      "Gurobi Optimizer version 11.0.3 build v11.0.3rc0 (win64 - Windows 11.0 (22631.2))\n",
      "\n",
      "CPU model: Intel(R) Core(TM) i9-9900 CPU @ 3.10GHz, instruction set [SSE2|AVX|AVX2]\n",
      "Thread count: 8 physical cores, 16 logical processors, using up to 16 threads\n",
      "\n",
      "Optimize a model with 37 rows, 19 columns and 99 nonzeros\n",
      "Model fingerprint: 0x79502969\n",
      "Coefficient statistics:\n",
      "  Matrix range     [1e-01, 2e+02]\n",
      "  Objective range  [2e-01, 1e+00]\n",
      "  Bounds range     [0e+00, 0e+00]\n",
      "  RHS range        [1e+00, 1e+03]\n",
      "Presolve removed 18 rows and 9 columns\n",
      "Presolve time: 0.01s\n",
      "Presolved: 19 rows, 10 columns, 64 nonzeros\n",
      "\n",
      "Iteration    Objective       Primal Inf.    Dual Inf.      Time\n",
      "       0   -3.5817971e+04   4.585507e+04   0.000000e+00      0s\n",
      "       9    0.0000000e+00   0.000000e+00   0.000000e+00      0s\n",
      "\n",
      "Solved in 9 iterations and 0.01 seconds (0.00 work units)\n",
      "Optimal objective  0.000000000e+00\n",
      "Optimal solution found\n",
      "Firm firm1 has output 165.88888888888903 and emission 165.86388888888902\n",
      "Firm firm2 has output 0.0 and emission 0.0\n",
      "Firm firm3 has output 362.05555555555543 and emission 361.98055555555544\n",
      "Firm firm4 has output 0.04 and emission 0.0\n",
      "Firm firm5 has output 0.08333333333333333 and emission 0.0\n",
      "Firm firm6 has output 0.06428571428571428 and emission 0.0\n",
      "Firm firm7 has output 0.05 and emission 0.0\n",
      "Firm firm8 has output 0.03888888888888889 and emission 0.0\n",
      "Firm firm9 has output 472.4555555555555 and emission 472.1555555555555\n",
      "Permit price: 11.0\n",
      "Firm       | FOC 1        | FOC 2         | SOC 1         | SOC 2        | Hessian      | Status\n",
      "-------------------------------------------------------------------------------------\n"
     ]
    },
    {
     "ename": "TypeError",
     "evalue": "unsupported format string passed to Zero.__format__",
     "output_type": "error",
     "traceback": [
      "\u001b[1;31m---------------------------------------------------------------------------\u001b[0m",
      "\u001b[1;31mTypeError\u001b[0m                                 Traceback (most recent call last)",
      "Cell \u001b[1;32mIn[7], line 2\u001b[0m\n\u001b[0;32m      1\u001b[0m regulator90\u001b[38;5;241m.\u001b[39moptimization_everything_constrained_and_ab(gurobi_print\u001b[38;5;241m=\u001b[39m gur_output, print_output \u001b[38;5;241m=\u001b[39m print_out)\n\u001b[1;32m----> 2\u001b[0m \u001b[43mregulator90\u001b[49m\u001b[38;5;241;43m.\u001b[39;49m\u001b[43mequilibrium_tester\u001b[49m\u001b[43m(\u001b[49m\u001b[43moutput\u001b[49m\u001b[38;5;241;43m=\u001b[39;49m\u001b[43m \u001b[49m\u001b[43mworst_case_print\u001b[49m\u001b[43m,\u001b[49m\u001b[43m \u001b[49m\u001b[43mfull_output\u001b[49m\u001b[38;5;241;43m=\u001b[39;49m\u001b[43m \u001b[49m\u001b[43mFull_print_tester\u001b[49m\u001b[43m)\u001b[49m\n",
      "File \u001b[1;32mc:\\Users\\Kostas\\Documents\\GitHub\\Diplomatiki_kwpap_step_1\\2024 Project v2\\src\\funkwpap.py:1038\u001b[0m, in \u001b[0;36mRegulator.equilibrium_tester\u001b[1;34m(self, precision, output, full_output)\u001b[0m\n\u001b[0;32m   1035\u001b[0m         conditions_ok \u001b[38;5;241m=\u001b[39m \u001b[38;5;28msum\u001b[39m([cond1_ok, cond2_ok, cond3_ok, cond4_ok, cond5_ok])\n\u001b[0;32m   1037\u001b[0m         \u001b[38;5;66;03m# Format each condition with scientific notation where necessary\u001b[39;00m\n\u001b[1;32m-> 1038\u001b[0m         \u001b[38;5;28mprint\u001b[39m(\u001b[38;5;124mf\u001b[39m\u001b[38;5;124m\"\u001b[39m\u001b[38;5;132;01m{\u001b[39;00mfirm_name\u001b[38;5;132;01m:\u001b[39;00m\u001b[38;5;124m<10\u001b[39m\u001b[38;5;132;01m}\u001b[39;00m\u001b[38;5;124m | \u001b[39m\u001b[38;5;132;01m{\u001b[39;00meq_format_number(cond1)\u001b[38;5;132;01m}\u001b[39;00m\u001b[38;5;124m \u001b[39m\u001b[38;5;132;01m{\u001b[39;00mcond1_status\u001b[38;5;132;01m}\u001b[39;00m\u001b[38;5;124m | \u001b[39m\u001b[38;5;132;01m{\u001b[39;00m\u001b[43meq_format_number\u001b[49m\u001b[43m(\u001b[49m\u001b[43mcond2\u001b[49m\u001b[43m)\u001b[49m\u001b[38;5;132;01m}\u001b[39;00m\u001b[38;5;124m \u001b[39m\u001b[38;5;132;01m{\u001b[39;00mcond2_status\u001b[38;5;132;01m}\u001b[39;00m\u001b[38;5;124m | \u001b[39m\u001b[38;5;124m\"\u001b[39m\n\u001b[0;32m   1039\u001b[0m             \u001b[38;5;124mf\u001b[39m\u001b[38;5;124m\"\u001b[39m\u001b[38;5;132;01m{\u001b[39;00meq_format_number(cond3)\u001b[38;5;132;01m}\u001b[39;00m\u001b[38;5;124m \u001b[39m\u001b[38;5;132;01m{\u001b[39;00mcond3_status\u001b[38;5;132;01m}\u001b[39;00m\u001b[38;5;124m | \u001b[39m\u001b[38;5;132;01m{\u001b[39;00meq_format_number(cond4)\u001b[38;5;132;01m}\u001b[39;00m\u001b[38;5;124m \u001b[39m\u001b[38;5;132;01m{\u001b[39;00mcond4_status\u001b[38;5;132;01m}\u001b[39;00m\u001b[38;5;124m | \u001b[39m\u001b[38;5;124m\"\u001b[39m\n\u001b[0;32m   1040\u001b[0m             \u001b[38;5;124mf\u001b[39m\u001b[38;5;124m\"\u001b[39m\u001b[38;5;132;01m{\u001b[39;00meq_format_number(cond5)\u001b[38;5;132;01m}\u001b[39;00m\u001b[38;5;124m \u001b[39m\u001b[38;5;132;01m{\u001b[39;00mcond5_status\u001b[38;5;132;01m}\u001b[39;00m\u001b[38;5;124m | \u001b[39m\u001b[38;5;132;01m{\u001b[39;00mconditions_ok\u001b[38;5;132;01m}\u001b[39;00m\u001b[38;5;124m/5\u001b[39m\u001b[38;5;124m\"\u001b[39m)\n\u001b[0;32m   1042\u001b[0m \u001b[38;5;28;01mreturn\u001b[39;00m \u001b[38;5;28mabs\u001b[39m(firms_data[\u001b[38;5;241m0\u001b[39m][\u001b[38;5;241m1\u001b[39m])\u001b[38;5;241m<\u001b[39mprecision \u001b[38;5;129;01mand\u001b[39;00m \u001b[38;5;28mabs\u001b[39m(firms_data[\u001b[38;5;241m0\u001b[39m][\u001b[38;5;241m2\u001b[39m])\u001b[38;5;241m<\u001b[39mprecision \u001b[38;5;129;01mand\u001b[39;00m firms_data[\u001b[38;5;241m0\u001b[39m][\u001b[38;5;241m3\u001b[39m]\u001b[38;5;241m<\u001b[39m\u001b[38;5;241m0\u001b[39m \u001b[38;5;129;01mand\u001b[39;00m firms_data[\u001b[38;5;241m0\u001b[39m][\u001b[38;5;241m4\u001b[39m]\u001b[38;5;241m<\u001b[39m\u001b[38;5;241m0\u001b[39m \u001b[38;5;129;01mand\u001b[39;00m firms_data[\u001b[38;5;241m0\u001b[39m][\u001b[38;5;241m5\u001b[39m]\u001b[38;5;241m>\u001b[39m\u001b[38;5;241m0\u001b[39m, worst_value\n",
      "File \u001b[1;32mc:\\Users\\Kostas\\Documents\\GitHub\\Diplomatiki_kwpap_step_1\\2024 Project v2\\src\\funkwpap.py:28\u001b[0m, in \u001b[0;36meq_format_number\u001b[1;34m(value)\u001b[0m\n\u001b[0;32m     26\u001b[0m \u001b[38;5;250m\u001b[39m\u001b[38;5;124;03m\"\"\"Format number in scientific notation if too large or small, otherwise to 4 decimals.\"\"\"\u001b[39;00m\n\u001b[0;32m     27\u001b[0m \u001b[38;5;28;01mif\u001b[39;00m \u001b[38;5;28mabs\u001b[39m(value) \u001b[38;5;241m>\u001b[39m\u001b[38;5;241m=\u001b[39m \u001b[38;5;241m10000\u001b[39m \u001b[38;5;129;01mor\u001b[39;00m \u001b[38;5;28mabs\u001b[39m(value) \u001b[38;5;241m<\u001b[39m \u001b[38;5;241m0.001\u001b[39m:\n\u001b[1;32m---> 28\u001b[0m     \u001b[38;5;28;01mreturn\u001b[39;00m \u001b[38;5;124mf\u001b[39m\u001b[38;5;124m\"\u001b[39m\u001b[38;5;132;43;01m{\u001b[39;49;00m\u001b[43mvalue\u001b[49m\u001b[38;5;132;43;01m:\u001b[39;49;00m\u001b[38;5;124;43m>+9.2e\u001b[39;49m\u001b[38;5;132;43;01m}\u001b[39;49;00m\u001b[38;5;124m\"\u001b[39m  \u001b[38;5;66;03m# Scientific notation with proper alignment\u001b[39;00m\n\u001b[0;32m     29\u001b[0m \u001b[38;5;28;01melse\u001b[39;00m:\n\u001b[0;32m     30\u001b[0m     \u001b[38;5;28;01mreturn\u001b[39;00m \u001b[38;5;124mf\u001b[39m\u001b[38;5;124m\"\u001b[39m\u001b[38;5;132;01m{\u001b[39;00mvalue\u001b[38;5;132;01m:\u001b[39;00m\u001b[38;5;124m>+9.4f\u001b[39m\u001b[38;5;132;01m}\u001b[39;00m\u001b[38;5;124m\"\u001b[39m\n",
      "File \u001b[1;32mc:\\Users\\Kostas\\anaconda3\\Lib\\site-packages\\sympy\\core\\expr.py:394\u001b[0m, in \u001b[0;36mExpr.__format__\u001b[1;34m(self, format_spec)\u001b[0m\n\u001b[0;32m    392\u001b[0m         \u001b[38;5;28;01mif\u001b[39;00m rounded\u001b[38;5;241m.\u001b[39mis_Float:\n\u001b[0;32m    393\u001b[0m             \u001b[38;5;28;01mreturn\u001b[39;00m \u001b[38;5;28mformat\u001b[39m(rounded, format_spec)\n\u001b[1;32m--> 394\u001b[0m \u001b[38;5;28;01mreturn\u001b[39;00m \u001b[38;5;28;43msuper\u001b[39;49m\u001b[43m(\u001b[49m\u001b[43m)\u001b[49m\u001b[38;5;241;43m.\u001b[39;49m\u001b[38;5;21;43m__format__\u001b[39;49m\u001b[43m(\u001b[49m\u001b[43mformat_spec\u001b[49m\u001b[43m)\u001b[49m\n",
      "\u001b[1;31mTypeError\u001b[0m: unsupported format string passed to Zero.__format__"
     ]
    }
   ],
   "source": [
    "# regulator90.optimization_everything_constrained_and_ab(gurobi_print= gur_output, print_output = print_out)\n",
    "# regulator90.equilibrium_tester(output= worst_case_print, full_output= Full_print_tester)"
   ]
  },
  {
   "cell_type": "code",
   "execution_count": 8,
   "metadata": {},
   "outputs": [
    {
     "name": "stdout",
     "output_type": "stream",
     "text": [
      "Gurobi Optimizer version 11.0.3 build v11.0.3rc0 (win64 - Windows 11.0 (22631.2))\n",
      "\n",
      "CPU model: Intel(R) Core(TM) i9-9900 CPU @ 3.10GHz, instruction set [SSE2|AVX|AVX2]\n",
      "Thread count: 8 physical cores, 16 logical processors, using up to 16 threads\n",
      "\n",
      "Optimize a model with 37 rows, 19 columns and 99 nonzeros\n",
      "Model fingerprint: 0x048b8f02\n",
      "Coefficient statistics:\n",
      "  Matrix range     [1e-01, 2e+02]\n",
      "  Objective range  [4e-01, 2e+02]\n",
      "  Bounds range     [0e+00, 0e+00]\n",
      "  RHS range        [1e+00, 1e+03]\n",
      "Presolve removed 9 rows and 0 columns\n",
      "Presolve time: 0.01s\n",
      "Presolved: 28 rows, 19 columns, 90 nonzeros\n",
      "\n",
      "Iteration    Objective       Primal Inf.    Dual Inf.      Time\n",
      "       0   -1.3020000e+03   2.350000e+03   0.000000e+00      0s\n",
      "      20    0.0000000e+00   0.000000e+00   0.000000e+00      0s\n",
      "\n",
      "Solved in 20 iterations and 0.01 seconds (0.00 work units)\n",
      "Optimal objective  0.000000000e+00\n",
      "Optimal solution found\n",
      "Firm firm1 has output 34.83923134365195 and emission 32.93762365708847\n",
      "Firm firm2 has output 34.83923134365197 and emission 33.588159552609646\n",
      "Firm firm3 has output 34.83923134365197 and emission 33.82592750037023\n",
      "Firm firm4 has output 159.839231343652 and emission 159.0485882690266\n",
      "Firm firm5 has output 159.83923134365193 and emission 159.13036211479744\n",
      "Firm firm6 has output 159.83923134365202 and emission 159.2387720046339\n",
      "Firm firm7 has output 142.41961567182597 and emission 141.90046375018508\n",
      "Firm firm8 has output 142.41961567182597 and emission 141.96370285258965\n",
      "Firm firm9 has output 142.419615671826 and emission 138.36640029869903\n",
      "Permit price: 86.0643074625392\n",
      "Firm       | FOC 1        | FOC 2         | SOC 1         | SOC 2        | Hessian      | Status\n",
      "-------------------------------------------------------------------------------------\n",
      "Worst      | +3.64e-12 ✔️ | +3.64e-12 ✔️ |  -20.0000 ✔️ |  -20.4000 ✔️ |   +8.0000 ✔️ | 5/5\n"
     ]
    },
    {
     "data": {
      "text/plain": [
       "(True, 3.63797880709171e-12)"
      ]
     },
     "execution_count": 8,
     "metadata": {},
     "output_type": "execute_result"
    }
   ],
   "source": [
    "m = regulator90.optimization_concave_formulation_ab(gurobi_print= True, print_output = True)\n",
    "regulator90.equilibrium_tester(output= worst_case_print, full_output= Full_print_tester)"
   ]
  },
  {
   "cell_type": "code",
   "execution_count": 5,
   "metadata": {},
   "outputs": [
    {
     "name": "stdout",
     "output_type": "stream",
     "text": [
      "Minimize\n",
      "-1302.0 + 0.4 qq1 + 4.0 ab1 + 0.4 qq2 + 6.0 ab2 + 0.4 qq3 + 8.0 ab3 + 0.4 qq4\n",
      "+ 10.0 ab4 + 0.4 qq5 + 12.0 ab5 + 0.4 qq6 + 14.0 ab6 + 0.8 qq7 + 16.0 ab7 + 0.8 qq8\n",
      "+ 18.0 ab8 + 0.8 qq9 + 20.0 ab9 + [ 0.30000000000000004 ab1 ^ 2\n",
      "+ 0.6000000000000001 ab2 ^ 2 + 15.0 ab3 ^ 2 + 9.0 ab4 ^ 2 + 6.0 ab5 ^ 2 + 9.0 ab6 ^ 2\n",
      "+ 12.0 ab7 ^ 2 + 30.0 ab8 ^ 2 + 33.0 ab9 ^ 2 ]\n",
      "Subject To\n",
      "  R0: qq1 + -1.0 ab1 >= 0\n",
      "  R1: ab1 >= 0\n",
      "  R2: qq2 + -1.0 ab2 >= 0\n",
      "  R3: ab2 >= 0\n",
      "  R4: qq3 + -1.0 ab3 >= 0\n",
      "  R5: ab3 >= 0\n",
      "  R6: qq4 + -1.0 ab4 >= 0\n",
      "  R7: ab4 >= 0\n",
      "  R8: qq5 + -1.0 ab5 >= 0\n",
      "  R9: ab5 >= 0\n",
      "  R10: qq6 + -1.0 ab6 >= 0\n",
      "  R11: ab6 >= 0\n",
      "  R12: qq7 + -1.0 ab7 >= 0\n",
      "  R13: ab7 >= 0\n",
      "  R14: qq8 + -1.0 ab8 >= 0\n",
      "  R15: ab8 >= 0\n",
      "  R16: qq9 + -1.0 ab9 >= 0\n",
      "  R17: ab9 >= 0\n",
      "  R18: -0.2 qq1 + -0.1 qq2 + -0.1 qq3 + -1.0 ppp <= -100\n",
      "  R19: -0.1 qq1 + -0.2 qq2 + -0.1 qq3 + -1.0 ppp <= -100\n",
      "  R20: -0.1 qq1 + -0.1 qq2 + -0.2 qq3 + -1.0 ppp <= -100\n",
      "  R21: -0.2 qq4 + -0.1 qq5 + -0.1 qq6 + -1.0 ppp <= -150\n",
      "  R22: -0.1 qq4 + -0.2 qq5 + -0.1 qq6 + -1.0 ppp <= -150\n",
      "  R23: -0.1 qq4 + -0.1 qq5 + -0.2 qq6 + -1.0 ppp <= -150\n",
      "  R24: -0.4 qq7 + -0.2 qq8 + -0.2 qq9 + -1.0 ppp <= -200\n",
      "  R25: -0.2 qq7 + -0.4 qq8 + -0.2 qq9 + -1.0 ppp <= -200\n",
      "  R26: -0.2 qq7 + -0.2 qq8 + -0.4 qq9 + -1.0 ppp <= -200\n",
      "R27: qq1 + -1.0 ab1 + qq2 + -1.0 ab2 + qq3 + -1.0 ab3 + qq4 + -1.0 ab4 + qq5 + -1.0 ab5\n",
      " + qq6 + -1.0 ab6 + qq7 + -1.0 ab7 + qq8 + -1.0 ab8 + qq9 + -1.0 ab9 = 1000\n",
      "  : -4.0 ab1 + ppp + [ -0.30000000000000004 ab1 ^ 2 ] <= 10\n",
      "  : -6.0 ab2 + ppp + [ -0.6000000000000001 ab2 ^ 2 ] <= 11\n",
      "  : -8.0 ab3 + ppp + [ -15.0 ab3 ^ 2 ] <= 5\n",
      "  : -10.0 ab4 + ppp + [ -9.0 ab4 ^ 2 ] <= 7\n",
      "  : -12.0 ab5 + ppp + [ -6.0 ab5 ^ 2 ] <= 1\n",
      "  : -14.0 ab6 + ppp + [ -9.0 ab6 ^ 2 ] <= 2\n",
      "  : -16.0 ab7 + ppp + [ -12.0 ab7 ^ 2 ] <= 3\n",
      "  : -18.0 ab8 + ppp + [ -30.0 ab8 ^ 2 ] <= 4\n",
      "  : -20.0 ab9 + ppp + [ -33.0 ab9 ^ 2 ] <= 5\n"
     ]
    },
    {
     "name": "stderr",
     "output_type": "stream",
     "text": [
      "C:\\Users\\Kostas\\AppData\\Local\\Temp\\ipykernel_373284\\3781604932.py:1: DeprecationWarning: Model.display() is deprecated\n",
      "  m.display()\n"
     ]
    }
   ],
   "source": [
    "m.display()\n",
    "# model.printAttr('ConstrName')\n",
    "# model.printAttr('QCPConstrName')"
   ]
  },
  {
   "cell_type": "code",
   "execution_count": 9,
   "metadata": {},
   "outputs": [
    {
     "name": "stdout",
     "output_type": "stream",
     "text": [
      "Max diff: 0.00, permit price = 86.1, cap = 1000, second_stage = False, a = 1.00000Permit price: 86.06683349609375 and total emission: 999.9496251951132 and emission cap 1000\n",
      "firm1 34.832218658517945 32.9305478211162\n",
      "firm2 34.83149037092751 33.58037647932582\n",
      "firm3 34.833978005384715 33.82064258668317\n",
      "firm4 159.8322186582613 159.04155032316413\n",
      "firm5 159.83149037068884 159.12260009141892\n",
      "firm6 159.83397800509007 159.23350062285147\n",
      "firm7 142.41610932920437 141.89694161555695\n",
      "firm8 142.41574518608087 141.95981832767453\n",
      "firm9 142.41698900214985 138.36364732732216\n",
      "Firm       | FOC 1        | FOC 2         | SOC 1         | SOC 2        | Hessian      | Status\n",
      "-------------------------------------------------------------------------------------\n",
      "Worst      |  +2.49e-4 ✔️ |  +1.02e-6 ✔️ |  -20.0000 ✔️ |  -20.4000 ✔️ |   +8.0000 ✔️ | 5/5\n"
     ]
    },
    {
     "data": {
      "text/plain": [
       "(True, 0.000248763322588275)"
      ]
     },
     "execution_count": 9,
     "metadata": {},
     "output_type": "execute_result"
    }
   ],
   "source": [
    "regulator90.find_optimal_permit_price_to_meet_the_emission_cap_requirements(precision=0.01,x_high=1000, x_low=12, size_of_diffs= 10, permit_price_tolerance= 0.01)\n",
    "for firm in regulator90.firm_registry.values():\n",
    "    print(firm.name, firm.actual_output, firm.emission)\n",
    "regulator90.equilibrium_tester(output= worst_case_print, full_output= Full_print_tester)"
   ]
  }
 ],
 "metadata": {
  "kernelspec": {
   "display_name": "base",
   "language": "python",
   "name": "python3"
  },
  "language_info": {
   "codemirror_mode": {
    "name": "ipython",
    "version": 3
   },
   "file_extension": ".py",
   "mimetype": "text/x-python",
   "name": "python",
   "nbconvert_exporter": "python",
   "pygments_lexer": "ipython3",
   "version": "3.12.4"
  }
 },
 "nbformat": 4,
 "nbformat_minor": 2
}
