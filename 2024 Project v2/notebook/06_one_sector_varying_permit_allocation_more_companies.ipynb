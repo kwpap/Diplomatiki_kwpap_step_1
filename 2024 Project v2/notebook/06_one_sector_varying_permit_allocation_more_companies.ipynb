{
 "cells": [
  {
   "cell_type": "markdown",
   "metadata": {},
   "source": [
    "Σε αυτό το πείραμα πειράζω τις δωρεάν άδειες ενός κλάδου και βλέπω τις αλλαγές στην τιμή της άδειας στο σ΄συστημα καθώς και τις μεταβολής των κερδών του κλάδου αυτόυ."
   ]
  },
  {
   "cell_type": "code",
   "execution_count": 1,
   "metadata": {},
   "outputs": [],
   "source": [
    "import sys\n",
    "import os\n",
    "sys.path.append(os.path.abspath(os.path.join('..', 'src')))\n",
    "\n",
    "from funkwpap import sympy_to_gurobi, Firm, Country, Sector, Regulator, get_emission\n",
    "import sympy as sp, pandas as pd, numpy as np, tqdm, time, sys\n",
    "from gurobipy import Model, LinExpr, QuadExpr, GRB\n",
    "x = sp.symbols('x')\n",
    "y = sp.symbols('y')"
   ]
  },
  {
   "cell_type": "code",
   "execution_count": 2,
   "metadata": {},
   "outputs": [
    {
     "name": "stdout",
     "output_type": "stream",
     "text": [
      "[Firm(id=1, name='firm1', sector_id=1, country_id=1, actual_output=0, emission=0, profit=0), Firm(id=2, name='firm2', sector_id=1, country_id=2, actual_output=0, emission=0, profit=0), Firm(id=3, name='firm3', sector_id=1, country_id=3, actual_output=0, emission=0, profit=0), Firm(id=16, name='firm16', sector_id=1, country_id=1, actual_output=0, emission=0, profit=0), Firm(id=17, name='firm17', sector_id=1, country_id=2, actual_output=0, emission=0, profit=0), Firm(id=18, name='firm18', sector_id=1, country_id=3, actual_output=0, emission=0, profit=0), Firm(id=19, name='firm19', sector_id=1, country_id=1, actual_output=0, emission=0, profit=0)]\n",
      "[Firm(id=1, name='firm1', sector_id=1, country_id=1, actual_output=0, emission=0, profit=0), Firm(id=4, name='firm4', sector_id=2, country_id=1, actual_output=0, emission=0, profit=0), Firm(id=7, name='firm7', sector_id=3, country_id=1, actual_output=0, emission=0, profit=0), Firm(id=10, name='firm10', sector_id=4, country_id=1, actual_output=0, emission=0, profit=0), Firm(id=13, name='firm13', sector_id=5, country_id=1, actual_output=0, emission=0, profit=0), Firm(id=16, name='firm16', sector_id=1, country_id=1, actual_output=0, emission=0, profit=0), Firm(id=19, name='firm19', sector_id=1, country_id=1, actual_output=0, emission=0, profit=0), Firm(id=22, name='firm22', sector_id=2, country_id=1, actual_output=0, emission=0, profit=0), Firm(id=25, name='firm25', sector_id=3, country_id=1, actual_output=0, emission=0, profit=0), Firm(id=28, name='firm28', sector_id=4, country_id=1, actual_output=0, emission=0, profit=0)]\n",
      "{1: Firm(id=1, name='firm1', sector_id=1, country_id=1, actual_output=0, emission=0, profit=0), 2: Firm(id=2, name='firm2', sector_id=1, country_id=2, actual_output=0, emission=0, profit=0), 3: Firm(id=3, name='firm3', sector_id=1, country_id=3, actual_output=0, emission=0, profit=0), 4: Firm(id=4, name='firm4', sector_id=2, country_id=1, actual_output=0, emission=0, profit=0), 5: Firm(id=5, name='firm5', sector_id=2, country_id=2, actual_output=0, emission=0, profit=0), 6: Firm(id=6, name='firm6', sector_id=2, country_id=3, actual_output=0, emission=0, profit=0), 7: Firm(id=7, name='firm7', sector_id=3, country_id=1, actual_output=0, emission=0, profit=0), 8: Firm(id=8, name='firm8', sector_id=3, country_id=2, actual_output=0, emission=0, profit=0), 9: Firm(id=9, name='firm9', sector_id=3, country_id=3, actual_output=0, emission=0, profit=0), 10: Firm(id=10, name='firm10', sector_id=4, country_id=1, actual_output=0, emission=0, profit=0), 11: Firm(id=11, name='firm11', sector_id=4, country_id=2, actual_output=0, emission=0, profit=0), 12: Firm(id=12, name='firm12', sector_id=4, country_id=3, actual_output=0, emission=0, profit=0), 13: Firm(id=13, name='firm13', sector_id=5, country_id=1, actual_output=0, emission=0, profit=0), 14: Firm(id=14, name='firm14', sector_id=5, country_id=2, actual_output=0, emission=0, profit=0), 15: Firm(id=15, name='firm15', sector_id=5, country_id=3, actual_output=0, emission=0, profit=0), 16: Firm(id=16, name='firm16', sector_id=1, country_id=1, actual_output=0, emission=0, profit=0), 17: Firm(id=17, name='firm17', sector_id=1, country_id=2, actual_output=0, emission=0, profit=0), 18: Firm(id=18, name='firm18', sector_id=1, country_id=3, actual_output=0, emission=0, profit=0), 19: Firm(id=19, name='firm19', sector_id=1, country_id=1, actual_output=0, emission=0, profit=0), 20: Firm(id=20, name='firm20', sector_id=2, country_id=2, actual_output=0, emission=0, profit=0), 21: Firm(id=21, name='firm21', sector_id=2, country_id=3, actual_output=0, emission=0, profit=0), 22: Firm(id=22, name='firm22', sector_id=2, country_id=1, actual_output=0, emission=0, profit=0), 23: Firm(id=23, name='firm23', sector_id=2, country_id=2, actual_output=0, emission=0, profit=0), 24: Firm(id=24, name='firm24', sector_id=3, country_id=3, actual_output=0, emission=0, profit=0), 25: Firm(id=25, name='firm25', sector_id=3, country_id=1, actual_output=0, emission=0, profit=0), 26: Firm(id=26, name='firm26', sector_id=3, country_id=2, actual_output=0, emission=0, profit=0), 27: Firm(id=27, name='firm27', sector_id=3, country_id=3, actual_output=0, emission=0, profit=0), 28: Firm(id=28, name='firm28', sector_id=4, country_id=1, actual_output=0, emission=0, profit=0), 29: Firm(id=29, name='firm29', sector_id=4, country_id=2, actual_output=0, emission=0, profit=0), 30: Firm(id=30, name='firm30', sector_id=4, country_id=3, actual_output=0, emission=0, profit=0)}\n",
      "firm1 cement DE\n",
      "firm2 cement FI\n",
      "firm3 cement GR\n",
      "firm4 steel DE\n",
      "firm5 steel FI\n",
      "firm6 steel GR\n",
      "firm7 paper DE\n",
      "firm8 paper FI\n",
      "firm9 paper GR\n",
      "firm10 plastic DE\n",
      "firm11 plastic FI\n",
      "firm12 plastic GR\n",
      "firm13 glass DE\n",
      "firm14 glass FI\n",
      "firm15 glass GR\n",
      "firm16 cement DE\n",
      "firm17 cement FI\n",
      "firm18 cement GR\n",
      "firm19 cement DE\n",
      "firm20 steel FI\n",
      "firm21 steel GR\n",
      "firm22 steel DE\n",
      "firm23 steel FI\n",
      "firm24 paper GR\n",
      "firm25 paper DE\n",
      "firm26 paper FI\n",
      "firm27 paper GR\n",
      "firm28 plastic DE\n",
      "firm29 plastic FI\n",
      "firm30 plastic GR\n"
     ]
    }
   ],
   "source": [
    "\n",
    "# Create Sectors and Countries\n",
    "Regulator2 = Regulator('EU', permit_price= 2, emission_cap= 100)\n",
    "sector1 = Sector('cement', price_demand_function= 100 - 0.1*x, free_emission_multiplier= 0, regulator= Regulator2)\n",
    "sector2 = Sector('steel', price_demand_function=150 - 0.1*x, free_emission_multiplier= 0, regulator= Regulator2)\n",
    "sector3 = Sector('paper', price_demand_function= 200 - 0.02*x**1.5, free_emission_multiplier= 0, regulator= Regulator2)\n",
    "sector4 = Sector('plastic', price_demand_function= 400 - 0.5*x, free_emission_multiplier= 0, regulator= Regulator2)\n",
    "sector5 = Sector('glass', price_demand_function= 300 - 0.4*x, free_emission_multiplier= 0, regulator= Regulator2)\n",
    "country1 = Country('DE', 1, regulator= Regulator2)\n",
    "country2 = Country('FI', 0.5, regulator= Regulator2)\n",
    "country3 = Country('GR', size= 0.1, regulator= Regulator2)\n",
    "\n",
    "# Create Firms using objects\n",
    "firm1 = Firm('firm1', 1, 1, x*0, 0.1*x**3 + 100/y**2, 0, 0, 0, regulator= Regulator2)\n",
    "firm2 = Firm('firm2', 1, 2, x*0, 5*x**3.2 + 40/y**2, 0, 0, 0, regulator= Regulator2)\n",
    "firm3 = Firm('firm3', 1, 3, x*0, x**5.2 + 30/y**2, 0, 0, 0, regulator= Regulator2)\n",
    "firm4 = Firm('firm4', 2, 1, x*0, x**3.3 + 20/y**2, 0, 0, 0, regulator= Regulator2)\n",
    "firm5 = Firm('firm5', 2, 2, x*0, x**2.3 + 20/y**2, 0, 0, 0, regulator= Regulator2)\n",
    "firm6 = Firm('firm6', 2, 3, x*0, x**3.2 + 15/y**2, 0, 0, 0, regulator= Regulator2)\n",
    "firm7 = Firm('firm7', 3, 1, x*0, x**4.1 + 40/y**2, 0, 0, 0, regulator= Regulator2)\n",
    "firm8 = Firm('firm8', 3, 2, x*0, x**5.1 + 50/y**2, 0, 0, 0, regulator= Regulator2)\n",
    "firm9 = Firm('firm9', 3, 3, x*0, x**5 + 60/y**2, 0, 0, 0, regulator= Regulator2)\n",
    "firm10 = Firm('firm10', 4, 1, x*0, x**4.2 + 70/y**2, 0, 0, 0, regulator= Regulator2)\n",
    "firm11 = Firm('firm11', 4, 2, x*0, x**3.1 + 80/y**2, 0, 0, 0, regulator= Regulator2)\n",
    "firm12 = Firm('firm12', 4, 3, x*0, x**2.1 + 90/y**2, 0, 0, 0, regulator= Regulator2)\n",
    "firm13 = Firm('firm13', 5, 1, x*0, x**2.1 + 100/y**2, 0, 0, 0, regulator= Regulator2)\n",
    "firm14 = Firm('firm14', 5, 2, x*0, x**3.1 + 110/y**2, 0, 0, 0, regulator= Regulator2)\n",
    "firm15 = Firm('firm15', 5, 3, x*0, x**2.1 + 120/y**2, 0, 0, 0, regulator= Regulator2)\n",
    "firm16 = Firm('firm16', 1, 1, x*0, x**3.1 + 130/y**2, 0, 0, 0, regulator= Regulator2)\n",
    "firm17 = Firm('firm17', 1, 2, x*0, x**4.1 + 140/y**2, 0, 0, 0, regulator= Regulator2)\n",
    "firm18 = Firm('firm18', 1, 3, x*0, x**5.1 + 150/y**2, 0, 0, 0, regulator= Regulator2)\n",
    "firm19 = Firm('firm19', 1, 1, x*0, x**5.1 + 160/y**2, 0, 0, 0, regulator= Regulator2)\n",
    "firm20 = Firm('firm20', 2, 2, x*0, x**4.1 + 170/y**2, 0, 0, 0, regulator= Regulator2)\n",
    "firm21 = Firm('firm21', 2, 3, x*0, x**3.1 + 180/y**2, 0, 0, 0, regulator= Regulator2)\n",
    "firm22 = Firm('firm22', 2, 1, x*0, x**2.1 + 190/y**2, 0, 0, 0, regulator= Regulator2)\n",
    "firm23 = Firm('firm23', 2, 2, x*0, x**3.1 + 200/y**2, 0, 0, 0, regulator= Regulator2)\n",
    "firm24 = Firm('firm24', 3, 3, x*0, x**4.1 + 210/y**2, 0, 0, 0, regulator= Regulator2)\n",
    "firm25 = Firm('firm25', 3, 1, x*0, x**5.1 + 220/y**2, 0, 0, 0, regulator= Regulator2)\n",
    "firm26 = Firm('firm26', 3, 2, x*0, x**4.1 + 230/y**2, 0, 0, 0, regulator= Regulator2)\n",
    "firm27 = Firm('firm27', 3, 3, x*0, x**3.1 + 240/y**2, 0, 0, 0, regulator= Regulator2)\n",
    "firm28 = Firm('firm28', 4, 1, x*0, x**2.1 + 250/y**2, 0, 0, 0, regulator= Regulator2)\n",
    "firm29 = Firm('firm29', 4, 2, x*0, x**3.1 + 260/y**2, 0, 0, 0, regulator= Regulator2)\n",
    "firm30 = Firm('firm30', 4, 3, x*0, x**4.1 + 270/y**2, 0, 0, 0, regulator= Regulator2)\n",
    "\n",
    "\n",
    "\n",
    "\n",
    "print(sector1.firms)  # List of firms in sector1\n",
    "print(country1.firms)  # List of firms in country1\n",
    "print(Regulator2.firm_registry)  # Dictionary of all firms\n",
    "\n",
    "for firm in Regulator2.firm_registry.values():\n",
    "    print(firm.name, firm.sector.name, firm.country.name)\n"
   ]
  },
  {
   "cell_type": "code",
   "execution_count": 3,
   "metadata": {},
   "outputs": [],
   "source": [
    "# Regulator2.optimize_them_all(precision = 0.1, print_diff = True, BAU = True)"
   ]
  },
  {
   "cell_type": "code",
   "execution_count": 4,
   "metadata": {},
   "outputs": [
    {
     "name": "stdout",
     "output_type": "stream",
     "text": [
      "firm1 cement DE 0 0 0\n",
      "firm2 cement FI 0 0 0\n",
      "firm3 cement GR 0 0 0\n",
      "firm4 steel DE 0 0 0\n",
      "firm5 steel FI 0 0 0\n",
      "firm6 steel GR 0 0 0\n",
      "firm7 paper DE 0 0 0\n",
      "firm8 paper FI 0 0 0\n",
      "firm9 paper GR 0 0 0\n",
      "firm10 plastic DE 0 0 0\n",
      "firm11 plastic FI 0 0 0\n",
      "firm12 plastic GR 0 0 0\n",
      "firm13 glass DE 0 0 0\n",
      "firm14 glass FI 0 0 0\n",
      "firm15 glass GR 0 0 0\n",
      "firm16 cement DE 0 0 0\n",
      "firm17 cement FI 0 0 0\n",
      "firm18 cement GR 0 0 0\n",
      "firm19 cement DE 0 0 0\n",
      "firm20 steel FI 0 0 0\n",
      "firm21 steel GR 0 0 0\n",
      "firm22 steel DE 0 0 0\n",
      "firm23 steel FI 0 0 0\n",
      "firm24 paper GR 0 0 0\n",
      "firm25 paper DE 0 0 0\n",
      "firm26 paper FI 0 0 0\n",
      "firm27 paper GR 0 0 0\n",
      "firm28 plastic DE 0 0 0\n",
      "firm29 plastic FI 0 0 0\n",
      "firm30 plastic GR 0 0 0\n"
     ]
    }
   ],
   "source": [
    "for firm in Regulator2.firm_registry.values():\n",
    "    print(firm.name, firm.sector.name, firm.country.name, firm.actual_output, firm.emission, firm.profit)"
   ]
  },
  {
   "cell_type": "code",
   "execution_count": 5,
   "metadata": {},
   "outputs": [
    {
     "name": "stdout",
     "output_type": "stream",
     "text": [
      "Set parameter Username\n",
      "Academic license - for non-commercial use only - expires 2025-08-14\n",
      "Max diff: 0.00, permit price = 2.0, cap = 100, second_stage = False, a = 0.9000"
     ]
    }
   ],
   "source": [
    "Regulator2.BAU_calculator(print_diff = True)"
   ]
  },
  {
   "cell_type": "code",
   "execution_count": 6,
   "metadata": {},
   "outputs": [
    {
     "name": "stderr",
     "output_type": "stream",
     "text": [
      "  0%|          | 0/20 [00:00<?, ?it/s]"
     ]
    },
    {
     "name": "stdout",
     "output_type": "stream",
     "text": [
      "Permit price: 29.087067price = 29.1, cap = 3075, second_stage = False, a = 1.00000000"
     ]
    },
    {
     "name": "stderr",
     "output_type": "stream",
     "text": [
      "  5%|▌         | 1/20 [08:04<2:33:26, 484.57s/it]"
     ]
    },
    {
     "name": "stdout",
     "output_type": "stream",
     "text": [
      "Permit price: 29.087066650390625 and total emission: 3068.1224210197265 and emission cap 3074.5378274769137\n",
      "Permit price: 30.040741price = 30.0, cap = 3075, second_stage = False, a = 1.00000000"
     ]
    },
    {
     "name": "stderr",
     "output_type": "stream",
     "text": [
      " 10%|█         | 2/20 [16:33<2:29:36, 498.68s/it]"
     ]
    },
    {
     "name": "stdout",
     "output_type": "stream",
     "text": [
      "Permit price: 30.040740966796875 and total emission: 3058.1860019376422 and emission cap 3074.5378274769137\n",
      "Max diff: 0.35, permit price = 30.5, cap = 3075, second_stage = False, a = 1.00000000"
     ]
    },
    {
     "name": "stderr",
     "output_type": "stream",
     "text": [
      " 15%|█▌        | 3/20 [24:56<2:21:53, 500.79s/it]"
     ]
    },
    {
     "name": "stdout",
     "output_type": "stream",
     "text": [
      "Permit price: 30.517578125 and total emission: 3068.2541241618287 and emission cap 3074.5378274769137\n",
      "Permit price: 30.994415price = 31.0, cap = 3075, second_stage = False, a = 1.00000000"
     ]
    },
    {
     "name": "stderr",
     "output_type": "stream",
     "text": [
      " 20%|██        | 4/20 [33:02<2:12:00, 495.00s/it]"
     ]
    },
    {
     "name": "stdout",
     "output_type": "stream",
     "text": [
      "Permit price: 30.994415283203125 and total emission: 3069.6565220409334 and emission cap 3074.5378274769137\n",
      "Max diff: 0.15, permit price = 31.5, cap = 3075, second_stage = False, a = 1.00000000"
     ]
    },
    {
     "name": "stderr",
     "output_type": "stream",
     "text": [
      " 25%|██▌       | 5/20 [41:36<2:05:28, 501.89s/it]"
     ]
    },
    {
     "name": "stdout",
     "output_type": "stream",
     "text": [
      "Permit price: 31.47125244140625 and total emission: 3063.737375855943 and emission cap 3074.5378274769137\n",
      "Permit price: 31.948090price = 31.9, cap = 3075, second_stage = False, a = 1.00000000"
     ]
    },
    {
     "name": "stderr",
     "output_type": "stream",
     "text": [
      " 30%|███       | 6/20 [49:28<1:54:43, 491.65s/it]"
     ]
    },
    {
     "name": "stdout",
     "output_type": "stream",
     "text": [
      "Permit price: 31.948089599609375 and total emission: 3055.4377971544177 and emission cap 3074.5378274769137\n",
      "Permit price: 31.948090price = 31.9, cap = 3075, second_stage = False, a = 1.00000000"
     ]
    },
    {
     "name": "stderr",
     "output_type": "stream",
     "text": [
      " 35%|███▌      | 7/20 [57:15<1:44:46, 483.58s/it]"
     ]
    },
    {
     "name": "stdout",
     "output_type": "stream",
     "text": [
      "Permit price: 31.948089599609375 and total emission: 3073.671613009872 and emission cap 3074.5378274769137\n",
      "Permit price: 32.901764price = 32.9, cap = 3075, second_stage = False, a = 1.00000000"
     ]
    },
    {
     "name": "stderr",
     "output_type": "stream",
     "text": [
      " 40%|████      | 8/20 [1:04:52<1:35:02, 475.22s/it]"
     ]
    },
    {
     "name": "stdout",
     "output_type": "stream",
     "text": [
      "Permit price: 32.901763916015625 and total emission: 3073.4360576547956 and emission cap 3074.5378274769137\n",
      "Permit price: 33.855438price = 33.9, cap = 3075, second_stage = False, a = 1.00000000"
     ]
    },
    {
     "name": "stderr",
     "output_type": "stream",
     "text": [
      " 45%|████▌     | 9/20 [1:12:35<1:26:26, 471.48s/it]"
     ]
    },
    {
     "name": "stdout",
     "output_type": "stream",
     "text": [
      "Permit price: 33.855438232421875 and total emission: 3074.3982121223903 and emission cap 3074.5378274769137\n",
      "Max diff: 0.16, permit price = 35.3, cap = 3075, second_stage = False, a = 1.00000000"
     ]
    },
    {
     "name": "stderr",
     "output_type": "stream",
     "text": [
      " 50%|█████     | 10/20 [1:20:30<1:18:44, 472.42s/it]"
     ]
    },
    {
     "name": "stdout",
     "output_type": "stream",
     "text": [
      "Permit price: 35.28594970703125 and total emission: 3061.5508355897045 and emission cap 3074.5378274769137\n",
      "Permit price: 35.762787price = 35.8, cap = 3075, second_stage = False, a = 1.00000000"
     ]
    },
    {
     "name": "stderr",
     "output_type": "stream",
     "text": [
      " 55%|█████▌    | 11/20 [1:28:23<1:10:52, 472.51s/it]"
     ]
    },
    {
     "name": "stdout",
     "output_type": "stream",
     "text": [
      "Permit price: 35.762786865234375 and total emission: 3071.2867964222955 and emission cap 3074.5378274769137\n",
      "Max diff: 0.19, permit price = 36.2, cap = 3075, second_stage = False, a = 1.00000000"
     ]
    },
    {
     "name": "stderr",
     "output_type": "stream",
     "text": [
      " 60%|██████    | 12/20 [1:36:16<1:03:02, 472.85s/it]"
     ]
    },
    {
     "name": "stdout",
     "output_type": "stream",
     "text": [
      "Permit price: 36.2396240234375 and total emission: 3070.6099157596977 and emission cap 3074.5378274769137\n",
      "Max diff: 0.16, permit price = 37.2, cap = 3075, second_stage = False, a = 1.00000000"
     ]
    },
    {
     "name": "stderr",
     "output_type": "stream",
     "text": [
      " 65%|██████▌   | 13/20 [1:44:07<55:06, 472.30s/it]  "
     ]
    },
    {
     "name": "stdout",
     "output_type": "stream",
     "text": [
      "Permit price: 37.19329833984375 and total emission: 3072.483512225054 and emission cap 3074.5378274769137\n",
      "Permit price: 38.623810price = 38.6, cap = 3075, second_stage = False, a = 1.00000000"
     ]
    },
    {
     "name": "stderr",
     "output_type": "stream",
     "text": [
      " 70%|███████   | 14/20 [1:52:19<47:48, 478.02s/it]"
     ]
    },
    {
     "name": "stdout",
     "output_type": "stream",
     "text": [
      "Permit price: 38.623809814453125 and total emission: 3064.25014488014 and emission cap 3074.5378274769137\n",
      "Max diff: 0.70, permit price = 39.1, cap = 3075, second_stage = False, a = 1.00000000"
     ]
    },
    {
     "name": "stderr",
     "output_type": "stream",
     "text": [
      " 75%|███████▌  | 15/20 [2:01:00<40:54, 490.99s/it]"
     ]
    },
    {
     "name": "stdout",
     "output_type": "stream",
     "text": [
      "Permit price: 39.10064697265625 and total emission: 3068.604764255139 and emission cap 3074.5378274769137\n",
      "Max diff: 0.47, permit price = 40.1, cap = 3075, second_stage = False, a = 1.00000000"
     ]
    },
    {
     "name": "stderr",
     "output_type": "stream",
     "text": [
      " 80%|████████  | 16/20 [2:09:30<33:07, 496.83s/it]"
     ]
    },
    {
     "name": "stdout",
     "output_type": "stream",
     "text": [
      "Permit price: 40.0543212890625 and total emission: 3060.2763917638836 and emission cap 3074.5378274769137\n",
      "Max diff: 0.38, permit price = 42.0, cap = 3075, second_stage = False, a = 1.00000000"
     ]
    },
    {
     "name": "stderr",
     "output_type": "stream",
     "text": [
      " 85%|████████▌ | 17/20 [2:18:37<25:35, 511.82s/it]"
     ]
    },
    {
     "name": "stdout",
     "output_type": "stream",
     "text": [
      "Permit price: 41.961669921875 and total emission: 3052.17937292249 and emission cap 3074.5378274769137\n",
      "Max diff: 0.38, permit price = 42.0, cap = 3075, second_stage = False, a = 1.00000000"
     ]
    },
    {
     "name": "stderr",
     "output_type": "stream",
     "text": [
      " 90%|█████████ | 18/20 [2:27:49<17:27, 523.91s/it]"
     ]
    },
    {
     "name": "stdout",
     "output_type": "stream",
     "text": [
      "Permit price: 41.961669921875 and total emission: 3074.330531562796 and emission cap 3074.5378274769137\n",
      "Permit price: 43.392181price = 43.4, cap = 3075, second_stage = False, a = 1.00000000"
     ]
    },
    {
     "name": "stderr",
     "output_type": "stream",
     "text": [
      " 95%|█████████▌| 19/20 [2:37:01<08:52, 532.56s/it]"
     ]
    },
    {
     "name": "stdout",
     "output_type": "stream",
     "text": [
      "Permit price: 43.392181396484375 and total emission: 3068.9731660300336 and emission cap 3074.5378274769137\n",
      "Permit price: 44.345856price = 44.3, cap = 3075, second_stage = False, a = 1.00000000"
     ]
    },
    {
     "name": "stderr",
     "output_type": "stream",
     "text": [
      "100%|██████████| 20/20 [2:44:50<00:00, 494.55s/it]"
     ]
    },
    {
     "name": "stdout",
     "output_type": "stream",
     "text": [
      "Permit price: 44.345855712890625 and total emission: 3067.9099114207706 and emission cap 3074.5378274769137\n"
     ]
    },
    {
     "name": "stderr",
     "output_type": "stream",
     "text": [
      "\n"
     ]
    }
   ],
   "source": [
    "# Let's see what happens in we change the free allocation of sector A keeping the cap at 80% of the BAU emissions\n",
    "free_allocation_sectorA = list(np.linspace(0, 1, 20))\n",
    "# Read the data from the csv file, if it exists, if not, just create a new one\n",
    "try:\n",
    "    df = pd.read_csv('../data/generated/exp4_how_Free_allocation_of_one_sector_affects_others_v0_1.csv')\n",
    "    free_alloc = list(df['Free Allocation'])\n",
    "    caps2 = list(df['Emission Cap'])\n",
    "    permit_prices = list(df['Permit Price'])\n",
    "    outputs = list(df['Outputs'])\n",
    "    emissions = list(df['Emissions'])\n",
    "    profits = list(df['Profits'])\n",
    "except:\n",
    "    free_alloc = []\n",
    "    caps2 = []\n",
    "    permit_prices = []\n",
    "    outputs = []\n",
    "    emissions = []\n",
    "    profits = []\n",
    "# Loop through all the emission caps and calculate the permit price\n",
    "\n",
    "# Find all the caps that are not calculated yet (meaning that they are more than 0.5 different than a value of the caps2)\n",
    "for i in free_allocation_sectorA[:]:  # Iterate over a copy of the list\n",
    "    if any(abs(i - x) < 0.001 for x in free_alloc):\n",
    "        free_allocation_sectorA.remove(i)\n",
    "\n",
    "Regulator2.emission_cap = 0.8*Regulator2.BAU_emissions\n",
    "\n",
    "for i in tqdm.tqdm(free_allocation_sectorA):\n",
    "    Regulator2.sector_registry[1].free_emission_multiplier = i\n",
    "    Regulator2.find_optimal_permit_price_to_meet_the_emission_cap_requirements(precision= 1, x_high = 1000000)\n",
    "    caps2.append(Regulator2.emission_cap)\n",
    "    free_alloc.append(i)\n",
    "    permit_prices.append(Regulator2.permit_price)\n",
    "    outputs.append(tuple([firm.actual_output for firm in Regulator2.firm_registry.values()]))\n",
    "    emissions.append(tuple([firm.emission for firm in Regulator2.firm_registry.values()]))\n",
    "    profits.append(tuple([firm.profit for firm in Regulator2.firm_registry.values()]))\n",
    "    # save all the data in a csv file\n",
    "    df = pd.DataFrame({'Free Allocation': free_alloc, 'Emission Cap': caps2, 'Permit Price': permit_prices, 'Outputs': outputs, 'Emissions': emissions, 'Profits': profits})\n",
    "    # Save the DataFrame to the specified path\n",
    "    df.to_csv('../data/generated/exp4_how_Free_allocation_of_one_sector_affects_others_v0_1.csv', index=False)"
   ]
  },
  {
   "cell_type": "code",
   "execution_count": null,
   "metadata": {},
   "outputs": [],
   "source": []
  }
 ],
 "metadata": {
  "kernelspec": {
   "display_name": "base",
   "language": "python",
   "name": "python3"
  },
  "language_info": {
   "codemirror_mode": {
    "name": "ipython",
    "version": 3
   },
   "file_extension": ".py",
   "mimetype": "text/x-python",
   "name": "python",
   "nbconvert_exporter": "python",
   "pygments_lexer": "ipython3",
   "version": "3.12.3"
  }
 },
 "nbformat": 4,
 "nbformat_minor": 2
}
