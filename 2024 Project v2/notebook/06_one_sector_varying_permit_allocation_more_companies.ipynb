{
 "cells": [
  {
   "cell_type": "markdown",
   "metadata": {},
   "source": [
    "Σε αυτό το πείραμα πειράζω τις δωρεάν άδειες ενός κλάδου και βλέπω τις αλλαγές στην τιμή της άδειας στο σ΄συστημα καθώς και τις μεταβολής των κερδών του κλάδου αυτόυ."
   ]
  },
  {
   "cell_type": "code",
   "execution_count": 1,
   "metadata": {},
   "outputs": [],
   "source": [
    "import sys\n",
    "import os\n",
    "sys.path.append(os.path.abspath(os.path.join('..', 'src')))\n",
    "\n",
    "from funkwpap import sympy_to_gurobi, Firm, Country, Sector, Regulator, get_emission\n",
    "import sympy as sp, pandas as pd, numpy as np, tqdm, time, sys\n",
    "from gurobipy import Model, LinExpr, QuadExpr, GRB\n",
    "x = sp.symbols('x')\n",
    "y = sp.symbols('y')"
   ]
  },
  {
   "cell_type": "code",
   "execution_count": 2,
   "metadata": {},
   "outputs": [
    {
     "name": "stdout",
     "output_type": "stream",
     "text": [
      "[Firm(id=1, name='firm1', sector_id=1, country_id=1, actual_output=0, emission=0, profit=0), Firm(id=2, name='firm2', sector_id=1, country_id=2, actual_output=0, emission=0, profit=0), Firm(id=3, name='firm3', sector_id=1, country_id=3, actual_output=0, emission=0, profit=0), Firm(id=16, name='firm16', sector_id=1, country_id=1, actual_output=0, emission=0, profit=0), Firm(id=17, name='firm17', sector_id=1, country_id=2, actual_output=0, emission=0, profit=0), Firm(id=18, name='firm18', sector_id=1, country_id=3, actual_output=0, emission=0, profit=0), Firm(id=19, name='firm19', sector_id=1, country_id=1, actual_output=0, emission=0, profit=0)]\n",
      "[Firm(id=1, name='firm1', sector_id=1, country_id=1, actual_output=0, emission=0, profit=0), Firm(id=4, name='firm4', sector_id=2, country_id=1, actual_output=0, emission=0, profit=0), Firm(id=7, name='firm7', sector_id=3, country_id=1, actual_output=0, emission=0, profit=0), Firm(id=10, name='firm10', sector_id=4, country_id=1, actual_output=0, emission=0, profit=0), Firm(id=13, name='firm13', sector_id=5, country_id=1, actual_output=0, emission=0, profit=0), Firm(id=16, name='firm16', sector_id=1, country_id=1, actual_output=0, emission=0, profit=0), Firm(id=19, name='firm19', sector_id=1, country_id=1, actual_output=0, emission=0, profit=0), Firm(id=22, name='firm22', sector_id=2, country_id=1, actual_output=0, emission=0, profit=0), Firm(id=25, name='firm25', sector_id=3, country_id=1, actual_output=0, emission=0, profit=0), Firm(id=28, name='firm28', sector_id=4, country_id=1, actual_output=0, emission=0, profit=0)]\n",
      "{1: Firm(id=1, name='firm1', sector_id=1, country_id=1, actual_output=0, emission=0, profit=0), 2: Firm(id=2, name='firm2', sector_id=1, country_id=2, actual_output=0, emission=0, profit=0), 3: Firm(id=3, name='firm3', sector_id=1, country_id=3, actual_output=0, emission=0, profit=0), 4: Firm(id=4, name='firm4', sector_id=2, country_id=1, actual_output=0, emission=0, profit=0), 5: Firm(id=5, name='firm5', sector_id=2, country_id=2, actual_output=0, emission=0, profit=0), 6: Firm(id=6, name='firm6', sector_id=2, country_id=3, actual_output=0, emission=0, profit=0), 7: Firm(id=7, name='firm7', sector_id=3, country_id=1, actual_output=0, emission=0, profit=0), 8: Firm(id=8, name='firm8', sector_id=3, country_id=2, actual_output=0, emission=0, profit=0), 9: Firm(id=9, name='firm9', sector_id=3, country_id=3, actual_output=0, emission=0, profit=0), 10: Firm(id=10, name='firm10', sector_id=4, country_id=1, actual_output=0, emission=0, profit=0), 11: Firm(id=11, name='firm11', sector_id=4, country_id=2, actual_output=0, emission=0, profit=0), 12: Firm(id=12, name='firm12', sector_id=4, country_id=3, actual_output=0, emission=0, profit=0), 13: Firm(id=13, name='firm13', sector_id=5, country_id=1, actual_output=0, emission=0, profit=0), 14: Firm(id=14, name='firm14', sector_id=5, country_id=2, actual_output=0, emission=0, profit=0), 15: Firm(id=15, name='firm15', sector_id=5, country_id=3, actual_output=0, emission=0, profit=0), 16: Firm(id=16, name='firm16', sector_id=1, country_id=1, actual_output=0, emission=0, profit=0), 17: Firm(id=17, name='firm17', sector_id=1, country_id=2, actual_output=0, emission=0, profit=0), 18: Firm(id=18, name='firm18', sector_id=1, country_id=3, actual_output=0, emission=0, profit=0), 19: Firm(id=19, name='firm19', sector_id=1, country_id=1, actual_output=0, emission=0, profit=0), 20: Firm(id=20, name='firm20', sector_id=2, country_id=2, actual_output=0, emission=0, profit=0), 21: Firm(id=21, name='firm21', sector_id=2, country_id=3, actual_output=0, emission=0, profit=0), 22: Firm(id=22, name='firm22', sector_id=2, country_id=1, actual_output=0, emission=0, profit=0), 23: Firm(id=23, name='firm23', sector_id=2, country_id=2, actual_output=0, emission=0, profit=0), 24: Firm(id=24, name='firm24', sector_id=3, country_id=3, actual_output=0, emission=0, profit=0), 25: Firm(id=25, name='firm25', sector_id=3, country_id=1, actual_output=0, emission=0, profit=0), 26: Firm(id=26, name='firm26', sector_id=3, country_id=2, actual_output=0, emission=0, profit=0), 27: Firm(id=27, name='firm27', sector_id=3, country_id=3, actual_output=0, emission=0, profit=0), 28: Firm(id=28, name='firm28', sector_id=4, country_id=1, actual_output=0, emission=0, profit=0), 29: Firm(id=29, name='firm29', sector_id=4, country_id=2, actual_output=0, emission=0, profit=0), 30: Firm(id=30, name='firm30', sector_id=4, country_id=3, actual_output=0, emission=0, profit=0)}\n",
      "firm1 cement DE\n",
      "firm2 cement FI\n",
      "firm3 cement GR\n",
      "firm4 steel DE\n",
      "firm5 steel FI\n",
      "firm6 steel GR\n",
      "firm7 paper DE\n",
      "firm8 paper FI\n",
      "firm9 paper GR\n",
      "firm10 plastic DE\n",
      "firm11 plastic FI\n",
      "firm12 plastic GR\n",
      "firm13 glass DE\n",
      "firm14 glass FI\n",
      "firm15 glass GR\n",
      "firm16 cement DE\n",
      "firm17 cement FI\n",
      "firm18 cement GR\n",
      "firm19 cement DE\n",
      "firm20 steel FI\n",
      "firm21 steel GR\n",
      "firm22 steel DE\n",
      "firm23 steel FI\n",
      "firm24 paper GR\n",
      "firm25 paper DE\n",
      "firm26 paper FI\n",
      "firm27 paper GR\n",
      "firm28 plastic DE\n",
      "firm29 plastic FI\n",
      "firm30 plastic GR\n"
     ]
    }
   ],
   "source": [
    "\n",
    "# Create Sectors and Countries\n",
    "Regulator2 = Regulator('EU', permit_price= 2, emission_cap= 100)\n",
    "sector1 = Sector('cement', price_demand_function= 100 - 0.1*x, free_emission_multiplier= 0, regulator= Regulator2)\n",
    "sector2 = Sector('steel', price_demand_function=150 - 0.1*x, free_emission_multiplier= 0, regulator= Regulator2)\n",
    "sector3 = Sector('paper', price_demand_function= 200 - 0.02*x**1.5, free_emission_multiplier= 0, regulator= Regulator2)\n",
    "sector4 = Sector('plastic', price_demand_function= 400 - 0.5*x, free_emission_multiplier= 0, regulator= Regulator2)\n",
    "sector5 = Sector('glass', price_demand_function= 300 - 0.4*x, free_emission_multiplier= 0, regulator= Regulator2)\n",
    "country1 = Country('DE', 1, regulator= Regulator2)\n",
    "country2 = Country('FI', 0.5, regulator= Regulator2)\n",
    "country3 = Country('GR', size= 0.1, regulator= Regulator2)\n",
    "\n",
    "# Create Firms using objects\n",
    "firm1 = Firm('firm1', 1, 1, x*0, 0.1*sp.exp('x') + 100/y**2, 0, 0, 0, regulator= Regulator2)\n",
    "firm2 = Firm('firm2', 1, 2, x*0, 5*x**3.2 + 40/y**2, 0, 0, 0, regulator= Regulator2)\n",
    "firm3 = Firm('firm3', 1, 3, x*0, x**5.2 + 30/y**2, 0, 0, 0, regulator= Regulator2)\n",
    "firm4 = Firm('firm4', 2, 1, x*0, x**3.3 + 20/y**2, 0, 0, 0, regulator= Regulator2)\n",
    "firm5 = Firm('firm5', 2, 2, x*0, x**2.3 + 20/y**2, 0, 0, 0, regulator= Regulator2)\n",
    "firm6 = Firm('firm6', 2, 3, x*0, x**3.2 + 15/y**2, 0, 0, 0, regulator= Regulator2)\n",
    "firm7 = Firm('firm7', 3, 1, x*0, x**4.1 + 40/y**2, 0, 0, 0, regulator= Regulator2)\n",
    "firm8 = Firm('firm8', 3, 2, x*0, x**5.1 + 50/y**2, 0, 0, 0, regulator= Regulator2)\n",
    "firm9 = Firm('firm9', 3, 3, x*0, x**5 + 60/y**2, 0, 0, 0, regulator= Regulator2)\n",
    "firm10 = Firm('firm10', 4, 1, x*0, x**4.2 + 70/y**2, 0, 0, 0, regulator= Regulator2)\n",
    "firm11 = Firm('firm11', 4, 2, x*0, x**3.1 + 80/y**2, 0, 0, 0, regulator= Regulator2)\n",
    "firm12 = Firm('firm12', 4, 3, x*0, x**2.1 + 90/y**2, 0, 0, 0, regulator= Regulator2)\n",
    "firm13 = Firm('firm13', 5, 1, x*0, x**2.1 + 100/y**2, 0, 0, 0, regulator= Regulator2)\n",
    "firm14 = Firm('firm14', 5, 2, x*0, x**3.1 + 110/y**2, 0, 0, 0, regulator= Regulator2)\n",
    "firm15 = Firm('firm15', 5, 3, x*0, x**2.1 + 120/y**2, 0, 0, 0, regulator= Regulator2)\n",
    "firm16 = Firm('firm16', 1, 1, x*0, x**3.1 + 130/y**2, 0, 0, 0, regulator= Regulator2)\n",
    "firm17 = Firm('firm17', 1, 2, x*0, x**4.1 + 140/y**2, 0, 0, 0, regulator= Regulator2)\n",
    "firm18 = Firm('firm18', 1, 3, x*0, x**5.1 + 150/y**2, 0, 0, 0, regulator= Regulator2)\n",
    "firm19 = Firm('firm19', 1, 1, x*0, x**5.1 + 160/y**2, 0, 0, 0, regulator= Regulator2)\n",
    "firm20 = Firm('firm20', 2, 2, x*0, x**4.1 + 170/y**2, 0, 0, 0, regulator= Regulator2)\n",
    "firm21 = Firm('firm21', 2, 3, x*0, x**3.1 + 180/y**2, 0, 0, 0, regulator= Regulator2)\n",
    "firm22 = Firm('firm22', 2, 1, x*0, x**2.1 + 190/y**2, 0, 0, 0, regulator= Regulator2)\n",
    "firm23 = Firm('firm23', 2, 2, x*0, x**3.1 + 200/y**2, 0, 0, 0, regulator= Regulator2)\n",
    "firm24 = Firm('firm24', 3, 3, x*0, x**4.1 + 210/y**2, 0, 0, 0, regulator= Regulator2)\n",
    "firm25 = Firm('firm25', 3, 1, x*0, x**5.1 + 220/y**2, 0, 0, 0, regulator= Regulator2)\n",
    "firm26 = Firm('firm26', 3, 2, x*0, x**4.1 + 230/y**2, 0, 0, 0, regulator= Regulator2)\n",
    "firm27 = Firm('firm27', 3, 3, x*0, x**3.1 + 240/y**2, 0, 0, 0, regulator= Regulator2)\n",
    "firm28 = Firm('firm28', 4, 1, x*0, x**2.1 + 250/y**2, 0, 0, 0, regulator= Regulator2)\n",
    "firm29 = Firm('firm29', 4, 2, x*0, x**3.1 + 260/y**2, 0, 0, 0, regulator= Regulator2)\n",
    "firm30 = Firm('firm30', 4, 3, x*0, x**4.1 + 270/y**2, 0, 0, 0, regulator= Regulator2)\n",
    "\n",
    "\n",
    "\n",
    "\n",
    "print(sector1.firms)  # List of firms in sector1\n",
    "print(country1.firms)  # List of firms in country1\n",
    "print(Regulator2.firm_registry)  # Dictionary of all firms\n",
    "\n",
    "for firm in Regulator2.firm_registry.values():\n",
    "    print(firm.name, firm.sector.name, firm.country.name)\n"
   ]
  },
  {
   "cell_type": "code",
   "execution_count": 3,
   "metadata": {},
   "outputs": [
    {
     "name": "stdout",
     "output_type": "stream",
     "text": [
      "Set parameter Username\n",
      "Academic license - for non-commercial use only - expires 2025-08-14\n",
      "Max diff: 0.02, permit price = 2.0, cap = 100, second_stage = False, a = 1.0000"
     ]
    }
   ],
   "source": [
    "# Regulator2.optimize_them_all(precision = 0.1, print_diff = True, BAU = True)"
   ]
  },
  {
   "cell_type": "code",
   "execution_count": 4,
   "metadata": {},
   "outputs": [
    {
     "name": "stdout",
     "output_type": "stream",
     "text": [
      "firm1 cement DE 128.30467989301465 0.0 1609.77610752768\n",
      "firm2 cement FI 128.30467989301465 0.0 1609.77610752768\n",
      "firm3 cement GR 120.43872269922272 0.0 1511.08578723726\n",
      "firm4 steel DE 187.54290076821835 0.0 3510.79737524230\n",
      "firm5 steel FI 187.54290076821835 0.0 3510.79737524230\n",
      "firm6 steel GR 187.54290076821835 0.0 3510.79737524230\n",
      "firm7 paper DE 58.257939438119216 0.0 2066.85556892005\n",
      "firm8 paper FI 58.171114444454936 0.0 2063.74141407803\n",
      "firm9 paper GR 58.17111186511516 0.0 2063.74574892079\n",
      "firm10 plastic DE 113.05500315245426 0.0 6460.31682925900\n",
      "firm11 plastic FI 113.05500315245426 0.0 6460.31682925900\n",
      "firm12 plastic GR 113.05500315245426 0.0 6460.31682925900\n",
      "firm13 glass DE 187.54290076821835 0.0 14056.0626761962\n",
      "firm14 glass FI 187.54290076821835 0.0 14056.0626761962\n",
      "firm15 glass GR 187.54290076821835 0.0 14056.0626761962\n",
      "firm16 cement DE 120.43872269922272 0.0 1511.08578723726\n",
      "firm17 cement FI 120.43872269922272 0.0 1511.08578723726\n",
      "firm18 cement GR 128.30467989301465 0.0 1609.77610752768\n",
      "firm19 cement DE 128.30467989301465 0.0 1609.77610752768\n",
      "firm20 steel FI 187.54290076821835 0.0 3510.79737524230\n",
      "firm21 steel GR 187.54290076821835 0.0 3510.79737524230\n",
      "firm22 steel DE 187.54290076821835 0.0 3510.79737524230\n",
      "firm23 steel FI 187.54290076821835 0.0 3510.79737524230\n",
      "firm24 paper GR 58.238976195265074 0.0 2065.44843942502\n",
      "firm25 paper DE 58.17112565355468 0.0 2063.72257546012\n",
      "firm26 paper FI 58.24312257979887 0.0 2065.89158000547\n",
      "firm27 paper GR 58.253161531324494 0.0 2066.53113752362\n",
      "firm28 plastic DE 113.05500315245426 0.0 6460.31682925900\n",
      "firm29 plastic FI 113.05500315245426 0.0 6460.31682925900\n",
      "firm30 plastic GR 120.43872269922272 0.0 6882.24568088348\n"
     ]
    }
   ],
   "source": [
    "for firm in Regulator2.firm_registry.values():\n",
    "    print(firm.name, firm.sector.name, firm.country.name, firm.actual_output, firm.emission, firm.profit)"
   ]
  },
  {
   "cell_type": "code",
   "execution_count": 5,
   "metadata": {},
   "outputs": [
    {
     "name": "stdout",
     "output_type": "stream",
     "text": [
      "Max diff: 0.01, permit price = 2.0, cap = 100, second_stage = False, a = 1.00"
     ]
    }
   ],
   "source": [
    "Regulator2.BAU_calculator(print_diff = True)"
   ]
  },
  {
   "cell_type": "code",
   "execution_count": 7,
   "metadata": {},
   "outputs": [
    {
     "name": "stderr",
     "output_type": "stream",
     "text": [
      "  0%|          | 0/100 [00:00<?, ?it/s]"
     ]
    },
    {
     "name": "stdout",
     "output_type": "stream",
     "text": [
      "Permit price: 29.087067price = 29.1, cap = 3075, second_stage = False, a = 1.00000000"
     ]
    },
    {
     "name": "stderr",
     "output_type": "stream",
     "text": [
      "  1%|          | 1/100 [14:19<23:37:57, 859.37s/it]"
     ]
    },
    {
     "name": "stdout",
     "output_type": "stream",
     "text": [
      "Permit price: 29.087066650390625 and total emission: 3072.2502061997448 and emission cap 3074.5501702327088\n",
      "Permit price: 29.087067price = 29.1, cap = 3075, second_stage = False, a = 1.00000000"
     ]
    },
    {
     "name": "stderr",
     "output_type": "stream",
     "text": [
      "  2%|▏         | 2/100 [30:15<24:56:57, 916.51s/it]"
     ]
    },
    {
     "name": "stdout",
     "output_type": "stream",
     "text": [
      "Permit price: 29.087066650390625 and total emission: 3072.2502061997448 and emission cap 3074.5501702327088\n",
      "Max diff: 0.09, permit price = 29.6, cap = 3075, second_stage = False, a = 1.00000000"
     ]
    },
    {
     "name": "stderr",
     "output_type": "stream",
     "text": [
      "  3%|▎         | 3/100 [45:17<24:30:36, 909.66s/it]"
     ]
    },
    {
     "name": "stdout",
     "output_type": "stream",
     "text": [
      "Permit price: 29.56390380859375 and total emission: 3071.356739507784 and emission cap 3074.5501702327088\n",
      "Max diff: 0.09, permit price = 29.6, cap = 3075, second_stage = False, a = 1.00000000"
     ]
    },
    {
     "name": "stderr",
     "output_type": "stream",
     "text": [
      "  4%|▍         | 4/100 [1:01:36<24:59:33, 937.22s/it]"
     ]
    },
    {
     "name": "stdout",
     "output_type": "stream",
     "text": [
      "Permit price: 29.56390380859375 and total emission: 3071.356739507784 and emission cap 3074.5501702327088\n",
      "Permit price: 30.040741price = 30.0, cap = 3075, second_stage = False, a = 0.90000000"
     ]
    },
    {
     "name": "stderr",
     "output_type": "stream",
     "text": [
      "  5%|▌         | 5/100 [1:16:48<24:29:22, 928.03s/it]"
     ]
    },
    {
     "name": "stdout",
     "output_type": "stream",
     "text": [
      "Permit price: 30.040740966796875 and total emission: 3056.9676632302826 and emission cap 3074.5501702327088\n",
      "Permit price: 30.040741price = 30.0, cap = 3075, second_stage = False, a = 0.90000000"
     ]
    },
    {
     "name": "stderr",
     "output_type": "stream",
     "text": [
      "  6%|▌         | 6/100 [1:34:00<25:09:18, 963.39s/it]"
     ]
    },
    {
     "name": "stdout",
     "output_type": "stream",
     "text": [
      "Permit price: 30.040740966796875 and total emission: 3062.7005034076947 and emission cap 3074.5501702327088\n",
      "Permit price: 30.040741price = 30.0, cap = 3075, second_stage = False, a = 0.90000000"
     ]
    },
    {
     "name": "stderr",
     "output_type": "stream",
     "text": [
      "  7%|▋         | 7/100 [1:51:26<25:34:48, 990.19s/it]"
     ]
    },
    {
     "name": "stdout",
     "output_type": "stream",
     "text": [
      "Permit price: 30.040740966796875 and total emission: 3062.7005034076947 and emission cap 3074.5501702327088\n",
      "Permit price: 30.040741price = 30.0, cap = 3075, second_stage = False, a = 0.90000000"
     ]
    },
    {
     "name": "stderr",
     "output_type": "stream",
     "text": [
      "  8%|▊         | 8/100 [2:09:56<26:16:48, 1028.35s/it]"
     ]
    },
    {
     "name": "stdout",
     "output_type": "stream",
     "text": [
      "Permit price: 30.040740966796875 and total emission: 3068.4333435851067 and emission cap 3074.5501702327088\n",
      "Permit price: 30.040741price = 30.0, cap = 3075, second_stage = False, a = 0.90000000"
     ]
    },
    {
     "name": "stderr",
     "output_type": "stream",
     "text": [
      "  9%|▉         | 9/100 [2:30:12<27:28:55, 1087.20s/it]"
     ]
    },
    {
     "name": "stdout",
     "output_type": "stream",
     "text": [
      "Permit price: 30.040740966796875 and total emission: 3068.4333435851067 and emission cap 3074.5501702327088\n",
      "Permit price: 30.040741price = 30.0, cap = 3075, second_stage = False, a = 0.90000000"
     ]
    },
    {
     "name": "stderr",
     "output_type": "stream",
     "text": [
      " 10%|█         | 10/100 [2:50:53<28:22:00, 1134.68s/it]"
     ]
    },
    {
     "name": "stdout",
     "output_type": "stream",
     "text": [
      "Permit price: 30.040740966796875 and total emission: 3074.166183762519 and emission cap 3074.5501702327088\n",
      "Permit price: 30.040741price = 30.0, cap = 3075, second_stage = False, a = 0.90000000"
     ]
    },
    {
     "name": "stderr",
     "output_type": "stream",
     "text": [
      " 11%|█         | 11/100 [3:08:48<27:36:09, 1116.51s/it]"
     ]
    },
    {
     "name": "stdout",
     "output_type": "stream",
     "text": [
      "Permit price: 30.040740966796875 and total emission: 3074.166183762519 and emission cap 3074.5501702327088\n",
      "Max diff: 0.08, permit price = 30.5, cap = 3075, second_stage = False, a = 1.00000000"
     ]
    },
    {
     "name": "stderr",
     "output_type": "stream",
     "text": [
      " 12%|█▏        | 12/100 [3:25:22<26:22:50, 1079.21s/it]"
     ]
    },
    {
     "name": "stdout",
     "output_type": "stream",
     "text": [
      "Permit price: 30.517578125 and total emission: 3072.815237237354 and emission cap 3074.5501702327088\n",
      "Permit price: 30.994415price = 31.0, cap = 3075, second_stage = False, a = 1.00000000"
     ]
    },
    {
     "name": "stderr",
     "output_type": "stream",
     "text": [
      " 13%|█▎        | 13/100 [3:54:31<30:58:47, 1281.93s/it]"
     ]
    },
    {
     "name": "stdout",
     "output_type": "stream",
     "text": [
      "Permit price: 30.994415283203125 and total emission: 3062.509468778556 and emission cap 3074.5501702327088\n",
      "Permit price: 30.994415price = 31.0, cap = 3075, second_stage = False, a = 1.00000000"
     ]
    },
    {
     "name": "stderr",
     "output_type": "stream",
     "text": [
      " 14%|█▍        | 14/100 [4:24:04<34:10:04, 1430.28s/it]"
     ]
    },
    {
     "name": "stdout",
     "output_type": "stream",
     "text": [
      "Permit price: 30.994415283203125 and total emission: 3062.509468778556 and emission cap 3074.5501702327088\n",
      "Permit price: 30.994415price = 31.0, cap = 3075, second_stage = False, a = 1.00000000"
     ]
    },
    {
     "name": "stderr",
     "output_type": "stream",
     "text": [
      " 15%|█▌        | 15/100 [4:54:02<36:23:22, 1541.21s/it]"
     ]
    },
    {
     "name": "stdout",
     "output_type": "stream",
     "text": [
      "Permit price: 30.994415283203125 and total emission: 3068.242308955968 and emission cap 3074.5501702327088\n",
      "Permit price: 30.994415price = 31.0, cap = 3075, second_stage = False, a = 1.00000000"
     ]
    },
    {
     "name": "stderr",
     "output_type": "stream",
     "text": [
      " 16%|█▌        | 16/100 [5:24:41<38:03:11, 1630.85s/it]"
     ]
    },
    {
     "name": "stdout",
     "output_type": "stream",
     "text": [
      "Permit price: 30.994415283203125 and total emission: 3073.97514913338 and emission cap 3074.5501702327088\n",
      "Permit price: 30.994415price = 31.0, cap = 3075, second_stage = False, a = 1.00000000"
     ]
    },
    {
     "name": "stderr",
     "output_type": "stream",
     "text": [
      " 17%|█▋        | 17/100 [5:56:03<39:20:35, 1706.45s/it]"
     ]
    },
    {
     "name": "stdout",
     "output_type": "stream",
     "text": [
      "Permit price: 30.994415283203125 and total emission: 3073.97514913338 and emission cap 3074.5501702327088\n",
      "Max diff: 0.08, permit price = 31.5, cap = 3075, second_stage = False, a = 1.00000000"
     ]
    },
    {
     "name": "stderr",
     "output_type": "stream",
     "text": [
      " 18%|█▊        | 18/100 [6:28:36<40:33:03, 1780.29s/it]"
     ]
    },
    {
     "name": "stdout",
     "output_type": "stream",
     "text": [
      "Permit price: 31.47125244140625 and total emission: 3062.3693139487823 and emission cap 3074.5501702327088\n",
      "Max diff: 0.08, permit price = 31.5, cap = 3075, second_stage = False, a = 1.00000000"
     ]
    },
    {
     "name": "stderr",
     "output_type": "stream",
     "text": [
      " 19%|█▉        | 19/100 [7:01:45<41:28:20, 1843.21s/it]"
     ]
    },
    {
     "name": "stdout",
     "output_type": "stream",
     "text": [
      "Permit price: 31.47125244140625 and total emission: 3068.1021541261944 and emission cap 3074.5501702327088\n",
      "Max diff: 0.08, permit price = 31.5, cap = 3075, second_stage = False, a = 1.00000000"
     ]
    },
    {
     "name": "stderr",
     "output_type": "stream",
     "text": [
      " 20%|██        | 20/100 [7:35:38<42:13:20, 1900.01s/it]"
     ]
    },
    {
     "name": "stdout",
     "output_type": "stream",
     "text": [
      "Permit price: 31.47125244140625 and total emission: 3068.1021541261944 and emission cap 3074.5501702327088\n",
      "Max diff: 0.08, permit price = 31.5, cap = 3075, second_stage = False, a = 1.00000000"
     ]
    },
    {
     "name": "stderr",
     "output_type": "stream",
     "text": [
      " 21%|██        | 21/100 [8:10:10<42:49:51, 1951.79s/it]"
     ]
    },
    {
     "name": "stdout",
     "output_type": "stream",
     "text": [
      "Permit price: 31.47125244140625 and total emission: 3068.1021541261944 and emission cap 3074.5501702327088\n",
      "Max diff: 0.08, permit price = 31.5, cap = 3075, second_stage = False, a = 1.00000000"
     ]
    },
    {
     "name": "stderr",
     "output_type": "stream",
     "text": [
      " 22%|██▏       | 22/100 [8:45:31<43:23:17, 2002.53s/it]"
     ]
    },
    {
     "name": "stdout",
     "output_type": "stream",
     "text": [
      "Permit price: 31.47125244140625 and total emission: 3068.1021541261944 and emission cap 3074.5501702327088\n",
      "Max diff: 0.08, permit price = 31.5, cap = 3075, second_stage = False, a = 1.00000000"
     ]
    },
    {
     "name": "stderr",
     "output_type": "stream",
     "text": [
      " 23%|██▎       | 23/100 [9:21:44<43:55:34, 2053.69s/it]"
     ]
    },
    {
     "name": "stdout",
     "output_type": "stream",
     "text": [
      "Permit price: 31.47125244140625 and total emission: 3074.2094109731925 and emission cap 3074.5501702327088\n",
      "Max diff: 0.08, permit price = 31.5, cap = 3075, second_stage = False, a = 1.00000000"
     ]
    },
    {
     "name": "stderr",
     "output_type": "stream",
     "text": [
      " 24%|██▍       | 24/100 [9:58:59<44:30:07, 2107.99s/it]"
     ]
    },
    {
     "name": "stdout",
     "output_type": "stream",
     "text": [
      "Permit price: 31.47125244140625 and total emission: 3074.2094109731925 and emission cap 3074.5501702327088\n",
      "Permit price: 31.948090price = 31.9, cap = 3075, second_stage = False, a = 0.90000000"
     ]
    },
    {
     "name": "stderr",
     "output_type": "stream",
     "text": [
      " 25%|██▌       | 25/100 [10:38:49<45:40:53, 2192.72s/it]"
     ]
    },
    {
     "name": "stdout",
     "output_type": "stream",
     "text": [
      "Permit price: 31.948089599609375 and total emission: 3054.002089316125 and emission cap 3074.5501702327088\n",
      "Permit price: 31.948090price = 31.9, cap = 3075, second_stage = False, a = 0.90000000"
     ]
    },
    {
     "name": "stderr",
     "output_type": "stream",
     "text": [
      " 26%|██▌       | 26/100 [11:19:22<46:33:19, 2264.86s/it]"
     ]
    },
    {
     "name": "stdout",
     "output_type": "stream",
     "text": [
      "Permit price: 31.948089599609375 and total emission: 3060.1093461631226 and emission cap 3074.5501702327088\n",
      "Permit price: 31.948090price = 31.9, cap = 3075, second_stage = False, a = 0.90000000"
     ]
    },
    {
     "name": "stderr",
     "output_type": "stream",
     "text": [
      " 27%|██▋       | 27/100 [12:01:36<47:33:44, 2345.54s/it]"
     ]
    },
    {
     "name": "stdout",
     "output_type": "stream",
     "text": [
      "Permit price: 31.948089599609375 and total emission: 3060.1093461631226 and emission cap 3074.5501702327088\n",
      "Permit price: 31.948090price = 31.9, cap = 3075, second_stage = False, a = 0.90000000"
     ]
    },
    {
     "name": "stderr",
     "output_type": "stream",
     "text": [
      " 28%|██▊       | 28/100 [12:44:38<48:19:47, 2416.49s/it]"
     ]
    },
    {
     "name": "stdout",
     "output_type": "stream",
     "text": [
      "Permit price: 31.948089599609375 and total emission: 3066.2166030101207 and emission cap 3074.5501702327088\n",
      "Permit price: 31.948090price = 31.9, cap = 3075, second_stage = False, a = 0.90000000"
     ]
    },
    {
     "name": "stderr",
     "output_type": "stream",
     "text": [
      " 29%|██▉       | 29/100 [13:29:25<49:15:24, 2497.52s/it]"
     ]
    },
    {
     "name": "stdout",
     "output_type": "stream",
     "text": [
      "Permit price: 31.948089599609375 and total emission: 3066.2166030101207 and emission cap 3074.5501702327088\n",
      "Permit price: 31.948090price = 31.9, cap = 3075, second_stage = False, a = 0.90000000"
     ]
    },
    {
     "name": "stderr",
     "output_type": "stream",
     "text": [
      " 30%|███       | 30/100 [14:15:43<50:12:11, 2581.88s/it]"
     ]
    },
    {
     "name": "stdout",
     "output_type": "stream",
     "text": [
      "Permit price: 31.948089599609375 and total emission: 3072.3238598571184 and emission cap 3074.5501702327088\n",
      "Permit price: 31.948090price = 31.9, cap = 3075, second_stage = False, a = 0.90000000"
     ]
    },
    {
     "name": "stderr",
     "output_type": "stream",
     "text": [
      " 31%|███       | 31/100 [15:05:46<51:54:20, 2708.12s/it]"
     ]
    },
    {
     "name": "stdout",
     "output_type": "stream",
     "text": [
      "Permit price: 31.948089599609375 and total emission: 3072.3238598571184 and emission cap 3074.5501702327088\n",
      "Max diff: 0.40, permit price = 34.3, cap = 3075, second_stage = False, a = 1.00000000"
     ]
    },
    {
     "name": "stderr",
     "output_type": "stream",
     "text": [
      " 31%|███       | 31/100 [15:22:58<34:14:21, 1786.39s/it]\n"
     ]
    },
    {
     "ename": "KeyboardInterrupt",
     "evalue": "",
     "output_type": "error",
     "traceback": [
      "\u001b[1;31m---------------------------------------------------------------------------\u001b[0m",
      "\u001b[1;31mKeyboardInterrupt\u001b[0m                         Traceback (most recent call last)",
      "Cell \u001b[1;32mIn[7], line 30\u001b[0m\n\u001b[0;32m     28\u001b[0m \u001b[38;5;28;01mfor\u001b[39;00m i \u001b[38;5;129;01min\u001b[39;00m tqdm\u001b[38;5;241m.\u001b[39mtqdm(free_allocation_sectorA):\n\u001b[0;32m     29\u001b[0m     Regulator2\u001b[38;5;241m.\u001b[39msector_registry[\u001b[38;5;241m1\u001b[39m]\u001b[38;5;241m.\u001b[39mfree_emission_multiplier \u001b[38;5;241m=\u001b[39m i\n\u001b[1;32m---> 30\u001b[0m     Regulator2\u001b[38;5;241m.\u001b[39mfind_optimal_permit_price_to_meet_the_emission_cap_requirements(precision\u001b[38;5;241m=\u001b[39m \u001b[38;5;241m0.1\u001b[39m, x_high \u001b[38;5;241m=\u001b[39m \u001b[38;5;241m1000000\u001b[39m)\n\u001b[0;32m     31\u001b[0m     caps2\u001b[38;5;241m.\u001b[39mappend(Regulator2\u001b[38;5;241m.\u001b[39memission_cap)\n\u001b[0;32m     32\u001b[0m     free_alloc\u001b[38;5;241m.\u001b[39mappend(i)\n",
      "File \u001b[1;32mc:\\Users\\Kostas\\Documents\\GitHub\\Diplomatiki_kwpap_step_1\\2024 Project v2\\src\\funkwpap.py:286\u001b[0m, in \u001b[0;36mRegulator.find_optimal_permit_price_to_meet_the_emission_cap_requirements\u001b[1;34m(self, precision, permit_price_tolerance, x_low, x_high, size_of_diffs)\u001b[0m\n\u001b[0;32m    284\u001b[0m x_mid \u001b[38;5;241m=\u001b[39m (x_high \u001b[38;5;241m+\u001b[39m x_low)\u001b[38;5;241m/\u001b[39m\u001b[38;5;241m2\u001b[39m\n\u001b[0;32m    285\u001b[0m \u001b[38;5;28mself\u001b[39m\u001b[38;5;241m.\u001b[39mpermit_price \u001b[38;5;241m=\u001b[39m x_mid\n\u001b[1;32m--> 286\u001b[0m \u001b[38;5;28mself\u001b[39m\u001b[38;5;241m.\u001b[39moptimize_them_all(print_output\u001b[38;5;241m=\u001b[39m\u001b[38;5;28;01mFalse\u001b[39;00m, print_diff\u001b[38;5;241m=\u001b[39m\u001b[38;5;28;01mTrue\u001b[39;00m, precision \u001b[38;5;241m=\u001b[39m precision, size_of_diffs\u001b[38;5;241m=\u001b[39m size_of_diffs)\n\u001b[0;32m    287\u001b[0m total_emission \u001b[38;5;241m=\u001b[39m get_emission(\u001b[38;5;28mself\u001b[39m\u001b[38;5;241m.\u001b[39mfirm_registry\u001b[38;5;241m.\u001b[39mvalues())\n\u001b[0;32m    288\u001b[0m sys\u001b[38;5;241m.\u001b[39mstdout\u001b[38;5;241m.\u001b[39mwrite(\u001b[38;5;124m\"\u001b[39m\u001b[38;5;130;01m\\r\u001b[39;00m\u001b[38;5;124mPermit price: \u001b[39m\u001b[38;5;132;01m{:2f}\u001b[39;00m\u001b[38;5;124m\"\u001b[39m\u001b[38;5;241m.\u001b[39mformat(\u001b[38;5;28mself\u001b[39m\u001b[38;5;241m.\u001b[39mpermit_price))\n",
      "File \u001b[1;32mc:\\Users\\Kostas\\Documents\\GitHub\\Diplomatiki_kwpap_step_1\\2024 Project v2\\src\\funkwpap.py:236\u001b[0m, in \u001b[0;36mRegulator.optimize_them_all\u001b[1;34m(self, print_output, print_diff, precision, BAU, size_of_diffs)\u001b[0m\n\u001b[0;32m    234\u001b[0m \u001b[38;5;28;01mfor\u001b[39;00m sector \u001b[38;5;129;01min\u001b[39;00m \u001b[38;5;28mself\u001b[39m\u001b[38;5;241m.\u001b[39msector_registry\u001b[38;5;241m.\u001b[39mvalues():\n\u001b[0;32m    235\u001b[0m     \u001b[38;5;28;01mfor\u001b[39;00m firm \u001b[38;5;129;01min\u001b[39;00m sector\u001b[38;5;241m.\u001b[39mfirms:\n\u001b[1;32m--> 236\u001b[0m         output, emission, profit \u001b[38;5;241m=\u001b[39m firm\u001b[38;5;241m.\u001b[39mcalculate_output(verbose\u001b[38;5;241m=\u001b[39m\u001b[38;5;28;01mFalse\u001b[39;00m, BAU \u001b[38;5;241m=\u001b[39m BAU)\n\u001b[0;32m    237\u001b[0m         max_output[firm\u001b[38;5;241m.\u001b[39mname] \u001b[38;5;241m=\u001b[39m \u001b[38;5;28mmax\u001b[39m(max_output\u001b[38;5;241m.\u001b[39mget(firm\u001b[38;5;241m.\u001b[39mname, \u001b[38;5;241m0\u001b[39m), output)\n\u001b[0;32m    238\u001b[0m         \u001b[38;5;28;01mif\u001b[39;00m \u001b[38;5;28mabs\u001b[39m(output \u001b[38;5;241m-\u001b[39m firm\u001b[38;5;241m.\u001b[39mactual_output)\u001b[38;5;241m>\u001b[39mprecision \u001b[38;5;129;01mor\u001b[39;00m \u001b[38;5;28mabs\u001b[39m(emission \u001b[38;5;241m-\u001b[39m firm\u001b[38;5;241m.\u001b[39memission)\u001b[38;5;241m>\u001b[39mprecision:\n",
      "File \u001b[1;32mc:\\Users\\Kostas\\Documents\\GitHub\\Diplomatiki_kwpap_step_1\\2024 Project v2\\src\\funkwpap.py:476\u001b[0m, in \u001b[0;36mFirm.calculate_output\u001b[1;34m(self, verbose, writeLP, BAU)\u001b[0m\n\u001b[0;32m    474\u001b[0m     m\u001b[38;5;241m.\u001b[39mwrite(\u001b[38;5;124mf\u001b[39m\u001b[38;5;124m\"\u001b[39m\u001b[38;5;124mfirm\u001b[39m\u001b[38;5;132;01m{\u001b[39;00m\u001b[38;5;28mself\u001b[39m\u001b[38;5;241m.\u001b[39mid\u001b[38;5;132;01m}\u001b[39;00m\u001b[38;5;124m.lp\u001b[39m\u001b[38;5;124m\"\u001b[39m)\n\u001b[0;32m    475\u001b[0m \u001b[38;5;66;03m#check if output.X is None\u001b[39;00m\n\u001b[1;32m--> 476\u001b[0m m\u001b[38;5;241m.\u001b[39moptimize()\n\u001b[0;32m    477\u001b[0m \u001b[38;5;28;01mreturn\u001b[39;00m output\u001b[38;5;241m.\u001b[39mX, emission\u001b[38;5;241m.\u001b[39mX, profit\u001b[38;5;241m.\u001b[39mgetValue()\n",
      "\u001b[1;31mKeyboardInterrupt\u001b[0m: "
     ]
    }
   ],
   "source": [
    "# Let's see what happens in we change the free allocation of sector A keeping the cap at 80% of the BAU emissions\n",
    "free_allocation_sectorA = list(np.linspace(0, 1, 100))\n",
    "# Read the data from the csv file, if it exists, if not, just create a new one\n",
    "try:\n",
    "    df = pd.read_csv('../data/generated/exp4_how_Free_allocation_of_one_sector_affects_others_v0.csv')\n",
    "    free_alloc = list(df['Free Allocation'])\n",
    "    caps2 = list(df['Emission Cap'])\n",
    "    permit_prices = list(df['Permit Price'])\n",
    "    outputs = list(df['Outputs'])\n",
    "    emissions = list(df['Emissions'])\n",
    "    profits = list(df['Profits'])\n",
    "except:\n",
    "    free_alloc = []\n",
    "    caps2 = []\n",
    "    permit_prices = []\n",
    "    outputs = []\n",
    "    emissions = []\n",
    "    profits = []\n",
    "# Loop through all the emission caps and calculate the permit price\n",
    "\n",
    "# Find all the caps that are not calculated yet (meaning that they are more than 0.5 different than a value of the caps2)\n",
    "for i in free_allocation_sectorA[:]:  # Iterate over a copy of the list\n",
    "    if any(abs(i - x) < 0.001 for x in free_alloc):\n",
    "        free_allocation_sectorA.remove(i)\n",
    "\n",
    "Regulator2.emission_cap = 0.8*Regulator2.BAU_emissions\n",
    "\n",
    "for i in tqdm.tqdm(free_allocation_sectorA):\n",
    "    Regulator2.sector_registry[1].free_emission_multiplier = i\n",
    "    Regulator2.find_optimal_permit_price_to_meet_the_emission_cap_requirements(precision= 0.1, x_high = 1000000)\n",
    "    caps2.append(Regulator2.emission_cap)\n",
    "    free_alloc.append(i)\n",
    "    permit_prices.append(Regulator2.permit_price)\n",
    "    outputs.append(tuple([firm.actual_output for firm in Regulator2.firm_registry.values()]))\n",
    "    emissions.append(tuple([firm.emission for firm in Regulator2.firm_registry.values()]))\n",
    "    profits.append(tuple([firm.profit for firm in Regulator2.firm_registry.values()]))\n",
    "    # save all the data in a csv file\n",
    "    df = pd.DataFrame({'Free Allocation': free_alloc, 'Emission Cap': caps2, 'Permit Price': permit_prices, 'Outputs': outputs, 'Emissions': emissions, 'Profits': profits})\n",
    "    # Save the DataFrame to the specified path\n",
    "    df.to_csv('../data/generated/exp4_how_Free_allocation_of_one_sector_affects_others_v0.csv', index=False)"
   ]
  },
  {
   "cell_type": "code",
   "execution_count": null,
   "metadata": {},
   "outputs": [],
   "source": []
  }
 ],
 "metadata": {
  "kernelspec": {
   "display_name": "base",
   "language": "python",
   "name": "python3"
  },
  "language_info": {
   "codemirror_mode": {
    "name": "ipython",
    "version": 3
   },
   "file_extension": ".py",
   "mimetype": "text/x-python",
   "name": "python",
   "nbconvert_exporter": "python",
   "pygments_lexer": "ipython3",
   "version": "3.12.4"
  }
 },
 "nbformat": 4,
 "nbformat_minor": 2
}
