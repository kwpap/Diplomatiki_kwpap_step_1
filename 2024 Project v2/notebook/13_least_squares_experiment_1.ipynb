{
 "cells": [
  {
   "cell_type": "code",
   "execution_count": 1,
   "metadata": {},
   "outputs": [],
   "source": [
    "import sys\n",
    "import os\n",
    "sys.path.append(os.path.abspath(os.path.join('..', 'src')))\n",
    "\n",
    "from funkwpap import *\n",
    "import sympy as sp, pandas as pd, numpy as np, tqdm, time, sys, matplotlib.pyplot as plt\n",
    "from scipy.optimize import fsolve\n",
    "from random import random\n",
    "from scipy.optimize import minimize\n",
    "from gurobipy import *"
   ]
  },
  {
   "cell_type": "code",
   "execution_count": 2,
   "metadata": {},
   "outputs": [],
   "source": [
    "x = sp.symbols('x')\n",
    "cap = 2000 # total emission cap\n",
    "Regulator6 = Regulator(\"test1\", permit_price = 2.4079, emission_cap = cap)\n",
    "sector1 = Sector('cement', price_demand_function= 100 - 0.1*x, free_emission_multiplier= 0, regulator= Regulator6)\n",
    "sector2 = Sector('steel', price_demand_function=150 - 0.1*x, free_emission_multiplier= 0, regulator= Regulator6)\n",
    "sector3 = Sector('paper', price_demand_function= 200 - 0.02*x**1.5, free_emission_multiplier= 0, regulator= Regulator6)\n",
    "country1 = Country('DE', 1, regulator= Regulator6)\n",
    "country2 = Country('FI', 0.5, regulator= Regulator6)\n",
    "country3 = Country('GR', size= 0.1, regulator= Regulator6)\n",
    "\n",
    "# Create Firms using objects\n",
    "firm1 = Firm('firm1', 1, 1, x*0, 10*x+ 2*x**2 + 0.1*x**3 , 0, 0, 0, regulator= Regulator6)\n",
    "firm2 = Firm('firm2', 1, 2, x*0, 11*x+ 3*x**2 + 0.2*x**3, 0, 0, 0, regulator= Regulator6)\n",
    "firm3 = Firm('firm3', 1, 3, x*0, 5*x+ 4*x**2 + 5*x**3 , 0, 0, 0, regulator= Regulator6)\n",
    "firm4 = Firm('firm4', 2, 1, x*0, 7*x+ 5*x**2 + 3*x**3 , 0, 0, 0, regulator= Regulator6)\n",
    "firm5 = Firm('firm5', 2, 2, x*0, 1*x+ 6*x**2 + 2*x**3 , 0, 0, 0, regulator= Regulator6)\n",
    "firm6 = Firm('firm6', 2, 3, x*0, 2*x+ 7*x**2 + 3*x**3 , 0, 0, 0, regulator= Regulator6)\n",
    "firm7 = Firm('firm7', 3, 1, x*0, 3*x+ 8*x**2 + 4*x**3 , 0, 0, 0, regulator= Regulator6)\n",
    "firm8 = Firm('firm8', 3, 2, x*0, 4*x+ 9*x**2 + 10*x**3 , 0, 0, 0, regulator= Regulator6)\n",
    "firm9 = Firm('firm9', 3, 3, x*0, 5*x+ 10*x**2 + 11*x**3 , 0, 0, 0, regulator= Regulator6)\n",
    "\n"
   ]
  },
  {
   "cell_type": "code",
   "execution_count": 3,
   "metadata": {},
   "outputs": [
    {
     "name": "stdout",
     "output_type": "stream",
     "text": [
      "Set parameter Username\n",
      "Academic license - for non-commercial use only - expires 2025-08-14\n",
      "Optimal solution found\n",
      "Firm firm1 has output 0 and emission 0\n",
      "Firm firm2 has output 0 and emission 0\n",
      "Firm firm3 has output 0 and emission 0\n",
      "Firm firm4 has output 0 and emission 0\n",
      "Firm firm5 has output 0 and emission 0\n",
      "Firm firm6 has output 0 and emission 0\n",
      "Firm firm7 has output 0 and emission 0\n",
      "Firm firm8 has output 0 and emission 0\n",
      "Firm firm9 has output 0 and emission 0\n",
      "Permit price: 0.0\n",
      "Optimal solution found\n",
      "Firm firm1 has output 215.3787075856809 and emission 214.47754631922007\n",
      "Firm firm2 has output 215.37870758568124 and emission 214.9246619241856\n",
      "Firm firm3 has output 215.37870758568118 and emission 214.8325740585355\n",
      "Firm firm4 has output 340.37870758568386 and emission 339.90011883045304\n",
      "Firm firm5 has output 340.3787075856837 and emission 339.60654986562525\n",
      "Firm firm6 has output 340.3787075856782 and emission 339.77043722726467\n",
      "Firm firm7 has output 112.54181266845674 and emission 112.04758416974619\n",
      "Firm firm8 has output 112.54181223203274 and emission 112.19521626856918\n",
      "Firm firm9 has output 112.54181223679912 and emission 112.24531133640053\n",
      "Permit price: 13.848516965727576\n"
     ]
    },
    {
     "data": {
      "text/plain": [
       "<gurobi.Model MIP instance Least Squares: 49 constrs, 105 vars, Parameter changes: Username=(user-defined), OutputFlag=0>"
      ]
     },
     "execution_count": 3,
     "metadata": {},
     "output_type": "execute_result"
    }
   ],
   "source": [
    "# Regulator6.find_optimal_permit_price_to_meet_the_emission_cap_requirements(precision=0.01)\n",
    "Regulator6.optimization_with_least_squares(gurobi_print= False, BAU = True)\n",
    "Regulator6.optimization_with_least_squares(gurobi_print= False, BAU = False)"
   ]
  },
  {
   "cell_type": "code",
   "execution_count": 4,
   "metadata": {},
   "outputs": [
    {
     "name": "stdout",
     "output_type": "stream",
     "text": [
      "Firm       | FOC 1        | FOC 2         | SOC 1         | SOC 2        | Hessian      | Status\n",
      "-------------------------------------------------------------------------------------\n",
      "Worst      |   +0.0570 ✔️ |   +0.0174 ✔️ |   -4.5407 ✔️ |   -4.7407 ✔️ |   +0.9081 ✔️ | 5/5\n",
      "firm1      |  +2.44e-4 ✔️ |  -2.44e-4 ✔️ |   -4.5407 ✔️ |   -4.7407 ✔️ |   +0.9081 ✔️ | 5/5\n",
      "firm2      |  +5.49e-4 ✔️ |  -5.49e-4 ✔️ |   -6.5449 ✔️ |   -6.7449 ✔️ |   +1.3090 ✔️ | 5/5\n",
      "firm3      |   +0.0055 ✔️ |   -0.0055 ✔️ |  -24.3840 ✔️ |  -24.5840 ✔️ |   +4.8768 ✔️ | 5/5\n",
      "firm4      |   +0.0012 ✔️ |   -0.0012 ✔️ |  -18.6146 ✔️ |  -18.8146 ✔️ |   +3.7229 ✔️ | 5/5\n",
      "firm5      |   +0.0053 ✔️ |   -0.0053 ✔️ |  -21.2659 ✔️ |  -21.4659 ✔️ |   +4.2532 ✔️ | 5/5\n",
      "firm6      |   +0.0028 ✔️ |   -0.0028 ✔️ |  -24.9489 ✔️ |  -25.1489 ✔️ |   +4.9898 ✔️ | 5/5\n",
      "firm7      |   +0.0494 ✔️ |   -0.0097 ✔️ |  -27.8615 ✔️ |  -29.0558 ✔️ |  +33.2763 ✔️ | 5/5\n",
      "firm8      |   +0.0456 ✔️ |   -0.0059 ✔️ |  -38.7958 ✔️ |  -39.9901 ✔️ |  +46.3356 ✔️ | 5/5\n",
      "firm9      |   +0.0570 ✔️ |   -0.0174 ✔️ |  -39.5691 ✔️ |  -40.7634 ✔️ |  +47.2592 ✔️ | 5/5\n"
     ]
    },
    {
     "data": {
      "text/latex": [
       "$\\displaystyle \\text{True}$"
      ],
      "text/plain": [
       "True"
      ]
     },
     "execution_count": 4,
     "metadata": {},
     "output_type": "execute_result"
    }
   ],
   "source": [
    "Regulator6.equilibrium_tester(precision = 0.1, full_output=True)"
   ]
  },
  {
   "cell_type": "code",
   "execution_count": 5,
   "metadata": {},
   "outputs": [
    {
     "name": "stderr",
     "output_type": "stream",
     "text": [
      "0it [00:00, ?it/s]\n"
     ]
    }
   ],
   "source": [
    "# Let's see what happens in we change the free allocation of sector A keeping the cap at 80% of the BAU emissions\n",
    "free_allocation_sectorA = list(np.linspace(0, 1, 100))\n",
    "# Read the data from the csv file, if it exists, if not, just create a new one\n",
    "try:\n",
    "    df = pd.read_csv('../data/generated/exp01_varying_free_alloc_of_sector_1_at_90_per_cent_BAU.csv')\n",
    "    free_alloc = list(df['Free Allocation'])\n",
    "    caps2 = list(df['Emission Cap'])\n",
    "    permit_prices = list(df['Permit Price'])\n",
    "    outputs = list(df['Outputs'])\n",
    "    emissions = list(df['Emissions'])\n",
    "    profits = list(df['Profits'])\n",
    "except:\n",
    "    free_alloc = []\n",
    "    caps2 = []\n",
    "    permit_prices = []\n",
    "    outputs = []\n",
    "    emissions = []\n",
    "    profits = []\n",
    "# Loop through all the emission caps and calculate the permit price\n",
    "\n",
    "# Find all the caps that are not calculated yet (meaning that they are more than 0.5 different than a value of the caps2)\n",
    "for i in free_allocation_sectorA[:]:  # Iterate over a copy of the list\n",
    "    if any(abs(i - x) < 0.001 for x in free_alloc):\n",
    "        free_allocation_sectorA.remove(i)\n",
    "\n",
    "Regulator6.emission_cap = 0.9*Regulator6.BAU_emissions\n",
    "\n",
    "for i in tqdm.tqdm(free_allocation_sectorA):\n",
    "    Regulator6.sector_registry[1].free_emission_multiplier = i\n",
    "    Regulator6.optimization_with_least_squares(gurobi_print= False)\n",
    "    caps2.append(Regulator6.emission_cap)\n",
    "    free_alloc.append(i)\n",
    "    permit_prices.append(Regulator6.permit_price)\n",
    "    outputs.append(tuple([firm.actual_output for firm in Regulator6.firm_registry.values()]))\n",
    "    emissions.append(tuple([firm.emission for firm in Regulator6.firm_registry.values()]))\n",
    "    profits.append(tuple([firm.profit for firm in Regulator6.firm_registry.values()]))\n",
    "    # save all the data in a csv file\n",
    "    df = pd.DataFrame({'Free Allocation': free_alloc, 'Emission Cap': caps2, 'Permit Price': permit_prices, 'Outputs': outputs, 'Emissions': emissions, 'Profits': profits})\n",
    "    # Save the DataFrame to the specified path\n",
    "    df.to_csv('../data/generated/exp01_varying_free_alloc_of_sector_1_at_90_per_cent_BAU.csv', index=False)"
   ]
  },
  {
   "cell_type": "code",
   "execution_count": null,
   "metadata": {},
   "outputs": [
    {
     "name": "stderr",
     "output_type": "stream",
     "text": [
      "  0%|          | 0/54 [00:00<?, ?it/s]"
     ]
    },
    {
     "name": "stdout",
     "output_type": "stream",
     "text": [
      "Optimal solution found\n"
     ]
    },
    {
     "name": "stderr",
     "output_type": "stream",
     "text": [
      "  2%|▏         | 1/54 [00:44<39:22, 44.58s/it]"
     ]
    },
    {
     "name": "stdout",
     "output_type": "stream",
     "text": [
      "Firm       | FOC 1        | FOC 2         | SOC 1         | SOC 2        | Hessian      | Status\n",
      "-------------------------------------------------------------------------------------\n",
      "Worst      |   +0.0191 ✔️ |   +0.0217 ✔️ |   -6.6783 ✔️ |   -6.8783 ✔️ |   +1.3357 ✔️ | 5/5\n",
      "Optimal solution found\n"
     ]
    },
    {
     "name": "stderr",
     "output_type": "stream",
     "text": [
      "  4%|▎         | 2/54 [01:15<31:42, 36.59s/it]"
     ]
    },
    {
     "name": "stdout",
     "output_type": "stream",
     "text": [
      "Firm       | FOC 1        | FOC 2         | SOC 1         | SOC 2        | Hessian      | Status\n",
      "-------------------------------------------------------------------------------------\n",
      "Worst      |   +0.0198 ✔️ |   +0.0250 ✔️ |   -6.6956 ✔️ |   -6.8956 ✔️ |   +1.3391 ✔️ | 5/5\n",
      "Optimal solution found\n"
     ]
    },
    {
     "name": "stderr",
     "output_type": "stream",
     "text": [
      "  6%|▌         | 3/54 [01:47<29:13, 34.39s/it]"
     ]
    },
    {
     "name": "stdout",
     "output_type": "stream",
     "text": [
      "Firm       | FOC 1        | FOC 2         | SOC 1         | SOC 2        | Hessian      | Status\n",
      "-------------------------------------------------------------------------------------\n",
      "Worst      |   +0.0199 ✔️ |   +0.0278 ✔️ |   -6.7131 ✔️ |   -6.9131 ✔️ |   +1.3426 ✔️ | 5/5\n",
      "Optimal solution found\n"
     ]
    },
    {
     "name": "stderr",
     "output_type": "stream",
     "text": [
      "  7%|▋         | 4/54 [02:32<32:17, 38.75s/it]"
     ]
    },
    {
     "name": "stdout",
     "output_type": "stream",
     "text": [
      "Firm       | FOC 1        | FOC 2         | SOC 1         | SOC 2        | Hessian      | Status\n",
      "-------------------------------------------------------------------------------------\n",
      "Worst      |   +0.0192 ✔️ |   +0.0300 ✔️ |   -6.7312 ✔️ |   -6.9312 ✔️ |   +1.3462 ✔️ | 5/5\n",
      "Optimal solution found\n"
     ]
    },
    {
     "name": "stderr",
     "output_type": "stream",
     "text": [
      "  9%|▉         | 5/54 [03:12<31:53, 39.06s/it]"
     ]
    },
    {
     "name": "stdout",
     "output_type": "stream",
     "text": [
      "Firm       | FOC 1        | FOC 2         | SOC 1         | SOC 2        | Hessian      | Status\n",
      "-------------------------------------------------------------------------------------\n",
      "Worst      |   +0.0180 ✔️ |   +0.0316 ✔️ |   -6.7488 ✔️ |   -6.9488 ✔️ |   +1.3498 ✔️ | 5/5\n",
      "Optimal solution found\n"
     ]
    },
    {
     "name": "stderr",
     "output_type": "stream",
     "text": [
      " 11%|█         | 6/54 [03:51<31:22, 39.22s/it]"
     ]
    },
    {
     "name": "stdout",
     "output_type": "stream",
     "text": [
      "Firm       | FOC 1        | FOC 2         | SOC 1         | SOC 2        | Hessian      | Status\n",
      "-------------------------------------------------------------------------------------\n",
      "Worst      |   +0.0150 ✔️ |   +0.0329 ✔️ |   -6.7752 ✔️ |   -6.9752 ✔️ |   +1.3550 ✔️ | 5/5\n",
      "Optimal solution found\n"
     ]
    },
    {
     "name": "stderr",
     "output_type": "stream",
     "text": [
      " 13%|█▎        | 7/54 [04:58<37:40, 48.09s/it]"
     ]
    },
    {
     "name": "stdout",
     "output_type": "stream",
     "text": [
      "Firm       | FOC 1        | FOC 2         | SOC 1         | SOC 2        | Hessian      | Status\n",
      "-------------------------------------------------------------------------------------\n",
      "Worst      |   +0.0150 ✔️ |   +0.0330 ✔️ |   -6.7853 ✔️ |   -6.9853 ✔️ |   +1.3571 ✔️ | 5/5\n",
      "Optimal solution found\n"
     ]
    },
    {
     "name": "stderr",
     "output_type": "stream",
     "text": [
      " 15%|█▍        | 8/54 [05:35<34:17, 44.72s/it]"
     ]
    },
    {
     "name": "stdout",
     "output_type": "stream",
     "text": [
      "Firm       | FOC 1        | FOC 2         | SOC 1         | SOC 2        | Hessian      | Status\n",
      "-------------------------------------------------------------------------------------\n",
      "Worst      |   +0.0210 ✔️ |   +0.0327 ✔️ |   -6.8039 ✔️ |   -7.0039 ✔️ |   +1.3608 ✔️ | 5/5\n",
      "Optimal solution found\n"
     ]
    },
    {
     "name": "stderr",
     "output_type": "stream",
     "text": [
      " 17%|█▋        | 9/54 [06:26<34:53, 46.51s/it]"
     ]
    },
    {
     "name": "stdout",
     "output_type": "stream",
     "text": [
      "Firm       | FOC 1        | FOC 2         | SOC 1         | SOC 2        | Hessian      | Status\n",
      "-------------------------------------------------------------------------------------\n",
      "Worst      |   +0.0224 ✔️ |   +0.0318 ✔️ |   -6.8227 ✔️ |   -7.0227 ✔️ |   +1.3645 ✔️ | 5/5\n"
     ]
    }
   ],
   "source": [
    "# Let's see what happens in we change the free allocation of sector A keeping the cap at 80% of the BAU emissions\n",
    "free_allocation_sectorA = list(np.linspace(0, 1, 100))\n",
    "# Read the data from the csv file, if it exists, if not, just create a new one\n",
    "try:\n",
    "    df = pd.read_csv('../data/generated/exp02_varying_free_alloc_of_sector_1_at_80_per_cent_BAU.csv')\n",
    "    free_alloc = list(df['Free Allocation'])\n",
    "    caps2 = list(df['Emission Cap'])\n",
    "    permit_prices = list(df['Permit Price'])\n",
    "    outputs = list(df['Outputs'])\n",
    "    emissions = list(df['Emissions'])\n",
    "    profits = list(df['Profits'])\n",
    "except:\n",
    "    free_alloc = []\n",
    "    caps2 = []\n",
    "    permit_prices = []\n",
    "    outputs = []\n",
    "    emissions = []\n",
    "    profits = []\n",
    "# Loop through all the emission caps and calculate the permit price\n",
    "\n",
    "# Find all the caps that are not calculated yet (meaning that they are more than 0.5 different than a value of the caps2)\n",
    "for i in free_allocation_sectorA[:]:  # Iterate over a copy of the list\n",
    "    if any(abs(i - x) < 0.001 for x in free_alloc):\n",
    "        free_allocation_sectorA.remove(i)\n",
    "\n",
    "Regulator6.emission_cap = 0.8*Regulator6.BAU_emissions\n",
    "\n",
    "for i in tqdm.tqdm(free_allocation_sectorA):\n",
    "    Regulator6.sector_registry[1].free_emission_multiplier = i\n",
    "    Regulator6.optimization_with_least_squares(gurobi_print= False, print_output = False)\n",
    "    caps2.append(Regulator6.emission_cap)\n",
    "    free_alloc.append(i)\n",
    "    permit_prices.append(Regulator6.permit_price)\n",
    "    outputs.append(tuple([firm.actual_output for firm in Regulator6.firm_registry.values()]))\n",
    "    emissions.append(tuple([firm.emission for firm in Regulator6.firm_registry.values()]))\n",
    "    profits.append(tuple([firm.profit for firm in Regulator6.firm_registry.values()]))\n",
    "    Regulator6.equilibrium_tester(precision = 0.1, full_output=False, output = True)\n",
    "    # save all the data in a csv file\n",
    "    df = pd.DataFrame({'Free Allocation': free_alloc, 'Emission Cap': caps2, 'Permit Price': permit_prices, 'Outputs': outputs, 'Emissions': emissions, 'Profits': profits})\n",
    "    # Save the DataFrame to the specified path\n",
    "    df.to_csv('../data/generated/exp02_varying_free_alloc_of_sector_1_at_80_per_cent_BAU.csv', index=False)"
   ]
  },
  {
   "cell_type": "code",
   "execution_count": null,
   "metadata": {},
   "outputs": [],
   "source": [
    "# Let's see what happens in we change the free allocation of sector A keeping the cap at 80% of the BAU emissions\n",
    "free_allocation_sectorA = list(np.linspace(0, 1, 100))\n",
    "# Read the data from the csv file, if it exists, if not, just create a new one\n",
    "try:\n",
    "    df = pd.read_csv('../data/generated/exp03_varying_free_alloc_of_sector_1_at_70_per_cent_BAU.csv')\n",
    "    free_alloc = list(df['Free Allocation'])\n",
    "    caps2 = list(df['Emission Cap'])\n",
    "    permit_prices = list(df['Permit Price'])\n",
    "    outputs = list(df['Outputs'])\n",
    "    emissions = list(df['Emissions'])\n",
    "    profits = list(df['Profits'])\n",
    "except:\n",
    "    free_alloc = []\n",
    "    caps2 = []\n",
    "    permit_prices = []\n",
    "    outputs = []\n",
    "    emissions = []\n",
    "    profits = []\n",
    "# Loop through all the emission caps and calculate the permit price\n",
    "\n",
    "# Find all the caps that are not calculated yet (meaning that they are more than 0.5 different than a value of the caps2)\n",
    "for i in free_allocation_sectorA[:]:  # Iterate over a copy of the list\n",
    "    if any(abs(i - x) < 0.001 for x in free_alloc):\n",
    "        free_allocation_sectorA.remove(i)\n",
    "\n",
    "Regulator6.emission_cap = 0.7*Regulator6.BAU_emissions\n",
    "\n",
    "for i in tqdm.tqdm(free_allocation_sectorA):\n",
    "    Regulator6.sector_registry[1].free_emission_multiplier = i\n",
    "    Regulator6.optimization_with_least_squares(gurobi_print= False, print_output = False)\n",
    "    caps2.append(Regulator6.emission_cap)\n",
    "    free_alloc.append(i)\n",
    "    permit_prices.append(Regulator6.permit_price)\n",
    "    outputs.append(tuple([firm.actual_output for firm in Regulator6.firm_registry.values()]))\n",
    "    emissions.append(tuple([firm.emission for firm in Regulator6.firm_registry.values()]))\n",
    "    profits.append(tuple([firm.profit for firm in Regulator6.firm_registry.values()]))\n",
    "    Regulator6.equilibrium_tester(precision = 0.1, full_output=False, output = True)\n",
    "    # save all the data in a csv file\n",
    "    df = pd.DataFrame({'Free Allocation': free_alloc, 'Emission Cap': caps2, 'Permit Price': permit_prices, 'Outputs': outputs, 'Emissions': emissions, 'Profits': profits})\n",
    "    # Save the DataFrame to the specified path\n",
    "    df.to_csv('../data/generated/exp03_varying_free_alloc_of_sector_1_at_70_per_cent_BAU.csv', index=False)"
   ]
  }
 ],
 "metadata": {
  "kernelspec": {
   "display_name": "base",
   "language": "python",
   "name": "python3"
  },
  "language_info": {
   "codemirror_mode": {
    "name": "ipython",
    "version": 3
   },
   "file_extension": ".py",
   "mimetype": "text/x-python",
   "name": "python",
   "nbconvert_exporter": "python",
   "pygments_lexer": "ipython3",
   "version": "3.12.4"
  }
 },
 "nbformat": 4,
 "nbformat_minor": 2
}
