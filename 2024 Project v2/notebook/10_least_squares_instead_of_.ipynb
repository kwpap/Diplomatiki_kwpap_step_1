{
 "cells": [
  {
   "cell_type": "code",
   "execution_count": 23,
   "metadata": {},
   "outputs": [],
   "source": [
    "import sys\n",
    "import os\n",
    "sys.path.append(os.path.abspath(os.path.join('..', 'src')))\n",
    "\n",
    "from funkwpap import *\n",
    "import sympy as sp, pandas as pd, numpy as np, tqdm, time, sys, matplotlib.pyplot as plt\n",
    "from scipy.optimize import fsolve\n",
    "from random import random\n",
    "from scipy.optimize import minimize\n",
    "from gurobipy import *"
   ]
  },
  {
   "cell_type": "code",
   "execution_count": 24,
   "metadata": {},
   "outputs": [
    {
     "name": "stdout",
     "output_type": "stream",
     "text": [
      "{pp: 9.63159162051529, q1: 1.22802793161570, q2: 1.22802793161570, x1: -1.17986997351312, x2: 1.17986997351312}\n",
      "-4.2*q1 - 0.1*q2 + 4*x1 + 10 | -0.1*q1 - 200.2*q2 + 200*x2 + 10 | -pp + 4*q1 - 4*x1 | -pp + 200*q2 - 200*x2\n"
     ]
    }
   ],
   "source": [
    "pp = sp.symbols('pp') # permit price\n",
    "q1, q2 = sp.symbols('q1 q2') # quantity of firm1 and firm2\n",
    "x1, x2 = sp.symbols('x1 x2') # emission of firm1 and firm2\n",
    "cap = 0 # total emission cap\n",
    "\n",
    "profit1 = (10 - 0.1 * (q1 + q2)) * q1 - 2*(q1 - x1)**2 - pp*x1\n",
    "profit2 = (10 - 0.1 * (q1 + q2)) * q2 - 100*(q2 - x2)**2 - pp*x2\n",
    "\n",
    "# First order conditions\n",
    "foc1 = sp.diff(profit1, q1)\n",
    "foc2 = sp.diff(profit2, q2)\n",
    "foc3 = sp.diff(profit1, x1)\n",
    "foc4 = sp.diff(profit2, x2)\n",
    "\n",
    "# Solve for q1, q2, x1, x2\n",
    "solutions = sp.solve([foc1, foc2, foc3, foc4, x1 + x2 - cap], (q1, q2, x1, x2, pp))\n",
    "\n",
    "print(solutions)\n",
    "\n",
    "#Now again using a least squares approach and scipy optimization\n",
    "print(foc1,\"|\", foc2,\"|\", foc3,\"|\", foc4)\n",
    "\n",
    "\n",
    "\n",
    "\n"
   ]
  },
  {
   "cell_type": "markdown",
   "metadata": {},
   "source": [
    "Παρακάτω λύνουμε το ίδιο βάζοντας ουσιαστικά κάθε μεταβλητή που μας ενδιαφέρει στο τετράγωνο. και ελαχιστοποιώντας το άθροισμά του. "
   ]
  },
  {
   "cell_type": "code",
   "execution_count": 25,
   "metadata": {},
   "outputs": [
    {
     "name": "stdout",
     "output_type": "stream",
     "text": [
      "Gurobi Optimizer version 11.0.3 build v11.0.3rc0 (win64 - Windows 10.0 (19045.2))\n",
      "\n",
      "CPU model: Intel(R) Core(TM) i7-7700HQ CPU @ 2.80GHz, instruction set [SSE2|AVX|AVX2]\n",
      "Thread count: 4 physical cores, 8 logical processors, using up to 8 threads\n",
      "\n",
      "Optimize a model with 3 rows, 5 columns and 6 nonzeros\n",
      "Model fingerprint: 0xd94b7b5b\n",
      "Model has 15 quadratic objective terms\n",
      "Coefficient statistics:\n",
      "  Matrix range     [1e+00, 1e+00]\n",
      "  Objective range  [8e+01, 4e+03]\n",
      "  QObjective range [2e+00, 3e+05]\n",
      "  Bounds range     [0e+00, 0e+00]\n",
      "  RHS range        [0e+00, 0e+00]\n",
      "Presolve removed 3 rows and 2 columns\n",
      "Presolve time: 0.01s\n",
      "Presolved: 0 rows, 3 columns, 0 nonzeros\n",
      "Presolved model has 6 quadratic objective terms\n",
      "Ordering time: 0.00s\n",
      "\n",
      "Barrier statistics:\n",
      " Free vars  : 2\n",
      " AA' NZ     : 1.000e+00\n",
      " Factor NZ  : 3.000e+00\n",
      " Factor Ops : 5.000e+00 (less than 1 second per iteration)\n",
      " Threads    : 1\n",
      "\n",
      "                  Objective                Residual\n",
      "Iter       Primal          Dual         Primal    Dual     Compl     Time\n",
      "   0   2.12325676e+08 -2.12747651e+08  4.94e+02 1.68e-01  1.00e+06     0s\n",
      "   1   1.45970627e+08 -1.46291865e+08  4.94e-04 2.84e-14  9.51e+04     0s\n",
      "   2   2.13488650e+07 -2.14718605e+07  4.94e-10 4.26e-14  1.39e+04     0s\n",
      "   3   3.11338668e+06 -3.16040521e+06  2.13e-14 7.11e-15  2.04e+03     0s\n",
      "   4   4.50633655e+05 -4.68536589e+05  1.42e-14 1.78e-15  2.99e+02     0s\n",
      "   5   6.39486140e+04 -7.06955498e+04  1.42e-14 1.78e-15  4.38e+01     0s\n",
      "   6   8.61243186e+03 -1.10870750e+04  4.88e-15 8.88e-16  6.41e+00     0s\n",
      "   7   1.00730910e+03 -1.85112117e+03  1.78e-15 1.11e-16  9.30e-01     0s\n",
      "   8   7.90643842e+01 -3.13322075e+02  1.11e-16 5.55e-17  1.28e-01     0s\n",
      "   9   1.78189941e+00 -3.59901785e+01  3.33e-16 1.39e-17  1.23e-02     0s\n",
      "  10   1.41691398e-02 -4.88927232e-01  5.55e-17 2.78e-17  1.64e-04     0s\n",
      "  11   1.37495867e-02  1.32470161e-02  2.22e-16 0.00e+00  1.64e-07     0s\n",
      "  12   1.37495863e-02  1.37490832e-02  1.11e-16 6.51e-18  1.64e-10     0s\n",
      "\n",
      "Barrier solved model in 12 iterations and 0.04 seconds (0.00 work units)\n",
      "Optimal objective 1.37495863e-02\n",
      "\n",
      "q1: 2.39351\n",
      "q2: 0.04846\n",
      "x1: 0\n",
      "x2: 0\n",
      "pp: 9.63302\n"
     ]
    }
   ],
   "source": [
    "example = Model('example')\n",
    "q1 = example.addVar(vtype=GRB.CONTINUOUS, name='q1', lb=0)\n",
    "q2 = example.addVar(vtype=GRB.CONTINUOUS, name='q2', lb=0)\n",
    "x1 = example.addVar(vtype=GRB.CONTINUOUS, name='x1',lb=0)\n",
    "x2 = example.addVar(vtype=GRB.CONTINUOUS, name='x2',lb=0)\n",
    "pp = example.addVar(vtype=GRB.CONTINUOUS, name='pp',lb=0)\n",
    "foc1 = -4.2*q1 - 0.1*q2 + 4*x1 + 10\n",
    "foc2 = -0.1*q1 - 200.2*q2 + 200*x2 + 10\n",
    "foc3 = -pp + 4*q1 - 4*x1\n",
    "foc4 = -pp + 200*q2 - 200*x2\n",
    "obj_fn = foc1**2 + foc2**2 + foc3**2 + foc4**2 + (cap - x1 - x2)**2\n",
    "example.setObjective(obj_fn, GRB.MINIMIZE)\n",
    "\n",
    "example.addConstr(x1 + x2 <= cap)\n",
    "example.addConstr(q1 >= x1)\n",
    "example.addConstr(q2 >= x2)\n",
    "\n",
    "example.optimize()\n",
    "\n",
    "for v in example.getVars():\n",
    "    print('%s: %g' % (v.varName, v.x))"
   ]
  },
  {
   "cell_type": "markdown",
   "metadata": {},
   "source": [
    "Εδώ θα κάνουμε το ίδιο, αλλά αυτήν την φορά θα κάνουμε την δική μου ιδέα με τα constrains και το αθροισμα αλλού."
   ]
  },
  {
   "cell_type": "code",
   "execution_count": 26,
   "metadata": {},
   "outputs": [
    {
     "name": "stdout",
     "output_type": "stream",
     "text": [
      "Gurobi Optimizer version 11.0.3 build v11.0.3rc0 (win64 - Windows 10.0 (19045.2))\n",
      "\n",
      "CPU model: Intel(R) Core(TM) i7-7700HQ CPU @ 2.80GHz, instruction set [SSE2|AVX|AVX2]\n",
      "Thread count: 4 physical cores, 8 logical processors, using up to 8 threads\n",
      "\n",
      "Optimize a model with 7 rows, 5 columns and 18 nonzeros\n",
      "Model fingerprint: 0x4599d829\n",
      "Coefficient statistics:\n",
      "  Matrix range     [1e-01, 2e+02]\n",
      "  Objective range  [1e+00, 1e+00]\n",
      "  Bounds range     [0e+00, 0e+00]\n",
      "  RHS range        [1e+01, 1e+01]\n",
      "Presolve removed 3 rows and 2 columns\n",
      "Presolve time: 0.01s\n",
      "\n",
      "Solved in 0 iterations and 0.01 seconds (0.00 work units)\n",
      "Infeasible or unbounded model\n"
     ]
    },
    {
     "ename": "AttributeError",
     "evalue": "Unable to retrieve attribute 'x'",
     "output_type": "error",
     "traceback": [
      "\u001b[1;31m---------------------------------------------------------------------------\u001b[0m",
      "\u001b[1;31mAttributeError\u001b[0m                            Traceback (most recent call last)",
      "Cell \u001b[1;32mIn[26], line 24\u001b[0m\n\u001b[0;32m     21\u001b[0m example\u001b[38;5;241m.\u001b[39moptimize()\n\u001b[0;32m     23\u001b[0m \u001b[38;5;28;01mfor\u001b[39;00m v \u001b[38;5;129;01min\u001b[39;00m example\u001b[38;5;241m.\u001b[39mgetVars():\n\u001b[1;32m---> 24\u001b[0m     \u001b[38;5;28mprint\u001b[39m(\u001b[38;5;124m'\u001b[39m\u001b[38;5;132;01m%s\u001b[39;00m\u001b[38;5;124m: \u001b[39m\u001b[38;5;132;01m%g\u001b[39;00m\u001b[38;5;124m'\u001b[39m \u001b[38;5;241m%\u001b[39m (v\u001b[38;5;241m.\u001b[39mvarName, v\u001b[38;5;241m.\u001b[39mx))\n",
      "File \u001b[1;32msrc\\\\gurobipy\\\\var.pxi:125\u001b[0m, in \u001b[0;36mgurobipy.Var.__getattr__\u001b[1;34m()\u001b[0m\n",
      "File \u001b[1;32msrc\\\\gurobipy\\\\var.pxi:153\u001b[0m, in \u001b[0;36mgurobipy.Var.getAttr\u001b[1;34m()\u001b[0m\n",
      "File \u001b[1;32msrc\\\\gurobipy\\\\attrutil.pxi:103\u001b[0m, in \u001b[0;36mgurobipy._getattr\u001b[1;34m()\u001b[0m\n",
      "\u001b[1;31mAttributeError\u001b[0m: Unable to retrieve attribute 'x'"
     ]
    }
   ],
   "source": [
    "example = Model('example')\n",
    "q1 = example.addVar(vtype=GRB.CONTINUOUS, name='q1', lb=0)\n",
    "q2 = example.addVar(vtype=GRB.CONTINUOUS, name='q2', lb=0)\n",
    "x1 = example.addVar(vtype=GRB.CONTINUOUS, name='x1',lb=0)\n",
    "x2 = example.addVar(vtype=GRB.CONTINUOUS, name='x2',lb=0)\n",
    "pp = example.addVar(vtype=GRB.CONTINUOUS, name='pp',lb=0)\n",
    "foc1 = -4.2*q1 - 0.1*q2 + 4*x1 + 10\n",
    "foc2 = -0.1*q1 - 200.2*q2 + 200*x2 + 10\n",
    "foc3 = -pp + 4*q1 - 4*x1\n",
    "foc4 = -pp + 200*q2 - 200*x2\n",
    "obj_fn =   x1 + x2\n",
    "example.setObjective(obj_fn, GRB.MAXIMIZE)\n",
    "example.addConstr(x1 + x2 <= cap)\n",
    "example.addConstr(q1 >= x1)\n",
    "example.addConstr(q2 >= x2)\n",
    "example.addConstr(foc1 == 0)\n",
    "example.addConstr(foc2 == 0)\n",
    "example.addConstr(foc3 == 0)\n",
    "example.addConstr(foc4 == 0)\n",
    "\n",
    "example.optimize()\n",
    "\n",
    "for v in example.getVars():\n",
    "    print('%s: %g' % (v.varName, v.x))"
   ]
  },
  {
   "cell_type": "code",
   "execution_count": 22,
   "metadata": {},
   "outputs": [
    {
     "name": "stdout",
     "output_type": "stream",
     "text": [
      "Gurobi Optimizer version 11.0.3 build v11.0.3rc0 (win64 - Windows 10.0 (19045.2))\n",
      "\n",
      "CPU model: Intel(R) Core(TM) i7-7700HQ CPU @ 2.80GHz, instruction set [SSE2|AVX|AVX2]\n",
      "Thread count: 4 physical cores, 8 logical processors, using up to 8 threads\n",
      "\n",
      "Optimize a model with 7 rows, 5 columns and 18 nonzeros\n",
      "Model fingerprint: 0x2ff2b56e\n",
      "Model has 5 quadratic objective terms\n",
      "Coefficient statistics:\n",
      "  Matrix range     [1e-01, 2e+02]\n",
      "  Objective range  [1e+01, 1e+01]\n",
      "  QObjective range [2e-01, 8e+00]\n",
      "  Bounds range     [0e+00, 0e+00]\n",
      "  RHS range        [2e+00, 1e+01]\n",
      "\n",
      "Continuous model is non-convex -- solving as a MIP\n",
      "\n",
      "Presolve removed 3 rows and 1 columns\n",
      "Presolve time: 0.00s\n",
      "Presolved: 11 rows, 10 columns, 34 nonzeros\n",
      "Presolved model has 2 quadratic constraint(s)\n",
      "Presolved model has 3 bilinear constraint(s)\n",
      "Variable types: 10 continuous, 0 integer (0 binary)\n",
      "\n",
      "Root relaxation: infeasible, 8 iterations, 0.00 seconds (0.00 work units)\n",
      "\n",
      "    Nodes    |    Current Node    |     Objective Bounds      |     Work\n",
      " Expl Unexpl |  Obj  Depth IntInf | Incumbent    BestBd   Gap | It/Node Time\n",
      "\n",
      "     0     0 infeasible    0               - infeasible      -     -    0s\n",
      "\n",
      "Explored 1 nodes (8 simplex iterations) in 0.03 seconds (0.00 work units)\n",
      "Thread count was 8 (of 8 available processors)\n",
      "\n",
      "Solution count 0\n",
      "No other solutions better than -1e+100\n",
      "\n",
      "Model is infeasible or unbounded\n",
      "Best objective -, best bound -, gap -\n"
     ]
    },
    {
     "ename": "AttributeError",
     "evalue": "Unable to retrieve attribute 'x'",
     "output_type": "error",
     "traceback": [
      "\u001b[1;31m---------------------------------------------------------------------------\u001b[0m",
      "\u001b[1;31mAttributeError\u001b[0m                            Traceback (most recent call last)",
      "Cell \u001b[1;32mIn[22], line 24\u001b[0m\n\u001b[0;32m     21\u001b[0m example\u001b[38;5;241m.\u001b[39moptimize()\n\u001b[0;32m     23\u001b[0m \u001b[38;5;28;01mfor\u001b[39;00m v \u001b[38;5;129;01min\u001b[39;00m example\u001b[38;5;241m.\u001b[39mgetVars():\n\u001b[1;32m---> 24\u001b[0m     \u001b[38;5;28mprint\u001b[39m(\u001b[38;5;124m'\u001b[39m\u001b[38;5;132;01m%s\u001b[39;00m\u001b[38;5;124m: \u001b[39m\u001b[38;5;132;01m%g\u001b[39;00m\u001b[38;5;124m'\u001b[39m \u001b[38;5;241m%\u001b[39m (v\u001b[38;5;241m.\u001b[39mvarName, v\u001b[38;5;241m.\u001b[39mx))\n",
      "File \u001b[1;32msrc\\\\gurobipy\\\\var.pxi:125\u001b[0m, in \u001b[0;36mgurobipy.Var.__getattr__\u001b[1;34m()\u001b[0m\n",
      "File \u001b[1;32msrc\\\\gurobipy\\\\var.pxi:153\u001b[0m, in \u001b[0;36mgurobipy.Var.getAttr\u001b[1;34m()\u001b[0m\n",
      "File \u001b[1;32msrc\\\\gurobipy\\\\attrutil.pxi:103\u001b[0m, in \u001b[0;36mgurobipy._getattr\u001b[1;34m()\u001b[0m\n",
      "\u001b[1;31mAttributeError\u001b[0m: Unable to retrieve attribute 'x'"
     ]
    }
   ],
   "source": [
    "example = Model('example')\n",
    "q1 = example.addVar(vtype=GRB.CONTINUOUS, name='q1', lb=0)\n",
    "q2 = example.addVar(vtype=GRB.CONTINUOUS, name='q2', lb=0)\n",
    "x1 = example.addVar(vtype=GRB.CONTINUOUS, name='x1',lb=0)\n",
    "x2 = example.addVar(vtype=GRB.CONTINUOUS, name='x2',lb=0)\n",
    "pp = example.addVar(vtype=GRB.CONTINUOUS, name='pp',lb=0)\n",
    "foc1 = -4.2*q1 - 0.1*q2 + 4*x1 + 10\n",
    "foc2 = -0.1*q1 - 200.2*q2 + 200*x2 + 10\n",
    "foc3 = -pp + 4*q1 - 4*x1\n",
    "foc4 = -pp + 200*q2 - 200*x2\n",
    "obj_fn =   (10 - 0.1 * (q1 + q2)) * q1 - 2*(q1 - x1)**2 - pp*x1\n",
    "example.setObjective(obj_fn, GRB.MAXIMIZE)\n",
    "example.addConstr(x1 + x2 <= cap)\n",
    "example.addConstr(q1 >= x1)\n",
    "example.addConstr(q2 >= x2)\n",
    "example.addConstr(foc1 == 0)\n",
    "example.addConstr(foc2 == 0)\n",
    "example.addConstr(foc3 == 0)\n",
    "example.addConstr(foc4 == 0)\n",
    "\n",
    "example.optimize()\n",
    "\n",
    "for v in example.getVars():\n",
    "    print('%s: %g' % (v.varName, v.x))"
   ]
  }
 ],
 "metadata": {
  "kernelspec": {
   "display_name": "base",
   "language": "python",
   "name": "python3"
  },
  "language_info": {
   "codemirror_mode": {
    "name": "ipython",
    "version": 3
   },
   "file_extension": ".py",
   "mimetype": "text/x-python",
   "name": "python",
   "nbconvert_exporter": "python",
   "pygments_lexer": "ipython3",
   "version": "3.12.4"
  }
 },
 "nbformat": 4,
 "nbformat_minor": 2
}
